{
 "cells": [
  {
   "cell_type": "markdown",
   "id": "b21eb18a-14b3-4727-b148-95ddd2d9fc35",
   "metadata": {},
   "source": [
    "## Parameters"
   ]
  },
  {
   "cell_type": "code",
   "execution_count": 44,
   "id": "2d05a537-ac5d-4b44-b0bb-07d42cb1633a",
   "metadata": {
    "tags": [
     "parameters"
    ]
   },
   "outputs": [],
   "source": [
    "dest_dir = \"/tmp/faostat_rl\""
   ]
  },
  {
   "cell_type": "markdown",
   "id": "35111303-a249-4b86-9319-505a23dd9e8d",
   "metadata": {
    "tags": []
   },
   "source": [
    "## Imports"
   ]
  },
  {
   "cell_type": "code",
<<<<<<< HEAD
   "execution_count": 62,
=======
   "execution_count": 45,
>>>>>>> 423e36ba331cf26e52e549ea271a25555267cbe2
   "id": "0a360629-dd9f-42af-81a3-f77e5f5fa4bf",
   "metadata": {
    "tags": []
   },
   "outputs": [],
   "source": [
    "from owid import catalog\n",
    "import json\n",
<<<<<<< HEAD
    "import re\n",
    "import wikipedia\n",
    "from pathlib import Path\n"
=======
    "from pathlib import Path"
>>>>>>> 423e36ba331cf26e52e549ea271a25555267cbe2
   ]
  },
  {
   "cell_type": "code",
   "execution_count": 46,
   "id": "71ff6a45-359b-42de-a95e-5bb4fcf74423",
   "metadata": {},
   "outputs": [],
   "source": [
    "from etl.paths import BASE_DIR as base_path"
   ]
  },
  {
   "cell_type": "markdown",
   "id": "5f3a21e6-af5f-4a1e-851e-3ccc9431fed4",
   "metadata": {},
   "source": [
    "## Load meadow data"
   ]
  },
  {
   "cell_type": "code",
   "execution_count": 47,
   "id": "f48d1fdf-78ba-4e6a-b6eb-66bc4c0d8b61",
   "metadata": {},
   "outputs": [],
   "source": [
    "meadow_path = base_path / \"data/meadow/living_planet/2020-09-10/lpd\"\n",
    "\n",
    "lpd_meadow = catalog.Dataset(meadow_path)"
   ]
  },
  {
   "cell_type": "markdown",
   "id": "0dca9203-031e-4bba-883c-35cbc036889c",
   "metadata": {},
   "source": [
    "#### Name of the feather file in the above directory"
   ]
  },
  {
   "cell_type": "code",
   "execution_count": 48,
   "id": "b6d141aa-8627-42e6-8819-b3aa980c4dcf",
   "metadata": {},
   "outputs": [],
   "source": [
    "df = lpd_meadow[\"Living Planet Database\"]"
   ]
  },
  {
   "cell_type": "code",
   "execution_count": 49,
   "id": "865fa164-ee7e-450d-8669-aff702bf5e5b",
   "metadata": {},
   "outputs": [
    {
     "data": {
      "text/plain": [
       "Dataset(path='/Users/fionaspooner/Documents/OWID/etl/data/meadow/living_planet/2020-09-10/lpd', metadata=DatasetMeta(namespace='living_planet', short_name='lpd', title='Living Planet Database - (2020-09)', description='The Living Planet Database contains tens of thousands of vertebrate population time-series from around the world. It is the largest collection of its kind, and is publicly available, making it an invaluable tool for both research and conservation. This dataset contains time-series of population abundance data for vertebrate species spanning years between 1970 and 2016. These data were used in the Living Planet Report 2020. Confidential records that cannot be shared have been removed from this data set.', sources=[Source(name='The Zoological Society of London', description=None, url='http://stats.livingplanetindex.org/', source_data_url=None, owid_data_url='http://nyc3.digitaloceanspaces.com/walden/living_planet/2020-09-10/lpd.zip', date_accessed='2021-11-22', publication_date='2020-09-10', publication_year=2020)], licenses=[License(name=None, url='https://livingplanetindex.org/documents/data_agreement.pdf')], source_checksum='bd5ff0c436f539fbf928ef7ff21c59ed'))"
      ]
     },
     "execution_count": 49,
     "metadata": {},
     "output_type": "execute_result"
    }
   ],
   "source": [
    "lpd_meadow"
   ]
  },
  {
   "cell_type": "markdown",
   "id": "96801d89-db28-40e3-b836-d1feb099d9bf",
   "metadata": {},
   "source": [
    "Run the country harmonizer tool "
   ]
  },
  {
   "cell_type": "markdown",
   "id": "5f77f827-1697-4da9-b9c0-cad4fae92d2b",
   "metadata": {},
   "source": [
    "'.venv/bin/harmonize <path/to/input.feather> <country-field> <path/to/output.mapping.json>'\n",
    "   "
   ]
  },
  {
   "cell_type": "code",
   "execution_count": 50,
   "id": "66048181-801e-459e-9ae7-0d738da08e05",
   "metadata": {},
   "outputs": [],
   "source": [
    "filename = (\n",
    "    base_path\n",
    "    / \"etl/steps/data/garden/living_planet/2020-09-10/living_planet.mapping.json\"\n",
    ")\n",
    "\n",
    "with open(filename) as f:\n",
    "    cm = json.load(f)"
   ]
  },
  {
   "cell_type": "code",
   "execution_count": 52,
   "id": "80c194b3-eab1-464c-9186-60cf13afd09f",
   "metadata": {},
   "outputs": [
    {
     "data": {
      "text/html": [
       "<div>\n",
       "<style scoped>\n",
       "    .dataframe tbody tr th:only-of-type {\n",
       "        vertical-align: middle;\n",
       "    }\n",
       "\n",
       "    .dataframe tbody tr th {\n",
       "        vertical-align: top;\n",
       "    }\n",
       "\n",
       "    .dataframe thead th {\n",
       "        text-align: right;\n",
       "    }\n",
       "</style>\n",
       "<table border=\"1\" class=\"dataframe\">\n",
       "  <thead>\n",
       "    <tr style=\"text-align: right;\">\n",
       "      <th></th>\n",
       "      <th>ID</th>\n",
       "      <th>Binomial</th>\n",
       "      <th>Citation</th>\n",
       "      <th>Class</th>\n",
       "      <th>Order</th>\n",
       "      <th>Family</th>\n",
       "      <th>Genus</th>\n",
       "      <th>Species</th>\n",
       "      <th>Subspecies</th>\n",
       "      <th>Common_name</th>\n",
       "      <th>Location</th>\n",
       "      <th>Country</th>\n",
       "      <th>Latitude</th>\n",
       "      <th>Longitude</th>\n",
       "      <th>Specific_location</th>\n",
       "      <th>Units</th>\n",
       "      <th>Year</th>\n",
       "      <th>value</th>\n",
       "    </tr>\n",
       "  </thead>\n",
       "  <tbody>\n",
       "    <tr>\n",
       "      <th>0</th>\n",
       "      <td>4</td>\n",
       "      <td>Copsychus_sechellarum</td>\n",
       "      <td>Komdeur, J. (1996). Breeding of the Seychelles...</td>\n",
       "      <td>Aves</td>\n",
       "      <td>Passeriformes</td>\n",
       "      <td>Muscicapidae</td>\n",
       "      <td>Copsychus</td>\n",
       "      <td>sechellarum</td>\n",
       "      <td>NaN</td>\n",
       "      <td>Seychelles magpie-robin</td>\n",
       "      <td>Fregate Island, Seychelles</td>\n",
       "      <td>Seychelles</td>\n",
       "      <td>-4.583330</td>\n",
       "      <td>55.933331</td>\n",
       "      <td>Yes</td>\n",
       "      <td>Number of individuals</td>\n",
       "      <td>1950</td>\n",
       "      <td>NaN</td>\n",
       "    </tr>\n",
       "    <tr>\n",
       "      <th>1</th>\n",
       "      <td>5</td>\n",
       "      <td>Falco_punctatus</td>\n",
       "      <td>Groombridge, J. J., Bruford, M.W., Jones, C.G,...</td>\n",
       "      <td>Aves</td>\n",
       "      <td>Falconiformes</td>\n",
       "      <td>Falconidae</td>\n",
       "      <td>Falco</td>\n",
       "      <td>punctatus</td>\n",
       "      <td>NaN</td>\n",
       "      <td>Mauritius kestrel</td>\n",
       "      <td>Western Population, Mauritius</td>\n",
       "      <td>Mauritius</td>\n",
       "      <td>-20.299999</td>\n",
       "      <td>57.583328</td>\n",
       "      <td>No</td>\n",
       "      <td>Number of breeding pairs</td>\n",
       "      <td>1950</td>\n",
       "      <td>NaN</td>\n",
       "    </tr>\n",
       "    <tr>\n",
       "      <th>2</th>\n",
       "      <td>6</td>\n",
       "      <td>Pternistis_ochropectus</td>\n",
       "      <td>WPA/Birdlife/ SSC Partridge, Q. a. F. S. G. (2...</td>\n",
       "      <td>Aves</td>\n",
       "      <td>Galliformes</td>\n",
       "      <td>Phasianidae</td>\n",
       "      <td>Pternistis</td>\n",
       "      <td>ochropectus</td>\n",
       "      <td>NaN</td>\n",
       "      <td>Djibouti francolin</td>\n",
       "      <td>Foret du Day, Djibouti</td>\n",
       "      <td>Djibouti</td>\n",
       "      <td>11.766670</td>\n",
       "      <td>42.658058</td>\n",
       "      <td>Yes</td>\n",
       "      <td>Number of individuals</td>\n",
       "      <td>1950</td>\n",
       "      <td>NaN</td>\n",
       "    </tr>\n",
       "    <tr>\n",
       "      <th>3</th>\n",
       "      <td>7</td>\n",
       "      <td>Gyps_coprotheres</td>\n",
       "      <td>WWF-SA (2000). Cape griffon.\"\"</td>\n",
       "      <td>Aves</td>\n",
       "      <td>Accipitriformes</td>\n",
       "      <td>Accipitridae</td>\n",
       "      <td>Gyps</td>\n",
       "      <td>coprotheres</td>\n",
       "      <td>NaN</td>\n",
       "      <td>Cape vulture</td>\n",
       "      <td>Botswana</td>\n",
       "      <td>Botswana</td>\n",
       "      <td>-22.000000</td>\n",
       "      <td>24.000000</td>\n",
       "      <td>No</td>\n",
       "      <td>Individuals</td>\n",
       "      <td>1950</td>\n",
       "      <td>NaN</td>\n",
       "    </tr>\n",
       "    <tr>\n",
       "      <th>4</th>\n",
       "      <td>8</td>\n",
       "      <td>Gyps_coprotheres</td>\n",
       "      <td>WWF-SA (2000). Cape griffon.\"\"</td>\n",
       "      <td>Aves</td>\n",
       "      <td>Accipitriformes</td>\n",
       "      <td>Accipitridae</td>\n",
       "      <td>Gyps</td>\n",
       "      <td>coprotheres</td>\n",
       "      <td>NaN</td>\n",
       "      <td>Cape vulture</td>\n",
       "      <td>Lesotho</td>\n",
       "      <td>Lesotho</td>\n",
       "      <td>-29.500000</td>\n",
       "      <td>28.250000</td>\n",
       "      <td>No</td>\n",
       "      <td>Number of individuals</td>\n",
       "      <td>1950</td>\n",
       "      <td>NaN</td>\n",
       "    </tr>\n",
       "  </tbody>\n",
       "</table>\n",
       "</div>"
      ],
      "text/plain": [
       "   ID                Binomial  \\\n",
       "0   4   Copsychus_sechellarum   \n",
       "1   5         Falco_punctatus   \n",
       "2   6  Pternistis_ochropectus   \n",
       "3   7        Gyps_coprotheres   \n",
       "4   8        Gyps_coprotheres   \n",
       "\n",
       "                                            Citation Class            Order  \\\n",
       "0  Komdeur, J. (1996). Breeding of the Seychelles...  Aves    Passeriformes   \n",
       "1  Groombridge, J. J., Bruford, M.W., Jones, C.G,...  Aves    Falconiformes   \n",
       "2  WPA/Birdlife/ SSC Partridge, Q. a. F. S. G. (2...  Aves      Galliformes   \n",
       "3                     WWF-SA (2000). Cape griffon.\"\"  Aves  Accipitriformes   \n",
       "4                     WWF-SA (2000). Cape griffon.\"\"  Aves  Accipitriformes   \n",
       "\n",
       "         Family       Genus      Species Subspecies              Common_name  \\\n",
       "0  Muscicapidae   Copsychus  sechellarum        NaN  Seychelles magpie-robin   \n",
       "1    Falconidae       Falco    punctatus        NaN        Mauritius kestrel   \n",
       "2   Phasianidae  Pternistis  ochropectus        NaN       Djibouti francolin   \n",
       "3  Accipitridae        Gyps  coprotheres        NaN             Cape vulture   \n",
       "4  Accipitridae        Gyps  coprotheres        NaN             Cape vulture   \n",
       "\n",
       "                        Location     Country   Latitude  Longitude  \\\n",
       "0     Fregate Island, Seychelles  Seychelles  -4.583330  55.933331   \n",
       "1  Western Population, Mauritius   Mauritius -20.299999  57.583328   \n",
       "2         Foret du Day, Djibouti    Djibouti  11.766670  42.658058   \n",
       "3                       Botswana    Botswana -22.000000  24.000000   \n",
       "4                        Lesotho     Lesotho -29.500000  28.250000   \n",
       "\n",
       "  Specific_location                     Units  Year  value  \n",
       "0               Yes     Number of individuals  1950    NaN  \n",
       "1                No  Number of breeding pairs  1950    NaN  \n",
       "2               Yes     Number of individuals  1950    NaN  \n",
       "3                No               Individuals  1950    NaN  \n",
       "4                No     Number of individuals  1950    NaN  "
      ]
     },
     "execution_count": 52,
     "metadata": {},
     "output_type": "execute_result"
    }
   ],
   "source": [
    "df.head()"
   ]
  },
  {
   "cell_type": "code",
   "execution_count": 53,
   "id": "26d0deae-0722-4279-ba57-2de1c143836b",
   "metadata": {},
   "outputs": [],
   "source": [
    "df[\"Country\"] = df[\"Country\"].apply(lambda a: cm.get(a, a))"
   ]
  },
  {
   "cell_type": "code",
   "execution_count": 54,
   "id": "d78952b5-e625-446c-bd5f-b7d79d0a0ca8",
   "metadata": {},
   "outputs": [],
   "source": [
    "df = df.drop(\n",
    "    [\"ID\", \"Class\", \"Citation\", \"Order\", \"Family\", \"Genus\", \"Species\", \"Subspecies\"],\n",
    "    axis=1,\n",
    ")"
   ]
  },
  {
<<<<<<< HEAD
   "cell_type": "markdown",
   "id": "efa381ad-c3d8-4194-bb0a-d26e82c9759c",
   "metadata": {},
   "source": [
    "## Wikipedia name"
   ]
  },
  {
   "cell_type": "code",
   "execution_count": 65,
   "id": "9cff79d4-f101-4a45-9a14-687989ef1e10",
   "metadata": {},
   "outputs": [
    {
     "data": {
      "text/plain": [
       "0            Copsychus sechellarum\n",
       "1                  Falco punctatus\n",
       "2           Pternistis ochropectus\n",
       "3                 Gyps coprotheres\n",
       "17                  Gyps africanus\n",
       "                   ...            \n",
       "15336             Smilisca phaeota\n",
       "15337    Strabomantis bufoniformis\n",
       "15338           Teratohyla spinosa\n",
       "15339                Cottus specus\n",
       "15341            Anguilla japonica\n",
       "Name: Binomial, Length: 4182, dtype: object"
      ]
     },
     "execution_count": 65,
     "metadata": {},
     "output_type": "execute_result"
    }
   ],
   "source": [
    "binom = df['Binomial'].drop_duplicates().str.replace(r'_', ' ')\n",
    "binom "
   ]
  },
  {
=======
>>>>>>> 423e36ba331cf26e52e549ea271a25555267cbe2
   "cell_type": "code",
   "execution_count": 57,
   "id": "340e110d-82f4-4e3d-b329-40349199bce8",
   "metadata": {},
   "outputs": [
    {
     "data": {
      "text/html": [
       "<div>\n",
       "<style scoped>\n",
       "    .dataframe tbody tr th:only-of-type {\n",
       "        vertical-align: middle;\n",
       "    }\n",
       "\n",
       "    .dataframe tbody tr th {\n",
       "        vertical-align: top;\n",
       "    }\n",
       "\n",
       "    .dataframe thead th {\n",
       "        text-align: right;\n",
       "    }\n",
       "</style>\n",
       "<table border=\"1\" class=\"dataframe\">\n",
       "  <thead>\n",
       "    <tr style=\"text-align: right;\">\n",
       "      <th></th>\n",
       "      <th></th>\n",
       "      <th></th>\n",
       "      <th></th>\n",
       "      <th></th>\n",
       "      <th></th>\n",
       "      <th></th>\n",
       "      <th></th>\n",
       "      <th>Year</th>\n",
       "      <th>value</th>\n",
       "    </tr>\n",
       "    <tr>\n",
       "      <th>Binomial</th>\n",
       "      <th>Common_name</th>\n",
       "      <th>Location</th>\n",
       "      <th>Country</th>\n",
       "      <th>Latitude</th>\n",
       "      <th>Longitude</th>\n",
       "      <th>Specific_location</th>\n",
       "      <th>Units</th>\n",
       "      <th></th>\n",
       "      <th></th>\n",
       "    </tr>\n",
       "  </thead>\n",
       "  <tbody>\n",
       "    <tr>\n",
       "      <th>Copsychus_sechellarum</th>\n",
       "      <th>Seychelles magpie-robin</th>\n",
       "      <th>Fregate Island, Seychelles</th>\n",
       "      <th>Seychelles</th>\n",
       "      <th>-4.583330</th>\n",
       "      <th>55.933331</th>\n",
       "      <th>Yes</th>\n",
       "      <th>Number of individuals</th>\n",
       "      <td>1950</td>\n",
       "      <td>NaN</td>\n",
       "    </tr>\n",
       "    <tr>\n",
       "      <th>Falco_punctatus</th>\n",
       "      <th>Mauritius kestrel</th>\n",
       "      <th>Western Population, Mauritius</th>\n",
       "      <th>Mauritius</th>\n",
       "      <th>-20.299999</th>\n",
       "      <th>57.583328</th>\n",
       "      <th>No</th>\n",
       "      <th>Number of breeding pairs</th>\n",
       "      <td>1950</td>\n",
       "      <td>NaN</td>\n",
       "    </tr>\n",
       "    <tr>\n",
       "      <th>Pternistis_ochropectus</th>\n",
       "      <th>Djibouti francolin</th>\n",
       "      <th>Foret du Day, Djibouti</th>\n",
       "      <th>Djibouti</th>\n",
       "      <th>11.766670</th>\n",
       "      <th>42.658058</th>\n",
       "      <th>Yes</th>\n",
       "      <th>Number of individuals</th>\n",
       "      <td>1950</td>\n",
       "      <td>NaN</td>\n",
       "    </tr>\n",
       "    <tr>\n",
       "      <th rowspan=\"2\" valign=\"top\">Gyps_coprotheres</th>\n",
       "      <th rowspan=\"2\" valign=\"top\">Cape vulture</th>\n",
       "      <th>Botswana</th>\n",
       "      <th>Botswana</th>\n",
       "      <th>-22.000000</th>\n",
       "      <th>24.000000</th>\n",
       "      <th>No</th>\n",
       "      <th>Individuals</th>\n",
       "      <td>1950</td>\n",
       "      <td>NaN</td>\n",
       "    </tr>\n",
       "    <tr>\n",
       "      <th>Lesotho</th>\n",
       "      <th>Lesotho</th>\n",
       "      <th>-29.500000</th>\n",
       "      <th>28.250000</th>\n",
       "      <th>No</th>\n",
       "      <th>Number of individuals</th>\n",
       "      <td>1950</td>\n",
       "      <td>NaN</td>\n",
       "    </tr>\n",
       "    <tr>\n",
       "      <th>...</th>\n",
       "      <th>...</th>\n",
       "      <th>...</th>\n",
       "      <th>...</th>\n",
       "      <th>...</th>\n",
       "      <th>...</th>\n",
       "      <th>...</th>\n",
       "      <th>...</th>\n",
       "      <td>...</td>\n",
       "      <td>...</td>\n",
       "    </tr>\n",
       "    <tr>\n",
       "      <th rowspan=\"4\" valign=\"top\">Anguilla_japonica</th>\n",
       "      <th rowspan=\"4\" valign=\"top\">Japanese eel</th>\n",
       "      <th>Aichi Prefecture, southeast Honshu</th>\n",
       "      <th>Japan</th>\n",
       "      <th>34.783604</th>\n",
       "      <th>137.192169</th>\n",
       "      <th>No</th>\n",
       "      <th>CPUE index</th>\n",
       "      <td>2018</td>\n",
       "      <td>95.119598</td>\n",
       "    </tr>\n",
       "    <tr>\n",
       "      <th>Hyogo Prefecture, south Honshu</th>\n",
       "      <th>Japan</th>\n",
       "      <th>34.641335</th>\n",
       "      <th>134.909409</th>\n",
       "      <th>Yes</th>\n",
       "      <th>CPUE index</th>\n",
       "      <td>2018</td>\n",
       "      <td>NaN</td>\n",
       "    </tr>\n",
       "    <tr>\n",
       "      <th>Okayama Prefecture, south Honshu</th>\n",
       "      <th>Japan</th>\n",
       "      <th>34.598808</th>\n",
       "      <th>133.985504</th>\n",
       "      <th>No</th>\n",
       "      <th>CPUE index</th>\n",
       "      <td>2018</td>\n",
       "      <td>NaN</td>\n",
       "    </tr>\n",
       "    <tr>\n",
       "      <th>Hiroshima Prefecture, south Honshu</th>\n",
       "      <th>Japan</th>\n",
       "      <th>34.347126</th>\n",
       "      <th>132.471481</th>\n",
       "      <th>No</th>\n",
       "      <th>CPUE index</th>\n",
       "      <td>2018</td>\n",
       "      <td>374.418610</td>\n",
       "    </tr>\n",
       "    <tr>\n",
       "      <th>Micropterus_salmoides</th>\n",
       "      <th>Largemouth black bass</th>\n",
       "      <th>Little Rock Lake South, Wisconsin</th>\n",
       "      <th>United States</th>\n",
       "      <th>45.995747</th>\n",
       "      <th>-89.703499</th>\n",
       "      <th>Yes</th>\n",
       "      <th>Density (no/ha)</th>\n",
       "      <td>2018</td>\n",
       "      <td>NaN</td>\n",
       "    </tr>\n",
       "  </tbody>\n",
       "</table>\n",
       "<p>1059012 rows × 2 columns</p>\n",
       "</div>"
      ],
      "text/plain": [
       "                                                                                                                                                                   Year  \\\n",
       "Binomial               Common_name             Location                           Country       Latitude   Longitude   Specific_location Units                            \n",
       "Copsychus_sechellarum  Seychelles magpie-robin Fregate Island, Seychelles         Seychelles    -4.583330   55.933331  Yes               Number of individuals     1950   \n",
       "Falco_punctatus        Mauritius kestrel       Western Population, Mauritius      Mauritius     -20.299999  57.583328  No                Number of breeding pairs  1950   \n",
       "Pternistis_ochropectus Djibouti francolin      Foret du Day, Djibouti             Djibouti       11.766670  42.658058  Yes               Number of individuals     1950   \n",
       "Gyps_coprotheres       Cape vulture            Botswana                           Botswana      -22.000000  24.000000  No                Individuals               1950   \n",
       "                                               Lesotho                            Lesotho       -29.500000  28.250000  No                Number of individuals     1950   \n",
       "...                                                                                                                                                                 ...   \n",
       "Anguilla_japonica      Japanese eel            Aichi Prefecture, southeast Honshu Japan          34.783604  137.192169 No                CPUE index                2018   \n",
       "                                               Hyogo Prefecture, south Honshu     Japan          34.641335  134.909409 Yes               CPUE index                2018   \n",
       "                                               Okayama Prefecture, south Honshu   Japan          34.598808  133.985504 No                CPUE index                2018   \n",
       "                                               Hiroshima Prefecture, south Honshu Japan          34.347126  132.471481 No                CPUE index                2018   \n",
       "Micropterus_salmoides  Largemouth black bass   Little Rock Lake South, Wisconsin  United States  45.995747 -89.703499  Yes               Density (no/ha)           2018   \n",
       "\n",
       "                                                                                                                                                                        value  \n",
       "Binomial               Common_name             Location                           Country       Latitude   Longitude   Specific_location Units                                 \n",
       "Copsychus_sechellarum  Seychelles magpie-robin Fregate Island, Seychelles         Seychelles    -4.583330   55.933331  Yes               Number of individuals            NaN  \n",
       "Falco_punctatus        Mauritius kestrel       Western Population, Mauritius      Mauritius     -20.299999  57.583328  No                Number of breeding pairs         NaN  \n",
       "Pternistis_ochropectus Djibouti francolin      Foret du Day, Djibouti             Djibouti       11.766670  42.658058  Yes               Number of individuals            NaN  \n",
       "Gyps_coprotheres       Cape vulture            Botswana                           Botswana      -22.000000  24.000000  No                Individuals                      NaN  \n",
       "                                               Lesotho                            Lesotho       -29.500000  28.250000  No                Number of individuals            NaN  \n",
       "...                                                                                                                                                                       ...  \n",
       "Anguilla_japonica      Japanese eel            Aichi Prefecture, southeast Honshu Japan          34.783604  137.192169 No                CPUE index                 95.119598  \n",
       "                                               Hyogo Prefecture, south Honshu     Japan          34.641335  134.909409 Yes               CPUE index                       NaN  \n",
       "                                               Okayama Prefecture, south Honshu   Japan          34.598808  133.985504 No                CPUE index                       NaN  \n",
       "                                               Hiroshima Prefecture, south Honshu Japan          34.347126  132.471481 No                CPUE index                374.418610  \n",
       "Micropterus_salmoides  Largemouth black bass   Little Rock Lake South, Wisconsin  United States  45.995747 -89.703499  Yes               Density (no/ha)                  NaN  \n",
       "\n",
       "[1059012 rows x 2 columns]"
      ]
     },
     "execution_count": 57,
     "metadata": {},
     "output_type": "execute_result"
    }
   ],
   "source": [
    "df.set_index(\n",
    "    [\n",
    "        \"Binomial\",\n",
    "        \"Common_name\",\n",
    "        \"Location\",\n",
    "        \"Country\",\n",
    "        \"Latitude\",\n",
    "        \"Longitude\",\n",
    "        \"Specific_location\",\n",
    "        \"Units\",\n",
    "    ],\n",
    "    inplace=True,\n",
    ")"
   ]
  },
  {
   "cell_type": "markdown",
   "id": "3370c335-6bab-4f47-b27b-642774ccc8e1",
   "metadata": {},
   "source": [
    "## Make the garden dataset"
   ]
  },
  {
   "cell_type": "code",
   "execution_count": null,
   "id": "5a87c18a-002d-4b38-a3f1-aac80694e2bc",
   "metadata": {},
   "outputs": [],
   "source": [
    "lpd_garden = catalog.Dataset.create_empty(dest_dir)"
   ]
  },
  {
   "cell_type": "code",
   "execution_count": null,
   "id": "10466b89-0c23-474d-a49b-f9cd38018e59",
   "metadata": {},
   "outputs": [],
   "source": [
    "lpd_garden.metadata = lpd_meadow.metadata\n",
    "lpd_garden.save()"
   ]
  },
  {
   "cell_type": "code",
   "execution_count": null,
   "id": "78f8405b-1d98-4c5e-8abb-1ae7f778e3a0",
   "metadata": {},
   "outputs": [],
   "source": [
    "lpd_garden.add(df)"
   ]
  }
 ],
 "metadata": {
  "kernelspec": {
   "display_name": "Python 3 (ipykernel)",
   "language": "python",
   "name": "python3"
  },
  "language_info": {
   "codemirror_mode": {
    "name": "ipython",
    "version": 3
   },
   "file_extension": ".py",
   "mimetype": "text/x-python",
   "name": "python",
   "nbconvert_exporter": "python",
   "pygments_lexer": "ipython3",
   "version": "3.9.7"
  }
 },
 "nbformat": 4,
 "nbformat_minor": 5
}
