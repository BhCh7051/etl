{
 "cells": [
  {
   "cell_type": "markdown",
   "id": "6d5acae7",
   "metadata": {},
   "source": [
    "# World Bank: Income Groups"
   ]
  },
  {
   "cell_type": "markdown",
   "id": "70df5526",
   "metadata": {},
   "source": [
    "## Parameters"
   ]
  },
  {
   "cell_type": "code",
   "execution_count": null,
   "id": "ec98d59c",
   "metadata": {
    "tags": [
     "parameters"
    ]
   },
   "outputs": [],
   "source": [
    "dest_dir = \"/tmp/wb_income\""
   ]
  },
  {
   "cell_type": "markdown",
   "id": "05e5b89b-bf6f-4b52-99ef-67b36c85f31a",
   "metadata": {
    "tags": []
   },
   "source": [
    "## Imports & Paths\n",
    "Import the required libraries and define paths to load files (including data files and standardisation mappings for item and element names)."
   ]
  },
  {
   "cell_type": "code",
   "execution_count": null,
   "id": "7a13d99e-cb34-4dee-a702-be026f2fa3a7",
   "metadata": {},
   "outputs": [],
   "source": [
    "import json\n",
    "from pathlib import Path\n",
    "import pandas as pd\n",
    "from owid import catalog\n",
    "from etl.paths import BASE_DIR, DATA_DIR"
   ]
  },
  {
   "cell_type": "code",
   "execution_count": null,
   "id": "273b21f5-48c3-49ed-a486-7cfd1c7cb8f0",
   "metadata": {},
   "outputs": [],
   "source": [
    "HERE = BASE_DIR / \"etl/steps/data/garden/wb/2021-07-01\"\n",
    "\n",
    "path_dataset = DATA_DIR / \"meadow/wb/2021-07-01/wb_income\"\n",
    "path_country_mapping = HERE / \"wb_income.country_mapping.json\"\n",
    "path_income_mapping = HERE / \"wb_income.income_mapping.json\""
   ]
  },
  {
   "cell_type": "markdown",
   "id": "49420475-cb40-4148-b03b-f3322242197a",
   "metadata": {
    "tags": []
   },
   "source": [
    "## Load meadow datasets\n",
    "In this step we load the required datasets from Garden: FBS and FBSH"
   ]
  },
  {
   "cell_type": "code",
   "execution_count": null,
   "id": "134ea32a-77b4-4e4c-af5c-400f6edd5866",
   "metadata": {},
   "outputs": [],
   "source": [
    "# Read datasets\n",
    "ds_meadow = catalog.Dataset(path_dataset)"
   ]
  },
  {
   "cell_type": "code",
   "execution_count": null,
   "id": "5553eb58-fd10-4a93-9356-859121b7bed0",
   "metadata": {
    "tags": []
   },
   "outputs": [],
   "source": [
    "# Bulk data and items metadata\n",
    "df = ds_meadow[\"wb_income_group\"]"
   ]
  },
  {
   "cell_type": "code",
   "execution_count": null,
   "id": "e9a67fe4-ca1e-4e73-b667-6cef8cc573b2",
   "metadata": {},
   "outputs": [],
   "source": [
    "print(df.shape)\n",
    "df.head()"
   ]
  },
  {
   "cell_type": "markdown",
   "id": "d20adefd-302b-4065-8185-48975bae197e",
   "metadata": {},
   "source": [
    "## Clean dataset"
   ]
  },
  {
   "cell_type": "markdown",
   "id": "74b4ca31-d4f8-469b-af91-b431ad3c5d06",
   "metadata": {},
   "source": [
    "### Drop rows and columns"
   ]
  },
  {
   "cell_type": "code",
   "execution_count": null,
   "id": "1f8e667b-0cd7-4501-b9f1-a6b2e9c597ea",
   "metadata": {},
   "outputs": [],
   "source": [
    "# Drop supranational regions\n",
    "df = df.dropna(subset=[\"Region\"])"
   ]
  },
  {
   "cell_type": "code",
   "execution_count": null,
   "id": "19529785-4a6f-4323-8f10-3ef5f3d44f45",
   "metadata": {},
   "outputs": [],
   "source": [
    "# Rename & drop columns\n",
    "column_keep_rename = {\n",
    "    \"Economy\": \"country\",\n",
    "    \"Income group\": \"income_group\",\n",
    "}\n",
    "df = df.reset_index()\n",
    "df = df[column_keep_rename].rename(columns=column_keep_rename)"
   ]
  },
  {
   "cell_type": "code",
   "execution_count": null,
   "id": "9883222d-aa14-44e3-87cd-4281318191b0",
   "metadata": {},
   "outputs": [],
   "source": [
    "df.head()"
   ]
  },
  {
   "cell_type": "markdown",
   "id": "ae1d968e-19f8-4400-9a56-7b21ffc43004",
   "metadata": {},
   "source": [
    "### Harmonize entities"
   ]
  },
  {
   "cell_type": "code",
   "execution_count": null,
   "id": "4767d60c-4bd1-4743-8ca4-ea67a8f6ee46",
   "metadata": {},
   "outputs": [],
   "source": [
    "# Harmonize entities\n",
    "with open(path_country_mapping) as f:\n",
    "    country_mapping = json.load(f)\n",
    "df = df.assign(country=df.country.replace(country_mapping))"
   ]
  },
  {
   "cell_type": "markdown",
   "id": "7b956b3e-0623-482c-ba06-3b776402ded5",
   "metadata": {},
   "source": [
    "### Harmonize income group names"
   ]
  },
  {
   "cell_type": "code",
   "execution_count": null,
   "id": "9fe376da-0f53-4408-9d30-84fac4019146",
   "metadata": {},
   "outputs": [],
   "source": [
    "# Harmonize entities\n",
    "with open(path_income_mapping) as f:\n",
    "    income_mapping = json.load(f)\n",
    "df = df.assign(income_group=df.income_group.replace(income_mapping))"
   ]
  },
  {
   "cell_type": "markdown",
   "id": "88c6e621-c672-40f8-ab1e-10c19912865d",
   "metadata": {},
   "source": [
    "### Add extra countries"
   ]
  },
  {
   "cell_type": "code",
   "execution_count": null,
   "id": "6568261e-b4e9-4912-8fc0-fc609945c820",
   "metadata": {},
   "outputs": [],
   "source": [
    "# Define additional entities\n",
    "extra = [\n",
    "    [\"Falkland Islands\", \"High-income countries\"],\n",
    "    [\"Guernsey\", \"High-income countries\"],\n",
    "    [\"Jersey\", \"High-income countries\"],\n",
    "    [\"Saint Helena\", \"High-income countries\"],\n",
    "    [\"Montserrat\", \"High-income countries\"],\n",
    "    [\"Northern Cyprus\", \"High-income countries\"],\n",
    "    [\"Wallis and Futuna\", \"High-income countries\"],\n",
    "    [\"Anguilla\", \"High-income countries\"],\n",
    "]\n",
    "df_extra = pd.DataFrame(extra, columns=[\"country\", \"income_group\"])"
   ]
  },
  {
   "cell_type": "code",
   "execution_count": null,
   "id": "d509e0f7-d6dd-487a-857b-f76da09eece4",
   "metadata": {},
   "outputs": [],
   "source": [
    "# Merge\n",
    "df = pd.concat([df, df_extra]).sort_values(\"country\").reset_index(drop=True)"
   ]
  },
  {
   "cell_type": "code",
   "execution_count": null,
   "id": "ee9fd2a2-b99e-42da-934f-5a255d322fad",
   "metadata": {},
   "outputs": [],
   "source": [
    "df.set_index(\"country\", inplace=True)"
   ]
  },
  {
   "cell_type": "code",
   "execution_count": null,
   "id": "4f068f9f-8141-4c3d-87ab-7ba849b84664",
   "metadata": {},
   "outputs": [],
   "source": [
    "df.head()"
   ]
  },
  {
   "cell_type": "markdown",
   "id": "113594aa-b358-4baa-8ab5-38b7a6dad4d7",
   "metadata": {},
   "source": [
    "## Create Garden dataset"
   ]
  },
  {
   "cell_type": "markdown",
   "id": "68ee93f1-77ce-47c6-be02-b523732d2bcf",
   "metadata": {},
   "source": [
    "### Metadata\n",
    "First, we create the metadata for this new dataset FBSC. Most of its content comes from concatenating FBS and FBSH fields. Checksum field is left to `None`, as it is unclear what we should use here (TODO)."
   ]
  },
  {
   "cell_type": "code",
   "execution_count": null,
   "id": "92f8a6a6-5610-4769-a64e-0452e4fcbe23",
   "metadata": {},
   "outputs": [],
   "source": [
    "# Define metadata\n",
    "metadata = df.metadata"
   ]
  },
  {
   "cell_type": "markdown",
   "id": "28b4e7bd-88d1-4747-bced-4650794a75be",
   "metadata": {},
   "source": [
    "### Create dataset and add tables\n",
    "Finally, we add the tables to the dataset."
   ]
  },
  {
   "cell_type": "code",
   "execution_count": null,
   "id": "ac66fe58-5dbd-4445-b255-c7d4f2ce91bf",
   "metadata": {},
   "outputs": [],
   "source": [
    "ds_garden = catalog.Dataset.create_empty(dest_dir)"
   ]
  },
  {
   "cell_type": "code",
   "execution_count": null,
   "id": "2d01fe85-7479-445a-b69c-4266d911f992",
   "metadata": {},
   "outputs": [],
   "source": [
    "# Propagate metadata\n",
    "ds_garden.metadata = ds_meadow.metadata\n",
    "ds_garden.save()"
   ]
  },
  {
   "cell_type": "code",
   "execution_count": null,
   "id": "f3df32ca-fcd9-40de-9ee7-6ce65a04737f",
   "metadata": {},
   "outputs": [],
   "source": [
    "# Add bulk table\n",
    "df.metadata.short_name = \"wb_income_group\"\n",
    "ds_garden.add(df)"
   ]
  },
  {
   "cell_type": "code",
   "execution_count": null,
   "id": "08c11810-9fc1-4512-bcb4-edecbfaa8aac",
   "metadata": {},
   "outputs": [],
   "source": [
    "ds_garden.save()"
   ]
  }
 ],
 "metadata": {
  "kernelspec": {
   "display_name": "Python 3 (ipykernel)",
   "language": "python",
   "name": "python3"
  },
  "language_info": {
   "codemirror_mode": {
    "name": "ipython",
    "version": 3
   },
   "file_extension": ".py",
   "mimetype": "text/x-python",
   "name": "python",
   "nbconvert_exporter": "python",
   "pygments_lexer": "ipython3",
   "version": "3.9.7"
  }
 },
 "nbformat": 4,
 "nbformat_minor": 5
}
