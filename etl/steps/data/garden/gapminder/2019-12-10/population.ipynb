{
 "cells": [
  {
   "cell_type": "markdown",
   "id": "84564f55-80d0-425e-8949-4ec70763ccf0",
   "metadata": {},
   "source": [
    "# Gapminder population"
   ]
  },
  {
   "cell_type": "markdown",
   "id": "4e27792c-ccfe-4e09-935b-b4a9af9e43fa",
   "metadata": {},
   "source": [
    "Harmonize Gapminder's population dataset to OWID countries."
   ]
  },
  {
   "cell_type": "markdown",
   "id": "7e8df64f-9570-4228-b724-9a1d43aac597",
   "metadata": {},
   "source": [
    "## Parameters"
   ]
  },
  {
   "cell_type": "code",
   "execution_count": null,
   "id": "8e0d2857-97c9-4fd7-b4b3-e0c678f51703",
   "metadata": {
    "tags": [
     "parameters"
    ]
   },
   "outputs": [],
   "source": [
    "dest_dir = \"/tmp/gapminder-population-garden\""
   ]
  },
  {
   "cell_type": "markdown",
   "id": "ec969f52-5eb3-4779-b7df-53aadb24a587",
   "metadata": {},
   "source": [
    "## Imports"
   ]
  },
  {
   "cell_type": "code",
   "execution_count": null,
   "id": "8b3a7b66-8b17-4bcc-83c1-3cebda5d54a8",
   "metadata": {},
   "outputs": [],
   "source": [
    "from owid import catalog\n",
    "from owid.catalog import Dataset\n",
    "from etl.paths import DATA_DIR, BASE_DIR\n",
    "import json"
   ]
  },
  {
   "cell_type": "markdown",
   "id": "d08a8783-ad28-4808-a399-17f06f8dbea0",
   "metadata": {},
   "source": [
    "## Inputs"
   ]
  },
  {
   "cell_type": "code",
   "execution_count": null,
   "id": "0f620ab9-c12a-4951-8a4d-b17e35864cc7",
   "metadata": {},
   "outputs": [],
   "source": [
    "meadow_ds = Dataset(DATA_DIR / \"meadow/gapminder/2019-12-10/population\")\n",
    "meadow_pop = meadow_ds[\"population\"]"
   ]
  },
  {
   "cell_type": "code",
   "execution_count": null,
   "id": "57beb4b9-bfb9-4090-8a06-49264b68c92f",
   "metadata": {},
   "outputs": [],
   "source": [
    "meadow_pop.head()"
   ]
  },
  {
   "cell_type": "code",
   "execution_count": null,
   "id": "8ceb938f-d2be-40fd-8c98-b716ea5431a9",
   "metadata": {},
   "outputs": [],
   "source": [
    "mapping_file = (\n",
    "    BASE_DIR / \"etl/steps/data/garden/gapminder/2019-12-10/population.mapping.json\"\n",
    ")"
   ]
  },
  {
   "cell_type": "code",
   "execution_count": null,
   "id": "86ab68cd-bab9-465e-880e-09e4893733ec",
   "metadata": {},
   "outputs": [],
   "source": [
    "with open(mapping_file) as istream:\n",
    "    mapping = json.load(istream)"
   ]
  },
  {
   "cell_type": "markdown",
   "id": "50d51ca6-3dfe-4822-8f1f-af83b122c2d1",
   "metadata": {},
   "source": [
    "## Harmonize"
   ]
  },
  {
   "cell_type": "code",
   "execution_count": null,
   "id": "0ae3b7c8-1700-4d6a-a0db-9d0aa7bb2e69",
   "metadata": {},
   "outputs": [],
   "source": [
    "garden_pop = meadow_pop.reset_index()"
   ]
  },
  {
   "cell_type": "code",
   "execution_count": null,
   "id": "ddfc596b-bf96-49ae-940e-a94875b3fc99",
   "metadata": {},
   "outputs": [],
   "source": [
    "garden_pop[\"country\"] = garden_pop.country.apply(lambda c: mapping[c])"
   ]
  },
  {
   "cell_type": "code",
   "execution_count": null,
   "id": "fca304da-0e21-49c3-be2c-f3ceebfdfc42",
   "metadata": {},
   "outputs": [],
   "source": [
    "garden_pop.set_index([\"country\", \"year\"], inplace=True)"
   ]
  },
  {
   "cell_type": "markdown",
   "id": "333e186f-5e70-4851-8d56-306195977aeb",
   "metadata": {},
   "source": [
    "## Save"
   ]
  },
  {
   "cell_type": "code",
   "execution_count": null,
   "id": "125814fc-4fd6-459f-bdf3-e95d1d0cd3cd",
   "metadata": {},
   "outputs": [],
   "source": [
    "ds = Dataset.create_empty(dest_dir, metadata=meadow_ds.metadata)\n",
    "ds.add(garden_pop)"
   ]
  }
 ],
 "metadata": {
  "kernelspec": {
   "display_name": "Python 3 (ipykernel)",
   "language": "python",
   "name": "python3"
  },
  "language_info": {
   "codemirror_mode": {
    "name": "ipython",
    "version": 3
   },
   "file_extension": ".py",
   "mimetype": "text/x-python",
   "name": "python",
   "nbconvert_exporter": "python",
   "pygments_lexer": "ipython3",
   "version": "3.9.7"
  }
 },
 "nbformat": 4,
 "nbformat_minor": 5
}
