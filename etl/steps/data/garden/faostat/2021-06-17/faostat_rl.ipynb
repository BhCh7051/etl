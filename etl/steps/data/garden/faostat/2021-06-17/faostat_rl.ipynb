{
 "cells": [
  {
   "cell_type": "code",
   "execution_count": 15,
   "id": "4cd9b7cb-23c4-418a-9460-ccef522d724f",
   "metadata": {
    "tags": [
     "parameters"
    ]
   },
   "outputs": [],
   "source": [
    "dest_dir = \"/tmp/faostat_rl\""
   ]
  },
  {
   "cell_type": "code",
   "execution_count": 1,
   "id": "da94eb1b-93b7-403f-b722-4cb9a8c5b0aa",
   "metadata": {},
   "outputs": [],
   "source": [
    "from owid import catalog\n",
    "import json\n",
    "from pathlib import Path"
   ]
  },
  {
   "cell_type": "code",
   "execution_count": 2,
   "id": "a401af89-0f60-4f45-8980-6dc81042f888",
   "metadata": {},
   "outputs": [],
   "source": [
    "from etl.paths import BASE_DIR as base_path"
   ]
  },
  {
   "cell_type": "code",
   "execution_count": 18,
   "id": "cb577ce5-1d71-401b-8a23-992b03dd1aec",
   "metadata": {},
   "outputs": [],
   "source": [
    "fao_meadow = catalog.Dataset((base_path / \"data/meadow/faostat/2021-06-17/faostat_rl\"))\n",
    "\n",
    "df = fao_meadow['land_use']"
   ]
  },
  {
   "cell_type": "code",
   "execution_count": 11,
   "id": "0d54361e-c373-4221-833e-1b37f70ef83f",
   "metadata": {},
   "outputs": [
    {
     "data": {
      "text/plain": [
       "TableMeta(short_name='land_use', title=None, description=None, dataset=DatasetMeta(namespace='faostat', short_name='faostat_rl', title='Land, Inputs and Sustainability: Land Use - FAO (2021)', description='The FAOSTAT Land Use domain contains data on forty-four categories of land use, irrigation and agricultural practices, relevant to monitor agriculture, forestry and fisheries activities at national, regional and global level. Data are available by country and year, with global coverage and annual updates.', sources=[Source(name='Food and Agriculture Organization of the United Nations', description=None, url='http://www.fao.org/faostat/en/#data', source_data_url='https://fenixservices.fao.org/faostat/static/bulkdownloads/Inputs_LandUse_E_All_Data_(Normalized).zip', owid_data_url='http://walden.nyc3.digitaloceanspaces.com/faostat/2021-06-17/Inputs_LandUse_E_All_Data_(Normalized).zip', date_accessed='2021-11-05', publication_date='2021-06-17', publication_year=2021)], licenses=[License(name='CC BY-NC-SA 3.0 IGO', url='http://www.fao.org/contact-us/terms/db-terms-of-use/en')], source_checksum='cf0c3bc2bc502c7d2d54cd91b8e5f4f2'), primary_key=['Area', 'Item', 'Element', 'Year'])"
      ]
     },
     "execution_count": 11,
     "metadata": {},
     "output_type": "execute_result"
    }
   ],
   "source": [
    "df.metadata"
   ]
  },
  {
   "cell_type": "code",
   "execution_count": 12,
   "id": "b366fc94-905e-4278-a8ad-88fe0d739cdf",
   "metadata": {},
   "outputs": [
    {
     "data": {
      "text/html": [
       "<div>\n",
       "<style scoped>\n",
       "    .dataframe tbody tr th:only-of-type {\n",
       "        vertical-align: middle;\n",
       "    }\n",
       "\n",
       "    .dataframe tbody tr th {\n",
       "        vertical-align: top;\n",
       "    }\n",
       "\n",
       "    .dataframe thead th {\n",
       "        text-align: right;\n",
       "    }\n",
       "</style>\n",
       "<table border=\"1\" class=\"dataframe\">\n",
       "  <thead>\n",
       "    <tr style=\"text-align: right;\">\n",
       "      <th></th>\n",
       "      <th></th>\n",
       "      <th></th>\n",
       "      <th></th>\n",
       "      <th>Unit</th>\n",
       "      <th>Value</th>\n",
       "      <th>Flag</th>\n",
       "    </tr>\n",
       "    <tr>\n",
       "      <th>Area</th>\n",
       "      <th>Item</th>\n",
       "      <th>Element</th>\n",
       "      <th>Year</th>\n",
       "      <th></th>\n",
       "      <th></th>\n",
       "      <th></th>\n",
       "    </tr>\n",
       "  </thead>\n",
       "  <tbody>\n",
       "    <tr>\n",
       "      <th rowspan=\"5\" valign=\"top\">Afghanistan</th>\n",
       "      <th rowspan=\"5\" valign=\"top\">Country area</th>\n",
       "      <th rowspan=\"5\" valign=\"top\">Area</th>\n",
       "      <th>1961</th>\n",
       "      <td>1000 ha</td>\n",
       "      <td>65286.0</td>\n",
       "      <td>W</td>\n",
       "    </tr>\n",
       "    <tr>\n",
       "      <th>1962</th>\n",
       "      <td>1000 ha</td>\n",
       "      <td>65286.0</td>\n",
       "      <td>W</td>\n",
       "    </tr>\n",
       "    <tr>\n",
       "      <th>1963</th>\n",
       "      <td>1000 ha</td>\n",
       "      <td>65286.0</td>\n",
       "      <td>W</td>\n",
       "    </tr>\n",
       "    <tr>\n",
       "      <th>1964</th>\n",
       "      <td>1000 ha</td>\n",
       "      <td>65286.0</td>\n",
       "      <td>W</td>\n",
       "    </tr>\n",
       "    <tr>\n",
       "      <th>1965</th>\n",
       "      <td>1000 ha</td>\n",
       "      <td>65286.0</td>\n",
       "      <td>W</td>\n",
       "    </tr>\n",
       "  </tbody>\n",
       "</table>\n",
       "</div>"
      ],
      "text/plain": [
       "                                          Unit    Value Flag\n",
       "Area        Item         Element Year                       \n",
       "Afghanistan Country area Area    1961  1000 ha  65286.0    W\n",
       "                                 1962  1000 ha  65286.0    W\n",
       "                                 1963  1000 ha  65286.0    W\n",
       "                                 1964  1000 ha  65286.0    W\n",
       "                                 1965  1000 ha  65286.0    W"
      ]
     },
     "execution_count": 12,
     "metadata": {},
     "output_type": "execute_result"
    }
   ],
   "source": [
    "df.head()\n",
    "\n"
   ]
  },
  {
   "cell_type": "code",
   "execution_count": 26,
   "id": "55800574-68c4-4710-937f-25bc96e34c56",
   "metadata": {},
   "outputs": [],
   "source": [
    "cm = json.load(open(base_path / \"etl/steps/data/garden/faostat/2021-06-17/faostat_rl.countries.json\"))"
   ]
  },
  {
   "cell_type": "code",
   "execution_count": 29,
   "id": "758df5c6-05b1-4b8a-b58b-9169d36f162f",
   "metadata": {},
   "outputs": [],
   "source": [
    "df.reset_index(inplace = True)"
   ]
  },
  {
   "cell_type": "code",
   "execution_count": 30,
   "id": "b9d66139-0f13-4300-be04-7906ad51cc3a",
   "metadata": {},
   "outputs": [
    {
     "data": {
      "text/html": [
       "<div>\n",
       "<style scoped>\n",
       "    .dataframe tbody tr th:only-of-type {\n",
       "        vertical-align: middle;\n",
       "    }\n",
       "\n",
       "    .dataframe tbody tr th {\n",
       "        vertical-align: top;\n",
       "    }\n",
       "\n",
       "    .dataframe thead th {\n",
       "        text-align: right;\n",
       "    }\n",
       "</style>\n",
       "<table border=\"1\" class=\"dataframe\">\n",
       "  <thead>\n",
       "    <tr style=\"text-align: right;\">\n",
       "      <th></th>\n",
       "      <th>Area</th>\n",
       "      <th>Item</th>\n",
       "      <th>Element</th>\n",
       "      <th>Year</th>\n",
       "      <th>Unit</th>\n",
       "      <th>Value</th>\n",
       "      <th>Flag</th>\n",
       "    </tr>\n",
       "  </thead>\n",
       "  <tbody>\n",
       "    <tr>\n",
       "      <th>0</th>\n",
       "      <td>Afghanistan</td>\n",
       "      <td>Country area</td>\n",
       "      <td>Area</td>\n",
       "      <td>1961</td>\n",
       "      <td>1000 ha</td>\n",
       "      <td>65286.0</td>\n",
       "      <td>W</td>\n",
       "    </tr>\n",
       "    <tr>\n",
       "      <th>1</th>\n",
       "      <td>Afghanistan</td>\n",
       "      <td>Country area</td>\n",
       "      <td>Area</td>\n",
       "      <td>1962</td>\n",
       "      <td>1000 ha</td>\n",
       "      <td>65286.0</td>\n",
       "      <td>W</td>\n",
       "    </tr>\n",
       "    <tr>\n",
       "      <th>2</th>\n",
       "      <td>Afghanistan</td>\n",
       "      <td>Country area</td>\n",
       "      <td>Area</td>\n",
       "      <td>1963</td>\n",
       "      <td>1000 ha</td>\n",
       "      <td>65286.0</td>\n",
       "      <td>W</td>\n",
       "    </tr>\n",
       "    <tr>\n",
       "      <th>3</th>\n",
       "      <td>Afghanistan</td>\n",
       "      <td>Country area</td>\n",
       "      <td>Area</td>\n",
       "      <td>1964</td>\n",
       "      <td>1000 ha</td>\n",
       "      <td>65286.0</td>\n",
       "      <td>W</td>\n",
       "    </tr>\n",
       "    <tr>\n",
       "      <th>4</th>\n",
       "      <td>Afghanistan</td>\n",
       "      <td>Country area</td>\n",
       "      <td>Area</td>\n",
       "      <td>1965</td>\n",
       "      <td>1000 ha</td>\n",
       "      <td>65286.0</td>\n",
       "      <td>W</td>\n",
       "    </tr>\n",
       "  </tbody>\n",
       "</table>\n",
       "</div>"
      ],
      "text/plain": [
       "          Area          Item Element  Year     Unit    Value Flag\n",
       "0  Afghanistan  Country area    Area  1961  1000 ha  65286.0    W\n",
       "1  Afghanistan  Country area    Area  1962  1000 ha  65286.0    W\n",
       "2  Afghanistan  Country area    Area  1963  1000 ha  65286.0    W\n",
       "3  Afghanistan  Country area    Area  1964  1000 ha  65286.0    W\n",
       "4  Afghanistan  Country area    Area  1965  1000 ha  65286.0    W"
      ]
     },
     "execution_count": 30,
     "metadata": {},
     "output_type": "execute_result"
    }
   ],
   "source": [
    "df.head()"
   ]
  },
  {
   "cell_type": "code",
   "execution_count": 33,
   "id": "8ab19674-8a74-4e7d-a8a9-9fefceb49532",
   "metadata": {},
   "outputs": [],
   "source": [
    "area = df['Area'].apply(lambda a: cm.get(a,a))"
   ]
  },
  {
   "cell_type": "code",
   "execution_count": null,
   "id": "39f96332-571f-4946-ae6e-dc7d5ce09547",
   "metadata": {},
   "outputs": [],
   "source": []
  },
  {
   "cell_type": "code",
   "execution_count": 16,
   "id": "b9adeb91-5150-4b6b-ab77-9a454c702aab",
   "metadata": {},
   "outputs": [],
   "source": [
    "fao_garden = catalog.Dataset.create_empty(dest_dir)"
   ]
  },
  {
   "cell_type": "code",
   "execution_count": 19,
   "id": "ea2dc2c2-5c60-40a7-a870-a632dfae615f",
   "metadata": {},
   "outputs": [],
   "source": [
    "fao_garden.metadata = fao_meadow.metadata\n",
    "fao_garden.save()"
   ]
  },
  {
   "cell_type": "code",
   "execution_count": 20,
   "id": "d9c6cbb9-9514-4f74-8f94-4f3db8eb4b4e",
   "metadata": {},
   "outputs": [],
   "source": [
    "fao_garden.add(df)"
   ]
  },
  {
   "cell_type": "code",
   "execution_count": null,
   "id": "263b0461-d657-4aca-8d9d-ec490ba07f88",
   "metadata": {},
   "outputs": [],
   "source": []
  }
 ],
 "metadata": {
  "kernelspec": {
   "display_name": "Python 3 (ipykernel)",
   "language": "python",
   "name": "python3"
  },
  "language_info": {
   "codemirror_mode": {
    "name": "ipython",
    "version": 3
   },
   "file_extension": ".py",
   "mimetype": "text/x-python",
   "name": "python",
   "nbconvert_exporter": "python",
   "pygments_lexer": "ipython3",
   "version": "3.9.5"
  }
 },
 "nbformat": 4,
 "nbformat_minor": 5
}
