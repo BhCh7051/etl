{
 "cells": [
  {
   "cell_type": "markdown",
   "metadata": {},
   "source": [
    "# FAOstat: Crops and livestock products\n",
    "[_Source data_](https://www.fao.org/faostat/en/#data)"
   ]
  },
  {
   "cell_type": "markdown",
   "metadata": {},
   "source": [
    "## Parameters"
   ]
  },
  {
   "cell_type": "code",
   "execution_count": 1,
   "metadata": {
    "tags": [
     "parameters"
    ]
   },
   "outputs": [],
   "source": [
    "dest_dir = \"/tmp/faostat_qcl\""
   ]
  },
  {
   "cell_type": "markdown",
   "metadata": {},
   "source": [
    "## Read data and reference tables"
   ]
  },
  {
   "cell_type": "code",
   "execution_count": 2,
   "metadata": {},
   "outputs": [],
   "source": [
    "from owid import catalog\n",
    "import pandas as pd\n",
    "from pathlib import Path"
   ]
  },
  {
   "cell_type": "code",
   "execution_count": 3,
   "metadata": {},
   "outputs": [],
   "source": [
    "from etl.paths import BASE_DIR as base_path"
   ]
  },
  {
   "cell_type": "markdown",
   "metadata": {
    "tags": []
   },
   "source": [
    "## Load meadow dataset"
   ]
  },
  {
   "cell_type": "code",
   "execution_count": 6,
   "metadata": {},
   "outputs": [],
   "source": [
    "qcl_meadow = catalog.Dataset(\n",
    "    (base_path / \"data/meadow/faostat/2021-03-18/faostat_qcl\").as_posix()\n",
    ")"
   ]
  },
  {
   "cell_type": "code",
   "execution_count": 7,
   "metadata": {
    "tags": []
   },
   "outputs": [],
   "source": [
    "# Bulk data and items metadata\n",
    "qcl_bulk = qcl_meadow[\"bulk\"]"
   ]
  },
  {
   "cell_type": "code",
   "execution_count": 8,
   "metadata": {},
   "outputs": [
    {
     "data": {
      "text/html": [
       "<div>\n",
       "<style scoped>\n",
       "    .dataframe tbody tr th:only-of-type {\n",
       "        vertical-align: middle;\n",
       "    }\n",
       "\n",
       "    .dataframe tbody tr th {\n",
       "        vertical-align: top;\n",
       "    }\n",
       "\n",
       "    .dataframe thead th {\n",
       "        text-align: right;\n",
       "    }\n",
       "</style>\n",
       "<table border=\"1\" class=\"dataframe\">\n",
       "  <thead>\n",
       "    <tr style=\"text-align: right;\">\n",
       "      <th></th>\n",
       "      <th></th>\n",
       "      <th></th>\n",
       "      <th></th>\n",
       "      <th></th>\n",
       "      <th>Unit</th>\n",
       "      <th>Value</th>\n",
       "    </tr>\n",
       "    <tr>\n",
       "      <th>Area Code</th>\n",
       "      <th>Item Code</th>\n",
       "      <th>Element Code</th>\n",
       "      <th>Year</th>\n",
       "      <th>Flag</th>\n",
       "      <th></th>\n",
       "      <th></th>\n",
       "    </tr>\n",
       "  </thead>\n",
       "  <tbody>\n",
       "    <tr>\n",
       "      <th rowspan=\"5\" valign=\"top\">2</th>\n",
       "      <th rowspan=\"5\" valign=\"top\">221</th>\n",
       "      <th rowspan=\"5\" valign=\"top\">5312</th>\n",
       "      <th>1975</th>\n",
       "      <th>F</th>\n",
       "      <td>ha</td>\n",
       "      <td>0</td>\n",
       "    </tr>\n",
       "    <tr>\n",
       "      <th>1976</th>\n",
       "      <th>F</th>\n",
       "      <td>ha</td>\n",
       "      <td>5900</td>\n",
       "    </tr>\n",
       "    <tr>\n",
       "      <th>1977</th>\n",
       "      <th>F</th>\n",
       "      <td>ha</td>\n",
       "      <td>6000</td>\n",
       "    </tr>\n",
       "    <tr>\n",
       "      <th>1978</th>\n",
       "      <th>F</th>\n",
       "      <td>ha</td>\n",
       "      <td>6000</td>\n",
       "    </tr>\n",
       "    <tr>\n",
       "      <th>1979</th>\n",
       "      <th>F</th>\n",
       "      <td>ha</td>\n",
       "      <td>6000</td>\n",
       "    </tr>\n",
       "  </tbody>\n",
       "</table>\n",
       "</div>"
      ],
      "text/plain": [
       "                                           Unit  Value\n",
       "Area Code Item Code Element Code Year Flag            \n",
       "2         221       5312         1975 F      ha      0\n",
       "                                 1976 F      ha   5900\n",
       "                                 1977 F      ha   6000\n",
       "                                 1978 F      ha   6000\n",
       "                                 1979 F      ha   6000"
      ]
     },
     "execution_count": 8,
     "metadata": {},
     "output_type": "execute_result"
    }
   ],
   "source": [
    "qcl_bulk.head()"
   ]
  },
  {
   "cell_type": "markdown",
   "metadata": {},
   "source": [
    "## Clean dataset"
   ]
  },
  {
   "cell_type": "markdown",
   "metadata": {},
   "source": [
    "### `Area`\n",
    "Filtering and mapping"
   ]
  },
  {
   "cell_type": "code",
   "execution_count": 9,
   "metadata": {},
   "outputs": [],
   "source": [
    "# Prepare for Country Tool\n",
    "# ds = qcl_area.Country.drop_duplicates()\n",
    "# ds.to_csv(\"ign.countries.csv\", index=False)"
   ]
  },
  {
   "cell_type": "code",
   "execution_count": 10,
   "metadata": {},
   "outputs": [],
   "source": [
    "# Load\n",
    "with open(\n",
    "    base_path\n",
    "    / \"etl\"\n",
    "    / \"steps\"\n",
    "    / \"data\"\n",
    "    / \"garden\"\n",
    "    / \"faostat\"\n",
    "    / \"2021-03-18\"\n",
    "    / \"faostat_qcl.country_std.csv\"\n",
    ") as f:\n",
    "    df_country_std = pd.read_csv(f)\n",
    "df_country_std = df_country_std.dropna()\n",
    "mapping = dict(zip(df_country_std[\"Country\"], df_country_std[\"Our World In Data Name\"]))"
   ]
  },
  {
   "cell_type": "code",
   "execution_count": 11,
   "metadata": {},
   "outputs": [],
   "source": [
    "# Create mapping Area Code -> Country\n",
    "qcl_area = qcl_meadow[\"meta_area\"]\n",
    "msk = qcl_area.Country.isin(mapping)\n",
    "map_area = qcl_area.Country.replace(mapping).loc[msk].sort_index().to_dict()"
   ]
  },
  {
   "cell_type": "markdown",
   "metadata": {},
   "source": [
    "### `Item`"
   ]
  },
  {
   "cell_type": "code",
   "execution_count": 12,
   "metadata": {},
   "outputs": [],
   "source": [
    "qcl_item = qcl_meadow[\"meta_item\"]"
   ]
  },
  {
   "cell_type": "code",
   "execution_count": 13,
   "metadata": {},
   "outputs": [
    {
     "data": {
      "text/html": [
       "<div>\n",
       "<style scoped>\n",
       "    .dataframe tbody tr th:only-of-type {\n",
       "        vertical-align: middle;\n",
       "    }\n",
       "\n",
       "    .dataframe tbody tr th {\n",
       "        vertical-align: top;\n",
       "    }\n",
       "\n",
       "    .dataframe thead tr th {\n",
       "        text-align: left;\n",
       "    }\n",
       "\n",
       "    .dataframe thead tr:last-of-type th {\n",
       "        text-align: right;\n",
       "    }\n",
       "</style>\n",
       "<table border=\"1\" class=\"dataframe\">\n",
       "  <thead>\n",
       "    <tr>\n",
       "      <th></th>\n",
       "      <th colspan=\"2\" halign=\"left\">Item Group Code</th>\n",
       "    </tr>\n",
       "    <tr>\n",
       "      <th></th>\n",
       "      <th>&lt;lambda_0&gt;</th>\n",
       "      <th>&lt;lambda_1&gt;</th>\n",
       "    </tr>\n",
       "    <tr>\n",
       "      <th>Item Group</th>\n",
       "      <th></th>\n",
       "      <th></th>\n",
       "    </tr>\n",
       "  </thead>\n",
       "  <tbody>\n",
       "    <tr>\n",
       "      <th>Crops Primary</th>\n",
       "      <td>2</td>\n",
       "      <td>[1714, QC]</td>\n",
       "    </tr>\n",
       "    <tr>\n",
       "      <th>Live Animals</th>\n",
       "      <td>2</td>\n",
       "      <td>[1756, QA]</td>\n",
       "    </tr>\n",
       "  </tbody>\n",
       "</table>\n",
       "</div>"
      ],
      "text/plain": [
       "              Item Group Code            \n",
       "                   <lambda_0>  <lambda_1>\n",
       "Item Group                               \n",
       "Crops Primary               2  [1714, QC]\n",
       "Live Animals                2  [1756, QA]"
      ]
     },
     "execution_count": 13,
     "metadata": {},
     "output_type": "execute_result"
    }
   ],
   "source": [
    "# Find Item Groups with more than one Code (legacy?)\n",
    "x = qcl_item.reset_index()\n",
    "_ = x.groupby([\"Item Group\"]).agg(\n",
    "    {\"Item Group Code\": [lambda x: x.nunique(), lambda x: x.unique().tolist()]}\n",
    ")\n",
    "__ = _[\"Item Group Code\"][\"<lambda_0>\"]\n",
    "_[__ > 1]"
   ]
  },
  {
   "cell_type": "code",
   "execution_count": 14,
   "metadata": {},
   "outputs": [
    {
     "data": {
      "text/html": [
       "<div>\n",
       "<style scoped>\n",
       "    .dataframe tbody tr th:only-of-type {\n",
       "        vertical-align: middle;\n",
       "    }\n",
       "\n",
       "    .dataframe tbody tr th {\n",
       "        vertical-align: top;\n",
       "    }\n",
       "\n",
       "    .dataframe thead th {\n",
       "        text-align: right;\n",
       "    }\n",
       "</style>\n",
       "<table border=\"1\" class=\"dataframe\">\n",
       "  <thead>\n",
       "    <tr style=\"text-align: right;\">\n",
       "      <th></th>\n",
       "      <th>Item Group Code</th>\n",
       "      <th>Item Code</th>\n",
       "      <th>Item Group</th>\n",
       "      <th>Item</th>\n",
       "      <th>Factor</th>\n",
       "      <th>HS Code</th>\n",
       "      <th>HS07 Code</th>\n",
       "      <th>HS12 Code</th>\n",
       "      <th>CPC Code</th>\n",
       "    </tr>\n",
       "  </thead>\n",
       "  <tbody>\n",
       "    <tr>\n",
       "      <th>96</th>\n",
       "      <td>QC</td>\n",
       "      <td>1717</td>\n",
       "      <td>Crops Primary</td>\n",
       "      <td>Cereals, Total</td>\n",
       "      <td>1.0</td>\n",
       "      <td></td>\n",
       "      <td></td>\n",
       "      <td></td>\n",
       "      <td></td>\n",
       "    </tr>\n",
       "    <tr>\n",
       "      <th>113</th>\n",
       "      <td>QC</td>\n",
       "      <td>1804</td>\n",
       "      <td>Crops Primary</td>\n",
       "      <td>Citrus Fruit, Total</td>\n",
       "      <td>1.0</td>\n",
       "      <td></td>\n",
       "      <td></td>\n",
       "      <td></td>\n",
       "      <td></td>\n",
       "    </tr>\n",
       "    <tr>\n",
       "      <th>122</th>\n",
       "      <td>QC</td>\n",
       "      <td>813</td>\n",
       "      <td>Crops Primary</td>\n",
       "      <td>Coir</td>\n",
       "      <td>1.0</td>\n",
       "      <td></td>\n",
       "      <td>530500</td>\n",
       "      <td>530500</td>\n",
       "      <td>01929.08</td>\n",
       "    </tr>\n",
       "    <tr>\n",
       "      <th>138</th>\n",
       "      <td>QC</td>\n",
       "      <td>1753</td>\n",
       "      <td>Crops Primary</td>\n",
       "      <td>Fibre Crops Primary</td>\n",
       "      <td>1.0</td>\n",
       "      <td></td>\n",
       "      <td></td>\n",
       "      <td></td>\n",
       "      <td></td>\n",
       "    </tr>\n",
       "    <tr>\n",
       "      <th>145</th>\n",
       "      <td>QC</td>\n",
       "      <td>1738</td>\n",
       "      <td>Crops Primary</td>\n",
       "      <td>Fruit Primary</td>\n",
       "      <td>1.0</td>\n",
       "      <td></td>\n",
       "      <td></td>\n",
       "      <td></td>\n",
       "      <td></td>\n",
       "    </tr>\n",
       "  </tbody>\n",
       "</table>\n",
       "</div>"
      ],
      "text/plain": [
       "    Item Group Code  Item Code     Item Group                 Item  Factor  \\\n",
       "96               QC       1717  Crops Primary       Cereals, Total     1.0   \n",
       "113              QC       1804  Crops Primary  Citrus Fruit, Total     1.0   \n",
       "122              QC        813  Crops Primary                 Coir     1.0   \n",
       "138              QC       1753  Crops Primary  Fibre Crops Primary     1.0   \n",
       "145              QC       1738  Crops Primary        Fruit Primary     1.0   \n",
       "\n",
       "    HS Code HS07 Code HS12 Code  CPC Code  \n",
       "96                                         \n",
       "113                                        \n",
       "122            530500    530500  01929.08  \n",
       "138                                        \n",
       "145                                        "
      ]
     },
     "execution_count": 14,
     "metadata": {},
     "output_type": "execute_result"
    }
   ],
   "source": [
    "# Check if there are codes in bulk that *only* have a group code associated that is to be delete (sanity check before deletion)\n",
    "codes_present = (\n",
    "    qcl_bulk.index.get_level_values(\"Item Code\").unique().astype(str).tolist()\n",
    ")\n",
    "msk = x[\"Item Code\"].astype(str).isin(codes_present)\n",
    "y = x[msk]\n",
    "yy = y.groupby(\"Item Code\")[\"Item Group Code\"].agg(set)\n",
    "l = yy[yy == {\"QC\"}].index.tolist()  # Change to see other groups with unique childs\n",
    "x[x[\"Item Code\"].isin(l)].head()"
   ]
  },
  {
   "cell_type": "code",
   "execution_count": 15,
   "metadata": {},
   "outputs": [],
   "source": [
    "qcl_item = qcl_item[[\"Item Group\", \"Item\"]]"
   ]
  },
  {
   "cell_type": "markdown",
   "metadata": {},
   "source": [
    "### `Element`"
   ]
  },
  {
   "cell_type": "code",
   "execution_count": 16,
   "metadata": {},
   "outputs": [],
   "source": [
    "qcl_element = qcl_meadow[\"meta_element\"]\n",
    "qcl_unit = qcl_meadow[\"meta_unit\"]"
   ]
  },
  {
   "cell_type": "code",
   "execution_count": 17,
   "metadata": {},
   "outputs": [],
   "source": [
    "qcl_element_unit = qcl_element.merge(\n",
    "    qcl_unit.rename(columns={\"Description\": \"Unit Description\"}),\n",
    "    left_on=\"Unit\",\n",
    "    right_index=True,\n",
    ")\n",
    "assert qcl_element_unit.shape[0] == qcl_element.shape[0]"
   ]
  },
  {
   "cell_type": "markdown",
   "metadata": {},
   "source": [
    "### Bulk"
   ]
  },
  {
   "cell_type": "code",
   "execution_count": 18,
   "metadata": {
    "tags": []
   },
   "outputs": [],
   "source": [
    "# Filter countries + Area Code -> Country\n",
    "qcl_bulk = qcl_bulk.loc[map_area].rename(index=map_area, level=0)\n",
    "name_map = {\"Area Code\": \"Country\"}\n",
    "qcl_bulk.index.names = [name_map.get(n, n) for n in qcl_bulk.index.names]"
   ]
  },
  {
   "cell_type": "code",
   "execution_count": 19,
   "metadata": {},
   "outputs": [],
   "source": [
    "# Drop Unit\n",
    "qcl_bulk = qcl_bulk.drop(columns=[\"Unit\"])"
   ]
  },
  {
   "cell_type": "markdown",
   "metadata": {},
   "source": [
    "#### Variable name"
   ]
  },
  {
   "cell_type": "code",
   "execution_count": 20,
   "metadata": {},
   "outputs": [],
   "source": [
    "# Get Item names\n",
    "x = qcl_item.reset_index()\n",
    "a = (\n",
    "    x[[\"Item Group Code\", \"Item Group\"]]\n",
    "    .drop_duplicates()\n",
    "    .rename(columns={\"Item Group Code\": \"Code\", \"Item Group\": \"Name\"})\n",
    ")\n",
    "b = (\n",
    "    x[[\"Item Code\", \"Item\"]]\n",
    "    .drop_duplicates()\n",
    "    .rename(columns={\"Item Code\": \"Code\", \"Item\": \"Name\"})\n",
    ")\n",
    "c = pd.concat([a, b])\n",
    "map_items = dict(zip(c.Code, c.Name))\n",
    "item_names = [map_items[it] for it in qcl_bulk.index.get_level_values(1)]"
   ]
  },
  {
   "cell_type": "code",
   "execution_count": 21,
   "metadata": {},
   "outputs": [],
   "source": [
    "# Get Element + Unit names\n",
    "x = qcl_element_unit.reset_index()\n",
    "y = list(x[\"Element\"].astype(str) + \" (\" + x[\"Unit\"].astype(str) + \")\")\n",
    "map_elems = dict(zip(x[\"Element Code\"], y))\n",
    "elem_names = [map_elems[el] for el in qcl_bulk.index.get_level_values(2)]"
   ]
  },
  {
   "cell_type": "code",
   "execution_count": 22,
   "metadata": {},
   "outputs": [],
   "source": [
    "# Construct variable name\n",
    "variable_names = [f\"{i} - {e}\" for i, e in zip(item_names, elem_names)]"
   ]
  },
  {
   "cell_type": "code",
   "execution_count": 23,
   "metadata": {},
   "outputs": [],
   "source": [
    "# Add variable name to index\n",
    "qcl_bulk[\"Variable Name\"] = variable_names\n",
    "qcl_bulk = qcl_bulk.reset_index()\n",
    "qcl_bulk = qcl_bulk.set_index(\n",
    "    [\"Country\", \"Item Code\", \"Element Code\", \"Variable Name\", \"Year\", \"Flag\"]\n",
    ")"
   ]
  },
  {
   "cell_type": "markdown",
   "metadata": {},
   "source": [
    "## Create Garden dataset"
   ]
  },
  {
   "cell_type": "code",
   "execution_count": 25,
   "metadata": {},
   "outputs": [],
   "source": [
    "qcl_garden = catalog.Dataset.create_empty(dest_dir)"
   ]
  },
  {
   "cell_type": "code",
   "execution_count": 26,
   "metadata": {},
   "outputs": [],
   "source": [
    "# Propagate metadata\n",
    "qcl_garden.metadata = qcl_meadow.metadata\n",
    "qcl_garden.save()"
   ]
  },
  {
   "cell_type": "code",
   "execution_count": 38,
   "metadata": {},
   "outputs": [],
   "source": [
    "# Add bulk table\n",
    "qcl_garden.add(qcl_bulk)\n",
    "# Add table items\n",
    "qcl_garden.add(qcl_item)\n",
    "# Add table elements\n",
    "qcl_element_unit.metadata = qcl_element.metadata\n",
    "qcl_garden.add(qcl_element_unit)"
   ]
  },
  {
   "cell_type": "code",
   "execution_count": 39,
   "metadata": {},
   "outputs": [],
   "source": [
    "qcl_garden.save()"
   ]
  }
 ],
 "metadata": {
  "interpreter": {
   "hash": "bfee9b694fe04c946c13f91f59877f323f209df7eaba52b3079ace55470be701"
  },
  "kernelspec": {
   "display_name": "Python 3 (ipykernel)",
   "language": "python",
   "name": "python3"
  },
  "language_info": {
   "codemirror_mode": {
    "name": "ipython",
    "version": 3
   },
   "file_extension": ".py",
   "mimetype": "text/x-python",
   "name": "python",
   "nbconvert_exporter": "python",
   "pygments_lexer": "ipython3",
   "version": "3.9.7"
  }
 },
 "nbformat": 4,
 "nbformat_minor": 4
}
