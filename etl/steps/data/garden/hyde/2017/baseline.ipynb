{
 "cells": [
  {
   "cell_type": "markdown",
   "id": "ac2e6a27-d270-487b-92e9-c46673ed5d2d",
   "metadata": {},
   "source": [
    "# Hyde baseline 2017"
   ]
  },
  {
   "cell_type": "markdown",
   "id": "41f7a59f-db7b-4fc2-8f2f-060a833bbf69",
   "metadata": {},
   "source": [
    "Harmonize countries in the Hyde baseline."
   ]
  },
  {
   "cell_type": "markdown",
   "id": "966497d2-ab7f-499e-9a77-3a079986b653",
   "metadata": {},
   "source": [
    "## Parameters"
   ]
  },
  {
   "cell_type": "code",
   "execution_count": null,
   "id": "4964a39c-2bcd-466e-9ae0-258f4707c56b",
   "metadata": {
    "tags": [
     "parameters"
    ]
   },
   "outputs": [],
   "source": [
    "dest_dir = \"/tmp/hyde_3_2_baseline_harmonized\""
   ]
  },
  {
   "cell_type": "markdown",
   "id": "7000f269-bb0c-4866-8f5c-6fb9189163e0",
   "metadata": {},
   "source": [
    "## Imports"
   ]
  },
  {
   "cell_type": "code",
   "execution_count": null,
   "id": "93b6d712-c438-4c3d-904e-9557367b5496",
   "metadata": {},
   "outputs": [],
   "source": [
    "from owid import catalog\n",
    "from owid.catalog import Dataset"
   ]
  },
  {
   "cell_type": "code",
   "execution_count": null,
   "id": "489c1874-a0dc-491c-82db-b0343825d251",
   "metadata": {},
   "outputs": [],
   "source": [
    "from etl.paths import DATA_DIR, BASE_DIR"
   ]
  },
  {
   "cell_type": "code",
   "execution_count": null,
   "id": "200ea817-8944-4247-b729-d32590ea4ff3",
   "metadata": {},
   "outputs": [],
   "source": [
    "import json"
   ]
  },
  {
   "cell_type": "markdown",
   "id": "1d5174cf-53ad-4840-946c-c5246003b399",
   "metadata": {},
   "source": [
    "## Data files"
   ]
  },
  {
   "cell_type": "code",
   "execution_count": null,
   "id": "e9a25ef8-ad0f-4f4e-804f-227c0df36fb3",
   "metadata": {},
   "outputs": [],
   "source": [
    "source_ds = Dataset(DATA_DIR / \"meadow/hyde/2017/baseline\")\n",
    "population_raw = source_ds[\"population\"]"
   ]
  },
  {
   "cell_type": "code",
   "execution_count": null,
   "id": "f2e6e79a-64df-4935-b7df-393576610e43",
   "metadata": {},
   "outputs": [],
   "source": [
    "population_raw.head()"
   ]
  },
  {
   "cell_type": "code",
   "execution_count": null,
   "id": "55af73e2-353e-4b10-95fb-10f5d464f04c",
   "metadata": {},
   "outputs": [],
   "source": [
    "country_mapping_file = (\n",
    "    BASE_DIR / \"etl/steps/data/garden/hyde/2017/baseline.mapping.json\"\n",
    ")\n",
    "with open(country_mapping_file) as istream:\n",
    "    country_mapping = json.load(istream)"
   ]
  },
  {
   "cell_type": "markdown",
   "id": "4c87a7a6-8237-4319-8b0a-d200db96dfdc",
   "metadata": {},
   "source": [
    "## Fix country mapping"
   ]
  },
  {
   "cell_type": "code",
   "execution_count": null,
   "id": "66706425-6395-44e5-89f1-b6a74debf133",
   "metadata": {},
   "outputs": [],
   "source": [
    "population = population_raw.reset_index()\n",
    "population[\"country\"] = population.country.apply(lambda c: country_mapping[c])"
   ]
  },
  {
   "cell_type": "code",
   "execution_count": null,
   "id": "ac965bb6-aeca-4612-8786-8cf9cab55d94",
   "metadata": {},
   "outputs": [],
   "source": [
    "population.set_index([\"country\", \"year\"], inplace=True)"
   ]
  },
  {
   "cell_type": "code",
   "execution_count": null,
   "id": "f0a2322e-e36b-40da-aa63-302efb846a24",
   "metadata": {},
   "outputs": [],
   "source": [
    "# make sure the metadata passed through\n",
    "population.metadata"
   ]
  },
  {
   "cell_type": "markdown",
   "id": "6c89b36d-d683-460f-81b5-4f0727568e47",
   "metadata": {},
   "source": [
    "## Save dataset"
   ]
  },
  {
   "cell_type": "code",
   "execution_count": null,
   "id": "7c4b8081-085c-4a31-8819-a04e099c317a",
   "metadata": {},
   "outputs": [],
   "source": [
    "ds = Dataset.create_empty(dest_dir)"
   ]
  },
  {
   "cell_type": "code",
   "execution_count": null,
   "id": "c4b0e780-ea9c-4465-b89d-0cf3c6fbfbef",
   "metadata": {},
   "outputs": [],
   "source": [
    "ds.metadata = source_ds.metadata\n",
    "ds.save()"
   ]
  },
  {
   "cell_type": "code",
   "execution_count": null,
   "id": "eeed019e-9b3a-45d8-873a-681527af249c",
   "metadata": {},
   "outputs": [],
   "source": [
    "ds.add(population)"
   ]
  }
 ],
 "metadata": {
  "kernelspec": {
   "display_name": "Python 3 (ipykernel)",
   "language": "python",
   "name": "python3"
  },
  "language_info": {
   "codemirror_mode": {
    "name": "ipython",
    "version": 3
   },
   "file_extension": ".py",
   "mimetype": "text/x-python",
   "name": "python",
   "nbconvert_exporter": "python",
   "pygments_lexer": "ipython3",
   "version": "3.9.7"
  }
 },
 "nbformat": 4,
 "nbformat_minor": 5
}
