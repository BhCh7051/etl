{
 "cells": [
  {
   "cell_type": "markdown",
   "id": "12fe55dd-d6a8-4b04-b4de-40a93d325bfd",
   "metadata": {},
   "source": [
    "# Food Explorer\n",
    "Produced using garden-level FAOstat datasets. \n",
    "\n",
    "So far the following datasets have been processede:\n",
    "\n",
    "- [x] QCL\n",
    "- [ ] FBSC (FBS, FBSH)"
   ]
  },
  {
   "cell_type": "markdown",
   "id": "181739bb-0909-465a-afdd-0efc47e2d09a",
   "metadata": {},
   "source": [
    "## Parameters"
   ]
  },
  {
   "cell_type": "code",
   "execution_count": 106,
   "id": "6f35e10c-ecda-4c86-8783-56992f6f855e",
   "metadata": {
    "tags": [
     "parameters"
    ]
   },
   "outputs": [],
   "source": [
    "dest_dir = \"/tmp/food_explorer\""
   ]
  },
  {
   "cell_type": "markdown",
   "id": "7a35dbb4-850f-491d-b071-7eab7fe64253",
   "metadata": {},
   "source": [
    "## Imports & paths\n",
    "Import the required libraries and define paths to load files (including data files and standardisation mappings for item and element names)."
   ]
  },
  {
   "cell_type": "code",
   "execution_count": 107,
   "id": "2319d18c-fc2f-49d5-be71-c55bc7676a8b",
   "metadata": {},
   "outputs": [],
   "source": [
    "from pathlib import Path\n",
    "import pandas as pd\n",
    "import numpy as np\n",
    "from owid import catalog\n",
    "from etl.paths import BASE_DIR as base_path"
   ]
  },
  {
   "cell_type": "code",
   "execution_count": 108,
   "id": "5674d02f-c7cd-4ef8-a28d-a64ddcc4caa3",
   "metadata": {},
   "outputs": [],
   "source": [
    "path_dataset_qcl = base_path / \"data/garden/faostat/2021-03-18/faostat_qcl\"\n",
    "path_dataset_fbsc = base_path / \"data/garden/faostat/2021-04-09/faostat_fbsc\"\n",
    "path_map_item = (\n",
    "    base_path / \"etl/steps/data/garden/explorers/2021/food_explorer.items.std.csv\"\n",
    ")\n",
    "path_map_elem = (\n",
    "    base_path / \"etl/steps/data/garden/explorers/2021/food_explorer.elements.std.csv\"\n",
    ")"
   ]
  },
  {
   "cell_type": "markdown",
   "id": "28b2966f-c5e6-4039-825b-824fb430724c",
   "metadata": {
    "tags": []
   },
   "source": [
    "## Load meadow dataset\n",
    "In this step we load the required datasets from Garden. At the moment, only QCL dataset is processed. In next iterations FBS+FBSH dataset will be also imported."
   ]
  },
  {
   "cell_type": "code",
   "execution_count": 109,
   "id": "a5769436-dfed-466b-9108-d534c59b7acd",
   "metadata": {},
   "outputs": [],
   "source": [
    "qcl_garden = catalog.Dataset(path_dataset_qcl)\n",
    "fbsc_garden = catalog.Dataset(path_dataset_fbsc)"
   ]
  },
  {
   "cell_type": "markdown",
   "id": "444ca7ec-05f0-42b3-ab4b-2bced4c5b344",
   "metadata": {},
   "source": [
    "We obtain table `bulk` from the dataset, which contains the data itself."
   ]
  },
  {
   "cell_type": "code",
   "execution_count": 110,
   "id": "2edc462f-3dec-46c7-8d99-e89242fc38e4",
   "metadata": {
    "tags": []
   },
   "outputs": [],
   "source": [
    "# Bulk data and items metadata\n",
    "qcl_bulk = qcl_garden[\"bulk\"]\n",
    "fbsc_bulk = fbsc_garden[\"bulk\"]"
   ]
  },
  {
   "cell_type": "markdown",
   "id": "bd0a9471-8b2b-46c8-8152-18e0c035446b",
   "metadata": {},
   "source": [
    "In the following step we discard column `Variable name`, which although useful for its clarity we don't actually need it in this process. Also, we reset the index as this will be needed in following operations. "
   ]
  },
  {
   "cell_type": "code",
   "execution_count": 9,
   "id": "944a7d5d-48ec-4700-8795-e360245252c8",
   "metadata": {},
   "outputs": [],
   "source": [
    "# QCL\n",
    "qcl_bulk = qcl_bulk.reset_index()\n",
    "qcl_bulk = qcl_bulk.drop(columns=[\"Variable Name\"])\n",
    "# FBSC\n",
    "fbsc_bulk = fbsc_bulk.reset_index()\n",
    "fbsc_bulk = fbsc_bulk.drop(columns=[\"Variable Name\"])"
   ]
  },
  {
   "cell_type": "markdown",
   "id": "24c96121-c608-4ac0-9b55-ad47c1f2eb3a",
   "metadata": {},
   "source": [
    "Brief overview of the data."
   ]
  },
  {
   "cell_type": "code",
   "execution_count": 12,
   "id": "e88461fe-c796-4cd2-8007-dadb141e01c6",
   "metadata": {},
   "outputs": [
    {
     "name": "stdout",
     "output_type": "stream",
     "text": [
      "(2796737, 6)\n"
     ]
    },
    {
     "data": {
      "text/html": [
       "<div>\n",
       "<style scoped>\n",
       "    .dataframe tbody tr th:only-of-type {\n",
       "        vertical-align: middle;\n",
       "    }\n",
       "\n",
       "    .dataframe tbody tr th {\n",
       "        vertical-align: top;\n",
       "    }\n",
       "\n",
       "    .dataframe thead th {\n",
       "        text-align: right;\n",
       "    }\n",
       "</style>\n",
       "<table border=\"1\" class=\"dataframe\">\n",
       "  <thead>\n",
       "    <tr style=\"text-align: right;\">\n",
       "      <th></th>\n",
       "      <th>Country</th>\n",
       "      <th>Item Code</th>\n",
       "      <th>Element Code</th>\n",
       "      <th>Year</th>\n",
       "      <th>Flag</th>\n",
       "      <th>Value</th>\n",
       "    </tr>\n",
       "  </thead>\n",
       "  <tbody>\n",
       "    <tr>\n",
       "      <th>0</th>\n",
       "      <td>Armenia</td>\n",
       "      <td>221</td>\n",
       "      <td>5312</td>\n",
       "      <td>1992</td>\n",
       "      <td>M</td>\n",
       "      <td>&lt;NA&gt;</td>\n",
       "    </tr>\n",
       "    <tr>\n",
       "      <th>1</th>\n",
       "      <td>Armenia</td>\n",
       "      <td>221</td>\n",
       "      <td>5312</td>\n",
       "      <td>1993</td>\n",
       "      <td>M</td>\n",
       "      <td>&lt;NA&gt;</td>\n",
       "    </tr>\n",
       "    <tr>\n",
       "      <th>2</th>\n",
       "      <td>Armenia</td>\n",
       "      <td>221</td>\n",
       "      <td>5312</td>\n",
       "      <td>1994</td>\n",
       "      <td>M</td>\n",
       "      <td>&lt;NA&gt;</td>\n",
       "    </tr>\n",
       "    <tr>\n",
       "      <th>3</th>\n",
       "      <td>Armenia</td>\n",
       "      <td>221</td>\n",
       "      <td>5312</td>\n",
       "      <td>1995</td>\n",
       "      <td>M</td>\n",
       "      <td>&lt;NA&gt;</td>\n",
       "    </tr>\n",
       "    <tr>\n",
       "      <th>4</th>\n",
       "      <td>Armenia</td>\n",
       "      <td>221</td>\n",
       "      <td>5312</td>\n",
       "      <td>1996</td>\n",
       "      <td>M</td>\n",
       "      <td>&lt;NA&gt;</td>\n",
       "    </tr>\n",
       "  </tbody>\n",
       "</table>\n",
       "</div>"
      ],
      "text/plain": [
       "   Country  Item Code  Element Code  Year Flag  Value\n",
       "0  Armenia        221          5312  1992    M   <NA>\n",
       "1  Armenia        221          5312  1993    M   <NA>\n",
       "2  Armenia        221          5312  1994    M   <NA>\n",
       "3  Armenia        221          5312  1995    M   <NA>\n",
       "4  Armenia        221          5312  1996    M   <NA>"
      ]
     },
     "execution_count": 12,
     "metadata": {},
     "output_type": "execute_result"
    }
   ],
   "source": [
    "# QCL\n",
    "print(qcl_bulk.shape)\n",
    "qcl_bulk.head()"
   ]
  },
  {
   "cell_type": "code",
   "execution_count": 13,
   "id": "2a7f2ffb-ea32-4628-b070-affa5ea29a72",
   "metadata": {},
   "outputs": [
    {
     "name": "stdout",
     "output_type": "stream",
     "text": [
      "(10319823, 6)\n"
     ]
    },
    {
     "data": {
      "text/html": [
       "<div>\n",
       "<style scoped>\n",
       "    .dataframe tbody tr th:only-of-type {\n",
       "        vertical-align: middle;\n",
       "    }\n",
       "\n",
       "    .dataframe tbody tr th {\n",
       "        vertical-align: top;\n",
       "    }\n",
       "\n",
       "    .dataframe thead th {\n",
       "        text-align: right;\n",
       "    }\n",
       "</style>\n",
       "<table border=\"1\" class=\"dataframe\">\n",
       "  <thead>\n",
       "    <tr style=\"text-align: right;\">\n",
       "      <th></th>\n",
       "      <th>Country</th>\n",
       "      <th>Item Code</th>\n",
       "      <th>Element Code</th>\n",
       "      <th>Year</th>\n",
       "      <th>Flag</th>\n",
       "      <th>Value</th>\n",
       "    </tr>\n",
       "  </thead>\n",
       "  <tbody>\n",
       "    <tr>\n",
       "      <th>0</th>\n",
       "      <td>Armenia</td>\n",
       "      <td>2901</td>\n",
       "      <td>664</td>\n",
       "      <td>2014</td>\n",
       "      <td>Fc</td>\n",
       "      <td>3069.0</td>\n",
       "    </tr>\n",
       "    <tr>\n",
       "      <th>1</th>\n",
       "      <td>Armenia</td>\n",
       "      <td>2901</td>\n",
       "      <td>664</td>\n",
       "      <td>2015</td>\n",
       "      <td>Fc</td>\n",
       "      <td>3090.0</td>\n",
       "    </tr>\n",
       "    <tr>\n",
       "      <th>2</th>\n",
       "      <td>Armenia</td>\n",
       "      <td>2901</td>\n",
       "      <td>664</td>\n",
       "      <td>2016</td>\n",
       "      <td>Fc</td>\n",
       "      <td>3051.0</td>\n",
       "    </tr>\n",
       "    <tr>\n",
       "      <th>3</th>\n",
       "      <td>Armenia</td>\n",
       "      <td>2901</td>\n",
       "      <td>664</td>\n",
       "      <td>2017</td>\n",
       "      <td>Fc</td>\n",
       "      <td>3072.0</td>\n",
       "    </tr>\n",
       "    <tr>\n",
       "      <th>4</th>\n",
       "      <td>Armenia</td>\n",
       "      <td>2901</td>\n",
       "      <td>664</td>\n",
       "      <td>2018</td>\n",
       "      <td>Fc</td>\n",
       "      <td>2997.0</td>\n",
       "    </tr>\n",
       "  </tbody>\n",
       "</table>\n",
       "</div>"
      ],
      "text/plain": [
       "   Country  Item Code  Element Code  Year Flag   Value\n",
       "0  Armenia       2901           664  2014   Fc  3069.0\n",
       "1  Armenia       2901           664  2015   Fc  3090.0\n",
       "2  Armenia       2901           664  2016   Fc  3051.0\n",
       "3  Armenia       2901           664  2017   Fc  3072.0\n",
       "4  Armenia       2901           664  2018   Fc  2997.0"
      ]
     },
     "execution_count": 13,
     "metadata": {},
     "output_type": "execute_result"
    }
   ],
   "source": [
    "# FBSC\n",
    "print(fbsc_bulk.shape)\n",
    "fbsc_bulk.head()"
   ]
  },
  {
   "cell_type": "markdown",
   "id": "917c3fc8-c58f-4c6b-8024-7ee6a1a22e18",
   "metadata": {},
   "source": [
    "## Select Flags\n",
    "There are cases where we have more than just one entry for a `Country`, `Item Code`, `Element Code` and `Year`. This is due to the fact that there are multiple ways of reporting the data. All these different methodologies are identified by the field `Flag`, which tells us how a data point was obtained (see table below). This is given by FAOstat.\n",
    "\n",
    "|Flag   |Description                                                                        |\n",
    "|-------|-----------------------------------------------------------------------------------|\n",
    "|*      |       Unofficial figure                                                           |\n",
    "|<blank>| Official data                                                                     |\n",
    "|A      |       Aggregate; may include official; semi-official; estimated or calculated data|\n",
    "|F      |       FAO estimate                                                                |\n",
    "|Fc     |      Calculated data                                                              |\n",
    "|Im     |      FAO data based on imputation methodology                                     |\n",
    "|M      |       Data not available                                                          |\n",
    "\n",
    "The following cell examines how many datapoints would be removed if we did _flag-prioritisation_. As per the output, we see that we would eliminate 30,688 rows (~1% of the data)."
   ]
  },
  {
   "cell_type": "code",
   "execution_count": 19,
   "id": "62537795-b1bd-4495-b221-3a20a3c575b8",
   "metadata": {},
   "outputs": [
    {
     "name": "stdout",
     "output_type": "stream",
     "text": [
      "Number of datapoints: 2796737\n",
      "Number of datapoints (after dropping duplicates): 2766049\n",
      "Total datapoints removed: 30688\n",
      "30688, True\n",
      "\n",
      "Number of datapoints: 10319823\n",
      "Number of datapoints (after dropping duplicates): 10246430\n",
      "Total datapoints removed: 73393\n",
      "73393, True\n"
     ]
    }
   ],
   "source": [
    "def check_flags_1(df):\n",
    "    i_og = df.index.tolist()\n",
    "    i_ne = df.drop_duplicates(\n",
    "        subset=[\"Country\", \"Item Code\", \"Element Code\", \"Year\"]\n",
    "    ).index.tolist()\n",
    "    print(\n",
    "        f\"Number of datapoints: {len(i_og)}\\nNumber of datapoints (after dropping duplicates): {len(i_ne)}\\nTotal datapoints removed: {len(i_og)-len(i_ne)}\"\n",
    "    )\n",
    "    check_flags_2(df, i_og, i_ne)\n",
    "    \n",
    "def check_flags_2(df, i_og, i_ne):\n",
    "    \"\"\"Prints `[number of datapoints eliminated], True`\"\"\"\n",
    "    df = df.set_index([\"Country\", \"Item Code\", \"Element Code\", \"Year\"])\n",
    "    dups = df.index.duplicated()\n",
    "    print(f\"{dups.sum()}, {len(i_ne) == len(i_og)-dups.sum()}\")\n",
    "    # dups = qcl_bulk.index.duplicated(keep=False)\n",
    "    df = df.reset_index()\n",
    "\n",
    "\n",
    "check_flags_1(qcl_bulk)\n",
    "print()\n",
    "check_flags_1(fbsc_bulk)"
   ]
  },
  {
   "cell_type": "markdown",
   "id": "4bbcd2b9-d199-45a9-a87c-2a0930209b05",
   "metadata": {},
   "source": [
    "### Flag prioritzation"
   ]
  },
  {
   "cell_type": "markdown",
   "id": "785e764b-fb83-45c0-a604-9ff31c12a283",
   "metadata": {
    "tags": []
   },
   "source": [
    "In this step we define a Flag prioritisation rank, which allows us to discard duplicate entries based on which flag we \"prefer\". We do this by assigning a weight to each datapoint based on their `Flag` value (the higher, the more prioritised it is). On top of flag prioritisation, we always prefer non-`NaN` values regardless of their associated `Flag` value (we assign weight -1 to this datapoints). The weighting was shared and discussed with authors. \n",
    "\n",
    "The weight is added to the dataframe as a new column `Flag_priority`.\n",
    "\n",
    "#### Example 1\n",
    "\n",
    "    Country, Year, Product, Value, Flag \n",
    "    Afghanistan, 1993, Apple, 100, F\n",
    "    Afghanistan, 1993, Apple, 120, A\n",
    "\n",
    "We would choose first row, with flag F.\n",
    "\n",
    "#### Example 2:\n",
    "\n",
    "    Country, Year, Product, Value, Flag \n",
    "    Afghanistan, 1993, Apple, NaN, F\n",
    "    Afghanistan, 1993, Apple, 120, A\n",
    "\n",
    "We would choose second row, as first row is `NaN`.\n",
    "\n",
    "\n",
    "In the following cell we filter rows based on `FLAG_PRIORITIES`."
   ]
  },
  {
   "cell_type": "code",
   "execution_count": 24,
   "id": "f5da2eda-1fca-47d0-9bd3-7da00c99d562",
   "metadata": {},
   "outputs": [],
   "source": [
    "# Create flag priority (add to df) More info at https://www.fao.org/faostat/en/#definitions\n",
    "FLAG_PRIORITIES = {\n",
    "    \"M\": 0,  # Data not available\n",
    "    \"SD\": 10,  # Statistical Discrepancy\n",
    "    \"*\": 20,  # Unofficial figure\n",
    "    \"R\": 30,  # Estimated data using trading partners database\n",
    "    \"Fc\": 40,  # Calculated data\n",
    "    \"S\": 60,  # Standardized data\n",
    "    \"A\": 70,  # Aggregate; may include official; semi-official; estimated or calculated data\n",
    "    \"Im\": 80,  # FAO data based on imputation methodology\n",
    "    \"F\": 90,  # FAO estimate\n",
    "    np.nan: 100,  # Official data\n",
    "}\n",
    "\n",
    "\n",
    "def filter_by_flag_priority(df):\n",
    "    # Add Flag priority column    \n",
    "    df.loc[:, \"Flag_priority\"] = df.Flag.replace(FLAG_PRIORITIES).tolist()\n",
    "    df.loc[df.Value.isna(), \"Flag_priority\"] = -1\n",
    "    # Remove duplicates based on Flag value\n",
    "    df = df.sort_values(\"Flag_priority\")\n",
    "    df = df.drop_duplicates(\n",
    "        subset=[\"Country\", \"Item Code\", \"Element Code\", \"Year\"], keep=\"last\"\n",
    "    )\n",
    "    return df.drop(columns=[\"Flag_priority\", \"Flag\"])"
   ]
  },
  {
   "cell_type": "code",
   "execution_count": 25,
   "id": "dbb64782-3fe5-4ac4-a59c-013f1221ed16",
   "metadata": {},
   "outputs": [
    {
     "ename": "AttributeError",
     "evalue": "'Table' object has no attribute 'Flag'",
     "output_type": "error",
     "traceback": [
      "\u001b[0;31m---------------------------------------------------------------------------\u001b[0m",
      "\u001b[0;31mAttributeError\u001b[0m                            Traceback (most recent call last)",
      "\u001b[0;32m/var/folders/cj/2l0s7ryd4l184l43kccs5gpm0000gn/T/ipykernel_77710/2751089441.py\u001b[0m in \u001b[0;36m<module>\u001b[0;34m\u001b[0m\n\u001b[1;32m      1\u001b[0m \u001b[0;31m# QCL\u001b[0m\u001b[0;34m\u001b[0m\u001b[0;34m\u001b[0m\u001b[0;34m\u001b[0m\u001b[0m\n\u001b[0;32m----> 2\u001b[0;31m \u001b[0mqcl_bulk\u001b[0m \u001b[0;34m=\u001b[0m \u001b[0mfilter_by_flag_priority\u001b[0m\u001b[0;34m(\u001b[0m\u001b[0mqcl_bulk\u001b[0m\u001b[0;34m)\u001b[0m\u001b[0;34m\u001b[0m\u001b[0;34m\u001b[0m\u001b[0m\n\u001b[0m\u001b[1;32m      3\u001b[0m \u001b[0mprint\u001b[0m\u001b[0;34m(\u001b[0m\u001b[0mqcl_bulk\u001b[0m\u001b[0;34m.\u001b[0m\u001b[0mshape\u001b[0m\u001b[0;34m)\u001b[0m\u001b[0;34m\u001b[0m\u001b[0;34m\u001b[0m\u001b[0m\n",
      "\u001b[0;32m/var/folders/cj/2l0s7ryd4l184l43kccs5gpm0000gn/T/ipykernel_77710/4145165407.py\u001b[0m in \u001b[0;36mfilter_by_flag_priority\u001b[0;34m(df)\u001b[0m\n\u001b[1;32m     16\u001b[0m \u001b[0;32mdef\u001b[0m \u001b[0mfilter_by_flag_priority\u001b[0m\u001b[0;34m(\u001b[0m\u001b[0mdf\u001b[0m\u001b[0;34m)\u001b[0m\u001b[0;34m:\u001b[0m\u001b[0;34m\u001b[0m\u001b[0;34m\u001b[0m\u001b[0m\n\u001b[1;32m     17\u001b[0m     \u001b[0;31m# Add Flag priority column\u001b[0m\u001b[0;34m\u001b[0m\u001b[0;34m\u001b[0m\u001b[0;34m\u001b[0m\u001b[0m\n\u001b[0;32m---> 18\u001b[0;31m     \u001b[0mdf\u001b[0m\u001b[0;34m.\u001b[0m\u001b[0mloc\u001b[0m\u001b[0;34m[\u001b[0m\u001b[0;34m:\u001b[0m\u001b[0;34m,\u001b[0m \u001b[0;34m\"Flag_priority\"\u001b[0m\u001b[0;34m]\u001b[0m \u001b[0;34m=\u001b[0m \u001b[0mdf\u001b[0m\u001b[0;34m.\u001b[0m\u001b[0mFlag\u001b[0m\u001b[0;34m.\u001b[0m\u001b[0mreplace\u001b[0m\u001b[0;34m(\u001b[0m\u001b[0mFLAG_PRIORITIES\u001b[0m\u001b[0;34m)\u001b[0m\u001b[0;34m.\u001b[0m\u001b[0mtolist\u001b[0m\u001b[0;34m(\u001b[0m\u001b[0;34m)\u001b[0m\u001b[0;34m\u001b[0m\u001b[0;34m\u001b[0m\u001b[0m\n\u001b[0m\u001b[1;32m     19\u001b[0m     \u001b[0mdf\u001b[0m\u001b[0;34m.\u001b[0m\u001b[0mloc\u001b[0m\u001b[0;34m[\u001b[0m\u001b[0mdf\u001b[0m\u001b[0;34m.\u001b[0m\u001b[0mValue\u001b[0m\u001b[0;34m.\u001b[0m\u001b[0misna\u001b[0m\u001b[0;34m(\u001b[0m\u001b[0;34m)\u001b[0m\u001b[0;34m,\u001b[0m \u001b[0;34m\"Flag_priority\"\u001b[0m\u001b[0;34m]\u001b[0m \u001b[0;34m=\u001b[0m \u001b[0;34m-\u001b[0m\u001b[0;36m1\u001b[0m\u001b[0;34m\u001b[0m\u001b[0;34m\u001b[0m\u001b[0m\n\u001b[1;32m     20\u001b[0m     \u001b[0;31m# Remove duplicates based on Flag value\u001b[0m\u001b[0;34m\u001b[0m\u001b[0;34m\u001b[0m\u001b[0;34m\u001b[0m\u001b[0m\n",
      "\u001b[0;32m~/repos/etl/.venv/lib/python3.9/site-packages/pandas/core/generic.py\u001b[0m in \u001b[0;36m__getattr__\u001b[0;34m(self, name)\u001b[0m\n\u001b[1;32m   5485\u001b[0m         ):\n\u001b[1;32m   5486\u001b[0m             \u001b[0;32mreturn\u001b[0m \u001b[0mself\u001b[0m\u001b[0;34m[\u001b[0m\u001b[0mname\u001b[0m\u001b[0;34m]\u001b[0m\u001b[0;34m\u001b[0m\u001b[0;34m\u001b[0m\u001b[0m\n\u001b[0;32m-> 5487\u001b[0;31m         \u001b[0;32mreturn\u001b[0m \u001b[0mobject\u001b[0m\u001b[0;34m.\u001b[0m\u001b[0m__getattribute__\u001b[0m\u001b[0;34m(\u001b[0m\u001b[0mself\u001b[0m\u001b[0;34m,\u001b[0m \u001b[0mname\u001b[0m\u001b[0;34m)\u001b[0m\u001b[0;34m\u001b[0m\u001b[0;34m\u001b[0m\u001b[0m\n\u001b[0m\u001b[1;32m   5488\u001b[0m \u001b[0;34m\u001b[0m\u001b[0m\n\u001b[1;32m   5489\u001b[0m     \u001b[0;32mdef\u001b[0m \u001b[0m__setattr__\u001b[0m\u001b[0;34m(\u001b[0m\u001b[0mself\u001b[0m\u001b[0;34m,\u001b[0m \u001b[0mname\u001b[0m\u001b[0;34m:\u001b[0m \u001b[0mstr\u001b[0m\u001b[0;34m,\u001b[0m \u001b[0mvalue\u001b[0m\u001b[0;34m)\u001b[0m \u001b[0;34m->\u001b[0m \u001b[0;32mNone\u001b[0m\u001b[0;34m:\u001b[0m\u001b[0;34m\u001b[0m\u001b[0;34m\u001b[0m\u001b[0m\n",
      "\u001b[0;31mAttributeError\u001b[0m: 'Table' object has no attribute 'Flag'"
     ]
    }
   ],
   "source": [
    "# QCL\n",
    "qcl_bulk = filter_by_flag_priority(qcl_bulk)\n",
    "print(qcl_bulk.shape)"
   ]
  },
  {
   "cell_type": "code",
   "execution_count": 27,
   "id": "30c748ef-2016-4738-9304-cbffd1c6d172",
   "metadata": {},
   "outputs": [
    {
     "name": "stdout",
     "output_type": "stream",
     "text": [
      "(10246430, 5)\n"
     ]
    }
   ],
   "source": [
    "# FBSC\n",
    "fbsc_bulk = filter_by_flag_priority(fbsc_bulk)\n",
    "print(fbsc_bulk.shape)"
   ]
  },
  {
   "cell_type": "markdown",
   "id": "cba6f901-1b02-4faa-bb9a-a016b2d45b2c",
   "metadata": {},
   "source": [
    "## Element Overview\n",
    "This serves as an initial check on the meaning of `Element Code` values. In particular, we note that each `Element Code` value corresponds to a unique pair of _element name_  and _element unit_. Note, for instance, that _element_name_ \"Production\" can come in different flavours (i.e. units): \"Production -- tones\" and \"Production -- 1000 No\".\n",
    "\n",
    "Based on the number of occurrences of each element code, we may want to keep only those that rank high.\n",
    "\n",
    "**Note: This step uses file `path_map_elem`, which is a file that was generated using the code in a later cell.**"
   ]
  },
  {
   "cell_type": "code",
   "execution_count": 28,
   "id": "61681c4f-0585-48c6-85d1-1adf9586d3f7",
   "metadata": {},
   "outputs": [],
   "source": [
    "# Where do each element appear?\n",
    "def get_stats_elements(df):\n",
    "    res = df.reset_index().groupby(\"Element Code\")[\"Item Code\"].nunique()\n",
    "    df_elem = pd.read_csv(path_map_elem, index_col=\"code\")\n",
    "    elem_map = df_elem[\"name\"] + \" -- \" + df_elem[\"unit\"] + \" -- \" + df_elem.index.astype(str)\n",
    "    res = res.rename(index=elem_map.to_dict()).sort_values(ascending=False)\n",
    "    return res"
   ]
  },
  {
   "cell_type": "code",
   "execution_count": 31,
   "id": "96be5325-3628-44b2-a01d-f855a39a4613",
   "metadata": {},
   "outputs": [
    {
     "data": {
      "text/plain": [
       "PosixPath('/Users/lucasrodes/repos/etl/etl/steps/data/garden/explorers/2021/food_explorer.elements.std.csv')"
      ]
     },
     "execution_count": 31,
     "metadata": {},
     "output_type": "execute_result"
    }
   ],
   "source": [
    "path_map_elem"
   ]
  },
  {
   "cell_type": "code",
   "execution_count": 29,
   "id": "55e5e095-b849-4fac-b731-bd78a6e16952",
   "metadata": {},
   "outputs": [
    {
     "data": {
      "text/plain": [
       "Element Code\n",
       "Production -- tonnes -- 5510                          281\n",
       "Area harvested -- ha -- 5312                          172\n",
       "Yield -- hg/ha -- 5419                                171\n",
       "Producing Animals/Slaughtered -- Head -- 5320          31\n",
       "Yield/Carcass Weight -- hg/An -- 5417                  14\n",
       "Stocks -- Head -- 5111                                 12\n",
       "Yield -- hg/An -- 5420                                 10\n",
       "Producing Animals/Slaughtered -- 1000 Head -- 5321      8\n",
       "Yield/Carcass Weight -- 0.1g/An -- 5424                 8\n",
       "Stocks -- 1000 Head -- 5112                             7\n",
       "Laying -- 1000 Head -- 5313                             3\n",
       "Yield -- 100mg/An -- 5410                               3\n",
       "Yield -- hg -- 5422                                     2\n",
       "Production -- 1000 No -- 5513                           2\n",
       "Stocks -- No -- 5114                                    1\n",
       "Name: Item Code, dtype: int64"
      ]
     },
     "execution_count": 29,
     "metadata": {},
     "output_type": "execute_result"
    }
   ],
   "source": [
    "# QCL\n",
    "get_stats_elements(qcl_bulk)"
   ]
  },
  {
   "cell_type": "code",
   "execution_count": 30,
   "id": "cd067c44-bc63-4d05-af0e-0fc6f7ae3373",
   "metadata": {},
   "outputs": [
    {
     "data": {
      "text/plain": [
       "Element Code\n",
       "674     123\n",
       "684     123\n",
       "664     123\n",
       "645     121\n",
       "5142    121\n",
       "5301    121\n",
       "5154    121\n",
       "5911    121\n",
       "5072    120\n",
       "5511    120\n",
       "5611    120\n",
       "5170    105\n",
       "5171    104\n",
       "5123    103\n",
       "5521    100\n",
       "5131     91\n",
       "5527     57\n",
       "Name: Item Code, dtype: int64"
      ]
     },
     "execution_count": 30,
     "metadata": {},
     "output_type": "execute_result"
    }
   ],
   "source": [
    "# FBSC\n",
    "get_stats_elements(fbsc_bulk)"
   ]
  },
  {
   "cell_type": "markdown",
   "id": "984267f3-77e3-4076-8079-b8c459bcde3e",
   "metadata": {
    "tags": []
   },
   "source": [
    "## Reshape dataset\n",
    "This step is simple and brief. It attempts to pivot the dataset in order to have three identifying columns (i.e. \"keys\") and several \"value\" columns based on the `Element Code` and `Value` columns.\n",
    "\n",
    "This format is more Grapher/Explorer friendly, as it clearly divides the dataset columns into: Entities, Year, [Values]."
   ]
  },
  {
   "cell_type": "code",
   "execution_count": 32,
   "id": "2d78ddb6-1100-4658-8043-44964e869a9b",
   "metadata": {},
   "outputs": [],
   "source": [
    "def reshape_df(df):\n",
    "    df = df.reset_index()\n",
    "    df = df.pivot(\n",
    "        index=[\"Country\", \"Item Code\", \"Year\"], columns=\"Element Code\", values=\"Value\"\n",
    "    )\n",
    "    return df"
   ]
  },
  {
   "cell_type": "code",
   "execution_count": 33,
   "id": "53bbe8b1-9f74-4af1-ad37-1df1e262edb5",
   "metadata": {},
   "outputs": [],
   "source": [
    "# QCL\n",
    "qcl_bulk = reshape_df(qcl_bulk)\n",
    "# FBSC\n",
    "fbsc_bulk = reshape_df(fbsc_bulk)"
   ]
  },
  {
   "cell_type": "markdown",
   "id": "331d394c-5de2-4412-8277-91c9a5857ce2",
   "metadata": {},
   "source": [
    "## Standardise Element and Item names (OPTIONAL)\n",
    "In the following cells we obtain tables with the code, current name and number of occurrences of all the Items and Elements present in our dataset.\n",
    "\n",
    "Based on this tables, Hannah (or another researcher), will revisit these and:\n",
    "- Select those Items and Elements that we are interested in.\n",
    "- Standardise naming proposals of Items and Elements.\n",
    "\n",
    "Notes:\n",
    "- We obtain the number of occurrences as this can assist the researcher in prioritising Items or Elements. "
   ]
  },
  {
   "cell_type": "markdown",
   "id": "240ccc40-ea1e-44b5-ae3f-f81aba420cbd",
   "metadata": {},
   "source": [
    "### Elements\n",
    "Here we obtain a table with the current namings for Elements (plus other variables). Note that we also propagate the unit names, as these may also be standardised (or even changed)."
   ]
  },
  {
   "cell_type": "code",
   "execution_count": 35,
   "id": "4c2dcf6d-453b-4d3c-a5e4-87e3620c5908",
   "metadata": {},
   "outputs": [],
   "source": [
    "# Load table from dataset containing Element information\n",
    "qcl_elem = qcl_garden[\"meta_element\"]\n",
    "fbsc_elem = fbsc_garden[\"meta_element\"]"
   ]
  },
  {
   "cell_type": "code",
   "execution_count": 36,
   "id": "20f69abc-a5ea-4ac4-a175-7dbdc4543f54",
   "metadata": {},
   "outputs": [],
   "source": [
    "def get_elements_to_standardize(df, df_elem):\n",
    "    # Obtain number of occurrences for each Element Code (each column is an element)\n",
    "    elements = pd.DataFrame(df.notna().sum()).reset_index()\n",
    "    elements = elements.sort_values(0, ascending=False)\n",
    "    # Add names and unit info to the table\n",
    "    elements = elements.merge(\n",
    "        df_elem[[\"Element\", \"Unit\", \"Unit Description\"]],\n",
    "        left_on=\"Element Code\",\n",
    "        right_index=True,\n",
    "    )\n",
    "    # Rename column names\n",
    "    elements = elements.rename(\n",
    "        columns={\n",
    "            \"Element Code\": \"code\",\n",
    "            0: \"number_occurrences\",\n",
    "            \"Element\": \"name\",\n",
    "            \"Unit\": \"unit\",\n",
    "            \"Unit Description\": \"unit_description\",\n",
    "        }\n",
    "    )[[\"code\", \"name\", \"unit\", \"unit_description\", \"number_occurrences\"]]\n",
    "    return elements"
   ]
  },
  {
   "cell_type": "code",
   "execution_count": 43,
   "id": "3c807483-c460-4fd6-a3b7-ff70e4a94b2e",
   "metadata": {},
   "outputs": [],
   "source": [
    "elements_qcl = get_elements_to_standardize(qcl_bulk, qcl_elem).assign(dataset=\"QCL\")\n",
    "elements_fbsc = get_elements_to_standardize(fbsc_bulk, fbsc_elem).assign(dataset=\"FBSC\")\n",
    "\n",
    "assert elements_qcl.merge(elements_fbsc, on=\"code\").empty"
   ]
  },
  {
   "cell_type": "markdown",
   "id": "b1ff6741-e898-4ea8-9a50-a3ba84810942",
   "metadata": {},
   "source": [
    "Once the table is obtained, we take a look at it and export it. Note that we use a filename starting with `ign.`, as these are note git-tracked."
   ]
  },
  {
   "cell_type": "code",
   "execution_count": 45,
   "id": "57dfcee6-ee59-46b8-a176-c69fb3cef5a1",
   "metadata": {},
   "outputs": [
    {
     "data": {
      "text/html": [
       "<div>\n",
       "<style scoped>\n",
       "    .dataframe tbody tr th:only-of-type {\n",
       "        vertical-align: middle;\n",
       "    }\n",
       "\n",
       "    .dataframe tbody tr th {\n",
       "        vertical-align: top;\n",
       "    }\n",
       "\n",
       "    .dataframe thead th {\n",
       "        text-align: right;\n",
       "    }\n",
       "</style>\n",
       "<table border=\"1\" class=\"dataframe\">\n",
       "  <thead>\n",
       "    <tr style=\"text-align: right;\">\n",
       "      <th></th>\n",
       "      <th>code</th>\n",
       "      <th>name</th>\n",
       "      <th>unit</th>\n",
       "      <th>unit_description</th>\n",
       "      <th>number_occurrences</th>\n",
       "      <th>dataset</th>\n",
       "    </tr>\n",
       "  </thead>\n",
       "  <tbody>\n",
       "    <tr>\n",
       "      <th>13</th>\n",
       "      <td>5510</td>\n",
       "      <td>Production</td>\n",
       "      <td>tonnes</td>\n",
       "      <td>tonnes</td>\n",
       "      <td>996973</td>\n",
       "      <td>QCL</td>\n",
       "    </tr>\n",
       "    <tr>\n",
       "      <th>3</th>\n",
       "      <td>5312</td>\n",
       "      <td>Area harvested</td>\n",
       "      <td>ha</td>\n",
       "      <td>hectares</td>\n",
       "      <td>539828</td>\n",
       "      <td>QCL</td>\n",
       "    </tr>\n",
       "    <tr>\n",
       "      <th>9</th>\n",
       "      <td>5419</td>\n",
       "      <td>Yield</td>\n",
       "      <td>hg/ha</td>\n",
       "      <td>hectograms per hectare</td>\n",
       "      <td>534847</td>\n",
       "      <td>QCL</td>\n",
       "    </tr>\n",
       "    <tr>\n",
       "      <th>5</th>\n",
       "      <td>5320</td>\n",
       "      <td>Producing Animals/Slaughtered</td>\n",
       "      <td>Head</td>\n",
       "      <td>head</td>\n",
       "      <td>149439</td>\n",
       "      <td>QCL</td>\n",
       "    </tr>\n",
       "    <tr>\n",
       "      <th>0</th>\n",
       "      <td>5111</td>\n",
       "      <td>Stocks</td>\n",
       "      <td>Head</td>\n",
       "      <td>head</td>\n",
       "      <td>86112</td>\n",
       "      <td>QCL</td>\n",
       "    </tr>\n",
       "  </tbody>\n",
       "</table>\n",
       "</div>"
      ],
      "text/plain": [
       "    code                           name    unit        unit_description  \\\n",
       "13  5510                     Production  tonnes                  tonnes   \n",
       "3   5312                 Area harvested      ha                hectares   \n",
       "9   5419                          Yield   hg/ha  hectograms per hectare   \n",
       "5   5320  Producing Animals/Slaughtered    Head                    head   \n",
       "0   5111                         Stocks    Head                    head   \n",
       "\n",
       "    number_occurrences dataset  \n",
       "13              996973     QCL  \n",
       "3               539828     QCL  \n",
       "9               534847     QCL  \n",
       "5               149439     QCL  \n",
       "0                86112     QCL  "
      ]
     },
     "execution_count": 45,
     "metadata": {},
     "output_type": "execute_result"
    }
   ],
   "source": [
    "elements = pd.concat([elements_qcl, elements_fbsc])\n",
    "elements.head()"
   ]
  },
  {
   "cell_type": "code",
   "execution_count": 46,
   "id": "0bf4efc5-50ed-4164-bffb-baf9af3fd272",
   "metadata": {},
   "outputs": [],
   "source": [
    "# elements.to_csv(\"ign.food.elements.csv\", index=False)"
   ]
  },
  {
   "cell_type": "markdown",
   "id": "001cfba2-9b59-400c-b2fe-5c694f5a1ff3",
   "metadata": {
    "tags": []
   },
   "source": [
    "### Items\n",
    "Here we obtain a table with the current namings for Items (plus other variables)."
   ]
  },
  {
   "cell_type": "code",
   "execution_count": 47,
   "id": "13063f01-bb80-4579-9780-b2051da0b485",
   "metadata": {},
   "outputs": [],
   "source": [
    "# Load table from dataset containing Item information\n",
    "qcl_item = qcl_garden[\"meta_item\"]\n",
    "fbsc_item = fbsc_garden[\"meta_item\"]"
   ]
  },
  {
   "cell_type": "markdown",
   "id": "4e6d6357-d609-4f9a-b0a2-692d299fd782",
   "metadata": {},
   "source": [
    "As the following cell shows, this table comes with a multi-index, as codes may actually be referring to \"Item Groups\" or \"Items\"."
   ]
  },
  {
   "cell_type": "code",
   "execution_count": 48,
   "id": "1d2fb733-5350-493f-805f-ad3cc0fd083a",
   "metadata": {},
   "outputs": [
    {
     "data": {
      "text/html": [
       "<div>\n",
       "<style scoped>\n",
       "    .dataframe tbody tr th:only-of-type {\n",
       "        vertical-align: middle;\n",
       "    }\n",
       "\n",
       "    .dataframe tbody tr th {\n",
       "        vertical-align: top;\n",
       "    }\n",
       "\n",
       "    .dataframe thead th {\n",
       "        text-align: right;\n",
       "    }\n",
       "</style>\n",
       "<table border=\"1\" class=\"dataframe\">\n",
       "  <thead>\n",
       "    <tr style=\"text-align: right;\">\n",
       "      <th></th>\n",
       "      <th></th>\n",
       "      <th>Item Group</th>\n",
       "      <th>Item</th>\n",
       "    </tr>\n",
       "    <tr>\n",
       "      <th>Item Group Code</th>\n",
       "      <th>Item Code</th>\n",
       "      <th></th>\n",
       "      <th></th>\n",
       "    </tr>\n",
       "  </thead>\n",
       "  <tbody>\n",
       "    <tr>\n",
       "      <th rowspan=\"2\" valign=\"top\">1806</th>\n",
       "      <th>947</th>\n",
       "      <td>Beef and Buffalo Meat</td>\n",
       "      <td>Meat, buffalo</td>\n",
       "    </tr>\n",
       "    <tr>\n",
       "      <th>867</th>\n",
       "      <td>Beef and Buffalo Meat</td>\n",
       "      <td>Meat, cattle</td>\n",
       "    </tr>\n",
       "    <tr>\n",
       "      <th rowspan=\"3\" valign=\"top\">1811</th>\n",
       "      <th>983</th>\n",
       "      <td>Butter and Ghee</td>\n",
       "      <td>Butter and ghee, sheep milk</td>\n",
       "    </tr>\n",
       "    <tr>\n",
       "      <th>952</th>\n",
       "      <td>Butter and Ghee</td>\n",
       "      <td>Butter, buffalo milk</td>\n",
       "    </tr>\n",
       "    <tr>\n",
       "      <th>886</th>\n",
       "      <td>Butter and Ghee</td>\n",
       "      <td>Butter, cow milk</td>\n",
       "    </tr>\n",
       "  </tbody>\n",
       "</table>\n",
       "</div>"
      ],
      "text/plain": [
       "                                      Item Group                         Item\n",
       "Item Group Code Item Code                                                    \n",
       "1806            947        Beef and Buffalo Meat                Meat, buffalo\n",
       "                867        Beef and Buffalo Meat                 Meat, cattle\n",
       "1811            983              Butter and Ghee  Butter and ghee, sheep milk\n",
       "                952              Butter and Ghee         Butter, buffalo milk\n",
       "                886              Butter and Ghee             Butter, cow milk"
      ]
     },
     "execution_count": 48,
     "metadata": {},
     "output_type": "execute_result"
    }
   ],
   "source": [
    "qcl_item.head()"
   ]
  },
  {
   "cell_type": "markdown",
   "id": "9cedc32e-9221-4fa2-a0d3-51cb7aaa4a47",
   "metadata": {},
   "source": [
    "Therefore, in the next cell we attempt to flatten code to name mappings.\n",
    "\n",
    "To this end:\n",
    "- We first create two separate dictionaries, mapping `Item Group Code --> Item Group` and `Item Code --> Item`, respectively.\n",
    "- We note, however, that some codes appear both as \"Items\" and \"Item Groups\". This might be due to the fact that there are more than one level of items. That is, an Item can \"belong\" to an Item Group, which in turn belongs to yet a higher up Item Group. Therefore, we remove these codes from the item dictionary so they only appear in the item group dictionary.\n",
    "- Next, we create a table with all items, their occurrences, whether they are Item Groups, and their FAO original namings."
   ]
  },
  {
   "cell_type": "code",
   "execution_count": 84,
   "id": "ccbbf0fa-9b2c-43da-b3bd-a6e441b89b05",
   "metadata": {},
   "outputs": [],
   "source": [
    "def get_items_to_standardize(df, df_item):\n",
    "    # Group\n",
    "    map_item_g = dict(\n",
    "        zip(df_item.index.get_level_values(\"Item Group Code\").astype(str), df_item[\"Item Group\"])\n",
    "    )\n",
    "    # Item\n",
    "    map_item = dict(\n",
    "        zip(df_item.index.get_level_values(\"Item Code\").astype(str), df_item[\"Item\"])\n",
    "    )\n",
    "\n",
    "    # Correct\n",
    "    map_item = {k: v for k, v in map_item.items() if k not in map_item_g}\n",
    "\n",
    "    # Load item occurences\n",
    "    items = (\n",
    "        pd.DataFrame(df.reset_index()[\"Item Code\"].value_counts())\n",
    "        .reset_index()\n",
    "        .astype(str)\n",
    "        .rename(\n",
    "            columns={\n",
    "                \"index\": \"code\",\n",
    "                \"Item Code\": \"number_occurences\",\n",
    "            }\n",
    "        )\n",
    "    )\n",
    "    # Add flag for groups\n",
    "    items[\"type\"] = items[\"code\"].isin(map_item_g).apply(lambda x: \"Group\" if x else None)\n",
    "    # Add name\n",
    "    map_item_all = {**map_item, **map_item_g}\n",
    "    items[\"name\"] = items.code.replace(map_item_all)\n",
    "    # Order columns\n",
    "    items = items[[\"code\", \"name\", \"type\", \"number_occurences\"]]\n",
    "    return items"
   ]
  },
  {
   "cell_type": "code",
   "execution_count": 85,
   "id": "daace449-144b-44fb-9d05-66727b998dfe",
   "metadata": {},
   "outputs": [],
   "source": [
    "items_qcl = get_items_to_standardize(qcl_bulk, qcl_item)\n",
    "items_fbsc = get_items_to_standardize(fbsc_bulk, fbsc_item)"
   ]
  },
  {
   "cell_type": "markdown",
   "id": "8ce92523-1cbf-41f3-96a8-b443656c02c7",
   "metadata": {},
   "source": [
    "Once the table is obtained, we take a look at it and export it. Note that we use a filename starting with `ign.`, as these are note git-tracked."
   ]
  },
  {
   "cell_type": "code",
   "execution_count": 86,
   "id": "9864333e-d00e-42e3-a977-7d6bc736dc32",
   "metadata": {},
   "outputs": [
    {
     "data": {
      "text/html": [
       "<div>\n",
       "<style scoped>\n",
       "    .dataframe tbody tr th:only-of-type {\n",
       "        vertical-align: middle;\n",
       "    }\n",
       "\n",
       "    .dataframe tbody tr th {\n",
       "        vertical-align: top;\n",
       "    }\n",
       "\n",
       "    .dataframe thead th {\n",
       "        text-align: right;\n",
       "    }\n",
       "</style>\n",
       "<table border=\"1\" class=\"dataframe\">\n",
       "  <thead>\n",
       "    <tr style=\"text-align: right;\">\n",
       "      <th></th>\n",
       "      <th>code</th>\n",
       "      <th>name_x</th>\n",
       "      <th>type_x</th>\n",
       "      <th>number_occurences_x</th>\n",
       "      <th>name_y</th>\n",
       "      <th>type_y</th>\n",
       "      <th>number_occurences_y</th>\n",
       "    </tr>\n",
       "  </thead>\n",
       "  <tbody>\n",
       "  </tbody>\n",
       "</table>\n",
       "</div>"
      ],
      "text/plain": [
       "Empty DataFrame\n",
       "Columns: [code, name_x, type_x, number_occurences_x, name_y, type_y, number_occurences_y]\n",
       "Index: []"
      ]
     },
     "execution_count": 86,
     "metadata": {},
     "output_type": "execute_result"
    }
   ],
   "source": [
    "items_qcl.merge(items_fbsc, on=\"code\")"
   ]
  },
  {
   "cell_type": "code",
   "execution_count": 92,
   "id": "a01a6cb0-d8f2-4dfa-98b6-89cee22a448f",
   "metadata": {},
   "outputs": [],
   "source": [
    "items_fbsc = items_fbsc.assign(name_standardised=None)"
   ]
  },
  {
   "cell_type": "code",
   "execution_count": 94,
   "id": "77aa3c35-5664-41ee-adf1-9ff453fc2761",
   "metadata": {},
   "outputs": [],
   "source": [
    "df = pd.read_csv(\"food_Explorer.items.std.csv\")"
   ]
  },
  {
   "cell_type": "code",
   "execution_count": 97,
   "id": "16084874-f6ae-4d7a-96ca-143cfd3014d7",
   "metadata": {},
   "outputs": [],
   "source": [
    "df.code = df.code.astype(str)"
   ]
  },
  {
   "cell_type": "code",
   "execution_count": 104,
   "id": "578dcab5-4586-4da7-87f2-87db945f6618",
   "metadata": {},
   "outputs": [],
   "source": [
    "x = pd.concat([df.assign(dataset=\"QCL\"), items_fbsc.assign(dataset=\"FBSC\")])"
   ]
  },
  {
   "cell_type": "code",
   "execution_count": 105,
   "id": "c3eae4e2-3aa1-4a38-ab19-29f9c8c6e6ea",
   "metadata": {},
   "outputs": [],
   "source": [
    "x.to_csv(\"ign.food.items.csv\", index=False)"
   ]
  },
  {
   "cell_type": "code",
   "execution_count": 63,
   "id": "18749336-904f-4985-bfe7-1b43ed8b68fc",
   "metadata": {},
   "outputs": [
    {
     "data": {
      "text/html": [
       "<div>\n",
       "<style scoped>\n",
       "    .dataframe tbody tr th:only-of-type {\n",
       "        vertical-align: middle;\n",
       "    }\n",
       "\n",
       "    .dataframe tbody tr th {\n",
       "        vertical-align: top;\n",
       "    }\n",
       "\n",
       "    .dataframe thead th {\n",
       "        text-align: right;\n",
       "    }\n",
       "</style>\n",
       "<table border=\"1\" class=\"dataframe\">\n",
       "  <thead>\n",
       "    <tr style=\"text-align: right;\">\n",
       "      <th></th>\n",
       "      <th>code</th>\n",
       "      <th>name</th>\n",
       "      <th>type</th>\n",
       "      <th>number_occurences</th>\n",
       "    </tr>\n",
       "  </thead>\n",
       "  <tbody>\n",
       "    <tr>\n",
       "      <th>272</th>\n",
       "      <td>800</td>\n",
       "      <td>Agave fibres nes</td>\n",
       "      <td>None</td>\n",
       "      <td>484</td>\n",
       "    </tr>\n",
       "    <tr>\n",
       "      <th>190</th>\n",
       "      <td>221</td>\n",
       "      <td>Almonds, with shell</td>\n",
       "      <td>None</td>\n",
       "      <td>2450</td>\n",
       "    </tr>\n",
       "    <tr>\n",
       "      <th>197</th>\n",
       "      <td>711</td>\n",
       "      <td>Anise, badian, fennel, coriander</td>\n",
       "      <td>None</td>\n",
       "      <td>2250</td>\n",
       "    </tr>\n",
       "    <tr>\n",
       "      <th>105</th>\n",
       "      <td>515</td>\n",
       "      <td>Apples</td>\n",
       "      <td>None</td>\n",
       "      <td>4779</td>\n",
       "    </tr>\n",
       "    <tr>\n",
       "      <th>138</th>\n",
       "      <td>526</td>\n",
       "      <td>Apricots</td>\n",
       "      <td>None</td>\n",
       "      <td>3550</td>\n",
       "    </tr>\n",
       "    <tr>\n",
       "      <th>259</th>\n",
       "      <td>226</td>\n",
       "      <td>Areca nuts</td>\n",
       "      <td>None</td>\n",
       "      <td>745</td>\n",
       "    </tr>\n",
       "    <tr>\n",
       "      <th>211</th>\n",
       "      <td>366</td>\n",
       "      <td>Artichokes</td>\n",
       "      <td>None</td>\n",
       "      <td>1816</td>\n",
       "    </tr>\n",
       "    <tr>\n",
       "      <th>191</th>\n",
       "      <td>367</td>\n",
       "      <td>Asparagus</td>\n",
       "      <td>None</td>\n",
       "      <td>2427</td>\n",
       "    </tr>\n",
       "    <tr>\n",
       "      <th>56</th>\n",
       "      <td>1107</td>\n",
       "      <td>Asses</td>\n",
       "      <td>None</td>\n",
       "      <td>6657</td>\n",
       "    </tr>\n",
       "    <tr>\n",
       "      <th>127</th>\n",
       "      <td>572</td>\n",
       "      <td>Avocados</td>\n",
       "      <td>None</td>\n",
       "      <td>3967</td>\n",
       "    </tr>\n",
       "    <tr>\n",
       "      <th>279</th>\n",
       "      <td>203</td>\n",
       "      <td>Bambara beans</td>\n",
       "      <td>None</td>\n",
       "      <td>361</td>\n",
       "    </tr>\n",
       "    <tr>\n",
       "      <th>43</th>\n",
       "      <td>486</td>\n",
       "      <td>Bananas</td>\n",
       "      <td>None</td>\n",
       "      <td>7472</td>\n",
       "    </tr>\n",
       "    <tr>\n",
       "      <th>87</th>\n",
       "      <td>44</td>\n",
       "      <td>Barley</td>\n",
       "      <td>None</td>\n",
       "      <td>5273</td>\n",
       "    </tr>\n",
       "    <tr>\n",
       "      <th>236</th>\n",
       "      <td>782</td>\n",
       "      <td>Bastfibres, other</td>\n",
       "      <td>None</td>\n",
       "      <td>1266</td>\n",
       "    </tr>\n",
       "    <tr>\n",
       "      <th>58</th>\n",
       "      <td>176</td>\n",
       "      <td>Beans, dry</td>\n",
       "      <td>None</td>\n",
       "      <td>6639</td>\n",
       "    </tr>\n",
       "    <tr>\n",
       "      <th>73</th>\n",
       "      <td>414</td>\n",
       "      <td>Beans, green</td>\n",
       "      <td>None</td>\n",
       "      <td>5815</td>\n",
       "    </tr>\n",
       "    <tr>\n",
       "      <th>11</th>\n",
       "      <td>1806</td>\n",
       "      <td>Beef and Buffalo Meat</td>\n",
       "      <td>Group</td>\n",
       "      <td>10735</td>\n",
       "    </tr>\n",
       "    <tr>\n",
       "      <th>64</th>\n",
       "      <td>1181</td>\n",
       "      <td>Beehives</td>\n",
       "      <td>None</td>\n",
       "      <td>6290</td>\n",
       "    </tr>\n",
       "    <tr>\n",
       "      <th>38</th>\n",
       "      <td>51</td>\n",
       "      <td>Beer of barley</td>\n",
       "      <td>None</td>\n",
       "      <td>8619</td>\n",
       "    </tr>\n",
       "    <tr>\n",
       "      <th>158</th>\n",
       "      <td>1183</td>\n",
       "      <td>Beeswax</td>\n",
       "      <td>None</td>\n",
       "      <td>3089</td>\n",
       "    </tr>\n",
       "    <tr>\n",
       "      <th>164</th>\n",
       "      <td>558</td>\n",
       "      <td>Berries nes</td>\n",
       "      <td>None</td>\n",
       "      <td>3012</td>\n",
       "    </tr>\n",
       "    <tr>\n",
       "      <th>225</th>\n",
       "      <td>552</td>\n",
       "      <td>Blueberries</td>\n",
       "      <td>None</td>\n",
       "      <td>1464</td>\n",
       "    </tr>\n",
       "    <tr>\n",
       "      <th>281</th>\n",
       "      <td>216</td>\n",
       "      <td>Brazil nuts, with shell</td>\n",
       "      <td>None</td>\n",
       "      <td>306</td>\n",
       "    </tr>\n",
       "    <tr>\n",
       "      <th>148</th>\n",
       "      <td>181</td>\n",
       "      <td>Broad beans, horse beans, dry</td>\n",
       "      <td>None</td>\n",
       "      <td>3285</td>\n",
       "    </tr>\n",
       "    <tr>\n",
       "      <th>227</th>\n",
       "      <td>89</td>\n",
       "      <td>Buckwheat</td>\n",
       "      <td>None</td>\n",
       "      <td>1397</td>\n",
       "    </tr>\n",
       "    <tr>\n",
       "      <th>193</th>\n",
       "      <td>946</td>\n",
       "      <td>Buffaloes</td>\n",
       "      <td>None</td>\n",
       "      <td>2367</td>\n",
       "    </tr>\n",
       "    <tr>\n",
       "      <th>69</th>\n",
       "      <td>1811</td>\n",
       "      <td>Butter and Ghee</td>\n",
       "      <td>Group</td>\n",
       "      <td>6163</td>\n",
       "    </tr>\n",
       "    <tr>\n",
       "      <th>266</th>\n",
       "      <td>983</td>\n",
       "      <td>Butter and ghee, sheep milk</td>\n",
       "      <td>None</td>\n",
       "      <td>638</td>\n",
       "    </tr>\n",
       "    <tr>\n",
       "      <th>280</th>\n",
       "      <td>952</td>\n",
       "      <td>Butter, buffalo milk</td>\n",
       "      <td>None</td>\n",
       "      <td>351</td>\n",
       "    </tr>\n",
       "    <tr>\n",
       "      <th>74</th>\n",
       "      <td>886</td>\n",
       "      <td>Butter, cow milk</td>\n",
       "      <td>None</td>\n",
       "      <td>5757</td>\n",
       "    </tr>\n",
       "  </tbody>\n",
       "</table>\n",
       "</div>"
      ],
      "text/plain": [
       "     code                              name   type number_occurences\n",
       "272   800                  Agave fibres nes   None               484\n",
       "190   221               Almonds, with shell   None              2450\n",
       "197   711  Anise, badian, fennel, coriander   None              2250\n",
       "105   515                            Apples   None              4779\n",
       "138   526                          Apricots   None              3550\n",
       "259   226                        Areca nuts   None               745\n",
       "211   366                        Artichokes   None              1816\n",
       "191   367                         Asparagus   None              2427\n",
       "56   1107                             Asses   None              6657\n",
       "127   572                          Avocados   None              3967\n",
       "279   203                     Bambara beans   None               361\n",
       "43    486                           Bananas   None              7472\n",
       "87     44                            Barley   None              5273\n",
       "236   782                 Bastfibres, other   None              1266\n",
       "58    176                        Beans, dry   None              6639\n",
       "73    414                      Beans, green   None              5815\n",
       "11   1806             Beef and Buffalo Meat  Group             10735\n",
       "64   1181                          Beehives   None              6290\n",
       "38     51                    Beer of barley   None              8619\n",
       "158  1183                           Beeswax   None              3089\n",
       "164   558                       Berries nes   None              3012\n",
       "225   552                       Blueberries   None              1464\n",
       "281   216           Brazil nuts, with shell   None               306\n",
       "148   181     Broad beans, horse beans, dry   None              3285\n",
       "227    89                         Buckwheat   None              1397\n",
       "193   946                         Buffaloes   None              2367\n",
       "69   1811                   Butter and Ghee  Group              6163\n",
       "266   983       Butter and ghee, sheep milk   None               638\n",
       "280   952              Butter, buffalo milk   None               351\n",
       "74    886                  Butter, cow milk   None              5757"
      ]
     },
     "execution_count": 63,
     "metadata": {},
     "output_type": "execute_result"
    }
   ],
   "source": [
    "items_qcl.sort_values(\"name\").head(30)"
   ]
  },
  {
   "cell_type": "code",
   "execution_count": 97,
   "id": "e64ca032-bc4c-4170-87df-83c0a1563e5a",
   "metadata": {},
   "outputs": [],
   "source": [
    "# items.to_csv(\"ign.food.items.csv\", index=False)"
   ]
  },
  {
   "cell_type": "markdown",
   "id": "8411b093-9cd8-47a2-b31e-7fcd62f91dcf",
   "metadata": {},
   "source": [
    "## Renaming Items and Elements\n",
    "After the previous step, where we shared files `ign.food.items.csv` and `ign.food.elements.csv` with a researcher, they will review them and add the standardisation namings for all items and elements that we intend to use. Note that if no standardised name is provided, the item or element will be discarded.\n",
    "\n",
    "Their proposals come in two files: `food_explorer.items.std.csv` and `food_explorer.elements.std.csv`. Note that we prefer working with the mapping `\"item/element code\" ---> \"new standardised item/element name\"`."
   ]
  },
  {
   "cell_type": "markdown",
   "id": "fa055e6f-78a9-4afe-82e4-e3137a1133c7",
   "metadata": {},
   "source": [
    "### Element"
   ]
  },
  {
   "cell_type": "markdown",
   "id": "1174f1fd-c9e5-4660-8617-4ea6478cb3a5",
   "metadata": {},
   "source": [
    "First of all, we load the standardisation table and remove NaN values (these belong to to-be-discarded elements)."
   ]
  },
  {
   "cell_type": "code",
   "execution_count": 98,
   "id": "f9fd878f-47ca-4569-8bb4-f764f1244d4e",
   "metadata": {},
   "outputs": [],
   "source": [
    "# Get standardised values\n",
    "df = pd.read_csv(path_map_elem, index_col=\"code\")\n",
    "df = df.dropna(subset=[\"name_standardised\"])"
   ]
  },
  {
   "cell_type": "markdown",
   "id": "7e7a3f1a-c4e2-43d7-b32f-593323ef703e",
   "metadata": {},
   "source": [
    "If we display the content of the standardisation element file we observe that:\n",
    "- Only some elements are preserved.\n",
    "- There is the column `unit_name_standardised_with_conversion` and `unit_factor`, which provide the new unit and the factor to convert the old one into the new one. \n",
    "- Multiple codes are assigned to the same `name_standardised` and `unit_name_standardised_with_conversion`, which means that we will have to merge them. In particular, element \"Yield\" with unit \"kg/animal\" appears with four different codes!"
   ]
  },
  {
   "cell_type": "code",
   "execution_count": 99,
   "id": "2be4a477-197a-411d-8d52-d103036cf54b",
   "metadata": {},
   "outputs": [
    {
     "data": {
      "text/html": [
       "<div>\n",
       "<style scoped>\n",
       "    .dataframe tbody tr th:only-of-type {\n",
       "        vertical-align: middle;\n",
       "    }\n",
       "\n",
       "    .dataframe tbody tr th {\n",
       "        vertical-align: top;\n",
       "    }\n",
       "\n",
       "    .dataframe thead th {\n",
       "        text-align: right;\n",
       "    }\n",
       "</style>\n",
       "<table border=\"1\" class=\"dataframe\">\n",
       "  <thead>\n",
       "    <tr style=\"text-align: right;\">\n",
       "      <th></th>\n",
       "      <th>name</th>\n",
       "      <th>unit</th>\n",
       "      <th>unit_description</th>\n",
       "      <th>number_occurrences</th>\n",
       "      <th>name_standardised</th>\n",
       "      <th>unit_name_standardised_with_conversion</th>\n",
       "      <th>unit_factor</th>\n",
       "    </tr>\n",
       "    <tr>\n",
       "      <th>code</th>\n",
       "      <th></th>\n",
       "      <th></th>\n",
       "      <th></th>\n",
       "      <th></th>\n",
       "      <th></th>\n",
       "      <th></th>\n",
       "      <th></th>\n",
       "    </tr>\n",
       "  </thead>\n",
       "  <tbody>\n",
       "    <tr>\n",
       "      <th>5410</th>\n",
       "      <td>Yield</td>\n",
       "      <td>100mg/An</td>\n",
       "      <td>100 milligrams per animal</td>\n",
       "      <td>23088</td>\n",
       "      <td>Yield</td>\n",
       "      <td>kg_per_animal</td>\n",
       "      <td>0.0001</td>\n",
       "    </tr>\n",
       "    <tr>\n",
       "      <th>5424</th>\n",
       "      <td>Yield/Carcass Weight</td>\n",
       "      <td>0.1g/An</td>\n",
       "      <td>0.1 grams per animal</td>\n",
       "      <td>34674</td>\n",
       "      <td>Yield</td>\n",
       "      <td>kg_per_animal</td>\n",
       "      <td>0.0001</td>\n",
       "    </tr>\n",
       "    <tr>\n",
       "      <th>5420</th>\n",
       "      <td>Yield</td>\n",
       "      <td>hg/An</td>\n",
       "      <td>hectograms per animal</td>\n",
       "      <td>63705</td>\n",
       "      <td>Yield</td>\n",
       "      <td>kg_per_animal</td>\n",
       "      <td>0.1000</td>\n",
       "    </tr>\n",
       "    <tr>\n",
       "      <th>5417</th>\n",
       "      <td>Yield/Carcass Weight</td>\n",
       "      <td>hg/An</td>\n",
       "      <td>hectograms per animal</td>\n",
       "      <td>69432</td>\n",
       "      <td>Yield</td>\n",
       "      <td>kg_per_animal</td>\n",
       "      <td>0.1000</td>\n",
       "    </tr>\n",
       "    <tr>\n",
       "      <th>5419</th>\n",
       "      <td>Yield</td>\n",
       "      <td>hg/ha</td>\n",
       "      <td>hectograms per hectare</td>\n",
       "      <td>534847</td>\n",
       "      <td>Yield</td>\n",
       "      <td>tonnes_per_ha</td>\n",
       "      <td>0.0001</td>\n",
       "    </tr>\n",
       "    <tr>\n",
       "      <th>5312</th>\n",
       "      <td>Area harvested</td>\n",
       "      <td>ha</td>\n",
       "      <td>hectares</td>\n",
       "      <td>539828</td>\n",
       "      <td>Area harvested</td>\n",
       "      <td>ha</td>\n",
       "      <td>1.0000</td>\n",
       "    </tr>\n",
       "    <tr>\n",
       "      <th>5510</th>\n",
       "      <td>Production</td>\n",
       "      <td>tonnes</td>\n",
       "      <td>tonnes</td>\n",
       "      <td>996973</td>\n",
       "      <td>Production</td>\n",
       "      <td>tonnes</td>\n",
       "      <td>1.0000</td>\n",
       "    </tr>\n",
       "  </tbody>\n",
       "</table>\n",
       "</div>"
      ],
      "text/plain": [
       "                      name      unit           unit_description  \\\n",
       "code                                                              \n",
       "5410                 Yield  100mg/An  100 milligrams per animal   \n",
       "5424  Yield/Carcass Weight   0.1g/An       0.1 grams per animal   \n",
       "5420                 Yield     hg/An      hectograms per animal   \n",
       "5417  Yield/Carcass Weight     hg/An      hectograms per animal   \n",
       "5419                 Yield     hg/ha     hectograms per hectare   \n",
       "5312        Area harvested        ha                   hectares   \n",
       "5510            Production    tonnes                     tonnes   \n",
       "\n",
       "      number_occurrences name_standardised  \\\n",
       "code                                         \n",
       "5410               23088             Yield   \n",
       "5424               34674             Yield   \n",
       "5420               63705             Yield   \n",
       "5417               69432             Yield   \n",
       "5419              534847             Yield   \n",
       "5312              539828    Area harvested   \n",
       "5510              996973        Production   \n",
       "\n",
       "     unit_name_standardised_with_conversion  unit_factor  \n",
       "code                                                      \n",
       "5410                          kg_per_animal       0.0001  \n",
       "5424                          kg_per_animal       0.0001  \n",
       "5420                          kg_per_animal       0.1000  \n",
       "5417                          kg_per_animal       0.1000  \n",
       "5419                          tonnes_per_ha       0.0001  \n",
       "5312                                     ha       1.0000  \n",
       "5510                                 tonnes       1.0000  "
      ]
     },
     "execution_count": 99,
     "metadata": {},
     "output_type": "execute_result"
    }
   ],
   "source": [
    "# Show\n",
    "df"
   ]
  },
  {
   "cell_type": "markdown",
   "id": "19cd2763-c2f4-40f1-8eb6-8d4b10f51dfc",
   "metadata": {},
   "source": [
    "We keep columns in data file that belong to the \"elements of interest\" (those with renaming)."
   ]
  },
  {
   "cell_type": "code",
   "execution_count": 100,
   "id": "8a980add-06d6-4b8d-96b0-be53678bd3f0",
   "metadata": {
    "tags": []
   },
   "outputs": [],
   "source": [
    "# Filter elements of interest\n",
    "qcl_bulk = qcl_bulk[df.index]"
   ]
  },
  {
   "cell_type": "markdown",
   "id": "3ab47d73-efc9-4aab-b175-86537cb76a2f",
   "metadata": {},
   "source": [
    "We modify the values of some elements, based on the new units and `unit_factor` values."
   ]
  },
  {
   "cell_type": "code",
   "execution_count": 101,
   "id": "2c30000a-40bd-4a97-a99e-775127cb49ac",
   "metadata": {},
   "outputs": [],
   "source": [
    "# Factor\n",
    "qcl_bulk = qcl_bulk.multiply(df.loc[qcl_bulk.columns, \"unit_factor\"])"
   ]
  },
  {
   "cell_type": "markdown",
   "id": "24fee009-0f47-43ed-833a-c33d7507d8f3",
   "metadata": {},
   "source": [
    "Next, we merge codes 5417, 5420, 5424 and 5410 into a single one. As previously highlighted, all of them are mapped to the same (name, unit) tupple."
   ]
  },
  {
   "cell_type": "code",
   "execution_count": 102,
   "id": "180ca094-27f3-4b26-828b-8f8e8a11feaf",
   "metadata": {
    "tags": []
   },
   "outputs": [],
   "source": [
    "# Merge 5417,5420,5424,5410 --> 5417\n",
    "qcl_bulk[5417] = qcl_bulk[5417].fillna(\n",
    "    qcl_bulk[5420].fillna(qcl_bulk[5424].fillna(qcl_bulk[5410]))\n",
    ")\n",
    "qcl_bulk = qcl_bulk.drop(columns=[5420, 5424, 5410])"
   ]
  },
  {
   "cell_type": "markdown",
   "id": "8398da7e-3511-413d-b94d-8bb965972acd",
   "metadata": {},
   "source": [
    "Finally, we rename the column names (so far element codes) to more prosaic element identifiers (`[element-name]__[unit]`)."
   ]
  },
  {
   "cell_type": "code",
   "execution_count": 103,
   "id": "06553ff8-56e3-4c03-8e01-ec36c172c637",
   "metadata": {},
   "outputs": [],
   "source": [
    "# Build element name\n",
    "a = df[\"name_standardised\"].apply(lambda x: x.lower().replace(\" \", \"_\")).astype(str)\n",
    "b = (\n",
    "    df[\"unit_name_standardised_with_conversion\"]\n",
    "    .apply(lambda x: x.lower().replace(\" \", \"_\"))\n",
    "    .astype(str)\n",
    ")\n",
    "df[\"element_name\"] = (a + \"__\" + b).tolist()\n",
    "# Obtain dict Element Code -> element name\n",
    "map_elem = df[\"element_name\"].to_dict()\n",
    "# Change columns names\n",
    "qcl_bulk = qcl_bulk.rename(columns=map_elem)"
   ]
  },
  {
   "cell_type": "code",
   "execution_count": 104,
   "id": "67a70402-0d83-42be-b45e-cf2b70d3045e",
   "metadata": {},
   "outputs": [
    {
     "data": {
      "text/html": [
       "<div>\n",
       "<style scoped>\n",
       "    .dataframe tbody tr th:only-of-type {\n",
       "        vertical-align: middle;\n",
       "    }\n",
       "\n",
       "    .dataframe tbody tr th {\n",
       "        vertical-align: top;\n",
       "    }\n",
       "\n",
       "    .dataframe thead th {\n",
       "        text-align: right;\n",
       "    }\n",
       "</style>\n",
       "<table border=\"1\" class=\"dataframe\">\n",
       "  <thead>\n",
       "    <tr style=\"text-align: right;\">\n",
       "      <th></th>\n",
       "      <th></th>\n",
       "      <th>Element Code</th>\n",
       "      <th>yield__kg_per_animal</th>\n",
       "      <th>yield__tonnes_per_ha</th>\n",
       "      <th>area_harvested__ha</th>\n",
       "      <th>production__tonnes</th>\n",
       "    </tr>\n",
       "    <tr>\n",
       "      <th>Country</th>\n",
       "      <th>Item Code</th>\n",
       "      <th>Year</th>\n",
       "      <th></th>\n",
       "      <th></th>\n",
       "      <th></th>\n",
       "      <th></th>\n",
       "    </tr>\n",
       "  </thead>\n",
       "  <tbody>\n",
       "    <tr>\n",
       "      <th rowspan=\"5\" valign=\"top\">Afghanistan</th>\n",
       "      <th rowspan=\"5\" valign=\"top\">15</th>\n",
       "      <th>1961</th>\n",
       "      <td>&lt;NA&gt;</td>\n",
       "      <td>1.022</td>\n",
       "      <td>2230000.0</td>\n",
       "      <td>2279000.0</td>\n",
       "    </tr>\n",
       "    <tr>\n",
       "      <th>1962</th>\n",
       "      <td>&lt;NA&gt;</td>\n",
       "      <td>0.9735</td>\n",
       "      <td>2341000.0</td>\n",
       "      <td>2279000.0</td>\n",
       "    </tr>\n",
       "    <tr>\n",
       "      <th>1963</th>\n",
       "      <td>&lt;NA&gt;</td>\n",
       "      <td>0.8317</td>\n",
       "      <td>2341000.0</td>\n",
       "      <td>1947000.0</td>\n",
       "    </tr>\n",
       "    <tr>\n",
       "      <th>1964</th>\n",
       "      <td>&lt;NA&gt;</td>\n",
       "      <td>0.951</td>\n",
       "      <td>2345000.0</td>\n",
       "      <td>2230000.0</td>\n",
       "    </tr>\n",
       "    <tr>\n",
       "      <th>1965</th>\n",
       "      <td>&lt;NA&gt;</td>\n",
       "      <td>0.9723</td>\n",
       "      <td>2347000.0</td>\n",
       "      <td>2282000.0</td>\n",
       "    </tr>\n",
       "  </tbody>\n",
       "</table>\n",
       "</div>"
      ],
      "text/plain": [
       "Element Code                yield__kg_per_animal  yield__tonnes_per_ha  \\\n",
       "Country     Item Code Year                                               \n",
       "Afghanistan 15        1961                  <NA>                 1.022   \n",
       "                      1962                  <NA>                0.9735   \n",
       "                      1963                  <NA>                0.8317   \n",
       "                      1964                  <NA>                 0.951   \n",
       "                      1965                  <NA>                0.9723   \n",
       "\n",
       "Element Code                area_harvested__ha  production__tonnes  \n",
       "Country     Item Code Year                                          \n",
       "Afghanistan 15        1961           2230000.0           2279000.0  \n",
       "                      1962           2341000.0           2279000.0  \n",
       "                      1963           2341000.0           1947000.0  \n",
       "                      1964           2345000.0           2230000.0  \n",
       "                      1965           2347000.0           2282000.0  "
      ]
     },
     "execution_count": 104,
     "metadata": {},
     "output_type": "execute_result"
    }
   ],
   "source": [
    "qcl_bulk.head()"
   ]
  },
  {
   "cell_type": "markdown",
   "id": "1bbb1b3e-15ad-4638-b47e-552072672bbb",
   "metadata": {},
   "source": [
    "### Item\n",
    "We now load the standardisation item table and remove `NaN` values (these belong to to-be-discarded items)."
   ]
  },
  {
   "cell_type": "code",
   "execution_count": 10,
   "id": "1b564750-ee04-48d2-85c3-7c0c00c351b3",
   "metadata": {},
   "outputs": [],
   "source": [
    "# Get standardised values\n",
    "df = pd.read_csv(path_map_item, index_col=\"code\")\n",
    "map_item_std = df.dropna(subset=[\"name_standardised\"])[\"name_standardised\"].to_dict()"
   ]
  },
  {
   "cell_type": "markdown",
   "id": "b74daed2-02d1-492d-82de-f7be8265c42f",
   "metadata": {},
   "source": [
    "Briefly display first 10 mappings."
   ]
  },
  {
   "cell_type": "code",
   "execution_count": 11,
   "id": "fe7f4012-4b80-41a1-8cf0-d83d887d6014",
   "metadata": {},
   "outputs": [
    {
     "data": {
      "text/plain": [
       "{221: 'Almonds',\n",
       " 711: 'Herbs (e.g. fennel)',\n",
       " 515: 'Apples',\n",
       " 526: 'Apricots',\n",
       " 226: 'Areca nuts',\n",
       " 366: 'Artichokes',\n",
       " 367: 'Asparagus',\n",
       " 1107: 'Asses',\n",
       " 572: 'Avocados',\n",
       " 486: 'Bananas'}"
      ]
     },
     "execution_count": 11,
     "metadata": {},
     "output_type": "execute_result"
    }
   ],
   "source": [
    "{k: v for (k, v) in list(map_item_std.items())[:10]}"
   ]
  },
  {
   "cell_type": "markdown",
   "id": "378585ca-c87d-41f5-b3d2-432a307c5eb3",
   "metadata": {},
   "source": [
    "Next, we do a simple check of item name uniqueness. That is, we check for each item name if only a single code is assigned. And we observe that codes 403 and 402 are assigned to \"Onions\", after standardisation."
   ]
  },
  {
   "cell_type": "code",
   "execution_count": 65,
   "id": "1806f388-d235-4a47-8369-32009bcb780b",
   "metadata": {},
   "outputs": [],
   "source": [
    "x = pd.DataFrame.from_dict(map_item_std, orient=\"index\", columns=[\"name\"]).reset_index()\n",
    "x = x.groupby(\"name\").index.unique().apply(list)\n",
    "x = x[x.apply(len) > 1]\n",
    "# Check\n",
    "assert (x.index == [\"Onions\"]).all()\n",
    "assert x.values.tolist() == [[403, 402]]"
   ]
  },
  {
   "cell_type": "markdown",
   "id": "1fda3907-d942-4254-8189-58b1096fce16",
   "metadata": {},
   "source": [
    "Next, we filter out items that we are not interested in and add a new column (`Product`) with the standardised item names."
   ]
  },
  {
   "cell_type": "code",
   "execution_count": 107,
   "id": "2c68a20f-e46f-4aa8-8ba9-4ec010839468",
   "metadata": {},
   "outputs": [],
   "source": [
    "qcl_bulk = qcl_bulk.reset_index()\n",
    "qcl_bulk = qcl_bulk[qcl_bulk[\"Item Code\"].isin(map_item_std)]\n",
    "qcl_bulk.loc[:, \"Product\"] = qcl_bulk[\"Item Code\"].replace(map_item_std).tolist()\n",
    "qcl_bulk = qcl_bulk.drop(columns=[\"Item Code\"])\n",
    "# Set back index\n",
    "qcl_bulk = qcl_bulk.set_index([\"Product\", \"Country\", \"Year\"])"
   ]
  },
  {
   "cell_type": "code",
   "execution_count": 108,
   "id": "7cc3a271-02f8-43c8-ac85-a83c04956d7e",
   "metadata": {},
   "outputs": [
    {
     "data": {
      "text/html": [
       "<div>\n",
       "<style scoped>\n",
       "    .dataframe tbody tr th:only-of-type {\n",
       "        vertical-align: middle;\n",
       "    }\n",
       "\n",
       "    .dataframe tbody tr th {\n",
       "        vertical-align: top;\n",
       "    }\n",
       "\n",
       "    .dataframe thead th {\n",
       "        text-align: right;\n",
       "    }\n",
       "</style>\n",
       "<table border=\"1\" class=\"dataframe\">\n",
       "  <thead>\n",
       "    <tr style=\"text-align: right;\">\n",
       "      <th></th>\n",
       "      <th></th>\n",
       "      <th>Element Code</th>\n",
       "      <th>yield__kg_per_animal</th>\n",
       "      <th>yield__tonnes_per_ha</th>\n",
       "      <th>area_harvested__ha</th>\n",
       "      <th>production__tonnes</th>\n",
       "    </tr>\n",
       "    <tr>\n",
       "      <th>Product</th>\n",
       "      <th>Country</th>\n",
       "      <th>Year</th>\n",
       "      <th></th>\n",
       "      <th></th>\n",
       "      <th></th>\n",
       "      <th></th>\n",
       "    </tr>\n",
       "  </thead>\n",
       "  <tbody>\n",
       "    <tr>\n",
       "      <th rowspan=\"5\" valign=\"top\">Wheat</th>\n",
       "      <th rowspan=\"5\" valign=\"top\">Afghanistan</th>\n",
       "      <th>1961</th>\n",
       "      <td>&lt;NA&gt;</td>\n",
       "      <td>1.022</td>\n",
       "      <td>2230000.0</td>\n",
       "      <td>2279000.0</td>\n",
       "    </tr>\n",
       "    <tr>\n",
       "      <th>1962</th>\n",
       "      <td>&lt;NA&gt;</td>\n",
       "      <td>0.9735</td>\n",
       "      <td>2341000.0</td>\n",
       "      <td>2279000.0</td>\n",
       "    </tr>\n",
       "    <tr>\n",
       "      <th>1963</th>\n",
       "      <td>&lt;NA&gt;</td>\n",
       "      <td>0.8317</td>\n",
       "      <td>2341000.0</td>\n",
       "      <td>1947000.0</td>\n",
       "    </tr>\n",
       "    <tr>\n",
       "      <th>1964</th>\n",
       "      <td>&lt;NA&gt;</td>\n",
       "      <td>0.951</td>\n",
       "      <td>2345000.0</td>\n",
       "      <td>2230000.0</td>\n",
       "    </tr>\n",
       "    <tr>\n",
       "      <th>1965</th>\n",
       "      <td>&lt;NA&gt;</td>\n",
       "      <td>0.9723</td>\n",
       "      <td>2347000.0</td>\n",
       "      <td>2282000.0</td>\n",
       "    </tr>\n",
       "  </tbody>\n",
       "</table>\n",
       "</div>"
      ],
      "text/plain": [
       "Element Code              yield__kg_per_animal  yield__tonnes_per_ha  \\\n",
       "Product Country     Year                                               \n",
       "Wheat   Afghanistan 1961                  <NA>                 1.022   \n",
       "                    1962                  <NA>                0.9735   \n",
       "                    1963                  <NA>                0.8317   \n",
       "                    1964                  <NA>                 0.951   \n",
       "                    1965                  <NA>                0.9723   \n",
       "\n",
       "Element Code              area_harvested__ha  production__tonnes  \n",
       "Product Country     Year                                          \n",
       "Wheat   Afghanistan 1961           2230000.0           2279000.0  \n",
       "                    1962           2341000.0           2279000.0  \n",
       "                    1963           2341000.0           1947000.0  \n",
       "                    1964           2345000.0           2230000.0  \n",
       "                    1965           2347000.0           2282000.0  "
      ]
     },
     "execution_count": 108,
     "metadata": {},
     "output_type": "execute_result"
    }
   ],
   "source": [
    "qcl_bulk.head()"
   ]
  },
  {
   "cell_type": "markdown",
   "id": "0ade0d82-150b-468b-960a-2aa3e4fedb7e",
   "metadata": {},
   "source": [
    "## Final processing\n",
    "Here we add the final processing steps. For now, we mainly do one thing: discard products (former items) that do not contain any value for the \"elements of interest\"."
   ]
  },
  {
   "cell_type": "code",
   "execution_count": 36,
   "id": "2adc3d98-4d00-45f3-97a1-c261bbf554b1",
   "metadata": {},
   "outputs": [],
   "source": [
    "# Drop nulls (some products dont have any value for the elements of interest)\n",
    "qcl_bulk = qcl_bulk.dropna(how=\"all\")"
   ]
  },
  {
   "cell_type": "code",
   "execution_count": 37,
   "id": "6c493723-1488-4644-94b7-ceb875233fd5",
   "metadata": {},
   "outputs": [
    {
     "name": "stdout",
     "output_type": "stream",
     "text": [
      "(829841, 4)\n"
     ]
    },
    {
     "data": {
      "text/html": [
       "<div>\n",
       "<style scoped>\n",
       "    .dataframe tbody tr th:only-of-type {\n",
       "        vertical-align: middle;\n",
       "    }\n",
       "\n",
       "    .dataframe tbody tr th {\n",
       "        vertical-align: top;\n",
       "    }\n",
       "\n",
       "    .dataframe thead th {\n",
       "        text-align: right;\n",
       "    }\n",
       "</style>\n",
       "<table border=\"1\" class=\"dataframe\">\n",
       "  <thead>\n",
       "    <tr style=\"text-align: right;\">\n",
       "      <th></th>\n",
       "      <th></th>\n",
       "      <th>Element Code</th>\n",
       "      <th>yield__kg/animal</th>\n",
       "      <th>yield__tonnes/ha</th>\n",
       "      <th>area_harvested__ha</th>\n",
       "      <th>production__tonnes</th>\n",
       "    </tr>\n",
       "    <tr>\n",
       "      <th>Product</th>\n",
       "      <th>Country</th>\n",
       "      <th>Year</th>\n",
       "      <th></th>\n",
       "      <th></th>\n",
       "      <th></th>\n",
       "      <th></th>\n",
       "    </tr>\n",
       "  </thead>\n",
       "  <tbody>\n",
       "    <tr>\n",
       "      <th rowspan=\"5\" valign=\"top\">Wheat</th>\n",
       "      <th rowspan=\"5\" valign=\"top\">Afghanistan</th>\n",
       "      <th>1961</th>\n",
       "      <td>&lt;NA&gt;</td>\n",
       "      <td>1.022</td>\n",
       "      <td>2230000.0</td>\n",
       "      <td>2279000.0</td>\n",
       "    </tr>\n",
       "    <tr>\n",
       "      <th>1962</th>\n",
       "      <td>&lt;NA&gt;</td>\n",
       "      <td>0.9735</td>\n",
       "      <td>2341000.0</td>\n",
       "      <td>2279000.0</td>\n",
       "    </tr>\n",
       "    <tr>\n",
       "      <th>1963</th>\n",
       "      <td>&lt;NA&gt;</td>\n",
       "      <td>0.8317</td>\n",
       "      <td>2341000.0</td>\n",
       "      <td>1947000.0</td>\n",
       "    </tr>\n",
       "    <tr>\n",
       "      <th>1964</th>\n",
       "      <td>&lt;NA&gt;</td>\n",
       "      <td>0.951</td>\n",
       "      <td>2345000.0</td>\n",
       "      <td>2230000.0</td>\n",
       "    </tr>\n",
       "    <tr>\n",
       "      <th>1965</th>\n",
       "      <td>&lt;NA&gt;</td>\n",
       "      <td>0.9723</td>\n",
       "      <td>2347000.0</td>\n",
       "      <td>2282000.0</td>\n",
       "    </tr>\n",
       "  </tbody>\n",
       "</table>\n",
       "</div>"
      ],
      "text/plain": [
       "Element Code              yield__kg/animal  yield__tonnes/ha  \\\n",
       "Product Country     Year                                       \n",
       "Wheat   Afghanistan 1961              <NA>             1.022   \n",
       "                    1962              <NA>            0.9735   \n",
       "                    1963              <NA>            0.8317   \n",
       "                    1964              <NA>             0.951   \n",
       "                    1965              <NA>            0.9723   \n",
       "\n",
       "Element Code              area_harvested__ha  production__tonnes  \n",
       "Product Country     Year                                          \n",
       "Wheat   Afghanistan 1961           2230000.0           2279000.0  \n",
       "                    1962           2341000.0           2279000.0  \n",
       "                    1963           2341000.0           1947000.0  \n",
       "                    1964           2345000.0           2230000.0  \n",
       "                    1965           2347000.0           2282000.0  "
      ]
     },
     "execution_count": 37,
     "metadata": {},
     "output_type": "execute_result"
    }
   ],
   "source": [
    "print(qcl_bulk.shape)\n",
    "qcl_bulk.head()"
   ]
  },
  {
   "cell_type": "markdown",
   "id": "21b30b62-ddb4-4ed5-bc00-5ba6b71f6ba4",
   "metadata": {
    "tags": []
   },
   "source": [
    "## Export\n",
    "Time to export the shining brand new dataset!\n",
    "\n",
    "We export it in two flavours: bulk and file-per-product formats. The former is the standard format, while the later is intended to power OWID tools such as explorers."
   ]
  },
  {
   "cell_type": "markdown",
   "id": "161da3a4-3733-4ee8-878c-c66813ce9cba",
   "metadata": {},
   "source": [
    "### Define metadata\n",
    "Prior to export, we need to create the metadata content for this dataset. It basically propagates the metadata from its building pieces (QCL so far).\n",
    "\n",
    "For this dataset, we use namespace `explorers`, which is intended for datasets aimed at powering explorers (this may change)."
   ]
  },
  {
   "cell_type": "code",
   "execution_count": 30,
   "id": "5e11a2df-9018-4db6-a741-c8e23f7fcc74",
   "metadata": {},
   "outputs": [],
   "source": [
    "from owid.catalog.meta import DatasetMeta"
   ]
  },
  {
   "cell_type": "code",
   "execution_count": 31,
   "id": "063d7187-b99d-4c17-a726-d9e44a59806b",
   "metadata": {},
   "outputs": [],
   "source": [
    "# Initialize dataset\n",
    "fe_garden = catalog.Dataset.create_empty(dest_dir)\n",
    "fe_garden.metadata = DatasetMeta(\n",
    "    namespace=\"explorers\",\n",
    "    short_name=\"food_explorer\",\n",
    "    sources=qcl_garden.metadata.sources,\n",
    "    licenses=qcl_garden.metadata.licenses,\n",
    ")\n",
    "fe_garden.save()"
   ]
  },
  {
   "cell_type": "markdown",
   "id": "d7d450d2-5169-4c10-8d12-fa825608a6a9",
   "metadata": {},
   "source": [
    "### In bulk"
   ]
  },
  {
   "cell_type": "markdown",
   "id": "22417050-7cd1-40cf-8762-9037241afd11",
   "metadata": {},
   "source": [
    "Preserve the bulk file for QA or manual analysis."
   ]
  },
  {
   "cell_type": "code",
   "execution_count": 32,
   "id": "97bedabf-2d57-4789-9466-a66ac2f28aba",
   "metadata": {},
   "outputs": [],
   "source": [
    "t = catalog.Table(qcl_bulk)\n",
    "t.metadata.short_name = \"bulk\"\n",
    "fe_garden.add(t)"
   ]
  },
  {
   "cell_type": "markdown",
   "id": "5c34ed58-fec7-4179-adb7-5459e230542d",
   "metadata": {},
   "source": [
    "### One file per product"
   ]
  },
  {
   "cell_type": "markdown",
   "id": "c6ec2879-2494-4ed8-969b-15d3fbd1c52b",
   "metadata": {},
   "source": [
    "To work in an explorer, we need to add the table in CSV format. To make it more scalable for use, we want\n",
    "to split that dataset into many small files, one per product."
   ]
  },
  {
   "cell_type": "code",
   "execution_count": 33,
   "id": "f2711acb-c700-4ce9-89f5-6fbbf7c9a4f6",
   "metadata": {
    "tags": []
   },
   "outputs": [
    {
     "name": "stdout",
     "output_type": "stream",
     "text": [
      "Almonds --> almonds.csv\n",
      "Apples --> apples.csv\n",
      "Apricots --> apricots.csv\n",
      "Areca nuts --> areca_nuts.csv\n",
      "Artichokes --> artichokes.csv\n",
      "Asparagus --> asparagus.csv\n",
      "Avocados --> avocados.csv\n",
      "Bananas --> bananas.csv\n",
      "Barley --> barley.csv\n",
      "Beans, dry --> beans_dry.csv\n",
      "Beans, green --> beans_green.csv\n",
      "Beef and Buffalo Meat --> beef_and_buffalo_meat.csv\n",
      "Beeswax --> beeswax.csv\n",
      "Blueberries --> blueberries.csv\n",
      "Brazil nuts, with shell --> brazil_nuts_with_shell.csv\n",
      "Broad beans --> broad_beans.csv\n",
      "Buckwheat --> buckwheat.csv\n",
      "Buffalo hides --> buffalo_hides.csv\n",
      "Butter and Ghee --> butter_and_ghee.csv\n",
      "Cabbages --> cabbages.csv\n",
      "Canary seed --> canary_seed.csv\n",
      "Carrots and turnips --> carrots_and_turnips.csv\n",
      "Cashew nuts --> cashew_nuts.csv\n",
      "Cassava --> cassava.csv\n",
      "Castor oil seed --> castor_oil_seed.csv\n",
      "Cattle hides --> cattle_hides.csv\n",
      "Cauliflowers and broccoli --> cauliflowers_and_broccoli.csv\n",
      "Cereals --> cereals.csv\n",
      "Cheese --> cheese.csv\n",
      "Cherries --> cherries.csv\n",
      "Chestnut --> chestnut.csv\n",
      "Chickpeas --> chickpeas.csv\n",
      "Chillies and peppers, dry --> chillies_and_peppers_dry.csv\n",
      "Chillies and peppers, green --> chillies_and_peppers_green.csv\n",
      "Citrus Fruit --> citrus_fruit.csv\n",
      "Cocoa beans --> cocoa_beans.csv\n",
      "Coconut oil --> coconut_oil.csv\n",
      "Coconuts --> coconuts.csv\n",
      "Coffee, green --> coffee_green.csv\n",
      "Cotton --> cotton.csv\n",
      "Cottonseed --> cottonseed.csv\n",
      "Cottonseed oil --> cottonseed_oil.csv\n",
      "Cow peas --> cow_peas.csv\n",
      "Cranberries --> cranberries.csv\n",
      "Cream --> cream.csv\n",
      "Cucumbers and gherkins --> cucumbers_and_gherkins.csv\n",
      "Currants --> currants.csv\n",
      "Dates --> dates.csv\n",
      "Eggplants --> eggplants.csv\n",
      "Eggs --> eggs.csv\n",
      "Eggs from other birds --> eggs_from_other_birds.csv\n",
      "Fat, buffaloes --> fat_buffaloes.csv\n",
      "Fat, camels --> fat_camels.csv\n",
      "Fat, cattle --> fat_cattle.csv\n",
      "Fat, goats --> fat_goats.csv\n",
      "Fat, pigs --> fat_pigs.csv\n",
      "Fat, sheep --> fat_sheep.csv\n",
      "Fibre crops --> fibre_crops.csv\n",
      "Flax fibre --> flax_fibre.csv\n",
      "Fruit --> fruit.csv\n",
      "Garlic --> garlic.csv\n",
      "Ghee, buffalo milk --> ghee_buffalo_milk.csv\n",
      "Ghee, butteroil of cow milk --> ghee_butteroil_of_cow_milk.csv\n",
      "Grapefruit --> grapefruit.csv\n",
      "Grapes --> grapes.csv\n",
      "Green maize --> green_maize.csv\n",
      "Groundnuts --> groundnuts.csv\n",
      "Grounut oil --> grounut_oil.csv\n",
      "Hazelnuts --> hazelnuts.csv\n",
      "Hempseed --> hempseed.csv\n",
      "Hen eggs --> hen_eggs.csv\n",
      "Herbs (e.g. fennel) --> herbs_eg_fennel.csv\n",
      "Honey --> honey.csv\n",
      "Jute --> jute.csv\n",
      "Karite nuts --> karite_nuts.csv\n",
      "Kiwi --> kiwi.csv\n",
      "Kola nuts --> kola_nuts.csv\n",
      "Leeks --> leeks.csv\n",
      "Lemons and limes --> lemons_and_limes.csv\n",
      "Lentils --> lentils.csv\n",
      "Lettuce --> lettuce.csv\n",
      "Linseed --> linseed.csv\n",
      "Linseed oil --> linseed_oil.csv\n",
      "Maize --> maize.csv\n",
      "Maize oil --> maize_oil.csv\n",
      "Mangoes --> mangoes.csv\n",
      "Margarine --> margarine.csv\n",
      "Meat, Poultry --> meat_poultry.csv\n",
      "Meat, Total --> meat_total.csv\n",
      "Meat, ass --> meat_ass.csv\n",
      "Meat, buffalo --> meat_buffalo.csv\n",
      "Meat, camel --> meat_camel.csv\n",
      "Meat, cattle --> meat_cattle.csv\n",
      "Meat, chicken --> meat_chicken.csv\n",
      "Meat, duck --> meat_duck.csv\n",
      "Meat, game --> meat_game.csv\n",
      "Meat, goat --> meat_goat.csv\n",
      "Meat, goose and guinea fowl --> meat_goose_and_guinea_fowl.csv\n",
      "Meat, horse --> meat_horse.csv\n",
      "Meat, mule --> meat_mule.csv\n",
      "Meat, other birds --> meat_other_birds.csv\n",
      "Meat, other camelids --> meat_other_camelids.csv\n",
      "Meat, other rodents --> meat_other_rodents.csv\n",
      "Meat, pig --> meat_pig.csv\n",
      "Meat, rabbit --> meat_rabbit.csv\n",
      "Meat, sheep --> meat_sheep.csv\n",
      "Meat, turkey --> meat_turkey.csv\n",
      "Melon --> melon.csv\n",
      "Melonseed --> melonseed.csv\n",
      "Milk, excluding butter --> milk_excluding_butter.csv\n",
      "Millet --> millet.csv\n",
      "Mixed grains --> mixed_grains.csv\n",
      "Molasses --> molasses.csv\n",
      "Mushrooms --> mushrooms.csv\n",
      "Mustard seed --> mustard_seed.csv\n",
      "Oats --> oats.csv\n",
      "Offals, buffaloes --> offals_buffaloes.csv\n",
      "Offals, camels --> offals_camels.csv\n",
      "Offals, cattle --> offals_cattle.csv\n",
      "Offals, goats --> offals_goats.csv\n",
      "Offals, horses --> offals_horses.csv\n",
      "Offals, pigs --> offals_pigs.csv\n",
      "Offals, sheep --> offals_sheep.csv\n",
      "Oilcrops --> oilcrops.csv\n",
      "Oilcrops, Cake Equivalent --> oilcrops_cake_equivalent.csv\n",
      "Oilcrops, Oil Equivalent --> oilcrops_oil_equivalent.csv\n",
      "Okra --> okra.csv\n",
      "Olive oil --> olive_oil.csv\n",
      "Olives --> olives.csv\n",
      "Onions --> onions.csv\n",
      "Oranges --> oranges.csv\n",
      "Other cereals --> other_cereals.csv\n",
      "Other meats --> other_meats.csv\n",
      "Other oilseeds --> other_oilseeds.csv\n",
      "Palm fruit oil --> palm_fruit_oil.csv\n",
      "Palm kernel oil --> palm_kernel_oil.csv\n",
      "Palm kernels --> palm_kernels.csv\n",
      "Palm oil --> palm_oil.csv\n",
      "Papayas --> papayas.csv\n",
      "Peaches and nectarines --> peaches_and_nectarines.csv\n",
      "Pears --> pears.csv\n",
      "Peas, dry --> peas_dry.csv\n",
      "Peas, green --> peas_green.csv\n",
      "Pepper --> pepper.csv\n",
      "Pigeon peas --> pigeon_peas.csv\n",
      "Pineapples --> pineapples.csv\n",
      "Pistachios --> pistachios.csv\n",
      "Plantains --> plantains.csv\n",
      "Plums --> plums.csv\n",
      "Poppy seeds --> poppy_seeds.csv\n",
      "Potatoes --> potatoes.csv\n",
      "Pulses --> pulses.csv\n",
      "Quinoa --> quinoa.csv\n",
      "Rapeseed --> rapeseed.csv\n",
      "Rapeseed oil --> rapeseed_oil.csv\n",
      "Raspberries --> raspberries.csv\n",
      "Rice --> rice.csv\n",
      "Rice (milled equivalent) --> rice_milled_equivalent.csv\n",
      "Roots and tubers --> roots_and_tubers.csv\n",
      "Rubber --> rubber.csv\n",
      "Rye --> rye.csv\n",
      "Safflower oil --> safflower_oil.csv\n",
      "Safflower seed --> safflower_seed.csv\n",
      "Seed cotton --> seed_cotton.csv\n",
      "Sesame oil --> sesame_oil.csv\n",
      "Sesame seed --> sesame_seed.csv\n",
      "Sheep and goat meat --> sheep_and_goat_meat.csv\n",
      "Silk --> silk.csv\n",
      "Skins, goat --> skins_goat.csv\n",
      "Skins, sheep --> skins_sheep.csv\n",
      "Sorghum --> sorghum.csv\n",
      "Soybean oil --> soybean_oil.csv\n",
      "Soybeans --> soybeans.csv\n",
      "Spinach --> spinach.csv\n",
      "Strawberries --> strawberries.csv\n",
      "String beans --> string_beans.csv\n",
      "Sugar (raw) --> sugar_raw.csv\n",
      "Sugar beet --> sugar_beet.csv\n",
      "Sugar cane --> sugar_cane.csv\n",
      "Sugar crops --> sugar_crops.csv\n",
      "Sunflower oil --> sunflower_oil.csv\n",
      "Sunflower seed --> sunflower_seed.csv\n",
      "Sweet potatoes --> sweet_potatoes.csv\n",
      "Tangerines --> tangerines.csv\n",
      "Tea --> tea.csv\n",
      "Tobacco --> tobacco.csv\n",
      "Tomatoes --> tomatoes.csv\n",
      "Treenuts --> treenuts.csv\n",
      "Vegetables --> vegetables.csv\n",
      "Walnuts --> walnuts.csv\n",
      "Watermelons --> watermelons.csv\n",
      "Wheat --> wheat.csv\n",
      "Whey --> whey.csv\n",
      "Wine --> wine.csv\n",
      "Wool --> wool.csv\n",
      "Yams --> yams.csv\n",
      "Yoghurt --> yoghurt.csv\n"
     ]
    }
   ],
   "source": [
    "def to_short_name(raw):\n",
    "    return (\n",
    "        raw.lower()\n",
    "        .replace(\" \", \"_\")\n",
    "        .replace(\",\", \"\")\n",
    "        .replace(\"(\", \"\")\n",
    "        .replace(\")\", \"\")\n",
    "        .replace(\".\", \"\")\n",
    "    )\n",
    "\n",
    "\n",
    "# the index contains values like \"Asses\" which have already been filtered out from the data,\n",
    "# let's remove them\n",
    "qcl_bulk.index = qcl_bulk.index.remove_unused_levels()\n",
    "\n",
    "for product in sorted(qcl_bulk.index.levels[0]):\n",
    "    short_name = to_short_name(product)\n",
    "    print(f\"{product} --> {short_name}.csv\")\n",
    "\n",
    "    t = catalog.Table(qcl_bulk.loc[[product]])\n",
    "    t.metadata.short_name = short_name\n",
    "    fe_garden.add(t, format=\"csv\")  # <-- note we choose CSV format here"
   ]
  },
  {
   "cell_type": "markdown",
   "id": "95e70d0c-bdd4-4ea5-acb2-6a4ae475d872",
   "metadata": {},
   "source": [
    "Let's check that the biggest files are still an ok size for an explorer."
   ]
  },
  {
   "cell_type": "code",
   "execution_count": 34,
   "id": "0042dcdd-2cc2-460b-9523-e3167bcaef2b",
   "metadata": {},
   "outputs": [
    {
     "name": "stdout",
     "output_type": "stream",
     "text": [
      "700K\t/tmp/food_explorer/oilcrops_oil_equivalent.csv\n",
      "700K\t/tmp/food_explorer/oilcrops_cake_equivalent.csv\n",
      "636K\t/tmp/food_explorer/roots_and_tubers.csv\n",
      "612K\t/tmp/food_explorer/milk_excluding_butter.csv\n",
      "584K\t/tmp/food_explorer/beef_and_buffalo_meat.csv\n",
      "568K\t/tmp/food_explorer/vegetables.csv\n",
      "536K\t/tmp/food_explorer/sheep_and_goat_meat.csv\n",
      "524K\t/tmp/food_explorer/oilcrops.csv\n",
      "524K\t/tmp/food_explorer/meat_poultry.csv\n",
      "520K\t/tmp/food_explorer/fruit.csv\n"
     ]
    }
   ],
   "source": [
    "!du -hs {dest_dir}/*.csv | sort -hr | head -n 10"
   ]
  },
  {
   "cell_type": "markdown",
   "id": "6b391ff9-3fc7-44ce-a292-0b0c83e792d5",
   "metadata": {},
   "source": [
    "The biggest is 712kB, we're ok ✓ "
   ]
  }
 ],
 "metadata": {
  "kernelspec": {
   "display_name": "Python 3 (ipykernel)",
   "language": "python",
   "name": "python3"
  },
  "language_info": {
   "codemirror_mode": {
    "name": "ipython",
    "version": 3
   },
   "file_extension": ".py",
   "mimetype": "text/x-python",
   "name": "python",
   "nbconvert_exporter": "python",
   "pygments_lexer": "ipython3",
   "version": "3.9.5"
  }
 },
 "nbformat": 4,
 "nbformat_minor": 5
}
