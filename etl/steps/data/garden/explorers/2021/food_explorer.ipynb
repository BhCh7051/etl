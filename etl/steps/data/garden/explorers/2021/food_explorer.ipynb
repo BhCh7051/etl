{
 "cells": [
  {
   "cell_type": "markdown",
   "id": "12fe55dd-d6a8-4b04-b4de-40a93d325bfd",
   "metadata": {},
   "source": [
    "# Food Explorer\n",
    "Produced using garden-level FAOstat datasets\n",
    "\n",
    "- [x] QCL\n",
    "- [ ] FBS\n",
    "- [ ] FBSH"
   ]
  },
  {
   "cell_type": "markdown",
   "id": "181739bb-0909-465a-afdd-0efc47e2d09a",
   "metadata": {},
   "source": [
    "## Parameters"
   ]
  },
  {
   "cell_type": "code",
   "execution_count": 1,
   "id": "6f35e10c-ecda-4c86-8783-56992f6f855e",
   "metadata": {
    "tags": [
     "parameters"
    ]
   },
   "outputs": [],
   "source": [
    "dest_dir = \"/tmp/food_explorer\""
   ]
  },
  {
   "cell_type": "markdown",
   "id": "7a35dbb4-850f-491d-b071-7eab7fe64253",
   "metadata": {},
   "source": [
    "## Imports & paths"
   ]
  },
  {
   "cell_type": "code",
   "execution_count": 2,
   "id": "2319d18c-fc2f-49d5-be71-c55bc7676a8b",
   "metadata": {},
   "outputs": [],
   "source": [
    "from owid import catalog\n",
    "import pandas as pd\n",
    "from pathlib import Path\n",
    "import numpy as np"
   ]
  },
  {
   "cell_type": "code",
   "execution_count": 3,
   "id": "6120be1f-2eb1-4b2c-985b-9baf69d9417e",
   "metadata": {},
   "outputs": [],
   "source": [
    "from etl.paths import BASE_DIR as base_path"
   ]
  },
  {
   "cell_type": "code",
   "execution_count": 4,
   "id": "5674d02f-c7cd-4ef8-a28d-a64ddcc4caa3",
   "metadata": {},
   "outputs": [],
   "source": [
    "path_dataset_qcl = base_path / \"data/garden/faostat/2021-03-18/faostat_QCL\"\n",
    "path_map_item = (\n",
    "    base_path / \"etl/steps/data/garden/explorers/2021/food_explorer.items.std.csv\"\n",
    ")\n",
    "path_map_elem = (\n",
    "    base_path / \"etl/steps/data/garden/explorers/2021/food_explorer.elements.std.csv\"\n",
    ")"
   ]
  },
  {
   "cell_type": "markdown",
   "id": "28b2966f-c5e6-4039-825b-824fb430724c",
   "metadata": {
    "tags": []
   },
   "source": [
    "## Load meadow dataset"
   ]
  },
  {
   "cell_type": "code",
   "execution_count": 5,
   "id": "a5769436-dfed-466b-9108-d534c59b7acd",
   "metadata": {},
   "outputs": [],
   "source": [
    "qcl_garden = catalog.Dataset(path_dataset_qcl)"
   ]
  },
  {
   "cell_type": "code",
   "execution_count": 6,
   "id": "2edc462f-3dec-46c7-8d99-e89242fc38e4",
   "metadata": {
    "tags": []
   },
   "outputs": [],
   "source": [
    "# Bulk data and items metadata\n",
    "qcl_bulk = qcl_garden[\"bulk\"]"
   ]
  },
  {
   "cell_type": "code",
   "execution_count": 7,
   "id": "e88461fe-c796-4cd2-8007-dadb141e01c6",
   "metadata": {},
   "outputs": [
    {
     "data": {
      "text/html": [
       "<div>\n",
       "<style scoped>\n",
       "    .dataframe tbody tr th:only-of-type {\n",
       "        vertical-align: middle;\n",
       "    }\n",
       "\n",
       "    .dataframe tbody tr th {\n",
       "        vertical-align: top;\n",
       "    }\n",
       "\n",
       "    .dataframe thead th {\n",
       "        text-align: right;\n",
       "    }\n",
       "</style>\n",
       "<table border=\"1\" class=\"dataframe\">\n",
       "  <thead>\n",
       "    <tr style=\"text-align: right;\">\n",
       "      <th></th>\n",
       "      <th></th>\n",
       "      <th></th>\n",
       "      <th></th>\n",
       "      <th></th>\n",
       "      <th></th>\n",
       "      <th>Value</th>\n",
       "    </tr>\n",
       "    <tr>\n",
       "      <th>Country</th>\n",
       "      <th>Item Code</th>\n",
       "      <th>Element Code</th>\n",
       "      <th>Variable Name</th>\n",
       "      <th>Year</th>\n",
       "      <th>Flag</th>\n",
       "      <th></th>\n",
       "    </tr>\n",
       "  </thead>\n",
       "  <tbody>\n",
       "    <tr>\n",
       "      <th rowspan=\"5\" valign=\"top\">Armenia</th>\n",
       "      <th rowspan=\"5\" valign=\"top\">221</th>\n",
       "      <th rowspan=\"5\" valign=\"top\">5312</th>\n",
       "      <th rowspan=\"5\" valign=\"top\">Almonds, with shell - Area harvested (ha)</th>\n",
       "      <th>1992</th>\n",
       "      <th>M</th>\n",
       "      <td>&lt;NA&gt;</td>\n",
       "    </tr>\n",
       "    <tr>\n",
       "      <th>1993</th>\n",
       "      <th>M</th>\n",
       "      <td>&lt;NA&gt;</td>\n",
       "    </tr>\n",
       "    <tr>\n",
       "      <th>1994</th>\n",
       "      <th>M</th>\n",
       "      <td>&lt;NA&gt;</td>\n",
       "    </tr>\n",
       "    <tr>\n",
       "      <th>1995</th>\n",
       "      <th>M</th>\n",
       "      <td>&lt;NA&gt;</td>\n",
       "    </tr>\n",
       "    <tr>\n",
       "      <th>1996</th>\n",
       "      <th>M</th>\n",
       "      <td>&lt;NA&gt;</td>\n",
       "    </tr>\n",
       "  </tbody>\n",
       "</table>\n",
       "</div>"
      ],
      "text/plain": [
       "                                                                                    Value\n",
       "Country Item Code Element Code Variable Name                             Year Flag       \n",
       "Armenia 221       5312         Almonds, with shell - Area harvested (ha) 1992 M      <NA>\n",
       "                                                                         1993 M      <NA>\n",
       "                                                                         1994 M      <NA>\n",
       "                                                                         1995 M      <NA>\n",
       "                                                                         1996 M      <NA>"
      ]
     },
     "execution_count": 7,
     "metadata": {},
     "output_type": "execute_result"
    }
   ],
   "source": [
    "qcl_bulk.head()"
   ]
  },
  {
   "cell_type": "markdown",
   "id": "917c3fc8-c58f-4c6b-8024-7ee6a1a22e18",
   "metadata": {},
   "source": [
    "## Select Flags"
   ]
  },
  {
   "cell_type": "code",
   "execution_count": 8,
   "id": "cde43839-5389-43bd-aa2e-1b6366c860f1",
   "metadata": {},
   "outputs": [],
   "source": [
    "qcl_bulk = qcl_bulk.reset_index()\n",
    "qcl_bulk = qcl_bulk.drop(columns=[\"Variable Name\"])"
   ]
  },
  {
   "cell_type": "code",
   "execution_count": 9,
   "id": "62537795-b1bd-4495-b221-3a20a3c575b8",
   "metadata": {},
   "outputs": [
    {
     "name": "stdout",
     "output_type": "stream",
     "text": [
      "og: 2796737, new: 2766049\n"
     ]
    }
   ],
   "source": [
    "i_og = qcl_bulk.index.tolist()\n",
    "i_ne = qcl_bulk.drop_duplicates(\n",
    "    subset=[\"Country\", \"Item Code\", \"Element Code\", \"Year\"]\n",
    ").index.tolist()\n",
    "print(f\"og: {len(i_og)}, new: {len(i_ne)}\")"
   ]
  },
  {
   "cell_type": "code",
   "execution_count": 10,
   "id": "11a56d62-5525-4916-bf8f-4083ef556cdb",
   "metadata": {},
   "outputs": [
    {
     "name": "stdout",
     "output_type": "stream",
     "text": [
      "30688, True\n"
     ]
    }
   ],
   "source": [
    "# Checks\n",
    "qcl_bulk = qcl_bulk.set_index([\"Country\", \"Item Code\", \"Element Code\", \"Year\"])\n",
    "dups = qcl_bulk.index.duplicated()\n",
    "print(f\"{dups.sum()}, {len(i_ne) == len(i_og)-dups.sum()}\")\n",
    "dups = qcl_bulk.index.duplicated(keep=False)\n",
    "qcl_bulk = qcl_bulk.reset_index()"
   ]
  },
  {
   "cell_type": "code",
   "execution_count": 11,
   "id": "f5da2eda-1fca-47d0-9bd3-7da00c99d562",
   "metadata": {},
   "outputs": [
    {
     "data": {
      "text/plain": [
       "(2766049, 5)"
      ]
     },
     "execution_count": 11,
     "metadata": {},
     "output_type": "execute_result"
    }
   ],
   "source": [
    "# Create flag priority (add to df)\n",
    "flag_priorities = {\n",
    "    \"R\": 0,\n",
    "    \"M\": 1,\n",
    "    \"*\": 2,\n",
    "    \"Fc\": 6,\n",
    "    \"A\": 7,\n",
    "    \"Im\": 8,\n",
    "    \"F\": 9,\n",
    "    np.nan: 10,\n",
    "}\n",
    "qcl_bulk.loc[:, \"Flag_priority\"] = qcl_bulk.Flag.replace(flag_priorities).tolist()\n",
    "qcl_bulk.loc[qcl_bulk.Value.isna(), \"Flag_priority\"] = -1\n",
    "# Remove duplicates based on Flag value\n",
    "qcl_bulk = qcl_bulk.sort_values(\"Flag_priority\")\n",
    "qcl_bulk = qcl_bulk.drop_duplicates(\n",
    "    subset=[\"Country\", \"Item Code\", \"Element Code\", \"Year\"], keep=\"last\"\n",
    ")\n",
    "qcl_bulk.drop(columns=[\"Flag_priority\", \"Flag\"], inplace=True)\n",
    "qcl_bulk.shape"
   ]
  },
  {
   "cell_type": "markdown",
   "id": "cba6f901-1b02-4faa-bb9a-a016b2d45b2c",
   "metadata": {},
   "source": [
    "## Element Overview"
   ]
  },
  {
   "cell_type": "code",
   "execution_count": 12,
   "id": "61681c4f-0585-48c6-85d1-1adf9586d3f7",
   "metadata": {},
   "outputs": [
    {
     "data": {
      "text/plain": [
       "Element Code\n",
       "Production -- tonnes -- 5510                          281\n",
       "Area harvested -- ha -- 5312                          172\n",
       "Yield -- hg/ha -- 5419                                171\n",
       "Producing Animals/Slaughtered -- Head -- 5320          31\n",
       "Yield/Carcass Weight -- hg/An -- 5417                  14\n",
       "Stocks -- Head -- 5111                                 12\n",
       "Yield -- hg/An -- 5420                                 10\n",
       "Producing Animals/Slaughtered -- 1000 Head -- 5321      8\n",
       "Yield/Carcass Weight -- 0.1g/An -- 5424                 8\n",
       "Stocks -- 1000 Head -- 5112                             7\n",
       "Laying -- 1000 Head -- 5313                             3\n",
       "Yield -- 100mg/An -- 5410                               3\n",
       "Yield -- hg -- 5422                                     2\n",
       "Production -- 1000 No -- 5513                           2\n",
       "Stocks -- No -- 5114                                    1\n",
       "Name: Item Code, dtype: int64"
      ]
     },
     "execution_count": 12,
     "metadata": {},
     "output_type": "execute_result"
    }
   ],
   "source": [
    "# Where do each element appear?\n",
    "res = qcl_bulk.reset_index().groupby(\"Element Code\")[\"Item Code\"].nunique()\n",
    "df = pd.read_csv(path_map_elem, index_col=\"code\")\n",
    "elem_map = df[\"name\"] + \" -- \" + df[\"unit\"] + \" -- \" + df.index.astype(str)\n",
    "res.rename(index=elem_map.to_dict()).sort_values(ascending=False)"
   ]
  },
  {
   "cell_type": "markdown",
   "id": "984267f3-77e3-4076-8079-b8c459bcde3e",
   "metadata": {
    "tags": []
   },
   "source": [
    "## Reshape dataset"
   ]
  },
  {
   "cell_type": "code",
   "execution_count": 13,
   "id": "2d78ddb6-1100-4658-8043-44964e869a9b",
   "metadata": {},
   "outputs": [],
   "source": [
    "qcl_bulk = qcl_bulk.reset_index()\n",
    "qcl_bulk = qcl_bulk.pivot(\n",
    "    index=[\"Country\", \"Item Code\", \"Year\"], columns=\"Element Code\", values=\"Value\"\n",
    ")"
   ]
  },
  {
   "cell_type": "markdown",
   "id": "b55bc8f2-b589-439d-afe4-214fbd3bffd9",
   "metadata": {},
   "source": [
    "---"
   ]
  },
  {
   "cell_type": "markdown",
   "id": "35948880-80b8-4352-8a49-2d183d58046d",
   "metadata": {},
   "source": [
    "## Rename Elements & Items"
   ]
  },
  {
   "cell_type": "markdown",
   "id": "258a18b7-845d-463c-a361-b147e4e4748a",
   "metadata": {},
   "source": [
    "### Input from Hannah (OPTIONAL)\n",
    "This step here is to:\n",
    "- Generate table with item and element codes\n",
    "- Share with Hannah\n",
    "- Get standardisations for elements and items "
   ]
  },
  {
   "cell_type": "markdown",
   "id": "240ccc40-ea1e-44b5-ae3f-f81aba420cbd",
   "metadata": {},
   "source": [
    "#### Elements"
   ]
  },
  {
   "cell_type": "code",
   "execution_count": 14,
   "id": "4c2dcf6d-453b-4d3c-a5e4-87e3620c5908",
   "metadata": {},
   "outputs": [],
   "source": [
    "qcl_elem = qcl_garden[\"meta_element\"]"
   ]
  },
  {
   "cell_type": "code",
   "execution_count": 15,
   "id": "20f69abc-a5ea-4ac4-a175-7dbdc4543f54",
   "metadata": {},
   "outputs": [],
   "source": [
    "elements = pd.DataFrame(qcl_bulk.notna().sum()).reset_index()\n",
    "elements = elements.sort_values(0, ascending=False)\n",
    "# Add names + unit info\n",
    "elements = elements.merge(\n",
    "    qcl_elem[[\"Element\", \"Unit\", \"Unit Description\"]],\n",
    "    left_on=\"Element Code\",\n",
    "    right_index=True,\n",
    ")\n",
    "# Rename\n",
    "elements = elements.rename(\n",
    "    columns={\n",
    "        \"Element Code\": \"code\",\n",
    "        0: \"number_occurrences\",\n",
    "        \"Element\": \"name\",\n",
    "        \"Unit\": \"unit\",\n",
    "        \"Unit Description\": \"unit_description\",\n",
    "    }\n",
    ")[[\"code\", \"name\", \"unit\", \"unit_description\", \"number_occurrences\"]]"
   ]
  },
  {
   "cell_type": "code",
   "execution_count": 16,
   "id": "12f41a77-951c-4d9e-8960-ad4aaeacb13a",
   "metadata": {},
   "outputs": [],
   "source": [
    "elements.to_csv(\"ign.food.elements.csv\", index=False)"
   ]
  },
  {
   "cell_type": "markdown",
   "id": "001cfba2-9b59-400c-b2fe-5c694f5a1ff3",
   "metadata": {},
   "source": [
    "#### Items"
   ]
  },
  {
   "cell_type": "code",
   "execution_count": 17,
   "id": "13063f01-bb80-4579-9780-b2051da0b485",
   "metadata": {},
   "outputs": [],
   "source": [
    "qcl_item = qcl_garden[\"meta_item\"]"
   ]
  },
  {
   "cell_type": "code",
   "execution_count": 18,
   "id": "daace449-144b-44fb-9d05-66727b998dfe",
   "metadata": {},
   "outputs": [],
   "source": [
    "x = qcl_item.reset_index().astype(str)\n",
    "# Group\n",
    "cols = [\"Item Group Code\", \"Item Group\"]\n",
    "y = x.drop_duplicates(subset=cols)[cols]\n",
    "map_item_g = dict(zip(y[cols[0]], y[cols[1]]))\n",
    "# Item\n",
    "cols = [\"Item Code\", \"Item\"]\n",
    "y = x.drop_duplicates(subset=cols)[cols]\n",
    "map_item = dict(zip(y[cols[0]], y[cols[1]]))\n",
    "\n",
    "# Correct\n",
    "a = set(map_item_g.keys()).intersection(set(map_item.keys()))\n",
    "b = set(map_item.keys()).intersection(set(map_item_g.keys()))\n",
    "assert a == b\n",
    "map_item = {k: v for k, v in map_item.items() if k not in map_item_g}"
   ]
  },
  {
   "cell_type": "code",
   "execution_count": 19,
   "id": "ce0adf49-e7d2-433f-9dde-8ded13a71aba",
   "metadata": {},
   "outputs": [],
   "source": [
    "# Load item occurences\n",
    "items = (\n",
    "    pd.DataFrame(qcl_bulk.reset_index()[\"Item Code\"].value_counts())\n",
    "    .reset_index()\n",
    "    .astype(str)\n",
    "    .rename(\n",
    "        columns={\n",
    "            \"index\": \"code\",\n",
    "            \"Item Code\": \"number_occurences\",\n",
    "        }\n",
    "    )\n",
    ")\n",
    "# Add flag for groups\n",
    "items[\"type\"] = items[\"code\"].isin(map_item_g).apply(lambda x: \"Group\" if x else None)\n",
    "# Add name\n",
    "map_item_all = {**map_item, **map_item_g}\n",
    "items[\"name\"] = items.code.replace(map_item_all)\n",
    "# Order columns\n",
    "items = items[[\"code\", \"name\", \"type\", \"number_occurences\"]]"
   ]
  },
  {
   "cell_type": "code",
   "execution_count": 20,
   "id": "e64ca032-bc4c-4170-87df-83c0a1563e5a",
   "metadata": {},
   "outputs": [],
   "source": [
    "items.to_csv(\"ign.food.items.csv\", index=False)"
   ]
  },
  {
   "cell_type": "markdown",
   "id": "8411b093-9cd8-47a2-b31e-7fcd62f91dcf",
   "metadata": {},
   "source": [
    "### Renaming\n",
    "#### Element"
   ]
  },
  {
   "cell_type": "code",
   "execution_count": 21,
   "id": "f9fd878f-47ca-4569-8bb4-f764f1244d4e",
   "metadata": {},
   "outputs": [],
   "source": [
    "# Get standardised values\n",
    "df = pd.read_csv(path_map_elem, index_col=\"code\")\n",
    "df = df.dropna(subset=[\"name_standardised\"])"
   ]
  },
  {
   "cell_type": "code",
   "execution_count": 22,
   "id": "8a980add-06d6-4b8d-96b0-be53678bd3f0",
   "metadata": {
    "tags": []
   },
   "outputs": [],
   "source": [
    "# Filter elements of interest\n",
    "qcl_bulk = qcl_bulk[df.index]\n",
    "# Factor\n",
    "qcl_bulk = qcl_bulk.multiply(df.loc[qcl_bulk.columns, \"unit_factor\"])"
   ]
  },
  {
   "cell_type": "code",
   "execution_count": 23,
   "id": "180ca094-27f3-4b26-828b-8f8e8a11feaf",
   "metadata": {
    "tags": []
   },
   "outputs": [],
   "source": [
    "# Merge 5417,5420,5424,5410 --> 5417\n",
    "qcl_bulk[5417] = qcl_bulk[5417].fillna(\n",
    "    qcl_bulk[5420].fillna(qcl_bulk[5424].fillna(qcl_bulk[5410]))\n",
    ")\n",
    "qcl_bulk = qcl_bulk.drop(columns=[5420, 5424, 5410])"
   ]
  },
  {
   "cell_type": "code",
   "execution_count": 24,
   "id": "06553ff8-56e3-4c03-8e01-ec36c172c637",
   "metadata": {},
   "outputs": [],
   "source": [
    "# Build element name\n",
    "a = df[\"name_standardised\"].apply(lambda x: x.lower().replace(\" \", \"_\")).astype(str)\n",
    "b = (\n",
    "    df[\"unit_name_standardised_with_conversion\"]\n",
    "    .apply(lambda x: x.lower().replace(\" \", \"_\"))\n",
    "    .astype(str)\n",
    ")\n",
    "df[\"element_name\"] = (a + \"__\" + b).tolist()\n",
    "# Obtain dict Element Code -> element name\n",
    "map_elem = df[\"element_name\"].to_dict()\n",
    "# Change columns names\n",
    "qcl_bulk = qcl_bulk.rename(columns=map_elem)"
   ]
  },
  {
   "cell_type": "markdown",
   "id": "1bbb1b3e-15ad-4638-b47e-552072672bbb",
   "metadata": {},
   "source": [
    "#### Item"
   ]
  },
  {
   "cell_type": "code",
   "execution_count": 25,
   "id": "1b564750-ee04-48d2-85c3-7c0c00c351b3",
   "metadata": {},
   "outputs": [],
   "source": [
    "# Get standardised values\n",
    "df = pd.read_csv(path_map_item, index_col=\"code\")\n",
    "map_item_std = df.dropna(subset=[\"name_standardised\"])[\"name_standardised\"].to_dict()"
   ]
  },
  {
   "cell_type": "code",
   "execution_count": 26,
   "id": "2c68a20f-e46f-4aa8-8ba9-4ec010839468",
   "metadata": {},
   "outputs": [],
   "source": [
    "qcl_bulk = qcl_bulk.reset_index()\n",
    "qcl_bulk = qcl_bulk[qcl_bulk[\"Item Code\"].isin(map_item_std)]\n",
    "qcl_bulk.loc[:, \"Product\"] = qcl_bulk[\"Item Code\"].replace(map_item_std).tolist()\n",
    "qcl_bulk = qcl_bulk.drop(columns=[\"Item Code\"])"
   ]
  },
  {
   "cell_type": "markdown",
   "id": "0ade0d82-150b-468b-960a-2aa3e4fedb7e",
   "metadata": {},
   "source": [
    "## Final processing"
   ]
  },
  {
   "cell_type": "code",
   "execution_count": 27,
   "id": "935b4e84-fac9-4a38-889a-ad246b7a1fd1",
   "metadata": {},
   "outputs": [],
   "source": [
    "# Set index\n",
    "qcl_bulk = qcl_bulk.set_index([\"Product\", \"Country\", \"Year\"])"
   ]
  },
  {
   "cell_type": "code",
   "execution_count": 28,
   "id": "2adc3d98-4d00-45f3-97a1-c261bbf554b1",
   "metadata": {},
   "outputs": [],
   "source": [
    "# Drop nulls (some products dont have any value for the elements of interest)\n",
    "qcl_bulk = qcl_bulk.dropna(how=\"all\")"
   ]
  },
  {
   "cell_type": "code",
   "execution_count": 29,
   "id": "6c493723-1488-4644-94b7-ceb875233fd5",
   "metadata": {},
   "outputs": [
    {
     "name": "stdout",
     "output_type": "stream",
     "text": [
      "(829841, 4)\n"
     ]
    },
    {
     "data": {
      "text/html": [
       "<div>\n",
       "<style scoped>\n",
       "    .dataframe tbody tr th:only-of-type {\n",
       "        vertical-align: middle;\n",
       "    }\n",
       "\n",
       "    .dataframe tbody tr th {\n",
       "        vertical-align: top;\n",
       "    }\n",
       "\n",
       "    .dataframe thead th {\n",
       "        text-align: right;\n",
       "    }\n",
       "</style>\n",
       "<table border=\"1\" class=\"dataframe\">\n",
       "  <thead>\n",
       "    <tr style=\"text-align: right;\">\n",
       "      <th></th>\n",
       "      <th></th>\n",
       "      <th>Element Code</th>\n",
       "      <th>yield__kg/animal</th>\n",
       "      <th>yield__tonnes/ha</th>\n",
       "      <th>area_harvested__ha</th>\n",
       "      <th>production__tonnes</th>\n",
       "    </tr>\n",
       "    <tr>\n",
       "      <th>Product</th>\n",
       "      <th>Country</th>\n",
       "      <th>Year</th>\n",
       "      <th></th>\n",
       "      <th></th>\n",
       "      <th></th>\n",
       "      <th></th>\n",
       "    </tr>\n",
       "  </thead>\n",
       "  <tbody>\n",
       "    <tr>\n",
       "      <th rowspan=\"5\" valign=\"top\">Wheat</th>\n",
       "      <th rowspan=\"5\" valign=\"top\">Afghanistan</th>\n",
       "      <th>1961</th>\n",
       "      <td>&lt;NA&gt;</td>\n",
       "      <td>1.022</td>\n",
       "      <td>2230000.0</td>\n",
       "      <td>2279000.0</td>\n",
       "    </tr>\n",
       "    <tr>\n",
       "      <th>1962</th>\n",
       "      <td>&lt;NA&gt;</td>\n",
       "      <td>0.9735</td>\n",
       "      <td>2341000.0</td>\n",
       "      <td>2279000.0</td>\n",
       "    </tr>\n",
       "    <tr>\n",
       "      <th>1963</th>\n",
       "      <td>&lt;NA&gt;</td>\n",
       "      <td>0.8317</td>\n",
       "      <td>2341000.0</td>\n",
       "      <td>1947000.0</td>\n",
       "    </tr>\n",
       "    <tr>\n",
       "      <th>1964</th>\n",
       "      <td>&lt;NA&gt;</td>\n",
       "      <td>0.951</td>\n",
       "      <td>2345000.0</td>\n",
       "      <td>2230000.0</td>\n",
       "    </tr>\n",
       "    <tr>\n",
       "      <th>1965</th>\n",
       "      <td>&lt;NA&gt;</td>\n",
       "      <td>0.9723</td>\n",
       "      <td>2347000.0</td>\n",
       "      <td>2282000.0</td>\n",
       "    </tr>\n",
       "  </tbody>\n",
       "</table>\n",
       "</div>"
      ],
      "text/plain": [
       "Element Code              yield__kg/animal  yield__tonnes/ha  \\\n",
       "Product Country     Year                                       \n",
       "Wheat   Afghanistan 1961              <NA>             1.022   \n",
       "                    1962              <NA>            0.9735   \n",
       "                    1963              <NA>            0.8317   \n",
       "                    1964              <NA>             0.951   \n",
       "                    1965              <NA>            0.9723   \n",
       "\n",
       "Element Code              area_harvested__ha  production__tonnes  \n",
       "Product Country     Year                                          \n",
       "Wheat   Afghanistan 1961           2230000.0           2279000.0  \n",
       "                    1962           2341000.0           2279000.0  \n",
       "                    1963           2341000.0           1947000.0  \n",
       "                    1964           2345000.0           2230000.0  \n",
       "                    1965           2347000.0           2282000.0  "
      ]
     },
     "execution_count": 29,
     "metadata": {},
     "output_type": "execute_result"
    }
   ],
   "source": [
    "print(qcl_bulk.shape)\n",
    "qcl_bulk.head()"
   ]
  },
  {
   "cell_type": "markdown",
   "id": "21b30b62-ddb4-4ed5-bc00-5ba6b71f6ba4",
   "metadata": {
    "tags": []
   },
   "source": [
    "## Export"
   ]
  },
  {
   "cell_type": "code",
   "execution_count": 30,
   "id": "5e11a2df-9018-4db6-a741-c8e23f7fcc74",
   "metadata": {},
   "outputs": [],
   "source": [
    "from owid.catalog.meta import DatasetMeta"
   ]
  },
  {
   "cell_type": "code",
   "execution_count": 31,
   "id": "063d7187-b99d-4c17-a726-d9e44a59806b",
   "metadata": {},
   "outputs": [],
   "source": [
    "# Initialize dataset\n",
    "fe_garden = catalog.Dataset.create_empty(dest_dir)\n",
    "fe_garden.metadata = DatasetMeta(\n",
    "    namespace=\"explorers\",\n",
    "    short_name=\"food_explorer\",\n",
    "    sources=qcl_garden.metadata.sources,\n",
    "    licenses=qcl_garden.metadata.licenses,\n",
    ")\n",
    "fe_garden.save()"
   ]
  },
  {
   "cell_type": "markdown",
   "id": "d7d450d2-5169-4c10-8d12-fa825608a6a9",
   "metadata": {},
   "source": [
    "### In bulk"
   ]
  },
  {
   "cell_type": "markdown",
   "id": "22417050-7cd1-40cf-8762-9037241afd11",
   "metadata": {},
   "source": [
    "Preserve the bulk file for QA or manual analysis."
   ]
  },
  {
   "cell_type": "code",
   "execution_count": 32,
   "id": "97bedabf-2d57-4789-9466-a66ac2f28aba",
   "metadata": {},
   "outputs": [],
   "source": [
    "t = catalog.Table(qcl_bulk)\n",
    "t.metadata.short_name = \"bulk\"\n",
    "fe_garden.add(t)"
   ]
  },
  {
   "cell_type": "markdown",
   "id": "5c34ed58-fec7-4179-adb7-5459e230542d",
   "metadata": {},
   "source": [
    "### One file per product"
   ]
  },
  {
   "cell_type": "markdown",
   "id": "c6ec2879-2494-4ed8-969b-15d3fbd1c52b",
   "metadata": {},
   "source": [
    "To work in an explorer, we need to add the table in CSV format. To make it more scalable for use, we want\n",
    "to split that dataset into many small files, one per product."
   ]
  },
  {
   "cell_type": "code",
   "execution_count": 33,
   "id": "f2711acb-c700-4ce9-89f5-6fbbf7c9a4f6",
   "metadata": {
    "tags": []
   },
   "outputs": [
    {
     "name": "stdout",
     "output_type": "stream",
     "text": [
      "Almonds --> almonds.csv\n",
      "Apples --> apples.csv\n",
      "Apricots --> apricots.csv\n",
      "Areca nuts --> areca_nuts.csv\n",
      "Artichokes --> artichokes.csv\n",
      "Asparagus --> asparagus.csv\n",
      "Avocados --> avocados.csv\n",
      "Bananas --> bananas.csv\n",
      "Barley --> barley.csv\n",
      "Beans, dry --> beans_dry.csv\n",
      "Beans, green --> beans_green.csv\n",
      "Beef and Buffalo Meat --> beef_and_buffalo_meat.csv\n",
      "Beeswax --> beeswax.csv\n",
      "Blueberries --> blueberries.csv\n",
      "Brazil nuts, with shell --> brazil_nuts_with_shell.csv\n",
      "Broad beans --> broad_beans.csv\n",
      "Buckwheat --> buckwheat.csv\n",
      "Buffalo hides --> buffalo_hides.csv\n",
      "Butter and Ghee --> butter_and_ghee.csv\n",
      "Cabbages --> cabbages.csv\n",
      "Canary seed --> canary_seed.csv\n",
      "Carrots and turnips --> carrots_and_turnips.csv\n",
      "Cashew nuts --> cashew_nuts.csv\n",
      "Cassava --> cassava.csv\n",
      "Castor oil seed --> castor_oil_seed.csv\n",
      "Cattle hides --> cattle_hides.csv\n",
      "Cauliflowers and broccoli --> cauliflowers_and_broccoli.csv\n",
      "Cereals --> cereals.csv\n",
      "Cheese --> cheese.csv\n",
      "Cherries --> cherries.csv\n",
      "Chestnut --> chestnut.csv\n",
      "Chickpeas --> chickpeas.csv\n",
      "Chillies and peppers, dry --> chillies_and_peppers_dry.csv\n",
      "Chillies and peppers, green --> chillies_and_peppers_green.csv\n",
      "Citrus Fruit --> citrus_fruit.csv\n",
      "Cocoa beans --> cocoa_beans.csv\n",
      "Coconut oil --> coconut_oil.csv\n",
      "Coconuts --> coconuts.csv\n",
      "Coffee, green --> coffee_green.csv\n",
      "Cotton --> cotton.csv\n",
      "Cottonseed --> cottonseed.csv\n",
      "Cottonseed oil --> cottonseed_oil.csv\n",
      "Cow peas --> cow_peas.csv\n",
      "Cranberries --> cranberries.csv\n",
      "Cream --> cream.csv\n",
      "Cucumbers and gherkins --> cucumbers_and_gherkins.csv\n",
      "Currants --> currants.csv\n",
      "Dates --> dates.csv\n",
      "Eggplants --> eggplants.csv\n",
      "Eggs --> eggs.csv\n",
      "Eggs from other birds --> eggs_from_other_birds.csv\n",
      "Fat, buffaloes --> fat_buffaloes.csv\n",
      "Fat, camels --> fat_camels.csv\n",
      "Fat, cattle --> fat_cattle.csv\n",
      "Fat, goats --> fat_goats.csv\n",
      "Fat, pigs --> fat_pigs.csv\n",
      "Fat, sheep --> fat_sheep.csv\n",
      "Fibre crops --> fibre_crops.csv\n",
      "Flax fibre --> flax_fibre.csv\n",
      "Fruit --> fruit.csv\n",
      "Garlic --> garlic.csv\n",
      "Ghee, buffalo milk --> ghee_buffalo_milk.csv\n",
      "Ghee, butteroil of cow milk --> ghee_butteroil_of_cow_milk.csv\n",
      "Grapefruit --> grapefruit.csv\n",
      "Grapes --> grapes.csv\n",
      "Green maize --> green_maize.csv\n",
      "Groundnuts --> groundnuts.csv\n",
      "Grounut oil --> grounut_oil.csv\n",
      "Hazelnuts --> hazelnuts.csv\n",
      "Hempseed --> hempseed.csv\n",
      "Hen eggs --> hen_eggs.csv\n",
      "Herbs (e.g. fennel) --> herbs_eg_fennel.csv\n",
      "Honey --> honey.csv\n",
      "Jute --> jute.csv\n",
      "Karite nuts --> karite_nuts.csv\n",
      "Kiwi --> kiwi.csv\n",
      "Kola nuts --> kola_nuts.csv\n",
      "Leeks --> leeks.csv\n",
      "Lemons and limes --> lemons_and_limes.csv\n",
      "Lentils --> lentils.csv\n",
      "Lettuce --> lettuce.csv\n",
      "Linseed --> linseed.csv\n",
      "Linseed oil --> linseed_oil.csv\n",
      "Maize --> maize.csv\n",
      "Maize oil --> maize_oil.csv\n",
      "Mangoes --> mangoes.csv\n",
      "Margarine --> margarine.csv\n",
      "Meat, Poultry --> meat_poultry.csv\n",
      "Meat, Total --> meat_total.csv\n",
      "Meat, ass --> meat_ass.csv\n",
      "Meat, buffalo --> meat_buffalo.csv\n",
      "Meat, camel --> meat_camel.csv\n",
      "Meat, cattle --> meat_cattle.csv\n",
      "Meat, chicken --> meat_chicken.csv\n",
      "Meat, duck --> meat_duck.csv\n",
      "Meat, game --> meat_game.csv\n",
      "Meat, goat --> meat_goat.csv\n",
      "Meat, goose and guinea fowl --> meat_goose_and_guinea_fowl.csv\n",
      "Meat, horse --> meat_horse.csv\n",
      "Meat, mule --> meat_mule.csv\n",
      "Meat, other birds --> meat_other_birds.csv\n",
      "Meat, other camelids --> meat_other_camelids.csv\n",
      "Meat, other rodents --> meat_other_rodents.csv\n",
      "Meat, pig --> meat_pig.csv\n",
      "Meat, rabbit --> meat_rabbit.csv\n",
      "Meat, sheep --> meat_sheep.csv\n",
      "Meat, turkey --> meat_turkey.csv\n",
      "Melon --> melon.csv\n",
      "Melonseed --> melonseed.csv\n",
      "Milk, excluding butter --> milk_excluding_butter.csv\n",
      "Millet --> millet.csv\n",
      "Mixed grains --> mixed_grains.csv\n",
      "Molasses --> molasses.csv\n",
      "Mushrooms --> mushrooms.csv\n",
      "Mustard seed --> mustard_seed.csv\n",
      "Oats --> oats.csv\n",
      "Offals, buffaloes --> offals_buffaloes.csv\n",
      "Offals, camels --> offals_camels.csv\n",
      "Offals, cattle --> offals_cattle.csv\n",
      "Offals, goats --> offals_goats.csv\n",
      "Offals, horses --> offals_horses.csv\n",
      "Offals, pigs --> offals_pigs.csv\n",
      "Offals, sheep --> offals_sheep.csv\n",
      "Oilcrops --> oilcrops.csv\n",
      "Oilcrops, Cake Equivalent --> oilcrops_cake_equivalent.csv\n",
      "Oilcrops, Oil Equivalent --> oilcrops_oil_equivalent.csv\n",
      "Okra --> okra.csv\n",
      "Olive oil --> olive_oil.csv\n",
      "Olives --> olives.csv\n",
      "Onions --> onions.csv\n",
      "Oranges --> oranges.csv\n",
      "Other cereals --> other_cereals.csv\n",
      "Other meats --> other_meats.csv\n",
      "Other oilseeds --> other_oilseeds.csv\n",
      "Palm fruit oil --> palm_fruit_oil.csv\n",
      "Palm kernel oil --> palm_kernel_oil.csv\n",
      "Palm kernels --> palm_kernels.csv\n",
      "Palm oil --> palm_oil.csv\n",
      "Papayas --> papayas.csv\n",
      "Peaches and nectarines --> peaches_and_nectarines.csv\n",
      "Pears --> pears.csv\n",
      "Peas, dry --> peas_dry.csv\n",
      "Peas, green --> peas_green.csv\n",
      "Pepper --> pepper.csv\n",
      "Pigeon peas --> pigeon_peas.csv\n",
      "Pineapples --> pineapples.csv\n",
      "Pistachios --> pistachios.csv\n",
      "Plantains --> plantains.csv\n",
      "Plums --> plums.csv\n",
      "Poppy seeds --> poppy_seeds.csv\n",
      "Potatoes --> potatoes.csv\n",
      "Pulses --> pulses.csv\n",
      "Quinoa --> quinoa.csv\n",
      "Rapeseed --> rapeseed.csv\n",
      "Rapeseed oil --> rapeseed_oil.csv\n",
      "Raspberries --> raspberries.csv\n",
      "Rice --> rice.csv\n",
      "Rice (milled equivalent) --> rice_milled_equivalent.csv\n",
      "Roots and tubers --> roots_and_tubers.csv\n",
      "Rubber --> rubber.csv\n",
      "Rye --> rye.csv\n",
      "Safflower oil --> safflower_oil.csv\n",
      "Safflower seed --> safflower_seed.csv\n",
      "Seed cotton --> seed_cotton.csv\n",
      "Sesame oil --> sesame_oil.csv\n",
      "Sesame seed --> sesame_seed.csv\n",
      "Sheep and goat meat --> sheep_and_goat_meat.csv\n",
      "Silk --> silk.csv\n",
      "Skins, goat --> skins_goat.csv\n",
      "Skins, sheep --> skins_sheep.csv\n",
      "Sorghum --> sorghum.csv\n",
      "Soybean oil --> soybean_oil.csv\n",
      "Soybeans --> soybeans.csv\n",
      "Spinach --> spinach.csv\n",
      "Strawberries --> strawberries.csv\n",
      "String beans --> string_beans.csv\n",
      "Sugar (raw) --> sugar_raw.csv\n",
      "Sugar beet --> sugar_beet.csv\n",
      "Sugar cane --> sugar_cane.csv\n",
      "Sugar crops --> sugar_crops.csv\n",
      "Sunflower oil --> sunflower_oil.csv\n",
      "Sunflower seed --> sunflower_seed.csv\n",
      "Sweet potatoes --> sweet_potatoes.csv\n",
      "Tangerines --> tangerines.csv\n",
      "Tea --> tea.csv\n",
      "Tobacco --> tobacco.csv\n",
      "Tomatoes --> tomatoes.csv\n",
      "Treenuts --> treenuts.csv\n",
      "Vegetables --> vegetables.csv\n",
      "Walnuts --> walnuts.csv\n",
      "Watermelons --> watermelons.csv\n",
      "Wheat --> wheat.csv\n",
      "Whey --> whey.csv\n",
      "Wine --> wine.csv\n",
      "Wool --> wool.csv\n",
      "Yams --> yams.csv\n",
      "Yoghurt --> yoghurt.csv\n"
     ]
    }
   ],
   "source": [
    "def to_short_name(raw):\n",
    "    return (\n",
    "        raw.lower()\n",
    "        .replace(\" \", \"_\")\n",
    "        .replace(\",\", \"\")\n",
    "        .replace(\"(\", \"\")\n",
    "        .replace(\")\", \"\")\n",
    "        .replace(\".\", \"\")\n",
    "    )\n",
    "\n",
    "\n",
    "# the index contains values like \"Asses\" which have already been filtered out from the data,\n",
    "# let's remove them\n",
    "qcl_bulk.index = qcl_bulk.index.remove_unused_levels()\n",
    "\n",
    "for product in sorted(qcl_bulk.index.levels[0]):\n",
    "    short_name = to_short_name(product)\n",
    "    print(f\"{product} --> {short_name}.csv\")\n",
    "\n",
    "    t = catalog.Table(qcl_bulk.loc[[product]])\n",
    "    t.metadata.short_name = short_name\n",
    "    fe_garden.add(t, format=\"csv\")  # <-- note we choose CSV format here"
   ]
  },
  {
   "cell_type": "markdown",
   "id": "95e70d0c-bdd4-4ea5-acb2-6a4ae475d872",
   "metadata": {},
   "source": [
    "Let's check that the biggest files are still an ok size for an explorer."
   ]
  },
  {
   "cell_type": "code",
   "execution_count": 34,
   "id": "0042dcdd-2cc2-460b-9523-e3167bcaef2b",
   "metadata": {},
   "outputs": [
    {
     "name": "stdout",
     "output_type": "stream",
     "text": [
      "700K\t/tmp/food_explorer/oilcrops_oil_equivalent.csv\n",
      "700K\t/tmp/food_explorer/oilcrops_cake_equivalent.csv\n",
      "636K\t/tmp/food_explorer/roots_and_tubers.csv\n",
      "612K\t/tmp/food_explorer/milk_excluding_butter.csv\n",
      "584K\t/tmp/food_explorer/beef_and_buffalo_meat.csv\n",
      "568K\t/tmp/food_explorer/vegetables.csv\n",
      "536K\t/tmp/food_explorer/sheep_and_goat_meat.csv\n",
      "524K\t/tmp/food_explorer/oilcrops.csv\n",
      "524K\t/tmp/food_explorer/meat_poultry.csv\n",
      "520K\t/tmp/food_explorer/fruit.csv\n"
     ]
    }
   ],
   "source": [
    "!du -hs {dest_dir}/*.csv | sort -hr | head -n 10"
   ]
  },
  {
   "cell_type": "markdown",
   "id": "6b391ff9-3fc7-44ce-a292-0b0c83e792d5",
   "metadata": {},
   "source": [
    "The biggest is 712kB, we're ok ✓ "
   ]
  }
 ],
 "metadata": {
  "kernelspec": {
   "display_name": "Python 3 (ipykernel)",
   "language": "python",
   "name": "python3"
  },
  "language_info": {
   "codemirror_mode": {
    "name": "ipython",
    "version": 3
   },
   "file_extension": ".py",
   "mimetype": "text/x-python",
   "name": "python",
   "nbconvert_exporter": "python",
   "pygments_lexer": "ipython3",
   "version": "3.9.7"
  }
 },
 "nbformat": 4,
 "nbformat_minor": 5
}
