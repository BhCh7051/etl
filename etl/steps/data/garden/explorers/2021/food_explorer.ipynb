{
 "cells": [
  {
   "cell_type": "markdown",
   "id": "12fe55dd-d6a8-4b04-b4de-40a93d325bfd",
   "metadata": {},
   "source": [
    "# Food Explorer\n",
    "Produced using garden-level FAOstat datasets\n",
    "\n",
    "- [x] QCL\n",
    "- [ ] FBS\n",
    "- [ ] FBSH"
   ]
  },
  {
   "cell_type": "markdown",
   "id": "181739bb-0909-465a-afdd-0efc47e2d09a",
   "metadata": {},
   "source": [
    "## Parameters"
   ]
  },
  {
   "cell_type": "code",
   "execution_count": 1,
   "id": "6f35e10c-ecda-4c86-8783-56992f6f855e",
   "metadata": {
    "tags": [
     "parameters"
    ]
   },
   "outputs": [],
   "source": [
    "dest_dir = \"/tmp/food_explorer\""
   ]
  },
  {
   "cell_type": "markdown",
   "id": "7a35dbb4-850f-491d-b071-7eab7fe64253",
   "metadata": {},
   "source": [
    "## Imports & paths"
   ]
  },
  {
   "cell_type": "code",
   "execution_count": 2,
   "id": "2319d18c-fc2f-49d5-be71-c55bc7676a8b",
   "metadata": {},
   "outputs": [],
   "source": [
    "from owid import catalog\n",
    "import pandas as pd\n",
    "from pathlib import Path\n",
    "import numpy as np"
   ]
  },
  {
   "cell_type": "code",
   "execution_count": 3,
   "id": "6120be1f-2eb1-4b2c-985b-9baf69d9417e",
   "metadata": {},
   "outputs": [],
   "source": [
    "from etl.paths import BASE_DIR as base_path"
   ]
  },
  {
   "cell_type": "code",
   "execution_count": 4,
   "id": "5674d02f-c7cd-4ef8-a28d-a64ddcc4caa3",
   "metadata": {},
   "outputs": [],
   "source": [
    "path_dataset_qcl = base_path / \"data/garden/faostat/2021-03-18/faostat_QCL\"\n",
    "path_map_item = (\n",
    "    base_path / \"etl/steps/data/garden/explorers/2021/food_explorer.items.std.csv\"\n",
    ")\n",
    "path_map_elem = (\n",
    "    base_path / \"etl/steps/data/garden/explorers/2021/food_explorer.elements.std.csv\"\n",
    ")"
   ]
  },
  {
   "cell_type": "markdown",
   "id": "28b2966f-c5e6-4039-825b-824fb430724c",
   "metadata": {
    "tags": []
   },
   "source": [
    "## Load meadow dataset"
   ]
  },
  {
   "cell_type": "code",
   "execution_count": 5,
   "id": "a5769436-dfed-466b-9108-d534c59b7acd",
   "metadata": {},
   "outputs": [],
   "source": [
    "qcl_garden = catalog.Dataset(path_dataset_qcl)"
   ]
  },
  {
   "cell_type": "code",
   "execution_count": 6,
   "id": "2edc462f-3dec-46c7-8d99-e89242fc38e4",
   "metadata": {
    "tags": []
   },
   "outputs": [],
   "source": [
    "# Bulk data and items metadata\n",
    "qcl_bulk = qcl_garden[\"bulk\"]"
   ]
  },
  {
   "cell_type": "code",
   "execution_count": 7,
   "id": "e88461fe-c796-4cd2-8007-dadb141e01c6",
   "metadata": {},
   "outputs": [
    {
     "data": {
      "text/html": [
       "<div>\n",
       "<style scoped>\n",
       "    .dataframe tbody tr th:only-of-type {\n",
       "        vertical-align: middle;\n",
       "    }\n",
       "\n",
       "    .dataframe tbody tr th {\n",
       "        vertical-align: top;\n",
       "    }\n",
       "\n",
       "    .dataframe thead th {\n",
       "        text-align: right;\n",
       "    }\n",
       "</style>\n",
       "<table border=\"1\" class=\"dataframe\">\n",
       "  <thead>\n",
       "    <tr style=\"text-align: right;\">\n",
       "      <th></th>\n",
       "      <th></th>\n",
       "      <th></th>\n",
       "      <th></th>\n",
       "      <th></th>\n",
       "      <th></th>\n",
       "      <th>Value</th>\n",
       "    </tr>\n",
       "    <tr>\n",
       "      <th>Country</th>\n",
       "      <th>Item Code</th>\n",
       "      <th>Element Code</th>\n",
       "      <th>Variable Name</th>\n",
       "      <th>Year</th>\n",
       "      <th>Flag</th>\n",
       "      <th></th>\n",
       "    </tr>\n",
       "  </thead>\n",
       "  <tbody>\n",
       "    <tr>\n",
       "      <th rowspan=\"5\" valign=\"top\">Armenia</th>\n",
       "      <th rowspan=\"5\" valign=\"top\">221</th>\n",
       "      <th rowspan=\"5\" valign=\"top\">5312</th>\n",
       "      <th rowspan=\"5\" valign=\"top\">Almonds, with shell - Area harvested (ha)</th>\n",
       "      <th>1992</th>\n",
       "      <th>M</th>\n",
       "      <td>&lt;NA&gt;</td>\n",
       "    </tr>\n",
       "    <tr>\n",
       "      <th>1993</th>\n",
       "      <th>M</th>\n",
       "      <td>&lt;NA&gt;</td>\n",
       "    </tr>\n",
       "    <tr>\n",
       "      <th>1994</th>\n",
       "      <th>M</th>\n",
       "      <td>&lt;NA&gt;</td>\n",
       "    </tr>\n",
       "    <tr>\n",
       "      <th>1995</th>\n",
       "      <th>M</th>\n",
       "      <td>&lt;NA&gt;</td>\n",
       "    </tr>\n",
       "    <tr>\n",
       "      <th>1996</th>\n",
       "      <th>M</th>\n",
       "      <td>&lt;NA&gt;</td>\n",
       "    </tr>\n",
       "  </tbody>\n",
       "</table>\n",
       "</div>"
      ],
      "text/plain": [
       "                                                                                    Value\n",
       "Country Item Code Element Code Variable Name                             Year Flag       \n",
       "Armenia 221       5312         Almonds, with shell - Area harvested (ha) 1992 M      <NA>\n",
       "                                                                         1993 M      <NA>\n",
       "                                                                         1994 M      <NA>\n",
       "                                                                         1995 M      <NA>\n",
       "                                                                         1996 M      <NA>"
      ]
     },
     "execution_count": 7,
     "metadata": {},
     "output_type": "execute_result"
    }
   ],
   "source": [
    "qcl_bulk.head()"
   ]
  },
  {
   "cell_type": "markdown",
   "id": "917c3fc8-c58f-4c6b-8024-7ee6a1a22e18",
   "metadata": {},
   "source": [
    "## Select Flags"
   ]
  },
  {
   "cell_type": "code",
   "execution_count": 8,
   "id": "cde43839-5389-43bd-aa2e-1b6366c860f1",
   "metadata": {},
   "outputs": [],
   "source": [
    "qcl_bulk = qcl_bulk.reset_index()\n",
    "qcl_bulk = qcl_bulk.drop(columns=[\"Variable Name\"])"
   ]
  },
  {
   "cell_type": "code",
   "execution_count": 9,
   "id": "62537795-b1bd-4495-b221-3a20a3c575b8",
   "metadata": {},
   "outputs": [
    {
     "name": "stdout",
     "output_type": "stream",
     "text": [
      "og: 2796737, new: 2766049\n"
     ]
    }
   ],
   "source": [
    "i_og = qcl_bulk.index.tolist()\n",
    "i_ne = qcl_bulk.drop_duplicates(\n",
    "    subset=[\"Country\", \"Item Code\", \"Element Code\", \"Year\"]\n",
    ").index.tolist()\n",
    "print(f\"og: {len(i_og)}, new: {len(i_ne)}\")"
   ]
  },
  {
   "cell_type": "code",
   "execution_count": 10,
   "id": "11a56d62-5525-4916-bf8f-4083ef556cdb",
   "metadata": {},
   "outputs": [
    {
     "name": "stdout",
     "output_type": "stream",
     "text": [
      "30688, True\n"
     ]
    }
   ],
   "source": [
    "# Checks\n",
    "qcl_bulk = qcl_bulk.set_index([\"Country\", \"Item Code\", \"Element Code\", \"Year\"])\n",
    "dups = qcl_bulk.index.duplicated()\n",
    "print(f\"{dups.sum()}, {len(i_ne) == len(i_og)-dups.sum()}\")\n",
    "dups = qcl_bulk.index.duplicated(keep=False)\n",
    "qcl_bulk = qcl_bulk.reset_index()"
   ]
  },
  {
   "cell_type": "code",
   "execution_count": 11,
   "id": "f5da2eda-1fca-47d0-9bd3-7da00c99d562",
   "metadata": {},
   "outputs": [
    {
     "data": {
      "text/plain": [
       "(2766049, 5)"
      ]
     },
     "execution_count": 11,
     "metadata": {},
     "output_type": "execute_result"
    }
   ],
   "source": [
    "# Create flag priority (add to df)\n",
    "flag_priorities = {\n",
    "    \"R\": 0,\n",
    "    \"M\": 1,\n",
    "    \"*\": 2,\n",
    "    \"Fc\": 6,\n",
    "    \"A\": 7,\n",
    "    \"Im\": 8,\n",
    "    \"F\": 9,\n",
    "    np.nan: 10,\n",
    "}\n",
    "qcl_bulk.loc[:, \"Flag_priority\"] = qcl_bulk.Flag.replace(flag_priorities).tolist()\n",
    "qcl_bulk.loc[qcl_bulk.Value.isna(), \"Flag_priority\"] = -1\n",
    "# Remove duplicates based on Flag value\n",
    "qcl_bulk = qcl_bulk.sort_values(\"Flag_priority\")\n",
    "qcl_bulk = qcl_bulk.drop_duplicates(\n",
    "    subset=[\"Country\", \"Item Code\", \"Element Code\", \"Year\"], keep=\"last\"\n",
    ")\n",
    "qcl_bulk.drop(columns=[\"Flag_priority\", \"Flag\"], inplace=True)\n",
    "qcl_bulk.shape"
   ]
  },
  {
   "cell_type": "markdown",
   "id": "cba6f901-1b02-4faa-bb9a-a016b2d45b2c",
   "metadata": {},
   "source": [
    "## Element Overview"
   ]
  },
  {
   "cell_type": "code",
   "execution_count": 12,
   "id": "61681c4f-0585-48c6-85d1-1adf9586d3f7",
   "metadata": {},
   "outputs": [
    {
     "data": {
      "text/plain": [
       "Element Code\n",
       "Production -- tonnes -- 5510                          281\n",
       "Area harvested -- ha -- 5312                          172\n",
       "Yield -- hg/ha -- 5419                                171\n",
       "Producing Animals/Slaughtered -- Head -- 5320          31\n",
       "Yield/Carcass Weight -- hg/An -- 5417                  14\n",
       "Stocks -- Head -- 5111                                 12\n",
       "Yield -- hg/An -- 5420                                 10\n",
       "Producing Animals/Slaughtered -- 1000 Head -- 5321      8\n",
       "Yield/Carcass Weight -- 0.1g/An -- 5424                 8\n",
       "Stocks -- 1000 Head -- 5112                             7\n",
       "Laying -- 1000 Head -- 5313                             3\n",
       "Yield -- 100mg/An -- 5410                               3\n",
       "Yield -- hg -- 5422                                     2\n",
       "Production -- 1000 No -- 5513                           2\n",
       "Stocks -- No -- 5114                                    1\n",
       "dtype: int64"
      ]
     },
     "execution_count": 12,
     "metadata": {},
     "output_type": "execute_result"
    }
   ],
   "source": [
    "# Where do each element appear?\n",
    "res = qcl_bulk.reset_index().groupby(\"Element Code\")[\"Item Code\"].nunique()\n",
    "df = pd.read_csv(path_map_elem, index_col=\"code\")\n",
    "elem_map = df[\"name\"] + \" -- \" + df[\"unit\"] + \" -- \" + df.index.astype(str)\n",
    "res.rename(index=elem_map.to_dict()).sort_values(ascending=False)"
   ]
  },
  {
   "cell_type": "markdown",
   "id": "984267f3-77e3-4076-8079-b8c459bcde3e",
   "metadata": {
    "tags": []
   },
   "source": [
    "## Reshape dataset"
   ]
  },
  {
   "cell_type": "code",
   "execution_count": 13,
   "id": "2d78ddb6-1100-4658-8043-44964e869a9b",
   "metadata": {},
   "outputs": [],
   "source": [
    "qcl_bulk = qcl_bulk.reset_index()\n",
    "qcl_bulk = qcl_bulk.pivot(\n",
    "    index=[\"Country\", \"Item Code\", \"Year\"], columns=\"Element Code\", values=\"Value\"\n",
    ")"
   ]
  },
  {
   "cell_type": "markdown",
   "id": "b55bc8f2-b589-439d-afe4-214fbd3bffd9",
   "metadata": {},
   "source": [
    "---"
   ]
  },
  {
   "cell_type": "markdown",
   "id": "35948880-80b8-4352-8a49-2d183d58046d",
   "metadata": {},
   "source": [
    "## Rename Elements & Items"
   ]
  },
  {
   "cell_type": "markdown",
   "id": "258a18b7-845d-463c-a361-b147e4e4748a",
   "metadata": {},
   "source": [
    "### Input from Hannah (OPTIONAL)\n",
    "This step here is to:\n",
    "- Generate table with item and element codes\n",
    "- Share with Hannah\n",
    "- Get standardisations for elements and items "
   ]
  },
  {
   "cell_type": "markdown",
   "id": "240ccc40-ea1e-44b5-ae3f-f81aba420cbd",
   "metadata": {},
   "source": [
    "#### Elements"
   ]
  },
  {
   "cell_type": "code",
   "execution_count": 14,
   "id": "4c2dcf6d-453b-4d3c-a5e4-87e3620c5908",
   "metadata": {},
   "outputs": [],
   "source": [
    "qcl_elem = qcl_garden[\"meta_element\"]"
   ]
  },
  {
   "cell_type": "code",
   "execution_count": 15,
   "id": "20f69abc-a5ea-4ac4-a175-7dbdc4543f54",
   "metadata": {},
   "outputs": [],
   "source": [
    "elements = pd.DataFrame(qcl_bulk.notna().sum()).reset_index()\n",
    "elements = elements.sort_values(0, ascending=False)\n",
    "# Add names + unit info\n",
    "elements = elements.merge(\n",
    "    qcl_elem[[\"Element\", \"Unit\", \"Unit Description\"]],\n",
    "    left_on=\"Element Code\",\n",
    "    right_index=True,\n",
    ")\n",
    "# Rename\n",
    "elements = elements.rename(\n",
    "    columns={\n",
    "        \"Element Code\": \"code\",\n",
    "        0: \"number_occurrences\",\n",
    "        \"Element\": \"name\",\n",
    "        \"Unit\": \"unit\",\n",
    "        \"Unit Description\": \"unit_description\",\n",
    "    }\n",
    ")[[\"code\", \"name\", \"unit\", \"unit_description\", \"number_occurrences\"]]"
   ]
  },
  {
   "cell_type": "code",
   "execution_count": 16,
   "id": "12f41a77-951c-4d9e-8960-ad4aaeacb13a",
   "metadata": {},
   "outputs": [],
   "source": [
    "elements.to_csv(\"ign.food.elements.csv\", index=False)"
   ]
  },
  {
   "cell_type": "markdown",
   "id": "001cfba2-9b59-400c-b2fe-5c694f5a1ff3",
   "metadata": {},
   "source": [
    "#### Items"
   ]
  },
  {
   "cell_type": "code",
   "execution_count": 17,
   "id": "13063f01-bb80-4579-9780-b2051da0b485",
   "metadata": {},
   "outputs": [],
   "source": [
    "qcl_item = qcl_garden[\"meta_item\"]"
   ]
  },
  {
   "cell_type": "code",
   "execution_count": 18,
   "id": "daace449-144b-44fb-9d05-66727b998dfe",
   "metadata": {},
   "outputs": [],
   "source": [
    "x = qcl_item.reset_index().astype(str)\n",
    "# Group\n",
    "cols = [\"Item Group Code\", \"Item Group\"]\n",
    "y = x.drop_duplicates(subset=cols)[cols]\n",
    "map_item_g = dict(zip(y[cols[0]], y[cols[1]]))\n",
    "# Item\n",
    "cols = [\"Item Code\", \"Item\"]\n",
    "y = x.drop_duplicates(subset=cols)[cols]\n",
    "map_item = dict(zip(y[cols[0]], y[cols[1]]))\n",
    "\n",
    "# Correct\n",
    "a = set(map_item_g.keys()).intersection(set(map_item.keys()))\n",
    "b = set(map_item.keys()).intersection(set(map_item_g.keys()))\n",
    "assert a == b\n",
    "map_item = {k: v for k, v in map_item.items() if k not in map_item_g}"
   ]
  },
  {
   "cell_type": "code",
   "execution_count": 19,
   "id": "ce0adf49-e7d2-433f-9dde-8ded13a71aba",
   "metadata": {},
   "outputs": [],
   "source": [
    "# Load item occurences\n",
    "items = (\n",
    "    pd.DataFrame(qcl_bulk.reset_index()[\"Item Code\"].value_counts())\n",
    "    .reset_index()\n",
    "    .astype(str)\n",
    "    .rename(\n",
    "        columns={\n",
    "            \"index\": \"code\",\n",
    "            \"Item Code\": \"number_occurences\",\n",
    "        }\n",
    "    )\n",
    ")\n",
    "# Add flag for groups\n",
    "items[\"type\"] = items[\"code\"].isin(map_item_g).apply(lambda x: \"Group\" if x else None)\n",
    "# Add name\n",
    "map_item_all = {**map_item, **map_item_g}\n",
    "items[\"name\"] = items.code.replace(map_item_all)\n",
    "# Order columns\n",
    "items = items[[\"code\", \"name\", \"type\", \"number_occurences\"]]"
   ]
  },
  {
   "cell_type": "code",
   "execution_count": 20,
   "id": "e64ca032-bc4c-4170-87df-83c0a1563e5a",
   "metadata": {},
   "outputs": [],
   "source": [
    "items.to_csv(\"ign.food.items.csv\", index=False)"
   ]
  },
  {
   "cell_type": "markdown",
   "id": "8411b093-9cd8-47a2-b31e-7fcd62f91dcf",
   "metadata": {},
   "source": [
    "### Renaming\n",
    "#### Element"
   ]
  },
  {
   "cell_type": "code",
   "execution_count": 21,
   "id": "f9fd878f-47ca-4569-8bb4-f764f1244d4e",
   "metadata": {},
   "outputs": [],
   "source": [
    "# Get standardised values\n",
    "df = pd.read_csv(path_map_elem, index_col=\"code\")\n",
    "df = df.dropna(subset=[\"name_standardised\"])"
   ]
  },
  {
   "cell_type": "code",
   "execution_count": 22,
   "id": "8a980add-06d6-4b8d-96b0-be53678bd3f0",
   "metadata": {
    "tags": []
   },
   "outputs": [],
   "source": [
    "# Filter elements of interest\n",
    "qcl_bulk = qcl_bulk[df.index]\n",
    "# Factor\n",
    "qcl_bulk = qcl_bulk.multiply(df.loc[qcl_bulk.columns, \"unit_factor\"])"
   ]
  },
  {
   "cell_type": "code",
   "execution_count": 23,
   "id": "180ca094-27f3-4b26-828b-8f8e8a11feaf",
   "metadata": {
    "tags": []
   },
   "outputs": [],
   "source": [
    "# Merge 5417,5420,5424,5410 --> 5417\n",
    "qcl_bulk[5417] = qcl_bulk[5417].fillna(\n",
    "    qcl_bulk[5420].fillna(qcl_bulk[5424].fillna(qcl_bulk[5410]))\n",
    ")\n",
    "qcl_bulk = qcl_bulk.drop(columns=[5420, 5424, 5410])"
   ]
  },
  {
   "cell_type": "code",
   "execution_count": 24,
   "id": "06553ff8-56e3-4c03-8e01-ec36c172c637",
   "metadata": {},
   "outputs": [],
   "source": [
    "# Build element name\n",
    "a = df[\"name_standardised\"].apply(lambda x: x.lower().replace(\" \", \"_\")).astype(str)\n",
    "b = (\n",
    "    df[\"unit_name_standardised_with_conversion\"]\n",
    "    .apply(lambda x: x.lower().replace(\" \", \"_\"))\n",
    "    .astype(str)\n",
    ")\n",
    "df[\"element_name\"] = (a + \"__\" + b).tolist()\n",
    "# Obtain dict Element Code -> element name\n",
    "map_elem = df[\"element_name\"].to_dict()\n",
    "# Change columns names\n",
    "qcl_bulk = qcl_bulk.rename(columns=map_elem)"
   ]
  },
  {
   "cell_type": "markdown",
   "id": "1bbb1b3e-15ad-4638-b47e-552072672bbb",
   "metadata": {},
   "source": [
    "#### Item"
   ]
  },
  {
   "cell_type": "code",
   "execution_count": 25,
   "id": "1b564750-ee04-48d2-85c3-7c0c00c351b3",
   "metadata": {},
   "outputs": [],
   "source": [
    "# Get standardised values\n",
    "df = pd.read_csv(path_map_item, index_col=\"code\")\n",
    "map_item_std = df.dropna(subset=[\"name_standardised\"])[\"name_standardised\"].to_dict()"
   ]
  },
  {
   "cell_type": "code",
   "execution_count": 26,
   "id": "2c68a20f-e46f-4aa8-8ba9-4ec010839468",
   "metadata": {},
   "outputs": [],
   "source": [
    "qcl_bulk = qcl_bulk.reset_index()\n",
    "qcl_bulk = qcl_bulk[qcl_bulk[\"Item Code\"].isin(map_item_std)]\n",
    "qcl_bulk.loc[:, \"Product\"] = qcl_bulk[\"Item Code\"].replace(map_item_std).tolist()\n",
    "qcl_bulk = qcl_bulk.drop(columns=[\"Item Code\"])"
   ]
  },
  {
   "cell_type": "markdown",
   "id": "0ade0d82-150b-468b-960a-2aa3e4fedb7e",
   "metadata": {},
   "source": [
    "## Final processing"
   ]
  },
  {
   "cell_type": "code",
   "execution_count": 27,
   "id": "935b4e84-fac9-4a38-889a-ad246b7a1fd1",
   "metadata": {},
   "outputs": [],
   "source": [
    "# Set index\n",
    "qcl_bulk = qcl_bulk.set_index([\"Product\", \"Country\", \"Year\"])"
   ]
  },
  {
   "cell_type": "code",
   "execution_count": 28,
   "id": "2adc3d98-4d00-45f3-97a1-c261bbf554b1",
   "metadata": {},
   "outputs": [],
   "source": [
    "# Drop nulls (some products dont have any value for the elements of interest)\n",
    "qcl_bulk = qcl_bulk.dropna(how=\"all\")"
   ]
  },
  {
   "cell_type": "code",
   "execution_count": 29,
   "id": "6c493723-1488-4644-94b7-ceb875233fd5",
   "metadata": {},
   "outputs": [
    {
     "name": "stdout",
     "output_type": "stream",
     "text": [
      "(829841, 4)\n"
     ]
    },
    {
     "data": {
      "text/html": [
       "<div>\n",
       "<style scoped>\n",
       "    .dataframe tbody tr th:only-of-type {\n",
       "        vertical-align: middle;\n",
       "    }\n",
       "\n",
       "    .dataframe tbody tr th {\n",
       "        vertical-align: top;\n",
       "    }\n",
       "\n",
       "    .dataframe thead th {\n",
       "        text-align: right;\n",
       "    }\n",
       "</style>\n",
       "<table border=\"1\" class=\"dataframe\">\n",
       "  <thead>\n",
       "    <tr style=\"text-align: right;\">\n",
       "      <th></th>\n",
       "      <th></th>\n",
       "      <th>Element Code</th>\n",
       "      <th>yield__kg/animal</th>\n",
       "      <th>yield__tonnes/ha</th>\n",
       "      <th>area_harvested__ha</th>\n",
       "      <th>production__tonnes</th>\n",
       "    </tr>\n",
       "    <tr>\n",
       "      <th>Product</th>\n",
       "      <th>Country</th>\n",
       "      <th>Year</th>\n",
       "      <th></th>\n",
       "      <th></th>\n",
       "      <th></th>\n",
       "      <th></th>\n",
       "    </tr>\n",
       "  </thead>\n",
       "  <tbody>\n",
       "    <tr>\n",
       "      <th rowspan=\"5\" valign=\"top\">Wheat</th>\n",
       "      <th rowspan=\"5\" valign=\"top\">Afghanistan</th>\n",
       "      <th>1961</th>\n",
       "      <td>&lt;NA&gt;</td>\n",
       "      <td>1.022</td>\n",
       "      <td>2230000.0</td>\n",
       "      <td>2279000.0</td>\n",
       "    </tr>\n",
       "    <tr>\n",
       "      <th>1962</th>\n",
       "      <td>&lt;NA&gt;</td>\n",
       "      <td>0.9735</td>\n",
       "      <td>2341000.0</td>\n",
       "      <td>2279000.0</td>\n",
       "    </tr>\n",
       "    <tr>\n",
       "      <th>1963</th>\n",
       "      <td>&lt;NA&gt;</td>\n",
       "      <td>0.8317</td>\n",
       "      <td>2341000.0</td>\n",
       "      <td>1947000.0</td>\n",
       "    </tr>\n",
       "    <tr>\n",
       "      <th>1964</th>\n",
       "      <td>&lt;NA&gt;</td>\n",
       "      <td>0.951</td>\n",
       "      <td>2345000.0</td>\n",
       "      <td>2230000.0</td>\n",
       "    </tr>\n",
       "    <tr>\n",
       "      <th>1965</th>\n",
       "      <td>&lt;NA&gt;</td>\n",
       "      <td>0.9723</td>\n",
       "      <td>2347000.0</td>\n",
       "      <td>2282000.0</td>\n",
       "    </tr>\n",
       "  </tbody>\n",
       "</table>\n",
       "</div>"
      ],
      "text/plain": [
       "Element Code              yield__kg/animal  yield__tonnes/ha  \\\n",
       "Product Country     Year                                       \n",
       "Wheat   Afghanistan 1961              <NA>             1.022   \n",
       "                    1962              <NA>            0.9735   \n",
       "                    1963              <NA>            0.8317   \n",
       "                    1964              <NA>             0.951   \n",
       "                    1965              <NA>            0.9723   \n",
       "\n",
       "Element Code              area_harvested__ha  production__tonnes  \n",
       "Product Country     Year                                          \n",
       "Wheat   Afghanistan 1961           2230000.0           2279000.0  \n",
       "                    1962           2341000.0           2279000.0  \n",
       "                    1963           2341000.0           1947000.0  \n",
       "                    1964           2345000.0           2230000.0  \n",
       "                    1965           2347000.0           2282000.0  "
      ]
     },
     "execution_count": 29,
     "metadata": {},
     "output_type": "execute_result"
    }
   ],
   "source": [
    "print(qcl_bulk.shape)\n",
    "qcl_bulk.head()"
   ]
  },
  {
   "cell_type": "markdown",
   "id": "21b30b62-ddb4-4ed5-bc00-5ba6b71f6ba4",
   "metadata": {
    "tags": []
   },
   "source": [
    "## Export"
   ]
  },
  {
   "cell_type": "code",
   "execution_count": 30,
   "id": "5e11a2df-9018-4db6-a741-c8e23f7fcc74",
   "metadata": {},
   "outputs": [],
   "source": [
    "from owid.catalog.meta import DatasetMeta"
   ]
  },
  {
   "cell_type": "code",
   "execution_count": 31,
   "id": "063d7187-b99d-4c17-a726-d9e44a59806b",
   "metadata": {},
   "outputs": [],
   "source": [
    "# Initialize dataset\n",
    "fe_garden = catalog.Dataset.create_empty(dest_dir)\n",
    "fe_garden.metadata = DatasetMeta(\n",
    "    namespace=\"explorers\",\n",
    "    short_name=\"food_explorer\",\n",
    "    sources=qcl_garden.metadata.sources,\n",
    "    licenses=qcl_garden.metadata.licenses,\n",
    ")\n",
    "fe_garden.save()"
   ]
  },
  {
   "cell_type": "code",
   "execution_count": 32,
   "id": "66138fdf-ace4-4388-a875-a998ad70aa57",
   "metadata": {},
   "outputs": [],
   "source": [
    "# Add table to dataset\n",
    "qcl_bulk.metadata.short_name = \"bulk\"\n",
    "fe_garden.add(qcl_bulk)"
   ]
  },
  {
   "cell_type": "code",
   "execution_count": 33,
   "id": "537bf9d4-1945-4d56-9d71-730cdddb44e3",
   "metadata": {},
   "outputs": [],
   "source": [
    "fe_garden.save()"
   ]
  },
  {
   "cell_type": "code",
   "execution_count": 209,
   "id": "f2711acb-c700-4ce9-89f5-6fbbf7c9a4f6",
   "metadata": {
    "collapsed": true,
    "jupyter": {
     "outputs_hidden": true
    },
    "tags": []
   },
   "outputs": [
    {
     "name": "stdout",
     "output_type": "stream",
     "text": [
      "skins_sheep\n",
      "linseed_oil\n",
      "sweet_potatoes\n",
      "oats\n",
      "poppy_seeds\n",
      "number_of_eggs_from_other_birds\n",
      "meat_poultry\n",
      "cassava\n",
      "grounut_oil\n",
      "cheese\n"
     ]
    }
   ],
   "source": [
    "# ## For devs (file-per-product)\n",
    "# import random\n",
    "# def std_name(raw):\n",
    "#     return raw.lower().replace(\" \", \"_\").replace(\",\", \"\")\n",
    "\n",
    "\n",
    "# df = qcl_bulk.reset_index()\n",
    "# dfg = [x for x in df.groupby(\"Product\")]\n",
    "# random.shuffle(dfg)\n",
    "# for x in dfg[:10]:\n",
    "#     name = std_name(x[0])\n",
    "#     x = pd.DataFrame(x[1]).drop(columns=[\"Product\"])\n",
    "#     x.to_csv(f\"FE-exp-dataout-v202111121646/{name}.csv\", index=False)\n",
    "#     print(name)"
   ]
  }
 ],
 "metadata": {
  "kernelspec": {
   "display_name": "Python 3 (ipykernel)",
   "language": "python",
   "name": "python3"
  },
  "language_info": {
   "codemirror_mode": {
    "name": "ipython",
    "version": 3
   },
   "file_extension": ".py",
   "mimetype": "text/x-python",
   "name": "python",
   "nbconvert_exporter": "python",
   "pygments_lexer": "ipython3",
   "version": "3.9.5"
  }
 },
 "nbformat": 4,
 "nbformat_minor": 5
}
