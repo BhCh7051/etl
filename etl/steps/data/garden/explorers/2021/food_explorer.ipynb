{
 "cells": [
  {
   "cell_type": "markdown",
   "id": "12fe55dd-d6a8-4b04-b4de-40a93d325bfd",
   "metadata": {},
   "source": [
    "# Food Explorer\n",
    "Produced using garden-level FAOstat datasets. \n",
    "\n",
    "So far the following datasets have been processed:\n",
    "\n",
    "- [x] QCL\n",
    "- [x] FBSC (FBS, FBSH)\n",
    "\n",
    "\n",
    "We process both datasets in parallel, until the _Final Processing_ section, where we actually merge the datasets."
   ]
  },
  {
   "cell_type": "markdown",
   "id": "181739bb-0909-465a-afdd-0efc47e2d09a",
   "metadata": {},
   "source": [
    "## 0. Parameters"
   ]
  },
  {
   "cell_type": "code",
   "execution_count": 1,
   "id": "6f35e10c-ecda-4c86-8783-56992f6f855e",
   "metadata": {
    "tags": [
     "parameters"
    ]
   },
   "outputs": [],
   "source": [
    "dest_dir = \"/tmp/food_explorer\""
   ]
  },
  {
   "cell_type": "markdown",
   "id": "7a35dbb4-850f-491d-b071-7eab7fe64253",
   "metadata": {},
   "source": [
    "## 1. Imports & paths\n",
    "Import the required libraries and define paths to load files (including data files and standardisation mappings for item and element names)."
   ]
  },
  {
   "cell_type": "code",
   "execution_count": 2,
   "id": "785a7abe-6dd5-48c7-bde2-99cda0e821e0",
   "metadata": {},
   "outputs": [],
   "source": [
    "import json\n",
    "from pathlib import Path\n",
    "\n",
    "import pandas as pd\n",
    "import numpy as np\n",
    "\n",
    "from owid import catalog\n",
    "from etl.paths import BASE_DIR, DATA_DIR"
   ]
  },
  {
   "cell_type": "code",
   "execution_count": 3,
   "id": "f97e2966-1ad0-4a6d-9673-c4ef8c94b16d",
   "metadata": {},
   "outputs": [],
   "source": [
    "HERE = BASE_DIR / \"etl/steps/data/garden/explorers/2021\""
   ]
  },
  {
   "cell_type": "code",
   "execution_count": 4,
   "id": "b51901d1-fe72-4cc0-aef2-ea339140214e",
   "metadata": {},
   "outputs": [],
   "source": [
    "PATH_DATASET_QCL = DATA_DIR / \"garden/faostat/2021-03-18/faostat_qcl\"\n",
    "PATH_DATASET_FBSC = DATA_DIR / \"garden/faostat/2021-04-09/faostat_fbsc\"\n",
    "PATH_DATASET_POPULATION = DATA_DIR / \"garden/owid/latest/key_indicators\"\n",
    "PATH_DATASET_POPULATION_GAPMINDER = (\n",
    "    DATA_DIR / \"meadow/open_numbers/latest/gapminder__systema_globalis\"\n",
    ")  # add\n",
    "\n",
    "PATH_MAP_ITEM = HERE / \"food_explorer.items.std.csv\"\n",
    "PATH_MAP_ELEM = HERE / \"food_explorer.elements.std.csv\"\n",
    "PATH_REGIONS = HERE / \"food_explorer.regions.json\"\n",
    "PATH_OUTLIERS = HERE / \"food_explorer.outliers.json\""
   ]
  },
  {
   "cell_type": "markdown",
   "id": "28b2966f-c5e6-4039-825b-824fb430724c",
   "metadata": {},
   "source": [
    "## 2. Load garden dataset\n",
    "In this step we load the required datasets from Garden: QCL and FBSC."
   ]
  },
  {
   "cell_type": "code",
   "execution_count": 5,
   "id": "a5769436-dfed-466b-9108-d534c59b7acd",
   "metadata": {},
   "outputs": [],
   "source": [
    "qcl_garden = catalog.Dataset(PATH_DATASET_QCL)\n",
    "fbsc_garden = catalog.Dataset(PATH_DATASET_FBSC)"
   ]
  },
  {
   "cell_type": "markdown",
   "id": "444ca7ec-05f0-42b3-ab4b-2bced4c5b344",
   "metadata": {},
   "source": [
    "We obtain table `bulk` from the dataset, which contains the data itself."
   ]
  },
  {
   "cell_type": "code",
   "execution_count": 6,
   "id": "2edc462f-3dec-46c7-8d99-e89242fc38e4",
   "metadata": {},
   "outputs": [],
   "source": [
    "# Bulk data and items metadata\n",
    "qcl_bulk = qcl_garden[\"bulk\"]\n",
    "fbsc_bulk = fbsc_garden[\"bulk\"]"
   ]
  },
  {
   "cell_type": "markdown",
   "id": "bd0a9471-8b2b-46c8-8152-18e0c035446b",
   "metadata": {},
   "source": [
    "In the following step we discard column `Variable name`, which although useful for its clarity we don't actually need it in this process. Also, we reset the index as this will be needed in following operations. "
   ]
  },
  {
   "cell_type": "code",
   "execution_count": 7,
   "id": "944a7d5d-48ec-4700-8795-e360245252c8",
   "metadata": {},
   "outputs": [],
   "source": [
    "# QCL\n",
    "qcl_bulk = qcl_bulk.reset_index()\n",
    "qcl_bulk = qcl_bulk.drop(columns=[\"Variable Name\"])\n",
    "# FBSC\n",
    "fbsc_bulk = fbsc_bulk.reset_index()\n",
    "fbsc_bulk = fbsc_bulk.drop(columns=[\"Variable Name\"])"
   ]
  },
  {
   "cell_type": "markdown",
   "id": "24c96121-c608-4ac0-9b55-ad47c1f2eb3a",
   "metadata": {},
   "source": [
    "Brief overview of the data."
   ]
  },
  {
   "cell_type": "code",
   "execution_count": 8,
   "id": "e88461fe-c796-4cd2-8007-dadb141e01c6",
   "metadata": {},
   "outputs": [
    {
     "name": "stdout",
     "output_type": "stream",
     "text": [
      "(3009764, 6)\n"
     ]
    },
    {
     "data": {
      "text/html": [
       "<div>\n",
       "<style scoped>\n",
       "    .dataframe tbody tr th:only-of-type {\n",
       "        vertical-align: middle;\n",
       "    }\n",
       "\n",
       "    .dataframe tbody tr th {\n",
       "        vertical-align: top;\n",
       "    }\n",
       "\n",
       "    .dataframe thead th {\n",
       "        text-align: right;\n",
       "    }\n",
       "</style>\n",
       "<table border=\"1\" class=\"dataframe\">\n",
       "  <thead>\n",
       "    <tr style=\"text-align: right;\">\n",
       "      <th></th>\n",
       "      <th>Country</th>\n",
       "      <th>Item Code</th>\n",
       "      <th>Element Code</th>\n",
       "      <th>Year</th>\n",
       "      <th>Flag</th>\n",
       "      <th>Value</th>\n",
       "    </tr>\n",
       "  </thead>\n",
       "  <tbody>\n",
       "    <tr>\n",
       "      <th>0</th>\n",
       "      <td>Armenia</td>\n",
       "      <td>221</td>\n",
       "      <td>5312</td>\n",
       "      <td>1992</td>\n",
       "      <td>M</td>\n",
       "      <td>&lt;NA&gt;</td>\n",
       "    </tr>\n",
       "    <tr>\n",
       "      <th>1</th>\n",
       "      <td>Armenia</td>\n",
       "      <td>221</td>\n",
       "      <td>5312</td>\n",
       "      <td>1993</td>\n",
       "      <td>M</td>\n",
       "      <td>&lt;NA&gt;</td>\n",
       "    </tr>\n",
       "    <tr>\n",
       "      <th>2</th>\n",
       "      <td>Armenia</td>\n",
       "      <td>221</td>\n",
       "      <td>5312</td>\n",
       "      <td>1994</td>\n",
       "      <td>M</td>\n",
       "      <td>&lt;NA&gt;</td>\n",
       "    </tr>\n",
       "    <tr>\n",
       "      <th>3</th>\n",
       "      <td>Armenia</td>\n",
       "      <td>221</td>\n",
       "      <td>5312</td>\n",
       "      <td>1995</td>\n",
       "      <td>M</td>\n",
       "      <td>&lt;NA&gt;</td>\n",
       "    </tr>\n",
       "    <tr>\n",
       "      <th>4</th>\n",
       "      <td>Armenia</td>\n",
       "      <td>221</td>\n",
       "      <td>5312</td>\n",
       "      <td>1996</td>\n",
       "      <td>M</td>\n",
       "      <td>&lt;NA&gt;</td>\n",
       "    </tr>\n",
       "  </tbody>\n",
       "</table>\n",
       "</div>"
      ],
      "text/plain": [
       "   Country  Item Code  Element Code  Year Flag  Value\n",
       "0  Armenia        221          5312  1992    M   <NA>\n",
       "1  Armenia        221          5312  1993    M   <NA>\n",
       "2  Armenia        221          5312  1994    M   <NA>\n",
       "3  Armenia        221          5312  1995    M   <NA>\n",
       "4  Armenia        221          5312  1996    M   <NA>"
      ]
     },
     "execution_count": 8,
     "metadata": {},
     "output_type": "execute_result"
    }
   ],
   "source": [
    "# QCL\n",
    "print(qcl_bulk.shape)\n",
    "qcl_bulk.head()"
   ]
  },
  {
   "cell_type": "code",
   "execution_count": 9,
   "id": "2a7f2ffb-ea32-4628-b070-affa5ea29a72",
   "metadata": {},
   "outputs": [
    {
     "name": "stdout",
     "output_type": "stream",
     "text": [
      "(10373475, 6)\n"
     ]
    },
    {
     "data": {
      "text/html": [
       "<div>\n",
       "<style scoped>\n",
       "    .dataframe tbody tr th:only-of-type {\n",
       "        vertical-align: middle;\n",
       "    }\n",
       "\n",
       "    .dataframe tbody tr th {\n",
       "        vertical-align: top;\n",
       "    }\n",
       "\n",
       "    .dataframe thead th {\n",
       "        text-align: right;\n",
       "    }\n",
       "</style>\n",
       "<table border=\"1\" class=\"dataframe\">\n",
       "  <thead>\n",
       "    <tr style=\"text-align: right;\">\n",
       "      <th></th>\n",
       "      <th>Country</th>\n",
       "      <th>Item Code</th>\n",
       "      <th>Element Code</th>\n",
       "      <th>Year</th>\n",
       "      <th>Flag</th>\n",
       "      <th>Value</th>\n",
       "    </tr>\n",
       "  </thead>\n",
       "  <tbody>\n",
       "    <tr>\n",
       "      <th>0</th>\n",
       "      <td>Armenia</td>\n",
       "      <td>2901</td>\n",
       "      <td>664</td>\n",
       "      <td>2014</td>\n",
       "      <td>Fc</td>\n",
       "      <td>3069.0</td>\n",
       "    </tr>\n",
       "    <tr>\n",
       "      <th>1</th>\n",
       "      <td>Armenia</td>\n",
       "      <td>2901</td>\n",
       "      <td>664</td>\n",
       "      <td>2015</td>\n",
       "      <td>Fc</td>\n",
       "      <td>3090.0</td>\n",
       "    </tr>\n",
       "    <tr>\n",
       "      <th>2</th>\n",
       "      <td>Armenia</td>\n",
       "      <td>2901</td>\n",
       "      <td>664</td>\n",
       "      <td>2016</td>\n",
       "      <td>Fc</td>\n",
       "      <td>3051.0</td>\n",
       "    </tr>\n",
       "    <tr>\n",
       "      <th>3</th>\n",
       "      <td>Armenia</td>\n",
       "      <td>2901</td>\n",
       "      <td>664</td>\n",
       "      <td>2017</td>\n",
       "      <td>Fc</td>\n",
       "      <td>3072.0</td>\n",
       "    </tr>\n",
       "    <tr>\n",
       "      <th>4</th>\n",
       "      <td>Armenia</td>\n",
       "      <td>2901</td>\n",
       "      <td>664</td>\n",
       "      <td>2018</td>\n",
       "      <td>Fc</td>\n",
       "      <td>2997.0</td>\n",
       "    </tr>\n",
       "  </tbody>\n",
       "</table>\n",
       "</div>"
      ],
      "text/plain": [
       "   Country  Item Code  Element Code  Year Flag   Value\n",
       "0  Armenia       2901           664  2014   Fc  3069.0\n",
       "1  Armenia       2901           664  2015   Fc  3090.0\n",
       "2  Armenia       2901           664  2016   Fc  3051.0\n",
       "3  Armenia       2901           664  2017   Fc  3072.0\n",
       "4  Armenia       2901           664  2018   Fc  2997.0"
      ]
     },
     "execution_count": 9,
     "metadata": {},
     "output_type": "execute_result"
    }
   ],
   "source": [
    "# FBSC\n",
    "print(fbsc_bulk.shape)\n",
    "fbsc_bulk.head()"
   ]
  },
  {
   "cell_type": "markdown",
   "id": "88a09781-9b1f-40c6-b869-566a16185e7c",
   "metadata": {},
   "source": [
    "### Group some items\n",
    "We know from Garden process to generate the FBSC dataset, that there are some items that \"changed\" its ID from one dataset to another:\n",
    "\n",
    "- `2556 Groundnuts (Shelled Eq)` --> `2552 Groundnuts`\n",
    "- `2805 Rice (Milled Equivalent)` --> `2807 Rice and products`"
   ]
  },
  {
   "cell_type": "code",
   "execution_count": 10,
   "id": "8ec594e6-8bce-462a-bc6b-f0f619cc5478",
   "metadata": {},
   "outputs": [],
   "source": [
    "def group_item_codes(df, ids_old, ids_new, assign_to_old=False):\n",
    "    # Check\n",
    "    msk = df[\"Item Code\"].isin(ids_old + ids_new)\n",
    "    x = df[msk].groupby(\"Item Code\").agg({\"Year\": [\"min\", \"max\"]})\n",
    "    for id_old, id_new in zip(ids_old, ids_new):\n",
    "        assert x.loc[id_new, (\"Year\", \"min\")] > x.loc[id_old, (\"Year\", \"max\")]\n",
    "    # Replace\n",
    "    if isinstance(assign_to_old, list):\n",
    "        id_map = dict(\n",
    "            (n, o) if f else (o, n) for o, n, f in zip(ids_old, ids_new, assign_to_old)\n",
    "        )\n",
    "    elif assign_to_old:\n",
    "        id_map = dict(zip(ids_new, ids_old))\n",
    "    else:\n",
    "        id_map = dict(zip(ids_old, ids_new))\n",
    "    print(id_map)\n",
    "    df[\"Item Code\"] = df[\"Item Code\"].replace(id_map).astype(int)\n",
    "    return df"
   ]
  },
  {
   "cell_type": "code",
   "execution_count": 11,
   "id": "f467850f-4088-4d09-a467-a9860ddb81fa",
   "metadata": {},
   "outputs": [
    {
     "name": "stdout",
     "output_type": "stream",
     "text": [
      "{2552: 2556, 2807: 2805}\n"
     ]
    }
   ],
   "source": [
    "fbsc_bulk = group_item_codes(\n",
    "    fbsc_bulk, ids_old=[2556, 2805], ids_new=[2552, 2807], assign_to_old=[True, True]\n",
    ")"
   ]
  },
  {
   "cell_type": "markdown",
   "id": "917c3fc8-c58f-4c6b-8024-7ee6a1a22e18",
   "metadata": {},
   "source": [
    "## 3. Select Flags\n",
    "There are cases where we have more than just one entry for a `Country`, `Item Code`, `Element Code` and `Year`. This is due to the fact that there are multiple ways of reporting the data. All these different methodologies are identified by the field `Flag`, which tells us how a data point was obtained (see table below). This is given by FAOstat.\n",
    "\n",
    "|Flag   |Description                                                                        |\n",
    "|-------|-----------------------------------------------------------------------------------|\n",
    "|`*`      |       Unofficial figure                                                           |\n",
    "|`NaN`    | Official data                                                                     |\n",
    "|`A`      |       Aggregate; may include official; semi-official; estimated or calculated data|\n",
    "|`F`      |       FAO estimate                                                                |\n",
    "|`Fc`     |      Calculated data                                                              |\n",
    "|`Im`     |      FAO data based on imputation methodology                                     |\n",
    "|`M`      |       Data not available                                                          |\n",
    "|`S`      |       Standardised                                                                |\n",
    "|`SD`     |       Statistical Discrepancy                                                     |\n",
    "|`R`      |       Estimated data using trading partners database                              |\n",
    "\n",
    "\n",
    "The following cell examines how many datapoints would be removed if we did _flag-prioritisation_. As per the output, we see that we would eliminate 30,688 rows (~1% of the data)."
   ]
  },
  {
   "cell_type": "code",
   "execution_count": 12,
   "id": "62537795-b1bd-4495-b221-3a20a3c575b8",
   "metadata": {},
   "outputs": [
    {
     "name": "stdout",
     "output_type": "stream",
     "text": [
      "Number of datapoints: 3009764\n",
      "Number of datapoints (after dropping duplicates): 2979076\n",
      "Total datapoints removed: 30688\n",
      "30688, True\n",
      "\n",
      "Number of datapoints: 10373475\n",
      "Number of datapoints (after dropping duplicates): 10300082\n",
      "Total datapoints removed: 73393\n",
      "73393, True\n"
     ]
    }
   ],
   "source": [
    "def check_flags_1(df):\n",
    "    i_og = df.index.tolist()\n",
    "    i_ne = df.drop_duplicates(\n",
    "        subset=[\"Country\", \"Item Code\", \"Element Code\", \"Year\"]\n",
    "    ).index.tolist()\n",
    "    print(\n",
    "        f\"Number of datapoints: {len(i_og)}\\nNumber of datapoints (after dropping duplicates): {len(i_ne)}\\nTotal datapoints removed: {len(i_og)-len(i_ne)}\"\n",
    "    )\n",
    "    check_flags_2(df, i_og, i_ne)\n",
    "\n",
    "\n",
    "def check_flags_2(df, i_og, i_ne):\n",
    "    \"\"\"Prints `[number of datapoints eliminated], True`\"\"\"\n",
    "    df = df.set_index([\"Country\", \"Item Code\", \"Element Code\", \"Year\"])\n",
    "    dups = df.index.duplicated()\n",
    "    print(f\"{dups.sum()}, {len(i_ne) == len(i_og)-dups.sum()}\")\n",
    "    # dups = qcl_bulk.index.duplicated(keep=False)\n",
    "    df = df.reset_index()\n",
    "\n",
    "\n",
    "check_flags_1(qcl_bulk)\n",
    "print()\n",
    "check_flags_1(fbsc_bulk)"
   ]
  },
  {
   "cell_type": "markdown",
   "id": "4bbcd2b9-d199-45a9-a87c-2a0930209b05",
   "metadata": {},
   "source": [
    "### Flag prioritzation"
   ]
  },
  {
   "cell_type": "markdown",
   "id": "785e764b-fb83-45c0-a604-9ff31c12a283",
   "metadata": {
    "tags": []
   },
   "source": [
    "In this step we define a Flag prioritisation rank, which allows us to discard duplicate entries based on which flag we \"prefer\". We do this by assigning a weight to each datapoint based on their `Flag` value (the higher, the more prioritised it is). On top of flag prioritisation, we always prefer non-`NaN` values regardless of their associated `Flag` value (we assign weight -1 to this datapoints). The weighting was shared and discussed with authors. \n",
    "\n",
    "The weight is added to the dataframe as a new column `Flag_priority`.\n",
    "\n",
    "#### Example 1\n",
    "\n",
    "    Country, Year, Product, Value, Flag \n",
    "    Afghanistan, 1993, Apple, 100, F\n",
    "    Afghanistan, 1993, Apple, 120, A\n",
    "\n",
    "We would choose first row, with flag F.\n",
    "\n",
    "#### Example 2:\n",
    "\n",
    "    Country, Year, Product, Value, Flag \n",
    "    Afghanistan, 1993, Apple, NaN, F\n",
    "    Afghanistan, 1993, Apple, 120, A\n",
    "\n",
    "We would choose second row, as first row is `NaN`.\n",
    "\n",
    "\n",
    "In the following cell we filter rows based on `FLAG_PRIORITIES`."
   ]
  },
  {
   "cell_type": "code",
   "execution_count": 13,
   "id": "f5da2eda-1fca-47d0-9bd3-7da00c99d562",
   "metadata": {},
   "outputs": [],
   "source": [
    "# Create flag priority (add to df) More info at https://www.fao.org/faostat/en/#definitions\n",
    "FLAG_PRIORITIES = {\n",
    "    \"M\": 0,  # Data not available\n",
    "    \"SD\": 10,  # Statistical Discrepancy\n",
    "    \"*\": 20,  # Unofficial figure\n",
    "    \"R\": 30,  # Estimated data using trading partners database\n",
    "    \"Fc\": 40,  # Calculated data\n",
    "    \"S\": 60,  # Standardized data\n",
    "    \"A\": 70,  # Aggregate; may include official; semi-official; estimated or calculated data\n",
    "    \"Im\": 80,  # FAO data based on imputation methodology\n",
    "    \"F\": 90,  # FAO estimate\n",
    "    np.nan: 100,  # Official data\n",
    "}\n",
    "\n",
    "\n",
    "def filter_by_flag_priority(df):\n",
    "    # Add Flag priority column\n",
    "    df.loc[:, \"Flag_priority\"] = df.Flag.replace(FLAG_PRIORITIES).tolist()\n",
    "    df.loc[df.Value.isna(), \"Flag_priority\"] = -1\n",
    "    # Remove duplicates based on Flag value\n",
    "    df = df.sort_values(\"Flag_priority\")\n",
    "    df = df.drop_duplicates(\n",
    "        subset=[\"Country\", \"Item Code\", \"Element Code\", \"Year\"], keep=\"last\"\n",
    "    )\n",
    "    return df.drop(columns=[\"Flag_priority\", \"Flag\"])"
   ]
  },
  {
   "cell_type": "code",
   "execution_count": 14,
   "id": "dbb64782-3fe5-4ac4-a59c-013f1221ed16",
   "metadata": {},
   "outputs": [
    {
     "name": "stdout",
     "output_type": "stream",
     "text": [
      "(2979076, 5)\n"
     ]
    }
   ],
   "source": [
    "# QCL\n",
    "qcl_bulk = filter_by_flag_priority(qcl_bulk)\n",
    "print(qcl_bulk.shape)"
   ]
  },
  {
   "cell_type": "code",
   "execution_count": 15,
   "id": "30c748ef-2016-4738-9304-cbffd1c6d172",
   "metadata": {},
   "outputs": [
    {
     "name": "stdout",
     "output_type": "stream",
     "text": [
      "(10300082, 5)\n"
     ]
    }
   ],
   "source": [
    "# FBSC\n",
    "fbsc_bulk = filter_by_flag_priority(fbsc_bulk)\n",
    "print(fbsc_bulk.shape)"
   ]
  },
  {
   "cell_type": "markdown",
   "id": "cba6f901-1b02-4faa-bb9a-a016b2d45b2c",
   "metadata": {
    "tags": []
   },
   "source": [
    "## 4. Element Overview\n",
    "This serves as an initial check on the meaning of `Element Code` values. In particular, we note that each `Element Code` value corresponds to a unique pair of _element name_  and _element unit_. Note, for instance, that _element_name_ \"Production\" can come in different flavours (i.e. units): \"Production -- tones\" and \"Production -- 1000 No\".\n",
    "\n",
    "Based on the number of occurrences of each element code, we may want to keep only those that rank high.\n",
    "\n",
    "**Note: This step uses file `PATH_MAP_ELEM`, which is a file that was generated using the code in a later cell.**"
   ]
  },
  {
   "cell_type": "code",
   "execution_count": 16,
   "id": "61681c4f-0585-48c6-85d1-1adf9586d3f7",
   "metadata": {},
   "outputs": [],
   "source": [
    "# Where do each element appear?\n",
    "def get_stats_elements(df):\n",
    "    res = df.reset_index().groupby(\"Element Code\")[\"Item Code\"].nunique()\n",
    "    df_elem = pd.read_csv(PATH_MAP_ELEM, index_col=\"code\")\n",
    "    elem_map = (\n",
    "        df_elem[\"name\"] + \" -- \" + df_elem[\"unit\"] + \" -- \" + df_elem.index.astype(str)\n",
    "    )\n",
    "    res = res.rename(index=elem_map.to_dict()).sort_values(ascending=False)\n",
    "    return res"
   ]
  },
  {
   "cell_type": "code",
   "execution_count": 17,
   "id": "55e5e095-b849-4fac-b731-bd78a6e16952",
   "metadata": {},
   "outputs": [
    {
     "data": {
      "text/plain": [
       "Element Code\n",
       "Production -- tonnes -- 5510                          281\n",
       "Area harvested -- ha -- 5312                          172\n",
       "Yield -- hg/ha -- 5419                                171\n",
       "Producing Animals/Slaughtered -- Head -- 5320          31\n",
       "Yield/Carcass Weight -- hg/An -- 5417                  14\n",
       "Stocks -- Head -- 5111                                 12\n",
       "Yield -- hg/An -- 5420                                 10\n",
       "Producing Animals/Slaughtered -- 1000 Head -- 5321      8\n",
       "Yield/Carcass Weight -- 0.1g/An -- 5424                 8\n",
       "Stocks -- 1000 Head -- 5112                             7\n",
       "Laying -- 1000 Head -- 5313                             3\n",
       "Yield -- 100mg/An -- 5410                               3\n",
       "Yield -- hg -- 5422                                     2\n",
       "Production -- 1000 No -- 5513                           2\n",
       "Stocks -- No -- 5114                                    1\n",
       "Name: Item Code, dtype: int64"
      ]
     },
     "execution_count": 17,
     "metadata": {},
     "output_type": "execute_result"
    }
   ],
   "source": [
    "# QCL\n",
    "get_stats_elements(qcl_bulk)"
   ]
  },
  {
   "cell_type": "code",
   "execution_count": 18,
   "id": "cd067c44-bc63-4d05-af0e-0fc6f7ae3373",
   "metadata": {},
   "outputs": [
    {
     "data": {
      "text/plain": [
       "Element Code\n",
       "Protein supply quantity (g/capita/day) -- g/capita/day -- 674    121\n",
       "Fat supply quantity (g/capita/day) -- g/capita/day -- 684        121\n",
       "Food supply (kcal/capita/day) -- kcal/capita/day -- 664          121\n",
       "Food supply quantity (kg/capita/yr) -- kg -- 645                 119\n",
       "Food -- 1000 tonnes -- 5142                                      119\n",
       "Domestic supply quantity -- 1000 tonnes -- 5301                  119\n",
       "Other uses (non-food) -- 1000 tonnes -- 5154                     119\n",
       "Export Quantity -- 1000 tonnes -- 5911                           119\n",
       "Stock Variation -- 1000 tonnes -- 5072                           118\n",
       "Production -- 1000 tonnes -- 5511                                118\n",
       "Import Quantity -- 1000 tonnes -- 5611                           118\n",
       "Residuals -- 1000 tonnes -- 5170                                 105\n",
       "Tourist consumption -- 1000 tonnes -- 5171                       104\n",
       "Losses -- 1000 tonnes -- 5123                                    101\n",
       "Feed -- 1000 tonnes -- 5521                                       98\n",
       "Processing -- 1000 tonnes -- 5131                                 89\n",
       "Seed -- 1000 tonnes -- 5527                                       55\n",
       "Name: Item Code, dtype: int64"
      ]
     },
     "execution_count": 18,
     "metadata": {},
     "output_type": "execute_result"
    }
   ],
   "source": [
    "# FBSC\n",
    "get_stats_elements(fbsc_bulk)"
   ]
  },
  {
   "cell_type": "markdown",
   "id": "984267f3-77e3-4076-8079-b8c459bcde3e",
   "metadata": {},
   "source": [
    "## 5. Reshape dataset\n",
    "This step is simple and brief. It attempts to pivot the dataset in order to have three identifying columns (i.e. \"keys\") and several \"value\" columns based on the `Element Code` and `Value` columns.\n",
    "\n",
    "This format is more Grapher/Explorer friendly, as it clearly divides the dataset columns into: Entities, Year, [Values]."
   ]
  },
  {
   "cell_type": "code",
   "execution_count": 19,
   "id": "2d78ddb6-1100-4658-8043-44964e869a9b",
   "metadata": {},
   "outputs": [],
   "source": [
    "def reshape_df(df):\n",
    "    df = df.reset_index()\n",
    "    df = df.pivot(\n",
    "        index=[\"Country\", \"Item Code\", \"Year\"], columns=\"Element Code\", values=\"Value\"\n",
    "    )\n",
    "    return df"
   ]
  },
  {
   "cell_type": "code",
   "execution_count": 20,
   "id": "53bbe8b1-9f74-4af1-ad37-1df1e262edb5",
   "metadata": {},
   "outputs": [],
   "source": [
    "# QCL\n",
    "qcl_bulk = reshape_df(qcl_bulk)\n",
    "# FBSC\n",
    "fbsc_bulk = reshape_df(fbsc_bulk)"
   ]
  },
  {
   "cell_type": "code",
   "execution_count": 21,
   "id": "e9f5471b-a00e-4996-894c-6d8709bb3713",
   "metadata": {},
   "outputs": [
    {
     "name": "stdout",
     "output_type": "stream",
     "text": [
      "QCL: (1306070, 15)\n",
      "FBSC: (1089063, 17)\n"
     ]
    }
   ],
   "source": [
    "print(\"QCL:\", qcl_bulk.shape)\n",
    "print(\"FBSC:\", fbsc_bulk.shape)"
   ]
  },
  {
   "cell_type": "markdown",
   "id": "331d394c-5de2-4412-8277-91c9a5857ce2",
   "metadata": {},
   "source": [
    "## 6. Standardise Element and Item names (OPTIONAL)\n",
    "In the following cells we obtain tables with the code, current name and number of occurrences of all the Items and Elements present in our dataset.\n",
    "\n",
    "Based on this tables, Hannah (or another researcher), will revisit these and:\n",
    "- Select those Items and Elements that we are interested in.\n",
    "- Standardise naming proposals of Items and Elements.\n",
    "\n",
    "Notes:\n",
    "- We obtain the number of occurrences as this can assist the researcher in prioritising Items or Elements. "
   ]
  },
  {
   "cell_type": "markdown",
   "id": "240ccc40-ea1e-44b5-ae3f-f81aba420cbd",
   "metadata": {},
   "source": [
    "### Elements\n",
    "Here we obtain a table with the current namings for Elements (plus other variables). Note that we also propagate the unit names, as these may also be standardised (or even changed)."
   ]
  },
  {
   "cell_type": "code",
   "execution_count": 22,
   "id": "4c2dcf6d-453b-4d3c-a5e4-87e3620c5908",
   "metadata": {},
   "outputs": [],
   "source": [
    "# Load table from dataset containing Element information\n",
    "qcl_elem = qcl_garden[\"meta_qcl_element\"]\n",
    "fbsc_elem = fbsc_garden[\"meta_fbs_element\"]"
   ]
  },
  {
   "cell_type": "code",
   "execution_count": 23,
   "id": "20f69abc-a5ea-4ac4-a175-7dbdc4543f54",
   "metadata": {},
   "outputs": [],
   "source": [
    "def get_elements_to_standardize(df, df_elem):\n",
    "    # Obtain number of occurrences for each Element Code (each column is an element)\n",
    "    elements = pd.DataFrame(df.notna().sum()).reset_index()\n",
    "    elements = elements.sort_values(0, ascending=False)\n",
    "    # Add names and unit info to the table\n",
    "    elements = elements.merge(\n",
    "        df_elem[[\"Element\", \"Unit\", \"Unit Description\"]],\n",
    "        left_on=\"Element Code\",\n",
    "        right_index=True,\n",
    "    )\n",
    "    # Rename column names\n",
    "    elements = elements.rename(\n",
    "        columns={\n",
    "            \"Element Code\": \"code\",\n",
    "            0: \"number_occurrences\",\n",
    "            \"Element\": \"name\",\n",
    "            \"Unit\": \"unit\",\n",
    "            \"Unit Description\": \"unit_description\",\n",
    "        }\n",
    "    )[[\"code\", \"name\", \"unit\", \"unit_description\", \"number_occurrences\"]]\n",
    "    return elements"
   ]
  },
  {
   "cell_type": "code",
   "execution_count": 24,
   "id": "3c807483-c460-4fd6-a3b7-ff70e4a94b2e",
   "metadata": {},
   "outputs": [],
   "source": [
    "elements_qcl = get_elements_to_standardize(qcl_bulk, qcl_elem).assign(dataset=\"QCL\")\n",
    "elements_fbsc = get_elements_to_standardize(fbsc_bulk, fbsc_elem).assign(dataset=\"FBSC\")\n",
    "\n",
    "assert elements_qcl.merge(elements_fbsc, on=\"code\").empty"
   ]
  },
  {
   "cell_type": "markdown",
   "id": "b1ff6741-e898-4ea8-9a50-a3ba84810942",
   "metadata": {},
   "source": [
    "Once the table is obtained, we take a look at it and export it. Note that we use a filename starting with `ign.`, as these are note git-tracked."
   ]
  },
  {
   "cell_type": "code",
   "execution_count": 25,
   "id": "57dfcee6-ee59-46b8-a176-c69fb3cef5a1",
   "metadata": {},
   "outputs": [
    {
     "data": {
      "text/html": [
       "<div>\n",
       "<style scoped>\n",
       "    .dataframe tbody tr th:only-of-type {\n",
       "        vertical-align: middle;\n",
       "    }\n",
       "\n",
       "    .dataframe tbody tr th {\n",
       "        vertical-align: top;\n",
       "    }\n",
       "\n",
       "    .dataframe thead th {\n",
       "        text-align: right;\n",
       "    }\n",
       "</style>\n",
       "<table border=\"1\" class=\"dataframe\">\n",
       "  <thead>\n",
       "    <tr style=\"text-align: right;\">\n",
       "      <th></th>\n",
       "      <th>code</th>\n",
       "      <th>name</th>\n",
       "      <th>unit</th>\n",
       "      <th>unit_description</th>\n",
       "      <th>number_occurrences</th>\n",
       "      <th>dataset</th>\n",
       "    </tr>\n",
       "  </thead>\n",
       "  <tbody>\n",
       "    <tr>\n",
       "      <th>13</th>\n",
       "      <td>5510</td>\n",
       "      <td>Production</td>\n",
       "      <td>tonnes</td>\n",
       "      <td>tonnes</td>\n",
       "      <td>1079145</td>\n",
       "      <td>QCL</td>\n",
       "    </tr>\n",
       "    <tr>\n",
       "      <th>3</th>\n",
       "      <td>5312</td>\n",
       "      <td>Area harvested</td>\n",
       "      <td>ha</td>\n",
       "      <td>hectares</td>\n",
       "      <td>588735</td>\n",
       "      <td>QCL</td>\n",
       "    </tr>\n",
       "    <tr>\n",
       "      <th>9</th>\n",
       "      <td>5419</td>\n",
       "      <td>Yield</td>\n",
       "      <td>hg/ha</td>\n",
       "      <td>hectograms per hectare</td>\n",
       "      <td>583687</td>\n",
       "      <td>QCL</td>\n",
       "    </tr>\n",
       "    <tr>\n",
       "      <th>5</th>\n",
       "      <td>5320</td>\n",
       "      <td>Producing Animals/Slaughtered</td>\n",
       "      <td>Head</td>\n",
       "      <td>head</td>\n",
       "      <td>156431</td>\n",
       "      <td>QCL</td>\n",
       "    </tr>\n",
       "    <tr>\n",
       "      <th>0</th>\n",
       "      <td>5111</td>\n",
       "      <td>Stocks</td>\n",
       "      <td>Head</td>\n",
       "      <td>head</td>\n",
       "      <td>90271</td>\n",
       "      <td>QCL</td>\n",
       "    </tr>\n",
       "  </tbody>\n",
       "</table>\n",
       "</div>"
      ],
      "text/plain": [
       "    code                           name    unit        unit_description  \\\n",
       "13  5510                     Production  tonnes                  tonnes   \n",
       "3   5312                 Area harvested      ha                hectares   \n",
       "9   5419                          Yield   hg/ha  hectograms per hectare   \n",
       "5   5320  Producing Animals/Slaughtered    Head                    head   \n",
       "0   5111                         Stocks    Head                    head   \n",
       "\n",
       "    number_occurrences dataset  \n",
       "13             1079145     QCL  \n",
       "3               588735     QCL  \n",
       "9               583687     QCL  \n",
       "5               156431     QCL  \n",
       "0                90271     QCL  "
      ]
     },
     "execution_count": 25,
     "metadata": {},
     "output_type": "execute_result"
    }
   ],
   "source": [
    "elements = pd.concat([elements_qcl, elements_fbsc])\n",
    "elements.head()"
   ]
  },
  {
   "cell_type": "code",
   "execution_count": 26,
   "id": "0bf4efc5-50ed-4164-bffb-baf9af3fd272",
   "metadata": {},
   "outputs": [],
   "source": [
    "# elements.to_csv(\"ign.food.elements.csv\", index=False)"
   ]
  },
  {
   "cell_type": "markdown",
   "id": "001cfba2-9b59-400c-b2fe-5c694f5a1ff3",
   "metadata": {},
   "source": [
    "### Items\n",
    "Here we obtain a table with the current namings for Items (plus other variables)."
   ]
  },
  {
   "cell_type": "code",
   "execution_count": 27,
   "id": "13063f01-bb80-4579-9780-b2051da0b485",
   "metadata": {},
   "outputs": [],
   "source": [
    "# Load table from dataset containing Item information\n",
    "qcl_item = qcl_garden[\"meta_qcl_item\"]\n",
    "fbsc_item = fbsc_garden[\"meta_item\"]"
   ]
  },
  {
   "cell_type": "markdown",
   "id": "4e6d6357-d609-4f9a-b0a2-692d299fd782",
   "metadata": {},
   "source": [
    "As the following cell shows, this table comes with a multi-index, as codes may actually be referring to \"Item Groups\" or \"Items\"."
   ]
  },
  {
   "cell_type": "code",
   "execution_count": 28,
   "id": "1d2fb733-5350-493f-805f-ad3cc0fd083a",
   "metadata": {},
   "outputs": [
    {
     "data": {
      "text/html": [
       "<div>\n",
       "<style scoped>\n",
       "    .dataframe tbody tr th:only-of-type {\n",
       "        vertical-align: middle;\n",
       "    }\n",
       "\n",
       "    .dataframe tbody tr th {\n",
       "        vertical-align: top;\n",
       "    }\n",
       "\n",
       "    .dataframe thead th {\n",
       "        text-align: right;\n",
       "    }\n",
       "</style>\n",
       "<table border=\"1\" class=\"dataframe\">\n",
       "  <thead>\n",
       "    <tr style=\"text-align: right;\">\n",
       "      <th></th>\n",
       "      <th></th>\n",
       "      <th>Item Group</th>\n",
       "      <th>Item</th>\n",
       "    </tr>\n",
       "    <tr>\n",
       "      <th>Item Group Code</th>\n",
       "      <th>Item Code</th>\n",
       "      <th></th>\n",
       "      <th></th>\n",
       "    </tr>\n",
       "  </thead>\n",
       "  <tbody>\n",
       "    <tr>\n",
       "      <th rowspan=\"3\" valign=\"top\">QC</th>\n",
       "      <th>1714</th>\n",
       "      <td>Crops Primary</td>\n",
       "      <td>Crops Primary</td>\n",
       "    </tr>\n",
       "    <tr>\n",
       "      <th>1753</th>\n",
       "      <td>Crops Primary</td>\n",
       "      <td>Fibre Crops Primary</td>\n",
       "    </tr>\n",
       "    <tr>\n",
       "      <th>1730</th>\n",
       "      <td>Crops Primary</td>\n",
       "      <td>Oilcrops Primary</td>\n",
       "    </tr>\n",
       "    <tr>\n",
       "      <th>QA</th>\n",
       "      <th>1756</th>\n",
       "      <td>Live Animals</td>\n",
       "      <td>Live Animals</td>\n",
       "    </tr>\n",
       "    <tr>\n",
       "      <th>QL</th>\n",
       "      <th>1777</th>\n",
       "      <td>Livestock primary</td>\n",
       "      <td>Hides and skins, primary</td>\n",
       "    </tr>\n",
       "  </tbody>\n",
       "</table>\n",
       "</div>"
      ],
      "text/plain": [
       "                                  Item Group                      Item\n",
       "Item Group Code Item Code                                             \n",
       "QC              1714           Crops Primary             Crops Primary\n",
       "                1753           Crops Primary       Fibre Crops Primary\n",
       "                1730           Crops Primary          Oilcrops Primary\n",
       "QA              1756            Live Animals              Live Animals\n",
       "QL              1777       Livestock primary  Hides and skins, primary"
      ]
     },
     "execution_count": 28,
     "metadata": {},
     "output_type": "execute_result"
    }
   ],
   "source": [
    "qcl_item.head()"
   ]
  },
  {
   "cell_type": "markdown",
   "id": "9cedc32e-9221-4fa2-a0d3-51cb7aaa4a47",
   "metadata": {},
   "source": [
    "Therefore, in the next cell we attempt to flatten code to name mappings.\n",
    "\n",
    "To this end:\n",
    "- We first create two separate dictionaries, mapping `Item Group Code --> Item Group` and `Item Code --> Item`, respectively.\n",
    "- We note, however, that some codes appear both as \"Items\" and \"Item Groups\". This might be due to the fact that there are more than one level of items. That is, an Item can \"belong\" to an Item Group, which in turn belongs to yet a higher up Item Group. Therefore, we remove these codes from the item dictionary so they only appear in the item group dictionary.\n",
    "- Next, we create a table with all items, their occurrences, whether they are Item Groups, and their FAO original namings."
   ]
  },
  {
   "cell_type": "code",
   "execution_count": 29,
   "id": "ccbbf0fa-9b2c-43da-b3bd-a6e441b89b05",
   "metadata": {},
   "outputs": [],
   "source": [
    "def get_items_to_standardize(df, df_item):\n",
    "    # Group\n",
    "    map_item_g = dict(\n",
    "        zip(\n",
    "            df_item.index.get_level_values(\"Item Group Code\").astype(str),\n",
    "            df_item[\"Item Group\"],\n",
    "        )\n",
    "    )\n",
    "    # Item\n",
    "    map_item = dict(\n",
    "        zip(df_item.index.get_level_values(\"Item Code\").astype(str), df_item[\"Item\"])\n",
    "    )\n",
    "\n",
    "    # Correct\n",
    "    map_item = {k: v for k, v in map_item.items() if k not in map_item_g}\n",
    "\n",
    "    # Load item occurences\n",
    "    items = (\n",
    "        pd.DataFrame(df.reset_index()[\"Item Code\"].value_counts())\n",
    "        .reset_index()\n",
    "        .astype(str)\n",
    "        .rename(\n",
    "            columns={\n",
    "                \"index\": \"code\",\n",
    "                \"Item Code\": \"number_occurences\",\n",
    "            }\n",
    "        )\n",
    "    )\n",
    "    # Add flag for groups\n",
    "    items[\"type\"] = (\n",
    "        items[\"code\"].isin(map_item_g).apply(lambda x: \"Group\" if x else None)\n",
    "    )\n",
    "    # Add name\n",
    "    map_item_all = {**map_item, **map_item_g}\n",
    "    items[\"name\"] = items.code.replace(map_item_all)\n",
    "    # Order columns\n",
    "    items = items[[\"code\", \"name\", \"type\", \"number_occurences\"]]\n",
    "    return items"
   ]
  },
  {
   "cell_type": "code",
   "execution_count": 30,
   "id": "daace449-144b-44fb-9d05-66727b998dfe",
   "metadata": {},
   "outputs": [],
   "source": [
    "items_qcl = get_items_to_standardize(qcl_bulk, qcl_item).assign(dataset=\"QCL\")\n",
    "items_fbsc = get_items_to_standardize(fbsc_bulk, fbsc_item).assign(dataset=\"FBSC\")\n",
    "items = pd.concat([items_qcl, items_fbsc])"
   ]
  },
  {
   "cell_type": "markdown",
   "id": "8ce92523-1cbf-41f3-96a8-b443656c02c7",
   "metadata": {},
   "source": [
    "Once the table is obtained, we take a look at it and export it. Note that we use a filename starting with `ign.`, as these are note git-tracked."
   ]
  },
  {
   "cell_type": "code",
   "execution_count": 31,
   "id": "9864333e-d00e-42e3-a977-7d6bc736dc32",
   "metadata": {},
   "outputs": [
    {
     "data": {
      "text/html": [
       "<div>\n",
       "<style scoped>\n",
       "    .dataframe tbody tr th:only-of-type {\n",
       "        vertical-align: middle;\n",
       "    }\n",
       "\n",
       "    .dataframe tbody tr th {\n",
       "        vertical-align: top;\n",
       "    }\n",
       "\n",
       "    .dataframe thead th {\n",
       "        text-align: right;\n",
       "    }\n",
       "</style>\n",
       "<table border=\"1\" class=\"dataframe\">\n",
       "  <thead>\n",
       "    <tr style=\"text-align: right;\">\n",
       "      <th></th>\n",
       "      <th>code</th>\n",
       "      <th>name</th>\n",
       "      <th>type</th>\n",
       "      <th>number_occurences</th>\n",
       "      <th>dataset</th>\n",
       "    </tr>\n",
       "  </thead>\n",
       "  <tbody>\n",
       "    <tr>\n",
       "      <th>0</th>\n",
       "      <td>1765</td>\n",
       "      <td>Meat, Total</td>\n",
       "      <td>Group</td>\n",
       "      <td>11418</td>\n",
       "      <td>QCL</td>\n",
       "    </tr>\n",
       "    <tr>\n",
       "      <th>1</th>\n",
       "      <td>1738</td>\n",
       "      <td>Fruit Primary</td>\n",
       "      <td>Group</td>\n",
       "      <td>11272</td>\n",
       "      <td>QCL</td>\n",
       "    </tr>\n",
       "    <tr>\n",
       "      <th>2</th>\n",
       "      <td>1057</td>\n",
       "      <td>Chickens</td>\n",
       "      <td>None</td>\n",
       "      <td>11256</td>\n",
       "      <td>QCL</td>\n",
       "    </tr>\n",
       "    <tr>\n",
       "      <th>3</th>\n",
       "      <td>1808</td>\n",
       "      <td>Meat, Poultry</td>\n",
       "      <td>Group</td>\n",
       "      <td>11246</td>\n",
       "      <td>QCL</td>\n",
       "    </tr>\n",
       "    <tr>\n",
       "      <th>4</th>\n",
       "      <td>1058</td>\n",
       "      <td>Meat, chicken</td>\n",
       "      <td>None</td>\n",
       "      <td>11246</td>\n",
       "      <td>QCL</td>\n",
       "    </tr>\n",
       "  </tbody>\n",
       "</table>\n",
       "</div>"
      ],
      "text/plain": [
       "   code           name   type number_occurences dataset\n",
       "0  1765    Meat, Total  Group             11418     QCL\n",
       "1  1738  Fruit Primary  Group             11272     QCL\n",
       "2  1057       Chickens   None             11256     QCL\n",
       "3  1808  Meat, Poultry  Group             11246     QCL\n",
       "4  1058  Meat, chicken   None             11246     QCL"
      ]
     },
     "execution_count": 31,
     "metadata": {},
     "output_type": "execute_result"
    }
   ],
   "source": [
    "items.head()"
   ]
  },
  {
   "cell_type": "code",
   "execution_count": 32,
   "id": "e64ca032-bc4c-4170-87df-83c0a1563e5a",
   "metadata": {},
   "outputs": [],
   "source": [
    "# items.to_csv(\"ign.food.items.csv\", index=False)"
   ]
  },
  {
   "cell_type": "markdown",
   "id": "8411b093-9cd8-47a2-b31e-7fcd62f91dcf",
   "metadata": {},
   "source": [
    "## 7. Renaming Items and Elements\n",
    "After the previous step, where we shared files `ign.food.items.csv` and `ign.food.elements.csv` with a researcher, they will review them and add the standardisation namings for all items and elements that we intend to use. Note that if no standardised name is provided, the item or element will be discarded.\n",
    "\n",
    "Their proposals come in two files: `food_explorer.items.std.csv` and `food_explorer.elements.std.csv`. Note that we prefer working with the mapping `\"item/element code\" ---> \"new standardised item/element name\"`."
   ]
  },
  {
   "cell_type": "markdown",
   "id": "fa055e6f-78a9-4afe-82e4-e3137a1133c7",
   "metadata": {},
   "source": [
    "### Element"
   ]
  },
  {
   "cell_type": "markdown",
   "id": "1174f1fd-c9e5-4660-8617-4ea6478cb3a5",
   "metadata": {},
   "source": [
    "First of all, we load the standardisation table and remove NaN values (these belong to to-be-discarded elements)."
   ]
  },
  {
   "cell_type": "code",
   "execution_count": 33,
   "id": "f9fd878f-47ca-4569-8bb4-f764f1244d4e",
   "metadata": {},
   "outputs": [],
   "source": [
    "# Get standardised values\n",
    "df = pd.read_csv(PATH_MAP_ELEM, index_col=\"code\")\n",
    "df = df.dropna(subset=[\"name_standardised\"])"
   ]
  },
  {
   "cell_type": "markdown",
   "id": "7e7a3f1a-c4e2-43d7-b32f-593323ef703e",
   "metadata": {},
   "source": [
    "If we display the content of the standardisation element file we observe that:\n",
    "- Only some elements are preserved.\n",
    "- There is the column `unit_name_standardised_with_conversion` and `unit_factor`, which provide the new unit and the factor to convert the old one into the new one. \n",
    "- Multiple codes are assigned to the same `name_standardised` and `unit_name_standardised_with_conversion`, which means that we will have to merge them. In particular, element \"Yield\" with unit \"kg/animal\" appears with four different codes!"
   ]
  },
  {
   "cell_type": "code",
   "execution_count": 34,
   "id": "2be4a477-197a-411d-8d52-d103036cf54b",
   "metadata": {},
   "outputs": [
    {
     "data": {
      "text/html": [
       "<div>\n",
       "<style scoped>\n",
       "    .dataframe tbody tr th:only-of-type {\n",
       "        vertical-align: middle;\n",
       "    }\n",
       "\n",
       "    .dataframe tbody tr th {\n",
       "        vertical-align: top;\n",
       "    }\n",
       "\n",
       "    .dataframe thead th {\n",
       "        text-align: right;\n",
       "    }\n",
       "</style>\n",
       "<table border=\"1\" class=\"dataframe\">\n",
       "  <thead>\n",
       "    <tr style=\"text-align: right;\">\n",
       "      <th></th>\n",
       "      <th>name</th>\n",
       "      <th>unit</th>\n",
       "      <th>unit_description</th>\n",
       "      <th>number_occurrences</th>\n",
       "      <th>Dataset</th>\n",
       "      <th>name_standardised</th>\n",
       "      <th>unit_name_standardised_with_conversion</th>\n",
       "      <th>unit_factor</th>\n",
       "    </tr>\n",
       "    <tr>\n",
       "      <th>code</th>\n",
       "      <th></th>\n",
       "      <th></th>\n",
       "      <th></th>\n",
       "      <th></th>\n",
       "      <th></th>\n",
       "      <th></th>\n",
       "      <th></th>\n",
       "      <th></th>\n",
       "    </tr>\n",
       "  </thead>\n",
       "  <tbody>\n",
       "    <tr>\n",
       "      <th>5312</th>\n",
       "      <td>Area harvested</td>\n",
       "      <td>ha</td>\n",
       "      <td>hectares</td>\n",
       "      <td>539828</td>\n",
       "      <td>QCL</td>\n",
       "      <td>Area harvested</td>\n",
       "      <td>ha</td>\n",
       "      <td>1.0000</td>\n",
       "    </tr>\n",
       "    <tr>\n",
       "      <th>5301</th>\n",
       "      <td>Domestic supply quantity</td>\n",
       "      <td>1000 tonnes</td>\n",
       "      <td>thousand tonnes</td>\n",
       "      <td>1043347</td>\n",
       "      <td>FBSC</td>\n",
       "      <td>Domestic supply</td>\n",
       "      <td>tonnes</td>\n",
       "      <td>1000.0000</td>\n",
       "    </tr>\n",
       "    <tr>\n",
       "      <th>5911</th>\n",
       "      <td>Export Quantity</td>\n",
       "      <td>1000 tonnes</td>\n",
       "      <td>thousand tonnes</td>\n",
       "      <td>842139</td>\n",
       "      <td>FBSC</td>\n",
       "      <td>Exports</td>\n",
       "      <td>tonnes</td>\n",
       "      <td>1000.0000</td>\n",
       "    </tr>\n",
       "    <tr>\n",
       "      <th>684</th>\n",
       "      <td>Fat supply quantity (g/capita/day)</td>\n",
       "      <td>g/capita/day</td>\n",
       "      <td>grams per capita per day</td>\n",
       "      <td>866317</td>\n",
       "      <td>FBSC</td>\n",
       "      <td>Food available for consumption</td>\n",
       "      <td>fat_g_per_day_per_capita</td>\n",
       "      <td>1.0000</td>\n",
       "    </tr>\n",
       "    <tr>\n",
       "      <th>5521</th>\n",
       "      <td>Feed</td>\n",
       "      <td>1000 tonnes</td>\n",
       "      <td>thousand tonnes</td>\n",
       "      <td>219816</td>\n",
       "      <td>FBSC</td>\n",
       "      <td>Feed</td>\n",
       "      <td>tonnes</td>\n",
       "      <td>1000.0000</td>\n",
       "    </tr>\n",
       "    <tr>\n",
       "      <th>5142</th>\n",
       "      <td>Food</td>\n",
       "      <td>1000 tonnes</td>\n",
       "      <td>thousand tonnes</td>\n",
       "      <td>966295</td>\n",
       "      <td>FBSC</td>\n",
       "      <td>Food</td>\n",
       "      <td>tonnes</td>\n",
       "      <td>1000.0000</td>\n",
       "    </tr>\n",
       "    <tr>\n",
       "      <th>664</th>\n",
       "      <td>Food supply (kcal/capita/day)</td>\n",
       "      <td>kcal/capita/day</td>\n",
       "      <td>kilocalorie per capita per day</td>\n",
       "      <td>1005702</td>\n",
       "      <td>FBSC</td>\n",
       "      <td>Food available for consumption</td>\n",
       "      <td>kcal_per_day_per_capita</td>\n",
       "      <td>1.0000</td>\n",
       "    </tr>\n",
       "    <tr>\n",
       "      <th>645</th>\n",
       "      <td>Food supply quantity (kg/capita/yr)</td>\n",
       "      <td>kg</td>\n",
       "      <td>kilograms</td>\n",
       "      <td>966185</td>\n",
       "      <td>FBSC</td>\n",
       "      <td>Food available for consumption</td>\n",
       "      <td>kg_per_capita_per_year</td>\n",
       "      <td>1.0000</td>\n",
       "    </tr>\n",
       "    <tr>\n",
       "      <th>5611</th>\n",
       "      <td>Import Quantity</td>\n",
       "      <td>1000 tonnes</td>\n",
       "      <td>thousand tonnes</td>\n",
       "      <td>1008063</td>\n",
       "      <td>FBSC</td>\n",
       "      <td>Imports</td>\n",
       "      <td>tonnes</td>\n",
       "      <td>1000.0000</td>\n",
       "    </tr>\n",
       "    <tr>\n",
       "      <th>5123</th>\n",
       "      <td>Losses</td>\n",
       "      <td>1000 tonnes</td>\n",
       "      <td>thousand tonnes</td>\n",
       "      <td>339465</td>\n",
       "      <td>FBSC</td>\n",
       "      <td>Waste in Supply Chain</td>\n",
       "      <td>tonnes</td>\n",
       "      <td>1000.0000</td>\n",
       "    </tr>\n",
       "    <tr>\n",
       "      <th>5154</th>\n",
       "      <td>Other uses (non-food)</td>\n",
       "      <td>1000 tonnes</td>\n",
       "      <td>thousand tonnes</td>\n",
       "      <td>418035</td>\n",
       "      <td>FBSC</td>\n",
       "      <td>Other uses</td>\n",
       "      <td>tonnes</td>\n",
       "      <td>1000.0000</td>\n",
       "    </tr>\n",
       "    <tr>\n",
       "      <th>5321</th>\n",
       "      <td>Producing Animals/Slaughtered</td>\n",
       "      <td>1000 Head</td>\n",
       "      <td>thousand head</td>\n",
       "      <td>35354</td>\n",
       "      <td>QCL</td>\n",
       "      <td>Producing or slaughtered animals</td>\n",
       "      <td>animals</td>\n",
       "      <td>1000.0000</td>\n",
       "    </tr>\n",
       "    <tr>\n",
       "      <th>5320</th>\n",
       "      <td>Producing Animals/Slaughtered</td>\n",
       "      <td>Head</td>\n",
       "      <td>head</td>\n",
       "      <td>149439</td>\n",
       "      <td>QCL</td>\n",
       "      <td>Producing or slaughtered animals</td>\n",
       "      <td>animals</td>\n",
       "      <td>1.0000</td>\n",
       "    </tr>\n",
       "    <tr>\n",
       "      <th>5510</th>\n",
       "      <td>Production</td>\n",
       "      <td>tonnes</td>\n",
       "      <td>tonnes</td>\n",
       "      <td>996973</td>\n",
       "      <td>QCL</td>\n",
       "      <td>Production</td>\n",
       "      <td>tonnes</td>\n",
       "      <td>1.0000</td>\n",
       "    </tr>\n",
       "    <tr>\n",
       "      <th>674</th>\n",
       "      <td>Protein supply quantity (g/capita/day)</td>\n",
       "      <td>g/capita/day</td>\n",
       "      <td>grams per capita per day</td>\n",
       "      <td>868087</td>\n",
       "      <td>FBSC</td>\n",
       "      <td>Food available for consumption</td>\n",
       "      <td>protein_g_per_day_per_capita</td>\n",
       "      <td>1.0000</td>\n",
       "    </tr>\n",
       "    <tr>\n",
       "      <th>5410</th>\n",
       "      <td>Yield</td>\n",
       "      <td>100mg/An</td>\n",
       "      <td>100 milligrams per animal</td>\n",
       "      <td>23088</td>\n",
       "      <td>QCL</td>\n",
       "      <td>Yield</td>\n",
       "      <td>kg_per_animal</td>\n",
       "      <td>0.0001</td>\n",
       "    </tr>\n",
       "    <tr>\n",
       "      <th>5420</th>\n",
       "      <td>Yield</td>\n",
       "      <td>hg/An</td>\n",
       "      <td>hectograms per animal</td>\n",
       "      <td>63705</td>\n",
       "      <td>QCL</td>\n",
       "      <td>Yield</td>\n",
       "      <td>kg_per_animal</td>\n",
       "      <td>0.1000</td>\n",
       "    </tr>\n",
       "    <tr>\n",
       "      <th>5419</th>\n",
       "      <td>Yield</td>\n",
       "      <td>hg/ha</td>\n",
       "      <td>hectograms per hectare</td>\n",
       "      <td>534847</td>\n",
       "      <td>QCL</td>\n",
       "      <td>Yield</td>\n",
       "      <td>tonnes_per_ha</td>\n",
       "      <td>0.0001</td>\n",
       "    </tr>\n",
       "    <tr>\n",
       "      <th>5424</th>\n",
       "      <td>Yield/Carcass Weight</td>\n",
       "      <td>0.1g/An</td>\n",
       "      <td>0.1 grams per animal</td>\n",
       "      <td>34674</td>\n",
       "      <td>QCL</td>\n",
       "      <td>Yield</td>\n",
       "      <td>kg_per_animal</td>\n",
       "      <td>0.0001</td>\n",
       "    </tr>\n",
       "    <tr>\n",
       "      <th>5417</th>\n",
       "      <td>Yield/Carcass Weight</td>\n",
       "      <td>hg/An</td>\n",
       "      <td>hectograms per animal</td>\n",
       "      <td>69432</td>\n",
       "      <td>QCL</td>\n",
       "      <td>Yield</td>\n",
       "      <td>kg_per_animal</td>\n",
       "      <td>0.1000</td>\n",
       "    </tr>\n",
       "  </tbody>\n",
       "</table>\n",
       "</div>"
      ],
      "text/plain": [
       "                                        name             unit  \\\n",
       "code                                                            \n",
       "5312                          Area harvested               ha   \n",
       "5301                Domestic supply quantity      1000 tonnes   \n",
       "5911                         Export Quantity      1000 tonnes   \n",
       "684       Fat supply quantity (g/capita/day)     g/capita/day   \n",
       "5521                                    Feed      1000 tonnes   \n",
       "5142                                    Food      1000 tonnes   \n",
       "664            Food supply (kcal/capita/day)  kcal/capita/day   \n",
       "645      Food supply quantity (kg/capita/yr)               kg   \n",
       "5611                         Import Quantity      1000 tonnes   \n",
       "5123                                  Losses      1000 tonnes   \n",
       "5154                   Other uses (non-food)      1000 tonnes   \n",
       "5321           Producing Animals/Slaughtered        1000 Head   \n",
       "5320           Producing Animals/Slaughtered             Head   \n",
       "5510                              Production           tonnes   \n",
       "674   Protein supply quantity (g/capita/day)     g/capita/day   \n",
       "5410                                   Yield         100mg/An   \n",
       "5420                                   Yield            hg/An   \n",
       "5419                                   Yield            hg/ha   \n",
       "5424                    Yield/Carcass Weight          0.1g/An   \n",
       "5417                    Yield/Carcass Weight            hg/An   \n",
       "\n",
       "                    unit_description  number_occurrences Dataset  \\\n",
       "code                                                               \n",
       "5312                        hectares              539828     QCL   \n",
       "5301                 thousand tonnes             1043347    FBSC   \n",
       "5911                 thousand tonnes              842139    FBSC   \n",
       "684         grams per capita per day              866317    FBSC   \n",
       "5521                 thousand tonnes              219816    FBSC   \n",
       "5142                 thousand tonnes              966295    FBSC   \n",
       "664   kilocalorie per capita per day             1005702    FBSC   \n",
       "645                        kilograms              966185    FBSC   \n",
       "5611                 thousand tonnes             1008063    FBSC   \n",
       "5123                 thousand tonnes              339465    FBSC   \n",
       "5154                 thousand tonnes              418035    FBSC   \n",
       "5321                   thousand head               35354     QCL   \n",
       "5320                            head              149439     QCL   \n",
       "5510                          tonnes              996973     QCL   \n",
       "674         grams per capita per day              868087    FBSC   \n",
       "5410       100 milligrams per animal               23088     QCL   \n",
       "5420           hectograms per animal               63705     QCL   \n",
       "5419          hectograms per hectare              534847     QCL   \n",
       "5424            0.1 grams per animal               34674     QCL   \n",
       "5417           hectograms per animal               69432     QCL   \n",
       "\n",
       "                     name_standardised unit_name_standardised_with_conversion  \\\n",
       "code                                                                            \n",
       "5312                    Area harvested                                     ha   \n",
       "5301                   Domestic supply                                 tonnes   \n",
       "5911                           Exports                                 tonnes   \n",
       "684     Food available for consumption               fat_g_per_day_per_capita   \n",
       "5521                              Feed                                 tonnes   \n",
       "5142                              Food                                 tonnes   \n",
       "664     Food available for consumption                kcal_per_day_per_capita   \n",
       "645     Food available for consumption                 kg_per_capita_per_year   \n",
       "5611                           Imports                                 tonnes   \n",
       "5123             Waste in Supply Chain                                 tonnes   \n",
       "5154                        Other uses                                 tonnes   \n",
       "5321  Producing or slaughtered animals                                animals   \n",
       "5320  Producing or slaughtered animals                                animals   \n",
       "5510                        Production                                 tonnes   \n",
       "674     Food available for consumption           protein_g_per_day_per_capita   \n",
       "5410                             Yield                          kg_per_animal   \n",
       "5420                             Yield                          kg_per_animal   \n",
       "5419                             Yield                          tonnes_per_ha   \n",
       "5424                             Yield                          kg_per_animal   \n",
       "5417                             Yield                          kg_per_animal   \n",
       "\n",
       "      unit_factor  \n",
       "code               \n",
       "5312       1.0000  \n",
       "5301    1000.0000  \n",
       "5911    1000.0000  \n",
       "684        1.0000  \n",
       "5521    1000.0000  \n",
       "5142    1000.0000  \n",
       "664        1.0000  \n",
       "645        1.0000  \n",
       "5611    1000.0000  \n",
       "5123    1000.0000  \n",
       "5154    1000.0000  \n",
       "5321    1000.0000  \n",
       "5320       1.0000  \n",
       "5510       1.0000  \n",
       "674        1.0000  \n",
       "5410       0.0001  \n",
       "5420       0.1000  \n",
       "5419       0.0001  \n",
       "5424       0.0001  \n",
       "5417       0.1000  "
      ]
     },
     "execution_count": 34,
     "metadata": {},
     "output_type": "execute_result"
    }
   ],
   "source": [
    "# Show\n",
    "df"
   ]
  },
  {
   "cell_type": "markdown",
   "id": "19cd2763-c2f4-40f1-8eb6-8d4b10f51dfc",
   "metadata": {},
   "source": [
    "We keep columns in data file that belong to the \"elements of interest\" (those with renaming)."
   ]
  },
  {
   "cell_type": "code",
   "execution_count": 35,
   "id": "8a980add-06d6-4b8d-96b0-be53678bd3f0",
   "metadata": {},
   "outputs": [],
   "source": [
    "# Filter elements of interest\n",
    "qcl_bulk = qcl_bulk[[col for col in df.index if col in qcl_bulk.columns]]\n",
    "fbsc_bulk = fbsc_bulk[[col for col in df.index if col in fbsc_bulk.columns]]"
   ]
  },
  {
   "cell_type": "markdown",
   "id": "3ab47d73-efc9-4aab-b175-86537cb76a2f",
   "metadata": {},
   "source": [
    "We modify the values of some elements, based on the new units and `unit_factor` values."
   ]
  },
  {
   "cell_type": "code",
   "execution_count": 36,
   "id": "2c30000a-40bd-4a97-a99e-775127cb49ac",
   "metadata": {},
   "outputs": [],
   "source": [
    "# Factor\n",
    "qcl_bulk = qcl_bulk.multiply(df.loc[qcl_bulk.columns, \"unit_factor\"])\n",
    "fbsc_bulk = fbsc_bulk.multiply(df.loc[fbsc_bulk.columns, \"unit_factor\"])"
   ]
  },
  {
   "cell_type": "markdown",
   "id": "24fee009-0f47-43ed-833a-c33d7507d8f3",
   "metadata": {},
   "source": [
    "Next, we merge codes into single codes:\n",
    "- **Yield**: `5417, 5420, 5424, 5410 ---> 5417` (QCL)\n",
    "- **Animals slaughtered**: `5320, 5321 ---> 5320` (QCL)\n",
    "\n",
    "As previously highlighted, all of them are mapped to the same (name, unit) tupple."
   ]
  },
  {
   "cell_type": "code",
   "execution_count": 37,
   "id": "45399108-669d-4771-a55e-84af45544cc4",
   "metadata": {},
   "outputs": [],
   "source": [
    "# QCL\n",
    "item_code_merge = {\n",
    "    5417: [5420, 5424, 5410],\n",
    "    5320: [5321],\n",
    "}\n",
    "items_drop = [ii for i in item_code_merge.values() for ii in i]\n",
    "for code_new, codes_old in item_code_merge.items():\n",
    "    for code_old in codes_old:\n",
    "        qcl_bulk[code_new] = qcl_bulk[code_new].fillna(qcl_bulk[code_old])\n",
    "qcl_bulk = qcl_bulk.drop(columns=items_drop)"
   ]
  },
  {
   "cell_type": "markdown",
   "id": "8398da7e-3511-413d-b94d-8bb965972acd",
   "metadata": {},
   "source": [
    "Finally, we rename the column names (so far element codes) to more prosaic element identifiers (`[element-name]__[unit]`)."
   ]
  },
  {
   "cell_type": "code",
   "execution_count": 38,
   "id": "06553ff8-56e3-4c03-8e01-ec36c172c637",
   "metadata": {},
   "outputs": [],
   "source": [
    "# Build element name\n",
    "a = df[\"name_standardised\"].apply(lambda x: x.lower().replace(\" \", \"_\")).astype(str)\n",
    "b = (\n",
    "    df[\"unit_name_standardised_with_conversion\"]\n",
    "    .apply(lambda x: x.lower().replace(\" \", \"_\"))\n",
    "    .astype(str)\n",
    ")\n",
    "df[\"element_name\"] = (a + \"__\" + b).tolist()\n",
    "# Obtain dict Element Code -> element name\n",
    "map_elem = df[\"element_name\"].to_dict()"
   ]
  },
  {
   "cell_type": "code",
   "execution_count": 39,
   "id": "aa7c11c6-d286-4c42-9612-105db99d32f3",
   "metadata": {},
   "outputs": [],
   "source": [
    "# Change columns names\n",
    "qcl_bulk = qcl_bulk.rename(columns=map_elem)\n",
    "fbsc_bulk = fbsc_bulk.rename(columns=map_elem)"
   ]
  },
  {
   "cell_type": "code",
   "execution_count": 40,
   "id": "e8ec1808-8715-4473-b129-98434c4eadd7",
   "metadata": {},
   "outputs": [
    {
     "data": {
      "text/html": [
       "<div>\n",
       "<style scoped>\n",
       "    .dataframe tbody tr th:only-of-type {\n",
       "        vertical-align: middle;\n",
       "    }\n",
       "\n",
       "    .dataframe tbody tr th {\n",
       "        vertical-align: top;\n",
       "    }\n",
       "\n",
       "    .dataframe thead th {\n",
       "        text-align: right;\n",
       "    }\n",
       "</style>\n",
       "<table border=\"1\" class=\"dataframe\">\n",
       "  <thead>\n",
       "    <tr style=\"text-align: right;\">\n",
       "      <th></th>\n",
       "      <th></th>\n",
       "      <th>Element Code</th>\n",
       "      <th>area_harvested__ha</th>\n",
       "      <th>producing_or_slaughtered_animals__animals</th>\n",
       "      <th>production__tonnes</th>\n",
       "      <th>yield__tonnes_per_ha</th>\n",
       "      <th>yield__kg_per_animal</th>\n",
       "    </tr>\n",
       "    <tr>\n",
       "      <th>Country</th>\n",
       "      <th>Item Code</th>\n",
       "      <th>Year</th>\n",
       "      <th></th>\n",
       "      <th></th>\n",
       "      <th></th>\n",
       "      <th></th>\n",
       "      <th></th>\n",
       "    </tr>\n",
       "  </thead>\n",
       "  <tbody>\n",
       "    <tr>\n",
       "      <th rowspan=\"5\" valign=\"top\">Afghanistan</th>\n",
       "      <th rowspan=\"5\" valign=\"top\">15</th>\n",
       "      <th>1961</th>\n",
       "      <td>2230000.0</td>\n",
       "      <td>&lt;NA&gt;</td>\n",
       "      <td>2279000.0</td>\n",
       "      <td>1.022</td>\n",
       "      <td>&lt;NA&gt;</td>\n",
       "    </tr>\n",
       "    <tr>\n",
       "      <th>1962</th>\n",
       "      <td>2341000.0</td>\n",
       "      <td>&lt;NA&gt;</td>\n",
       "      <td>2279000.0</td>\n",
       "      <td>0.9735</td>\n",
       "      <td>&lt;NA&gt;</td>\n",
       "    </tr>\n",
       "    <tr>\n",
       "      <th>1963</th>\n",
       "      <td>2341000.0</td>\n",
       "      <td>&lt;NA&gt;</td>\n",
       "      <td>1947000.0</td>\n",
       "      <td>0.8317</td>\n",
       "      <td>&lt;NA&gt;</td>\n",
       "    </tr>\n",
       "    <tr>\n",
       "      <th>1964</th>\n",
       "      <td>2345000.0</td>\n",
       "      <td>&lt;NA&gt;</td>\n",
       "      <td>2230000.0</td>\n",
       "      <td>0.951</td>\n",
       "      <td>&lt;NA&gt;</td>\n",
       "    </tr>\n",
       "    <tr>\n",
       "      <th>1965</th>\n",
       "      <td>2347000.0</td>\n",
       "      <td>&lt;NA&gt;</td>\n",
       "      <td>2282000.0</td>\n",
       "      <td>0.9723</td>\n",
       "      <td>&lt;NA&gt;</td>\n",
       "    </tr>\n",
       "  </tbody>\n",
       "</table>\n",
       "</div>"
      ],
      "text/plain": [
       "Element Code                area_harvested__ha  \\\n",
       "Country     Item Code Year                       \n",
       "Afghanistan 15        1961           2230000.0   \n",
       "                      1962           2341000.0   \n",
       "                      1963           2341000.0   \n",
       "                      1964           2345000.0   \n",
       "                      1965           2347000.0   \n",
       "\n",
       "Element Code                producing_or_slaughtered_animals__animals  \\\n",
       "Country     Item Code Year                                              \n",
       "Afghanistan 15        1961                                       <NA>   \n",
       "                      1962                                       <NA>   \n",
       "                      1963                                       <NA>   \n",
       "                      1964                                       <NA>   \n",
       "                      1965                                       <NA>   \n",
       "\n",
       "Element Code                production__tonnes  yield__tonnes_per_ha  \\\n",
       "Country     Item Code Year                                             \n",
       "Afghanistan 15        1961           2279000.0                 1.022   \n",
       "                      1962           2279000.0                0.9735   \n",
       "                      1963           1947000.0                0.8317   \n",
       "                      1964           2230000.0                 0.951   \n",
       "                      1965           2282000.0                0.9723   \n",
       "\n",
       "Element Code                yield__kg_per_animal  \n",
       "Country     Item Code Year                        \n",
       "Afghanistan 15        1961                  <NA>  \n",
       "                      1962                  <NA>  \n",
       "                      1963                  <NA>  \n",
       "                      1964                  <NA>  \n",
       "                      1965                  <NA>  "
      ]
     },
     "execution_count": 40,
     "metadata": {},
     "output_type": "execute_result"
    }
   ],
   "source": [
    "# Show dataframe with standardised element names\n",
    "qcl_bulk.head()"
   ]
  },
  {
   "cell_type": "markdown",
   "id": "1bbb1b3e-15ad-4638-b47e-552072672bbb",
   "metadata": {
    "tags": []
   },
   "source": [
    "### Item\n",
    "We now load the standardisation item table and remove `NaN` values (these belong to to-be-discarded items)."
   ]
  },
  {
   "cell_type": "code",
   "execution_count": 41,
   "id": "1b564750-ee04-48d2-85c3-7c0c00c351b3",
   "metadata": {},
   "outputs": [],
   "source": [
    "# Get standardised values\n",
    "df = pd.read_csv(PATH_MAP_ITEM, index_col=\"code\")\n",
    "map_item_std = df.dropna(subset=[\"name_standardised\"])[\"name_standardised\"].to_dict()"
   ]
  },
  {
   "cell_type": "markdown",
   "id": "b74daed2-02d1-492d-82de-f7be8265c42f",
   "metadata": {},
   "source": [
    "Briefly display first 10 mappings."
   ]
  },
  {
   "cell_type": "code",
   "execution_count": 42,
   "id": "fe7f4012-4b80-41a1-8cf0-d83d887d6014",
   "metadata": {},
   "outputs": [
    {
     "data": {
      "text/plain": [
       "{221: 'Almonds',\n",
       " 711: 'Herbs (e.g. fennel)',\n",
       " 515: 'Apples',\n",
       " 2617: 'Apples',\n",
       " 526: 'Apricots',\n",
       " 226: 'Areca nuts',\n",
       " 366: 'Artichokes',\n",
       " 367: 'Asparagus',\n",
       " 1107: 'Asses',\n",
       " 572: 'Avocados'}"
      ]
     },
     "execution_count": 42,
     "metadata": {},
     "output_type": "execute_result"
    }
   ],
   "source": [
    "{k: v for (k, v) in list(map_item_std.items())[:10]}"
   ]
  },
  {
   "cell_type": "markdown",
   "id": "378585ca-c87d-41f5-b3d2-432a307c5eb3",
   "metadata": {},
   "source": [
    "Next, we do a simple check of item name uniqueness. Note that we can have multiple codes assigned to the same `name_standardised`, as part of the standardisation process, BUT these should be in different datasets so we don't have any element conflicts."
   ]
  },
  {
   "cell_type": "code",
   "execution_count": 43,
   "id": "af18fe34-5475-4dd6-b285-2e2dd2d3ae04",
   "metadata": {},
   "outputs": [
    {
     "name": "stdout",
     "output_type": "stream",
     "text": [
      "There are 53 fused products:\n",
      " name\n",
      "Apples                   [515, 2617]\n",
      "Bananas                  [486, 2615]\n",
      "Barley                    [44, 2513]\n",
      "Beans, dry               [2546, 176]\n",
      "Cassava                  [125, 2532]\n",
      "Chillies and peppers     [689, 2641]\n",
      "Coconut oil              [2578, 252]\n",
      "Cottonseed               [329, 2559]\n",
      "Cottonseed oil           [2575, 331]\n",
      "Dates                    [577, 2619]\n",
      "Eggs                    [2949, 1783]\n",
      "Fruit                   [1738, 2919]\n",
      "Grapefruit               [507, 2613]\n",
      "Groundnut oil            [2572, 244]\n",
      "Groundnuts               [2556, 242]\n",
      "Honey                   [2745, 1182]\n",
      "Lemons and limes         [497, 2612]\n",
      "Maize                     [56, 2514]\n",
      "Maize oil                 [2582, 60]\n",
      "Meat, Total             [2943, 1765]\n",
      "Meat, poultry           [1808, 2734]\n",
      "Meat, sheep and goat    [2732, 1807]\n",
      "Milk                    [2948, 1780]\n",
      "Millet                    [79, 2517]\n",
      "Oilcrops                [1731, 2913]\n",
      "Olive oil                [261, 2580]\n",
      "Olives                   [260, 2563]\n",
      "Onions                   [2602, 403]\n",
      "Oranges                  [490, 2611]\n",
      "Palm kernel oil          [258, 2576]\n",
      "Palm kernels             [256, 2562]\n",
      "Peas, dry                [2547, 187]\n",
      "Pepper                   [2640, 687]\n",
      "Plantains                [2616, 489]\n",
      "Potatoes                 [116, 2531]\n",
      "Pulses                  [2911, 1726]\n",
      "Rice                      [2805, 27]\n",
      "Rye                       [71, 2515]\n",
      "Sesame oil               [290, 2579]\n",
      "Sesame seed              [289, 2561]\n",
      "Sorghum                   [83, 2518]\n",
      "Soybean oil              [237, 2571]\n",
      "Soybeans                 [2555, 236]\n",
      "Sugar beet               [157, 2537]\n",
      "Sugar cane               [156, 2536]\n",
      "Sugar crops             [2908, 1723]\n",
      "Sunflower oil            [268, 2573]\n",
      "Sunflower seed           [267, 2557]\n",
      "Sweet potatoes           [122, 2533]\n",
      "Tomatoes                 [388, 2601]\n",
      "Vegetables              [2918, 1735]\n",
      "Wheat                     [15, 2511]\n",
      "Yams                     [137, 2535]\n",
      "Name: index, dtype: object\n"
     ]
    }
   ],
   "source": [
    "# Show \"fused\" products from QCL and FBSC\n",
    "x = pd.DataFrame.from_dict(map_item_std, orient=\"index\", columns=[\"name\"]).reset_index()\n",
    "x = x.groupby(\"name\").index.unique().apply(list)\n",
    "x = x[x.apply(len) > 1]\n",
    "print(\"There are\", len(x), \"fused products:\\n\", x)"
   ]
  },
  {
   "cell_type": "code",
   "execution_count": 44,
   "id": "0eb99ea9-2457-4d22-ae23-52d15f71e4ad",
   "metadata": {},
   "outputs": [],
   "source": [
    "# Check `code` --> `name_standardised` is unique in each dataset\n",
    "assert (\n",
    "    df.dropna(subset=[\"name_standardised\"])\n",
    "    .reset_index()\n",
    "    .groupby([\"dataset\", \"name_standardised\"])\n",
    "    .code.nunique()\n",
    "    .max()\n",
    "    == 1\n",
    ")"
   ]
  },
  {
   "cell_type": "markdown",
   "id": "1fda3907-d942-4254-8189-58b1096fce16",
   "metadata": {},
   "source": [
    "Next, we filter out items that we are not interested in and add a new column (`Product`) with the standardised item names."
   ]
  },
  {
   "cell_type": "code",
   "execution_count": 45,
   "id": "2c68a20f-e46f-4aa8-8ba9-4ec010839468",
   "metadata": {},
   "outputs": [],
   "source": [
    "def standardise_product_names(df):\n",
    "    df = df.reset_index()\n",
    "    df = df[df[\"Item Code\"].isin(map_item_std)]\n",
    "    df.loc[:, \"Product\"] = df[\"Item Code\"].replace(map_item_std).tolist()\n",
    "    df = df.drop(columns=[\"Item Code\"])\n",
    "    # Set back index\n",
    "    df = df.set_index([\"Product\", \"Country\", \"Year\"])\n",
    "    return df"
   ]
  },
  {
   "cell_type": "code",
   "execution_count": 46,
   "id": "7c9e522f-7a57-44c3-918a-a519ca9464f8",
   "metadata": {},
   "outputs": [],
   "source": [
    "qcl_bulk = standardise_product_names(qcl_bulk)\n",
    "fbsc_bulk = standardise_product_names(fbsc_bulk)"
   ]
  },
  {
   "cell_type": "markdown",
   "id": "0ade0d82-150b-468b-960a-2aa3e4fedb7e",
   "metadata": {},
   "source": [
    "## 8. Dataset merge\n",
    "Here we add the final processing steps:\n",
    "- Merge datasets `QCL` + `FBSC`\n",
    "- Discard products (former items) that do not contain any value for the \"elements of interest\"."
   ]
  },
  {
   "cell_type": "code",
   "execution_count": 47,
   "id": "82898260-9b51-49bd-a23b-8a289abc7dcd",
   "metadata": {},
   "outputs": [],
   "source": [
    "# Merge datasets\n",
    "fe_bulk = pd.merge(qcl_bulk, fbsc_bulk, how=\"outer\", left_index=True, right_index=True)"
   ]
  },
  {
   "cell_type": "code",
   "execution_count": 48,
   "id": "9c473b45-e1b6-4f54-9746-2b8ccf0c7e7d",
   "metadata": {},
   "outputs": [
    {
     "name": "stdout",
     "output_type": "stream",
     "text": [
      "QCL // shape: (1027372, 5) / not-NaN: 2115132\n",
      "FBSC // shape: (573533, 11) / not-NaN: 4463526\n",
      "FE // shape: (1309818, 16) / not-NaN: 6578658\n"
     ]
    }
   ],
   "source": [
    "print(\"QCL // shape:\", qcl_bulk.shape, \"/ not-NaN:\", qcl_bulk.notna().sum().sum())\n",
    "print(\"FBSC // shape:\", fbsc_bulk.shape, \"/ not-NaN:\", fbsc_bulk.notna().sum().sum())\n",
    "print(\"FE // shape:\", fe_bulk.shape, \"/ not-NaN:\", fe_bulk.notna().sum().sum())"
   ]
  },
  {
   "cell_type": "code",
   "execution_count": 49,
   "id": "2adc3d98-4d00-45f3-97a1-c261bbf554b1",
   "metadata": {},
   "outputs": [
    {
     "name": "stdout",
     "output_type": "stream",
     "text": [
      "FE (after NaN-drop): (1125488, 16)\n"
     ]
    }
   ],
   "source": [
    "# Drop nulls (some products dont have any value for the elements of interest)\n",
    "fe_bulk = fe_bulk.dropna(how=\"all\")\n",
    "print(\"FE (after NaN-drop):\", fe_bulk.shape)"
   ]
  },
  {
   "cell_type": "code",
   "execution_count": 50,
   "id": "cd65eb08-512a-4656-9856-692689944978",
   "metadata": {},
   "outputs": [
    {
     "name": "stdout",
     "output_type": "stream",
     "text": [
      "(1125488, 16)\n"
     ]
    },
    {
     "data": {
      "text/html": [
       "<div>\n",
       "<style scoped>\n",
       "    .dataframe tbody tr th:only-of-type {\n",
       "        vertical-align: middle;\n",
       "    }\n",
       "\n",
       "    .dataframe tbody tr th {\n",
       "        vertical-align: top;\n",
       "    }\n",
       "\n",
       "    .dataframe thead th {\n",
       "        text-align: right;\n",
       "    }\n",
       "</style>\n",
       "<table border=\"1\" class=\"dataframe\">\n",
       "  <thead>\n",
       "    <tr style=\"text-align: right;\">\n",
       "      <th></th>\n",
       "      <th></th>\n",
       "      <th>Element Code</th>\n",
       "      <th>area_harvested__ha</th>\n",
       "      <th>producing_or_slaughtered_animals__animals</th>\n",
       "      <th>production__tonnes</th>\n",
       "      <th>yield__tonnes_per_ha</th>\n",
       "      <th>yield__kg_per_animal</th>\n",
       "      <th>domestic_supply__tonnes</th>\n",
       "      <th>exports__tonnes</th>\n",
       "      <th>food_available_for_consumption__fat_g_per_day_per_capita</th>\n",
       "      <th>feed__tonnes</th>\n",
       "      <th>food__tonnes</th>\n",
       "      <th>food_available_for_consumption__kcal_per_day_per_capita</th>\n",
       "      <th>food_available_for_consumption__kg_per_capita_per_year</th>\n",
       "      <th>imports__tonnes</th>\n",
       "      <th>waste_in_supply_chain__tonnes</th>\n",
       "      <th>other_uses__tonnes</th>\n",
       "      <th>food_available_for_consumption__protein_g_per_day_per_capita</th>\n",
       "    </tr>\n",
       "    <tr>\n",
       "      <th>Product</th>\n",
       "      <th>Country</th>\n",
       "      <th>Year</th>\n",
       "      <th></th>\n",
       "      <th></th>\n",
       "      <th></th>\n",
       "      <th></th>\n",
       "      <th></th>\n",
       "      <th></th>\n",
       "      <th></th>\n",
       "      <th></th>\n",
       "      <th></th>\n",
       "      <th></th>\n",
       "      <th></th>\n",
       "      <th></th>\n",
       "      <th></th>\n",
       "      <th></th>\n",
       "      <th></th>\n",
       "      <th></th>\n",
       "    </tr>\n",
       "  </thead>\n",
       "  <tbody>\n",
       "    <tr>\n",
       "      <th rowspan=\"5\" valign=\"top\">Almonds</th>\n",
       "      <th rowspan=\"5\" valign=\"top\">Afghanistan</th>\n",
       "      <th>1975</th>\n",
       "      <td>0.0</td>\n",
       "      <td>&lt;NA&gt;</td>\n",
       "      <td>0.0</td>\n",
       "      <td>&lt;NA&gt;</td>\n",
       "      <td>&lt;NA&gt;</td>\n",
       "      <td>NaN</td>\n",
       "      <td>NaN</td>\n",
       "      <td>NaN</td>\n",
       "      <td>NaN</td>\n",
       "      <td>NaN</td>\n",
       "      <td>NaN</td>\n",
       "      <td>NaN</td>\n",
       "      <td>NaN</td>\n",
       "      <td>NaN</td>\n",
       "      <td>NaN</td>\n",
       "      <td>NaN</td>\n",
       "    </tr>\n",
       "    <tr>\n",
       "      <th>1976</th>\n",
       "      <td>5900.0</td>\n",
       "      <td>&lt;NA&gt;</td>\n",
       "      <td>9800.0</td>\n",
       "      <td>1.661</td>\n",
       "      <td>&lt;NA&gt;</td>\n",
       "      <td>NaN</td>\n",
       "      <td>NaN</td>\n",
       "      <td>NaN</td>\n",
       "      <td>NaN</td>\n",
       "      <td>NaN</td>\n",
       "      <td>NaN</td>\n",
       "      <td>NaN</td>\n",
       "      <td>NaN</td>\n",
       "      <td>NaN</td>\n",
       "      <td>NaN</td>\n",
       "      <td>NaN</td>\n",
       "    </tr>\n",
       "    <tr>\n",
       "      <th>1977</th>\n",
       "      <td>6000.0</td>\n",
       "      <td>&lt;NA&gt;</td>\n",
       "      <td>9000.0</td>\n",
       "      <td>1.5</td>\n",
       "      <td>&lt;NA&gt;</td>\n",
       "      <td>NaN</td>\n",
       "      <td>NaN</td>\n",
       "      <td>NaN</td>\n",
       "      <td>NaN</td>\n",
       "      <td>NaN</td>\n",
       "      <td>NaN</td>\n",
       "      <td>NaN</td>\n",
       "      <td>NaN</td>\n",
       "      <td>NaN</td>\n",
       "      <td>NaN</td>\n",
       "      <td>NaN</td>\n",
       "    </tr>\n",
       "    <tr>\n",
       "      <th>1978</th>\n",
       "      <td>6000.0</td>\n",
       "      <td>&lt;NA&gt;</td>\n",
       "      <td>12000.0</td>\n",
       "      <td>2.0</td>\n",
       "      <td>&lt;NA&gt;</td>\n",
       "      <td>NaN</td>\n",
       "      <td>NaN</td>\n",
       "      <td>NaN</td>\n",
       "      <td>NaN</td>\n",
       "      <td>NaN</td>\n",
       "      <td>NaN</td>\n",
       "      <td>NaN</td>\n",
       "      <td>NaN</td>\n",
       "      <td>NaN</td>\n",
       "      <td>NaN</td>\n",
       "      <td>NaN</td>\n",
       "    </tr>\n",
       "    <tr>\n",
       "      <th>1979</th>\n",
       "      <td>6000.0</td>\n",
       "      <td>&lt;NA&gt;</td>\n",
       "      <td>10500.0</td>\n",
       "      <td>1.75</td>\n",
       "      <td>&lt;NA&gt;</td>\n",
       "      <td>NaN</td>\n",
       "      <td>NaN</td>\n",
       "      <td>NaN</td>\n",
       "      <td>NaN</td>\n",
       "      <td>NaN</td>\n",
       "      <td>NaN</td>\n",
       "      <td>NaN</td>\n",
       "      <td>NaN</td>\n",
       "      <td>NaN</td>\n",
       "      <td>NaN</td>\n",
       "      <td>NaN</td>\n",
       "    </tr>\n",
       "  </tbody>\n",
       "</table>\n",
       "</div>"
      ],
      "text/plain": [
       "Element Code              area_harvested__ha  \\\n",
       "Product Country     Year                       \n",
       "Almonds Afghanistan 1975                 0.0   \n",
       "                    1976              5900.0   \n",
       "                    1977              6000.0   \n",
       "                    1978              6000.0   \n",
       "                    1979              6000.0   \n",
       "\n",
       "Element Code              producing_or_slaughtered_animals__animals  \\\n",
       "Product Country     Year                                              \n",
       "Almonds Afghanistan 1975                                       <NA>   \n",
       "                    1976                                       <NA>   \n",
       "                    1977                                       <NA>   \n",
       "                    1978                                       <NA>   \n",
       "                    1979                                       <NA>   \n",
       "\n",
       "Element Code              production__tonnes  yield__tonnes_per_ha  \\\n",
       "Product Country     Year                                             \n",
       "Almonds Afghanistan 1975                 0.0                  <NA>   \n",
       "                    1976              9800.0                 1.661   \n",
       "                    1977              9000.0                   1.5   \n",
       "                    1978             12000.0                   2.0   \n",
       "                    1979             10500.0                  1.75   \n",
       "\n",
       "Element Code              yield__kg_per_animal  domestic_supply__tonnes  \\\n",
       "Product Country     Year                                                  \n",
       "Almonds Afghanistan 1975                  <NA>                      NaN   \n",
       "                    1976                  <NA>                      NaN   \n",
       "                    1977                  <NA>                      NaN   \n",
       "                    1978                  <NA>                      NaN   \n",
       "                    1979                  <NA>                      NaN   \n",
       "\n",
       "Element Code              exports__tonnes  \\\n",
       "Product Country     Year                    \n",
       "Almonds Afghanistan 1975              NaN   \n",
       "                    1976              NaN   \n",
       "                    1977              NaN   \n",
       "                    1978              NaN   \n",
       "                    1979              NaN   \n",
       "\n",
       "Element Code              food_available_for_consumption__fat_g_per_day_per_capita  \\\n",
       "Product Country     Year                                                             \n",
       "Almonds Afghanistan 1975                                                NaN          \n",
       "                    1976                                                NaN          \n",
       "                    1977                                                NaN          \n",
       "                    1978                                                NaN          \n",
       "                    1979                                                NaN          \n",
       "\n",
       "Element Code              feed__tonnes  food__tonnes  \\\n",
       "Product Country     Year                               \n",
       "Almonds Afghanistan 1975           NaN           NaN   \n",
       "                    1976           NaN           NaN   \n",
       "                    1977           NaN           NaN   \n",
       "                    1978           NaN           NaN   \n",
       "                    1979           NaN           NaN   \n",
       "\n",
       "Element Code              food_available_for_consumption__kcal_per_day_per_capita  \\\n",
       "Product Country     Year                                                            \n",
       "Almonds Afghanistan 1975                                                NaN         \n",
       "                    1976                                                NaN         \n",
       "                    1977                                                NaN         \n",
       "                    1978                                                NaN         \n",
       "                    1979                                                NaN         \n",
       "\n",
       "Element Code              food_available_for_consumption__kg_per_capita_per_year  \\\n",
       "Product Country     Year                                                           \n",
       "Almonds Afghanistan 1975                                                NaN        \n",
       "                    1976                                                NaN        \n",
       "                    1977                                                NaN        \n",
       "                    1978                                                NaN        \n",
       "                    1979                                                NaN        \n",
       "\n",
       "Element Code              imports__tonnes  waste_in_supply_chain__tonnes  \\\n",
       "Product Country     Year                                                   \n",
       "Almonds Afghanistan 1975              NaN                            NaN   \n",
       "                    1976              NaN                            NaN   \n",
       "                    1977              NaN                            NaN   \n",
       "                    1978              NaN                            NaN   \n",
       "                    1979              NaN                            NaN   \n",
       "\n",
       "Element Code              other_uses__tonnes  \\\n",
       "Product Country     Year                       \n",
       "Almonds Afghanistan 1975                 NaN   \n",
       "                    1976                 NaN   \n",
       "                    1977                 NaN   \n",
       "                    1978                 NaN   \n",
       "                    1979                 NaN   \n",
       "\n",
       "Element Code              food_available_for_consumption__protein_g_per_day_per_capita  \n",
       "Product Country     Year                                                                \n",
       "Almonds Afghanistan 1975                                                NaN             \n",
       "                    1976                                                NaN             \n",
       "                    1977                                                NaN             \n",
       "                    1978                                                NaN             \n",
       "                    1979                                                NaN             "
      ]
     },
     "execution_count": 50,
     "metadata": {},
     "output_type": "execute_result"
    }
   ],
   "source": [
    "print(fe_bulk.shape)\n",
    "fe_bulk.head()"
   ]
  },
  {
   "cell_type": "markdown",
   "id": "af9654f5-26e9-479d-adc5-4c09635aa138",
   "metadata": {},
   "source": [
    "## 9. Post processing\n",
    "In this section we obtain the metrics for all regions and add per-capita counterparts. So far, we include income groups by the World Bank, continents as defined by OWID and World. The values for these entities are obtained using only data present in the dataset (i.e. some countries may be missing).\n",
    "\n",
    "\n",
    "- Normalize metrics\n",
    "    - Add population column\n",
    "    - Weight columns\n",
    "    - Rename columns\n",
    "- Obtain metrics for regions\n",
    "- Add population column, including regions"
   ]
  },
  {
   "cell_type": "code",
   "execution_count": 51,
   "id": "0bae636c-79f3-44bc-ad2f-f4f3fe4c4744",
   "metadata": {},
   "outputs": [],
   "source": [
    "fe_bulk = fe_bulk.reset_index()"
   ]
  },
  {
   "cell_type": "markdown",
   "id": "60f1ddf1-9be4-4d57-aadc-56abb723e603",
   "metadata": {},
   "source": [
    "### 9.0 Build population table"
   ]
  },
  {
   "cell_type": "code",
   "execution_count": 68,
   "id": "0ca60743-e9d7-4750-aa8e-a0b0c96c31b4",
   "metadata": {},
   "outputs": [],
   "source": [
    "# Load population dataset\n",
    "indicators = catalog.Dataset(PATH_DATASET_POPULATION)\n",
    "population = indicators[\"population\"][[\"population\"]].reset_index()"
   ]
  },
  {
   "cell_type": "code",
   "execution_count": 69,
   "id": "c09e9e9e-2e93-4981-bf01-8b9f312f8e14",
   "metadata": {},
   "outputs": [],
   "source": [
    "# Load from gapminder (former countries)\n",
    "# more info: https://github.com/open-numbers/ddf--gapminder--systema_globalis/blob/master/ddf--entities--geo--country.csv\n",
    "gapminder = catalog.Dataset(PATH_DATASET_POPULATION_GAPMINDER)\n",
    "population_gap = (\n",
    "    gapminder[\"total_population_with_projections\"]\n",
    "    .reset_index()\n",
    "    .rename(columns={\"time\": \"year\", \"total_population_with_projections\": \"population\"})\n",
    ")\n",
    "\n",
    "gapminder_country_codes = {\n",
    "    \"ussr\": \"USSR\",\n",
    "    \"cheslo\": \"Czechoslovakia\",\n",
    "    \"yug\": \"Yugoslavia\",\n",
    "    \"eri_a_eth\": \"Eritrea and Ethiopia\",\n",
    "    \"scg\": \"Serbia and Montenegro\",\n",
    "}\n",
    "former_states = list(gapminder_country_codes.values())\n",
    "\n",
    "population_gap = population_gap[population_gap.geo.isin(gapminder_country_codes)]\n",
    "population_gap = population_gap.assign(\n",
    "    country=population_gap.geo.map(gapminder_country_codes)\n",
    ").drop(columns=[\"geo\"])\n",
    "\n",
    "# Filter years (former states only for past interval, not overlapping with current countries)\n",
    "date_window = (\n",
    "    fe_bulk[fe_bulk.Country.isin(former_states)]\n",
    "    .groupby(\"Country\")\n",
    "    .Year.agg([\"min\", \"max\"])\n",
    "    .to_dict(orient=\"index\")\n",
    ")\n",
    "population_ = []\n",
    "for state, dates in date_window.items():\n",
    "    df_ = population_gap[\n",
    "        (population_gap.country == state)\n",
    "        & (population_gap.year >= dates[\"min\"])\n",
    "        & (population_gap.year <= dates[\"max\"])\n",
    "    ]\n",
    "    population_.append(df_)\n",
    "population_gap = pd.concat(population_, ignore_index=True)\n",
    "\n",
    "# Index\n",
    "population_gap = population_gap.set_index([\"country\", \"year\"], verify_integrity=True)"
   ]
  },
  {
   "cell_type": "code",
   "execution_count": 70,
   "id": "62663bf9-7af0-4bd2-8a5f-52581ff04765",
   "metadata": {},
   "outputs": [
    {
     "data": {
      "text/plain": [
       "{'Czechoslovakia': {'min': 1961, 'max': 1992},\n",
       " 'Eritrea and Ethiopia': {'min': 1961, 'max': 1992},\n",
       " 'Serbia and Montenegro': {'min': 1992, 'max': 2005},\n",
       " 'USSR': {'min': 1961, 'max': 1991},\n",
       " 'Yugoslavia': {'min': 1961, 'max': 1991}}"
      ]
     },
     "execution_count": 70,
     "metadata": {},
     "output_type": "execute_result"
    }
   ],
   "source": [
    "date_window"
   ]
  },
  {
   "cell_type": "code",
   "execution_count": 82,
   "id": "1f8f457b-3bfb-43f4-b459-d8ba0f3f861a",
   "metadata": {},
   "outputs": [],
   "source": [
    "# Ensure no overlapping\n",
    "former_to_current = {\n",
    "    \"USSR\": [\n",
    "        \"Lithuania\",\n",
    "        \"Georgia\",\n",
    "        \"Estonia\",\n",
    "        \"Latvia\",\n",
    "        \"Ukraine\",\n",
    "        \"Moldova\",\n",
    "        \"Kyrgyzstan\",\n",
    "        \"Uzbekistan\",\n",
    "        \"Tajikistan\",\n",
    "        \"Armenia\",\n",
    "        \"Azerbaijan\",\n",
    "        \"Turkmenistan\",\n",
    "        \"Belarus\",\n",
    "        \"Russia\",\n",
    "        \"Kazakhstan\",\n",
    "    ],\n",
    "    \"Yugoslavia\": [\n",
    "        \"Croatia\",\n",
    "        \"Slovenia\",\n",
    "        \"North Macedonia\",\n",
    "        \"Bosnia and Herzegovina\",\n",
    "        \"Serbia\",\n",
    "        \"Montenegro\",\n",
    "    ],\n",
    "    \"Czechoslovakia\": [\"Czechia\", \"Slovakia\"],\n",
    "    \"Eritrea and Ethiopia\": [\"Ethiopia\", \"Eritrea\"],\n",
    "    \"Serbia and Montenegro\": [\"Serbia\", \"Montenegro\"],\n",
    "    \"Sudan (former)\": [\"Sudan\", \"South Sudan\"],\n",
    "}\n",
    "former_states = list(former_to_current.keys())\n",
    "\n",
    "for former, current in former_to_current.items():\n",
    "    msk = fe_bulk.Country.isin(current)\n",
    "    current_start = fe_bulk.loc[msk, \"Year\"].min()\n",
    "    former_end = fe_bulk.loc[fe_bulk.Country == former, \"Year\"].max()\n",
    "    assert former_end < current_start"
   ]
  },
  {
   "cell_type": "code",
   "execution_count": 72,
   "id": "209ea546-9789-44a6-9d09-f29d1d60d86d",
   "metadata": {},
   "outputs": [],
   "source": [
    "# Estimate Sudan (former)\n",
    "msk = population.country.isin([\"South Sudan\", \"Sudan\"]) & (population.year < 2012)\n",
    "pop_sudan = (\n",
    "    population[msk]\n",
    "    .groupby(\"year\", as_index=False)\n",
    "    .population.sum()\n",
    "    .assign(country=\"Sudan (former)\")\n",
    ")\n",
    "population = pd.concat([pop_sudan, population], ignore_index=True)\n",
    "date_window = date_window | {\"Sudan (former)\": {\"min\": 1961, \"max\": 2011}}"
   ]
  },
  {
   "cell_type": "code",
   "execution_count": 73,
   "id": "d50a6f82-1f1d-4ef9-9225-442673fc5284",
   "metadata": {},
   "outputs": [],
   "source": [
    "# Filter current states that did not exist\n",
    "msk = None\n",
    "for former, current in former_to_current.items():\n",
    "    if msk is None:\n",
    "        msk = population.country.isin(former_to_current[former]) & (\n",
    "            population.year <= date_window[former][\"max\"]\n",
    "        )\n",
    "    else:\n",
    "        msk |= population.country.isin(former_to_current[former]) & (\n",
    "            population.year <= date_window[former][\"max\"]\n",
    "        )\n",
    "population = population[\n",
    "    (population.year >= fe_bulk.Year.min()) & (population.year <= fe_bulk.Year.max())\n",
    "].astype({\"year\": int})\n",
    "population = population.loc[~msk]\n",
    "population = population.set_index([\"country\", \"year\"], verify_integrity=True)"
   ]
  },
  {
   "cell_type": "code",
   "execution_count": 74,
   "id": "b5965830-847d-41cd-a17c-558b89702c07",
   "metadata": {},
   "outputs": [],
   "source": [
    "# Merge\n",
    "population = pd.concat([population, population_gap])"
   ]
  },
  {
   "cell_type": "markdown",
   "id": "25152bc8-df03-4938-8e80-10b4720105dd",
   "metadata": {},
   "source": [
    "### 9.1 Normalize metrics\n",
    "In this section, we undo the _per_capita_ part of some metrics. We do this so we can aggregate countries into regions and later normalize by the total population."
   ]
  },
  {
   "cell_type": "markdown",
   "id": "2fc8970b-d2ac-4c8b-b811-33bc7e7fcd8a",
   "metadata": {},
   "source": [
    "#### Add population column"
   ]
  },
  {
   "cell_type": "code",
   "execution_count": 75,
   "id": "0f7949cc-12df-4ae3-bd8a-82c0c2f151f7",
   "metadata": {},
   "outputs": [
    {
     "name": "stdout",
     "output_type": "stream",
     "text": [
      "Missing 12 countries: {'Bermuda', 'Polynesia', 'Niue', 'Tokelau', 'Oceania', 'French Polynesia', 'Africa', 'Cook Islands', 'Asia', 'Europe', 'Macao', 'Melanesia'}\n"
     ]
    }
   ],
   "source": [
    "countries_pop = set(population.index.levels[0])\n",
    "countries = set(fe_bulk.Country)\n",
    "print(\n",
    "    f\"Missing {len(countries_missing := countries.difference(countries_pop))} countries: {countries_missing}\"\n",
    ")\n",
    "if len(countries_missing) > 17:\n",
    "    raise ValueError(\"More countries missing than expected!\")"
   ]
  },
  {
   "cell_type": "code",
   "execution_count": 76,
   "id": "9d52801a-e665-424f-a21d-c03b65b5bed7",
   "metadata": {},
   "outputs": [
    {
     "name": "stdout",
     "output_type": "stream",
     "text": [
      "Decrease of 7% rows\n"
     ]
    }
   ],
   "source": [
    "shape_first = fe_bulk.shape[0]\n",
    "fe_bulk = fe_bulk.merge(\n",
    "    population, left_on=[\"Country\", \"Year\"], right_on=[\"country\", \"year\"]\n",
    ")\n",
    "print(f\"Decrease of {round(100*(1-fe_bulk.shape[0]/shape_first))}% rows\")"
   ]
  },
  {
   "cell_type": "markdown",
   "id": "1db1b96f-a0b4-478a-9a70-7037b2f386c0",
   "metadata": {},
   "source": [
    "#### Weight columns"
   ]
  },
  {
   "cell_type": "code",
   "execution_count": 77,
   "id": "7b391137-2642-45f7-bedc-34dbc8a33710",
   "metadata": {},
   "outputs": [],
   "source": [
    "# Define which columns will be weighted\n",
    "keyword = \"_per_capita\"\n",
    "columns_per_capita = {\n",
    "    col: col.replace(keyword, \"\") for col in fe_bulk.columns if keyword in col\n",
    "}\n",
    "# Normalize and rename columns\n",
    "fe_bulk[list(columns_per_capita)] = fe_bulk[list(columns_per_capita)].multiply(\n",
    "    fe_bulk[\"population\"], axis=0\n",
    ")\n",
    "fe_bulk = fe_bulk.rename(columns=columns_per_capita).drop(columns=[\"population\"])"
   ]
  },
  {
   "cell_type": "markdown",
   "id": "4c69f72c-a51b-4162-b2de-d255159a9ccb",
   "metadata": {},
   "source": [
    "### 9.2 Add regions\n",
    "Here we obtain the metrics for each region (continents, income groups and World). We avoid computing the aggregates for metrics relative to land use and animal use, as for these we would need the number of land and animals used per country. We can estimate `yield__tonnes_per_ha`, with other available metrics but will leave `yield__kg_per_animal` as NaN for all regions."
   ]
  },
  {
   "cell_type": "markdown",
   "id": "bb2b5b4b-1537-4782-9350-9f2e95069e00",
   "metadata": {},
   "source": [
    "#### Create mappings Country ---> Region"
   ]
  },
  {
   "cell_type": "code",
   "execution_count": 78,
   "id": "02921d82-0454-4c1a-837a-0c615b7b94a0",
   "metadata": {},
   "outputs": [],
   "source": [
    "# Load region map\n",
    "with open(PATH_REGIONS, \"r\") as f:\n",
    "    regions = json.load(f)\n",
    "regions_all = [\"World\"] + list(regions)\n",
    "\n",
    "income = [\n",
    "    \"High-income countries\",\n",
    "    \"Low-income countries\",\n",
    "    \"Lower-middle-income countries\",\n",
    "    \"Upper-middle-income countries\",\n",
    "]\n",
    "continents = [\n",
    "    \"Antarctica\",\n",
    "    \"Africa\",\n",
    "    \"Asia\",\n",
    "    \"Europe\",\n",
    "    \"South America\",\n",
    "    \"North America\",\n",
    "    \"Oceania\",\n",
    "]\n",
    "country2continent = {vv: k for k, v in regions.items() for vv in v if k in continents}\n",
    "country2income = {vv: k for k, v in regions.items() for vv in v if k in income}"
   ]
  },
  {
   "cell_type": "code",
   "execution_count": 86,
   "id": "2c9ce6ef-8a61-418d-a047-bad4ca0e10b6",
   "metadata": {},
   "outputs": [],
   "source": [
    "# Ensure former states presence\n",
    "country2continent[\"Sudan (former)\"] = \"Africa\"\n",
    "country2income = {\n",
    "    **country2income,\n",
    "    \"Czechoslovakia\": \"High-income countries\",\n",
    "    \"Eritrea and Ethiopia\": \"Low-income countries\",\n",
    "    \"Serbia and Montenegro\": \"Upper-middle-income countries\",\n",
    "    \"Yugoslavia\": \"Upper-middle-income countries\",\n",
    "    \"USSR\": \"Upper-middle-income countries\",\n",
    "    \"Sudan (former)\": \"Low-income countries\",\n",
    "}\n",
    "for state in former_states:\n",
    "    assert state in country2continent"
   ]
  },
  {
   "cell_type": "markdown",
   "id": "246dc5b3-7fc8-4a8b-8e62-e805ce43ad9f",
   "metadata": {},
   "source": [
    "#### Remove default regions (if any)"
   ]
  },
  {
   "cell_type": "code",
   "execution_count": 87,
   "id": "d2b4a30b-fba6-434b-84ed-bf556ae74146",
   "metadata": {},
   "outputs": [],
   "source": [
    "fe_bulk = fe_bulk.loc[~fe_bulk.Country.isin(regions_all)].reset_index(drop=True)"
   ]
  },
  {
   "cell_type": "markdown",
   "id": "96e13768-a605-4216-a709-a70dbc4e1240",
   "metadata": {},
   "source": [
    "#### Function and variables to get metrics for regions\n",
    "Definition of functions recurrently needed and some variables"
   ]
  },
  {
   "cell_type": "code",
   "execution_count": 88,
   "id": "980cecc4-5c3b-4c09-90b9-5e2d5873eda8",
   "metadata": {},
   "outputs": [],
   "source": [
    "def get_df_regions(df, mapping, column_location, columns_index, columns_aggregate=None):\n",
    "    # Continents\n",
    "    df_regions = df.assign(**{column_location: df[column_location].replace(mapping)})\n",
    "    if columns_aggregate is not None:\n",
    "        df_regions = df_regions.groupby(columns_index, as_index=False)[\n",
    "            columns_aggregate\n",
    "        ].sum(min_count=1)\n",
    "    else:\n",
    "        df_regions = df_regions.groupby(columns_index, as_index=False).sum(min_count=1)\n",
    "    # Only keep new regions\n",
    "    msk = df_regions[column_location].isin(set(mapping.values()))\n",
    "    df_regions = df_regions.loc[msk]\n",
    "    print(f\"{round(100*df_regions.shape[0]/df.shape[0], 2)}% increase in rows\")\n",
    "    return df_regions"
   ]
  },
  {
   "cell_type": "code",
   "execution_count": 89,
   "id": "c4eca576-ca7d-44cd-8def-9f5232a93fa7",
   "metadata": {},
   "outputs": [],
   "source": [
    "columns_index = [\"Product\", \"Country\", \"Year\"]\n",
    "columns_exclude = columns_index + [\"yield__tonnes_per_ha\", \"yield__kg_per_animal\"]\n",
    "columns_aggregate = [col for col in fe_bulk.columns if col not in columns_exclude]"
   ]
  },
  {
   "cell_type": "markdown",
   "id": "39df5e37-d7a7-453c-8bb2-1fe2ceafe4be",
   "metadata": {},
   "source": [
    "#### Estimate region data"
   ]
  },
  {
   "cell_type": "code",
   "execution_count": 90,
   "id": "2c9543c5-f007-4c23-adda-ee9caa9ced11",
   "metadata": {},
   "outputs": [
    {
     "name": "stdout",
     "output_type": "stream",
     "text": [
      "1.04% increase in rows\n",
      "5.66% increase in rows\n",
      "3.94% increase in rows\n"
     ]
    }
   ],
   "source": [
    "# World\n",
    "fe_bulk_world = (\n",
    "    fe_bulk.groupby([\"Product\", \"Year\"], as_index=False)[columns_aggregate]\n",
    "    .sum(min_count=1)\n",
    "    .assign(Country=\"World\")\n",
    ")\n",
    "print(f\"{round(100*fe_bulk_world.shape[0]/fe_bulk.shape[0], 2)}% increase in rows\")\n",
    "# Continents\n",
    "fe_bulk_continent = get_df_regions(\n",
    "    fe_bulk, country2continent, \"Country\", columns_index, columns_aggregate\n",
    ")\n",
    "# Income groups\n",
    "fe_bulk_income = get_df_regions(\n",
    "    fe_bulk, country2income, \"Country\", columns_index, columns_aggregate\n",
    ")"
   ]
  },
  {
   "cell_type": "markdown",
   "id": "bccc8d2f-61a5-4daa-b11b-7e8fef8a6400",
   "metadata": {},
   "source": [
    "#### Merge"
   ]
  },
  {
   "cell_type": "code",
   "execution_count": 91,
   "id": "cba5d1b2-7c08-4cf3-ab72-7215e9dc14d2",
   "metadata": {},
   "outputs": [],
   "source": [
    "# Concatenate\n",
    "fe_bulk = pd.concat([fe_bulk, fe_bulk_world, fe_bulk_continent, fe_bulk_income])"
   ]
  },
  {
   "cell_type": "markdown",
   "id": "ab7dfc2c-26a1-4f3d-9f2f-5fac605f205d",
   "metadata": {},
   "source": [
    "#### Add missing metrics for regions"
   ]
  },
  {
   "cell_type": "code",
   "execution_count": 92,
   "id": "a24ccaa0-36c4-4c25-9991-a51fb5a04827",
   "metadata": {},
   "outputs": [],
   "source": [
    "msk = (\n",
    "    (fe_bulk.Country.isin(regions_all))\n",
    "    & (fe_bulk[\"area_harvested__ha\"] != 0)\n",
    "    & (~fe_bulk[\"area_harvested__ha\"].isna())\n",
    ")\n",
    "fe_bulk.loc[msk, \"yield__tonnes_per_ha\"] = (\n",
    "    fe_bulk.loc[msk, \"production__tonnes\"] / fe_bulk.loc[msk, \"area_harvested__ha\"]\n",
    ")"
   ]
  },
  {
   "cell_type": "markdown",
   "id": "8ea01c77-bf46-4853-88d3-c0e69b93a600",
   "metadata": {},
   "source": [
    "### 9.3 Population\n",
    "Next, we will add a column with the population of each country (or region). Note that some regions are not present in the population dataset, hence we first need to add these."
   ]
  },
  {
   "cell_type": "code",
   "execution_count": 93,
   "id": "ca4b04f6-2bdf-42cb-95c7-f30b21db6158",
   "metadata": {},
   "outputs": [],
   "source": [
    "# Load population dataset\n",
    "population = population.reset_index()"
   ]
  },
  {
   "cell_type": "markdown",
   "id": "bfacedc6-ca87-4ffb-8d27-9c49fe6aa929",
   "metadata": {},
   "source": [
    "#### Obtain continent and income group populations"
   ]
  },
  {
   "cell_type": "code",
   "execution_count": 94,
   "id": "0ba04bbd-8650-4dbe-9797-4512f599ae7d",
   "metadata": {},
   "outputs": [
    {
     "name": "stdout",
     "output_type": "stream",
     "text": [
      "3.11% increase in rows\n",
      "2.07% increase in rows\n"
     ]
    }
   ],
   "source": [
    "population_continent = get_df_regions(\n",
    "    population, country2continent, \"country\", [\"country\", \"year\"]\n",
    ")\n",
    "population_income = get_df_regions(\n",
    "    population, country2income, \"country\", [\"country\", \"year\"]\n",
    ")"
   ]
  },
  {
   "cell_type": "code",
   "execution_count": 95,
   "id": "45bb6107-13df-43ce-b7d2-be58a8a56fdd",
   "metadata": {},
   "outputs": [],
   "source": [
    "# Concatenate\n",
    "population = pd.concat([population, population_continent, population_income])\n",
    "population = population.set_index([\"country\", \"year\"])"
   ]
  },
  {
   "cell_type": "markdown",
   "id": "0a5e627d-9d24-450b-887c-b032c7c8ab58",
   "metadata": {},
   "source": [
    "#### Add `population` column"
   ]
  },
  {
   "cell_type": "code",
   "execution_count": 96,
   "id": "38505ff2-c5ff-4c29-8a19-57231652ef2d",
   "metadata": {},
   "outputs": [],
   "source": [
    "fe_bulk = fe_bulk.merge(population, left_on=[\"Country\", \"Year\"], right_index=True)"
   ]
  },
  {
   "cell_type": "markdown",
   "id": "86c32576-5034-4999-9704-33977288dd99",
   "metadata": {},
   "source": [
    "### 9.4 Remove former countries\n",
    "We want the values reported for former states to account for regions (continents, income groups), but not that they appear on themselves on the explorer. Therefore, we eliminate these from the final dataset."
   ]
  },
  {
   "cell_type": "code",
   "execution_count": 103,
   "id": "3b752d48-3e7d-4b63-8903-47c9d5f7d638",
   "metadata": {},
   "outputs": [],
   "source": [
    "fe_bulk = fe_bulk[~fe_bulk.Country.isin(former_states)]"
   ]
  },
  {
   "cell_type": "markdown",
   "id": "235e4733-e137-476a-920b-bf0bfc97d0e6",
   "metadata": {
    "tags": []
   },
   "source": [
    "#### Set index"
   ]
  },
  {
   "cell_type": "code",
   "execution_count": 104,
   "id": "a2eae09b-a6f3-4b4e-94e8-bbbb35cd4ed1",
   "metadata": {},
   "outputs": [],
   "source": [
    "fe_bulk = fe_bulk.set_index(\n",
    "    [\"Product\", \"Country\", \"Year\"], verify_integrity=True\n",
    ").sort_index()"
   ]
  },
  {
   "cell_type": "markdown",
   "id": "cd15470f-e366-458c-92e1-a0c94896ab72",
   "metadata": {},
   "source": [
    "### 9.5 Value checks"
   ]
  },
  {
   "cell_type": "markdown",
   "id": "accc91b5-f61e-4fc7-b16b-21b3703f10f2",
   "metadata": {},
   "source": [
    "#### Remove values for _food_available_for_consumption__kcal_per_day\n",
    "We remove values for metric `food_available_for_consumption__kcal_per_day` whenever they seem wrong. Our criteria is to find out if for a given `(item,country)` this metric only has few values. We define _few_ as below a pre-defined threshold `th`.\n",
    "\n",
    "Note, here removing means assigning `NaN` to this metric for the rows considered."
   ]
  },
  {
   "cell_type": "code",
   "execution_count": 105,
   "id": "0425a7d7-c007-4513-a58f-5cde33af7711",
   "metadata": {},
   "outputs": [
    {
     "data": {
      "text/plain": [
       "58    0.486072\n",
       "1     0.619855\n",
       "27    0.676723\n",
       "2     0.697060\n",
       "26    0.713928\n",
       "19    0.727518\n",
       "13    0.740434\n",
       "5     0.751904\n",
       "3     0.762988\n",
       "7     0.772819\n",
       "Name: food_available_for_consumption__kcal_per_day, dtype: float64"
      ]
     },
     "execution_count": 105,
     "metadata": {},
     "output_type": "execute_result"
    }
   ],
   "source": [
    "# Overview of the distribution of different metric values\n",
    "res = fe_bulk.groupby(\n",
    "    [fe_bulk.index.get_level_values(0), fe_bulk.index.get_level_values(1)]\n",
    ").food_available_for_consumption__kcal_per_day.nunique()\n",
    "res[res != 0].value_counts(normalize=True).cumsum().head(10)"
   ]
  },
  {
   "cell_type": "code",
   "execution_count": 106,
   "id": "9427afb2-b765-4019-9056-af14ab3ed983",
   "metadata": {},
   "outputs": [],
   "source": [
    "# Get valid (item,country)\n",
    "threshold = 5\n",
    "idx_keep = res[res < threshold].index\n",
    "# Assign NaNs\n",
    "index_2 = pd.Index([i[:2] for i in fe_bulk.index])\n",
    "msk = index_2.isin(idx_keep)\n",
    "fe_bulk.loc[msk, \"food_available_for_consumption__kcal_per_day\"] = pd.NA"
   ]
  },
  {
   "cell_type": "markdown",
   "id": "c06c6d80-3919-4afb-bd25-88807c9da820",
   "metadata": {},
   "source": [
    "#### Remove outliers\n",
    "Remove outliers (i.e. subsitute the values with `NaN`)."
   ]
  },
  {
   "cell_type": "code",
   "execution_count": 107,
   "id": "f8042ec6-6c13-44b4-89e3-00d9e1b5c668",
   "metadata": {},
   "outputs": [],
   "source": [
    "# Define for each column (metric) which indices should be 'removed'\n",
    "with open(PATH_OUTLIERS, \"r\") as f:\n",
    "    outliers = json.load(f)"
   ]
  },
  {
   "cell_type": "code",
   "execution_count": 108,
   "id": "3ac4f91a-308d-4d1c-b2f5-041cfe7c4c9b",
   "metadata": {},
   "outputs": [],
   "source": [
    "for datapoints in outliers:\n",
    "    fe_bulk.loc[datapoints[\"index\"], datapoints[\"column\"]] = pd.NA"
   ]
  },
  {
   "cell_type": "markdown",
   "id": "8c6e0b77-5ff9-44ce-ad83-2360db944703",
   "metadata": {},
   "source": [
    "#### Remove all-zero timeseries\n",
    "Here we detect all `(country, product, metric)` which timeseries is all zeroes and set it to `NaN`. This way, this metric will be ignored in Grapher for the given Country and product."
   ]
  },
  {
   "cell_type": "code",
   "execution_count": 109,
   "id": "6dc60a5c-3e0c-471a-928b-e7aaf54d48bf",
   "metadata": {},
   "outputs": [],
   "source": [
    "# Unpivot\n",
    "x = fe_bulk.melt(var_name=\"metric\", ignore_index=False).reset_index()"
   ]
  },
  {
   "cell_type": "code",
   "execution_count": 110,
   "id": "d2ddc833-e60d-4788-ba6b-ba112ec4ff73",
   "metadata": {},
   "outputs": [],
   "source": [
    "# Find (product, country, metric) with all zeros (or NaNs)\n",
    "res = x.groupby([\"Product\", \"Country\", \"metric\"]).agg(\n",
    "    value_sum=(\"value\", \"sum\"), value_nunique=(\"value\", \"nunique\")\n",
    ")\n",
    "msk = (\n",
    "    (res[\"value_nunique\"] == 1)\n",
    "    & (res[\"value_sum\"] == 0)\n",
    "    & (res.index.get_level_values(2) != \"population\")\n",
    ")\n",
    "idx = msk[msk == True].index"
   ]
  },
  {
   "cell_type": "code",
   "execution_count": 111,
   "id": "e351c361-4d87-4ee2-8ce7-a223fafb7980",
   "metadata": {},
   "outputs": [],
   "source": [
    "# Replace with NaNs\n",
    "xx = x.set_index([\"Product\", \"Country\", \"metric\"])\n",
    "xx.loc[idx, \"value\"] = np.nan\n",
    "xx = xx.reset_index()"
   ]
  },
  {
   "cell_type": "code",
   "execution_count": 112,
   "id": "a7af8931-42cb-4f62-8d4e-d0c3369b855a",
   "metadata": {},
   "outputs": [],
   "source": [
    "# Pivot back\n",
    "fe_bulk = xx.pivot([\"Product\", \"Country\", \"Year\"], \"metric\", \"value\").astype(\n",
    "    fe_bulk.dtypes\n",
    ")"
   ]
  },
  {
   "cell_type": "markdown",
   "id": "21b30b62-ddb4-4ed5-bc00-5ba6b71f6ba4",
   "metadata": {
    "tags": []
   },
   "source": [
    "## 10. Export\n",
    "Time to export the shining brand new dataset!\n",
    "\n",
    "We export it in two flavours: bulk and file-per-product formats. The former is the standard format, while the later is intended to power OWID tools such as explorers."
   ]
  },
  {
   "cell_type": "markdown",
   "id": "161da3a4-3733-4ee8-878c-c66813ce9cba",
   "metadata": {},
   "source": [
    "### Define metadata\n",
    "Prior to export, we need to create the metadata content for this dataset. It basically propagates the metadata from its building pieces (QCL so far).\n",
    "\n",
    "For this dataset, we use namespace `explorers`, which is intended for datasets aimed at powering explorers (this may change)."
   ]
  },
  {
   "cell_type": "code",
   "execution_count": 113,
   "id": "5e11a2df-9018-4db6-a741-c8e23f7fcc74",
   "metadata": {},
   "outputs": [],
   "source": [
    "from owid.catalog.meta import DatasetMeta"
   ]
  },
  {
   "cell_type": "code",
   "execution_count": 114,
   "id": "063d7187-b99d-4c17-a726-d9e44a59806b",
   "metadata": {},
   "outputs": [],
   "source": [
    "# Initialize dataset\n",
    "fe_garden = catalog.Dataset.create_empty(dest_dir)\n",
    "fe_garden.metadata = DatasetMeta(\n",
    "    namespace=\"explorers\",\n",
    "    short_name=\"food_explorer\",\n",
    "    title=\"Food Explorer: Livestock & Crops, Food Balances - FAO (2017, 2021)\",\n",
    "    description=(\n",
    "        \"This dataset has been created by Our World in Data, merging existing FAOstat datsets. In particular, we have used 'Crops and livestock products' (QCL) and 'Food Balances' (FBSH and FBS) datasets. Each row contains all the \"\n",
    "        \"metrics for a specific combination of (Country, Product, Year). The metrics may come from different datasets.\"\n",
    "    ),\n",
    "    sources=qcl_garden.metadata.sources + fbsc_garden.metadata.sources,\n",
    "    licenses=qcl_garden.metadata.licenses + fbsc_garden.metadata.licenses,\n",
    ")\n",
    "fe_garden.save()"
   ]
  },
  {
   "cell_type": "markdown",
   "id": "d7d450d2-5169-4c10-8d12-fa825608a6a9",
   "metadata": {},
   "source": [
    "### In bulk"
   ]
  },
  {
   "cell_type": "markdown",
   "id": "22417050-7cd1-40cf-8762-9037241afd11",
   "metadata": {},
   "source": [
    "Preserve the bulk file for QA or manual analysis."
   ]
  },
  {
   "cell_type": "markdown",
   "id": "f1a52c5d-62d0-4962-b3ec-04d668baa984",
   "metadata": {},
   "source": [
    "#### Create metadata for fields\n",
    "Here we create the content for `field` metadata field, which contains metric-specific information."
   ]
  },
  {
   "cell_type": "code",
   "execution_count": 115,
   "id": "ae944be0-59ce-4023-b29a-d8c5b26d62d1",
   "metadata": {},
   "outputs": [],
   "source": [
    "# Load table from dataset containing Element information\n",
    "qcl_elem = qcl_garden[\"meta_qcl_element\"]\n",
    "fbsc_elem = fbsc_garden[\"meta_fbs_element\"]\n",
    "qcl_elem[\"name_std\"] = qcl_elem.index.map(map_elem)\n",
    "fbsc_elem[\"name_std\"] = fbsc_elem.index.map(map_elem)\n",
    "element_metadata = pd.concat(\n",
    "    [qcl_elem.dropna().assign(dataset=\"QCL\"), fbsc_elem.dropna().assign(dataset=\"FBS\")]\n",
    ")\n",
    "# Final patch\n",
    "patch = {\n",
    "    \"food_available_for_consumption__fat_g_per_day_per_capita\": \"food_available_for_consumption__fat_g_per_day\",\n",
    "    \"food_available_for_consumption__protein_g_per_day_per_capita\": \"food_available_for_consumption__protein_g_per_day\",\n",
    "    \"food_available_for_consumption__kcal_per_day_per_capita\": \"food_available_for_consumption__kcal_per_day\",\n",
    "    \"food_available_for_consumption__kg_per_capita_per_year\": \"food_available_for_consumption__kg_per_year\",\n",
    "}\n",
    "element_metadata[\"name_std\"] = element_metadata[\"name_std\"].replace(patch)"
   ]
  },
  {
   "cell_type": "code",
   "execution_count": 116,
   "id": "40c05c05-d929-430b-b9f0-be1beb1e5a53",
   "metadata": {},
   "outputs": [],
   "source": [
    "from operator import itemgetter"
   ]
  },
  {
   "cell_type": "code",
   "execution_count": 117,
   "id": "fedd935a-95b3-4433-b7ae-401e2f96f0a1",
   "metadata": {},
   "outputs": [],
   "source": [
    "# Fill 'easy' fields\n",
    "def _get_source_ids(dataset_code):\n",
    "    res = [\n",
    "        i\n",
    "        for i, source in enumerate(fe_garden.metadata.sources)\n",
    "        if f\"{dataset_code}\" in source.owid_data_url\n",
    "    ]\n",
    "    return res\n",
    "\n",
    "\n",
    "def _build_description_extra(fe_bulk, col):\n",
    "    num_products = len(set(fe_bulk[col].dropna().index.get_level_values(0)))\n",
    "    num_countries = len(set(fe_bulk[col].dropna().index.get_level_values(1)))\n",
    "    description = f\"This metric is present in {num_products} products and {num_countries} countries.\"\n",
    "    return description\n",
    "\n",
    "\n",
    "def _get_sources_and_licenses(dataset_code):\n",
    "    source_ids = _get_source_ids(dataset_code)\n",
    "    sources = [fe_garden.metadata.sources[i] for i in source_ids]\n",
    "    licenses = [fe_garden.metadata.licenses[i] for i in source_ids]\n",
    "    return {\"sources\": sources, \"licenses\": licenses}\n",
    "\n",
    "\n",
    "fields = {}\n",
    "columns = list(fe_bulk.columns) + fe_bulk.index.names\n",
    "for col in columns:\n",
    "    msk = element_metadata.name_std == col\n",
    "    if msk.sum() == 0:\n",
    "        msk = element_metadata.name_std == f\"{col}_per_capita\"\n",
    "\n",
    "    if msk.sum() == 1:\n",
    "        dataset_code = element_metadata.loc[msk, \"dataset\"].item()\n",
    "        description = element_metadata.loc[msk, \"Description\"].item()\n",
    "        fields[col] = catalog.VariableMeta(\n",
    "            title=\"\",\n",
    "            description=description,\n",
    "            **_get_sources_and_licenses(dataset_code),\n",
    "            display={\"description_extra\": _build_description_extra(fe_bulk, col)},\n",
    "        )\n",
    "    elif msk.sum() > 1:\n",
    "        dataset_codes = element_metadata.loc[msk, \"dataset\"]\n",
    "        if dataset_codes.nunique() != 1:\n",
    "            raise ValueError(\n",
    "                f\"Merged metrics should all be from the same dataset! Check {col}\"\n",
    "            )\n",
    "        dataset_code = dataset_codes.unique()[0]\n",
    "        fields[col] = catalog.VariableMeta(\n",
    "            title=\"\",\n",
    "            description=\"\",\n",
    "            **_get_sources_and_licenses(dataset_code),\n",
    "            display={\"description_extra\": _build_description_extra(fe_bulk, col)},\n",
    "        )\n",
    "    else:\n",
    "        fields[col] = catalog.VariableMeta()"
   ]
  },
  {
   "cell_type": "code",
   "execution_count": 118,
   "id": "2c06fdf2-4ae4-4eff-aae2-76d000fcf1a1",
   "metadata": {},
   "outputs": [],
   "source": [
    "# Check missing fields\n",
    "cols_missing = [f for f, v in fields.items() if v.description == \"\"]\n",
    "assert cols_missing == [\n",
    "    \"exports__tonnes\",\n",
    "    \"food_available_for_consumption__fat_g_per_day\",\n",
    "    \"food_available_for_consumption__kcal_per_day\",\n",
    "    \"food_available_for_consumption__kg_per_year\",\n",
    "    \"food_available_for_consumption__protein_g_per_day\",\n",
    "    \"imports__tonnes\",\n",
    "    \"producing_or_slaughtered_animals__animals\",\n",
    "    \"yield__kg_per_animal\",\n",
    "]"
   ]
  },
  {
   "cell_type": "code",
   "execution_count": 119,
   "id": "c14b53f3-2589-4094-8198-982664ff7873",
   "metadata": {},
   "outputs": [],
   "source": [
    "# fields['exports__tonnes']['description'] =\n",
    "# fields['imports__tonnes']['description'] =\n",
    "# fields['producing_or_slaughtered_animals__animals']['description'] =\n",
    "# fields['yield__kg_per_animal']['description'] = \"Yield is measured as the quantity produced per unit area of land used to grow it.\"\n",
    "# fields['food_available_for_consumption__fat_g_per_day']['description'] =\n",
    "# fields['food_available_for_consumption__kcal_per_day']['description'] =\n",
    "# fields['food_available_for_consumption__kg_per_year']['description'] =\n",
    "# fields['food_available_for_consumption__protein_g_per_day']['description'] ="
   ]
  },
  {
   "cell_type": "markdown",
   "id": "ef940581-a4c0-4b37-8260-c398109916bf",
   "metadata": {},
   "source": [
    "#### Create table"
   ]
  },
  {
   "cell_type": "code",
   "execution_count": 120,
   "id": "97bedabf-2d57-4789-9466-a66ac2f28aba",
   "metadata": {},
   "outputs": [],
   "source": [
    "t = catalog.Table(fe_bulk)\n",
    "t.metadata.short_name = \"bulk\"\n",
    "t._fields = fields\n",
    "fe_garden.add(t)"
   ]
  },
  {
   "cell_type": "markdown",
   "id": "5c34ed58-fec7-4179-adb7-5459e230542d",
   "metadata": {},
   "source": [
    "### One file per product"
   ]
  },
  {
   "cell_type": "markdown",
   "id": "c6ec2879-2494-4ed8-969b-15d3fbd1c52b",
   "metadata": {},
   "source": [
    "To work in an explorer, we need to add the table in CSV format. To make it more scalable for use, we want\n",
    "to split that dataset into many small files, one per product."
   ]
  },
  {
   "cell_type": "code",
   "execution_count": 121,
   "id": "f2711acb-c700-4ce9-89f5-6fbbf7c9a4f6",
   "metadata": {},
   "outputs": [
    {
     "name": "stdout",
     "output_type": "stream",
     "text": [
      "Almonds --> almonds.csv\n",
      "Animal fats --> animal_fats.csv\n",
      "Apples --> apples.csv\n",
      "Apricots --> apricots.csv\n",
      "Areca nuts --> areca_nuts.csv\n",
      "Artichokes --> artichokes.csv\n",
      "Asparagus --> asparagus.csv\n",
      "Avocados --> avocados.csv\n",
      "Bananas --> bananas.csv\n",
      "Barley --> barley.csv\n",
      "Beans, dry --> beans_dry.csv\n",
      "Beans, green --> beans_green.csv\n",
      "Beeswax --> beeswax.csv\n",
      "Blueberries --> blueberries.csv\n",
      "Brazil nuts, with shell --> brazil_nuts_with_shell.csv\n",
      "Broad beans --> broad_beans.csv\n",
      "Buckwheat --> buckwheat.csv\n",
      "Buffalo hides --> buffalo_hides.csv\n",
      "Butter and Ghee --> butter_and_ghee.csv\n",
      "Cabbages --> cabbages.csv\n",
      "Canary seed --> canary_seed.csv\n",
      "Carrots and turnips --> carrots_and_turnips.csv\n",
      "Cashew nuts --> cashew_nuts.csv\n",
      "Cassava --> cassava.csv\n",
      "Castor oil seed --> castor_oil_seed.csv\n",
      "Cattle hides --> cattle_hides.csv\n",
      "Cauliflowers and broccoli --> cauliflowers_and_broccoli.csv\n",
      "Cereals --> cereals.csv\n",
      "Cheese --> cheese.csv\n",
      "Cherries --> cherries.csv\n",
      "Chestnut --> chestnut.csv\n",
      "Chickpeas --> chickpeas.csv\n",
      "Chillies and peppers --> chillies_and_peppers.csv\n",
      "Citrus Fruit --> citrus_fruit.csv\n",
      "Cocoa beans --> cocoa_beans.csv\n",
      "Coconut oil --> coconut_oil.csv\n",
      "Coconuts --> coconuts.csv\n",
      "Coffee, green --> coffee_green.csv\n",
      "Cotton --> cotton.csv\n",
      "Cottonseed --> cottonseed.csv\n",
      "Cottonseed oil --> cottonseed_oil.csv\n",
      "Cow peas --> cow_peas.csv\n",
      "Cranberries --> cranberries.csv\n",
      "Cucumbers and gherkins --> cucumbers_and_gherkins.csv\n",
      "Currants --> currants.csv\n",
      "Dates --> dates.csv\n",
      "Eggplants --> eggplants.csv\n",
      "Eggs --> eggs.csv\n",
      "Eggs from hens --> eggs_from_hens.csv\n",
      "Eggs from other birds (excl. hens) --> eggs_from_other_birds_excl_hens.csv\n",
      "Fat, buffaloes --> fat_buffaloes.csv\n",
      "Fat, camels --> fat_camels.csv\n",
      "Fat, cattle --> fat_cattle.csv\n",
      "Fat, goats --> fat_goats.csv\n",
      "Fat, pigs --> fat_pigs.csv\n",
      "Fat, sheep --> fat_sheep.csv\n",
      "Fibre crops --> fibre_crops.csv\n",
      "Fish and seafood --> fish_and_seafood.csv\n",
      "Flax fibre --> flax_fibre.csv\n",
      "Fruit --> fruit.csv\n",
      "Garlic --> garlic.csv\n",
      "Grapefruit --> grapefruit.csv\n",
      "Grapes --> grapes.csv\n",
      "Green maize --> green_maize.csv\n",
      "Groundnut oil --> groundnut_oil.csv\n",
      "Groundnuts --> groundnuts.csv\n",
      "Hazelnuts --> hazelnuts.csv\n",
      "Hempseed --> hempseed.csv\n",
      "Herbs (e.g. fennel) --> herbs_eg_fennel.csv\n",
      "Honey --> honey.csv\n",
      "Jute --> jute.csv\n",
      "Karite nuts --> karite_nuts.csv\n",
      "Kiwi --> kiwi.csv\n",
      "Kola nuts --> kola_nuts.csv\n",
      "Leeks --> leeks.csv\n",
      "Lemons and limes --> lemons_and_limes.csv\n",
      "Lentils --> lentils.csv\n",
      "Lettuce --> lettuce.csv\n",
      "Linseed --> linseed.csv\n",
      "Linseed oil --> linseed_oil.csv\n",
      "Maize --> maize.csv\n",
      "Maize oil --> maize_oil.csv\n",
      "Mangoes --> mangoes.csv\n",
      "Margarine --> margarine.csv\n",
      "Meat, Total --> meat_total.csv\n",
      "Meat, ass --> meat_ass.csv\n",
      "Meat, beef --> meat_beef.csv\n",
      "Meat, beef and buffalo --> meat_beef_and_buffalo.csv\n",
      "Meat, buffalo --> meat_buffalo.csv\n",
      "Meat, camel --> meat_camel.csv\n",
      "Meat, chicken --> meat_chicken.csv\n",
      "Meat, duck --> meat_duck.csv\n",
      "Meat, game --> meat_game.csv\n",
      "Meat, goat --> meat_goat.csv\n",
      "Meat, goose and guinea fowl --> meat_goose_and_guinea_fowl.csv\n",
      "Meat, horse --> meat_horse.csv\n",
      "Meat, lamb and mutton --> meat_lamb_and_mutton.csv\n",
      "Meat, mule --> meat_mule.csv\n",
      "Meat, pig --> meat_pig.csv\n",
      "Meat, poultry --> meat_poultry.csv\n",
      "Meat, rabbit --> meat_rabbit.csv\n",
      "Meat, sheep and goat --> meat_sheep_and_goat.csv\n",
      "Meat, turkey --> meat_turkey.csv\n",
      "Melon --> melon.csv\n",
      "Melonseed --> melonseed.csv\n",
      "Milk --> milk.csv\n",
      "Millet --> millet.csv\n",
      "Mixed grains --> mixed_grains.csv\n",
      "Molasses --> molasses.csv\n",
      "Mushrooms --> mushrooms.csv\n",
      "Mustard seed --> mustard_seed.csv\n",
      "Nuts --> nuts.csv\n",
      "Oats --> oats.csv\n",
      "Offals --> offals.csv\n",
      "Offals, buffaloes --> offals_buffaloes.csv\n",
      "Offals, camels --> offals_camels.csv\n",
      "Offals, cattle --> offals_cattle.csv\n",
      "Offals, goats --> offals_goats.csv\n",
      "Offals, horses --> offals_horses.csv\n",
      "Offals, pigs --> offals_pigs.csv\n",
      "Offals, sheep --> offals_sheep.csv\n",
      "Oilcrops --> oilcrops.csv\n",
      "Oilcrops, Cake Equivalent --> oilcrops_cake_equivalent.csv\n",
      "Oilcrops, Oil Equivalent --> oilcrops_oil_equivalent.csv\n",
      "Okra --> okra.csv\n",
      "Olive oil --> olive_oil.csv\n",
      "Olives --> olives.csv\n",
      "Onions --> onions.csv\n",
      "Oranges --> oranges.csv\n",
      "Palm fruit oil --> palm_fruit_oil.csv\n",
      "Palm kernel oil --> palm_kernel_oil.csv\n",
      "Palm kernels --> palm_kernels.csv\n",
      "Palm oil --> palm_oil.csv\n",
      "Papayas --> papayas.csv\n",
      "Peaches and nectarines --> peaches_and_nectarines.csv\n",
      "Pears --> pears.csv\n",
      "Peas, dry --> peas_dry.csv\n",
      "Peas, green --> peas_green.csv\n",
      "Pepper --> pepper.csv\n",
      "Pigeon peas --> pigeon_peas.csv\n",
      "Pineapples --> pineapples.csv\n",
      "Pistachios --> pistachios.csv\n",
      "Plantains --> plantains.csv\n",
      "Plums --> plums.csv\n",
      "Poppy seeds --> poppy_seeds.csv\n",
      "Pork --> pork.csv\n",
      "Potatoes --> potatoes.csv\n",
      "Pulses --> pulses.csv\n",
      "Quinoa --> quinoa.csv\n",
      "Rapeseed --> rapeseed.csv\n",
      "Rapeseed oil --> rapeseed_oil.csv\n",
      "Raspberries --> raspberries.csv\n",
      "Rice --> rice.csv\n",
      "Roots and tubers --> roots_and_tubers.csv\n",
      "Rye --> rye.csv\n",
      "Safflower oil --> safflower_oil.csv\n",
      "Safflower seed --> safflower_seed.csv\n",
      "Seed cotton --> seed_cotton.csv\n",
      "Sesame oil --> sesame_oil.csv\n",
      "Sesame seed --> sesame_seed.csv\n",
      "Silk --> silk.csv\n",
      "Skins, goat --> skins_goat.csv\n",
      "Skins, sheep --> skins_sheep.csv\n",
      "Sorghum --> sorghum.csv\n",
      "Soybean oil --> soybean_oil.csv\n",
      "Soybeans --> soybeans.csv\n",
      "Spinach --> spinach.csv\n",
      "Strawberries --> strawberries.csv\n",
      "String beans --> string_beans.csv\n",
      "Sugar (raw) --> sugar_raw.csv\n",
      "Sugar beet --> sugar_beet.csv\n",
      "Sugar cane --> sugar_cane.csv\n",
      "Sugar crops --> sugar_crops.csv\n",
      "Sunflower oil --> sunflower_oil.csv\n",
      "Sunflower seed --> sunflower_seed.csv\n",
      "Sweet potatoes --> sweet_potatoes.csv\n",
      "Tangerines --> tangerines.csv\n",
      "Tea --> tea.csv\n",
      "Tobacco --> tobacco.csv\n",
      "Tomatoes --> tomatoes.csv\n",
      "Total --> total.csv\n",
      "Treenuts --> treenuts.csv\n",
      "Vegetables --> vegetables.csv\n",
      "Walnuts --> walnuts.csv\n",
      "Watermelons --> watermelons.csv\n",
      "Wheat --> wheat.csv\n",
      "Whey --> whey.csv\n",
      "Wine --> wine.csv\n",
      "Wool --> wool.csv\n",
      "Yams --> yams.csv\n"
     ]
    }
   ],
   "source": [
    "def to_short_name(raw):\n",
    "    return (\n",
    "        raw.lower()\n",
    "        .replace(\" \", \"_\")\n",
    "        .replace(\",\", \"\")\n",
    "        .replace(\"(\", \"\")\n",
    "        .replace(\")\", \"\")\n",
    "        .replace(\".\", \"\")\n",
    "    )\n",
    "\n",
    "\n",
    "# the index contains values like \"Asses\" which have already been filtered out from the data,\n",
    "# let's remove them\n",
    "fe_bulk.index = fe_bulk.index.remove_unused_levels()\n",
    "\n",
    "for product in sorted(fe_bulk.index.levels[0]):\n",
    "    short_name = to_short_name(product)\n",
    "    print(f\"{product} --> {short_name}.csv\")\n",
    "\n",
    "    t = catalog.Table(fe_bulk.loc[[product]])\n",
    "    t.metadata.short_name = short_name\n",
    "    fe_garden.add(t, format=\"csv\")  # <-- note we choose CSV format here"
   ]
  },
  {
   "cell_type": "markdown",
   "id": "95e70d0c-bdd4-4ea5-acb2-6a4ae475d872",
   "metadata": {},
   "source": [
    "Let's check that the biggest files are still an ok size for an explorer."
   ]
  },
  {
   "cell_type": "code",
   "execution_count": 122,
   "id": "0042dcdd-2cc2-460b-9523-e3167bcaef2b",
   "metadata": {},
   "outputs": [
    {
     "name": "stdout",
     "output_type": "stream",
     "text": [
      "1,8M\t/tmp/food_explorer/vegetables.csv\n",
      "1,7M\t/tmp/food_explorer/oilcrops.csv\n",
      "1,7M\t/tmp/food_explorer/meat_poultry.csv\n",
      "1,7M\t/tmp/food_explorer/fruit.csv\n",
      "1,6M\t/tmp/food_explorer/wheat.csv\n",
      "1,6M\t/tmp/food_explorer/rice.csv\n",
      "1,6M\t/tmp/food_explorer/pulses.csv\n",
      "1,6M\t/tmp/food_explorer/potatoes.csv\n",
      "1,6M\t/tmp/food_explorer/milk.csv\n",
      "1,6M\t/tmp/food_explorer/meat_sheep_and_goat.csv\n"
     ]
    }
   ],
   "source": [
    "!du -hs {dest_dir}/*.csv | sort -hr | head -n 10"
   ]
  },
  {
   "cell_type": "markdown",
   "id": "6b391ff9-3fc7-44ce-a292-0b0c83e792d5",
   "metadata": {},
   "source": [
    "The biggest is 1.8MB (csv), we should be ok ✓ "
   ]
  },
  {
   "cell_type": "code",
   "execution_count": null,
   "id": "f1135eb4-d0a2-4dfb-9e5a-881ff643c2a2",
   "metadata": {},
   "outputs": [],
   "source": [
    "# Comparison with previous (live) export\n",
    "# product = 'vegetables'\n",
    "# df_new = pd.read_csv(f'/tmp/food_explorer/{product}.csv')\n",
    "# df_old = pd.read_csv(f'https://owid-catalog.nyc3.digitaloceanspaces.com/garden/explorers/2021/food_explorer/{product}.csv')"
   ]
  },
  {
   "cell_type": "code",
   "execution_count": 133,
   "id": "24302bf7-a762-4b5b-b9f6-787f6fac58e0",
   "metadata": {},
   "outputs": [
    {
     "data": {
      "text/plain": [
       "<AxesSubplot:xlabel='Year'>"
      ]
     },
     "execution_count": 133,
     "metadata": {},
     "output_type": "execute_result"
    },
    {
     "data": {
      "image/png": "[encoded data removed]",
      "text/plain": [
       "<Figure size 432x288 with 1 Axes>"
      ]
     },
     "metadata": {
      "needs_background": "light"
     },
     "output_type": "display_data"
    }
   ],
   "source": [
    "(\n",
    "    fe_bulk.loc[(\"Total\", \"Europe\"), \"food_available_for_consumption__kcal_per_day\"]\n",
    "    / fe_bulk.loc[(\"Total\", \"Europe\"), \"population\"]\n",
    ").plot()"
   ]
  },
  {
   "cell_type": "code",
   "execution_count": 134,
   "id": "52cb5292-6edc-4093-8c23-d2abbf2d056d",
   "metadata": {},
   "outputs": [
    {
     "data": {
      "text/plain": [
       "<AxesSubplot:xlabel='Year'>"
      ]
     },
     "execution_count": 134,
     "metadata": {},
     "output_type": "execute_result"
    },
    {
     "data": {
      "image/png": "[encoded data removed]",
      "text/plain": [
       "<Figure size 432x288 with 1 Axes>"
      ]
     },
     "metadata": {
      "needs_background": "light"
     },
     "output_type": "display_data"
    }
   ],
   "source": [
    "(\n",
    "    fe_bulk.loc[\n",
    "        (\"Total\", \"Low-income countries\"),\n",
    "        \"food_available_for_consumption__kcal_per_day\",\n",
    "    ]\n",
    "    / fe_bulk.loc[(\"Total\", \"Low-income countries\"), \"population\"]\n",
    ").plot()"
   ]
  },
  {
   "cell_type": "code",
   "execution_count": 135,
   "id": "54f2d00b-dc43-47e2-a682-b84baf48d293",
   "metadata": {},
   "outputs": [
    {
     "data": {
      "text/plain": [
       "<AxesSubplot:xlabel='Year'>"
      ]
     },
     "execution_count": 135,
     "metadata": {},
     "output_type": "execute_result"
    },
    {
     "data": {
      "image/png": "[encoded data removed]",
      "text/plain": [
       "<Figure size 432x288 with 1 Axes>"
      ]
     },
     "metadata": {
      "needs_background": "light"
     },
     "output_type": "display_data"
    }
   ],
   "source": [
    "(\n",
    "    fe_bulk.loc[\n",
    "        (\"Total\", \"Upper-middle-income countries\"),\n",
    "        \"food_available_for_consumption__kcal_per_day\",\n",
    "    ]\n",
    "    / fe_bulk.loc[(\"Total\", \"Upper-middle-income countries\"), \"population\"]\n",
    ").plot()"
   ]
  },
  {
   "cell_type": "code",
   "execution_count": null,
   "id": "3eac373a-7ebe-47df-8e47-e2d1eb612c85",
   "metadata": {},
   "outputs": [],
   "source": []
  }
 ],
 "metadata": {
  "kernelspec": {
   "display_name": "Python 3",
   "language": "python",
   "name": "python3"
  },
  "language_info": {
   "codemirror_mode": {
    "name": "ipython",
    "version": 3
   },
   "file_extension": ".py",
   "mimetype": "text/x-python",
   "name": "python",
   "nbconvert_exporter": "python",
   "pygments_lexer": "ipython3",
   "version": "3.9.5"
  }
 },
 "nbformat": 4,
 "nbformat_minor": 5
}
