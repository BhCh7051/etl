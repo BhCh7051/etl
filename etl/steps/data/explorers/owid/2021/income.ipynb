{
 "cells": [
  {
   "cell_type": "markdown",
   "id": "5af7f32d-ce34-40d5-a0b4-4ffdf763b54e",
   "metadata": {},
   "source": [
    "Compute for former states"
   ]
  },
  {
   "cell_type": "code",
   "execution_count": null,
   "id": "587afd0d-2d43-41b2-a253-912700aebd0f",
   "metadata": {},
   "outputs": [],
   "source": [
    "# gdp deflator\n",
    "# data.worldbank.org/indicator/NY.GDP.DEFL.ZS\n",
    "p = 120.1\n",
    "p1 = 111.3\n",
    "p2 = 104.5\n",
    "\n",
    "# local inflation\n",
    "# https://data.worldbank.org/indicator/PA.NUS.FCRF\n",
    "e = 76.81\n",
    "e1 = 77.74\n",
    "e2 = 72.08\n",
    "\n",
    "# gni (billion)\n",
    "# https://data.worldbank.org/indicator/NY.GNP.MKTP.CN\n",
    "y = 1561.80\n",
    "y1 = 1492.96\n",
    "y2 = 1341.49\n",
    "\n",
    "# pop (million)\n",
    "n = 38.92834"
   ]
  },
  {
   "cell_type": "code",
   "execution_count": null,
   "id": "25c004f8-2e1f-4628-bd35-3bcae1419894",
   "metadata": {},
   "outputs": [],
   "source": [
    "ps = 329.6\n",
    "ps1 = 333.9\n",
    "ps2 = 338.2\n",
    "\n",
    "ps = 100\n",
    "ps1 = 105\n",
    "ps2 = 110\n",
    "\n",
    "\n",
    "def gnipc(p, p1, p2, e, e1, e2, y, n):\n",
    "    # rate of inflation\n",
    "    r1 = p / p1\n",
    "    r2 = p1 / p2\n",
    "\n",
    "    # exchange rate atlas\n",
    "    ea = 1 / 3 * (e + e1 * (r1 / rs1) + e2 * (r2 / rs2))\n",
    "\n",
    "    # gni absolute atlas\n",
    "    ya = y / ea\n",
    "\n",
    "    # gni per capita atlas\n",
    "    return ya / n * 1000"
   ]
  },
  {
   "cell_type": "code",
   "execution_count": null,
   "id": "4b039adf-47c8-4035-8977-3581c22b8ed6",
   "metadata": {},
   "outputs": [],
   "source": [
    "gnipc(p, p1, p2, e, e1, e2, y, n)"
   ]
  },
  {
   "cell_type": "code",
   "execution_count": null,
   "id": "9f6d4164-099e-464b-bb3e-9ca802f92d5d",
   "metadata": {},
   "outputs": [],
   "source": [
    "32.91 / 15"
   ]
  },
  {
   "cell_type": "code",
   "execution_count": null,
   "id": "6adfed4a-3570-4c77-808b-7ab32b1a36cd",
   "metadata": {},
   "outputs": [],
   "source": [
    "20, 116.14"
   ]
  },
  {
   "cell_type": "code",
   "execution_count": null,
   "id": "8a108428-6248-4db9-9a7d-5d98f40edf1a",
   "metadata": {},
   "outputs": [],
   "source": []
  },
  {
   "cell_type": "code",
   "execution_count": null,
   "id": "80ea98e7-fc24-412b-98b1-5a7aef00c856",
   "metadata": {},
   "outputs": [],
   "source": [
    "# pop\n",
    "p = 38.92834"
   ]
  },
  {
   "cell_type": "code",
   "execution_count": null,
   "id": "79f166a7-b8e8-47dd-99ab-42fb037301ba",
   "metadata": {},
   "outputs": [],
   "source": [
    "32.91 / 15"
   ]
  },
  {
   "cell_type": "code",
   "execution_count": null,
   "id": "22517e18-e38e-4019-aae7-29d39413c5a4",
   "metadata": {},
   "outputs": [],
   "source": []
  }
 ],
 "metadata": {
  "kernelspec": {
   "display_name": "Python 3",
   "language": "python",
   "name": "python3"
  },
  "language_info": {
   "codemirror_mode": {
    "name": "ipython",
    "version": 3
   },
   "file_extension": ".py",
   "mimetype": "text/x-python",
   "name": "python",
   "nbconvert_exporter": "python",
   "pygments_lexer": "ipython3",
   "version": "3.9.5"
  }
 },
 "nbformat": 4,
 "nbformat_minor": 5
}
