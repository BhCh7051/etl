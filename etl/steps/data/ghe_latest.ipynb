{
 "cells": [
  {
   "cell_type": "markdown",
   "id": "afa8d2e0-c74f-4dc4-9911-ac484110bd80",
   "metadata": {},
   "source": [
    "# WHO GHE (latest)"
   ]
  },
  {
   "cell_type": "code",
   "execution_count": 2,
   "id": "307cdf6d-ed87-4534-8689-ae20894bf73b",
   "metadata": {
    "tags": [
     "parameters"
    ]
   },
   "outputs": [],
   "source": [
    "DEST_DIR = '../../../data/ghe_latest'"
   ]
  },
  {
   "cell_type": "code",
   "execution_count": 14,
   "id": "caaa4fcb-a6c8-4221-91c8-b9c584952fa0",
   "metadata": {},
   "outputs": [],
   "source": [
    "from owid import walden, catalog\n",
    "import tempfile\n",
    "from zipfile import ZipFile\n",
    "import os"
   ]
  },
  {
   "cell_type": "markdown",
   "id": "a08627c5-8395-4d32-9ba3-084912c5a761",
   "metadata": {},
   "source": [
    "## 1. Locate the dataset in Walden"
   ]
  },
  {
   "cell_type": "code",
   "execution_count": 5,
   "id": "d84bf5ea-8a3d-454b-8f95-c1e8466e5ea6",
   "metadata": {},
   "outputs": [],
   "source": [
    "raw_dataset = walden.Catalog().find_latest('who', 'ghe')"
   ]
  },
  {
   "cell_type": "code",
   "execution_count": 6,
   "id": "7857c540-1338-4295-98bc-00e1058c973a",
   "metadata": {},
   "outputs": [
    {
     "data": {
      "text/plain": [
       "Dataset(namespace='who', short_name='ghe', name='Global Health Estimates', description='WHO’s Global Health Estimates (GHE) provide the latest available data on death and disability globally, by region and country, and by age, sex and cause. The latest updates include global, regional and country trends from 2000 to 2019 inclusive. By providing key insights on mortality and morbidity trends, these estimates are a powerful tool to support informed decision-making on health policy and resource allocation.', source_name='World Health Organisation', url='https://frontdoor-l4uikgap6gz3m.azurefd.net/DEX_CMS/GHE_COD_COMPLETE', date_accessed='2021-09-08', file_extension='zip', license_url='https://www.who.int/about/policies/publishing/data-policy/terms-and-conditions', source_data_url=None, md5='8339082dc1ae9a17275ad51969ebb7a2', publication_year=2021, publication_date='2021-07-01', owid_data_url='https://nyc3.digitaloceanspaces.com/walden/who/2021-07-01/ghe.zip', license_name=None)"
      ]
     },
     "execution_count": 6,
     "metadata": {},
     "output_type": "execute_result"
    }
   ],
   "source": [
    "raw_dataset"
   ]
  },
  {
   "cell_type": "markdown",
   "id": "bd5fc9ef-80c8-43c0-b463-815586fdfb4b",
   "metadata": {},
   "source": [
    "## 2. Extract the zip file to a temporary directory"
   ]
  },
  {
   "cell_type": "code",
   "execution_count": 10,
   "id": "253e48e3-7928-472a-b94a-18e561b79b71",
   "metadata": {},
   "outputs": [
    {
     "data": {
      "text/plain": [
       "'/var/folders/24/83kghrkj2mb4lhx1zvf1xfv40000gn/T/tmppci18e_o'"
      ]
     },
     "execution_count": 10,
     "metadata": {},
     "output_type": "execute_result"
    }
   ],
   "source": [
    "with tempfile.TemporaryDirectory() as dirname:\n",
    "    pass\n",
    "\n",
    "os.mkdir(dirname)\n",
    "dirname"
   ]
  },
  {
   "cell_type": "code",
   "execution_count": 21,
   "id": "ef3d16f2-5c2a-4a9b-bd87-e2252e92d14a",
   "metadata": {},
   "outputs": [],
   "source": [
    "ZipFile(raw_dataset.local_path).extractall(dirname)"
   ]
  },
  {
   "cell_type": "code",
   "execution_count": 26,
   "id": "b1eb06b6-64d7-4fb0-a08f-73e06d6e494a",
   "metadata": {},
   "outputs": [],
   "source": [
    "csv_file = os.path.join(dirname, 'who_ghe', '_all_countries.csv')"
   ]
  },
  {
   "cell_type": "markdown",
   "id": "0447f4e2-2450-41d6-8b4d-257251e29943",
   "metadata": {},
   "source": [
    "## 3. Convert the CSV to an OWID dataset"
   ]
  },
  {
   "cell_type": "code",
   "execution_count": 27,
   "id": "ede7dd90-5c66-4bd9-bf06-f488cf867932",
   "metadata": {},
   "outputs": [],
   "source": [
    "df = pd.read_csv(csv_file)"
   ]
  },
  {
   "cell_type": "code",
   "execution_count": 29,
   "id": "99855416-3f06-457f-b3aa-df23b402391c",
   "metadata": {},
   "outputs": [
    {
     "data": {
      "text/html": [
       "<div>\n",
       "<style scoped>\n",
       "    .dataframe tbody tr th:only-of-type {\n",
       "        vertical-align: middle;\n",
       "    }\n",
       "\n",
       "    .dataframe tbody tr th {\n",
       "        vertical-align: top;\n",
       "    }\n",
       "\n",
       "    .dataframe thead th {\n",
       "        text-align: right;\n",
       "    }\n",
       "</style>\n",
       "<table border=\"1\" class=\"dataframe\">\n",
       "  <thead>\n",
       "    <tr style=\"text-align: right;\">\n",
       "      <th></th>\n",
       "      <th>0</th>\n",
       "    </tr>\n",
       "  </thead>\n",
       "  <tbody>\n",
       "    <tr>\n",
       "      <th>Unnamed: 0</th>\n",
       "      <td>0</td>\n",
       "    </tr>\n",
       "    <tr>\n",
       "      <th>Unnamed: 0.1</th>\n",
       "      <td>0</td>\n",
       "    </tr>\n",
       "    <tr>\n",
       "      <th>COUNTRY_CODE</th>\n",
       "      <td>GRD</td>\n",
       "    </tr>\n",
       "    <tr>\n",
       "      <th>GHE_CAUSE_CODE</th>\n",
       "      <td>860</td>\n",
       "    </tr>\n",
       "    <tr>\n",
       "      <th>GHE_CAUSE_TITLE</th>\n",
       "      <td>Alcohol use disorders</td>\n",
       "    </tr>\n",
       "    <tr>\n",
       "      <th>YEAR</th>\n",
       "      <td>2019</td>\n",
       "    </tr>\n",
       "    <tr>\n",
       "      <th>SEX_CODE</th>\n",
       "      <td>BTSX</td>\n",
       "    </tr>\n",
       "    <tr>\n",
       "      <th>AGEGROUP_CODE</th>\n",
       "      <td>YEARS45-49</td>\n",
       "    </tr>\n",
       "    <tr>\n",
       "      <th>POPULATION</th>\n",
       "      <td>6285.0</td>\n",
       "    </tr>\n",
       "    <tr>\n",
       "      <th>DEATHS</th>\n",
       "      <td>0.5</td>\n",
       "    </tr>\n",
       "    <tr>\n",
       "      <th>DEATHS_RATE</th>\n",
       "      <td>0.000082</td>\n",
       "    </tr>\n",
       "    <tr>\n",
       "      <th>DEATHS_100K</th>\n",
       "      <td>8.2</td>\n",
       "    </tr>\n",
       "    <tr>\n",
       "      <th>DALY</th>\n",
       "      <td>42.1</td>\n",
       "    </tr>\n",
       "    <tr>\n",
       "      <th>DALY_RATE</th>\n",
       "      <td>0.006695</td>\n",
       "    </tr>\n",
       "    <tr>\n",
       "      <th>DALY_100K</th>\n",
       "      <td>669.5</td>\n",
       "    </tr>\n",
       "    <tr>\n",
       "      <th>CAUSEGROUP</th>\n",
       "      <td>2</td>\n",
       "    </tr>\n",
       "    <tr>\n",
       "      <th>LEVEL</th>\n",
       "      <td>3</td>\n",
       "    </tr>\n",
       "    <tr>\n",
       "      <th>FL_SINGLECAUSE</th>\n",
       "      <td>1</td>\n",
       "    </tr>\n",
       "    <tr>\n",
       "      <th>FL_RANKABLE</th>\n",
       "      <td>1</td>\n",
       "    </tr>\n",
       "    <tr>\n",
       "      <th>FL_TREEMAP</th>\n",
       "      <td>1</td>\n",
       "    </tr>\n",
       "    <tr>\n",
       "      <th>FL_SHOW</th>\n",
       "      <td>1</td>\n",
       "    </tr>\n",
       "    <tr>\n",
       "      <th>_RecordID</th>\n",
       "      <td>d5ca12ba-8f50-485a-a9a3-00acd5ed1427</td>\n",
       "    </tr>\n",
       "    <tr>\n",
       "      <th>Sys_PK</th>\n",
       "      <td>-2147483457</td>\n",
       "    </tr>\n",
       "    <tr>\n",
       "      <th>Sys_RowTitle</th>\n",
       "      <td>D5CA12BA-8F50-485A-A9A3-00ACD5ED1427</td>\n",
       "    </tr>\n",
       "    <tr>\n",
       "      <th>Sys_Version</th>\n",
       "      <td>1</td>\n",
       "    </tr>\n",
       "    <tr>\n",
       "      <th>Sys_VersionID</th>\n",
       "      <td>D5CA12BA-8F50-485A-A9A3-00ACD5ED1427.1</td>\n",
       "    </tr>\n",
       "    <tr>\n",
       "      <th>Sys_OriginID</th>\n",
       "      <td>c36dbe35-aade-4c0e-9f2b-fb9d52e44877</td>\n",
       "    </tr>\n",
       "    <tr>\n",
       "      <th>Sys_OriginCode</th>\n",
       "      <td>SYS_CATALOG_IMPORT</td>\n",
       "    </tr>\n",
       "    <tr>\n",
       "      <th>Sys_LoadBy</th>\n",
       "      <td>-</td>\n",
       "    </tr>\n",
       "    <tr>\n",
       "      <th>Sys_CommitDateUtc</th>\n",
       "      <td>2020-12-07T18:59:12.4Z</td>\n",
       "    </tr>\n",
       "    <tr>\n",
       "      <th>Sys_FirstLoadBy</th>\n",
       "      <td>-</td>\n",
       "    </tr>\n",
       "    <tr>\n",
       "      <th>Sys_FirstCommitDateUtc</th>\n",
       "      <td>2020-12-07T18:59:12.4Z</td>\n",
       "    </tr>\n",
       "    <tr>\n",
       "      <th>Sys_ID</th>\n",
       "      <td>d5ca12ba-8f50-485a-a9a3-00acd5ed1427</td>\n",
       "    </tr>\n",
       "    <tr>\n",
       "      <th>Sys_BatchID</th>\n",
       "      <td>26694</td>\n",
       "    </tr>\n",
       "    <tr>\n",
       "      <th>Sys_FirstBatchID</th>\n",
       "      <td>26694</td>\n",
       "    </tr>\n",
       "  </tbody>\n",
       "</table>\n",
       "</div>"
      ],
      "text/plain": [
       "                                                             0\n",
       "Unnamed: 0                                                   0\n",
       "Unnamed: 0.1                                                 0\n",
       "COUNTRY_CODE                                               GRD\n",
       "GHE_CAUSE_CODE                                             860\n",
       "GHE_CAUSE_TITLE                          Alcohol use disorders\n",
       "YEAR                                                      2019\n",
       "SEX_CODE                                                  BTSX\n",
       "AGEGROUP_CODE                                       YEARS45-49\n",
       "POPULATION                                              6285.0\n",
       "DEATHS                                                     0.5\n",
       "DEATHS_RATE                                           0.000082\n",
       "DEATHS_100K                                                8.2\n",
       "DALY                                                      42.1\n",
       "DALY_RATE                                             0.006695\n",
       "DALY_100K                                                669.5\n",
       "CAUSEGROUP                                                   2\n",
       "LEVEL                                                        3\n",
       "FL_SINGLECAUSE                                               1\n",
       "FL_RANKABLE                                                  1\n",
       "FL_TREEMAP                                                   1\n",
       "FL_SHOW                                                      1\n",
       "_RecordID                 d5ca12ba-8f50-485a-a9a3-00acd5ed1427\n",
       "Sys_PK                                             -2147483457\n",
       "Sys_RowTitle              D5CA12BA-8F50-485A-A9A3-00ACD5ED1427\n",
       "Sys_Version                                                  1\n",
       "Sys_VersionID           D5CA12BA-8F50-485A-A9A3-00ACD5ED1427.1\n",
       "Sys_OriginID              c36dbe35-aade-4c0e-9f2b-fb9d52e44877\n",
       "Sys_OriginCode                              SYS_CATALOG_IMPORT\n",
       "Sys_LoadBy                                                   -\n",
       "Sys_CommitDateUtc                       2020-12-07T18:59:12.4Z\n",
       "Sys_FirstLoadBy                                              -\n",
       "Sys_FirstCommitDateUtc                  2020-12-07T18:59:12.4Z\n",
       "Sys_ID                    d5ca12ba-8f50-485a-a9a3-00acd5ed1427\n",
       "Sys_BatchID                                              26694\n",
       "Sys_FirstBatchID                                         26694"
      ]
     },
     "execution_count": 29,
     "metadata": {},
     "output_type": "execute_result"
    }
   ],
   "source": [
    "df.iloc[:1].T"
   ]
  },
  {
   "cell_type": "code",
   "execution_count": 30,
   "id": "e9404de7-9b7e-4013-83a0-ae84890110ef",
   "metadata": {},
   "outputs": [],
   "source": [
    "df.drop(['Unnamed: 0', 'Unnamed: 0.1'], axis=1, inplace=True)"
   ]
  },
  {
   "cell_type": "code",
   "execution_count": 31,
   "id": "4ef079d1-3b35-4be2-a7d2-4c8169ac01f2",
   "metadata": {},
   "outputs": [],
   "source": [
    "# TODO drop Sys columns"
   ]
  },
  {
   "cell_type": "code",
   "execution_count": null,
   "id": "0b92dd7d-f028-4e95-b637-c8ba12acd8f1",
   "metadata": {},
   "outputs": [],
   "source": [
    "# TODO "
   ]
  }
 ],
 "metadata": {
  "kernelspec": {
   "display_name": "Python 3 (ipykernel)",
   "language": "python",
   "name": "python3"
  },
  "language_info": {
   "codemirror_mode": {
    "name": "ipython",
    "version": 3
   },
   "file_extension": ".py",
   "mimetype": "text/x-python",
   "name": "python",
   "nbconvert_exporter": "python",
   "pygments_lexer": "ipython3",
   "version": "3.9.7"
  }
 },
 "nbformat": 4,
 "nbformat_minor": 5
}
