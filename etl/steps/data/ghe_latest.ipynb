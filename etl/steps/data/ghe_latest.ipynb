{
 "cells": [
  {
   "cell_type": "markdown",
   "id": "945f73bc",
   "metadata": {},
   "source": [
    "# WHO GHE (latest)"
   ]
  },
  {
   "cell_type": "code",
   "execution_count": null,
   "id": "6341f2f3",
   "metadata": {
    "tags": [
     "parameters"
    ]
   },
   "outputs": [],
   "source": [
    "dest_dir = \"/tmp/ghe_latest\""
   ]
  },
  {
   "cell_type": "code",
   "execution_count": null,
   "id": "c9865913",
   "metadata": {},
   "outputs": [],
   "source": [
    "from owid import walden, catalog  # type: ignore\n",
    "import tempfile\n",
    "from zipfile import ZipFile\n",
    "import os\n",
    "import pandas as pd\n",
    "\n",
    "from etl.steps.data.converters import convert_walden_metadata"
   ]
  },
  {
   "cell_type": "markdown",
   "id": "6b4fd1d6",
   "metadata": {},
   "source": [
    "## 1. Locate the dataset in Walden"
   ]
  },
  {
   "cell_type": "code",
   "execution_count": null,
   "id": "f191ecf7",
   "metadata": {},
   "outputs": [],
   "source": [
    "raw_dataset = walden.Catalog().find_latest(\"who\", \"ghe\")"
   ]
  },
  {
   "cell_type": "code",
   "execution_count": null,
   "id": "0f07821b",
   "metadata": {},
   "outputs": [],
   "source": [
    "raw_dataset"
   ]
  },
  {
   "cell_type": "markdown",
   "id": "a22cce47",
   "metadata": {},
   "source": [
    "## 2. Extract the zip file to a temporary directory"
   ]
  },
  {
   "cell_type": "code",
   "execution_count": null,
   "id": "ea295b97",
   "metadata": {},
   "outputs": [],
   "source": [
    "with tempfile.TemporaryDirectory() as dirname:\n",
    "    pass\n",
    "\n",
    "os.mkdir(dirname)\n",
    "dirname"
   ]
  },
  {
   "cell_type": "code",
   "execution_count": null,
   "id": "a434e077",
   "metadata": {},
   "outputs": [],
   "source": [
    "ZipFile(raw_dataset.local_path).extractall(dirname)"
   ]
  },
  {
   "cell_type": "code",
   "execution_count": null,
   "id": "24984b29",
   "metadata": {},
   "outputs": [],
   "source": [
    "csv_file = os.path.join(dirname, \"who_ghe\", \"_all_countries.csv\")"
   ]
  },
  {
   "cell_type": "markdown",
   "id": "47dc41c3",
   "metadata": {},
   "source": [
    "## 3. Load the data frame and prune excess columns"
   ]
  },
  {
   "cell_type": "code",
   "execution_count": null,
   "id": "fb878444",
   "metadata": {},
   "outputs": [],
   "source": [
    "df = pd.read_csv(csv_file)"
   ]
  },
  {
   "cell_type": "code",
   "execution_count": null,
   "id": "37bbd6fd",
   "metadata": {},
   "outputs": [],
   "source": [
    "df.iloc[:1].T"
   ]
  },
  {
   "cell_type": "code",
   "execution_count": null,
   "id": "f86efe09",
   "metadata": {},
   "outputs": [],
   "source": [
    "df.drop([\"Unnamed: 0\", \"Unnamed: 0.1\"], axis=1, inplace=True)"
   ]
  },
  {
   "cell_type": "code",
   "execution_count": null,
   "id": "81388803",
   "metadata": {},
   "outputs": [],
   "source": [
    "df.drop([col for col in df.columns if col.startswith(\"Sys_\")], axis=1, inplace=True)"
   ]
  },
  {
   "cell_type": "code",
   "execution_count": null,
   "id": "2e837f1b",
   "metadata": {},
   "outputs": [],
   "source": [
    "df.drop([col for col in df.columns if col.startswith(\"FL_\")], axis=1, inplace=True)"
   ]
  },
  {
   "cell_type": "code",
   "execution_count": null,
   "id": "c850cecf",
   "metadata": {},
   "outputs": [],
   "source": [
    "df.columns = [col.lower() for col in df.columns]"
   ]
  },
  {
   "cell_type": "code",
   "execution_count": null,
   "id": "5dfa7e29",
   "metadata": {},
   "outputs": [],
   "source": [
    "df.drop(\"_recordid\", axis=1, inplace=True)"
   ]
  },
  {
   "cell_type": "code",
   "execution_count": null,
   "id": "485d9813",
   "metadata": {},
   "outputs": [],
   "source": [
    "df.iloc[0]"
   ]
  },
  {
   "cell_type": "markdown",
   "id": "54e0238d",
   "metadata": {},
   "source": [
    "## 4. Save as a dataset"
   ]
  },
  {
   "cell_type": "code",
   "execution_count": null,
   "id": "84e06030",
   "metadata": {},
   "outputs": [],
   "source": [
    "raw_dataset"
   ]
  },
  {
   "cell_type": "code",
   "execution_count": null,
   "id": "57fc87cd",
   "metadata": {},
   "outputs": [],
   "source": [
    "ds = catalog.Dataset.create_empty(dest_dir)\n",
    "ds.metadata = convert_walden_metadata(raw_dataset)\n",
    "ds.save()"
   ]
  },
  {
   "cell_type": "markdown",
   "id": "fb07b9e2",
   "metadata": {},
   "source": [
    "### Add cause codes"
   ]
  },
  {
   "cell_type": "code",
   "execution_count": null,
   "id": "f83ef12d",
   "metadata": {},
   "outputs": [],
   "source": [
    "ghe_causes = (\n",
    "    df[[\"ghe_cause_code\", \"ghe_cause_title\"]]\n",
    "    .drop_duplicates()\n",
    "    .set_index(\"ghe_cause_code\")\n",
    ")\n",
    "ghe_causes = catalog.Table(ghe_causes)"
   ]
  },
  {
   "cell_type": "code",
   "execution_count": null,
   "id": "c4e76f36",
   "metadata": {},
   "outputs": [],
   "source": [
    "ghe_causes"
   ]
  },
  {
   "cell_type": "code",
   "execution_count": null,
   "id": "27496757",
   "metadata": {},
   "outputs": [],
   "source": [
    "ghe_causes.metadata = catalog.TableMeta(\n",
    "    short_name=\"ghe_causes\",\n",
    "    title=\"GHE Cause Codes\",\n",
    "    description=\"Integer codes for common GHE causes and their human readable names\",\n",
    ")\n",
    "ds.add(ghe_causes)"
   ]
  },
  {
   "cell_type": "markdown",
   "id": "a7b07667",
   "metadata": {},
   "source": [
    "### Add estimates"
   ]
  },
  {
   "cell_type": "code",
   "execution_count": null,
   "id": "10265aa5",
   "metadata": {},
   "outputs": [],
   "source": [
    "df.drop(\"ghe_cause_code\", axis=1, inplace=True)"
   ]
  },
  {
   "cell_type": "code",
   "execution_count": null,
   "id": "96e3ede9",
   "metadata": {},
   "outputs": [],
   "source": [
    "df.head()"
   ]
  },
  {
   "cell_type": "code",
   "execution_count": null,
   "id": "ccb1886e",
   "metadata": {},
   "outputs": [],
   "source": [
    "estimates = catalog.Table(df)"
   ]
  },
  {
   "cell_type": "code",
   "execution_count": null,
   "id": "cc181590",
   "metadata": {},
   "outputs": [],
   "source": [
    "estimates.set_index(\n",
    "    [\"country_code\", \"year\", \"ghe_cause_title\", \"sex_code\", \"agegroup_code\"],\n",
    "    inplace=True,\n",
    ")"
   ]
  },
  {
   "cell_type": "code",
   "execution_count": null,
   "id": "d41ef369",
   "metadata": {},
   "outputs": [],
   "source": [
    "estimates.head()"
   ]
  },
  {
   "cell_type": "code",
   "execution_count": null,
   "id": "95acec79",
   "metadata": {},
   "outputs": [],
   "source": [
    "estimates.metadata.short_name = \"estimates\"\n",
    "estimates.metadata.description = \"GHE estimated burden of disease\""
   ]
  },
  {
   "cell_type": "code",
   "execution_count": null,
   "id": "52acb6fa",
   "metadata": {},
   "outputs": [],
   "source": [
    "ds.add(estimates)"
   ]
  },
  {
   "cell_type": "markdown",
   "id": "46227a3b",
   "metadata": {},
   "source": [
    "## Cleanup"
   ]
  },
  {
   "cell_type": "code",
   "execution_count": null,
   "id": "b13aeaed",
   "metadata": {},
   "outputs": [],
   "source": [
    "import shutil"
   ]
  },
  {
   "cell_type": "code",
   "execution_count": null,
   "id": "8c345fee",
   "metadata": {},
   "outputs": [],
   "source": [
    "shutil.rmtree(dirname)"
   ]
  }
 ],
 "metadata": {
  "interpreter": {
   "hash": "f6acb1f56450d2fb4e25ced3e1667354a814284a0c24faff8ce804d657da1734"
  },
  "kernelspec": {
   "display_name": "Python 3 (ipykernel)",
   "language": "python",
   "name": "python3"
  },
  "language_info": {
   "codemirror_mode": {
    "name": "ipython",
    "version": 3
   },
   "file_extension": ".py",
   "mimetype": "text/x-python",
   "name": "python",
   "nbconvert_exporter": "python",
   "pygments_lexer": "ipython3",
   "version": "3.9.4"
  }
 },
 "nbformat": 4,
 "nbformat_minor": 5
}
