{
 "cells": [
  {
   "cell_type": "markdown",
   "id": "6d5acae7",
   "metadata": {},
   "source": [
    "# FAOstat: Crops and livestock products\n",
    "[_Source data_](https://www.fao.org/faostat/en/#data)"
   ]
  },
  {
   "cell_type": "markdown",
   "id": "70df5526",
   "metadata": {},
   "source": [
    "## Parameters"
   ]
  },
  {
   "cell_type": "code",
   "execution_count": 1,
   "id": "ec98d59c",
   "metadata": {
    "tags": [
     "parameters"
    ]
   },
   "outputs": [],
   "source": [
    "dest_dir = \"/tmp/faostat_fbsh\""
   ]
  },
  {
   "cell_type": "markdown",
   "id": "06687052",
   "metadata": {},
   "source": [
    "## Imports"
   ]
  },
  {
   "cell_type": "code",
   "execution_count": 2,
   "id": "46b26d81",
   "metadata": {},
   "outputs": [],
   "source": [
    "import zipfile\n",
    "import tempfile\n",
    "import shutil\n",
    "from pathlib import Path\n",
    "import os\n",
    "\n",
    "import requests\n",
    "import pandas as pd\n",
    "\n",
    "from owid.catalog import Dataset, Table, frames\n",
    "from owid.walden import Catalog\n",
    "from etl.paths import DATA_DIR\n",
    "from etl.steps.data.converters import convert_walden_metadata"
   ]
  },
  {
   "cell_type": "markdown",
   "id": "be20e93e",
   "metadata": {},
   "source": [
    "## Fetch walden dataset"
   ]
  },
  {
   "cell_type": "code",
   "execution_count": 3,
   "id": "efbb8f90",
   "metadata": {},
   "outputs": [],
   "source": [
    "walden_ds = Catalog().find_one(\"faostat\", \"2017-12-11\", \"faostat_FBSH\")"
   ]
  },
  {
   "cell_type": "code",
   "execution_count": 4,
   "id": "b0d8c354",
   "metadata": {},
   "outputs": [
    {
     "data": {
      "text/plain": [
       "Dataset(namespace='faostat', short_name='faostat_FBSH', name='Food Balance: Food Balances (-2013, old methodology and population) - FAO (2017)', description=\"Food Balance Sheet presents a comprehensive picture of the pattern of a country's food supply during a specified reference period. The food balance sheet shows for each food item - i.e. each primary commodity and a number of processed commodities potentially available for human consumption - the sources of supply and its utilization. The total quantity of foodstuffs produced in a country added to the total quantity imported and adjusted to any change in stocks that may have occurred since the beginning of the reference period gives the supply available during that period. On the utilization side a distinction is made between the quantities exported, fed to livestock, used for seed, put to manufacture for food use and non-food uses, losses during storage and transportation, and food supplies available for human consumption. The per caput supply of each such food item available for human consumption is then obtained by dividing the respective quantity by the related data on the population actually partaking of it. Data on per caput food supplies are expressed in terms of quantity and - by applying appropriate food composition factors for all primary and processed products - also in terms of caloric value and protein and fat content.\", source_name='Food and Agriculture Organization of the United Nations', url='http://www.fao.org/faostat/en/#data', date_accessed='2021-10-28', file_extension='zip', license_url='http://www.fao.org/contact-us/terms/db-terms-of-use/en', source_data_url='http://fenixservices.fao.org/faostat/static/bulkdownloads/FoodBalanceSheetsHistoric_E_All_Data_(Normalized).zip', md5='ad209727ad76ad2c1f2e7288089ef33d', publication_year=2017, publication_date='2017-12-11', owid_data_url='https://walden.nyc3.digitaloceanspaces.com/faostat/2017-12-11/faostat_FBSH.zip', license_name='CC BY-NC-SA 3.0 IGO', access_notes=None)"
      ]
     },
     "execution_count": 4,
     "metadata": {},
     "output_type": "execute_result"
    }
   ],
   "source": [
    "walden_ds"
   ]
  },
  {
   "cell_type": "markdown",
   "id": "bb39b27c-2f49-4ba8-93a3-fef32da3c21f",
   "metadata": {},
   "source": [
    "## Make a dataset"
   ]
  },
  {
   "cell_type": "code",
   "execution_count": 10,
   "id": "cb82ba2d-d979-4d9b-a75c-60933c0200e5",
   "metadata": {},
   "outputs": [],
   "source": [
    "ds = Dataset.create_empty(dest_dir)\n",
    "ds.metadata = convert_walden_metadata(walden_ds)\n",
    "ds.save()"
   ]
  },
  {
   "cell_type": "code",
   "execution_count": 11,
   "id": "b0673ef5-f156-40fa-8f95-6f07fd2beda7",
   "metadata": {},
   "outputs": [
    {
     "data": {
      "text/plain": [
       "Dataset(path='/tmp/faostat_fbsh', metadata=DatasetMeta(namespace='faostat', short_name='faostat_FBSH', title='Food Balance: Food Balances (-2013, old methodology and population) - FAO (2017)', description=\"Food Balance Sheet presents a comprehensive picture of the pattern of a country's food supply during a specified reference period. The food balance sheet shows for each food item - i.e. each primary commodity and a number of processed commodities potentially available for human consumption - the sources of supply and its utilization. The total quantity of foodstuffs produced in a country added to the total quantity imported and adjusted to any change in stocks that may have occurred since the beginning of the reference period gives the supply available during that period. On the utilization side a distinction is made between the quantities exported, fed to livestock, used for seed, put to manufacture for food use and non-food uses, losses during storage and transportation, and food supplies available for human consumption. The per caput supply of each such food item available for human consumption is then obtained by dividing the respective quantity by the related data on the population actually partaking of it. Data on per caput food supplies are expressed in terms of quantity and - by applying appropriate food composition factors for all primary and processed products - also in terms of caloric value and protein and fat content.\", sources=[Source(name='Food and Agriculture Organization of the United Nations', description=None, url='http://www.fao.org/faostat/en/#data', source_data_url='http://fenixservices.fao.org/faostat/static/bulkdownloads/FoodBalanceSheetsHistoric_E_All_Data_(Normalized).zip', owid_data_url='https://walden.nyc3.digitaloceanspaces.com/faostat/2017-12-11/faostat_FBSH.zip', date_accessed='2021-10-28', publication_date='2017-12-11', publication_year=2017)], licenses=[License(name='CC BY-NC-SA 3.0 IGO', url='http://www.fao.org/contact-us/terms/db-terms-of-use/en')], source_checksum=None))"
      ]
     },
     "execution_count": 11,
     "metadata": {},
     "output_type": "execute_result"
    }
   ],
   "source": [
    "ds"
   ]
  },
  {
   "cell_type": "markdown",
   "id": "feae825d-b74f-4b90-9c76-22d09325c98b",
   "metadata": {},
   "source": [
    "## Metadata\n",
    "_To be moved into Walden_"
   ]
  },
  {
   "cell_type": "code",
   "execution_count": 12,
   "id": "05dac71e-53e3-49c2-9341-9b255ad7afc6",
   "metadata": {},
   "outputs": [],
   "source": [
    "data_extra = [\n",
    "    {\n",
    "        \"url\": \"https://fenixservices.fao.org/faostat/api/v1/en/definitions/domain/FBSH/itemgroup?output_type=objects\",\n",
    "        \"index\": [\"Item Group Code\", \"Item Code\"],\n",
    "        \"short_name\": \"meta_item\",\n",
    "    },\n",
    "    {\n",
    "        \"url\": \"https://fenixservices.fao.org/faostat/api/v1/en/definitions/domain/FBSH/area?output_type=objects\",\n",
    "        \"index\": [\"Country Code\"],\n",
    "        \"short_name\": \"meta_area\",\n",
    "    },\n",
    "    {\n",
    "        \"url\": \"https://fenixservices.fao.org/faostat/api/v1/en/definitions/domain/FBSH/element?output_type=objects\",\n",
    "        \"index\": [\"Element Code\"],\n",
    "        \"short_name\": \"meta_element\",\n",
    "    },\n",
    "    {\n",
    "        \"url\": \"https://fenixservices.fao.org/faostat/api/v1/en/definitions/domain/FBSH/unit?output_type=objects\",\n",
    "        \"index\": [\"Unit Name\"],\n",
    "        \"short_name\": \"meta_unit\",\n",
    "    },\n",
    "]"
   ]
  },
  {
   "cell_type": "code",
   "execution_count": 13,
   "id": "8cad4800-12d8-4186-920d-da437da24450",
   "metadata": {},
   "outputs": [
    {
     "name": "stdout",
     "output_type": "stream",
     "text": [
      "meta_item\n",
      "meta_area\n",
      "meta_element\n",
      "meta_unit\n"
     ]
    }
   ],
   "source": [
    "for data_ in data_extra:\n",
    "    metadata = requests.get(data_[\"url\"]).json()\n",
    "    df_ = pd.DataFrame.from_dict(metadata[\"data\"])\n",
    "    df_.set_index(data_[\"index\"], verify_integrity=True, inplace=True)\n",
    "    t = Table(df_)\n",
    "    t.metadata.short_name = data_[\"short_name\"]\n",
    "    ds.add(t)"
   ]
  },
  {
   "cell_type": "markdown",
   "id": "89cef48b",
   "metadata": {},
   "source": [
    "## Unzip to temp directory"
   ]
  },
  {
   "cell_type": "code",
   "execution_count": 14,
   "id": "acf856cf",
   "metadata": {},
   "outputs": [],
   "source": [
    "tmp_dir = tempfile.mkdtemp()"
   ]
  },
  {
   "cell_type": "code",
   "execution_count": 15,
   "id": "22addbd7",
   "metadata": {},
   "outputs": [
    {
     "data": {
      "text/plain": [
       "'FoodBalanceSheetsHistoric_E_All_Data_(Normalized).csv'"
      ]
     },
     "execution_count": 15,
     "metadata": {},
     "output_type": "execute_result"
    }
   ],
   "source": [
    "z = zipfile.ZipFile(walden_ds.local_path)\n",
    "z.extractall(tmp_dir)\n",
    "# print(os.listdir(tmp_dir))\n",
    "(filename,) = list(filter(lambda x: \"(Normalized)\" in x, os.listdir(tmp_dir)))\n",
    "filename"
   ]
  },
  {
   "cell_type": "markdown",
   "id": "ad35b28a",
   "metadata": {},
   "source": [
    "## Load dataset\n",
    "### Data file"
   ]
  },
  {
   "cell_type": "code",
   "execution_count": 16,
   "id": "242e2d84",
   "metadata": {},
   "outputs": [],
   "source": [
    "df = pd.read_csv(os.path.join(tmp_dir, filename), encoding=\"latin-1\")"
   ]
  },
  {
   "cell_type": "code",
   "execution_count": 17,
   "id": "eaca5a43",
   "metadata": {},
   "outputs": [
    {
     "data": {
      "text/html": [
       "<div>\n",
       "<style scoped>\n",
       "    .dataframe tbody tr th:only-of-type {\n",
       "        vertical-align: middle;\n",
       "    }\n",
       "\n",
       "    .dataframe tbody tr th {\n",
       "        vertical-align: top;\n",
       "    }\n",
       "\n",
       "    .dataframe thead th {\n",
       "        text-align: right;\n",
       "    }\n",
       "</style>\n",
       "<table border=\"1\" class=\"dataframe\">\n",
       "  <thead>\n",
       "    <tr style=\"text-align: right;\">\n",
       "      <th></th>\n",
       "      <th>Area Code</th>\n",
       "      <th>Area</th>\n",
       "      <th>Item Code</th>\n",
       "      <th>Item</th>\n",
       "      <th>Element Code</th>\n",
       "      <th>Element</th>\n",
       "      <th>Year Code</th>\n",
       "      <th>Year</th>\n",
       "      <th>Unit</th>\n",
       "      <th>Value</th>\n",
       "      <th>Flag</th>\n",
       "    </tr>\n",
       "  </thead>\n",
       "  <tbody>\n",
       "    <tr>\n",
       "      <th>0</th>\n",
       "      <td>2</td>\n",
       "      <td>Afghanistan</td>\n",
       "      <td>2501</td>\n",
       "      <td>Population</td>\n",
       "      <td>511</td>\n",
       "      <td>Total Population - Both sexes</td>\n",
       "      <td>1961</td>\n",
       "      <td>1961</td>\n",
       "      <td>1000 persons</td>\n",
       "      <td>8954.0</td>\n",
       "      <td>NaN</td>\n",
       "    </tr>\n",
       "    <tr>\n",
       "      <th>1</th>\n",
       "      <td>2</td>\n",
       "      <td>Afghanistan</td>\n",
       "      <td>2501</td>\n",
       "      <td>Population</td>\n",
       "      <td>511</td>\n",
       "      <td>Total Population - Both sexes</td>\n",
       "      <td>1962</td>\n",
       "      <td>1962</td>\n",
       "      <td>1000 persons</td>\n",
       "      <td>9142.0</td>\n",
       "      <td>NaN</td>\n",
       "    </tr>\n",
       "    <tr>\n",
       "      <th>2</th>\n",
       "      <td>2</td>\n",
       "      <td>Afghanistan</td>\n",
       "      <td>2501</td>\n",
       "      <td>Population</td>\n",
       "      <td>511</td>\n",
       "      <td>Total Population - Both sexes</td>\n",
       "      <td>1963</td>\n",
       "      <td>1963</td>\n",
       "      <td>1000 persons</td>\n",
       "      <td>9340.0</td>\n",
       "      <td>NaN</td>\n",
       "    </tr>\n",
       "    <tr>\n",
       "      <th>3</th>\n",
       "      <td>2</td>\n",
       "      <td>Afghanistan</td>\n",
       "      <td>2501</td>\n",
       "      <td>Population</td>\n",
       "      <td>511</td>\n",
       "      <td>Total Population - Both sexes</td>\n",
       "      <td>1964</td>\n",
       "      <td>1964</td>\n",
       "      <td>1000 persons</td>\n",
       "      <td>9547.0</td>\n",
       "      <td>NaN</td>\n",
       "    </tr>\n",
       "    <tr>\n",
       "      <th>4</th>\n",
       "      <td>2</td>\n",
       "      <td>Afghanistan</td>\n",
       "      <td>2501</td>\n",
       "      <td>Population</td>\n",
       "      <td>511</td>\n",
       "      <td>Total Population - Both sexes</td>\n",
       "      <td>1965</td>\n",
       "      <td>1965</td>\n",
       "      <td>1000 persons</td>\n",
       "      <td>9765.0</td>\n",
       "      <td>NaN</td>\n",
       "    </tr>\n",
       "  </tbody>\n",
       "</table>\n",
       "</div>"
      ],
      "text/plain": [
       "   Area Code         Area  Item Code        Item  Element Code  \\\n",
       "0          2  Afghanistan       2501  Population           511   \n",
       "1          2  Afghanistan       2501  Population           511   \n",
       "2          2  Afghanistan       2501  Population           511   \n",
       "3          2  Afghanistan       2501  Population           511   \n",
       "4          2  Afghanistan       2501  Population           511   \n",
       "\n",
       "                         Element  Year Code  Year          Unit   Value Flag  \n",
       "0  Total Population - Both sexes       1961  1961  1000 persons  8954.0  NaN  \n",
       "1  Total Population - Both sexes       1962  1962  1000 persons  9142.0  NaN  \n",
       "2  Total Population - Both sexes       1963  1963  1000 persons  9340.0  NaN  \n",
       "3  Total Population - Both sexes       1964  1964  1000 persons  9547.0  NaN  \n",
       "4  Total Population - Both sexes       1965  1965  1000 persons  9765.0  NaN  "
      ]
     },
     "execution_count": 17,
     "metadata": {},
     "output_type": "execute_result"
    }
   ],
   "source": [
    "df.head()"
   ]
  },
  {
   "cell_type": "markdown",
   "id": "66a7e97c",
   "metadata": {
    "tags": []
   },
   "source": [
    "## Clean dataset"
   ]
  },
  {
   "cell_type": "markdown",
   "id": "cf11713f",
   "metadata": {},
   "source": [
    "### Sanity checks"
   ]
  },
  {
   "cell_type": "code",
   "execution_count": 18,
   "id": "ac7e3f10",
   "metadata": {},
   "outputs": [
    {
     "data": {
      "text/plain": [
       "Area Code       False\n",
       "Area            False\n",
       "Item Code       False\n",
       "Item            False\n",
       "Element Code    False\n",
       "Element         False\n",
       "Year Code       False\n",
       "Year            False\n",
       "Unit            False\n",
       "Value           False\n",
       "Flag             True\n",
       "dtype: bool"
      ]
     },
     "execution_count": 18,
     "metadata": {},
     "output_type": "execute_result"
    }
   ],
   "source": [
    "# Check nulls\n",
    "df.isnull().any()"
   ]
  },
  {
   "cell_type": "code",
   "execution_count": 19,
   "id": "57865d6f",
   "metadata": {},
   "outputs": [],
   "source": [
    "# def check_unique_pairs(df, name_1, name_2):\n",
    "#     if not (\n",
    "#         (df.groupby(name_1)[name_2].nunique() != 1).any()\n",
    "#         and (df.groupby(name_2)[name_1].nunique() != 1).any()\n",
    "#     ):\n",
    "#         raise ValueError(\n",
    "#             f\"Some `{name_1}` may have multiple `{name_2}` values (or opposite).\"\n",
    "#         )\n",
    "\n",
    "\n",
    "# fields = [\"Item\", Element\"]\n",
    "# for field in fields:\n",
    "#     check_unique_pairs(df, field, f\"{field} Code\")"
   ]
  },
  {
   "cell_type": "code",
   "execution_count": 20,
   "id": "01ecf866-2087-45e0-8818-2e92082dc415",
   "metadata": {},
   "outputs": [],
   "source": [
    "x = df.groupby([\"Element\", \"Unit\"])[\"Element Code\"].nunique()\n",
    "if (x > 1).any():\n",
    "    raise ValueError(f\"Element-Unit not unique!\")"
   ]
  },
  {
   "cell_type": "markdown",
   "id": "a7dca5e1-a830-4476-a9f3-f446afe01810",
   "metadata": {},
   "source": [
    "### Drop columns and set Index"
   ]
  },
  {
   "cell_type": "code",
   "execution_count": 21,
   "id": "68fe610d-8122-4d66-8cd1-17caee07e0ce",
   "metadata": {},
   "outputs": [],
   "source": [
    "df.drop(columns=[\"Area\", \"Item\", \"Element\", \"Year Code\"], inplace=True)"
   ]
  },
  {
   "cell_type": "code",
   "execution_count": 22,
   "id": "c7efd5d6",
   "metadata": {},
   "outputs": [],
   "source": [
    "df.set_index(\n",
    "    [\"Area Code\", \"Item Code\", \"Element Code\", \"Year\", \"Flag\"],\n",
    "    inplace=True,\n",
    "    verify_integrity=True,\n",
    ")"
   ]
  },
  {
   "cell_type": "code",
   "execution_count": 23,
   "id": "319c5966-62aa-407a-8301-26ca640e5aa5",
   "metadata": {},
   "outputs": [
    {
     "data": {
      "text/html": [
       "<div>\n",
       "<style scoped>\n",
       "    .dataframe tbody tr th:only-of-type {\n",
       "        vertical-align: middle;\n",
       "    }\n",
       "\n",
       "    .dataframe tbody tr th {\n",
       "        vertical-align: top;\n",
       "    }\n",
       "\n",
       "    .dataframe thead th {\n",
       "        text-align: right;\n",
       "    }\n",
       "</style>\n",
       "<table border=\"1\" class=\"dataframe\">\n",
       "  <thead>\n",
       "    <tr style=\"text-align: right;\">\n",
       "      <th></th>\n",
       "      <th></th>\n",
       "      <th></th>\n",
       "      <th></th>\n",
       "      <th></th>\n",
       "      <th>Unit</th>\n",
       "      <th>Value</th>\n",
       "    </tr>\n",
       "    <tr>\n",
       "      <th>Area Code</th>\n",
       "      <th>Item Code</th>\n",
       "      <th>Element Code</th>\n",
       "      <th>Year</th>\n",
       "      <th>Flag</th>\n",
       "      <th></th>\n",
       "      <th></th>\n",
       "    </tr>\n",
       "  </thead>\n",
       "  <tbody>\n",
       "    <tr>\n",
       "      <th rowspan=\"5\" valign=\"top\">2</th>\n",
       "      <th rowspan=\"5\" valign=\"top\">2501</th>\n",
       "      <th rowspan=\"5\" valign=\"top\">511</th>\n",
       "      <th>1961</th>\n",
       "      <th>NaN</th>\n",
       "      <td>1000 persons</td>\n",
       "      <td>8954.0</td>\n",
       "    </tr>\n",
       "    <tr>\n",
       "      <th>1962</th>\n",
       "      <th>NaN</th>\n",
       "      <td>1000 persons</td>\n",
       "      <td>9142.0</td>\n",
       "    </tr>\n",
       "    <tr>\n",
       "      <th>1963</th>\n",
       "      <th>NaN</th>\n",
       "      <td>1000 persons</td>\n",
       "      <td>9340.0</td>\n",
       "    </tr>\n",
       "    <tr>\n",
       "      <th>1964</th>\n",
       "      <th>NaN</th>\n",
       "      <td>1000 persons</td>\n",
       "      <td>9547.0</td>\n",
       "    </tr>\n",
       "    <tr>\n",
       "      <th>1965</th>\n",
       "      <th>NaN</th>\n",
       "      <td>1000 persons</td>\n",
       "      <td>9765.0</td>\n",
       "    </tr>\n",
       "  </tbody>\n",
       "</table>\n",
       "</div>"
      ],
      "text/plain": [
       "                                                    Unit   Value\n",
       "Area Code Item Code Element Code Year Flag                      \n",
       "2         2501      511          1961 NaN   1000 persons  8954.0\n",
       "                                 1962 NaN   1000 persons  9142.0\n",
       "                                 1963 NaN   1000 persons  9340.0\n",
       "                                 1964 NaN   1000 persons  9547.0\n",
       "                                 1965 NaN   1000 persons  9765.0"
      ]
     },
     "execution_count": 23,
     "metadata": {},
     "output_type": "execute_result"
    }
   ],
   "source": [
    "df.head()"
   ]
  },
  {
   "cell_type": "markdown",
   "id": "0f73301c",
   "metadata": {},
   "source": [
    "## Add tables"
   ]
  },
  {
   "cell_type": "code",
   "execution_count": 24,
   "id": "48d148f5",
   "metadata": {},
   "outputs": [],
   "source": [
    "t = Table(df)\n",
    "t.metadata.short_name = \"bulk\"\n",
    "ds.add(t)"
   ]
  },
  {
   "cell_type": "markdown",
   "id": "f9b2b333",
   "metadata": {},
   "source": [
    "## Cleanup"
   ]
  },
  {
   "cell_type": "code",
   "execution_count": 25,
   "id": "4807d2b5",
   "metadata": {},
   "outputs": [],
   "source": [
    "shutil.rmtree(tmp_dir)"
   ]
  }
 ],
 "metadata": {
  "kernelspec": {
   "display_name": "Python 3 (ipykernel)",
   "language": "python",
   "name": "python3"
  },
  "language_info": {
   "codemirror_mode": {
    "name": "ipython",
    "version": 3
   },
   "file_extension": ".py",
   "mimetype": "text/x-python",
   "name": "python",
   "nbconvert_exporter": "python",
   "pygments_lexer": "ipython3",
   "version": "3.9.5"
  }
 },
 "nbformat": 4,
 "nbformat_minor": 5
}
