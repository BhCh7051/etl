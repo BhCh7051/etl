{
 "cells": [
  {
   "cell_type": "markdown",
   "id": "cebbf56a-8df6-494f-be70-099d485d9783",
   "metadata": {},
   "source": [
    "# FAOstat: Food Balances (2014-)\n",
    "[_Source data_](https://www.fao.org/faostat/en/#data)"
   ]
  },
  {
   "cell_type": "markdown",
   "id": "0390f8bb-f03c-457e-ab63-6faa946146f7",
   "metadata": {},
   "source": [
    "## Parameters"
   ]
  },
  {
   "cell_type": "code",
   "execution_count": 2,
   "id": "107e2506",
   "metadata": {
    "tags": [
     "parameters"
    ]
   },
   "outputs": [],
   "source": [
    "dest_dir = \"/tmp/faostat_fbs\""
   ]
  },
  {
   "cell_type": "markdown",
   "id": "9cdf9669-1932-4eac-b246-7d9b2f207030",
   "metadata": {},
   "source": [
    "## Imports"
   ]
  },
  {
   "cell_type": "code",
   "execution_count": 3,
   "id": "8023359b",
   "metadata": {},
   "outputs": [],
   "source": [
    "import zipfile\n",
    "import tempfile\n",
    "import shutil\n",
    "from pathlib import Path\n",
    "import os\n",
    "\n",
    "import pandas as pd\n",
    "\n",
    "from owid.catalog import Dataset, Table\n",
    "from owid.walden import Catalog\n",
    "from etl.paths import DATA_DIR\n",
    "from etl.steps.data.converters import convert_walden_metadata"
   ]
  },
  {
   "cell_type": "markdown",
   "id": "3a935107-bede-411b-909f-2f624d9af96c",
   "metadata": {},
   "source": [
    "## Fetch walden dataset"
   ]
  },
  {
   "cell_type": "code",
   "execution_count": 20,
   "id": "0db4dd3f",
   "metadata": {},
   "outputs": [],
   "source": [
    "walden_ds = Catalog().find_one(\"faostat\", \"2021-04-09\", \"faostat_FBS\")"
   ]
  },
  {
   "cell_type": "code",
   "execution_count": 21,
   "id": "75349c16",
   "metadata": {},
   "outputs": [
    {
     "data": {
      "text/plain": [
       "Dataset(namespace='faostat', short_name='faostat_FBS', name='Food Balance: Food Balances (2014-) - FAO (2021)', description=\"Food Balance Sheet presents a comprehensive picture of the pattern of a country's food supply during a specified reference period. The food balance sheet shows for each food item - i.e. each primary commodity and a number of processed commodities potentially available for human consumption - the sources of supply and its utilization. The total quantity of foodstuffs produced in a country added to the total quantity imported and adjusted to any change in stocks that may have occurred since the beginning of the reference period gives the supply available during that period. On the utilization side a distinction is made between the quantities exported, fed to livestock, used for seed, put to manufacture for food use and non-food uses, losses during storage and transportation, and food supplies available for human consumption. The per caput supply of each such food item available for human consumption is then obtained by dividing the respective quantity by the related data on the population actually partaking of it. Data on per caput food supplies are expressed in terms of quantity and - by applying appropriate food composition factors for all primary and processed products - also in terms of caloric value and protein and fat content.\", source_name='Food and Agriculture Organization of the United Nations', url='http://www.fao.org/faostat/en/#data', date_accessed='2021-10-28', file_extension='zip', license_url='http://www.fao.org/contact-us/terms/db-terms-of-use/en', source_data_url='http://fenixservices.fao.org/faostat/static/bulkdownloads/FoodBalanceSheets_E_All_Data_(Normalized).zip', md5='d42a4975fe8fc69393a67a4d64b3d450', publication_year=2021, publication_date='2021-04-09', owid_data_url='https://walden.nyc3.digitaloceanspaces.com/faostat/2021-04-09/faostat_FBS.zip', license_name='CC BY-NC-SA 3.0 IGO', access_notes=None)"
      ]
     },
     "execution_count": 21,
     "metadata": {},
     "output_type": "execute_result"
    }
   ],
   "source": [
    "walden_ds"
   ]
  },
  {
   "cell_type": "markdown",
   "id": "a0457340-ab4c-4b1d-9f6d-24bf33cd46cc",
   "metadata": {},
   "source": [
    "## Unzip to temp directory"
   ]
  },
  {
   "cell_type": "code",
   "execution_count": 22,
   "id": "0876fa6d-5704-4ae6-bd56-4ef898929fa4",
   "metadata": {},
   "outputs": [],
   "source": [
    "tmp_dir = tempfile.mkdtemp()"
   ]
  },
  {
   "cell_type": "code",
   "execution_count": 23,
   "id": "2d624c64-57b1-4a3e-93b2-623863999f73",
   "metadata": {},
   "outputs": [
    {
     "data": {
      "text/plain": [
       "'FoodBalanceSheets_E_All_Data_(Normalized).csv'"
      ]
     },
     "execution_count": 23,
     "metadata": {},
     "output_type": "execute_result"
    }
   ],
   "source": [
    "z = zipfile.ZipFile(walden_ds.local_path)\n",
    "z.extractall(tmp_dir)\n",
    "# print(os.listdir(tmp_dir))\n",
    "(filename,) = list(filter(lambda x: \"(Normalized)\" in x, os.listdir(tmp_dir)))\n",
    "filename"
   ]
  },
  {
   "cell_type": "markdown",
   "id": "1253ec83-3031-4045-806c-05e050848e70",
   "metadata": {},
   "source": [
    "## Load dataset"
   ]
  },
  {
   "cell_type": "code",
   "execution_count": 24,
   "id": "6a829816-687e-4b88-ae86-b1f776ad609e",
   "metadata": {},
   "outputs": [],
   "source": [
    "df = pd.read_csv(os.path.join(tmp_dir, filename), encoding=\"latin-1\")"
   ]
  },
  {
   "cell_type": "code",
   "execution_count": 25,
   "id": "24532656-e035-4354-ab95-0ef495b7f617",
   "metadata": {},
   "outputs": [
    {
     "data": {
      "text/html": [
       "<div>\n",
       "<style scoped>\n",
       "    .dataframe tbody tr th:only-of-type {\n",
       "        vertical-align: middle;\n",
       "    }\n",
       "\n",
       "    .dataframe tbody tr th {\n",
       "        vertical-align: top;\n",
       "    }\n",
       "\n",
       "    .dataframe thead th {\n",
       "        text-align: right;\n",
       "    }\n",
       "</style>\n",
       "<table border=\"1\" class=\"dataframe\">\n",
       "  <thead>\n",
       "    <tr style=\"text-align: right;\">\n",
       "      <th></th>\n",
       "      <th>Area Code</th>\n",
       "      <th>Area</th>\n",
       "      <th>Item Code</th>\n",
       "      <th>Item</th>\n",
       "      <th>Element Code</th>\n",
       "      <th>Element</th>\n",
       "      <th>Year Code</th>\n",
       "      <th>Year</th>\n",
       "      <th>Unit</th>\n",
       "      <th>Value</th>\n",
       "      <th>Flag</th>\n",
       "    </tr>\n",
       "  </thead>\n",
       "  <tbody>\n",
       "    <tr>\n",
       "      <th>0</th>\n",
       "      <td>2</td>\n",
       "      <td>Afghanistan</td>\n",
       "      <td>2501</td>\n",
       "      <td>Population</td>\n",
       "      <td>511</td>\n",
       "      <td>Total Population - Both sexes</td>\n",
       "      <td>2014</td>\n",
       "      <td>2014</td>\n",
       "      <td>1000 persons</td>\n",
       "      <td>33371.0</td>\n",
       "      <td>*</td>\n",
       "    </tr>\n",
       "    <tr>\n",
       "      <th>1</th>\n",
       "      <td>2</td>\n",
       "      <td>Afghanistan</td>\n",
       "      <td>2501</td>\n",
       "      <td>Population</td>\n",
       "      <td>511</td>\n",
       "      <td>Total Population - Both sexes</td>\n",
       "      <td>2015</td>\n",
       "      <td>2015</td>\n",
       "      <td>1000 persons</td>\n",
       "      <td>34414.0</td>\n",
       "      <td>*</td>\n",
       "    </tr>\n",
       "    <tr>\n",
       "      <th>2</th>\n",
       "      <td>2</td>\n",
       "      <td>Afghanistan</td>\n",
       "      <td>2501</td>\n",
       "      <td>Population</td>\n",
       "      <td>511</td>\n",
       "      <td>Total Population - Both sexes</td>\n",
       "      <td>2016</td>\n",
       "      <td>2016</td>\n",
       "      <td>1000 persons</td>\n",
       "      <td>35383.0</td>\n",
       "      <td>*</td>\n",
       "    </tr>\n",
       "    <tr>\n",
       "      <th>3</th>\n",
       "      <td>2</td>\n",
       "      <td>Afghanistan</td>\n",
       "      <td>2501</td>\n",
       "      <td>Population</td>\n",
       "      <td>511</td>\n",
       "      <td>Total Population - Both sexes</td>\n",
       "      <td>2017</td>\n",
       "      <td>2017</td>\n",
       "      <td>1000 persons</td>\n",
       "      <td>36296.0</td>\n",
       "      <td>*</td>\n",
       "    </tr>\n",
       "    <tr>\n",
       "      <th>4</th>\n",
       "      <td>2</td>\n",
       "      <td>Afghanistan</td>\n",
       "      <td>2501</td>\n",
       "      <td>Population</td>\n",
       "      <td>511</td>\n",
       "      <td>Total Population - Both sexes</td>\n",
       "      <td>2018</td>\n",
       "      <td>2018</td>\n",
       "      <td>1000 persons</td>\n",
       "      <td>37172.0</td>\n",
       "      <td>*</td>\n",
       "    </tr>\n",
       "  </tbody>\n",
       "</table>\n",
       "</div>"
      ],
      "text/plain": [
       "   Area Code         Area  Item Code        Item  Element Code  \\\n",
       "0          2  Afghanistan       2501  Population           511   \n",
       "1          2  Afghanistan       2501  Population           511   \n",
       "2          2  Afghanistan       2501  Population           511   \n",
       "3          2  Afghanistan       2501  Population           511   \n",
       "4          2  Afghanistan       2501  Population           511   \n",
       "\n",
       "                         Element  Year Code  Year          Unit    Value Flag  \n",
       "0  Total Population - Both sexes       2014  2014  1000 persons  33371.0    *  \n",
       "1  Total Population - Both sexes       2015  2015  1000 persons  34414.0    *  \n",
       "2  Total Population - Both sexes       2016  2016  1000 persons  35383.0    *  \n",
       "3  Total Population - Both sexes       2017  2017  1000 persons  36296.0    *  \n",
       "4  Total Population - Both sexes       2018  2018  1000 persons  37172.0    *  "
      ]
     },
     "execution_count": 25,
     "metadata": {},
     "output_type": "execute_result"
    }
   ],
   "source": [
    "df.head()"
   ]
  },
  {
   "cell_type": "markdown",
   "id": "193e991a-2fd0-4cc1-a2d0-95df279d29b6",
   "metadata": {},
   "source": [
    "## Clean dataset"
   ]
  },
  {
   "cell_type": "code",
   "execution_count": 26,
   "id": "9f1c6ec5-f051-4efb-a35e-f2ffd923fa74",
   "metadata": {},
   "outputs": [],
   "source": [
    "# Drop unuseful columns\n",
    "df.drop(columns=[\"Area Code\", \"Year Code\"], inplace=True)"
   ]
  },
  {
   "cell_type": "code",
   "execution_count": 27,
   "id": "25a8aa65-9aae-4e14-8115-3586ec7432ef",
   "metadata": {},
   "outputs": [
    {
     "data": {
      "text/html": [
       "<div>\n",
       "<style scoped>\n",
       "    .dataframe tbody tr th:only-of-type {\n",
       "        vertical-align: middle;\n",
       "    }\n",
       "\n",
       "    .dataframe tbody tr th {\n",
       "        vertical-align: top;\n",
       "    }\n",
       "\n",
       "    .dataframe thead th {\n",
       "        text-align: right;\n",
       "    }\n",
       "</style>\n",
       "<table border=\"1\" class=\"dataframe\">\n",
       "  <thead>\n",
       "    <tr style=\"text-align: right;\">\n",
       "      <th></th>\n",
       "      <th>Area</th>\n",
       "      <th>Item Code</th>\n",
       "      <th>Item</th>\n",
       "      <th>Element Code</th>\n",
       "      <th>Element</th>\n",
       "      <th>Year</th>\n",
       "      <th>Unit</th>\n",
       "      <th>Value</th>\n",
       "      <th>Flag</th>\n",
       "    </tr>\n",
       "  </thead>\n",
       "  <tbody>\n",
       "    <tr>\n",
       "      <th>0</th>\n",
       "      <td>Afghanistan</td>\n",
       "      <td>2501</td>\n",
       "      <td>Population</td>\n",
       "      <td>511</td>\n",
       "      <td>Total Population - Both sexes</td>\n",
       "      <td>2014</td>\n",
       "      <td>1000 persons</td>\n",
       "      <td>33371.0</td>\n",
       "      <td>*</td>\n",
       "    </tr>\n",
       "    <tr>\n",
       "      <th>1</th>\n",
       "      <td>Afghanistan</td>\n",
       "      <td>2501</td>\n",
       "      <td>Population</td>\n",
       "      <td>511</td>\n",
       "      <td>Total Population - Both sexes</td>\n",
       "      <td>2015</td>\n",
       "      <td>1000 persons</td>\n",
       "      <td>34414.0</td>\n",
       "      <td>*</td>\n",
       "    </tr>\n",
       "    <tr>\n",
       "      <th>2</th>\n",
       "      <td>Afghanistan</td>\n",
       "      <td>2501</td>\n",
       "      <td>Population</td>\n",
       "      <td>511</td>\n",
       "      <td>Total Population - Both sexes</td>\n",
       "      <td>2016</td>\n",
       "      <td>1000 persons</td>\n",
       "      <td>35383.0</td>\n",
       "      <td>*</td>\n",
       "    </tr>\n",
       "    <tr>\n",
       "      <th>3</th>\n",
       "      <td>Afghanistan</td>\n",
       "      <td>2501</td>\n",
       "      <td>Population</td>\n",
       "      <td>511</td>\n",
       "      <td>Total Population - Both sexes</td>\n",
       "      <td>2017</td>\n",
       "      <td>1000 persons</td>\n",
       "      <td>36296.0</td>\n",
       "      <td>*</td>\n",
       "    </tr>\n",
       "    <tr>\n",
       "      <th>4</th>\n",
       "      <td>Afghanistan</td>\n",
       "      <td>2501</td>\n",
       "      <td>Population</td>\n",
       "      <td>511</td>\n",
       "      <td>Total Population - Both sexes</td>\n",
       "      <td>2018</td>\n",
       "      <td>1000 persons</td>\n",
       "      <td>37172.0</td>\n",
       "      <td>*</td>\n",
       "    </tr>\n",
       "  </tbody>\n",
       "</table>\n",
       "</div>"
      ],
      "text/plain": [
       "          Area  Item Code        Item  Element Code  \\\n",
       "0  Afghanistan       2501  Population           511   \n",
       "1  Afghanistan       2501  Population           511   \n",
       "2  Afghanistan       2501  Population           511   \n",
       "3  Afghanistan       2501  Population           511   \n",
       "4  Afghanistan       2501  Population           511   \n",
       "\n",
       "                         Element  Year          Unit    Value Flag  \n",
       "0  Total Population - Both sexes  2014  1000 persons  33371.0    *  \n",
       "1  Total Population - Both sexes  2015  1000 persons  34414.0    *  \n",
       "2  Total Population - Both sexes  2016  1000 persons  35383.0    *  \n",
       "3  Total Population - Both sexes  2017  1000 persons  36296.0    *  \n",
       "4  Total Population - Both sexes  2018  1000 persons  37172.0    *  "
      ]
     },
     "execution_count": 27,
     "metadata": {},
     "output_type": "execute_result"
    }
   ],
   "source": [
    "df.head()"
   ]
  },
  {
   "cell_type": "code",
   "execution_count": 28,
   "id": "94da6b54-88a9-41c6-b9bc-701704824057",
   "metadata": {},
   "outputs": [
    {
     "data": {
      "text/plain": [
       "Area            False\n",
       "Item Code       False\n",
       "Item            False\n",
       "Element Code    False\n",
       "Element         False\n",
       "Year            False\n",
       "Unit            False\n",
       "Value           False\n",
       "Flag            False\n",
       "dtype: bool"
      ]
     },
     "execution_count": 28,
     "metadata": {},
     "output_type": "execute_result"
    }
   ],
   "source": [
    "# Check nulls\n",
    "df.isnull().any()"
   ]
  },
  {
   "cell_type": "markdown",
   "id": "8f1f39b4-5c81-489b-836f-261f6861b3dc",
   "metadata": {},
   "source": [
    "### Reduce df memory usage"
   ]
  },
  {
   "cell_type": "code",
   "execution_count": 29,
   "id": "6bb17698-c75e-4b2c-a4bb-200a4a3e0c6d",
   "metadata": {},
   "outputs": [
    {
     "data": {
      "text/plain": [
       "103.63628"
      ]
     },
     "execution_count": 29,
     "metadata": {},
     "output_type": "execute_result"
    }
   ],
   "source": [
    "# Check memory usage (MB)\n",
    "df.memory_usage(index=True).sum() / 1000000"
   ]
  },
  {
   "cell_type": "code",
   "execution_count": 30,
   "id": "6d6c8865-f8a7-4453-8ea0-dd8ac079322e",
   "metadata": {},
   "outputs": [
    {
     "data": {
      "text/plain": [
       "Area             object\n",
       "Item Code         int64\n",
       "Item             object\n",
       "Element Code      int64\n",
       "Element          object\n",
       "Year              int64\n",
       "Unit             object\n",
       "Value           float64\n",
       "Flag             object\n",
       "dtype: object"
      ]
     },
     "execution_count": 30,
     "metadata": {},
     "output_type": "execute_result"
    }
   ],
   "source": [
    "df.dtypes"
   ]
  },
  {
   "cell_type": "code",
   "execution_count": 31,
   "id": "a53c4dce-765c-4038-906c-26a7788d61d7",
   "metadata": {},
   "outputs": [],
   "source": [
    "column_cols = [\"Area\", \"Item\", \"Element\", \"Unit\", \"Flag\", \"Item Code\", \"Element Code\"]\n",
    "df[column_cols] = df[column_cols].astype(\"category\")\n",
    "df[\"Year\"] = df[\"Year\"].astype(\"uint16\")"
   ]
  },
  {
   "cell_type": "code",
   "execution_count": 32,
   "id": "ee3d8afe-1df4-47e5-8006-8ebb5f5bedd4",
   "metadata": {},
   "outputs": [
    {
     "data": {
      "text/plain": [
       "25.931254"
      ]
     },
     "execution_count": 32,
     "metadata": {},
     "output_type": "execute_result"
    }
   ],
   "source": [
    "# Check memory usage (MB)\n",
    "df.memory_usage(index=True).sum() / 1000000"
   ]
  },
  {
   "cell_type": "code",
   "execution_count": 33,
   "id": "15eb6f11-3e75-48d5-b0ef-34bc010845a5",
   "metadata": {},
   "outputs": [
    {
     "data": {
      "text/html": [
       "<div>\n",
       "<style scoped>\n",
       "    .dataframe tbody tr th:only-of-type {\n",
       "        vertical-align: middle;\n",
       "    }\n",
       "\n",
       "    .dataframe tbody tr th {\n",
       "        vertical-align: top;\n",
       "    }\n",
       "\n",
       "    .dataframe thead th {\n",
       "        text-align: right;\n",
       "    }\n",
       "</style>\n",
       "<table border=\"1\" class=\"dataframe\">\n",
       "  <thead>\n",
       "    <tr style=\"text-align: right;\">\n",
       "      <th></th>\n",
       "      <th>Area</th>\n",
       "      <th>Item Code</th>\n",
       "      <th>Item</th>\n",
       "      <th>Element Code</th>\n",
       "      <th>Element</th>\n",
       "      <th>Year</th>\n",
       "      <th>Unit</th>\n",
       "      <th>Value</th>\n",
       "      <th>Flag</th>\n",
       "    </tr>\n",
       "  </thead>\n",
       "  <tbody>\n",
       "    <tr>\n",
       "      <th>0</th>\n",
       "      <td>Afghanistan</td>\n",
       "      <td>2501</td>\n",
       "      <td>Population</td>\n",
       "      <td>511</td>\n",
       "      <td>Total Population - Both sexes</td>\n",
       "      <td>2014</td>\n",
       "      <td>1000 persons</td>\n",
       "      <td>33371.0</td>\n",
       "      <td>*</td>\n",
       "    </tr>\n",
       "    <tr>\n",
       "      <th>1</th>\n",
       "      <td>Afghanistan</td>\n",
       "      <td>2501</td>\n",
       "      <td>Population</td>\n",
       "      <td>511</td>\n",
       "      <td>Total Population - Both sexes</td>\n",
       "      <td>2015</td>\n",
       "      <td>1000 persons</td>\n",
       "      <td>34414.0</td>\n",
       "      <td>*</td>\n",
       "    </tr>\n",
       "    <tr>\n",
       "      <th>2</th>\n",
       "      <td>Afghanistan</td>\n",
       "      <td>2501</td>\n",
       "      <td>Population</td>\n",
       "      <td>511</td>\n",
       "      <td>Total Population - Both sexes</td>\n",
       "      <td>2016</td>\n",
       "      <td>1000 persons</td>\n",
       "      <td>35383.0</td>\n",
       "      <td>*</td>\n",
       "    </tr>\n",
       "    <tr>\n",
       "      <th>3</th>\n",
       "      <td>Afghanistan</td>\n",
       "      <td>2501</td>\n",
       "      <td>Population</td>\n",
       "      <td>511</td>\n",
       "      <td>Total Population - Both sexes</td>\n",
       "      <td>2017</td>\n",
       "      <td>1000 persons</td>\n",
       "      <td>36296.0</td>\n",
       "      <td>*</td>\n",
       "    </tr>\n",
       "    <tr>\n",
       "      <th>4</th>\n",
       "      <td>Afghanistan</td>\n",
       "      <td>2501</td>\n",
       "      <td>Population</td>\n",
       "      <td>511</td>\n",
       "      <td>Total Population - Both sexes</td>\n",
       "      <td>2018</td>\n",
       "      <td>1000 persons</td>\n",
       "      <td>37172.0</td>\n",
       "      <td>*</td>\n",
       "    </tr>\n",
       "  </tbody>\n",
       "</table>\n",
       "</div>"
      ],
      "text/plain": [
       "          Area Item Code        Item Element Code  \\\n",
       "0  Afghanistan      2501  Population          511   \n",
       "1  Afghanistan      2501  Population          511   \n",
       "2  Afghanistan      2501  Population          511   \n",
       "3  Afghanistan      2501  Population          511   \n",
       "4  Afghanistan      2501  Population          511   \n",
       "\n",
       "                         Element  Year          Unit    Value Flag  \n",
       "0  Total Population - Both sexes  2014  1000 persons  33371.0    *  \n",
       "1  Total Population - Both sexes  2015  1000 persons  34414.0    *  \n",
       "2  Total Population - Both sexes  2016  1000 persons  35383.0    *  \n",
       "3  Total Population - Both sexes  2017  1000 persons  36296.0    *  \n",
       "4  Total Population - Both sexes  2018  1000 persons  37172.0    *  "
      ]
     },
     "execution_count": 33,
     "metadata": {},
     "output_type": "execute_result"
    }
   ],
   "source": [
    "df.head()"
   ]
  },
  {
   "cell_type": "markdown",
   "id": "0c76f518-4db0-484b-a68d-0fa13227cc70",
   "metadata": {},
   "source": [
    "### Sanity checks"
   ]
  },
  {
   "cell_type": "code",
   "execution_count": 35,
   "id": "917a1c78-05f9-450f-85ab-ee84f57003f6",
   "metadata": {},
   "outputs": [],
   "source": [
    "def check_unique_pairs(df, name_1, name_2):\n",
    "    if not (\n",
    "        (df.groupby(name_1)[name_2].nunique() == 1).sum()\n",
    "        and (df.groupby(name_2)[name_1].nunique() == 1).sum()\n",
    "    ):\n",
    "        raise ValueError(\n",
    "            f\"Some `{name_1}` may have multiple `{name_2}` values (or opposite).\"\n",
    "        )"
   ]
  },
  {
   "cell_type": "code",
   "execution_count": 36,
   "id": "4dcda1da-30a6-4996-87f5-7654d1616057",
   "metadata": {},
   "outputs": [],
   "source": [
    "fields = [\"Item\", \"Element\"]\n",
    "for field in fields:\n",
    "    check_unique_pairs(df, field, f\"{field} Code\")"
   ]
  },
  {
   "cell_type": "code",
   "execution_count": 37,
   "id": "b094e4db-07cd-4e32-b2d8-8a21e74a97d2",
   "metadata": {},
   "outputs": [],
   "source": [
    "df.set_index([\"Area\", \"Item\", \"Element\", \"Year\", \"Unit\"], inplace=True)"
   ]
  },
  {
   "cell_type": "markdown",
   "id": "53507192-552a-4196-9283-b6d3c5dbbc9a",
   "metadata": {},
   "source": [
    "## Make a dataset"
   ]
  },
  {
   "cell_type": "code",
   "execution_count": 38,
   "id": "f061b326-fb0f-4846-89fc-aa0b2065cb16",
   "metadata": {},
   "outputs": [],
   "source": [
    "ds = Dataset.create_empty(dest_dir)\n",
    "ds.metadata = convert_walden_metadata(walden_ds)\n",
    "ds.save()"
   ]
  },
  {
   "cell_type": "code",
   "execution_count": 39,
   "id": "e6ccda9c-7472-4c3c-9b13-2e895bb19553",
   "metadata": {},
   "outputs": [
    {
     "data": {
      "text/plain": [
       "Dataset(path='/tmp/faostat_fbs', metadata=DatasetMeta(namespace='faostat', short_name='faostat_FBS', title='Food Balance: Food Balances (2014-) - FAO (2021)', description=\"Food Balance Sheet presents a comprehensive picture of the pattern of a country's food supply during a specified reference period. The food balance sheet shows for each food item - i.e. each primary commodity and a number of processed commodities potentially available for human consumption - the sources of supply and its utilization. The total quantity of foodstuffs produced in a country added to the total quantity imported and adjusted to any change in stocks that may have occurred since the beginning of the reference period gives the supply available during that period. On the utilization side a distinction is made between the quantities exported, fed to livestock, used for seed, put to manufacture for food use and non-food uses, losses during storage and transportation, and food supplies available for human consumption. The per caput supply of each such food item available for human consumption is then obtained by dividing the respective quantity by the related data on the population actually partaking of it. Data on per caput food supplies are expressed in terms of quantity and - by applying appropriate food composition factors for all primary and processed products - also in terms of caloric value and protein and fat content.\", sources=[Source(name='Food and Agriculture Organization of the United Nations', description=None, url='http://www.fao.org/faostat/en/#data', source_data_url='http://fenixservices.fao.org/faostat/static/bulkdownloads/FoodBalanceSheets_E_All_Data_(Normalized).zip', owid_data_url='https://walden.nyc3.digitaloceanspaces.com/faostat/2021-04-09/faostat_FBS.zip', date_accessed='2021-10-28', publication_date='2021-04-09', publication_year=2021)], licenses=[License(name='CC BY-NC-SA 3.0 IGO', url='http://www.fao.org/contact-us/terms/db-terms-of-use/en')], source_checksum=None))"
      ]
     },
     "execution_count": 39,
     "metadata": {},
     "output_type": "execute_result"
    }
   ],
   "source": [
    "ds"
   ]
  },
  {
   "cell_type": "markdown",
   "id": "c59ee8e2-2712-42d8-80d9-c2785b5e0d3b",
   "metadata": {},
   "source": [
    "## Add tables"
   ]
  },
  {
   "cell_type": "code",
   "execution_count": 40,
   "id": "74f3c0f3-5d15-46cc-86d5-4c36ca9545b0",
   "metadata": {},
   "outputs": [],
   "source": [
    "t = Table(df)\n",
    "t.metadata.short_name = \"faostat_fbs\"\n",
    "ds.add(t)"
   ]
  },
  {
   "cell_type": "markdown",
   "id": "2be1ee04-8240-4908-8eef-23f79b7d84ac",
   "metadata": {},
   "source": [
    "## Cleanup"
   ]
  },
  {
   "cell_type": "code",
   "execution_count": 41,
   "id": "f276e127-3c31-4f83-ac54-c021dc7aee9d",
   "metadata": {},
   "outputs": [],
   "source": [
    "shutil.rmtree(tmp_dir)"
   ]
  }
 ],
 "metadata": {
  "kernelspec": {
   "display_name": "Python 3 (ipykernel)",
   "language": "python",
   "name": "python3"
  },
  "language_info": {
   "codemirror_mode": {
    "name": "ipython",
    "version": 3
   },
   "file_extension": ".py",
   "mimetype": "text/x-python",
   "name": "python",
   "nbconvert_exporter": "python",
   "pygments_lexer": "ipython3",
   "version": "3.9.5"
  }
 },
 "nbformat": 4,
 "nbformat_minor": 5
}
