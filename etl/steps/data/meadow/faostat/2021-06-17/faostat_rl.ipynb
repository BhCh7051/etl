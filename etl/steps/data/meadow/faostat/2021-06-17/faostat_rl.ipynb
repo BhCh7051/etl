{
 "cells": [
  {
   "cell_type": "code",
   "execution_count": 1,
   "id": "a57a0356-22c6-4eb5-a93b-631bd2cc8d3d",
   "metadata": {
    "tags": [
     "parameters"
    ]
   },
   "outputs": [],
   "source": [
    "dest_dir = \"/tmp/faostat_rl\""
   ]
  },
  {
   "cell_type": "code",
   "execution_count": 25,
   "id": "1c12ad82-b3c6-4d2e-81e6-8e8fe39cd8e8",
   "metadata": {},
   "outputs": [],
   "source": [
    "from owid.catalog import Dataset, Table\n",
    "from owid import walden\n",
    "from etl.steps.data.converters import convert_walden_metadata"
   ]
  },
  {
   "cell_type": "code",
   "execution_count": null,
   "id": "9ba14f2d-ff77-4574-a95b-2642eebbd3c5",
   "metadata": {},
   "outputs": [],
   "source": []
  },
  {
   "cell_type": "code",
   "execution_count": 4,
   "id": "8878cbc7-c059-49e8-8e57-3a09bf38deea",
   "metadata": {},
   "outputs": [],
   "source": [
    "ds = Dataset.create_empty(dest_dir)"
   ]
  },
  {
   "cell_type": "code",
   "execution_count": 6,
   "id": "5879f40a-0893-4c3e-aee5-4f519700f012",
   "metadata": {},
   "outputs": [],
   "source": [
    "cat = walden.Catalog()"
   ]
  },
  {
   "cell_type": "code",
   "execution_count": 17,
   "id": "5e5bbd88-30a0-47f3-9427-e6a438058add",
   "metadata": {},
   "outputs": [
    {
     "data": {
      "text/plain": [
       "Dataset(namespace='faostat', short_name='faostat_rl', name='Land, Inputs and Sustainability: Land Use - FAO (2021)', description='The FAOSTAT Land Use domain contains data on forty-four categories of land use, irrigation and agricultural practices, relevant to monitor agriculture, forestry and fisheries activities at national, regional and global level. Data are available by country and year, with global coverage and annual updates.', source_name='Food and Agriculture Organization of the United Nations', url='http://www.fao.org/faostat/en/#data', date_accessed='2021-11-05', file_extension='zip', license_url='http://www.fao.org/contact-us/terms/db-terms-of-use/en', source_data_url='https://fenixservices.fao.org/faostat/static/bulkdownloads/Inputs_LandUse_E_All_Data_(Normalized).zip', md5='f674d66f36b564c17cc6f96203dceb0d', publication_year=2021, publication_date='2021-06-17', owid_data_url='http://walden.nyc3.digitaloceanspaces.com/faostat/2021-06-17/Inputs_LandUse_E_All_Data_(Normalized).zip', license_name='CC BY-NC-SA 3.0 IGO', access_notes=None)"
      ]
     },
     "execution_count": 17,
     "metadata": {},
     "output_type": "execute_result"
    }
   ],
   "source": [
    "walden_ds = cat.find_one(short_name=\"faostat_rl\")\n",
    "walden_ds"
   ]
  },
  {
   "cell_type": "code",
   "execution_count": null,
   "id": "82395a18-d24b-4394-a3aa-2fe87e8ca334",
   "metadata": {},
   "outputs": [],
   "source": [
    "ds.metadata = convert_walden_metadata(walden_ds)\n",
    "ds.save()"
   ]
  },
  {
   "cell_type": "code",
   "execution_count": 26,
   "id": "65894103-7532-4355-a872-3157104a9bd9",
   "metadata": {},
   "outputs": [
    {
     "data": {
      "text/plain": [
       "'/Users/bmacwell/.owid/walden/faostat/2021-06-17/faostat_rl.zip'"
      ]
     },
     "execution_count": 26,
     "metadata": {},
     "output_type": "execute_result"
    }
   ],
   "source": [
    "walden_ds.local_path"
   ]
  },
  {
   "cell_type": "code",
   "execution_count": 29,
   "id": "b3a02c32-cded-4bba-9639-4bb9965f94e8",
   "metadata": {},
   "outputs": [],
   "source": [
    "import tempfile"
   ]
  },
  {
   "cell_type": "code",
   "execution_count": 31,
   "id": "68130c84-4600-48b7-a8e8-893cddf049c9",
   "metadata": {},
   "outputs": [
    {
     "data": {
      "text/plain": [
       "'/var/folders/7w/439b5c190j90py3_7k6xw8g00000gn/T/tmp80wo1_p_'"
      ]
     },
     "execution_count": 31,
     "metadata": {},
     "output_type": "execute_result"
    }
   ],
   "source": [
    "dir = tempfile.mkdtemp()\n",
    "dir"
   ]
  },
  {
   "cell_type": "code",
   "execution_count": 32,
   "id": "aac9c49b-cbd0-4f36-9210-1a5d52762a4e",
   "metadata": {},
   "outputs": [],
   "source": [
    "import zipfile"
   ]
  },
  {
   "cell_type": "code",
   "execution_count": 36,
   "id": "1a9fd848-b3a5-4c52-887c-1bc495c9b53c",
   "metadata": {},
   "outputs": [
    {
     "name": "stdout",
     "output_type": "stream",
     "text": [
      "Inputs_LandUse_E_All_Data_(Normalized).csv\n",
      "Inputs_LandUse_E_Flags.csv\n"
     ]
    }
   ],
   "source": [
    "zf = zipfile.ZipFile(walden_ds.local_path)\n",
    "zf.extractall(dir)\n",
    "!ls {dir}"
   ]
  },
  {
   "cell_type": "code",
   "execution_count": 39,
   "id": "07ab326b-bce6-44d9-9335-4fd86ef4fb8c",
   "metadata": {},
   "outputs": [],
   "source": [
    "import pandas as pd\n",
    "import os"
   ]
  },
  {
   "cell_type": "code",
   "execution_count": 41,
   "id": "53245b1b-1086-4658-a12a-7b921cba0cdd",
   "metadata": {},
   "outputs": [],
   "source": [
    "df = pd.read_csv(\n",
    "    os.path.join(dir, \"Inputs_LandUse_E_All_Data_(Normalized).csv\"), encoding=\"latin1\"\n",
    ")"
   ]
  },
  {
   "cell_type": "code",
   "execution_count": 42,
   "id": "29000d05-60f8-4cf1-918c-f0118cb979a0",
   "metadata": {},
   "outputs": [
    {
     "data": {
      "text/html": [
       "<div>\n",
       "<style scoped>\n",
       "    .dataframe tbody tr th:only-of-type {\n",
       "        vertical-align: middle;\n",
       "    }\n",
       "\n",
       "    .dataframe tbody tr th {\n",
       "        vertical-align: top;\n",
       "    }\n",
       "\n",
       "    .dataframe thead th {\n",
       "        text-align: right;\n",
       "    }\n",
       "</style>\n",
       "<table border=\"1\" class=\"dataframe\">\n",
       "  <thead>\n",
       "    <tr style=\"text-align: right;\">\n",
       "      <th></th>\n",
       "      <th>Area Code</th>\n",
       "      <th>Area</th>\n",
       "      <th>Item Code</th>\n",
       "      <th>Item</th>\n",
       "      <th>Element Code</th>\n",
       "      <th>Element</th>\n",
       "      <th>Year Code</th>\n",
       "      <th>Year</th>\n",
       "      <th>Unit</th>\n",
       "      <th>Value</th>\n",
       "      <th>Flag</th>\n",
       "    </tr>\n",
       "  </thead>\n",
       "  <tbody>\n",
       "    <tr>\n",
       "      <th>0</th>\n",
       "      <td>2</td>\n",
       "      <td>Afghanistan</td>\n",
       "      <td>6600</td>\n",
       "      <td>Country area</td>\n",
       "      <td>5110</td>\n",
       "      <td>Area</td>\n",
       "      <td>1961</td>\n",
       "      <td>1961</td>\n",
       "      <td>1000 ha</td>\n",
       "      <td>65286.0</td>\n",
       "      <td>W</td>\n",
       "    </tr>\n",
       "    <tr>\n",
       "      <th>1</th>\n",
       "      <td>2</td>\n",
       "      <td>Afghanistan</td>\n",
       "      <td>6600</td>\n",
       "      <td>Country area</td>\n",
       "      <td>5110</td>\n",
       "      <td>Area</td>\n",
       "      <td>1962</td>\n",
       "      <td>1962</td>\n",
       "      <td>1000 ha</td>\n",
       "      <td>65286.0</td>\n",
       "      <td>W</td>\n",
       "    </tr>\n",
       "    <tr>\n",
       "      <th>2</th>\n",
       "      <td>2</td>\n",
       "      <td>Afghanistan</td>\n",
       "      <td>6600</td>\n",
       "      <td>Country area</td>\n",
       "      <td>5110</td>\n",
       "      <td>Area</td>\n",
       "      <td>1963</td>\n",
       "      <td>1963</td>\n",
       "      <td>1000 ha</td>\n",
       "      <td>65286.0</td>\n",
       "      <td>W</td>\n",
       "    </tr>\n",
       "    <tr>\n",
       "      <th>3</th>\n",
       "      <td>2</td>\n",
       "      <td>Afghanistan</td>\n",
       "      <td>6600</td>\n",
       "      <td>Country area</td>\n",
       "      <td>5110</td>\n",
       "      <td>Area</td>\n",
       "      <td>1964</td>\n",
       "      <td>1964</td>\n",
       "      <td>1000 ha</td>\n",
       "      <td>65286.0</td>\n",
       "      <td>W</td>\n",
       "    </tr>\n",
       "    <tr>\n",
       "      <th>4</th>\n",
       "      <td>2</td>\n",
       "      <td>Afghanistan</td>\n",
       "      <td>6600</td>\n",
       "      <td>Country area</td>\n",
       "      <td>5110</td>\n",
       "      <td>Area</td>\n",
       "      <td>1965</td>\n",
       "      <td>1965</td>\n",
       "      <td>1000 ha</td>\n",
       "      <td>65286.0</td>\n",
       "      <td>W</td>\n",
       "    </tr>\n",
       "  </tbody>\n",
       "</table>\n",
       "</div>"
      ],
      "text/plain": [
       "   Area Code         Area  Item Code          Item  Element Code Element  \\\n",
       "0          2  Afghanistan       6600  Country area          5110    Area   \n",
       "1          2  Afghanistan       6600  Country area          5110    Area   \n",
       "2          2  Afghanistan       6600  Country area          5110    Area   \n",
       "3          2  Afghanistan       6600  Country area          5110    Area   \n",
       "4          2  Afghanistan       6600  Country area          5110    Area   \n",
       "\n",
       "   Year Code  Year     Unit    Value Flag  \n",
       "0       1961  1961  1000 ha  65286.0    W  \n",
       "1       1962  1962  1000 ha  65286.0    W  \n",
       "2       1963  1963  1000 ha  65286.0    W  \n",
       "3       1964  1964  1000 ha  65286.0    W  \n",
       "4       1965  1965  1000 ha  65286.0    W  "
      ]
     },
     "execution_count": 42,
     "metadata": {},
     "output_type": "execute_result"
    }
   ],
   "source": [
    "df.head()"
   ]
  },
  {
   "cell_type": "code",
   "execution_count": 43,
   "id": "7f8b0499-0b7c-400d-bccf-72cd9ba794be",
   "metadata": {},
   "outputs": [],
   "source": [
    "df.set_index([\"Area\", \"Item\", \"Element\", \"Year\"], inplace=True, verify_integrity=True)"
   ]
  },
  {
   "cell_type": "code",
   "execution_count": 44,
   "id": "c96d30ba-ff85-42c5-95af-94a537edc828",
   "metadata": {},
   "outputs": [
    {
     "data": {
      "text/html": [
       "<div>\n",
       "<style scoped>\n",
       "    .dataframe tbody tr th:only-of-type {\n",
       "        vertical-align: middle;\n",
       "    }\n",
       "\n",
       "    .dataframe tbody tr th {\n",
       "        vertical-align: top;\n",
       "    }\n",
       "\n",
       "    .dataframe thead th {\n",
       "        text-align: right;\n",
       "    }\n",
       "</style>\n",
       "<table border=\"1\" class=\"dataframe\">\n",
       "  <thead>\n",
       "    <tr style=\"text-align: right;\">\n",
       "      <th></th>\n",
       "      <th></th>\n",
       "      <th></th>\n",
       "      <th></th>\n",
       "      <th>Area Code</th>\n",
       "      <th>Item Code</th>\n",
       "      <th>Element Code</th>\n",
       "      <th>Year Code</th>\n",
       "      <th>Unit</th>\n",
       "      <th>Value</th>\n",
       "      <th>Flag</th>\n",
       "    </tr>\n",
       "    <tr>\n",
       "      <th>Area</th>\n",
       "      <th>Item</th>\n",
       "      <th>Element</th>\n",
       "      <th>Year</th>\n",
       "      <th></th>\n",
       "      <th></th>\n",
       "      <th></th>\n",
       "      <th></th>\n",
       "      <th></th>\n",
       "      <th></th>\n",
       "      <th></th>\n",
       "    </tr>\n",
       "  </thead>\n",
       "  <tbody>\n",
       "    <tr>\n",
       "      <th rowspan=\"5\" valign=\"top\">Afghanistan</th>\n",
       "      <th rowspan=\"5\" valign=\"top\">Country area</th>\n",
       "      <th rowspan=\"5\" valign=\"top\">Area</th>\n",
       "      <th>1961</th>\n",
       "      <td>2</td>\n",
       "      <td>6600</td>\n",
       "      <td>5110</td>\n",
       "      <td>1961</td>\n",
       "      <td>1000 ha</td>\n",
       "      <td>65286.0</td>\n",
       "      <td>W</td>\n",
       "    </tr>\n",
       "    <tr>\n",
       "      <th>1962</th>\n",
       "      <td>2</td>\n",
       "      <td>6600</td>\n",
       "      <td>5110</td>\n",
       "      <td>1962</td>\n",
       "      <td>1000 ha</td>\n",
       "      <td>65286.0</td>\n",
       "      <td>W</td>\n",
       "    </tr>\n",
       "    <tr>\n",
       "      <th>1963</th>\n",
       "      <td>2</td>\n",
       "      <td>6600</td>\n",
       "      <td>5110</td>\n",
       "      <td>1963</td>\n",
       "      <td>1000 ha</td>\n",
       "      <td>65286.0</td>\n",
       "      <td>W</td>\n",
       "    </tr>\n",
       "    <tr>\n",
       "      <th>1964</th>\n",
       "      <td>2</td>\n",
       "      <td>6600</td>\n",
       "      <td>5110</td>\n",
       "      <td>1964</td>\n",
       "      <td>1000 ha</td>\n",
       "      <td>65286.0</td>\n",
       "      <td>W</td>\n",
       "    </tr>\n",
       "    <tr>\n",
       "      <th>1965</th>\n",
       "      <td>2</td>\n",
       "      <td>6600</td>\n",
       "      <td>5110</td>\n",
       "      <td>1965</td>\n",
       "      <td>1000 ha</td>\n",
       "      <td>65286.0</td>\n",
       "      <td>W</td>\n",
       "    </tr>\n",
       "  </tbody>\n",
       "</table>\n",
       "</div>"
      ],
      "text/plain": [
       "                                       Area Code  Item Code  Element Code  \\\n",
       "Area        Item         Element Year                                       \n",
       "Afghanistan Country area Area    1961          2       6600          5110   \n",
       "                                 1962          2       6600          5110   \n",
       "                                 1963          2       6600          5110   \n",
       "                                 1964          2       6600          5110   \n",
       "                                 1965          2       6600          5110   \n",
       "\n",
       "                                       Year Code     Unit    Value Flag  \n",
       "Area        Item         Element Year                                    \n",
       "Afghanistan Country area Area    1961       1961  1000 ha  65286.0    W  \n",
       "                                 1962       1962  1000 ha  65286.0    W  \n",
       "                                 1963       1963  1000 ha  65286.0    W  \n",
       "                                 1964       1964  1000 ha  65286.0    W  \n",
       "                                 1965       1965  1000 ha  65286.0    W  "
      ]
     },
     "execution_count": 44,
     "metadata": {},
     "output_type": "execute_result"
    }
   ],
   "source": [
    "df.head()"
   ]
  },
  {
   "cell_type": "code",
   "execution_count": 45,
   "id": "b645188b-4380-4a69-98df-74032ab0fc7f",
   "metadata": {},
   "outputs": [],
   "source": [
    "df.drop(columns=[\"Area Code\", \"Item Code\", \"Element Code\", \"Year Code\"], inplace=True)"
   ]
  },
  {
   "cell_type": "code",
   "execution_count": 46,
   "id": "5d4f8b70-c477-4a03-9823-a34a4b54396c",
   "metadata": {},
   "outputs": [
    {
     "data": {
      "text/html": [
       "<div>\n",
       "<style scoped>\n",
       "    .dataframe tbody tr th:only-of-type {\n",
       "        vertical-align: middle;\n",
       "    }\n",
       "\n",
       "    .dataframe tbody tr th {\n",
       "        vertical-align: top;\n",
       "    }\n",
       "\n",
       "    .dataframe thead th {\n",
       "        text-align: right;\n",
       "    }\n",
       "</style>\n",
       "<table border=\"1\" class=\"dataframe\">\n",
       "  <thead>\n",
       "    <tr style=\"text-align: right;\">\n",
       "      <th></th>\n",
       "      <th></th>\n",
       "      <th></th>\n",
       "      <th></th>\n",
       "      <th>Unit</th>\n",
       "      <th>Value</th>\n",
       "      <th>Flag</th>\n",
       "    </tr>\n",
       "    <tr>\n",
       "      <th>Area</th>\n",
       "      <th>Item</th>\n",
       "      <th>Element</th>\n",
       "      <th>Year</th>\n",
       "      <th></th>\n",
       "      <th></th>\n",
       "      <th></th>\n",
       "    </tr>\n",
       "  </thead>\n",
       "  <tbody>\n",
       "    <tr>\n",
       "      <th rowspan=\"5\" valign=\"top\">Afghanistan</th>\n",
       "      <th rowspan=\"5\" valign=\"top\">Country area</th>\n",
       "      <th rowspan=\"5\" valign=\"top\">Area</th>\n",
       "      <th>1961</th>\n",
       "      <td>1000 ha</td>\n",
       "      <td>65286.0</td>\n",
       "      <td>W</td>\n",
       "    </tr>\n",
       "    <tr>\n",
       "      <th>1962</th>\n",
       "      <td>1000 ha</td>\n",
       "      <td>65286.0</td>\n",
       "      <td>W</td>\n",
       "    </tr>\n",
       "    <tr>\n",
       "      <th>1963</th>\n",
       "      <td>1000 ha</td>\n",
       "      <td>65286.0</td>\n",
       "      <td>W</td>\n",
       "    </tr>\n",
       "    <tr>\n",
       "      <th>1964</th>\n",
       "      <td>1000 ha</td>\n",
       "      <td>65286.0</td>\n",
       "      <td>W</td>\n",
       "    </tr>\n",
       "    <tr>\n",
       "      <th>1965</th>\n",
       "      <td>1000 ha</td>\n",
       "      <td>65286.0</td>\n",
       "      <td>W</td>\n",
       "    </tr>\n",
       "  </tbody>\n",
       "</table>\n",
       "</div>"
      ],
      "text/plain": [
       "                                          Unit    Value Flag\n",
       "Area        Item         Element Year                       \n",
       "Afghanistan Country area Area    1961  1000 ha  65286.0    W\n",
       "                                 1962  1000 ha  65286.0    W\n",
       "                                 1963  1000 ha  65286.0    W\n",
       "                                 1964  1000 ha  65286.0    W\n",
       "                                 1965  1000 ha  65286.0    W"
      ]
     },
     "execution_count": 46,
     "metadata": {},
     "output_type": "execute_result"
    }
   ],
   "source": [
    "df.head()"
   ]
  },
  {
   "cell_type": "code",
   "execution_count": 47,
   "id": "a62cbca8-ff89-4c98-b554-b8547b1267cd",
   "metadata": {},
   "outputs": [],
   "source": [
    "t = Table(df)"
   ]
  },
  {
   "cell_type": "code",
   "execution_count": 48,
   "id": "a7c7ab62-6f48-4e8c-abf4-67a8b19acbae",
   "metadata": {},
   "outputs": [
    {
     "data": {
      "text/html": [
       "<div>\n",
       "<style scoped>\n",
       "    .dataframe tbody tr th:only-of-type {\n",
       "        vertical-align: middle;\n",
       "    }\n",
       "\n",
       "    .dataframe tbody tr th {\n",
       "        vertical-align: top;\n",
       "    }\n",
       "\n",
       "    .dataframe thead th {\n",
       "        text-align: right;\n",
       "    }\n",
       "</style>\n",
       "<table border=\"1\" class=\"dataframe\">\n",
       "  <thead>\n",
       "    <tr style=\"text-align: right;\">\n",
       "      <th></th>\n",
       "      <th></th>\n",
       "      <th></th>\n",
       "      <th></th>\n",
       "      <th>Unit</th>\n",
       "      <th>Value</th>\n",
       "      <th>Flag</th>\n",
       "    </tr>\n",
       "    <tr>\n",
       "      <th>Area</th>\n",
       "      <th>Item</th>\n",
       "      <th>Element</th>\n",
       "      <th>Year</th>\n",
       "      <th></th>\n",
       "      <th></th>\n",
       "      <th></th>\n",
       "    </tr>\n",
       "  </thead>\n",
       "  <tbody>\n",
       "    <tr>\n",
       "      <th rowspan=\"5\" valign=\"top\">Afghanistan</th>\n",
       "      <th rowspan=\"5\" valign=\"top\">Country area</th>\n",
       "      <th rowspan=\"5\" valign=\"top\">Area</th>\n",
       "      <th>1961</th>\n",
       "      <td>1000 ha</td>\n",
       "      <td>65286.0</td>\n",
       "      <td>W</td>\n",
       "    </tr>\n",
       "    <tr>\n",
       "      <th>1962</th>\n",
       "      <td>1000 ha</td>\n",
       "      <td>65286.0</td>\n",
       "      <td>W</td>\n",
       "    </tr>\n",
       "    <tr>\n",
       "      <th>1963</th>\n",
       "      <td>1000 ha</td>\n",
       "      <td>65286.0</td>\n",
       "      <td>W</td>\n",
       "    </tr>\n",
       "    <tr>\n",
       "      <th>1964</th>\n",
       "      <td>1000 ha</td>\n",
       "      <td>65286.0</td>\n",
       "      <td>W</td>\n",
       "    </tr>\n",
       "    <tr>\n",
       "      <th>1965</th>\n",
       "      <td>1000 ha</td>\n",
       "      <td>65286.0</td>\n",
       "      <td>W</td>\n",
       "    </tr>\n",
       "  </tbody>\n",
       "</table>\n",
       "</div>"
      ],
      "text/plain": [
       "                                          Unit    Value Flag\n",
       "Area        Item         Element Year                       \n",
       "Afghanistan Country area Area    1961  1000 ha  65286.0    W\n",
       "                                 1962  1000 ha  65286.0    W\n",
       "                                 1963  1000 ha  65286.0    W\n",
       "                                 1964  1000 ha  65286.0    W\n",
       "                                 1965  1000 ha  65286.0    W"
      ]
     },
     "execution_count": 48,
     "metadata": {},
     "output_type": "execute_result"
    }
   ],
   "source": [
    "t.head()"
   ]
  },
  {
   "cell_type": "code",
   "execution_count": 52,
   "id": "84b3d668-a68f-48b6-9cc0-13f39b0f5b72",
   "metadata": {},
   "outputs": [
    {
     "data": {
      "text/plain": [
       "TableMeta(short_name=None, title=None, description=None, dataset=None, primary_key=[])"
      ]
     },
     "execution_count": 52,
     "metadata": {},
     "output_type": "execute_result"
    }
   ],
   "source": [
    "t.metadata"
   ]
  },
  {
   "cell_type": "code",
   "execution_count": 57,
   "id": "18f9eb31-0071-47e2-81cb-a08abf6366d0",
   "metadata": {},
   "outputs": [],
   "source": []
  },
  {
   "cell_type": "code",
   "execution_count": 61,
   "id": "84c1a5d6-360e-4ddd-9911-d5ca46375d14",
   "metadata": {},
   "outputs": [],
   "source": [
    "t.metadata.short_name = \"land_use\""
   ]
  },
  {
   "cell_type": "code",
   "execution_count": 62,
   "id": "fe015fa8-8ad9-4122-993e-f9995aaa4a2a",
   "metadata": {},
   "outputs": [],
   "source": [
    "ds.add(t)"
   ]
  },
  {
   "cell_type": "code",
   "execution_count": null,
   "id": "1b16b15d-40ad-40be-9066-b74a8584453a",
   "metadata": {},
   "outputs": [],
   "source": []
  }
 ],
 "metadata": {
  "kernelspec": {
   "display_name": "Python 3 (ipykernel)",
   "language": "python",
   "name": "python3"
  },
  "language_info": {
   "codemirror_mode": {
    "name": "ipython",
    "version": 3
   },
   "file_extension": ".py",
   "mimetype": "text/x-python",
   "name": "python",
   "nbconvert_exporter": "python",
   "pygments_lexer": "ipython3",
   "version": "3.9.6"
  }
 },
 "nbformat": 4,
 "nbformat_minor": 5
}
