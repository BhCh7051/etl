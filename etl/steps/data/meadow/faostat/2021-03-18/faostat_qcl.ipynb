{
 "cells": [
  {
   "cell_type": "code",
   "execution_count": 14,
   "id": "107e2506",
   "metadata": {
    "tags": [
     "parameters"
    ]
   },
   "outputs": [],
   "source": [
    "dest_dir = \"/tmp/faostat_qcl\""
   ]
  },
  {
   "cell_type": "code",
   "execution_count": 21,
   "id": "8023359b",
   "metadata": {},
   "outputs": [],
   "source": [
    "import zipfile\n",
    "import tempfile\n",
    "import shutil\n",
    "from pathlib import Path\n",
    "import os\n",
    "\n",
    "import pandas as pd\n",
    "\n",
    "from owid.catalog import Dataset, Table\n",
    "from owid.walden import Catalog\n",
    "from etl.paths import DATA_DIR\n",
    "from etl.steps.data.converters import convert_walden_metadata"
   ]
  },
  {
   "cell_type": "code",
   "execution_count": 16,
   "id": "0db4dd3f",
   "metadata": {},
   "outputs": [],
   "source": [
    "walden_ds = Catalog().find_one(\"faostat\", \"2021-03-18\", \"faostat_QCL\")"
   ]
  },
  {
   "cell_type": "code",
   "execution_count": 17,
   "id": "76de9e80",
   "metadata": {},
   "outputs": [
    {
     "data": {
      "text/plain": [
       "'/Users/lucasrodes/.owid/walden/faostat/2021-03-18/faostat_QCL.zip'"
      ]
     },
     "execution_count": 17,
     "metadata": {},
     "output_type": "execute_result"
    }
   ],
   "source": [
    "walden_ds.local_path"
   ]
  },
  {
   "cell_type": "code",
   "execution_count": 18,
   "id": "75349c16",
   "metadata": {},
   "outputs": [
    {
     "data": {
      "text/plain": [
       "Dataset(namespace='faostat', short_name='faostat_QCL', name='Production: Crops and livestock products - FAO (2021)', description='Crop statistics are recorded for 173 products, covering the following categories: Crops Primary, Fibre Crops Primary, Cereals, Coarse Grain, Citrus Fruit, Fruit, Jute Jute-like Fibres, Oilcakes Equivalent, Oil crops Primary, Pulses, Roots and Tubers, Treenuts and Vegetables and Melons. Data are expressed in terms of area harvested, production quantity and yield. The objective is to comprehensively cover production of all primary crops for all countries and regions in the world.Cereals: Area and production data on cereals relate to crops harvested for dry grain only. Cereal crops harvested for hay or harvested green for food, feed or silage or used for grazing are therefore excluded. Area data relate to harvested area. Some countries report sown or cultivated area only', source_name='Food and Agriculture Organization of the United Nations', url='http://www.fao.org/faostat/en/#data', date_accessed='2021-10-28', file_extension='zip', license_url='http://www.fao.org/contact-us/terms/db-terms-of-use/en', source_data_url='http://fenixservices.fao.org/faostat/static/bulkdownloads/Production_Crops_Livestock_E_All_Data_(Normalized).zip', md5='0a731c3f89640b2377c5a32ccce26e3b', publication_year=2021, publication_date='2021-03-18', owid_data_url='https://walden.nyc3.digitaloceanspaces.com/faostat/2021-03-18/faostat_QCL.zip', license_name='CC BY-NC-SA 3.0 IGO', access_notes=None)"
      ]
     },
     "execution_count": 18,
     "metadata": {},
     "output_type": "execute_result"
    }
   ],
   "source": [
    "walden_ds"
   ]
  },
  {
   "cell_type": "code",
   "execution_count": null,
   "id": "5b670248-5421-41a6-aad3-e816a1ea0387",
   "metadata": {},
   "outputs": [],
   "source": [
    "walden_ds.local_path"
   ]
  },
  {
   "cell_type": "code",
   "execution_count": 19,
   "id": "0876fa6d-5704-4ae6-bd56-4ef898929fa4",
   "metadata": {},
   "outputs": [],
   "source": [
    "tmp_dir = tempfile.mkdtemp()"
   ]
  },
  {
   "cell_type": "code",
   "execution_count": 27,
   "id": "2d624c64-57b1-4a3e-93b2-623863999f73",
   "metadata": {},
   "outputs": [
    {
     "name": "stdout",
     "output_type": "stream",
     "text": [
      "['Production_Crops_Livestock_E_All_Data_(Normalized).csv', 'Production_Crops_Livestock_E_Flags.csv']\n"
     ]
    },
    {
     "data": {
      "text/plain": [
       "'Production_Crops_Livestock_E_All_Data_(Normalized).csv'"
      ]
     },
     "execution_count": 27,
     "metadata": {},
     "output_type": "execute_result"
    }
   ],
   "source": [
    "z = zipfile.ZipFile(walden_ds.local_path)\n",
    "z.extractall(tmp_dir)\n",
    "print(os.listdir(tmp_dir))\n",
    "filename, = list(\n",
    "    filter(lambda x: \"(Normalized)\" in x, os.listdir(tmp_dir))\n",
    ")\n",
    "filename"
   ]
  },
  {
   "cell_type": "code",
   "execution_count": 38,
   "id": "6a829816-687e-4b88-ae86-b1f776ad609e",
   "metadata": {},
   "outputs": [],
   "source": [
    "df = pd.read_csv(os.path.join(tmp_dir, filename), encoding=\"latin-1\")"
   ]
  },
  {
   "cell_type": "code",
   "execution_count": 39,
   "id": "24532656-e035-4354-ab95-0ef495b7f617",
   "metadata": {},
   "outputs": [
    {
     "data": {
      "text/html": [
       "<div>\n",
       "<style scoped>\n",
       "    .dataframe tbody tr th:only-of-type {\n",
       "        vertical-align: middle;\n",
       "    }\n",
       "\n",
       "    .dataframe tbody tr th {\n",
       "        vertical-align: top;\n",
       "    }\n",
       "\n",
       "    .dataframe thead th {\n",
       "        text-align: right;\n",
       "    }\n",
       "</style>\n",
       "<table border=\"1\" class=\"dataframe\">\n",
       "  <thead>\n",
       "    <tr style=\"text-align: right;\">\n",
       "      <th></th>\n",
       "      <th>Area Code</th>\n",
       "      <th>Area</th>\n",
       "      <th>Item Code</th>\n",
       "      <th>Item</th>\n",
       "      <th>Element Code</th>\n",
       "      <th>Element</th>\n",
       "      <th>Year Code</th>\n",
       "      <th>Year</th>\n",
       "      <th>Unit</th>\n",
       "      <th>Value</th>\n",
       "      <th>Flag</th>\n",
       "    </tr>\n",
       "  </thead>\n",
       "  <tbody>\n",
       "    <tr>\n",
       "      <th>0</th>\n",
       "      <td>2</td>\n",
       "      <td>Afghanistan</td>\n",
       "      <td>221</td>\n",
       "      <td>Almonds, with shell</td>\n",
       "      <td>5312</td>\n",
       "      <td>Area harvested</td>\n",
       "      <td>1975</td>\n",
       "      <td>1975</td>\n",
       "      <td>ha</td>\n",
       "      <td>0.0</td>\n",
       "      <td>F</td>\n",
       "    </tr>\n",
       "    <tr>\n",
       "      <th>1</th>\n",
       "      <td>2</td>\n",
       "      <td>Afghanistan</td>\n",
       "      <td>221</td>\n",
       "      <td>Almonds, with shell</td>\n",
       "      <td>5312</td>\n",
       "      <td>Area harvested</td>\n",
       "      <td>1976</td>\n",
       "      <td>1976</td>\n",
       "      <td>ha</td>\n",
       "      <td>5900.0</td>\n",
       "      <td>F</td>\n",
       "    </tr>\n",
       "    <tr>\n",
       "      <th>2</th>\n",
       "      <td>2</td>\n",
       "      <td>Afghanistan</td>\n",
       "      <td>221</td>\n",
       "      <td>Almonds, with shell</td>\n",
       "      <td>5312</td>\n",
       "      <td>Area harvested</td>\n",
       "      <td>1977</td>\n",
       "      <td>1977</td>\n",
       "      <td>ha</td>\n",
       "      <td>6000.0</td>\n",
       "      <td>F</td>\n",
       "    </tr>\n",
       "    <tr>\n",
       "      <th>3</th>\n",
       "      <td>2</td>\n",
       "      <td>Afghanistan</td>\n",
       "      <td>221</td>\n",
       "      <td>Almonds, with shell</td>\n",
       "      <td>5312</td>\n",
       "      <td>Area harvested</td>\n",
       "      <td>1978</td>\n",
       "      <td>1978</td>\n",
       "      <td>ha</td>\n",
       "      <td>6000.0</td>\n",
       "      <td>F</td>\n",
       "    </tr>\n",
       "    <tr>\n",
       "      <th>4</th>\n",
       "      <td>2</td>\n",
       "      <td>Afghanistan</td>\n",
       "      <td>221</td>\n",
       "      <td>Almonds, with shell</td>\n",
       "      <td>5312</td>\n",
       "      <td>Area harvested</td>\n",
       "      <td>1979</td>\n",
       "      <td>1979</td>\n",
       "      <td>ha</td>\n",
       "      <td>6000.0</td>\n",
       "      <td>F</td>\n",
       "    </tr>\n",
       "  </tbody>\n",
       "</table>\n",
       "</div>"
      ],
      "text/plain": [
       "   Area Code         Area  Item Code                 Item  Element Code  \\\n",
       "0          2  Afghanistan        221  Almonds, with shell          5312   \n",
       "1          2  Afghanistan        221  Almonds, with shell          5312   \n",
       "2          2  Afghanistan        221  Almonds, with shell          5312   \n",
       "3          2  Afghanistan        221  Almonds, with shell          5312   \n",
       "4          2  Afghanistan        221  Almonds, with shell          5312   \n",
       "\n",
       "          Element  Year Code  Year Unit   Value Flag  \n",
       "0  Area harvested       1975  1975   ha     0.0    F  \n",
       "1  Area harvested       1976  1976   ha  5900.0    F  \n",
       "2  Area harvested       1977  1977   ha  6000.0    F  \n",
       "3  Area harvested       1978  1978   ha  6000.0    F  \n",
       "4  Area harvested       1979  1979   ha  6000.0    F  "
      ]
     },
     "execution_count": 39,
     "metadata": {},
     "output_type": "execute_result"
    }
   ],
   "source": [
    "df.head()"
   ]
  },
  {
   "cell_type": "code",
   "execution_count": 40,
   "id": "9f1c6ec5-f051-4efb-a35e-f2ffd923fa74",
   "metadata": {},
   "outputs": [],
   "source": [
    "df.drop(columns=[\"Area Code\", \"Year Code\"], inplace=True)"
   ]
  },
  {
   "cell_type": "code",
   "execution_count": 41,
   "id": "25a8aa65-9aae-4e14-8115-3586ec7432ef",
   "metadata": {},
   "outputs": [
    {
     "data": {
      "text/html": [
       "<div>\n",
       "<style scoped>\n",
       "    .dataframe tbody tr th:only-of-type {\n",
       "        vertical-align: middle;\n",
       "    }\n",
       "\n",
       "    .dataframe tbody tr th {\n",
       "        vertical-align: top;\n",
       "    }\n",
       "\n",
       "    .dataframe thead th {\n",
       "        text-align: right;\n",
       "    }\n",
       "</style>\n",
       "<table border=\"1\" class=\"dataframe\">\n",
       "  <thead>\n",
       "    <tr style=\"text-align: right;\">\n",
       "      <th></th>\n",
       "      <th>Area</th>\n",
       "      <th>Item Code</th>\n",
       "      <th>Item</th>\n",
       "      <th>Element Code</th>\n",
       "      <th>Element</th>\n",
       "      <th>Year</th>\n",
       "      <th>Unit</th>\n",
       "      <th>Value</th>\n",
       "      <th>Flag</th>\n",
       "    </tr>\n",
       "  </thead>\n",
       "  <tbody>\n",
       "    <tr>\n",
       "      <th>0</th>\n",
       "      <td>Afghanistan</td>\n",
       "      <td>221</td>\n",
       "      <td>Almonds, with shell</td>\n",
       "      <td>5312</td>\n",
       "      <td>Area harvested</td>\n",
       "      <td>1975</td>\n",
       "      <td>ha</td>\n",
       "      <td>0.0</td>\n",
       "      <td>F</td>\n",
       "    </tr>\n",
       "    <tr>\n",
       "      <th>1</th>\n",
       "      <td>Afghanistan</td>\n",
       "      <td>221</td>\n",
       "      <td>Almonds, with shell</td>\n",
       "      <td>5312</td>\n",
       "      <td>Area harvested</td>\n",
       "      <td>1976</td>\n",
       "      <td>ha</td>\n",
       "      <td>5900.0</td>\n",
       "      <td>F</td>\n",
       "    </tr>\n",
       "    <tr>\n",
       "      <th>2</th>\n",
       "      <td>Afghanistan</td>\n",
       "      <td>221</td>\n",
       "      <td>Almonds, with shell</td>\n",
       "      <td>5312</td>\n",
       "      <td>Area harvested</td>\n",
       "      <td>1977</td>\n",
       "      <td>ha</td>\n",
       "      <td>6000.0</td>\n",
       "      <td>F</td>\n",
       "    </tr>\n",
       "    <tr>\n",
       "      <th>3</th>\n",
       "      <td>Afghanistan</td>\n",
       "      <td>221</td>\n",
       "      <td>Almonds, with shell</td>\n",
       "      <td>5312</td>\n",
       "      <td>Area harvested</td>\n",
       "      <td>1978</td>\n",
       "      <td>ha</td>\n",
       "      <td>6000.0</td>\n",
       "      <td>F</td>\n",
       "    </tr>\n",
       "    <tr>\n",
       "      <th>4</th>\n",
       "      <td>Afghanistan</td>\n",
       "      <td>221</td>\n",
       "      <td>Almonds, with shell</td>\n",
       "      <td>5312</td>\n",
       "      <td>Area harvested</td>\n",
       "      <td>1979</td>\n",
       "      <td>ha</td>\n",
       "      <td>6000.0</td>\n",
       "      <td>F</td>\n",
       "    </tr>\n",
       "  </tbody>\n",
       "</table>\n",
       "</div>"
      ],
      "text/plain": [
       "          Area  Item Code                 Item  Element Code         Element  \\\n",
       "0  Afghanistan        221  Almonds, with shell          5312  Area harvested   \n",
       "1  Afghanistan        221  Almonds, with shell          5312  Area harvested   \n",
       "2  Afghanistan        221  Almonds, with shell          5312  Area harvested   \n",
       "3  Afghanistan        221  Almonds, with shell          5312  Area harvested   \n",
       "4  Afghanistan        221  Almonds, with shell          5312  Area harvested   \n",
       "\n",
       "   Year Unit   Value Flag  \n",
       "0  1975   ha     0.0    F  \n",
       "1  1976   ha  5900.0    F  \n",
       "2  1977   ha  6000.0    F  \n",
       "3  1978   ha  6000.0    F  \n",
       "4  1979   ha  6000.0    F  "
      ]
     },
     "execution_count": 41,
     "metadata": {},
     "output_type": "execute_result"
    }
   ],
   "source": [
    "df.head()"
   ]
  },
  {
   "cell_type": "code",
   "execution_count": 43,
   "id": "94da6b54-88a9-41c6-b9bc-701704824057",
   "metadata": {},
   "outputs": [
    {
     "data": {
      "text/plain": [
       "Area            False\n",
       "Item Code       False\n",
       "Item            False\n",
       "Element Code    False\n",
       "Element         False\n",
       "Year            False\n",
       "Unit            False\n",
       "Value            True\n",
       "Flag             True\n",
       "dtype: bool"
      ]
     },
     "execution_count": 43,
     "metadata": {},
     "output_type": "execute_result"
    }
   ],
   "source": [
    "df.isnull().any()"
   ]
  },
  {
   "cell_type": "code",
   "execution_count": null,
   "id": "6d6c8865-f8a7-4453-8ea0-dd8ac079322e",
   "metadata": {},
   "outputs": [],
   "source": [
    "df.dtypes"
   ]
  },
  {
   "cell_type": "code",
   "execution_count": 45,
   "id": "a53c4dce-765c-4038-906c-26a7788d61d7",
   "metadata": {},
   "outputs": [],
   "source": [
    "column_cols = [\"Area\", \"Item\", \"Element\", \"Unit\", \"Flag\"]\n",
    "df[column_cols] = df[column_cols].astype(\"category\")"
   ]
  },
  {
   "cell_type": "code",
   "execution_count": 50,
   "id": "917a1c78-05f9-450f-85ab-ee84f57003f6",
   "metadata": {},
   "outputs": [],
   "source": [
    "def check_unique_pairs(df, name_1, name_2):\n",
    "    if not (\n",
    "        (df.groupby(name_1)[name_2].nunique() == 1).sum()\n",
    "        and (df.groupby(name_2)[name_1].nunique() == 1).sum()\n",
    "    ):\n",
    "        raise ValueError(\n",
    "            f\"Some `{name_1}` may have multiple `{name_2}` values (or opposite).\"\n",
    "        )"
   ]
  },
  {
   "cell_type": "code",
   "execution_count": 51,
   "id": "4dcda1da-30a6-4996-87f5-7654d1616057",
   "metadata": {},
   "outputs": [],
   "source": [
    "fields = [\"Item\", \"Element\"]\n",
    "for field in fields:\n",
    "    check_unique_pairs(df, field, f\"{field} Code\")"
   ]
  },
  {
   "cell_type": "code",
   "execution_count": 57,
   "id": "39ee016b-3f04-4431-8488-3b8146fa3f06",
   "metadata": {},
   "outputs": [
    {
     "data": {
      "text/html": [
       "<div>\n",
       "<style scoped>\n",
       "    .dataframe tbody tr th:only-of-type {\n",
       "        vertical-align: middle;\n",
       "    }\n",
       "\n",
       "    .dataframe tbody tr th {\n",
       "        vertical-align: top;\n",
       "    }\n",
       "\n",
       "    .dataframe thead th {\n",
       "        text-align: right;\n",
       "    }\n",
       "</style>\n",
       "<table border=\"1\" class=\"dataframe\">\n",
       "  <thead>\n",
       "    <tr style=\"text-align: right;\">\n",
       "      <th></th>\n",
       "      <th>Area</th>\n",
       "      <th>Item Code</th>\n",
       "      <th>Item</th>\n",
       "      <th>Element Code</th>\n",
       "      <th>Element</th>\n",
       "      <th>Year</th>\n",
       "      <th>Unit</th>\n",
       "      <th>Value</th>\n",
       "      <th>Flag</th>\n",
       "    </tr>\n",
       "  </thead>\n",
       "  <tbody>\n",
       "    <tr>\n",
       "      <th>0</th>\n",
       "      <td>Afghanistan</td>\n",
       "      <td>221</td>\n",
       "      <td>Almonds, with shell</td>\n",
       "      <td>5312</td>\n",
       "      <td>Area harvested</td>\n",
       "      <td>1975</td>\n",
       "      <td>ha</td>\n",
       "      <td>0.0</td>\n",
       "      <td>F</td>\n",
       "    </tr>\n",
       "    <tr>\n",
       "      <th>1</th>\n",
       "      <td>Afghanistan</td>\n",
       "      <td>221</td>\n",
       "      <td>Almonds, with shell</td>\n",
       "      <td>5312</td>\n",
       "      <td>Area harvested</td>\n",
       "      <td>1976</td>\n",
       "      <td>ha</td>\n",
       "      <td>5900.0</td>\n",
       "      <td>F</td>\n",
       "    </tr>\n",
       "    <tr>\n",
       "      <th>2</th>\n",
       "      <td>Afghanistan</td>\n",
       "      <td>221</td>\n",
       "      <td>Almonds, with shell</td>\n",
       "      <td>5312</td>\n",
       "      <td>Area harvested</td>\n",
       "      <td>1977</td>\n",
       "      <td>ha</td>\n",
       "      <td>6000.0</td>\n",
       "      <td>F</td>\n",
       "    </tr>\n",
       "    <tr>\n",
       "      <th>3</th>\n",
       "      <td>Afghanistan</td>\n",
       "      <td>221</td>\n",
       "      <td>Almonds, with shell</td>\n",
       "      <td>5312</td>\n",
       "      <td>Area harvested</td>\n",
       "      <td>1978</td>\n",
       "      <td>ha</td>\n",
       "      <td>6000.0</td>\n",
       "      <td>F</td>\n",
       "    </tr>\n",
       "    <tr>\n",
       "      <th>4</th>\n",
       "      <td>Afghanistan</td>\n",
       "      <td>221</td>\n",
       "      <td>Almonds, with shell</td>\n",
       "      <td>5312</td>\n",
       "      <td>Area harvested</td>\n",
       "      <td>1979</td>\n",
       "      <td>ha</td>\n",
       "      <td>6000.0</td>\n",
       "      <td>F</td>\n",
       "    </tr>\n",
       "  </tbody>\n",
       "</table>\n",
       "</div>"
      ],
      "text/plain": [
       "          Area  Item Code                 Item  Element Code         Element  \\\n",
       "0  Afghanistan        221  Almonds, with shell          5312  Area harvested   \n",
       "1  Afghanistan        221  Almonds, with shell          5312  Area harvested   \n",
       "2  Afghanistan        221  Almonds, with shell          5312  Area harvested   \n",
       "3  Afghanistan        221  Almonds, with shell          5312  Area harvested   \n",
       "4  Afghanistan        221  Almonds, with shell          5312  Area harvested   \n",
       "\n",
       "   Year Unit   Value Flag  \n",
       "0  1975   ha     0.0    F  \n",
       "1  1976   ha  5900.0    F  \n",
       "2  1977   ha  6000.0    F  \n",
       "3  1978   ha  6000.0    F  \n",
       "4  1979   ha  6000.0    F  "
      ]
     },
     "execution_count": 57,
     "metadata": {},
     "output_type": "execute_result"
    }
   ],
   "source": [
    "df.head()"
   ]
  },
  {
   "cell_type": "code",
   "execution_count": 58,
   "id": "b094e4db-07cd-4e32-b2d8-8a21e74a97d2",
   "metadata": {},
   "outputs": [],
   "source": [
    "df.set_index([\"Area\", \"Item\", \"Element\", \"Year\", \"Unit\"], inplace=True)"
   ]
  },
  {
   "cell_type": "code",
   "execution_count": 61,
   "id": "f061b326-fb0f-4846-89fc-aa0b2065cb16",
   "metadata": {},
   "outputs": [],
   "source": [
    "ds = Dataset.create_empty(dest_dir)\n",
    "ds.metadata = convert_walden_metadata(walden_ds)\n",
    "ds.save()"
   ]
  },
  {
   "cell_type": "code",
   "execution_count": 62,
   "id": "e6ccda9c-7472-4c3c-9b13-2e895bb19553",
   "metadata": {},
   "outputs": [
    {
     "data": {
      "text/plain": [
       "Dataset(path='/tmp/faostat_qcl', metadata=DatasetMeta(namespace='faostat', short_name='faostat_QCL', title='Production: Crops and livestock products - FAO (2021)', description='Crop statistics are recorded for 173 products, covering the following categories: Crops Primary, Fibre Crops Primary, Cereals, Coarse Grain, Citrus Fruit, Fruit, Jute Jute-like Fibres, Oilcakes Equivalent, Oil crops Primary, Pulses, Roots and Tubers, Treenuts and Vegetables and Melons. Data are expressed in terms of area harvested, production quantity and yield. The objective is to comprehensively cover production of all primary crops for all countries and regions in the world.Cereals: Area and production data on cereals relate to crops harvested for dry grain only. Cereal crops harvested for hay or harvested green for food, feed or silage or used for grazing are therefore excluded. Area data relate to harvested area. Some countries report sown or cultivated area only', sources=[Source(name='Food and Agriculture Organization of the United Nations', description=None, url='http://www.fao.org/faostat/en/#data', source_data_url='http://fenixservices.fao.org/faostat/static/bulkdownloads/Production_Crops_Livestock_E_All_Data_(Normalized).zip', owid_data_url='https://walden.nyc3.digitaloceanspaces.com/faostat/2021-03-18/faostat_QCL.zip', date_accessed='2021-10-28', publication_date='2021-03-18', publication_year=2021)], licenses=[License(name='CC BY-NC-SA 3.0 IGO', url='http://www.fao.org/contact-us/terms/db-terms-of-use/en')], source_checksum=None))"
      ]
     },
     "execution_count": 62,
     "metadata": {},
     "output_type": "execute_result"
    }
   ],
   "source": [
    "ds"
   ]
  },
  {
   "cell_type": "code",
   "execution_count": 64,
   "id": "74f3c0f3-5d15-46cc-86d5-4c36ca9545b0",
   "metadata": {},
   "outputs": [],
   "source": [
    "t = Table(df)\n",
    "t.metadata.short_name = \"faostat_qcl\"\n",
    "ds.add(t)"
   ]
  },
  {
   "cell_type": "code",
   "execution_count": null,
   "id": "f276e127-3c31-4f83-ac54-c021dc7aee9d",
   "metadata": {},
   "outputs": [],
   "source": [
    "shutil.rmtree(tmp_dir)"
   ]
  }
 ],
 "metadata": {
  "kernelspec": {
   "display_name": "Python 3 (ipykernel)",
   "language": "python",
   "name": "python3"
  },
  "language_info": {
   "codemirror_mode": {
    "name": "ipython",
    "version": 3
   },
   "file_extension": ".py",
   "mimetype": "text/x-python",
   "name": "python",
   "nbconvert_exporter": "python",
   "pygments_lexer": "ipython3",
   "version": "3.9.5"
  }
 },
 "nbformat": 4,
 "nbformat_minor": 5
}
