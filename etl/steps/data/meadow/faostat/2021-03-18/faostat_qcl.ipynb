{
 "cells": [
  {
   "cell_type": "markdown",
   "id": "6d5acae7",
   "metadata": {},
   "source": [
    "# FAOstat: Crops and livestock products\n",
    "[_Source data_](https://www.fao.org/faostat/en/#data)"
   ]
  },
  {
   "cell_type": "markdown",
   "id": "70df5526",
   "metadata": {},
   "source": [
    "## Parameters"
   ]
  },
  {
   "cell_type": "code",
   "execution_count": 1,
   "id": "ec98d59c",
   "metadata": {
    "tags": [
     "parameters"
    ]
   },
   "outputs": [],
   "source": [
    "dest_dir = \"/tmp/faostat_qcl\""
   ]
  },
  {
   "cell_type": "markdown",
   "id": "06687052",
   "metadata": {},
   "source": [
    "## Imports"
   ]
  },
  {
   "cell_type": "code",
   "execution_count": 2,
   "id": "46b26d81",
   "metadata": {},
   "outputs": [],
   "source": [
    "import zipfile\n",
    "import tempfile\n",
    "import shutil\n",
    "from pathlib import Path\n",
    "import os\n",
    "\n",
    "import requests\n",
    "import pandas as pd\n",
    "\n",
    "from owid.catalog import Dataset, Table, frames\n",
    "from owid.walden import Catalog\n",
    "from etl.paths import DATA_DIR\n",
    "from etl.steps.data.converters import convert_walden_metadata"
   ]
  },
  {
   "cell_type": "markdown",
   "id": "be20e93e",
   "metadata": {},
   "source": [
    "## Fetch walden dataset"
   ]
  },
  {
   "cell_type": "code",
   "execution_count": 3,
   "id": "efbb8f90",
   "metadata": {},
   "outputs": [],
   "source": [
    "walden_ds = Catalog().find_one(\"faostat\", \"2021-03-18\", \"faostat_QCL\")"
   ]
  },
  {
   "cell_type": "code",
   "execution_count": 4,
   "id": "b0d8c354",
   "metadata": {},
   "outputs": [
    {
     "data": {
      "text/plain": [
       "Dataset(namespace='faostat', short_name='faostat_QCL', name='Production: Crops and livestock products - FAO (2021)', description='Crop statistics are recorded for 173 products, covering the following categories: Crops Primary, Fibre Crops Primary, Cereals, Coarse Grain, Citrus Fruit, Fruit, Jute Jute-like Fibres, Oilcakes Equivalent, Oil crops Primary, Pulses, Roots and Tubers, Treenuts and Vegetables and Melons. Data are expressed in terms of area harvested, production quantity and yield. The objective is to comprehensively cover production of all primary crops for all countries and regions in the world.Cereals: Area and production data on cereals relate to crops harvested for dry grain only. Cereal crops harvested for hay or harvested green for food, feed or silage or used for grazing are therefore excluded. Area data relate to harvested area. Some countries report sown or cultivated area only', source_name='Food and Agriculture Organization of the United Nations', url='http://www.fao.org/faostat/en/#data', date_accessed='2021-10-28', file_extension='zip', license_url='http://www.fao.org/contact-us/terms/db-terms-of-use/en', source_data_url='http://fenixservices.fao.org/faostat/static/bulkdownloads/Production_Crops_Livestock_E_All_Data_(Normalized).zip', md5='0a731c3f89640b2377c5a32ccce26e3b', publication_year=2021, publication_date='2021-03-18', owid_data_url='https://walden.nyc3.digitaloceanspaces.com/faostat/2021-03-18/faostat_QCL.zip', license_name='CC BY-NC-SA 3.0 IGO', access_notes=None)"
      ]
     },
     "execution_count": 4,
     "metadata": {},
     "output_type": "execute_result"
    }
   ],
   "source": [
    "walden_ds"
   ]
  },
  {
   "cell_type": "markdown",
   "id": "bb39b27c-2f49-4ba8-93a3-fef32da3c21f",
   "metadata": {},
   "source": [
    "## Make a dataset"
   ]
  },
  {
   "cell_type": "code",
   "execution_count": 5,
   "id": "cb82ba2d-d979-4d9b-a75c-60933c0200e5",
   "metadata": {},
   "outputs": [],
   "source": [
    "ds = Dataset.create_empty(dest_dir)\n",
    "ds.metadata = convert_walden_metadata(walden_ds)\n",
    "ds.save()"
   ]
  },
  {
   "cell_type": "code",
   "execution_count": 6,
   "id": "b0673ef5-f156-40fa-8f95-6f07fd2beda7",
   "metadata": {},
   "outputs": [
    {
     "data": {
      "text/plain": [
       "Dataset(path='/tmp/faostat_qcl', metadata=DatasetMeta(namespace='faostat', short_name='faostat_QCL', title='Production: Crops and livestock products - FAO (2021)', description='Crop statistics are recorded for 173 products, covering the following categories: Crops Primary, Fibre Crops Primary, Cereals, Coarse Grain, Citrus Fruit, Fruit, Jute Jute-like Fibres, Oilcakes Equivalent, Oil crops Primary, Pulses, Roots and Tubers, Treenuts and Vegetables and Melons. Data are expressed in terms of area harvested, production quantity and yield. The objective is to comprehensively cover production of all primary crops for all countries and regions in the world.Cereals: Area and production data on cereals relate to crops harvested for dry grain only. Cereal crops harvested for hay or harvested green for food, feed or silage or used for grazing are therefore excluded. Area data relate to harvested area. Some countries report sown or cultivated area only', sources=[Source(name='Food and Agriculture Organization of the United Nations', description=None, url='http://www.fao.org/faostat/en/#data', source_data_url='http://fenixservices.fao.org/faostat/static/bulkdownloads/Production_Crops_Livestock_E_All_Data_(Normalized).zip', owid_data_url='https://walden.nyc3.digitaloceanspaces.com/faostat/2021-03-18/faostat_QCL.zip', date_accessed='2021-10-28', publication_date='2021-03-18', publication_year=2021)], licenses=[License(name='CC BY-NC-SA 3.0 IGO', url='http://www.fao.org/contact-us/terms/db-terms-of-use/en')], source_checksum=None))"
      ]
     },
     "execution_count": 6,
     "metadata": {},
     "output_type": "execute_result"
    }
   ],
   "source": [
    "ds"
   ]
  },
  {
   "cell_type": "markdown",
   "id": "feae825d-b74f-4b90-9c76-22d09325c98b",
   "metadata": {},
   "source": [
    "## Metadata\n",
    "_To be moved into Walden_"
   ]
  },
  {
   "cell_type": "code",
   "execution_count": 7,
   "id": "b244671d-6814-4877-a264-c8fc2c5ed1dd",
   "metadata": {},
   "outputs": [],
   "source": [
    "data_extra = [\n",
    "    {\n",
    "        \"url\": \"https://fenixservices.fao.org/faostat/api/v1/en/definitions/domain/QCL/itemsgroup?output_type=objects\",\n",
    "        \"index\": [\"Item Group Code\", \"Item Code\"],\n",
    "        \"short_name\": \"meta_item\",\n",
    "    },\n",
    "    {\n",
    "        \"url\": \"https://fenixservices.fao.org/faostat/api/v1/en/definitions/domain/QCL/area?output_type=objects\",\n",
    "        \"index\": [\"Country Code\"],\n",
    "        \"short_name\": \"meta_area\",\n",
    "    },\n",
    "    {\n",
    "        \"url\": \"https://fenixservices.fao.org/faostat/api/v1/en/definitions/domain/QCL/element?output_type=objects\",\n",
    "        \"index\": [\"Element Code\"],\n",
    "        \"short_name\": \"meta_element\",\n",
    "    },\n",
    "    {\n",
    "        \"url\": \"https://fenixservices.fao.org/faostat/api/v1/en/definitions/domain/QCL/unit?output_type=objects\",\n",
    "        \"index\": [\"Unit Name\"],\n",
    "        \"short_name\": \"meta_unit\",\n",
    "    },\n",
    "]"
   ]
  },
  {
   "cell_type": "code",
   "execution_count": 8,
   "id": "74cb9a76-9dd6-428c-af26-2baec0269c25",
   "metadata": {},
   "outputs": [],
   "source": [
    "for data_ in data_extra:\n",
    "    metadata = requests.get(data_[\"url\"]).json()\n",
    "    df_ = pd.DataFrame.from_dict(metadata[\"data\"])\n",
    "    df_.set_index(data_[\"index\"], verify_integrity=True, inplace=True)\n",
    "    t = Table(df_)\n",
    "    t.metadata.short_name = data_[\"short_name\"]\n",
    "    ds.add(t)"
   ]
  },
  {
   "cell_type": "markdown",
   "id": "89cef48b",
   "metadata": {},
   "source": [
    "## Unzip to temp directory"
   ]
  },
  {
   "cell_type": "code",
   "execution_count": 9,
   "id": "acf856cf",
   "metadata": {},
   "outputs": [],
   "source": [
    "tmp_dir = tempfile.mkdtemp()"
   ]
  },
  {
   "cell_type": "code",
   "execution_count": 10,
   "id": "22addbd7",
   "metadata": {},
   "outputs": [
    {
     "data": {
      "text/plain": [
       "'Production_Crops_Livestock_E_All_Data_(Normalized).csv'"
      ]
     },
     "execution_count": 10,
     "metadata": {},
     "output_type": "execute_result"
    }
   ],
   "source": [
    "z = zipfile.ZipFile(walden_ds.local_path)\n",
    "z.extractall(tmp_dir)\n",
    "# print(os.listdir(tmp_dir))\n",
    "(filename,) = list(filter(lambda x: \"(Normalized)\" in x, os.listdir(tmp_dir)))\n",
    "filename"
   ]
  },
  {
   "cell_type": "markdown",
   "id": "ad35b28a",
   "metadata": {},
   "source": [
    "## Load dataset\n",
    "### Data file"
   ]
  },
  {
   "cell_type": "code",
   "execution_count": 11,
   "id": "242e2d84",
   "metadata": {},
   "outputs": [],
   "source": [
    "df = pd.read_csv(os.path.join(tmp_dir, filename), encoding=\"latin-1\")"
   ]
  },
  {
   "cell_type": "code",
   "execution_count": 12,
   "id": "eaca5a43",
   "metadata": {},
   "outputs": [
    {
     "data": {
      "text/html": [
       "<div>\n",
       "<style scoped>\n",
       "    .dataframe tbody tr th:only-of-type {\n",
       "        vertical-align: middle;\n",
       "    }\n",
       "\n",
       "    .dataframe tbody tr th {\n",
       "        vertical-align: top;\n",
       "    }\n",
       "\n",
       "    .dataframe thead th {\n",
       "        text-align: right;\n",
       "    }\n",
       "</style>\n",
       "<table border=\"1\" class=\"dataframe\">\n",
       "  <thead>\n",
       "    <tr style=\"text-align: right;\">\n",
       "      <th></th>\n",
       "      <th>Area Code</th>\n",
       "      <th>Area</th>\n",
       "      <th>Item Code</th>\n",
       "      <th>Item</th>\n",
       "      <th>Element Code</th>\n",
       "      <th>Element</th>\n",
       "      <th>Year Code</th>\n",
       "      <th>Year</th>\n",
       "      <th>Unit</th>\n",
       "      <th>Value</th>\n",
       "      <th>Flag</th>\n",
       "    </tr>\n",
       "  </thead>\n",
       "  <tbody>\n",
       "    <tr>\n",
       "      <th>0</th>\n",
       "      <td>2</td>\n",
       "      <td>Afghanistan</td>\n",
       "      <td>221</td>\n",
       "      <td>Almonds, with shell</td>\n",
       "      <td>5312</td>\n",
       "      <td>Area harvested</td>\n",
       "      <td>1975</td>\n",
       "      <td>1975</td>\n",
       "      <td>ha</td>\n",
       "      <td>0.0</td>\n",
       "      <td>F</td>\n",
       "    </tr>\n",
       "    <tr>\n",
       "      <th>1</th>\n",
       "      <td>2</td>\n",
       "      <td>Afghanistan</td>\n",
       "      <td>221</td>\n",
       "      <td>Almonds, with shell</td>\n",
       "      <td>5312</td>\n",
       "      <td>Area harvested</td>\n",
       "      <td>1976</td>\n",
       "      <td>1976</td>\n",
       "      <td>ha</td>\n",
       "      <td>5900.0</td>\n",
       "      <td>F</td>\n",
       "    </tr>\n",
       "    <tr>\n",
       "      <th>2</th>\n",
       "      <td>2</td>\n",
       "      <td>Afghanistan</td>\n",
       "      <td>221</td>\n",
       "      <td>Almonds, with shell</td>\n",
       "      <td>5312</td>\n",
       "      <td>Area harvested</td>\n",
       "      <td>1977</td>\n",
       "      <td>1977</td>\n",
       "      <td>ha</td>\n",
       "      <td>6000.0</td>\n",
       "      <td>F</td>\n",
       "    </tr>\n",
       "    <tr>\n",
       "      <th>3</th>\n",
       "      <td>2</td>\n",
       "      <td>Afghanistan</td>\n",
       "      <td>221</td>\n",
       "      <td>Almonds, with shell</td>\n",
       "      <td>5312</td>\n",
       "      <td>Area harvested</td>\n",
       "      <td>1978</td>\n",
       "      <td>1978</td>\n",
       "      <td>ha</td>\n",
       "      <td>6000.0</td>\n",
       "      <td>F</td>\n",
       "    </tr>\n",
       "    <tr>\n",
       "      <th>4</th>\n",
       "      <td>2</td>\n",
       "      <td>Afghanistan</td>\n",
       "      <td>221</td>\n",
       "      <td>Almonds, with shell</td>\n",
       "      <td>5312</td>\n",
       "      <td>Area harvested</td>\n",
       "      <td>1979</td>\n",
       "      <td>1979</td>\n",
       "      <td>ha</td>\n",
       "      <td>6000.0</td>\n",
       "      <td>F</td>\n",
       "    </tr>\n",
       "  </tbody>\n",
       "</table>\n",
       "</div>"
      ],
      "text/plain": [
       "   Area Code         Area  Item Code                 Item  Element Code  \\\n",
       "0          2  Afghanistan        221  Almonds, with shell          5312   \n",
       "1          2  Afghanistan        221  Almonds, with shell          5312   \n",
       "2          2  Afghanistan        221  Almonds, with shell          5312   \n",
       "3          2  Afghanistan        221  Almonds, with shell          5312   \n",
       "4          2  Afghanistan        221  Almonds, with shell          5312   \n",
       "\n",
       "          Element  Year Code  Year Unit   Value Flag  \n",
       "0  Area harvested       1975  1975   ha     0.0    F  \n",
       "1  Area harvested       1976  1976   ha  5900.0    F  \n",
       "2  Area harvested       1977  1977   ha  6000.0    F  \n",
       "3  Area harvested       1978  1978   ha  6000.0    F  \n",
       "4  Area harvested       1979  1979   ha  6000.0    F  "
      ]
     },
     "execution_count": 12,
     "metadata": {},
     "output_type": "execute_result"
    }
   ],
   "source": [
    "df.head()"
   ]
  },
  {
   "cell_type": "markdown",
   "id": "66a7e97c",
   "metadata": {
    "tags": []
   },
   "source": [
    "## Clean dataset"
   ]
  },
  {
   "cell_type": "markdown",
   "id": "cf11713f",
   "metadata": {},
   "source": [
    "### Sanity checks"
   ]
  },
  {
   "cell_type": "code",
   "execution_count": 13,
   "id": "ac7e3f10",
   "metadata": {},
   "outputs": [
    {
     "data": {
      "text/plain": [
       "Area Code       False\n",
       "Area            False\n",
       "Item Code       False\n",
       "Item            False\n",
       "Element Code    False\n",
       "Element         False\n",
       "Year Code       False\n",
       "Year            False\n",
       "Unit            False\n",
       "Value            True\n",
       "Flag             True\n",
       "dtype: bool"
      ]
     },
     "execution_count": 13,
     "metadata": {},
     "output_type": "execute_result"
    }
   ],
   "source": [
    "# Check nulls\n",
    "df.isnull().any()"
   ]
  },
  {
   "cell_type": "code",
   "execution_count": 14,
   "id": "57865d6f",
   "metadata": {},
   "outputs": [],
   "source": [
    "# def check_unique_pairs(df, name_1, name_2):\n",
    "#     if not (\n",
    "#         (df.groupby(name_1)[name_2].nunique() != 1).any()\n",
    "#         and (df.groupby(name_2)[name_1].nunique() != 1).any()\n",
    "#     ):\n",
    "#         raise ValueError(\n",
    "#             f\"Some `{name_1}` may have multiple `{name_2}` values (or opposite).\"\n",
    "#         )\n",
    "\n",
    "\n",
    "# fields = [\"Item\", Element\"]\n",
    "# for field in fields:\n",
    "#     check_unique_pairs(df, field, f\"{field} Code\")"
   ]
  },
  {
   "cell_type": "code",
   "execution_count": 15,
   "id": "01ecf866-2087-45e0-8818-2e92082dc415",
   "metadata": {},
   "outputs": [],
   "source": [
    "x = df.groupby([\"Element\", \"Unit\"])[\"Element Code\"].nunique()\n",
    "if (x > 1).any():\n",
    "    raise ValueError(f\"Element-Unit not unique!\")"
   ]
  },
  {
   "cell_type": "markdown",
   "id": "ce30eff0-39f4-4f8d-a0fc-dc36cc80542b",
   "metadata": {},
   "source": [
    "### Drop columns and set Index"
   ]
  },
  {
   "cell_type": "code",
   "execution_count": 16,
   "id": "b6c1bf43-a547-407b-b7d5-4de7ed907b3c",
   "metadata": {},
   "outputs": [],
   "source": [
    "df.drop(columns=[\"Area\", \"Item\", \"Element\", \"Year Code\"], inplace=True)"
   ]
  },
  {
   "cell_type": "code",
   "execution_count": 17,
   "id": "c7efd5d6",
   "metadata": {},
   "outputs": [],
   "source": [
    "df.set_index(\n",
    "    [\"Area Code\", \"Item Code\", \"Element Code\", \"Year\", \"Flag\"],\n",
    "    inplace=True,\n",
    "    verify_integrity=True,\n",
    ")"
   ]
  },
  {
   "cell_type": "code",
   "execution_count": 18,
   "id": "abecfd5e-ad92-4788-ae55-3678e9041ed7",
   "metadata": {},
   "outputs": [
    {
     "data": {
      "text/html": [
       "<div>\n",
       "<style scoped>\n",
       "    .dataframe tbody tr th:only-of-type {\n",
       "        vertical-align: middle;\n",
       "    }\n",
       "\n",
       "    .dataframe tbody tr th {\n",
       "        vertical-align: top;\n",
       "    }\n",
       "\n",
       "    .dataframe thead th {\n",
       "        text-align: right;\n",
       "    }\n",
       "</style>\n",
       "<table border=\"1\" class=\"dataframe\">\n",
       "  <thead>\n",
       "    <tr style=\"text-align: right;\">\n",
       "      <th></th>\n",
       "      <th></th>\n",
       "      <th></th>\n",
       "      <th></th>\n",
       "      <th></th>\n",
       "      <th>Unit</th>\n",
       "      <th>Value</th>\n",
       "    </tr>\n",
       "    <tr>\n",
       "      <th>Area Code</th>\n",
       "      <th>Item Code</th>\n",
       "      <th>Element Code</th>\n",
       "      <th>Year</th>\n",
       "      <th>Flag</th>\n",
       "      <th></th>\n",
       "      <th></th>\n",
       "    </tr>\n",
       "  </thead>\n",
       "  <tbody>\n",
       "    <tr>\n",
       "      <th rowspan=\"5\" valign=\"top\">2</th>\n",
       "      <th rowspan=\"5\" valign=\"top\">221</th>\n",
       "      <th rowspan=\"5\" valign=\"top\">5312</th>\n",
       "      <th>1975</th>\n",
       "      <th>F</th>\n",
       "      <td>ha</td>\n",
       "      <td>0.0</td>\n",
       "    </tr>\n",
       "    <tr>\n",
       "      <th>1976</th>\n",
       "      <th>F</th>\n",
       "      <td>ha</td>\n",
       "      <td>5900.0</td>\n",
       "    </tr>\n",
       "    <tr>\n",
       "      <th>1977</th>\n",
       "      <th>F</th>\n",
       "      <td>ha</td>\n",
       "      <td>6000.0</td>\n",
       "    </tr>\n",
       "    <tr>\n",
       "      <th>1978</th>\n",
       "      <th>F</th>\n",
       "      <td>ha</td>\n",
       "      <td>6000.0</td>\n",
       "    </tr>\n",
       "    <tr>\n",
       "      <th>1979</th>\n",
       "      <th>F</th>\n",
       "      <td>ha</td>\n",
       "      <td>6000.0</td>\n",
       "    </tr>\n",
       "  </tbody>\n",
       "</table>\n",
       "</div>"
      ],
      "text/plain": [
       "                                           Unit   Value\n",
       "Area Code Item Code Element Code Year Flag             \n",
       "2         221       5312         1975 F      ha     0.0\n",
       "                                 1976 F      ha  5900.0\n",
       "                                 1977 F      ha  6000.0\n",
       "                                 1978 F      ha  6000.0\n",
       "                                 1979 F      ha  6000.0"
      ]
     },
     "execution_count": 18,
     "metadata": {},
     "output_type": "execute_result"
    }
   ],
   "source": [
    "df.head()"
   ]
  },
  {
   "cell_type": "markdown",
   "id": "0f73301c",
   "metadata": {},
   "source": [
    "## Add tables"
   ]
  },
  {
   "cell_type": "code",
   "execution_count": 19,
   "id": "48d148f5",
   "metadata": {},
   "outputs": [],
   "source": [
    "t = Table(df)\n",
    "t.metadata.short_name = \"bulk\"\n",
    "ds.add(t)"
   ]
  },
  {
   "cell_type": "markdown",
   "id": "f9b2b333",
   "metadata": {},
   "source": [
    "## Cleanup"
   ]
  },
  {
   "cell_type": "code",
   "execution_count": 20,
   "id": "4807d2b5",
   "metadata": {},
   "outputs": [],
   "source": [
    "shutil.rmtree(tmp_dir)"
   ]
  }
 ],
 "metadata": {
  "kernelspec": {
   "display_name": "Python 3 (ipykernel)",
   "language": "python",
   "name": "python3"
  },
  "language_info": {
   "codemirror_mode": {
    "name": "ipython",
    "version": 3
   },
   "file_extension": ".py",
   "mimetype": "text/x-python",
   "name": "python",
   "nbconvert_exporter": "python",
   "pygments_lexer": "ipython3",
   "version": "3.9.5"
  }
 },
 "nbformat": 4,
 "nbformat_minor": 5
}
