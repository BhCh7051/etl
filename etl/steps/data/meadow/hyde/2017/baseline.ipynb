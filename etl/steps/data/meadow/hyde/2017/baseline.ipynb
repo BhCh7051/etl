{
 "cells": [
  {
   "cell_type": "markdown",
   "id": "55ca9c47-ef90-400e-a907-91279ecde770",
   "metadata": {},
   "source": [
    "# Hyde 3.2 baseline"
   ]
  },
  {
   "cell_type": "markdown",
   "id": "447a6e93-a3ce-4f63-b4b6-b52e380de360",
   "metadata": {},
   "source": [
    "## Parameters"
   ]
  },
  {
   "cell_type": "code",
   "execution_count": 35,
   "id": "557472d8-77f6-4cb3-ae36-426a4170a908",
   "metadata": {
    "tags": [
     "parameters"
    ]
   },
   "outputs": [],
   "source": [
    "dest_dir = \"/tmp/hyde_3_2_baseline\""
   ]
  },
  {
   "cell_type": "markdown",
   "id": "627a8719-a2af-45db-9c90-1f0e93e67abe",
   "metadata": {},
   "source": [
    "## Imports"
   ]
  },
  {
   "cell_type": "code",
   "execution_count": 36,
   "id": "7cba4eed-b091-40f1-ae8c-6c7ea8f44dc6",
   "metadata": {},
   "outputs": [],
   "source": [
    "import zipfile\n",
    "import tempfile\n",
    "import shutil\n",
    "from pathlib import Path\n",
    "\n",
    "from owid.catalog import Dataset, Table\n",
    "from owid.walden import Catalog\n",
    "from etl.command import DATA_DIR\n",
    "from etl.steps.data.converters import convert_walden_metadata"
   ]
  },
  {
   "cell_type": "markdown",
   "id": "2baac77f-1d25-4ef8-b87a-235ff5cade13",
   "metadata": {},
   "source": [
    "## Fetch walden dataset"
   ]
  },
  {
   "cell_type": "code",
   "execution_count": 37,
   "id": "71657680-0736-48dd-a43c-e3c01a5a4b88",
   "metadata": {},
   "outputs": [],
   "source": [
    "walden_ds = Catalog().find_one(\"hyde\", \"2017\", \"baseline\")"
   ]
  },
  {
   "cell_type": "code",
   "execution_count": 38,
   "id": "71e98a9d-85b2-496e-9bd1-10f77d266354",
   "metadata": {},
   "outputs": [
    {
     "data": {
      "text/plain": [
       "Dataset(namespace='hyde', short_name='baseline', name='Hyde 3.2 (baseline estimates)', description='HYDE is an internally consistent combination of updated historical population (gridded) estimates and land use for the past 12,000 years. Categories include cropland, with a new distinction into irrigated and rain fed crops (other than rice) and irrigated and rain fed rice. Also grazing lands are provided, divided into more intensively used pasture, converted rangeland and non-converted natural (less intensively used) rangeland. Population is represented by maps of total, urban, rural population and population density as well as built-up area.', source_name='PBL Netherlands Environmental Assessment Agency', url='https://www.pbl.nl/en/image/links/hyde', date_accessed='2021-10-01', file_extension='zip', license_url='https://dataportaal.pbl.nl/downloads/HYDE/HYDE3.2/readme_release_HYDE3.2.1.txt', source_data_url='https://dataportaal.pbl.nl/downloads/HYDE/HYDE3.2/baseline.zip', md5='acdbbd3908a29fb8ae75f3e081c980ad', publication_year=2017, publication_date=None, owid_data_url='https://nyc3.digitaloceanspaces.com/walden/hyde/2017/baseline.zip', license_name='CC BY 3.0', access_notes=None)"
      ]
     },
     "execution_count": 38,
     "metadata": {},
     "output_type": "execute_result"
    }
   ],
   "source": [
    "walden_ds"
   ]
  },
  {
   "cell_type": "markdown",
   "id": "5cb2b403-701c-4ff1-bdbc-6ab5ab78e5a6",
   "metadata": {},
   "source": [
    "## Load country codes"
   ]
  },
  {
   "cell_type": "code",
   "execution_count": 39,
   "id": "899a21ee-c8b7-454b-94bc-80fa753ec39f",
   "metadata": {},
   "outputs": [
    {
     "data": {
      "text/html": [
       "<div>\n",
       "<style scoped>\n",
       "    .dataframe tbody tr th:only-of-type {\n",
       "        vertical-align: middle;\n",
       "    }\n",
       "\n",
       "    .dataframe tbody tr th {\n",
       "        vertical-align: top;\n",
       "    }\n",
       "\n",
       "    .dataframe thead th {\n",
       "        text-align: right;\n",
       "    }\n",
       "</style>\n",
       "<table border=\"1\" class=\"dataframe\">\n",
       "  <thead>\n",
       "    <tr style=\"text-align: right;\">\n",
       "      <th></th>\n",
       "      <th>country</th>\n",
       "    </tr>\n",
       "    <tr>\n",
       "      <th>country_code</th>\n",
       "      <th></th>\n",
       "    </tr>\n",
       "  </thead>\n",
       "  <tbody>\n",
       "    <tr>\n",
       "      <th>4</th>\n",
       "      <td>Afghanistan</td>\n",
       "    </tr>\n",
       "    <tr>\n",
       "      <th>8</th>\n",
       "      <td>Albania</td>\n",
       "    </tr>\n",
       "    <tr>\n",
       "      <th>12</th>\n",
       "      <td>Algeria</td>\n",
       "    </tr>\n",
       "    <tr>\n",
       "      <th>16</th>\n",
       "      <td>American Samoa</td>\n",
       "    </tr>\n",
       "    <tr>\n",
       "      <th>20</th>\n",
       "      <td>Andorra</td>\n",
       "    </tr>\n",
       "    <tr>\n",
       "      <th>...</th>\n",
       "      <td>...</td>\n",
       "    </tr>\n",
       "    <tr>\n",
       "      <th>887</th>\n",
       "      <td>Yemen</td>\n",
       "    </tr>\n",
       "    <tr>\n",
       "      <th>891</th>\n",
       "      <td>Serbia and Montenegro</td>\n",
       "    </tr>\n",
       "    <tr>\n",
       "      <th>894</th>\n",
       "      <td>Zambia</td>\n",
       "    </tr>\n",
       "    <tr>\n",
       "      <th>499</th>\n",
       "      <td>Montenegro</td>\n",
       "    </tr>\n",
       "    <tr>\n",
       "      <th>688</th>\n",
       "      <td>Serbia</td>\n",
       "    </tr>\n",
       "  </tbody>\n",
       "</table>\n",
       "<p>236 rows × 1 columns</p>\n",
       "</div>"
      ],
      "text/plain": [
       "                            country\n",
       "country_code                       \n",
       "4                       Afghanistan\n",
       "8                           Albania\n",
       "12                          Algeria\n",
       "16                   American Samoa\n",
       "20                          Andorra\n",
       "...                             ...\n",
       "887                           Yemen\n",
       "891           Serbia and Montenegro\n",
       "894                          Zambia\n",
       "499                      Montenegro\n",
       "688                          Serbia\n",
       "\n",
       "[236 rows x 1 columns]"
      ]
     },
     "execution_count": 39,
     "metadata": {},
     "output_type": "execute_result"
    }
   ],
   "source": [
    "gf_path = (DATA_DIR / \"meadow\" / \"hyde\" / \"2017\" / \"general_files\").as_posix()\n",
    "codes = Dataset(gf_path)[\"country_codes\"]\n",
    "codes"
   ]
  },
  {
   "cell_type": "markdown",
   "id": "230a3d2e-da11-45d0-994a-90c763ed5f29",
   "metadata": {},
   "source": [
    "## Unzip to temp directory"
   ]
  },
  {
   "cell_type": "code",
   "execution_count": 40,
   "id": "f17283bd-574d-4e97-bb72-b742e6639458",
   "metadata": {},
   "outputs": [],
   "source": [
    "temp_dir = tempfile.mkdtemp()"
   ]
  },
  {
   "cell_type": "code",
   "execution_count": 41,
   "id": "d40413fc-28b0-466e-ba0a-a57008cefb6b",
   "metadata": {},
   "outputs": [
    {
     "data": {
      "text/plain": [
       "\u001b[0;31mSignature:\u001b[0m \u001b[0mzipfile\u001b[0m\u001b[0;34m.\u001b[0m\u001b[0mZipFile\u001b[0m\u001b[0;34m.\u001b[0m\u001b[0mextractall\u001b[0m\u001b[0;34m(\u001b[0m\u001b[0mself\u001b[0m\u001b[0;34m,\u001b[0m \u001b[0mpath\u001b[0m\u001b[0;34m=\u001b[0m\u001b[0;32mNone\u001b[0m\u001b[0;34m,\u001b[0m \u001b[0mmembers\u001b[0m\u001b[0;34m=\u001b[0m\u001b[0;32mNone\u001b[0m\u001b[0;34m,\u001b[0m \u001b[0mpwd\u001b[0m\u001b[0;34m=\u001b[0m\u001b[0;32mNone\u001b[0m\u001b[0;34m)\u001b[0m\u001b[0;34m\u001b[0m\u001b[0;34m\u001b[0m\u001b[0m\n",
       "\u001b[0;31mDocstring:\u001b[0m\n",
       "Extract all members from the archive to the current working\n",
       "directory. `path' specifies a different directory to extract to.\n",
       "`members' is optional and must be a subset of the list returned\n",
       "by namelist().\n",
       "\u001b[0;31mFile:\u001b[0m      ~/.pyenv/versions/3.9.7/Library/Frameworks/Python.framework/Versions/3.9/lib/python3.9/zipfile.py\n",
       "\u001b[0;31mType:\u001b[0m      function\n"
      ]
     },
     "metadata": {},
     "output_type": "display_data"
    }
   ],
   "source": [
    "z = zipfile.ZipFile.extractall?"
   ]
  },
  {
   "cell_type": "code",
   "execution_count": null,
   "id": "0d001e41-a589-4dab-8e20-1a55b8e762a2",
   "metadata": {},
   "outputs": [],
   "source": [
    "z = zipfile.ZipFile.extractall"
   ]
  },
  {
   "cell_type": "code",
   "execution_count": 42,
   "id": "bc52a456-2cbb-46d0-976d-22991cda15a2",
   "metadata": {},
   "outputs": [],
   "source": [
    "z = zipfile.ZipFile(walden_ds.local_path)"
   ]
  },
  {
   "cell_type": "code",
   "execution_count": 43,
   "id": "df40d294-81d0-487f-a7eb-0009c0906d63",
   "metadata": {},
   "outputs": [
    {
     "data": {
      "text/plain": [
       "['baseline/',\n",
       " 'baseline/txt/',\n",
       " 'baseline/txt/conv_rangeland_c.txt',\n",
       " 'baseline/txt/conv_rangeland_r.txt',\n",
       " 'baseline/txt/cropland_c.txt',\n",
       " 'baseline/txt/cropland_r.txt',\n",
       " 'baseline/txt/grazing_c.txt',\n",
       " 'baseline/txt/grazing_r.txt',\n",
       " 'baseline/txt/ir_norice_c.txt',\n",
       " 'baseline/txt/ir_norice_r.txt',\n",
       " 'baseline/txt/ir_rice_c.txt',\n",
       " 'baseline/txt/ir_rice_r.txt',\n",
       " 'baseline/txt/pasture_c.txt',\n",
       " 'baseline/txt/pasture_r.txt',\n",
       " 'baseline/txt/popc_c.txt',\n",
       " 'baseline/txt/popc_r.txt',\n",
       " 'baseline/txt/popd_c.txt',\n",
       " 'baseline/txt/popd_r.txt',\n",
       " 'baseline/txt/rangeland_c.txt',\n",
       " 'baseline/txt/rangeland_r.txt',\n",
       " 'baseline/txt/rf_norice_c.txt',\n",
       " 'baseline/txt/rf_norice_r.txt',\n",
       " 'baseline/txt/rf_rice_c.txt',\n",
       " 'baseline/txt/rf_rice_r.txt',\n",
       " 'baseline/txt/rurc_c.txt',\n",
       " 'baseline/txt/rurc_r.txt',\n",
       " 'baseline/txt/tot_irri_c.txt',\n",
       " 'baseline/txt/tot_irri_r.txt',\n",
       " 'baseline/txt/tot_rainfed_c.txt',\n",
       " 'baseline/txt/tot_rainfed_r.txt',\n",
       " 'baseline/txt/tot_rice_c.txt',\n",
       " 'baseline/txt/tot_rice_r.txt',\n",
       " 'baseline/txt/uopp_c.txt',\n",
       " 'baseline/txt/uopp_r.txt',\n",
       " 'baseline/txt/urbc_c.txt',\n",
       " 'baseline/txt/urbc_r.txt']"
      ]
     },
     "execution_count": 43,
     "metadata": {},
     "output_type": "execute_result"
    }
   ],
   "source": [
    "data_files = [f for f in z.namelist() if \"/png/\" not in f and \"/zip/\" not in f]\n",
    "data_files"
   ]
  },
  {
   "cell_type": "code",
   "execution_count": 44,
   "id": "0bc4c11f-2b1b-45c1-a852-876d3caf5094",
   "metadata": {},
   "outputs": [],
   "source": [
    "z.extractall(temp_dir, members=data_files)"
   ]
  },
  {
   "cell_type": "code",
   "execution_count": 45,
   "id": "6a3c4b77-4a1d-454c-b726-5943d92eca0f",
   "metadata": {},
   "outputs": [
    {
     "name": "stdout",
     "output_type": "stream",
     "text": [
      "conv_rangeland_c.txt popc_c.txt           tot_irri_c.txt\n",
      "conv_rangeland_r.txt popc_r.txt           tot_irri_r.txt\n",
      "cropland_c.txt       popd_c.txt           tot_rainfed_c.txt\n",
      "cropland_r.txt       popd_r.txt           tot_rainfed_r.txt\n",
      "grazing_c.txt        rangeland_c.txt      tot_rice_c.txt\n",
      "grazing_r.txt        rangeland_r.txt      tot_rice_r.txt\n",
      "ir_norice_c.txt      rf_norice_c.txt      uopp_c.txt\n",
      "ir_norice_r.txt      rf_norice_r.txt      uopp_r.txt\n",
      "ir_rice_c.txt        rf_rice_c.txt        urbc_c.txt\n",
      "ir_rice_r.txt        rf_rice_r.txt        urbc_r.txt\n",
      "pasture_c.txt        rurc_c.txt\n",
      "pasture_r.txt        rurc_r.txt\n"
     ]
    }
   ],
   "source": [
    "!ls {temp_dir}/baseline/txt"
   ]
  },
  {
   "cell_type": "markdown",
   "id": "e6c7a69c-d403-48de-8d91-0a383fd90c3b",
   "metadata": {},
   "source": [
    "## Make a dataset"
   ]
  },
  {
   "cell_type": "code",
   "execution_count": 46,
   "id": "966c8a33-b6ea-43db-8a62-a4d926113de7",
   "metadata": {},
   "outputs": [],
   "source": [
    "ds = Dataset.create_empty(dest_dir)\n",
    "ds.metadata = convert_walden_metadata(walden_ds)\n",
    "ds.save()"
   ]
  },
  {
   "cell_type": "markdown",
   "id": "6495ebf7-8771-4f9f-8102-037b04705932",
   "metadata": {},
   "source": [
    "## Add tables"
   ]
  },
  {
   "cell_type": "markdown",
   "id": "db2d54f1-c3cf-4cb5-8a73-c7bc4d17863c",
   "metadata": {},
   "source": [
    "### Population"
   ]
  },
  {
   "cell_type": "code",
   "execution_count": 51,
   "id": "e47b2e4f-87fa-4b15-92b3-7d7140823820",
   "metadata": {},
   "outputs": [],
   "source": [
    "country_path = Path(temp_dir) / \"baseline\" / \"txt\" / \"popc_c.txt\"\n",
    "population = (\n",
    "    pd.read_csv(country_path.as_posix(), sep=\" \")\n",
    "    .rename({\"region\": \"country_code\"}, axis=1)\n",
    "    .melt(id_vars=\"country_code\", var_name=\"year\", value_name=\"population\")\n",
    ")\n",
    "population = population[-population.country_code.isin([\"Total\"])]\n",
    "population[\"country_code\"] = population.country_code.astype(int)\n",
    "\n",
    "population_norm = pd.merge(\n",
    "    codes, population, on=\"country_code\", how=\"inner\", validate=\"one_to_many\"\n",
    ").drop(columns=\"country_code\")\n",
    "population_norm.set_index([\"country\", \"year\"], inplace=True)\n",
    "\n",
    "t = Table(population_norm)\n",
    "t.metadata.short_name = \"population\"\n",
    "ds.add(t)"
   ]
  },
  {
   "cell_type": "markdown",
   "id": "c0f40ff5-94d8-4581-90b8-258fab908a31",
   "metadata": {},
   "source": [
    "## Cleanup"
   ]
  },
  {
   "cell_type": "code",
   "execution_count": 34,
   "id": "119db5e8-ee03-4a71-81fe-c1011f36850a",
   "metadata": {},
   "outputs": [],
   "source": [
    "shutil.rmtree(temp_dir)"
   ]
  }
 ],
 "metadata": {
  "kernelspec": {
   "display_name": "Python 3 (ipykernel)",
   "language": "python",
   "name": "python3"
  },
  "language_info": {
   "codemirror_mode": {
    "name": "ipython",
    "version": 3
   },
   "file_extension": ".py",
   "mimetype": "text/x-python",
   "name": "python",
   "nbconvert_exporter": "python",
   "pygments_lexer": "ipython3",
   "version": "3.9.7"
  }
 },
 "nbformat": 4,
 "nbformat_minor": 5
}
