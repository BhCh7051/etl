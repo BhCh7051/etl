{
 "cells": [
  {
   "cell_type": "markdown",
   "source": [
    "# Hyde 3.2 baseline"
   ],
   "metadata": {}
  },
  {
   "cell_type": "markdown",
   "source": [
    "## Parameters"
   ],
   "metadata": {}
  },
  {
   "cell_type": "code",
   "execution_count": 35,
   "source": [
    "dest_dir = \"/tmp/hyde_3_2_baseline\""
   ],
   "outputs": [],
   "metadata": {
    "tags": [
     "parameters"
    ]
   }
  },
  {
   "cell_type": "markdown",
   "source": [
    "## Imports"
   ],
   "metadata": {}
  },
  {
   "cell_type": "code",
   "execution_count": 36,
   "source": [
    "import zipfile\n",
    "import tempfile\n",
    "import shutil\n",
    "from pathlib import Path\n",
    "\n",
    "from owid.catalog import Dataset, Table\n",
    "from owid.walden import Catalog\n",
    "from etl.command import DATA_DIR\n",
    "from etl.steps.data.converters import convert_walden_metadata"
   ],
   "outputs": [],
   "metadata": {}
  },
  {
   "cell_type": "markdown",
   "source": [
    "## Fetch walden dataset"
   ],
   "metadata": {}
  },
  {
   "cell_type": "code",
   "execution_count": 37,
   "source": [
    "walden_ds = Catalog().find_one(\"hyde\", \"2017\", \"baseline\")"
   ],
   "outputs": [],
   "metadata": {}
  },
  {
   "cell_type": "code",
   "execution_count": 38,
   "source": [
    "walden_ds"
   ],
   "outputs": [
    {
     "output_type": "execute_result",
     "data": {
      "text/plain": [
       "Dataset(namespace='hyde', short_name='baseline', name='Hyde 3.2 (baseline estimates)', description='HYDE is an internally consistent combination of updated historical population (gridded) estimates and land use for the past 12,000 years. Categories include cropland, with a new distinction into irrigated and rain fed crops (other than rice) and irrigated and rain fed rice. Also grazing lands are provided, divided into more intensively used pasture, converted rangeland and non-converted natural (less intensively used) rangeland. Population is represented by maps of total, urban, rural population and population density as well as built-up area.', source_name='PBL Netherlands Environmental Assessment Agency', url='https://www.pbl.nl/en/image/links/hyde', date_accessed='2021-10-01', file_extension='zip', license_url='https://dataportaal.pbl.nl/downloads/HYDE/HYDE3.2/readme_release_HYDE3.2.1.txt', source_data_url='https://dataportaal.pbl.nl/downloads/HYDE/HYDE3.2/baseline.zip', md5='acdbbd3908a29fb8ae75f3e081c980ad', publication_year=2017, publication_date=None, owid_data_url='https://nyc3.digitaloceanspaces.com/walden/hyde/2017/baseline.zip', license_name='CC BY 3.0', access_notes=None)"
      ]
     },
     "metadata": {},
     "execution_count": 38
    }
   ],
   "metadata": {}
  },
  {
   "cell_type": "markdown",
   "source": [
    "## Load country codes"
   ],
   "metadata": {}
  },
  {
   "cell_type": "code",
   "execution_count": 39,
   "source": [
    "gf_path = (DATA_DIR / \"meadow\" / \"hyde\" / \"2017\" / \"general_files\").as_posix()\n",
    "codes = Dataset(gf_path)[\"country_codes\"]\n",
    "codes"
   ],
   "outputs": [
    {
     "output_type": "execute_result",
     "data": {
      "text/html": [
       "<div>\n",
       "<style scoped>\n",
       "    .dataframe tbody tr th:only-of-type {\n",
       "        vertical-align: middle;\n",
       "    }\n",
       "\n",
       "    .dataframe tbody tr th {\n",
       "        vertical-align: top;\n",
       "    }\n",
       "\n",
       "    .dataframe thead th {\n",
       "        text-align: right;\n",
       "    }\n",
       "</style>\n",
       "<table border=\"1\" class=\"dataframe\">\n",
       "  <thead>\n",
       "    <tr style=\"text-align: right;\">\n",
       "      <th></th>\n",
       "      <th>country</th>\n",
       "    </tr>\n",
       "    <tr>\n",
       "      <th>country_code</th>\n",
       "      <th></th>\n",
       "    </tr>\n",
       "  </thead>\n",
       "  <tbody>\n",
       "    <tr>\n",
       "      <th>4</th>\n",
       "      <td>Afghanistan</td>\n",
       "    </tr>\n",
       "    <tr>\n",
       "      <th>8</th>\n",
       "      <td>Albania</td>\n",
       "    </tr>\n",
       "    <tr>\n",
       "      <th>12</th>\n",
       "      <td>Algeria</td>\n",
       "    </tr>\n",
       "    <tr>\n",
       "      <th>16</th>\n",
       "      <td>American Samoa</td>\n",
       "    </tr>\n",
       "    <tr>\n",
       "      <th>20</th>\n",
       "      <td>Andorra</td>\n",
       "    </tr>\n",
       "    <tr>\n",
       "      <th>...</th>\n",
       "      <td>...</td>\n",
       "    </tr>\n",
       "    <tr>\n",
       "      <th>887</th>\n",
       "      <td>Yemen</td>\n",
       "    </tr>\n",
       "    <tr>\n",
       "      <th>891</th>\n",
       "      <td>Serbia and Montenegro</td>\n",
       "    </tr>\n",
       "    <tr>\n",
       "      <th>894</th>\n",
       "      <td>Zambia</td>\n",
       "    </tr>\n",
       "    <tr>\n",
       "      <th>499</th>\n",
       "      <td>Montenegro</td>\n",
       "    </tr>\n",
       "    <tr>\n",
       "      <th>688</th>\n",
       "      <td>Serbia</td>\n",
       "    </tr>\n",
       "  </tbody>\n",
       "</table>\n",
       "<p>236 rows × 1 columns</p>\n",
       "</div>"
      ],
      "text/plain": [
       "                            country\n",
       "country_code                       \n",
       "4                       Afghanistan\n",
       "8                           Albania\n",
       "12                          Algeria\n",
       "16                   American Samoa\n",
       "20                          Andorra\n",
       "...                             ...\n",
       "887                           Yemen\n",
       "891           Serbia and Montenegro\n",
       "894                          Zambia\n",
       "499                      Montenegro\n",
       "688                          Serbia\n",
       "\n",
       "[236 rows x 1 columns]"
      ]
     },
     "metadata": {},
     "execution_count": 39
    }
   ],
   "metadata": {}
  },
  {
   "cell_type": "markdown",
   "source": [
    "## Unzip to temp directory"
   ],
   "metadata": {}
  },
  {
   "cell_type": "code",
   "execution_count": 40,
   "source": [
    "temp_dir = tempfile.mkdtemp()"
   ],
   "outputs": [],
   "metadata": {}
  },
  {
   "cell_type": "code",
   "execution_count": 41,
   "source": [
    "z = zipfile.ZipFile.extractall?"
   ],
   "outputs": [
    {
     "output_type": "display_data",
     "data": {
      "text/plain": [
       "\u001b[0;31mSignature:\u001b[0m \u001b[0mzipfile\u001b[0m\u001b[0;34m.\u001b[0m\u001b[0mZipFile\u001b[0m\u001b[0;34m.\u001b[0m\u001b[0mextractall\u001b[0m\u001b[0;34m(\u001b[0m\u001b[0mself\u001b[0m\u001b[0;34m,\u001b[0m \u001b[0mpath\u001b[0m\u001b[0;34m=\u001b[0m\u001b[0;32mNone\u001b[0m\u001b[0;34m,\u001b[0m \u001b[0mmembers\u001b[0m\u001b[0;34m=\u001b[0m\u001b[0;32mNone\u001b[0m\u001b[0;34m,\u001b[0m \u001b[0mpwd\u001b[0m\u001b[0;34m=\u001b[0m\u001b[0;32mNone\u001b[0m\u001b[0;34m)\u001b[0m\u001b[0;34m\u001b[0m\u001b[0;34m\u001b[0m\u001b[0m\n",
       "\u001b[0;31mDocstring:\u001b[0m\n",
       "Extract all members from the archive to the current working\n",
       "directory. `path' specifies a different directory to extract to.\n",
       "`members' is optional and must be a subset of the list returned\n",
       "by namelist().\n",
       "\u001b[0;31mFile:\u001b[0m      ~/.pyenv/versions/3.9.7/Library/Frameworks/Python.framework/Versions/3.9/lib/python3.9/zipfile.py\n",
       "\u001b[0;31mType:\u001b[0m      function\n"
      ]
     },
     "metadata": {}
    }
   ],
   "metadata": {}
  },
  {
   "cell_type": "code",
   "execution_count": null,
   "source": [
    "z = zipfile.ZipFile.extractall"
   ],
   "outputs": [],
   "metadata": {}
  },
  {
   "cell_type": "code",
   "execution_count": 42,
   "source": [
    "z = zipfile.ZipFile(walden_ds.local_path)"
   ],
   "outputs": [],
   "metadata": {}
  },
  {
   "cell_type": "code",
   "execution_count": 43,
   "source": [
    "data_files = [f for f in z.namelist() if \"/png/\" not in f and \"/zip/\" not in f]\n",
    "data_files"
   ],
   "outputs": [
    {
     "output_type": "execute_result",
     "data": {
      "text/plain": [
       "['baseline/',\n",
       " 'baseline/txt/',\n",
       " 'baseline/txt/conv_rangeland_c.txt',\n",
       " 'baseline/txt/conv_rangeland_r.txt',\n",
       " 'baseline/txt/cropland_c.txt',\n",
       " 'baseline/txt/cropland_r.txt',\n",
       " 'baseline/txt/grazing_c.txt',\n",
       " 'baseline/txt/grazing_r.txt',\n",
       " 'baseline/txt/ir_norice_c.txt',\n",
       " 'baseline/txt/ir_norice_r.txt',\n",
       " 'baseline/txt/ir_rice_c.txt',\n",
       " 'baseline/txt/ir_rice_r.txt',\n",
       " 'baseline/txt/pasture_c.txt',\n",
       " 'baseline/txt/pasture_r.txt',\n",
       " 'baseline/txt/popc_c.txt',\n",
       " 'baseline/txt/popc_r.txt',\n",
       " 'baseline/txt/popd_c.txt',\n",
       " 'baseline/txt/popd_r.txt',\n",
       " 'baseline/txt/rangeland_c.txt',\n",
       " 'baseline/txt/rangeland_r.txt',\n",
       " 'baseline/txt/rf_norice_c.txt',\n",
       " 'baseline/txt/rf_norice_r.txt',\n",
       " 'baseline/txt/rf_rice_c.txt',\n",
       " 'baseline/txt/rf_rice_r.txt',\n",
       " 'baseline/txt/rurc_c.txt',\n",
       " 'baseline/txt/rurc_r.txt',\n",
       " 'baseline/txt/tot_irri_c.txt',\n",
       " 'baseline/txt/tot_irri_r.txt',\n",
       " 'baseline/txt/tot_rainfed_c.txt',\n",
       " 'baseline/txt/tot_rainfed_r.txt',\n",
       " 'baseline/txt/tot_rice_c.txt',\n",
       " 'baseline/txt/tot_rice_r.txt',\n",
       " 'baseline/txt/uopp_c.txt',\n",
       " 'baseline/txt/uopp_r.txt',\n",
       " 'baseline/txt/urbc_c.txt',\n",
       " 'baseline/txt/urbc_r.txt']"
      ]
     },
     "metadata": {},
     "execution_count": 43
    }
   ],
   "metadata": {}
  },
  {
   "cell_type": "code",
   "execution_count": 44,
   "source": [
    "z.extractall(temp_dir, members=data_files)"
   ],
   "outputs": [],
   "metadata": {}
  },
  {
   "cell_type": "code",
   "execution_count": 45,
   "source": [
    "!ls {temp_dir}/baseline/txt"
   ],
   "outputs": [
    {
     "output_type": "stream",
     "name": "stdout",
     "text": [
      "conv_rangeland_c.txt popc_c.txt           tot_irri_c.txt\n",
      "conv_rangeland_r.txt popc_r.txt           tot_irri_r.txt\n",
      "cropland_c.txt       popd_c.txt           tot_rainfed_c.txt\n",
      "cropland_r.txt       popd_r.txt           tot_rainfed_r.txt\n",
      "grazing_c.txt        rangeland_c.txt      tot_rice_c.txt\n",
      "grazing_r.txt        rangeland_r.txt      tot_rice_r.txt\n",
      "ir_norice_c.txt      rf_norice_c.txt      uopp_c.txt\n",
      "ir_norice_r.txt      rf_norice_r.txt      uopp_r.txt\n",
      "ir_rice_c.txt        rf_rice_c.txt        urbc_c.txt\n",
      "ir_rice_r.txt        rf_rice_r.txt        urbc_r.txt\n",
      "pasture_c.txt        rurc_c.txt\n",
      "pasture_r.txt        rurc_r.txt\n"
     ]
    }
   ],
   "metadata": {}
  },
  {
   "cell_type": "markdown",
   "source": [
    "## Make a dataset"
   ],
   "metadata": {}
  },
  {
   "cell_type": "code",
   "execution_count": 46,
   "source": [
    "ds = Dataset.create_empty(dest_dir)\n",
    "ds.metadata = convert_walden_metadata(walden_ds)\n",
    "ds.save()"
   ],
   "outputs": [],
   "metadata": {}
  },
  {
   "cell_type": "markdown",
   "source": [
    "## Add tables"
   ],
   "metadata": {}
  },
  {
   "cell_type": "markdown",
   "source": [
    "### Population"
   ],
   "metadata": {}
  },
  {
   "cell_type": "code",
   "execution_count": 51,
   "source": [
    "country_path = Path(temp_dir) / \"baseline\" / \"txt\" / \"popc_c.txt\"\n",
    "population = (\n",
    "    pd.read_csv(country_path.as_posix(), sep=\" \")\n",
    "    .rename({\"region\": \"country_code\"}, axis=1)\n",
    "    .melt(id_vars=\"country_code\", var_name=\"year\", value_name=\"population\")\n",
    ")\n",
    "population = population[-population.country_code.isin([\"Total\"])]\n",
    "population['year'] = population.year.astype(int)\n",
    "population[\"country_code\"] = population.country_code.astype(int)\n",
    "\n",
    "population_norm = pd.merge(\n",
    "    codes, population, on=\"country_code\", how=\"inner\", validate=\"one_to_many\"\n",
    ").drop(columns=\"country_code\")\n",
    "population_norm.set_index([\"country\", \"year\"], inplace=True)\n",
    "\n",
    "t = Table(population_norm)\n",
    "t.metadata.short_name = \"population\"\n",
    "ds.add(t)"
   ],
   "outputs": [],
   "metadata": {}
  },
  {
   "cell_type": "markdown",
   "source": [
    "## Cleanup"
   ],
   "metadata": {}
  },
  {
   "cell_type": "code",
   "execution_count": 34,
   "source": [
    "shutil.rmtree(temp_dir)"
   ],
   "outputs": [],
   "metadata": {}
  }
 ],
 "metadata": {
  "kernelspec": {
   "display_name": "Python 3 (ipykernel)",
   "language": "python",
   "name": "python3"
  },
  "language_info": {
   "codemirror_mode": {
    "name": "ipython",
    "version": 3
   },
   "file_extension": ".py",
   "mimetype": "text/x-python",
   "name": "python",
   "nbconvert_exporter": "python",
   "pygments_lexer": "ipython3",
   "version": "3.9.7"
  }
 },
 "nbformat": 4,
 "nbformat_minor": 5
}