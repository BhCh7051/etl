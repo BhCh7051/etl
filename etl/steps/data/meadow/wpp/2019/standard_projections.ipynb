{
 "cells": [
  {
   "cell_type": "markdown",
   "id": "1a05ec18-36e1-4572-ae43-2fa96c62180f",
   "metadata": {},
   "source": [
    "# WPP: total population"
   ]
  },
  {
   "cell_type": "markdown",
   "id": "342bb303-d971-4993-917c-9b7d009db4e7",
   "metadata": {},
   "source": [
    "## Parameters"
   ]
  },
  {
   "cell_type": "code",
   "execution_count": 1,
   "id": "314c2f32-8639-4efa-9d2b-50078a3ffd98",
   "metadata": {
    "tags": [
     "parameters"
    ]
   },
   "outputs": [],
   "source": [
    "dest_dir = '/tmp/wpp_2019_total_population'"
   ]
  },
  {
   "cell_type": "markdown",
   "id": "75f08630-8866-4c31-a394-d045f0b23f50",
   "metadata": {},
   "source": [
    "## Walden"
   ]
  },
  {
   "cell_type": "code",
   "execution_count": 2,
   "id": "9ead18cf-cc09-42fa-b0ac-2be038488bf9",
   "metadata": {},
   "outputs": [],
   "source": [
    "from owid import walden"
   ]
  },
  {
   "cell_type": "code",
   "execution_count": 3,
   "id": "96ccf1d3-c2f0-412c-a7c9-2fa11c3bc3ee",
   "metadata": {},
   "outputs": [],
   "source": [
    "walden_ds = walden.Catalog().find_one('wpp', '2019', 'standard_projections')"
   ]
  },
  {
   "cell_type": "code",
   "execution_count": 4,
   "id": "d4f2ac7f-deb7-4989-b8ec-a1416b97875b",
   "metadata": {},
   "outputs": [
    {
     "data": {
      "text/plain": [
       "Dataset(namespace='wpp', short_name='standard_projections', name='UN World Population Prospects 2019 - Standard Projections', description='The 2019 Revision of World Population Prospects is the twenty-sixth round of official United Nations population estimates and projections that have been prepared by the Population Division of the Department of Economic and Social Affairs of the United Nations Secretariat.', source_name='United Nations', url='https://population.un.org/wpp2019/Download/Standard/Population/', date_accessed='2021-10-08', file_extension='zip', license_url='https://data.un.org/Host.aspx?Content=UNdataUse', source_data_url=None, md5='03884d5712560092a7f93469f5d048bb', publication_year=2019, publication_date=None, owid_data_url='https://walden.nyc3.digitaloceanspaces.com/wpp/2019/WPP2019.zip', license_name='CC-BY (custom)', access_notes=None)"
      ]
     },
     "execution_count": 4,
     "metadata": {},
     "output_type": "execute_result"
    }
   ],
   "source": [
    "walden_ds"
   ]
  },
  {
   "cell_type": "markdown",
   "id": "db5b6c32-3e98-44e8-8456-791329b80a53",
   "metadata": {},
   "source": [
    "## Unzip"
   ]
  },
  {
   "cell_type": "code",
   "execution_count": 5,
   "id": "39132306-da15-49fa-a2d5-aee3f27e6a38",
   "metadata": {},
   "outputs": [],
   "source": [
    "import tempfile\n",
    "import shutil"
   ]
  },
  {
   "cell_type": "code",
   "execution_count": 6,
   "id": "6a1f7c70-40ce-402e-936d-8b841671dd56",
   "metadata": {},
   "outputs": [],
   "source": [
    "temp_dir = tempfile.mkdtemp()"
   ]
  },
  {
   "cell_type": "code",
   "execution_count": 7,
   "id": "22bc0e97-9637-4548-bc10-9b7a380bdaa3",
   "metadata": {},
   "outputs": [],
   "source": [
    "import zipfile"
   ]
  },
  {
   "cell_type": "code",
   "execution_count": 8,
   "id": "90af5983-9e5b-418d-a520-06155a4c6fc7",
   "metadata": {},
   "outputs": [],
   "source": [
    "zipfile.ZipFile(walden_ds.local_path).extractall(temp_dir)"
   ]
  },
  {
   "cell_type": "code",
   "execution_count": 9,
   "id": "587f5124-3206-45ea-84ab-014ded80f9c9",
   "metadata": {},
   "outputs": [
    {
     "name": "stdout",
     "output_type": "stream",
     "text": [
      "WPP2019_Fertility_by_Age.csv\n",
      "WPP2019_Life_Table_Medium.csv\n",
      "WPP2019_Life_Table_OtherVariants.csv\n",
      "WPP2019_Period_Indicators_Medium.csv\n",
      "WPP2019_Period_Indicators_OtherVariants.csv\n",
      "WPP2019_PopulationByAgeSex_Medium.csv\n",
      "WPP2019_PopulationByAgeSex_OtherVariants.csv\n",
      "WPP2019_PopulationBySingleAgeSex_1950-2019.csv\n",
      "WPP2019_PopulationBySingleAgeSex_2020-2100.csv\n",
      "WPP2019_TotalPopulationBySex.csv\n"
     ]
    }
   ],
   "source": [
    "!ls {temp_dir}/WPP2019"
   ]
  },
  {
   "cell_type": "markdown",
   "id": "a812da8e-fb48-4f8f-9d4f-98df41cf9a96",
   "metadata": {},
   "source": [
    "## Make dataset"
   ]
  },
  {
   "cell_type": "code",
   "execution_count": 10,
   "id": "147f0078-56eb-43c8-a25c-5bfec848efbb",
   "metadata": {},
   "outputs": [],
   "source": [
    "from owid.catalog import Dataset"
   ]
  },
  {
   "cell_type": "code",
   "execution_count": 11,
   "id": "01adb8ad-a8a0-49ac-8a99-829cabeaf822",
   "metadata": {},
   "outputs": [],
   "source": [
    "ds = Dataset.create_empty(dest_dir)"
   ]
  },
  {
   "cell_type": "markdown",
   "id": "56859046-2544-4013-857e-537eef85095d",
   "metadata": {},
   "source": [
    "## Add tables"
   ]
  },
  {
   "cell_type": "code",
   "execution_count": 12,
   "id": "129b5a69-31e8-4af8-81b5-81fefe644249",
   "metadata": {},
   "outputs": [],
   "source": [
    "from owid.catalog import Table\n",
    "import pandas as pd"
   ]
  },
  {
   "cell_type": "markdown",
   "id": "c9a8d281-2e33-47be-80f5-e6857e18f29b",
   "metadata": {},
   "source": [
    "### Total population"
   ]
  },
  {
   "cell_type": "code",
   "execution_count": 13,
   "id": "33f7123c-ded6-4c65-9a3d-d1dd1736f362",
   "metadata": {},
   "outputs": [],
   "source": [
    "df = pd.read_csv(f'{temp_dir}/WPP2019/WPP2019_TotalPopulationBySex.csv')"
   ]
  },
  {
   "cell_type": "code",
   "execution_count": 14,
   "id": "d1cfffb7-c164-4366-83bc-73ee00bb720d",
   "metadata": {},
   "outputs": [
    {
     "data": {
      "text/html": [
       "<div>\n",
       "<style scoped>\n",
       "    .dataframe tbody tr th:only-of-type {\n",
       "        vertical-align: middle;\n",
       "    }\n",
       "\n",
       "    .dataframe tbody tr th {\n",
       "        vertical-align: top;\n",
       "    }\n",
       "\n",
       "    .dataframe thead th {\n",
       "        text-align: right;\n",
       "    }\n",
       "</style>\n",
       "<table border=\"1\" class=\"dataframe\">\n",
       "  <thead>\n",
       "    <tr style=\"text-align: right;\">\n",
       "      <th></th>\n",
       "      <th>LocID</th>\n",
       "      <th>Location</th>\n",
       "      <th>VarID</th>\n",
       "      <th>Variant</th>\n",
       "      <th>Time</th>\n",
       "      <th>MidPeriod</th>\n",
       "      <th>PopMale</th>\n",
       "      <th>PopFemale</th>\n",
       "      <th>PopTotal</th>\n",
       "      <th>PopDensity</th>\n",
       "    </tr>\n",
       "  </thead>\n",
       "  <tbody>\n",
       "    <tr>\n",
       "      <th>0</th>\n",
       "      <td>4</td>\n",
       "      <td>Afghanistan</td>\n",
       "      <td>2</td>\n",
       "      <td>Medium</td>\n",
       "      <td>1950</td>\n",
       "      <td>1950.5</td>\n",
       "      <td>4099.243</td>\n",
       "      <td>3652.874</td>\n",
       "      <td>7752.117</td>\n",
       "      <td>11.874</td>\n",
       "    </tr>\n",
       "    <tr>\n",
       "      <th>1</th>\n",
       "      <td>4</td>\n",
       "      <td>Afghanistan</td>\n",
       "      <td>2</td>\n",
       "      <td>Medium</td>\n",
       "      <td>1951</td>\n",
       "      <td>1951.5</td>\n",
       "      <td>4134.756</td>\n",
       "      <td>3705.395</td>\n",
       "      <td>7840.151</td>\n",
       "      <td>12.009</td>\n",
       "    </tr>\n",
       "    <tr>\n",
       "      <th>2</th>\n",
       "      <td>4</td>\n",
       "      <td>Afghanistan</td>\n",
       "      <td>2</td>\n",
       "      <td>Medium</td>\n",
       "      <td>1952</td>\n",
       "      <td>1952.5</td>\n",
       "      <td>4174.450</td>\n",
       "      <td>3761.546</td>\n",
       "      <td>7935.996</td>\n",
       "      <td>12.156</td>\n",
       "    </tr>\n",
       "    <tr>\n",
       "      <th>3</th>\n",
       "      <td>4</td>\n",
       "      <td>Afghanistan</td>\n",
       "      <td>2</td>\n",
       "      <td>Medium</td>\n",
       "      <td>1953</td>\n",
       "      <td>1953.5</td>\n",
       "      <td>4218.336</td>\n",
       "      <td>3821.348</td>\n",
       "      <td>8039.684</td>\n",
       "      <td>12.315</td>\n",
       "    </tr>\n",
       "    <tr>\n",
       "      <th>4</th>\n",
       "      <td>4</td>\n",
       "      <td>Afghanistan</td>\n",
       "      <td>2</td>\n",
       "      <td>Medium</td>\n",
       "      <td>1954</td>\n",
       "      <td>1954.5</td>\n",
       "      <td>4266.484</td>\n",
       "      <td>3884.832</td>\n",
       "      <td>8151.316</td>\n",
       "      <td>12.486</td>\n",
       "    </tr>\n",
       "  </tbody>\n",
       "</table>\n",
       "</div>"
      ],
      "text/plain": [
       "   LocID     Location  VarID Variant  Time  MidPeriod   PopMale  PopFemale  \\\n",
       "0      4  Afghanistan      2  Medium  1950     1950.5  4099.243   3652.874   \n",
       "1      4  Afghanistan      2  Medium  1951     1951.5  4134.756   3705.395   \n",
       "2      4  Afghanistan      2  Medium  1952     1952.5  4174.450   3761.546   \n",
       "3      4  Afghanistan      2  Medium  1953     1953.5  4218.336   3821.348   \n",
       "4      4  Afghanistan      2  Medium  1954     1954.5  4266.484   3884.832   \n",
       "\n",
       "   PopTotal  PopDensity  \n",
       "0  7752.117      11.874  \n",
       "1  7840.151      12.009  \n",
       "2  7935.996      12.156  \n",
       "3  8039.684      12.315  \n",
       "4  8151.316      12.486  "
      ]
     },
     "execution_count": 14,
     "metadata": {},
     "output_type": "execute_result"
    }
   ],
   "source": [
    "df.head()"
   ]
  },
  {
   "cell_type": "code",
   "execution_count": 15,
   "id": "6c4fb156-1aef-4125-b188-0e2987eaf4c4",
   "metadata": {},
   "outputs": [],
   "source": [
    "df.columns = ['loc_id', 'location', 'var_id', 'variant', 'year', 'mid_period', 'population_male', 'population_female', 'population_total', 'population_density']"
   ]
  },
  {
   "cell_type": "code",
   "execution_count": 16,
   "id": "93251aca-6471-4f51-8e89-4c2771759e78",
   "metadata": {},
   "outputs": [],
   "source": [
    "t = Table(df[['loc_id', 'location']].drop_duplicates().set_index('loc_id'))\n",
    "t.metadata.short_name = 'location_codes'\n",
    "ds.add(t)"
   ]
  },
  {
   "cell_type": "code",
   "execution_count": 17,
   "id": "68d202aa-d63b-4133-a231-964d8dedcb61",
   "metadata": {},
   "outputs": [],
   "source": [
    "t = Table(df[['var_id', 'variant']].drop_duplicates().set_index('var_id'))\n",
    "t.metadata.short_name = 'variant_codes'\n",
    "ds.add(t)"
   ]
  },
  {
   "cell_type": "code",
   "execution_count": 18,
   "id": "ba781786-c1e1-4e55-a21e-bc596dc30e20",
   "metadata": {},
   "outputs": [],
   "source": [
    "df.drop(columns=['loc_id', 'var_id'], inplace=True)"
   ]
  },
  {
   "cell_type": "code",
   "execution_count": 38,
   "id": "895c17a3-9165-4e24-a14c-c3a5c6fd1760",
   "metadata": {},
   "outputs": [],
   "source": [
    "for col in ['location', 'variant']:\n",
    "    df[col] = df[col].astype('category')"
   ]
  },
  {
   "cell_type": "code",
   "execution_count": 19,
   "id": "947e169c-475d-4537-80cf-7b5cc36153f1",
   "metadata": {},
   "outputs": [],
   "source": [
    "df.set_index(['variant', 'location', 'year'], inplace=True)"
   ]
  },
  {
   "cell_type": "code",
   "execution_count": 20,
   "id": "f1d17d10-fff7-43a4-8956-d509e3c319fb",
   "metadata": {},
   "outputs": [
    {
     "data": {
      "text/html": [
       "<div>\n",
       "<style scoped>\n",
       "    .dataframe tbody tr th:only-of-type {\n",
       "        vertical-align: middle;\n",
       "    }\n",
       "\n",
       "    .dataframe tbody tr th {\n",
       "        vertical-align: top;\n",
       "    }\n",
       "\n",
       "    .dataframe thead th {\n",
       "        text-align: right;\n",
       "    }\n",
       "</style>\n",
       "<table border=\"1\" class=\"dataframe\">\n",
       "  <thead>\n",
       "    <tr style=\"text-align: right;\">\n",
       "      <th></th>\n",
       "      <th></th>\n",
       "      <th></th>\n",
       "      <th>mid_period</th>\n",
       "      <th>population_male</th>\n",
       "      <th>population_female</th>\n",
       "      <th>population_total</th>\n",
       "      <th>population_density</th>\n",
       "    </tr>\n",
       "    <tr>\n",
       "      <th>variant</th>\n",
       "      <th>location</th>\n",
       "      <th>year</th>\n",
       "      <th></th>\n",
       "      <th></th>\n",
       "      <th></th>\n",
       "      <th></th>\n",
       "      <th></th>\n",
       "    </tr>\n",
       "  </thead>\n",
       "  <tbody>\n",
       "    <tr>\n",
       "      <th rowspan=\"5\" valign=\"top\">Medium</th>\n",
       "      <th rowspan=\"5\" valign=\"top\">Afghanistan</th>\n",
       "      <th>1950</th>\n",
       "      <td>1950.5</td>\n",
       "      <td>4099.243</td>\n",
       "      <td>3652.874</td>\n",
       "      <td>7752.117</td>\n",
       "      <td>11.874</td>\n",
       "    </tr>\n",
       "    <tr>\n",
       "      <th>1951</th>\n",
       "      <td>1951.5</td>\n",
       "      <td>4134.756</td>\n",
       "      <td>3705.395</td>\n",
       "      <td>7840.151</td>\n",
       "      <td>12.009</td>\n",
       "    </tr>\n",
       "    <tr>\n",
       "      <th>1952</th>\n",
       "      <td>1952.5</td>\n",
       "      <td>4174.450</td>\n",
       "      <td>3761.546</td>\n",
       "      <td>7935.996</td>\n",
       "      <td>12.156</td>\n",
       "    </tr>\n",
       "    <tr>\n",
       "      <th>1953</th>\n",
       "      <td>1953.5</td>\n",
       "      <td>4218.336</td>\n",
       "      <td>3821.348</td>\n",
       "      <td>8039.684</td>\n",
       "      <td>12.315</td>\n",
       "    </tr>\n",
       "    <tr>\n",
       "      <th>1954</th>\n",
       "      <td>1954.5</td>\n",
       "      <td>4266.484</td>\n",
       "      <td>3884.832</td>\n",
       "      <td>8151.316</td>\n",
       "      <td>12.486</td>\n",
       "    </tr>\n",
       "    <tr>\n",
       "      <th>...</th>\n",
       "      <th>...</th>\n",
       "      <th>...</th>\n",
       "      <td>...</td>\n",
       "      <td>...</td>\n",
       "      <td>...</td>\n",
       "      <td>...</td>\n",
       "      <td>...</td>\n",
       "    </tr>\n",
       "    <tr>\n",
       "      <th rowspan=\"5\" valign=\"top\">Lower 95 PI</th>\n",
       "      <th rowspan=\"5\" valign=\"top\">Zimbabwe</th>\n",
       "      <th>2080</th>\n",
       "      <td>2080.5</td>\n",
       "      <td>10576.533</td>\n",
       "      <td>11255.983</td>\n",
       "      <td>21836.893</td>\n",
       "      <td>56.448</td>\n",
       "    </tr>\n",
       "    <tr>\n",
       "      <th>2085</th>\n",
       "      <td>2085.5</td>\n",
       "      <td>10293.349</td>\n",
       "      <td>11050.875</td>\n",
       "      <td>21355.988</td>\n",
       "      <td>55.205</td>\n",
       "    </tr>\n",
       "    <tr>\n",
       "      <th>2090</th>\n",
       "      <td>2090.5</td>\n",
       "      <td>9920.336</td>\n",
       "      <td>10767.709</td>\n",
       "      <td>20689.956</td>\n",
       "      <td>53.483</td>\n",
       "    </tr>\n",
       "    <tr>\n",
       "      <th>2095</th>\n",
       "      <td>2095.5</td>\n",
       "      <td>9503.711</td>\n",
       "      <td>10412.184</td>\n",
       "      <td>19892.080</td>\n",
       "      <td>51.421</td>\n",
       "    </tr>\n",
       "    <tr>\n",
       "      <th>2100</th>\n",
       "      <td>2100.5</td>\n",
       "      <td>9090.075</td>\n",
       "      <td>9996.105</td>\n",
       "      <td>19061.177</td>\n",
       "      <td>49.273</td>\n",
       "    </tr>\n",
       "  </tbody>\n",
       "</table>\n",
       "<p>280932 rows × 5 columns</p>\n",
       "</div>"
      ],
      "text/plain": [
       "                              mid_period  population_male  population_female  \\\n",
       "variant     location    year                                                   \n",
       "Medium      Afghanistan 1950      1950.5         4099.243           3652.874   \n",
       "                        1951      1951.5         4134.756           3705.395   \n",
       "                        1952      1952.5         4174.450           3761.546   \n",
       "                        1953      1953.5         4218.336           3821.348   \n",
       "                        1954      1954.5         4266.484           3884.832   \n",
       "...                                  ...              ...                ...   \n",
       "Lower 95 PI Zimbabwe    2080      2080.5        10576.533          11255.983   \n",
       "                        2085      2085.5        10293.349          11050.875   \n",
       "                        2090      2090.5         9920.336          10767.709   \n",
       "                        2095      2095.5         9503.711          10412.184   \n",
       "                        2100      2100.5         9090.075           9996.105   \n",
       "\n",
       "                              population_total  population_density  \n",
       "variant     location    year                                        \n",
       "Medium      Afghanistan 1950          7752.117              11.874  \n",
       "                        1951          7840.151              12.009  \n",
       "                        1952          7935.996              12.156  \n",
       "                        1953          8039.684              12.315  \n",
       "                        1954          8151.316              12.486  \n",
       "...                                        ...                 ...  \n",
       "Lower 95 PI Zimbabwe    2080         21836.893              56.448  \n",
       "                        2085         21355.988              55.205  \n",
       "                        2090         20689.956              53.483  \n",
       "                        2095         19892.080              51.421  \n",
       "                        2100         19061.177              49.273  \n",
       "\n",
       "[280932 rows x 5 columns]"
      ]
     },
     "execution_count": 20,
     "metadata": {},
     "output_type": "execute_result"
    }
   ],
   "source": [
    "df"
   ]
  },
  {
   "cell_type": "code",
   "execution_count": 21,
   "id": "3c7fd381-2ba5-4d77-9aa7-e9bbc651e010",
   "metadata": {},
   "outputs": [
    {
     "data": {
      "text/plain": [
       "Index(['Constant fertility', 'Constant mortality', 'High',\n",
       "       'Instant replacement', 'Low', 'Lower 80 PI', 'Lower 95 PI', 'Median PI',\n",
       "       'Medium', 'Momentum', 'No change', 'Upper 80 PI', 'Upper 95 PI',\n",
       "       'Zero migration'],\n",
       "      dtype='object', name='variant')"
      ]
     },
     "execution_count": 21,
     "metadata": {},
     "output_type": "execute_result"
    }
   ],
   "source": [
    "df.index.levels[0]"
   ]
  },
  {
   "cell_type": "code",
   "execution_count": 22,
   "id": "181dcd61-e77d-43f3-a596-d51320c802e8",
   "metadata": {},
   "outputs": [],
   "source": [
    "t = Table(df)\n",
    "t.metadata.short_name = 'total_population'\n",
    "ds.add(t)"
   ]
  },
  {
   "cell_type": "markdown",
   "id": "210c7d1a-4ad7-4473-88ff-e95f27a20148",
   "metadata": {},
   "source": [
    "### Fertility by age"
   ]
  },
  {
   "cell_type": "code",
   "execution_count": 23,
   "id": "74d3284f-0003-4cec-8141-bd6da48e2a00",
   "metadata": {},
   "outputs": [],
   "source": [
    "df = pd.read_csv(f'{temp_dir}/WPP2019/WPP2019_Fertility_by_Age.csv')"
   ]
  },
  {
   "cell_type": "code",
   "execution_count": 24,
   "id": "0cf3e2e3-6781-4948-b9a9-e6fdeceb5926",
   "metadata": {},
   "outputs": [
    {
     "data": {
      "text/html": [
       "<div>\n",
       "<style scoped>\n",
       "    .dataframe tbody tr th:only-of-type {\n",
       "        vertical-align: middle;\n",
       "    }\n",
       "\n",
       "    .dataframe tbody tr th {\n",
       "        vertical-align: top;\n",
       "    }\n",
       "\n",
       "    .dataframe thead th {\n",
       "        text-align: right;\n",
       "    }\n",
       "</style>\n",
       "<table border=\"1\" class=\"dataframe\">\n",
       "  <thead>\n",
       "    <tr style=\"text-align: right;\">\n",
       "      <th></th>\n",
       "      <th>LocID</th>\n",
       "      <th>Location</th>\n",
       "      <th>VarID</th>\n",
       "      <th>Variant</th>\n",
       "      <th>Time</th>\n",
       "      <th>MidPeriod</th>\n",
       "      <th>AgeGrp</th>\n",
       "      <th>AgeGrpStart</th>\n",
       "      <th>AgeGrpSpan</th>\n",
       "      <th>ASFR</th>\n",
       "      <th>PASFR</th>\n",
       "      <th>Births</th>\n",
       "    </tr>\n",
       "  </thead>\n",
       "  <tbody>\n",
       "    <tr>\n",
       "      <th>0</th>\n",
       "      <td>4</td>\n",
       "      <td>Afghanistan</td>\n",
       "      <td>2</td>\n",
       "      <td>Medium</td>\n",
       "      <td>1950-1955</td>\n",
       "      <td>1953</td>\n",
       "      <td>15-19</td>\n",
       "      <td>15</td>\n",
       "      <td>5</td>\n",
       "      <td>145.245</td>\n",
       "      <td>9.748</td>\n",
       "      <td>280.906</td>\n",
       "    </tr>\n",
       "    <tr>\n",
       "      <th>1</th>\n",
       "      <td>4</td>\n",
       "      <td>Afghanistan</td>\n",
       "      <td>2</td>\n",
       "      <td>Medium</td>\n",
       "      <td>1950-1955</td>\n",
       "      <td>1953</td>\n",
       "      <td>20-24</td>\n",
       "      <td>20</td>\n",
       "      <td>5</td>\n",
       "      <td>313.809</td>\n",
       "      <td>21.061</td>\n",
       "      <td>522.501</td>\n",
       "    </tr>\n",
       "    <tr>\n",
       "      <th>2</th>\n",
       "      <td>4</td>\n",
       "      <td>Afghanistan</td>\n",
       "      <td>2</td>\n",
       "      <td>Medium</td>\n",
       "      <td>1950-1955</td>\n",
       "      <td>1953</td>\n",
       "      <td>25-29</td>\n",
       "      <td>25</td>\n",
       "      <td>5</td>\n",
       "      <td>339.005</td>\n",
       "      <td>22.752</td>\n",
       "      <td>481.946</td>\n",
       "    </tr>\n",
       "    <tr>\n",
       "      <th>3</th>\n",
       "      <td>4</td>\n",
       "      <td>Afghanistan</td>\n",
       "      <td>2</td>\n",
       "      <td>Medium</td>\n",
       "      <td>1950-1955</td>\n",
       "      <td>1953</td>\n",
       "      <td>30-34</td>\n",
       "      <td>30</td>\n",
       "      <td>5</td>\n",
       "      <td>290.535</td>\n",
       "      <td>19.499</td>\n",
       "      <td>351.097</td>\n",
       "    </tr>\n",
       "    <tr>\n",
       "      <th>4</th>\n",
       "      <td>4</td>\n",
       "      <td>Afghanistan</td>\n",
       "      <td>2</td>\n",
       "      <td>Medium</td>\n",
       "      <td>1950-1955</td>\n",
       "      <td>1953</td>\n",
       "      <td>35-39</td>\n",
       "      <td>35</td>\n",
       "      <td>5</td>\n",
       "      <td>233.111</td>\n",
       "      <td>15.645</td>\n",
       "      <td>238.645</td>\n",
       "    </tr>\n",
       "  </tbody>\n",
       "</table>\n",
       "</div>"
      ],
      "text/plain": [
       "   LocID     Location  VarID Variant       Time  MidPeriod AgeGrp  \\\n",
       "0      4  Afghanistan      2  Medium  1950-1955       1953  15-19   \n",
       "1      4  Afghanistan      2  Medium  1950-1955       1953  20-24   \n",
       "2      4  Afghanistan      2  Medium  1950-1955       1953  25-29   \n",
       "3      4  Afghanistan      2  Medium  1950-1955       1953  30-34   \n",
       "4      4  Afghanistan      2  Medium  1950-1955       1953  35-39   \n",
       "\n",
       "   AgeGrpStart  AgeGrpSpan     ASFR   PASFR   Births  \n",
       "0           15           5  145.245   9.748  280.906  \n",
       "1           20           5  313.809  21.061  522.501  \n",
       "2           25           5  339.005  22.752  481.946  \n",
       "3           30           5  290.535  19.499  351.097  \n",
       "4           35           5  233.111  15.645  238.645  "
      ]
     },
     "execution_count": 24,
     "metadata": {},
     "output_type": "execute_result"
    }
   ],
   "source": [
    "df.head()"
   ]
  },
  {
   "cell_type": "code",
   "execution_count": 25,
   "id": "a17f4d45-151c-4cf6-8a2e-46bef5fd4b8e",
   "metadata": {},
   "outputs": [],
   "source": [
    "df.drop(columns=['LocID', 'VarID'], inplace=True)"
   ]
  },
  {
   "cell_type": "code",
   "execution_count": 30,
   "id": "07f79f9e-0497-46a6-a6ac-6c637e294029",
   "metadata": {},
   "outputs": [],
   "source": [
    "df.columns = [\n",
    "    'location', 'variant', 'year_range', 'mid_period', 'age_group', 'age_group_start', 'age_group_span', 'asfr', 'pasfr', 'births'\n",
    "]"
   ]
  },
  {
   "cell_type": "code",
   "execution_count": 31,
   "id": "fe5ead92-8eb8-4b45-a992-b0658bfa689f",
   "metadata": {},
   "outputs": [
    {
     "data": {
      "text/html": [
       "<div>\n",
       "<style scoped>\n",
       "    .dataframe tbody tr th:only-of-type {\n",
       "        vertical-align: middle;\n",
       "    }\n",
       "\n",
       "    .dataframe tbody tr th {\n",
       "        vertical-align: top;\n",
       "    }\n",
       "\n",
       "    .dataframe thead th {\n",
       "        text-align: right;\n",
       "    }\n",
       "</style>\n",
       "<table border=\"1\" class=\"dataframe\">\n",
       "  <thead>\n",
       "    <tr style=\"text-align: right;\">\n",
       "      <th></th>\n",
       "      <th>location</th>\n",
       "      <th>variant</th>\n",
       "      <th>year_range</th>\n",
       "      <th>mid_period</th>\n",
       "      <th>age_group</th>\n",
       "      <th>age_group_start</th>\n",
       "      <th>age_group_span</th>\n",
       "      <th>asfr</th>\n",
       "      <th>pasfr</th>\n",
       "      <th>births</th>\n",
       "    </tr>\n",
       "  </thead>\n",
       "  <tbody>\n",
       "    <tr>\n",
       "      <th>0</th>\n",
       "      <td>Afghanistan</td>\n",
       "      <td>Medium</td>\n",
       "      <td>1950-1955</td>\n",
       "      <td>1953</td>\n",
       "      <td>15-19</td>\n",
       "      <td>15</td>\n",
       "      <td>5</td>\n",
       "      <td>145.245</td>\n",
       "      <td>9.748</td>\n",
       "      <td>280.906</td>\n",
       "    </tr>\n",
       "    <tr>\n",
       "      <th>1</th>\n",
       "      <td>Afghanistan</td>\n",
       "      <td>Medium</td>\n",
       "      <td>1950-1955</td>\n",
       "      <td>1953</td>\n",
       "      <td>20-24</td>\n",
       "      <td>20</td>\n",
       "      <td>5</td>\n",
       "      <td>313.809</td>\n",
       "      <td>21.061</td>\n",
       "      <td>522.501</td>\n",
       "    </tr>\n",
       "    <tr>\n",
       "      <th>2</th>\n",
       "      <td>Afghanistan</td>\n",
       "      <td>Medium</td>\n",
       "      <td>1950-1955</td>\n",
       "      <td>1953</td>\n",
       "      <td>25-29</td>\n",
       "      <td>25</td>\n",
       "      <td>5</td>\n",
       "      <td>339.005</td>\n",
       "      <td>22.752</td>\n",
       "      <td>481.946</td>\n",
       "    </tr>\n",
       "    <tr>\n",
       "      <th>3</th>\n",
       "      <td>Afghanistan</td>\n",
       "      <td>Medium</td>\n",
       "      <td>1950-1955</td>\n",
       "      <td>1953</td>\n",
       "      <td>30-34</td>\n",
       "      <td>30</td>\n",
       "      <td>5</td>\n",
       "      <td>290.535</td>\n",
       "      <td>19.499</td>\n",
       "      <td>351.097</td>\n",
       "    </tr>\n",
       "    <tr>\n",
       "      <th>4</th>\n",
       "      <td>Afghanistan</td>\n",
       "      <td>Medium</td>\n",
       "      <td>1950-1955</td>\n",
       "      <td>1953</td>\n",
       "      <td>35-39</td>\n",
       "      <td>35</td>\n",
       "      <td>5</td>\n",
       "      <td>233.111</td>\n",
       "      <td>15.645</td>\n",
       "      <td>238.645</td>\n",
       "    </tr>\n",
       "  </tbody>\n",
       "</table>\n",
       "</div>"
      ],
      "text/plain": [
       "      location variant year_range  mid_period age_group  age_group_start  \\\n",
       "0  Afghanistan  Medium  1950-1955        1953     15-19               15   \n",
       "1  Afghanistan  Medium  1950-1955        1953     20-24               20   \n",
       "2  Afghanistan  Medium  1950-1955        1953     25-29               25   \n",
       "3  Afghanistan  Medium  1950-1955        1953     30-34               30   \n",
       "4  Afghanistan  Medium  1950-1955        1953     35-39               35   \n",
       "\n",
       "   age_group_span     asfr   pasfr   births  \n",
       "0               5  145.245   9.748  280.906  \n",
       "1               5  313.809  21.061  522.501  \n",
       "2               5  339.005  22.752  481.946  \n",
       "3               5  290.535  19.499  351.097  \n",
       "4               5  233.111  15.645  238.645  "
      ]
     },
     "execution_count": 31,
     "metadata": {},
     "output_type": "execute_result"
    }
   ],
   "source": [
    "df.head()"
   ]
  },
  {
   "cell_type": "code",
   "execution_count": 38,
   "id": "569b4df1-ab9e-44f4-ae9b-2f968e972a29",
   "metadata": {},
   "outputs": [],
   "source": [
    "for col in ['location', 'variant', 'year_range', 'age_group']:\n",
    "    df[col] = df[col].astype('category')"
   ]
  },
  {
   "cell_type": "code",
   "execution_count": 33,
   "id": "89f79cd1-69b8-4b54-b9aa-b62fe16d952d",
   "metadata": {},
   "outputs": [],
   "source": [
    "df.set_index(['variant', 'location', 'year_range', 'age_group'], inplace=True)"
   ]
  },
  {
   "cell_type": "code",
   "execution_count": 41,
   "id": "4897bb36-ea6b-447c-b28b-f005d2491c01",
   "metadata": {},
   "outputs": [],
   "source": [
    "t = Table(df)\n",
    "t.metadata.short_name = 'fertility_by_age'\n",
    "ds.add(t)"
   ]
  },
  {
   "cell_type": "markdown",
   "id": "efdea1e0-c7ff-49f6-bdfe-76e230a4bef6",
   "metadata": {},
   "source": [
    "## Clean up"
   ]
  },
  {
   "cell_type": "code",
   "execution_count": 42,
   "id": "2868568b-955c-400f-9d68-e294f7f4bf25",
   "metadata": {},
   "outputs": [],
   "source": [
    "shutil.rmtree(temp_dir)"
   ]
  }
 ],
 "metadata": {
  "kernelspec": {
   "display_name": "Python 3 (ipykernel)",
   "language": "python",
   "name": "python3"
  },
  "language_info": {
   "codemirror_mode": {
    "name": "ipython",
    "version": 3
   },
   "file_extension": ".py",
   "mimetype": "text/x-python",
   "name": "python",
   "nbconvert_exporter": "python",
   "pygments_lexer": "ipython3",
   "version": "3.9.7"
  }
 },
 "nbformat": 4,
 "nbformat_minor": 5
}
