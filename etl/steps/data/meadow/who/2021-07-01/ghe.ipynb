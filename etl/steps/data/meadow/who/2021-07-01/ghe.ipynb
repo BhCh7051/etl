{
 "cells": [
  {
   "cell_type": "markdown",
   "id": "e7f135ee",
   "metadata": {},
   "source": [
    "# WHO GHE (2021-07-01)"
   ]
  },
  {
   "cell_type": "code",
   "execution_count": 1,
   "id": "e1a4166d",
   "metadata": {
    "tags": [
     "parameters"
    ]
   },
   "outputs": [],
   "source": [
    "dest_dir = \"/tmp/ghe_20210701\""
   ]
  },
  {
   "cell_type": "code",
   "execution_count": 2,
   "id": "7ab58635",
   "metadata": {},
   "outputs": [],
   "source": [
    "from owid import walden, catalog  # type: ignore\n",
    "import tempfile\n",
    "from zipfile import ZipFile\n",
    "import os\n",
    "import pandas as pd\n",
    "\n",
    "from etl.steps.data.converters import convert_walden_metadata"
   ]
  },
  {
   "cell_type": "markdown",
   "id": "7287a20d",
   "metadata": {},
   "source": [
    "## 1. Locate the dataset in Walden"
   ]
  },
  {
   "cell_type": "code",
   "execution_count": 6,
   "id": "ec7c7d7c",
   "metadata": {},
   "outputs": [],
   "source": [
    "raw_dataset = walden.Catalog().find_one(\"who\", \"2021-07-01\", \"ghe\")"
   ]
  },
  {
   "cell_type": "code",
   "execution_count": 8,
   "id": "2e6fb3ec",
   "metadata": {},
   "outputs": [
    {
     "data": {
      "text/plain": [
       "Dataset(namespace='who', short_name='ghe', name='Global Health Estimates', description='WHO’s Global Health Estimates (GHE) provide the latest available data on death and disability globally, by region and country, and by age, sex and cause. The latest updates include global, regional and country trends from 2000 to 2019 inclusive. By providing key insights on mortality and morbidity trends, these estimates are a powerful tool to support informed decision-making on health policy and resource allocation.', source_name='World Health Organisation', url='https://www.who.int/data/global-health-estimates', date_accessed='2021-09-08', file_extension='zip', license_url='https://www.who.int/about/policies/publishing/data-policy/terms-and-conditions', source_data_url=None, md5='8339082dc1ae9a17275ad51969ebb7a2', publication_year=2021, publication_date='2021-07-01', owid_data_url='https://nyc3.digitaloceanspaces.com/walden/who/2021-07-01/ghe.zip', license_name=None, access_notes='Fetched via API using this notebook: https://gist.github.com/spoonerf/9646dce7452583472dc2ac8ddf210835')"
      ]
     },
     "execution_count": 8,
     "metadata": {},
     "output_type": "execute_result"
    }
   ],
   "source": [
    "raw_dataset"
   ]
  },
  {
   "cell_type": "markdown",
   "id": "747faba4",
   "metadata": {},
   "source": [
    "## 2. Extract the zip file to a temporary directory"
   ]
  },
  {
   "cell_type": "code",
   "execution_count": 9,
   "id": "e4cd6e3f",
   "metadata": {},
   "outputs": [
    {
     "data": {
      "text/plain": [
       "'/var/folders/0s/2yqr44dj44zcmyzdrf8fvxyc0000gn/T/tmpqb1z5dcw'"
      ]
     },
     "execution_count": 9,
     "metadata": {},
     "output_type": "execute_result"
    }
   ],
   "source": [
    "with tempfile.TemporaryDirectory() as dirname:\n",
    "    pass\n",
    "\n",
    "os.mkdir(dirname)\n",
    "dirname"
   ]
  },
  {
   "cell_type": "code",
   "execution_count": 21,
   "id": "7dbedc2a",
   "metadata": {},
   "outputs": [],
   "source": [
    "ZipFile(raw_dataset.local_path).extractall(dirname)"
   ]
  },
  {
   "cell_type": "code",
   "execution_count": 22,
   "id": "8e45c36c",
   "metadata": {},
   "outputs": [
    {
     "data": {
      "text/plain": [
       "'/var/folders/0s/2yqr44dj44zcmyzdrf8fvxyc0000gn/T/tmpqb1z5dcw'"
      ]
     },
     "execution_count": 22,
     "metadata": {},
     "output_type": "execute_result"
    }
   ],
   "source": [
    "dirname"
   ]
  },
  {
   "cell_type": "code",
   "execution_count": 27,
   "id": "d3f4df65",
   "metadata": {},
   "outputs": [],
   "source": [
    "csv_file = os.path.join(dirname, \"who_ghe\", \"_all_countries.csv\")"
   ]
  },
  {
   "cell_type": "markdown",
   "id": "b4c3d7de",
   "metadata": {},
   "source": [
    "## 3. Load the data frame and prune excess columns"
   ]
  },
  {
   "cell_type": "code",
   "execution_count": 28,
   "id": "c583209b",
   "metadata": {},
   "outputs": [],
   "source": [
    "df = pd.read_csv(csv_file)"
   ]
  },
  {
   "cell_type": "code",
   "execution_count": 30,
   "id": "bacda0e1",
   "metadata": {},
   "outputs": [
    {
     "data": {
      "text/html": [
       "<div>\n",
       "<style scoped>\n",
       "    .dataframe tbody tr th:only-of-type {\n",
       "        vertical-align: middle;\n",
       "    }\n",
       "\n",
       "    .dataframe tbody tr th {\n",
       "        vertical-align: top;\n",
       "    }\n",
       "\n",
       "    .dataframe thead th {\n",
       "        text-align: right;\n",
       "    }\n",
       "</style>\n",
       "<table border=\"1\" class=\"dataframe\">\n",
       "  <thead>\n",
       "    <tr style=\"text-align: right;\">\n",
       "      <th></th>\n",
       "      <th>0</th>\n",
       "    </tr>\n",
       "  </thead>\n",
       "  <tbody>\n",
       "    <tr>\n",
       "      <th>Unnamed: 0</th>\n",
       "      <td>0</td>\n",
       "    </tr>\n",
       "    <tr>\n",
       "      <th>Unnamed: 0.1</th>\n",
       "      <td>0</td>\n",
       "    </tr>\n",
       "    <tr>\n",
       "      <th>COUNTRY_CODE</th>\n",
       "      <td>GRD</td>\n",
       "    </tr>\n",
       "    <tr>\n",
       "      <th>GHE_CAUSE_CODE</th>\n",
       "      <td>860</td>\n",
       "    </tr>\n",
       "    <tr>\n",
       "      <th>GHE_CAUSE_TITLE</th>\n",
       "      <td>Alcohol use disorders</td>\n",
       "    </tr>\n",
       "    <tr>\n",
       "      <th>YEAR</th>\n",
       "      <td>2019</td>\n",
       "    </tr>\n",
       "    <tr>\n",
       "      <th>SEX_CODE</th>\n",
       "      <td>BTSX</td>\n",
       "    </tr>\n",
       "    <tr>\n",
       "      <th>AGEGROUP_CODE</th>\n",
       "      <td>YEARS45-49</td>\n",
       "    </tr>\n",
       "    <tr>\n",
       "      <th>POPULATION</th>\n",
       "      <td>6285.0</td>\n",
       "    </tr>\n",
       "    <tr>\n",
       "      <th>DEATHS</th>\n",
       "      <td>0.5</td>\n",
       "    </tr>\n",
       "    <tr>\n",
       "      <th>DEATHS_RATE</th>\n",
       "      <td>0.000082</td>\n",
       "    </tr>\n",
       "    <tr>\n",
       "      <th>DEATHS_100K</th>\n",
       "      <td>8.2</td>\n",
       "    </tr>\n",
       "    <tr>\n",
       "      <th>DALY</th>\n",
       "      <td>42.1</td>\n",
       "    </tr>\n",
       "    <tr>\n",
       "      <th>DALY_RATE</th>\n",
       "      <td>0.006695</td>\n",
       "    </tr>\n",
       "    <tr>\n",
       "      <th>DALY_100K</th>\n",
       "      <td>669.5</td>\n",
       "    </tr>\n",
       "    <tr>\n",
       "      <th>CAUSEGROUP</th>\n",
       "      <td>2</td>\n",
       "    </tr>\n",
       "    <tr>\n",
       "      <th>LEVEL</th>\n",
       "      <td>3</td>\n",
       "    </tr>\n",
       "    <tr>\n",
       "      <th>FL_SINGLECAUSE</th>\n",
       "      <td>1</td>\n",
       "    </tr>\n",
       "    <tr>\n",
       "      <th>FL_RANKABLE</th>\n",
       "      <td>1</td>\n",
       "    </tr>\n",
       "    <tr>\n",
       "      <th>FL_TREEMAP</th>\n",
       "      <td>1</td>\n",
       "    </tr>\n",
       "    <tr>\n",
       "      <th>FL_SHOW</th>\n",
       "      <td>1</td>\n",
       "    </tr>\n",
       "    <tr>\n",
       "      <th>_RecordID</th>\n",
       "      <td>d5ca12ba-8f50-485a-a9a3-00acd5ed1427</td>\n",
       "    </tr>\n",
       "    <tr>\n",
       "      <th>Sys_PK</th>\n",
       "      <td>-2147483457</td>\n",
       "    </tr>\n",
       "    <tr>\n",
       "      <th>Sys_RowTitle</th>\n",
       "      <td>D5CA12BA-8F50-485A-A9A3-00ACD5ED1427</td>\n",
       "    </tr>\n",
       "    <tr>\n",
       "      <th>Sys_Version</th>\n",
       "      <td>1</td>\n",
       "    </tr>\n",
       "    <tr>\n",
       "      <th>Sys_VersionID</th>\n",
       "      <td>D5CA12BA-8F50-485A-A9A3-00ACD5ED1427.1</td>\n",
       "    </tr>\n",
       "    <tr>\n",
       "      <th>Sys_OriginID</th>\n",
       "      <td>c36dbe35-aade-4c0e-9f2b-fb9d52e44877</td>\n",
       "    </tr>\n",
       "    <tr>\n",
       "      <th>Sys_OriginCode</th>\n",
       "      <td>SYS_CATALOG_IMPORT</td>\n",
       "    </tr>\n",
       "    <tr>\n",
       "      <th>Sys_LoadBy</th>\n",
       "      <td>-</td>\n",
       "    </tr>\n",
       "    <tr>\n",
       "      <th>Sys_CommitDateUtc</th>\n",
       "      <td>2020-12-07T18:59:12.4Z</td>\n",
       "    </tr>\n",
       "    <tr>\n",
       "      <th>Sys_FirstLoadBy</th>\n",
       "      <td>-</td>\n",
       "    </tr>\n",
       "    <tr>\n",
       "      <th>Sys_FirstCommitDateUtc</th>\n",
       "      <td>2020-12-07T18:59:12.4Z</td>\n",
       "    </tr>\n",
       "    <tr>\n",
       "      <th>Sys_ID</th>\n",
       "      <td>d5ca12ba-8f50-485a-a9a3-00acd5ed1427</td>\n",
       "    </tr>\n",
       "    <tr>\n",
       "      <th>Sys_BatchID</th>\n",
       "      <td>26694</td>\n",
       "    </tr>\n",
       "    <tr>\n",
       "      <th>Sys_FirstBatchID</th>\n",
       "      <td>26694</td>\n",
       "    </tr>\n",
       "  </tbody>\n",
       "</table>\n",
       "</div>"
      ],
      "text/plain": [
       "                                                             0\n",
       "Unnamed: 0                                                   0\n",
       "Unnamed: 0.1                                                 0\n",
       "COUNTRY_CODE                                               GRD\n",
       "GHE_CAUSE_CODE                                             860\n",
       "GHE_CAUSE_TITLE                          Alcohol use disorders\n",
       "YEAR                                                      2019\n",
       "SEX_CODE                                                  BTSX\n",
       "AGEGROUP_CODE                                       YEARS45-49\n",
       "POPULATION                                              6285.0\n",
       "DEATHS                                                     0.5\n",
       "DEATHS_RATE                                           0.000082\n",
       "DEATHS_100K                                                8.2\n",
       "DALY                                                      42.1\n",
       "DALY_RATE                                             0.006695\n",
       "DALY_100K                                                669.5\n",
       "CAUSEGROUP                                                   2\n",
       "LEVEL                                                        3\n",
       "FL_SINGLECAUSE                                               1\n",
       "FL_RANKABLE                                                  1\n",
       "FL_TREEMAP                                                   1\n",
       "FL_SHOW                                                      1\n",
       "_RecordID                 d5ca12ba-8f50-485a-a9a3-00acd5ed1427\n",
       "Sys_PK                                             -2147483457\n",
       "Sys_RowTitle              D5CA12BA-8F50-485A-A9A3-00ACD5ED1427\n",
       "Sys_Version                                                  1\n",
       "Sys_VersionID           D5CA12BA-8F50-485A-A9A3-00ACD5ED1427.1\n",
       "Sys_OriginID              c36dbe35-aade-4c0e-9f2b-fb9d52e44877\n",
       "Sys_OriginCode                              SYS_CATALOG_IMPORT\n",
       "Sys_LoadBy                                                   -\n",
       "Sys_CommitDateUtc                       2020-12-07T18:59:12.4Z\n",
       "Sys_FirstLoadBy                                              -\n",
       "Sys_FirstCommitDateUtc                  2020-12-07T18:59:12.4Z\n",
       "Sys_ID                    d5ca12ba-8f50-485a-a9a3-00acd5ed1427\n",
       "Sys_BatchID                                              26694\n",
       "Sys_FirstBatchID                                         26694"
      ]
     },
     "execution_count": 30,
     "metadata": {},
     "output_type": "execute_result"
    }
   ],
   "source": [
    "df.iloc[:1].T"
   ]
  },
  {
   "cell_type": "code",
   "execution_count": 31,
   "id": "4843858a",
   "metadata": {},
   "outputs": [],
   "source": [
    "df.drop([\"Unnamed: 0\", \"Unnamed: 0.1\"], axis=1, inplace=True)"
   ]
  },
  {
   "cell_type": "code",
   "execution_count": 32,
   "id": "203badb6",
   "metadata": {},
   "outputs": [],
   "source": [
    "df.drop([col for col in df.columns if col.startswith(\"Sys_\")], axis=1, inplace=True)"
   ]
  },
  {
   "cell_type": "code",
   "execution_count": 33,
   "id": "8442c668",
   "metadata": {},
   "outputs": [],
   "source": [
    "df.drop([col for col in df.columns if col.startswith(\"FL_\")], axis=1, inplace=True)"
   ]
  },
  {
   "cell_type": "code",
   "execution_count": 34,
   "id": "49e855aa",
   "metadata": {},
   "outputs": [],
   "source": [
    "df.columns = [col.lower() for col in df.columns]"
   ]
  },
  {
   "cell_type": "code",
   "execution_count": 35,
   "id": "39ef6585",
   "metadata": {},
   "outputs": [],
   "source": [
    "df.drop(\"_recordid\", axis=1, inplace=True)"
   ]
  },
  {
   "cell_type": "code",
   "execution_count": 36,
   "id": "724cab56",
   "metadata": {},
   "outputs": [],
   "source": [
    "df[\"country_code\"] = df[\"country_code\"].astype(\"category\")"
   ]
  },
  {
   "cell_type": "code",
   "execution_count": 37,
   "id": "c9228f43",
   "metadata": {},
   "outputs": [],
   "source": [
    "df[\"ghe_cause_title\"] = df[\"ghe_cause_title\"].astype(\"category\")"
   ]
  },
  {
   "cell_type": "code",
   "execution_count": 38,
   "id": "1a43937f",
   "metadata": {},
   "outputs": [],
   "source": [
    "df[\"sex_code\"] = df[\"sex_code\"].astype(\"category\")"
   ]
  },
  {
   "cell_type": "code",
   "execution_count": 39,
   "id": "ae788cef",
   "metadata": {},
   "outputs": [],
   "source": [
    "df[\"agegroup_code\"] = df[\"agegroup_code\"].astype(\"category\")"
   ]
  },
  {
   "cell_type": "code",
   "execution_count": 40,
   "id": "2ff5d002",
   "metadata": {},
   "outputs": [
    {
     "data": {
      "text/plain": [
       "country_code                         GRD\n",
       "ghe_cause_code                       860\n",
       "ghe_cause_title    Alcohol use disorders\n",
       "year                                2019\n",
       "sex_code                            BTSX\n",
       "agegroup_code                 YEARS45-49\n",
       "population                        6285.0\n",
       "deaths                               0.5\n",
       "deaths_rate                     0.000082\n",
       "deaths_100k                          8.2\n",
       "daly                                42.1\n",
       "daly_rate                       0.006695\n",
       "daly_100k                          669.5\n",
       "causegroup                             2\n",
       "level                                  3\n",
       "Name: 0, dtype: object"
      ]
     },
     "execution_count": 40,
     "metadata": {},
     "output_type": "execute_result"
    }
   ],
   "source": [
    "df.iloc[0]"
   ]
  },
  {
   "cell_type": "markdown",
   "id": "fd144049",
   "metadata": {},
   "source": [
    "## 4. Save as a dataset"
   ]
  },
  {
   "cell_type": "code",
   "execution_count": 42,
   "id": "ff10ef47",
   "metadata": {},
   "outputs": [
    {
     "data": {
      "text/plain": [
       "Dataset(namespace='who', short_name='ghe', name='Global Health Estimates', description='WHO’s Global Health Estimates (GHE) provide the latest available data on death and disability globally, by region and country, and by age, sex and cause. The latest updates include global, regional and country trends from 2000 to 2019 inclusive. By providing key insights on mortality and morbidity trends, these estimates are a powerful tool to support informed decision-making on health policy and resource allocation.', source_name='World Health Organisation', url='https://www.who.int/data/global-health-estimates', date_accessed='2021-09-08', file_extension='zip', license_url='https://www.who.int/about/policies/publishing/data-policy/terms-and-conditions', source_data_url=None, md5='8339082dc1ae9a17275ad51969ebb7a2', publication_year=2021, publication_date='2021-07-01', owid_data_url='https://nyc3.digitaloceanspaces.com/walden/who/2021-07-01/ghe.zip', license_name=None, access_notes='Fetched via API using this notebook: https://gist.github.com/spoonerf/9646dce7452583472dc2ac8ddf210835')"
      ]
     },
     "execution_count": 42,
     "metadata": {},
     "output_type": "execute_result"
    }
   ],
   "source": [
    "raw_dataset"
   ]
  },
  {
   "cell_type": "code",
   "execution_count": 45,
   "id": "5bab8b82",
   "metadata": {},
   "outputs": [],
   "source": [
    "ds = catalog.Dataset.create_empty(dest_dir)\n",
    "ds.metadata = convert_walden_metadata(raw_dataset)\n",
    "ds.save()"
   ]
  },
  {
   "cell_type": "markdown",
   "id": "64d818e9",
   "metadata": {},
   "source": [
    "### Add cause codes"
   ]
  },
  {
   "cell_type": "code",
   "execution_count": 47,
   "id": "52d2dcc3",
   "metadata": {},
   "outputs": [],
   "source": [
    "ghe_causes = (\n",
    "    df[[\"ghe_cause_code\", \"ghe_cause_title\"]]\n",
    "    .drop_duplicates()\n",
    "    .set_index(\"ghe_cause_code\")\n",
    ")\n",
    "ghe_causes = catalog.Table(ghe_causes)"
   ]
  },
  {
   "cell_type": "code",
   "execution_count": 48,
   "id": "8f143be1",
   "metadata": {},
   "outputs": [
    {
     "data": {
      "text/html": [
       "<div>\n",
       "<style scoped>\n",
       "    .dataframe tbody tr th:only-of-type {\n",
       "        vertical-align: middle;\n",
       "    }\n",
       "\n",
       "    .dataframe tbody tr th {\n",
       "        vertical-align: top;\n",
       "    }\n",
       "\n",
       "    .dataframe thead th {\n",
       "        text-align: right;\n",
       "    }\n",
       "</style>\n",
       "<table border=\"1\" class=\"dataframe\">\n",
       "  <thead>\n",
       "    <tr style=\"text-align: right;\">\n",
       "      <th></th>\n",
       "      <th>ghe_cause_title</th>\n",
       "    </tr>\n",
       "    <tr>\n",
       "      <th>ghe_cause_code</th>\n",
       "      <th></th>\n",
       "    </tr>\n",
       "  </thead>\n",
       "  <tbody>\n",
       "    <tr>\n",
       "      <th>860</th>\n",
       "      <td>Alcohol use disorders</td>\n",
       "    </tr>\n",
       "    <tr>\n",
       "      <th>50</th>\n",
       "      <td>Syphilis</td>\n",
       "    </tr>\n",
       "    <tr>\n",
       "      <th>1040</th>\n",
       "      <td>Cataracts</td>\n",
       "    </tr>\n",
       "    <tr>\n",
       "      <th>1220</th>\n",
       "      <td>Peptic ulcer disease</td>\n",
       "    </tr>\n",
       "    <tr>\n",
       "      <th>870</th>\n",
       "      <td>Drug use disorders</td>\n",
       "    </tr>\n",
       "    <tr>\n",
       "      <th>...</th>\n",
       "      <td>...</td>\n",
       "    </tr>\n",
       "    <tr>\n",
       "      <th>200</th>\n",
       "      <td>Acute hepatitis C</td>\n",
       "    </tr>\n",
       "    <tr>\n",
       "      <th>620</th>\n",
       "      <td>Mouth and oropharynx cancers</td>\n",
       "    </tr>\n",
       "    <tr>\n",
       "      <th>1550</th>\n",
       "      <td>Falls</td>\n",
       "    </tr>\n",
       "    <tr>\n",
       "      <th>1330</th>\n",
       "      <td>Skin diseases</td>\n",
       "    </tr>\n",
       "    <tr>\n",
       "      <th>230</th>\n",
       "      <td>African trypanosomiasis</td>\n",
       "    </tr>\n",
       "  </tbody>\n",
       "</table>\n",
       "<p>131 rows × 1 columns</p>\n",
       "</div>"
      ],
      "text/plain": [
       "                             ghe_cause_title\n",
       "ghe_cause_code                              \n",
       "860                    Alcohol use disorders\n",
       "50                                  Syphilis\n",
       "1040                               Cataracts\n",
       "1220                    Peptic ulcer disease\n",
       "870                       Drug use disorders\n",
       "...                                      ...\n",
       "200                        Acute hepatitis C\n",
       "620             Mouth and oropharynx cancers\n",
       "1550                                   Falls\n",
       "1330                           Skin diseases\n",
       "230                  African trypanosomiasis\n",
       "\n",
       "[131 rows x 1 columns]"
      ]
     },
     "execution_count": 48,
     "metadata": {},
     "output_type": "execute_result"
    }
   ],
   "source": [
    "ghe_causes"
   ]
  },
  {
   "cell_type": "code",
   "execution_count": 50,
   "id": "efbfa19f",
   "metadata": {},
   "outputs": [],
   "source": [
    "ghe_causes.metadata = catalog.TableMeta(\n",
    "    short_name=\"ghe_causes\",\n",
    "    title=\"GHE Cause Codes\",\n",
    "    description=\"Integer codes for common GHE causes and their human readable names\",\n",
    ")\n",
    "ds.add(ghe_causes)"
   ]
  },
  {
   "cell_type": "markdown",
   "id": "ba8096d8",
   "metadata": {},
   "source": [
    "### Add estimates"
   ]
  },
  {
   "cell_type": "code",
   "execution_count": 51,
   "id": "42a83247",
   "metadata": {},
   "outputs": [],
   "source": [
    "df.drop(\"ghe_cause_code\", axis=1, inplace=True)"
   ]
  },
  {
   "cell_type": "code",
   "execution_count": 52,
   "id": "9f7d4af7",
   "metadata": {},
   "outputs": [
    {
     "data": {
      "text/html": [
       "<div>\n",
       "<style scoped>\n",
       "    .dataframe tbody tr th:only-of-type {\n",
       "        vertical-align: middle;\n",
       "    }\n",
       "\n",
       "    .dataframe tbody tr th {\n",
       "        vertical-align: top;\n",
       "    }\n",
       "\n",
       "    .dataframe thead th {\n",
       "        text-align: right;\n",
       "    }\n",
       "</style>\n",
       "<table border=\"1\" class=\"dataframe\">\n",
       "  <thead>\n",
       "    <tr style=\"text-align: right;\">\n",
       "      <th></th>\n",
       "      <th>country_code</th>\n",
       "      <th>ghe_cause_title</th>\n",
       "      <th>year</th>\n",
       "      <th>sex_code</th>\n",
       "      <th>agegroup_code</th>\n",
       "      <th>population</th>\n",
       "      <th>deaths</th>\n",
       "      <th>deaths_rate</th>\n",
       "      <th>deaths_100k</th>\n",
       "      <th>daly</th>\n",
       "      <th>daly_rate</th>\n",
       "      <th>daly_100k</th>\n",
       "      <th>causegroup</th>\n",
       "      <th>level</th>\n",
       "    </tr>\n",
       "  </thead>\n",
       "  <tbody>\n",
       "    <tr>\n",
       "      <th>0</th>\n",
       "      <td>GRD</td>\n",
       "      <td>Alcohol use disorders</td>\n",
       "      <td>2019</td>\n",
       "      <td>BTSX</td>\n",
       "      <td>YEARS45-49</td>\n",
       "      <td>6285.0</td>\n",
       "      <td>0.5</td>\n",
       "      <td>8.200000e-05</td>\n",
       "      <td>8.2</td>\n",
       "      <td>42.1</td>\n",
       "      <td>6.695200e-03</td>\n",
       "      <td>669.5</td>\n",
       "      <td>2</td>\n",
       "      <td>3</td>\n",
       "    </tr>\n",
       "    <tr>\n",
       "      <th>1</th>\n",
       "      <td>GRD</td>\n",
       "      <td>Syphilis</td>\n",
       "      <td>2019</td>\n",
       "      <td>MLE</td>\n",
       "      <td>YEARS1-4</td>\n",
       "      <td>3729.0</td>\n",
       "      <td>0.0</td>\n",
       "      <td>1.000000e-08</td>\n",
       "      <td>0.0</td>\n",
       "      <td>0.0</td>\n",
       "      <td>5.900000e-07</td>\n",
       "      <td>0.1</td>\n",
       "      <td>1</td>\n",
       "      <td>4</td>\n",
       "    </tr>\n",
       "    <tr>\n",
       "      <th>2</th>\n",
       "      <td>GRD</td>\n",
       "      <td>Cataracts</td>\n",
       "      <td>2019</td>\n",
       "      <td>FMLE</td>\n",
       "      <td>YEARS15-19</td>\n",
       "      <td>3736.0</td>\n",
       "      <td>0.0</td>\n",
       "      <td>0.000000e+00</td>\n",
       "      <td>0.0</td>\n",
       "      <td>0.0</td>\n",
       "      <td>0.000000e+00</td>\n",
       "      <td>0.0</td>\n",
       "      <td>2</td>\n",
       "      <td>3</td>\n",
       "    </tr>\n",
       "    <tr>\n",
       "      <th>3</th>\n",
       "      <td>GRD</td>\n",
       "      <td>Peptic ulcer disease</td>\n",
       "      <td>2019</td>\n",
       "      <td>BTSX</td>\n",
       "      <td>ALLAges</td>\n",
       "      <td>112002.0</td>\n",
       "      <td>4.7</td>\n",
       "      <td>4.190000e-05</td>\n",
       "      <td>4.2</td>\n",
       "      <td>126.1</td>\n",
       "      <td>1.126140e-03</td>\n",
       "      <td>112.6</td>\n",
       "      <td>2</td>\n",
       "      <td>3</td>\n",
       "    </tr>\n",
       "    <tr>\n",
       "      <th>4</th>\n",
       "      <td>GRD</td>\n",
       "      <td>Drug use disorders</td>\n",
       "      <td>2019</td>\n",
       "      <td>MLE</td>\n",
       "      <td>YEARS85PLUS</td>\n",
       "      <td>366.0</td>\n",
       "      <td>0.0</td>\n",
       "      <td>8.524000e-05</td>\n",
       "      <td>8.5</td>\n",
       "      <td>0.4</td>\n",
       "      <td>1.031580e-03</td>\n",
       "      <td>103.2</td>\n",
       "      <td>2</td>\n",
       "      <td>3</td>\n",
       "    </tr>\n",
       "  </tbody>\n",
       "</table>\n",
       "</div>"
      ],
      "text/plain": [
       "  country_code        ghe_cause_title  year sex_code agegroup_code  \\\n",
       "0          GRD  Alcohol use disorders  2019     BTSX    YEARS45-49   \n",
       "1          GRD               Syphilis  2019      MLE      YEARS1-4   \n",
       "2          GRD              Cataracts  2019     FMLE    YEARS15-19   \n",
       "3          GRD   Peptic ulcer disease  2019     BTSX       ALLAges   \n",
       "4          GRD     Drug use disorders  2019      MLE   YEARS85PLUS   \n",
       "\n",
       "   population  deaths   deaths_rate  deaths_100k   daly     daly_rate  \\\n",
       "0      6285.0     0.5  8.200000e-05          8.2   42.1  6.695200e-03   \n",
       "1      3729.0     0.0  1.000000e-08          0.0    0.0  5.900000e-07   \n",
       "2      3736.0     0.0  0.000000e+00          0.0    0.0  0.000000e+00   \n",
       "3    112002.0     4.7  4.190000e-05          4.2  126.1  1.126140e-03   \n",
       "4       366.0     0.0  8.524000e-05          8.5    0.4  1.031580e-03   \n",
       "\n",
       "   daly_100k  causegroup  level  \n",
       "0      669.5           2      3  \n",
       "1        0.1           1      4  \n",
       "2        0.0           2      3  \n",
       "3      112.6           2      3  \n",
       "4      103.2           2      3  "
      ]
     },
     "execution_count": 52,
     "metadata": {},
     "output_type": "execute_result"
    }
   ],
   "source": [
    "df.head()"
   ]
  },
  {
   "cell_type": "code",
   "execution_count": 54,
   "id": "c64ea054",
   "metadata": {},
   "outputs": [],
   "source": [
    "estimates = catalog.Table(df)"
   ]
  },
  {
   "cell_type": "code",
   "execution_count": 56,
   "id": "9f643501",
   "metadata": {},
   "outputs": [],
   "source": [
    "estimates.set_index(\n",
    "    [\"country_code\", \"year\", \"ghe_cause_title\", \"sex_code\", \"agegroup_code\"],\n",
    "    inplace=True,\n",
    ")"
   ]
  },
  {
   "cell_type": "code",
   "execution_count": 57,
   "id": "7ddc24b1",
   "metadata": {},
   "outputs": [
    {
     "data": {
      "text/html": [
       "<div>\n",
       "<style scoped>\n",
       "    .dataframe tbody tr th:only-of-type {\n",
       "        vertical-align: middle;\n",
       "    }\n",
       "\n",
       "    .dataframe tbody tr th {\n",
       "        vertical-align: top;\n",
       "    }\n",
       "\n",
       "    .dataframe thead th {\n",
       "        text-align: right;\n",
       "    }\n",
       "</style>\n",
       "<table border=\"1\" class=\"dataframe\">\n",
       "  <thead>\n",
       "    <tr style=\"text-align: right;\">\n",
       "      <th></th>\n",
       "      <th></th>\n",
       "      <th></th>\n",
       "      <th></th>\n",
       "      <th></th>\n",
       "      <th>population</th>\n",
       "      <th>deaths</th>\n",
       "      <th>deaths_rate</th>\n",
       "      <th>deaths_100k</th>\n",
       "      <th>daly</th>\n",
       "      <th>daly_rate</th>\n",
       "      <th>daly_100k</th>\n",
       "      <th>causegroup</th>\n",
       "      <th>level</th>\n",
       "    </tr>\n",
       "    <tr>\n",
       "      <th>country_code</th>\n",
       "      <th>year</th>\n",
       "      <th>ghe_cause_title</th>\n",
       "      <th>sex_code</th>\n",
       "      <th>agegroup_code</th>\n",
       "      <th></th>\n",
       "      <th></th>\n",
       "      <th></th>\n",
       "      <th></th>\n",
       "      <th></th>\n",
       "      <th></th>\n",
       "      <th></th>\n",
       "      <th></th>\n",
       "      <th></th>\n",
       "    </tr>\n",
       "  </thead>\n",
       "  <tbody>\n",
       "    <tr>\n",
       "      <th rowspan=\"5\" valign=\"top\">GRD</th>\n",
       "      <th rowspan=\"5\" valign=\"top\">2019</th>\n",
       "      <th>Alcohol use disorders</th>\n",
       "      <th>BTSX</th>\n",
       "      <th>YEARS45-49</th>\n",
       "      <td>6285.0</td>\n",
       "      <td>0.5</td>\n",
       "      <td>8.200000e-05</td>\n",
       "      <td>8.2</td>\n",
       "      <td>42.1</td>\n",
       "      <td>6.695200e-03</td>\n",
       "      <td>669.5</td>\n",
       "      <td>2</td>\n",
       "      <td>3</td>\n",
       "    </tr>\n",
       "    <tr>\n",
       "      <th>Syphilis</th>\n",
       "      <th>MLE</th>\n",
       "      <th>YEARS1-4</th>\n",
       "      <td>3729.0</td>\n",
       "      <td>0.0</td>\n",
       "      <td>1.000000e-08</td>\n",
       "      <td>0.0</td>\n",
       "      <td>0.0</td>\n",
       "      <td>5.900000e-07</td>\n",
       "      <td>0.1</td>\n",
       "      <td>1</td>\n",
       "      <td>4</td>\n",
       "    </tr>\n",
       "    <tr>\n",
       "      <th>Cataracts</th>\n",
       "      <th>FMLE</th>\n",
       "      <th>YEARS15-19</th>\n",
       "      <td>3736.0</td>\n",
       "      <td>0.0</td>\n",
       "      <td>0.000000e+00</td>\n",
       "      <td>0.0</td>\n",
       "      <td>0.0</td>\n",
       "      <td>0.000000e+00</td>\n",
       "      <td>0.0</td>\n",
       "      <td>2</td>\n",
       "      <td>3</td>\n",
       "    </tr>\n",
       "    <tr>\n",
       "      <th>Peptic ulcer disease</th>\n",
       "      <th>BTSX</th>\n",
       "      <th>ALLAges</th>\n",
       "      <td>112002.0</td>\n",
       "      <td>4.7</td>\n",
       "      <td>4.190000e-05</td>\n",
       "      <td>4.2</td>\n",
       "      <td>126.1</td>\n",
       "      <td>1.126140e-03</td>\n",
       "      <td>112.6</td>\n",
       "      <td>2</td>\n",
       "      <td>3</td>\n",
       "    </tr>\n",
       "    <tr>\n",
       "      <th>Drug use disorders</th>\n",
       "      <th>MLE</th>\n",
       "      <th>YEARS85PLUS</th>\n",
       "      <td>366.0</td>\n",
       "      <td>0.0</td>\n",
       "      <td>8.524000e-05</td>\n",
       "      <td>8.5</td>\n",
       "      <td>0.4</td>\n",
       "      <td>1.031580e-03</td>\n",
       "      <td>103.2</td>\n",
       "      <td>2</td>\n",
       "      <td>3</td>\n",
       "    </tr>\n",
       "  </tbody>\n",
       "</table>\n",
       "</div>"
      ],
      "text/plain": [
       "                                                                population  \\\n",
       "country_code year ghe_cause_title       sex_code agegroup_code               \n",
       "GRD          2019 Alcohol use disorders BTSX     YEARS45-49         6285.0   \n",
       "                  Syphilis              MLE      YEARS1-4           3729.0   \n",
       "                  Cataracts             FMLE     YEARS15-19         3736.0   \n",
       "                  Peptic ulcer disease  BTSX     ALLAges          112002.0   \n",
       "                  Drug use disorders    MLE      YEARS85PLUS         366.0   \n",
       "\n",
       "                                                                deaths  \\\n",
       "country_code year ghe_cause_title       sex_code agegroup_code           \n",
       "GRD          2019 Alcohol use disorders BTSX     YEARS45-49        0.5   \n",
       "                  Syphilis              MLE      YEARS1-4          0.0   \n",
       "                  Cataracts             FMLE     YEARS15-19        0.0   \n",
       "                  Peptic ulcer disease  BTSX     ALLAges           4.7   \n",
       "                  Drug use disorders    MLE      YEARS85PLUS       0.0   \n",
       "\n",
       "                                                                 deaths_rate  \\\n",
       "country_code year ghe_cause_title       sex_code agegroup_code                 \n",
       "GRD          2019 Alcohol use disorders BTSX     YEARS45-49     8.200000e-05   \n",
       "                  Syphilis              MLE      YEARS1-4       1.000000e-08   \n",
       "                  Cataracts             FMLE     YEARS15-19     0.000000e+00   \n",
       "                  Peptic ulcer disease  BTSX     ALLAges        4.190000e-05   \n",
       "                  Drug use disorders    MLE      YEARS85PLUS    8.524000e-05   \n",
       "\n",
       "                                                                deaths_100k  \\\n",
       "country_code year ghe_cause_title       sex_code agegroup_code                \n",
       "GRD          2019 Alcohol use disorders BTSX     YEARS45-49             8.2   \n",
       "                  Syphilis              MLE      YEARS1-4               0.0   \n",
       "                  Cataracts             FMLE     YEARS15-19             0.0   \n",
       "                  Peptic ulcer disease  BTSX     ALLAges                4.2   \n",
       "                  Drug use disorders    MLE      YEARS85PLUS            8.5   \n",
       "\n",
       "                                                                 daly  \\\n",
       "country_code year ghe_cause_title       sex_code agegroup_code          \n",
       "GRD          2019 Alcohol use disorders BTSX     YEARS45-49      42.1   \n",
       "                  Syphilis              MLE      YEARS1-4         0.0   \n",
       "                  Cataracts             FMLE     YEARS15-19       0.0   \n",
       "                  Peptic ulcer disease  BTSX     ALLAges        126.1   \n",
       "                  Drug use disorders    MLE      YEARS85PLUS      0.4   \n",
       "\n",
       "                                                                   daly_rate  \\\n",
       "country_code year ghe_cause_title       sex_code agegroup_code                 \n",
       "GRD          2019 Alcohol use disorders BTSX     YEARS45-49     6.695200e-03   \n",
       "                  Syphilis              MLE      YEARS1-4       5.900000e-07   \n",
       "                  Cataracts             FMLE     YEARS15-19     0.000000e+00   \n",
       "                  Peptic ulcer disease  BTSX     ALLAges        1.126140e-03   \n",
       "                  Drug use disorders    MLE      YEARS85PLUS    1.031580e-03   \n",
       "\n",
       "                                                                daly_100k  \\\n",
       "country_code year ghe_cause_title       sex_code agegroup_code              \n",
       "GRD          2019 Alcohol use disorders BTSX     YEARS45-49         669.5   \n",
       "                  Syphilis              MLE      YEARS1-4             0.1   \n",
       "                  Cataracts             FMLE     YEARS15-19           0.0   \n",
       "                  Peptic ulcer disease  BTSX     ALLAges            112.6   \n",
       "                  Drug use disorders    MLE      YEARS85PLUS        103.2   \n",
       "\n",
       "                                                                causegroup  \\\n",
       "country_code year ghe_cause_title       sex_code agegroup_code               \n",
       "GRD          2019 Alcohol use disorders BTSX     YEARS45-49              2   \n",
       "                  Syphilis              MLE      YEARS1-4                1   \n",
       "                  Cataracts             FMLE     YEARS15-19              2   \n",
       "                  Peptic ulcer disease  BTSX     ALLAges                 2   \n",
       "                  Drug use disorders    MLE      YEARS85PLUS             2   \n",
       "\n",
       "                                                                level  \n",
       "country_code year ghe_cause_title       sex_code agegroup_code         \n",
       "GRD          2019 Alcohol use disorders BTSX     YEARS45-49         3  \n",
       "                  Syphilis              MLE      YEARS1-4           4  \n",
       "                  Cataracts             FMLE     YEARS15-19         3  \n",
       "                  Peptic ulcer disease  BTSX     ALLAges            3  \n",
       "                  Drug use disorders    MLE      YEARS85PLUS        3  "
      ]
     },
     "execution_count": 57,
     "metadata": {},
     "output_type": "execute_result"
    }
   ],
   "source": [
    "estimates.head()"
   ]
  },
  {
   "cell_type": "code",
   "execution_count": 63,
   "id": "fc4f30ea",
   "metadata": {},
   "outputs": [],
   "source": [
    "estimates.metadata.short_name = \"estimates\"\n",
    "estimates.metadata.description = \"GHE estimated burden of disease\""
   ]
  },
  {
   "cell_type": "code",
   "execution_count": 64,
   "id": "f236fa59",
   "metadata": {},
   "outputs": [
    {
     "ename": "KeyboardInterrupt",
     "evalue": "",
     "output_type": "error",
     "traceback": [
      "\u001b[0;31m---------------------------------------------------------------------------\u001b[0m",
      "\u001b[0;31mKeyboardInterrupt\u001b[0m                         Traceback (most recent call last)",
      "\u001b[0;32m/var/folders/0s/2yqr44dj44zcmyzdrf8fvxyc0000gn/T/ipykernel_44204/1188002188.py\u001b[0m in \u001b[0;36m<module>\u001b[0;34m\u001b[0m\n\u001b[0;32m----> 1\u001b[0;31m \u001b[0mds\u001b[0m\u001b[0;34m.\u001b[0m\u001b[0madd\u001b[0m\u001b[0;34m(\u001b[0m\u001b[0mestimates\u001b[0m\u001b[0;34m)\u001b[0m\u001b[0;34m\u001b[0m\u001b[0;34m\u001b[0m\u001b[0m\n\u001b[0m",
      "\u001b[0;32m~/projects/etl/vendor/owid-catalog-py/owid/catalog/datasets.py\u001b[0m in \u001b[0;36madd\u001b[0;34m(self, table, format)\u001b[0m\n\u001b[1;32m     70\u001b[0m         \u001b[0mtable_filename\u001b[0m \u001b[0;34m=\u001b[0m \u001b[0mjoin\u001b[0m\u001b[0;34m(\u001b[0m\u001b[0mself\u001b[0m\u001b[0;34m.\u001b[0m\u001b[0mpath\u001b[0m\u001b[0;34m,\u001b[0m \u001b[0mtable\u001b[0m\u001b[0;34m.\u001b[0m\u001b[0mmetadata\u001b[0m\u001b[0;34m.\u001b[0m\u001b[0mchecked_name\u001b[0m \u001b[0;34m+\u001b[0m \u001b[0;34mf\".{format}\"\u001b[0m\u001b[0;34m)\u001b[0m\u001b[0;34m\u001b[0m\u001b[0;34m\u001b[0m\u001b[0m\n\u001b[1;32m     71\u001b[0m         \u001b[0;32mif\u001b[0m \u001b[0mformat\u001b[0m \u001b[0;34m==\u001b[0m \u001b[0;34m\"feather\"\u001b[0m\u001b[0;34m:\u001b[0m\u001b[0;34m\u001b[0m\u001b[0;34m\u001b[0m\u001b[0m\n\u001b[0;32m---> 72\u001b[0;31m             \u001b[0mtable\u001b[0m\u001b[0;34m.\u001b[0m\u001b[0mto_feather\u001b[0m\u001b[0;34m(\u001b[0m\u001b[0mtable_filename\u001b[0m\u001b[0;34m)\u001b[0m\u001b[0;34m\u001b[0m\u001b[0;34m\u001b[0m\u001b[0m\n\u001b[0m\u001b[1;32m     73\u001b[0m         \u001b[0;32melse\u001b[0m\u001b[0;34m:\u001b[0m\u001b[0;34m\u001b[0m\u001b[0;34m\u001b[0m\u001b[0m\n\u001b[1;32m     74\u001b[0m             \u001b[0mtable\u001b[0m\u001b[0;34m.\u001b[0m\u001b[0mto_csv\u001b[0m\u001b[0;34m(\u001b[0m\u001b[0mtable_filename\u001b[0m\u001b[0;34m)\u001b[0m\u001b[0;34m\u001b[0m\u001b[0;34m\u001b[0m\u001b[0m\n",
      "\u001b[0;32m~/projects/etl/vendor/owid-catalog-py/owid/catalog/tables.py\u001b[0m in \u001b[0;36mto_feather\u001b[0;34m(self, path, repack, compression, **kwargs)\u001b[0m\n\u001b[1;32m     96\u001b[0m         \u001b[0;32mif\u001b[0m \u001b[0mrepack\u001b[0m\u001b[0;34m:\u001b[0m\u001b[0;34m\u001b[0m\u001b[0;34m\u001b[0m\u001b[0m\n\u001b[1;32m     97\u001b[0m             \u001b[0;31m# use smaller data types wherever possible\u001b[0m\u001b[0;34m\u001b[0m\u001b[0;34m\u001b[0m\u001b[0;34m\u001b[0m\u001b[0m\n\u001b[0;32m---> 98\u001b[0;31m             \u001b[0mrepack_frame\u001b[0m\u001b[0;34m(\u001b[0m\u001b[0mdf\u001b[0m\u001b[0;34m)\u001b[0m\u001b[0;34m\u001b[0m\u001b[0;34m\u001b[0m\u001b[0m\n\u001b[0m\u001b[1;32m     99\u001b[0m \u001b[0;34m\u001b[0m\u001b[0m\n\u001b[1;32m    100\u001b[0m         \u001b[0mdf\u001b[0m\u001b[0;34m.\u001b[0m\u001b[0mto_feather\u001b[0m\u001b[0;34m(\u001b[0m\u001b[0mpath\u001b[0m\u001b[0;34m,\u001b[0m \u001b[0mcompression\u001b[0m\u001b[0;34m=\u001b[0m\u001b[0mcompression\u001b[0m\u001b[0;34m,\u001b[0m \u001b[0;34m**\u001b[0m\u001b[0mkwargs\u001b[0m\u001b[0;34m)\u001b[0m\u001b[0;34m\u001b[0m\u001b[0;34m\u001b[0m\u001b[0m\n",
      "\u001b[0;32m~/projects/etl/vendor/owid-catalog-py/owid/catalog/frames.py\u001b[0m in \u001b[0;36mrepack_frame\u001b[0;34m(df, remap)\u001b[0m\n\u001b[1;32m     30\u001b[0m     \u001b[0;31m# repack each column into the best dtype we can give it\u001b[0m\u001b[0;34m\u001b[0m\u001b[0;34m\u001b[0m\u001b[0;34m\u001b[0m\u001b[0m\n\u001b[1;32m     31\u001b[0m     \u001b[0;32mfor\u001b[0m \u001b[0mcol\u001b[0m \u001b[0;32min\u001b[0m \u001b[0mdf\u001b[0m\u001b[0;34m.\u001b[0m\u001b[0mcolumns\u001b[0m\u001b[0;34m:\u001b[0m\u001b[0;34m\u001b[0m\u001b[0;34m\u001b[0m\u001b[0m\n\u001b[0;32m---> 32\u001b[0;31m         \u001b[0mdf\u001b[0m\u001b[0;34m[\u001b[0m\u001b[0mcol\u001b[0m\u001b[0;34m]\u001b[0m \u001b[0;34m=\u001b[0m \u001b[0mrepack_series\u001b[0m\u001b[0;34m(\u001b[0m\u001b[0mdf\u001b[0m\u001b[0;34m[\u001b[0m\u001b[0mcol\u001b[0m\u001b[0;34m]\u001b[0m\u001b[0;34m)\u001b[0m\u001b[0;34m\u001b[0m\u001b[0;34m\u001b[0m\u001b[0m\n\u001b[0m\u001b[1;32m     33\u001b[0m \u001b[0;34m\u001b[0m\u001b[0m\n\u001b[1;32m     34\u001b[0m     \u001b[0;31m# remap all column names, including those in the primary key\u001b[0m\u001b[0;34m\u001b[0m\u001b[0;34m\u001b[0m\u001b[0;34m\u001b[0m\u001b[0m\n",
      "\u001b[0;32m~/projects/etl/vendor/owid-catalog-py/owid/catalog/frames.py\u001b[0m in \u001b[0;36mrepack_series\u001b[0;34m(s)\u001b[0m\n\u001b[1;32m     52\u001b[0m         \u001b[0;32mfor\u001b[0m \u001b[0mstrategy\u001b[0m \u001b[0;32min\u001b[0m \u001b[0;34m[\u001b[0m\u001b[0mto_int\u001b[0m\u001b[0;34m,\u001b[0m \u001b[0mto_float\u001b[0m\u001b[0;34m,\u001b[0m \u001b[0mto_category\u001b[0m\u001b[0;34m]\u001b[0m\u001b[0;34m:\u001b[0m\u001b[0;34m\u001b[0m\u001b[0;34m\u001b[0m\u001b[0m\n\u001b[1;32m     53\u001b[0m             \u001b[0;32mtry\u001b[0m\u001b[0;34m:\u001b[0m\u001b[0;34m\u001b[0m\u001b[0;34m\u001b[0m\u001b[0m\n\u001b[0;32m---> 54\u001b[0;31m                 \u001b[0;32mreturn\u001b[0m \u001b[0mstrategy\u001b[0m\u001b[0;34m(\u001b[0m\u001b[0ms\u001b[0m\u001b[0;34m)\u001b[0m\u001b[0;34m\u001b[0m\u001b[0;34m\u001b[0m\u001b[0m\n\u001b[0m\u001b[1;32m     55\u001b[0m             \u001b[0;32mexcept\u001b[0m \u001b[0;34m(\u001b[0m\u001b[0mValueError\u001b[0m\u001b[0;34m,\u001b[0m \u001b[0mTypeError\u001b[0m\u001b[0;34m)\u001b[0m\u001b[0;34m:\u001b[0m\u001b[0;34m\u001b[0m\u001b[0;34m\u001b[0m\u001b[0m\n\u001b[1;32m     56\u001b[0m                 \u001b[0;32mcontinue\u001b[0m\u001b[0;34m\u001b[0m\u001b[0;34m\u001b[0m\u001b[0m\n",
      "\u001b[0;32m~/projects/etl/vendor/owid-catalog-py/owid/catalog/frames.py\u001b[0m in \u001b[0;36mto_int\u001b[0;34m(s)\u001b[0m\n\u001b[1;32m     66\u001b[0m     \u001b[0mv\u001b[0m \u001b[0;34m=\u001b[0m \u001b[0mcast\u001b[0m\u001b[0;34m(\u001b[0m\u001b[0mpd\u001b[0m\u001b[0;34m.\u001b[0m\u001b[0mSeries\u001b[0m\u001b[0;34m,\u001b[0m \u001b[0ms\u001b[0m\u001b[0;34m.\u001b[0m\u001b[0mapply\u001b[0m\u001b[0;34m(\u001b[0m\u001b[0mintify\u001b[0m\u001b[0;34m)\u001b[0m\u001b[0;34m.\u001b[0m\u001b[0mastype\u001b[0m\u001b[0;34m(\u001b[0m\u001b[0;34m\"Int64\"\u001b[0m\u001b[0;34m)\u001b[0m\u001b[0;34m)\u001b[0m\u001b[0;34m\u001b[0m\u001b[0;34m\u001b[0m\u001b[0m\n\u001b[1;32m     67\u001b[0m \u001b[0;34m\u001b[0m\u001b[0m\n\u001b[0;32m---> 68\u001b[0;31m     \u001b[0;32mif\u001b[0m \u001b[0;32mnot\u001b[0m \u001b[0mseries_eq\u001b[0m\u001b[0;34m(\u001b[0m\u001b[0mv\u001b[0m\u001b[0;34m,\u001b[0m \u001b[0ms\u001b[0m\u001b[0;34m,\u001b[0m \u001b[0mcast\u001b[0m\u001b[0;34m=\u001b[0m\u001b[0mfloat\u001b[0m\u001b[0;34m)\u001b[0m\u001b[0;34m:\u001b[0m\u001b[0;34m\u001b[0m\u001b[0;34m\u001b[0m\u001b[0m\n\u001b[0m\u001b[1;32m     69\u001b[0m         \u001b[0;32mraise\u001b[0m \u001b[0mValueError\u001b[0m\u001b[0;34m(\u001b[0m\u001b[0;34m)\u001b[0m\u001b[0;34m\u001b[0m\u001b[0;34m\u001b[0m\u001b[0m\n\u001b[1;32m     70\u001b[0m \u001b[0;34m\u001b[0m\u001b[0m\n",
      "\u001b[0;32m~/projects/etl/vendor/owid-catalog-py/owid/catalog/frames.py\u001b[0m in \u001b[0;36mseries_eq\u001b[0;34m(lhs, rhs, cast, rtol, atol)\u001b[0m\n\u001b[1;32m    131\u001b[0m         \u001b[0;32mreturn\u001b[0m \u001b[0;32mFalse\u001b[0m\u001b[0;34m\u001b[0m\u001b[0;34m\u001b[0m\u001b[0m\n\u001b[1;32m    132\u001b[0m \u001b[0;34m\u001b[0m\u001b[0m\n\u001b[0;32m--> 133\u001b[0;31m     \u001b[0mlhs_values\u001b[0m \u001b[0;34m=\u001b[0m \u001b[0mlhs\u001b[0m\u001b[0;34m.\u001b[0m\u001b[0mdropna\u001b[0m\u001b[0;34m(\u001b[0m\u001b[0;34m)\u001b[0m\u001b[0;34m.\u001b[0m\u001b[0mapply\u001b[0m\u001b[0;34m(\u001b[0m\u001b[0mcast\u001b[0m\u001b[0;34m)\u001b[0m\u001b[0;34m\u001b[0m\u001b[0;34m\u001b[0m\u001b[0m\n\u001b[0m\u001b[1;32m    134\u001b[0m     \u001b[0mrhs_values\u001b[0m \u001b[0;34m=\u001b[0m \u001b[0mrhs\u001b[0m\u001b[0;34m.\u001b[0m\u001b[0mdropna\u001b[0m\u001b[0;34m(\u001b[0m\u001b[0;34m)\u001b[0m\u001b[0;34m.\u001b[0m\u001b[0mapply\u001b[0m\u001b[0;34m(\u001b[0m\u001b[0mcast\u001b[0m\u001b[0;34m)\u001b[0m\u001b[0;34m\u001b[0m\u001b[0;34m\u001b[0m\u001b[0m\n\u001b[1;32m    135\u001b[0m     \u001b[0;32mreturn\u001b[0m \u001b[0mnp\u001b[0m\u001b[0;34m.\u001b[0m\u001b[0mallclose\u001b[0m\u001b[0;34m(\u001b[0m\u001b[0mlhs_values\u001b[0m\u001b[0;34m,\u001b[0m \u001b[0mrhs_values\u001b[0m\u001b[0;34m,\u001b[0m \u001b[0mrtol\u001b[0m\u001b[0;34m=\u001b[0m\u001b[0mrtol\u001b[0m\u001b[0;34m,\u001b[0m \u001b[0matol\u001b[0m\u001b[0;34m=\u001b[0m\u001b[0matol\u001b[0m\u001b[0;34m)\u001b[0m\u001b[0;34m\u001b[0m\u001b[0;34m\u001b[0m\u001b[0m\n",
      "\u001b[0;32m~/projects/etl/.venv/lib/python3.9/site-packages/pandas/core/series.py\u001b[0m in \u001b[0;36mapply\u001b[0;34m(self, func, convert_dtype, args, **kwargs)\u001b[0m\n\u001b[1;32m   4355\u001b[0m         \u001b[0mdtype\u001b[0m\u001b[0;34m:\u001b[0m \u001b[0mfloat64\u001b[0m\u001b[0;34m\u001b[0m\u001b[0;34m\u001b[0m\u001b[0m\n\u001b[1;32m   4356\u001b[0m         \"\"\"\n\u001b[0;32m-> 4357\u001b[0;31m         \u001b[0;32mreturn\u001b[0m \u001b[0mSeriesApply\u001b[0m\u001b[0;34m(\u001b[0m\u001b[0mself\u001b[0m\u001b[0;34m,\u001b[0m \u001b[0mfunc\u001b[0m\u001b[0;34m,\u001b[0m \u001b[0mconvert_dtype\u001b[0m\u001b[0;34m,\u001b[0m \u001b[0margs\u001b[0m\u001b[0;34m,\u001b[0m \u001b[0mkwargs\u001b[0m\u001b[0;34m)\u001b[0m\u001b[0;34m.\u001b[0m\u001b[0mapply\u001b[0m\u001b[0;34m(\u001b[0m\u001b[0;34m)\u001b[0m\u001b[0;34m\u001b[0m\u001b[0;34m\u001b[0m\u001b[0m\n\u001b[0m\u001b[1;32m   4358\u001b[0m \u001b[0;34m\u001b[0m\u001b[0m\n\u001b[1;32m   4359\u001b[0m     def _reduce(\n",
      "\u001b[0;32m~/projects/etl/.venv/lib/python3.9/site-packages/pandas/core/apply.py\u001b[0m in \u001b[0;36mapply\u001b[0;34m(self)\u001b[0m\n\u001b[1;32m   1041\u001b[0m             \u001b[0;32mreturn\u001b[0m \u001b[0mself\u001b[0m\u001b[0;34m.\u001b[0m\u001b[0mapply_str\u001b[0m\u001b[0;34m(\u001b[0m\u001b[0;34m)\u001b[0m\u001b[0;34m\u001b[0m\u001b[0;34m\u001b[0m\u001b[0m\n\u001b[1;32m   1042\u001b[0m \u001b[0;34m\u001b[0m\u001b[0m\n\u001b[0;32m-> 1043\u001b[0;31m         \u001b[0;32mreturn\u001b[0m \u001b[0mself\u001b[0m\u001b[0;34m.\u001b[0m\u001b[0mapply_standard\u001b[0m\u001b[0;34m(\u001b[0m\u001b[0;34m)\u001b[0m\u001b[0;34m\u001b[0m\u001b[0;34m\u001b[0m\u001b[0m\n\u001b[0m\u001b[1;32m   1044\u001b[0m \u001b[0;34m\u001b[0m\u001b[0m\n\u001b[1;32m   1045\u001b[0m     \u001b[0;32mdef\u001b[0m \u001b[0magg\u001b[0m\u001b[0;34m(\u001b[0m\u001b[0mself\u001b[0m\u001b[0;34m)\u001b[0m\u001b[0;34m:\u001b[0m\u001b[0;34m\u001b[0m\u001b[0;34m\u001b[0m\u001b[0m\n",
      "\u001b[0;32m~/projects/etl/.venv/lib/python3.9/site-packages/pandas/core/apply.py\u001b[0m in \u001b[0;36mapply_standard\u001b[0;34m(self)\u001b[0m\n\u001b[1;32m   1091\u001b[0m                 \u001b[0mmapped\u001b[0m \u001b[0;34m=\u001b[0m \u001b[0mobj\u001b[0m\u001b[0;34m.\u001b[0m\u001b[0m_values\u001b[0m\u001b[0;34m.\u001b[0m\u001b[0mmap\u001b[0m\u001b[0;34m(\u001b[0m\u001b[0mf\u001b[0m\u001b[0;34m)\u001b[0m\u001b[0;34m\u001b[0m\u001b[0;34m\u001b[0m\u001b[0m\n\u001b[1;32m   1092\u001b[0m             \u001b[0;32melse\u001b[0m\u001b[0;34m:\u001b[0m\u001b[0;34m\u001b[0m\u001b[0;34m\u001b[0m\u001b[0m\n\u001b[0;32m-> 1093\u001b[0;31m                 \u001b[0mvalues\u001b[0m \u001b[0;34m=\u001b[0m \u001b[0mobj\u001b[0m\u001b[0;34m.\u001b[0m\u001b[0mastype\u001b[0m\u001b[0;34m(\u001b[0m\u001b[0mobject\u001b[0m\u001b[0;34m)\u001b[0m\u001b[0;34m.\u001b[0m\u001b[0m_values\u001b[0m\u001b[0;34m\u001b[0m\u001b[0;34m\u001b[0m\u001b[0m\n\u001b[0m\u001b[1;32m   1094\u001b[0m                 \u001b[0;31m# error: Argument 2 to \"map_infer\" has incompatible type\u001b[0m\u001b[0;34m\u001b[0m\u001b[0;34m\u001b[0m\u001b[0;34m\u001b[0m\u001b[0m\n\u001b[1;32m   1095\u001b[0m                 \u001b[0;31m# \"Union[Callable[..., Any], str, List[Union[Callable[..., Any], str]],\u001b[0m\u001b[0;34m\u001b[0m\u001b[0;34m\u001b[0m\u001b[0;34m\u001b[0m\u001b[0m\n",
      "\u001b[0;32m~/projects/etl/.venv/lib/python3.9/site-packages/pandas/core/generic.py\u001b[0m in \u001b[0;36mastype\u001b[0;34m(self, dtype, copy, errors)\u001b[0m\n\u001b[1;32m   5813\u001b[0m         \u001b[0;32melse\u001b[0m\u001b[0;34m:\u001b[0m\u001b[0;34m\u001b[0m\u001b[0;34m\u001b[0m\u001b[0m\n\u001b[1;32m   5814\u001b[0m             \u001b[0;31m# else, only a single dtype is given\u001b[0m\u001b[0;34m\u001b[0m\u001b[0;34m\u001b[0m\u001b[0;34m\u001b[0m\u001b[0m\n\u001b[0;32m-> 5815\u001b[0;31m             \u001b[0mnew_data\u001b[0m \u001b[0;34m=\u001b[0m \u001b[0mself\u001b[0m\u001b[0;34m.\u001b[0m\u001b[0m_mgr\u001b[0m\u001b[0;34m.\u001b[0m\u001b[0mastype\u001b[0m\u001b[0;34m(\u001b[0m\u001b[0mdtype\u001b[0m\u001b[0;34m=\u001b[0m\u001b[0mdtype\u001b[0m\u001b[0;34m,\u001b[0m \u001b[0mcopy\u001b[0m\u001b[0;34m=\u001b[0m\u001b[0mcopy\u001b[0m\u001b[0;34m,\u001b[0m \u001b[0merrors\u001b[0m\u001b[0;34m=\u001b[0m\u001b[0merrors\u001b[0m\u001b[0;34m)\u001b[0m\u001b[0;34m\u001b[0m\u001b[0;34m\u001b[0m\u001b[0m\n\u001b[0m\u001b[1;32m   5816\u001b[0m             \u001b[0;32mreturn\u001b[0m \u001b[0mself\u001b[0m\u001b[0;34m.\u001b[0m\u001b[0m_constructor\u001b[0m\u001b[0;34m(\u001b[0m\u001b[0mnew_data\u001b[0m\u001b[0;34m)\u001b[0m\u001b[0;34m.\u001b[0m\u001b[0m__finalize__\u001b[0m\u001b[0;34m(\u001b[0m\u001b[0mself\u001b[0m\u001b[0;34m,\u001b[0m \u001b[0mmethod\u001b[0m\u001b[0;34m=\u001b[0m\u001b[0;34m\"astype\"\u001b[0m\u001b[0;34m)\u001b[0m\u001b[0;34m\u001b[0m\u001b[0;34m\u001b[0m\u001b[0m\n\u001b[1;32m   5817\u001b[0m \u001b[0;34m\u001b[0m\u001b[0m\n",
      "\u001b[0;32m~/projects/etl/.venv/lib/python3.9/site-packages/pandas/core/internals/managers.py\u001b[0m in \u001b[0;36mastype\u001b[0;34m(self, dtype, copy, errors)\u001b[0m\n\u001b[1;32m    416\u001b[0m \u001b[0;34m\u001b[0m\u001b[0m\n\u001b[1;32m    417\u001b[0m     \u001b[0;32mdef\u001b[0m \u001b[0mastype\u001b[0m\u001b[0;34m(\u001b[0m\u001b[0mself\u001b[0m\u001b[0;34m:\u001b[0m \u001b[0mT\u001b[0m\u001b[0;34m,\u001b[0m \u001b[0mdtype\u001b[0m\u001b[0;34m,\u001b[0m \u001b[0mcopy\u001b[0m\u001b[0;34m:\u001b[0m \u001b[0mbool\u001b[0m \u001b[0;34m=\u001b[0m \u001b[0;32mFalse\u001b[0m\u001b[0;34m,\u001b[0m \u001b[0merrors\u001b[0m\u001b[0;34m:\u001b[0m \u001b[0mstr\u001b[0m \u001b[0;34m=\u001b[0m \u001b[0;34m\"raise\"\u001b[0m\u001b[0;34m)\u001b[0m \u001b[0;34m->\u001b[0m \u001b[0mT\u001b[0m\u001b[0;34m:\u001b[0m\u001b[0;34m\u001b[0m\u001b[0;34m\u001b[0m\u001b[0m\n\u001b[0;32m--> 418\u001b[0;31m         \u001b[0;32mreturn\u001b[0m \u001b[0mself\u001b[0m\u001b[0;34m.\u001b[0m\u001b[0mapply\u001b[0m\u001b[0;34m(\u001b[0m\u001b[0;34m\"astype\"\u001b[0m\u001b[0;34m,\u001b[0m \u001b[0mdtype\u001b[0m\u001b[0;34m=\u001b[0m\u001b[0mdtype\u001b[0m\u001b[0;34m,\u001b[0m \u001b[0mcopy\u001b[0m\u001b[0;34m=\u001b[0m\u001b[0mcopy\u001b[0m\u001b[0;34m,\u001b[0m \u001b[0merrors\u001b[0m\u001b[0;34m=\u001b[0m\u001b[0merrors\u001b[0m\u001b[0;34m)\u001b[0m\u001b[0;34m\u001b[0m\u001b[0;34m\u001b[0m\u001b[0m\n\u001b[0m\u001b[1;32m    419\u001b[0m \u001b[0;34m\u001b[0m\u001b[0m\n\u001b[1;32m    420\u001b[0m     def convert(\n",
      "\u001b[0;32m~/projects/etl/.venv/lib/python3.9/site-packages/pandas/core/internals/managers.py\u001b[0m in \u001b[0;36mapply\u001b[0;34m(self, f, align_keys, ignore_failures, **kwargs)\u001b[0m\n\u001b[1;32m    325\u001b[0m                     \u001b[0mapplied\u001b[0m \u001b[0;34m=\u001b[0m \u001b[0mb\u001b[0m\u001b[0;34m.\u001b[0m\u001b[0mapply\u001b[0m\u001b[0;34m(\u001b[0m\u001b[0mf\u001b[0m\u001b[0;34m,\u001b[0m \u001b[0;34m**\u001b[0m\u001b[0mkwargs\u001b[0m\u001b[0;34m)\u001b[0m\u001b[0;34m\u001b[0m\u001b[0;34m\u001b[0m\u001b[0m\n\u001b[1;32m    326\u001b[0m                 \u001b[0;32melse\u001b[0m\u001b[0;34m:\u001b[0m\u001b[0;34m\u001b[0m\u001b[0;34m\u001b[0m\u001b[0m\n\u001b[0;32m--> 327\u001b[0;31m                     \u001b[0mapplied\u001b[0m \u001b[0;34m=\u001b[0m \u001b[0mgetattr\u001b[0m\u001b[0;34m(\u001b[0m\u001b[0mb\u001b[0m\u001b[0;34m,\u001b[0m \u001b[0mf\u001b[0m\u001b[0;34m)\u001b[0m\u001b[0;34m(\u001b[0m\u001b[0;34m**\u001b[0m\u001b[0mkwargs\u001b[0m\u001b[0;34m)\u001b[0m\u001b[0;34m\u001b[0m\u001b[0;34m\u001b[0m\u001b[0m\n\u001b[0m\u001b[1;32m    328\u001b[0m             \u001b[0;32mexcept\u001b[0m \u001b[0;34m(\u001b[0m\u001b[0mTypeError\u001b[0m\u001b[0;34m,\u001b[0m \u001b[0mNotImplementedError\u001b[0m\u001b[0;34m)\u001b[0m\u001b[0;34m:\u001b[0m\u001b[0;34m\u001b[0m\u001b[0;34m\u001b[0m\u001b[0m\n\u001b[1;32m    329\u001b[0m                 \u001b[0;32mif\u001b[0m \u001b[0;32mnot\u001b[0m \u001b[0mignore_failures\u001b[0m\u001b[0;34m:\u001b[0m\u001b[0;34m\u001b[0m\u001b[0;34m\u001b[0m\u001b[0m\n",
      "\u001b[0;32m~/projects/etl/.venv/lib/python3.9/site-packages/pandas/core/internals/blocks.py\u001b[0m in \u001b[0;36mastype\u001b[0;34m(self, dtype, copy, errors)\u001b[0m\n\u001b[1;32m    590\u001b[0m         \u001b[0mvalues\u001b[0m \u001b[0;34m=\u001b[0m \u001b[0mself\u001b[0m\u001b[0;34m.\u001b[0m\u001b[0mvalues\u001b[0m\u001b[0;34m\u001b[0m\u001b[0;34m\u001b[0m\u001b[0m\n\u001b[1;32m    591\u001b[0m \u001b[0;34m\u001b[0m\u001b[0m\n\u001b[0;32m--> 592\u001b[0;31m         \u001b[0mnew_values\u001b[0m \u001b[0;34m=\u001b[0m \u001b[0mastype_array_safe\u001b[0m\u001b[0;34m(\u001b[0m\u001b[0mvalues\u001b[0m\u001b[0;34m,\u001b[0m \u001b[0mdtype\u001b[0m\u001b[0;34m,\u001b[0m \u001b[0mcopy\u001b[0m\u001b[0;34m=\u001b[0m\u001b[0mcopy\u001b[0m\u001b[0;34m,\u001b[0m \u001b[0merrors\u001b[0m\u001b[0;34m=\u001b[0m\u001b[0merrors\u001b[0m\u001b[0;34m)\u001b[0m\u001b[0;34m\u001b[0m\u001b[0;34m\u001b[0m\u001b[0m\n\u001b[0m\u001b[1;32m    593\u001b[0m \u001b[0;34m\u001b[0m\u001b[0m\n\u001b[1;32m    594\u001b[0m         \u001b[0mnew_values\u001b[0m \u001b[0;34m=\u001b[0m \u001b[0mmaybe_coerce_values\u001b[0m\u001b[0;34m(\u001b[0m\u001b[0mnew_values\u001b[0m\u001b[0;34m)\u001b[0m\u001b[0;34m\u001b[0m\u001b[0;34m\u001b[0m\u001b[0m\n",
      "\u001b[0;32m~/projects/etl/.venv/lib/python3.9/site-packages/pandas/core/dtypes/cast.py\u001b[0m in \u001b[0;36mastype_array_safe\u001b[0;34m(values, dtype, copy, errors)\u001b[0m\n\u001b[1;32m   1307\u001b[0m \u001b[0;34m\u001b[0m\u001b[0m\n\u001b[1;32m   1308\u001b[0m     \u001b[0;32mtry\u001b[0m\u001b[0;34m:\u001b[0m\u001b[0;34m\u001b[0m\u001b[0;34m\u001b[0m\u001b[0m\n\u001b[0;32m-> 1309\u001b[0;31m         \u001b[0mnew_values\u001b[0m \u001b[0;34m=\u001b[0m \u001b[0mastype_array\u001b[0m\u001b[0;34m(\u001b[0m\u001b[0mvalues\u001b[0m\u001b[0;34m,\u001b[0m \u001b[0mdtype\u001b[0m\u001b[0;34m,\u001b[0m \u001b[0mcopy\u001b[0m\u001b[0;34m=\u001b[0m\u001b[0mcopy\u001b[0m\u001b[0;34m)\u001b[0m\u001b[0;34m\u001b[0m\u001b[0;34m\u001b[0m\u001b[0m\n\u001b[0m\u001b[1;32m   1310\u001b[0m     \u001b[0;32mexcept\u001b[0m \u001b[0;34m(\u001b[0m\u001b[0mValueError\u001b[0m\u001b[0;34m,\u001b[0m \u001b[0mTypeError\u001b[0m\u001b[0;34m)\u001b[0m\u001b[0;34m:\u001b[0m\u001b[0;34m\u001b[0m\u001b[0;34m\u001b[0m\u001b[0m\n\u001b[1;32m   1311\u001b[0m         \u001b[0;31m# e.g. astype_nansafe can fail on object-dtype of strings\u001b[0m\u001b[0;34m\u001b[0m\u001b[0;34m\u001b[0m\u001b[0;34m\u001b[0m\u001b[0m\n",
      "\u001b[0;32m~/projects/etl/.venv/lib/python3.9/site-packages/pandas/core/dtypes/cast.py\u001b[0m in \u001b[0;36mastype_array\u001b[0;34m(values, dtype, copy)\u001b[0m\n\u001b[1;32m   1252\u001b[0m     \u001b[0;32mif\u001b[0m \u001b[0;32mnot\u001b[0m \u001b[0misinstance\u001b[0m\u001b[0;34m(\u001b[0m\u001b[0mvalues\u001b[0m\u001b[0;34m,\u001b[0m \u001b[0mnp\u001b[0m\u001b[0;34m.\u001b[0m\u001b[0mndarray\u001b[0m\u001b[0;34m)\u001b[0m\u001b[0;34m:\u001b[0m\u001b[0;34m\u001b[0m\u001b[0;34m\u001b[0m\u001b[0m\n\u001b[1;32m   1253\u001b[0m         \u001b[0;31m# i.e. ExtensionArray\u001b[0m\u001b[0;34m\u001b[0m\u001b[0;34m\u001b[0m\u001b[0;34m\u001b[0m\u001b[0m\n\u001b[0;32m-> 1254\u001b[0;31m         \u001b[0mvalues\u001b[0m \u001b[0;34m=\u001b[0m \u001b[0mvalues\u001b[0m\u001b[0;34m.\u001b[0m\u001b[0mastype\u001b[0m\u001b[0;34m(\u001b[0m\u001b[0mdtype\u001b[0m\u001b[0;34m,\u001b[0m \u001b[0mcopy\u001b[0m\u001b[0;34m=\u001b[0m\u001b[0mcopy\u001b[0m\u001b[0;34m)\u001b[0m\u001b[0;34m\u001b[0m\u001b[0;34m\u001b[0m\u001b[0m\n\u001b[0m\u001b[1;32m   1255\u001b[0m \u001b[0;34m\u001b[0m\u001b[0m\n\u001b[1;32m   1256\u001b[0m     \u001b[0;32melse\u001b[0m\u001b[0;34m:\u001b[0m\u001b[0;34m\u001b[0m\u001b[0;34m\u001b[0m\u001b[0m\n",
      "\u001b[0;32m~/projects/etl/.venv/lib/python3.9/site-packages/pandas/core/arrays/integer.py\u001b[0m in \u001b[0;36mastype\u001b[0;34m(self, dtype, copy)\u001b[0m\n\u001b[1;32m    374\u001b[0m             \u001b[0mna_value\u001b[0m \u001b[0;34m=\u001b[0m \u001b[0mlib\u001b[0m\u001b[0;34m.\u001b[0m\u001b[0mno_default\u001b[0m\u001b[0;34m\u001b[0m\u001b[0;34m\u001b[0m\u001b[0m\n\u001b[1;32m    375\u001b[0m \u001b[0;34m\u001b[0m\u001b[0m\n\u001b[0;32m--> 376\u001b[0;31m         \u001b[0;32mreturn\u001b[0m \u001b[0mself\u001b[0m\u001b[0;34m.\u001b[0m\u001b[0mto_numpy\u001b[0m\u001b[0;34m(\u001b[0m\u001b[0mdtype\u001b[0m\u001b[0;34m=\u001b[0m\u001b[0mdtype\u001b[0m\u001b[0;34m,\u001b[0m \u001b[0mna_value\u001b[0m\u001b[0;34m=\u001b[0m\u001b[0mna_value\u001b[0m\u001b[0;34m,\u001b[0m \u001b[0mcopy\u001b[0m\u001b[0;34m=\u001b[0m\u001b[0;32mFalse\u001b[0m\u001b[0;34m)\u001b[0m\u001b[0;34m\u001b[0m\u001b[0;34m\u001b[0m\u001b[0m\n\u001b[0m\u001b[1;32m    377\u001b[0m \u001b[0;34m\u001b[0m\u001b[0m\n\u001b[1;32m    378\u001b[0m     \u001b[0;32mdef\u001b[0m \u001b[0m_values_for_argsort\u001b[0m\u001b[0;34m(\u001b[0m\u001b[0mself\u001b[0m\u001b[0;34m)\u001b[0m \u001b[0;34m->\u001b[0m \u001b[0mnp\u001b[0m\u001b[0;34m.\u001b[0m\u001b[0mndarray\u001b[0m\u001b[0;34m:\u001b[0m\u001b[0;34m\u001b[0m\u001b[0;34m\u001b[0m\u001b[0m\n",
      "\u001b[0;32m~/projects/etl/.venv/lib/python3.9/site-packages/pandas/core/arrays/masked.py\u001b[0m in \u001b[0;36mto_numpy\u001b[0;34m(self, dtype, copy, na_value)\u001b[0m\n\u001b[1;32m    299\u001b[0m             \u001b[0mdata\u001b[0m\u001b[0;34m[\u001b[0m\u001b[0mself\u001b[0m\u001b[0;34m.\u001b[0m\u001b[0m_mask\u001b[0m\u001b[0;34m]\u001b[0m \u001b[0;34m=\u001b[0m \u001b[0mna_value\u001b[0m\u001b[0;34m\u001b[0m\u001b[0;34m\u001b[0m\u001b[0m\n\u001b[1;32m    300\u001b[0m         \u001b[0;32melse\u001b[0m\u001b[0;34m:\u001b[0m\u001b[0;34m\u001b[0m\u001b[0;34m\u001b[0m\u001b[0m\n\u001b[0;32m--> 301\u001b[0;31m             \u001b[0mdata\u001b[0m \u001b[0;34m=\u001b[0m \u001b[0mself\u001b[0m\u001b[0;34m.\u001b[0m\u001b[0m_data\u001b[0m\u001b[0;34m.\u001b[0m\u001b[0mastype\u001b[0m\u001b[0;34m(\u001b[0m\u001b[0mdtype\u001b[0m\u001b[0;34m,\u001b[0m \u001b[0mcopy\u001b[0m\u001b[0;34m=\u001b[0m\u001b[0mcopy\u001b[0m\u001b[0;34m)\u001b[0m\u001b[0;34m\u001b[0m\u001b[0;34m\u001b[0m\u001b[0m\n\u001b[0m\u001b[1;32m    302\u001b[0m         \u001b[0;32mreturn\u001b[0m \u001b[0mdata\u001b[0m\u001b[0;34m\u001b[0m\u001b[0;34m\u001b[0m\u001b[0m\n\u001b[1;32m    303\u001b[0m \u001b[0;34m\u001b[0m\u001b[0m\n",
      "\u001b[0;31mKeyboardInterrupt\u001b[0m: "
     ]
    }
   ],
   "source": [
    "ds.add(estimates)"
   ]
  },
  {
   "cell_type": "markdown",
   "id": "23f4d337",
   "metadata": {},
   "source": [
    "## Cleanup"
   ]
  },
  {
   "cell_type": "code",
   "execution_count": null,
   "id": "c145db1e",
   "metadata": {},
   "outputs": [],
   "source": [
    "import shutil"
   ]
  },
  {
   "cell_type": "code",
   "execution_count": null,
   "id": "d5f8a183",
   "metadata": {},
   "outputs": [],
   "source": [
    "shutil.rmtree(dirname)"
   ]
  }
 ],
 "metadata": {
  "interpreter": {
   "hash": "bfee9b694fe04c946c13f91f59877f323f209df7eaba52b3079ace55470be701"
  },
  "kernelspec": {
   "display_name": "Python 3 (ipykernel)",
   "language": "python",
   "name": "python3"
  },
  "language_info": {
   "codemirror_mode": {
    "name": "ipython",
    "version": 3
   },
   "file_extension": ".py",
   "mimetype": "text/x-python",
   "name": "python",
   "nbconvert_exporter": "python",
   "pygments_lexer": "ipython3",
   "version": "3.9.6"
  }
 },
 "nbformat": 4,
 "nbformat_minor": 5
}
