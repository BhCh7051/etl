{
 "cells": [
  {
   "cell_type": "markdown",
   "id": "c06822f3-2a26-45ba-a088-767c332435ff",
   "metadata": {},
   "source": [
    "## Parameters"
   ]
  },
  {
   "cell_type": "code",
   "execution_count": null,
   "id": "bff9b629-68f9-4399-8e45-f997861105e4",
   "metadata": {
    "tags": [
     "parameters"
    ]
   },
   "outputs": [],
   "source": [
    "dest_dir = \"/tmp/lpd_20210910\""
   ]
  },
  {
   "cell_type": "markdown",
   "id": "e533ddb5-0f2b-4ec9-b373-ea81911f5cd8",
   "metadata": {},
   "source": [
    "## Imports"
   ]
  },
  {
   "cell_type": "code",
   "execution_count": 21,
   "id": "af548366-12c4-4991-9417-fac1575b4151",
   "metadata": {
    "tags": []
   },
   "outputs": [],
   "source": [
    "import zipfile\n",
    "import tempfile\n",
    "\n",
    "from owid import walden, catalog\n",
    "from etl.steps.data import converters"
   ]
  },
  {
   "cell_type": "code",
   "execution_count": 22,
   "id": "065353c4-0a29-47af-8bb2-112bffad7d3e",
   "metadata": {},
   "outputs": [],
   "source": [
    "raw_dataset = walden.Catalog().find_one(\"living_planet\")"
   ]
  },
  {
   "cell_type": "code",
   "execution_count": 23,
   "id": "e7fbcc43-99bf-43ee-83d3-85534a36da52",
   "metadata": {},
   "outputs": [
    {
     "data": {
      "text/plain": [
       "Dataset(namespace='living_planet', short_name='lpd', name='Living Planet Database - (2020-09)', description='The Living Planet Database contains tens of thousands of vertebrate population time-series from around the world. It is the largest collection of its kind, and is publicly available, making it an invaluable tool for both research and conservation. This dataset contains time-series of population abundance data for vertebrate species spanning years between 1970 and 2016. These data were used in the Living Planet Report 2020. Confidential records that cannot be shared have been removed from this data set.', source_name='The Zoological Society of London', url='http://stats.livingplanetindex.org/', date_accessed='2021-11-22', file_extension='zip', license_url='https://livingplanetindex.org/documents/data_agreement.pdf', source_data_url=None, md5='9c16afc205cd1aff073fad6726ebbdc3', publication_year=2020, publication_date='2020-09-10', owid_data_url='http://nyc3.digitaloceanspaces.com/walden/living_planet/2020-09-10/lpd.zip', license_name=None, access_notes=None)"
      ]
     },
     "execution_count": 23,
     "metadata": {},
     "output_type": "execute_result"
    }
   ],
   "source": [
    "raw_dataset"
   ]
  },
  {
   "cell_type": "code",
   "execution_count": 24,
   "id": "bcf9f2d5-96bd-46ea-92a5-902111b19274",
   "metadata": {},
   "outputs": [
    {
     "data": {
      "text/plain": [
       "'/Users/fionaspooner/.owid/walden/living_planet/2020-09-10/lpd.zip'"
      ]
     },
     "execution_count": 24,
     "metadata": {},
     "output_type": "execute_result"
    }
   ],
   "source": [
    "raw_dataset.local_path"
   ]
  },
  {
   "cell_type": "code",
   "execution_count": 25,
   "id": "127ffeb6-c519-491d-94a3-fd73a1f46213",
   "metadata": {},
   "outputs": [],
   "source": [
    "tmp_dir = tempfile.mkdtemp(prefix=\"etl-\")"
   ]
  },
  {
   "cell_type": "markdown",
   "id": "d69a8e94-32bb-452d-b5f4-fc285bf0ac11",
   "metadata": {},
   "source": [
    " #### Must run '.venv/bin/etl data://meadow/living_planet/2021-09-10/lpd' before this stage or the file won't be in your local walden"
   ]
  },
  {
   "cell_type": "code",
   "execution_count": 27,
   "id": "5d967805-f848-4cc7-9dd1-1283b73cbabd",
   "metadata": {},
   "outputs": [],
   "source": [
    "zipfile.ZipFile(raw_dataset.local_path).extractall(tmp_dir)"
   ]
  },
  {
   "cell_type": "code",
   "execution_count": null,
   "id": "72459f28-bbca-43be-be13-84c69225030a",
   "metadata": {},
   "outputs": [],
   "source": []
  }
 ],
 "metadata": {
  "kernelspec": {
   "display_name": "Python 3 (ipykernel)",
   "language": "python",
   "name": "python3"
  },
  "language_info": {
   "codemirror_mode": {
    "name": "ipython",
    "version": 3
   },
   "file_extension": ".py",
   "mimetype": "text/x-python",
   "name": "python",
   "nbconvert_exporter": "python",
   "pygments_lexer": "ipython3",
   "version": "3.9.5"
  }
 },
 "nbformat": 4,
 "nbformat_minor": 5
}
