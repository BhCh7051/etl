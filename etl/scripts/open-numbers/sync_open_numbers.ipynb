{
 "cells": [
  {
   "cell_type": "markdown",
   "id": "bafc324a-4e4b-44c7-9428-a6ff1ec453e1",
   "metadata": {},
   "source": [
    "# Sync open numbers"
   ]
  },
  {
   "cell_type": "markdown",
   "id": "4a59a2b0-13d7-4011-8034-cb535a2dce00",
   "metadata": {},
   "source": [
    "## Purpose"
   ]
  },
  {
   "cell_type": "markdown",
   "id": "23746f41-83a5-4260-a9cb-a0eddea38a54",
   "metadata": {},
   "source": [
    "Add all ddf datasets published by open numbers to the ETL automatically, both as github steps and as meadow steps."
   ]
  },
  {
   "cell_type": "markdown",
   "id": "1c7b6e3c-64c9-4589-ad63-b0e3daa0f43a",
   "metadata": {},
   "source": [
    "## Find all repos"
   ]
  },
  {
   "cell_type": "code",
   "execution_count": 61,
   "id": "b4b02901-e047-4bd0-b468-339c32a9c920",
   "metadata": {},
   "outputs": [],
   "source": [
    "import json"
   ]
  },
  {
   "cell_type": "code",
   "execution_count": 62,
   "id": "6092ed51-c0b1-462e-8c6b-14a89086c5f4",
   "metadata": {},
   "outputs": [],
   "source": [
    "(repos_json,) = !gh repo list -L 1000 --json url open-numbers"
   ]
  },
  {
   "cell_type": "code",
   "execution_count": 63,
   "id": "adf7bea5-09f5-4b91-8bc0-d9aa2bae1dbe",
   "metadata": {},
   "outputs": [],
   "source": [
    "repos = [r[\"url\"].split(\"/\")[-1] for r in json.loads(repos_json) if \"ddf--\" in r[\"url\"]]"
   ]
  },
  {
   "cell_type": "code",
   "execution_count": 64,
   "id": "0daeacf5-ba1e-4ccd-8470-113ef50882c4",
   "metadata": {},
   "outputs": [
    {
     "data": {
      "text/plain": [
       "['ddf--worldbank--povcalnet',\n",
       " 'ddf--oxford--covid_government_response',\n",
       " 'ddf--gapminder--systema_globalis',\n",
       " 'ddf--open_numbers--world_development_indicators',\n",
       " 'ddf--open_numbers--covid_19_geographic_distribution',\n",
       " 'ddf--world_bank--world_development_indicators',\n",
       " 'ddf--clio_infra--indicators',\n",
       " 'ddf--ilo--ilostat',\n",
       " 'ddf--oecd--dac',\n",
       " 'ddf--gapminder--fasttrack',\n",
       " 'ddf--open_numbers--covid_government_response',\n",
       " 'ddf--unstats--sdg_indicators',\n",
       " 'ddf--who--tb_burden_estimates',\n",
       " 'ddf--global_carbon_project--global_carbon_budget',\n",
       " 'ddf--gapminder--child_mortality',\n",
       " 'ddf--gapminder--gini',\n",
       " 'ddf--gapminder--population_historic',\n",
       " 'ddf--gapminder--gdp_per_capita_cppp',\n",
       " 'ddf--gapminder--life_expectancy',\n",
       " 'ddf--unpop--world_population_prospects',\n",
       " 'ddf--cait--historical_emissions',\n",
       " 'ddf--gapminder--co2_emission',\n",
       " 'ddf--gapminder--population',\n",
       " 'ddf--unfao--faostat',\n",
       " 'ddf--semio--dag_test',\n",
       " 'ddf--gapminder--population_by_income_group',\n",
       " 'ddf--open_numbers',\n",
       " 'ddf--gapminder--gapminder_world',\n",
       " 'ddf--ecdc--covid_19_geographic_distribution',\n",
       " 'ddf--gapminder--ontology',\n",
       " 'ddf--ihme--lex',\n",
       " 'ddf--ihme--death_cause_compact',\n",
       " 'ddf--gapminder--bp_energy',\n",
       " 'ddf--bp--energy',\n",
       " 'ddf--gapminder--fertility_rate',\n",
       " 'ddf--undp--hdi',\n",
       " 'ddf--gapminder--ilostat',\n",
       " 'ddf--open_numbers--yearly_data_as_daily',\n",
       " 'ddf--gapminder--unpop_wpp',\n",
       " 'ddf--iucn--red_list',\n",
       " 'ddf--gapminder--suicide_homicide_traffic_death_rates',\n",
       " 'ddf--gapminder--unfao_faostat',\n",
       " 'ddf--gapminder--ihme_lex',\n",
       " 'ddf--gapminder--ihme_edu_attainment',\n",
       " 'ddf--gapminder--gbd_indicators',\n",
       " 'ddf--gapminder--fao_fra',\n",
       " 'ddf--gapminder--life_expectancy_historic',\n",
       " 'ddf--gapminder--hist_lex',\n",
       " 'ddf--gapminder--misconception_surveys',\n",
       " 'ddf--unhcr--population_statistics',\n",
       " 'ddf--unpop--international_migrant_stock',\n",
       " 'ddf--cred--em_dat',\n",
       " 'ddf--ihme--edu_attainment',\n",
       " 'ddf--unpop--family_planning_indicators',\n",
       " 'ddf--unicef--immunization',\n",
       " 'ddf--gapminder--wpp_annual_indicators',\n",
       " 'ddf--imf--weo',\n",
       " 'ddf--wb--edu',\n",
       " 'ddf--unaids--aidsinfo',\n",
       " 'ddf--uis--stats',\n",
       " 'ddf--pwt--penn_world_table',\n",
       " 'ddf--global_data_lab--area_db',\n",
       " 'ddf--gapminder--dont_panic_poverty',\n",
       " 'ddf--cdiac--co2',\n",
       " 'ddf--unfao--fra',\n",
       " 'ddf--sodertornsmodellen',\n",
       " 'ddf--igme--cme',\n",
       " 'ddf--who--child_causes_of_death',\n",
       " 'ddf--who--global_health_expenditure',\n",
       " 'ddf--who--violence_injury_prevention',\n",
       " 'ddf--gapminder--geo_entity_domain',\n",
       " 'ddf--ihme--global_burden_disease_death_rate',\n",
       " 'ddf--ihme--global_burden_disease_death_number',\n",
       " 'ddf--iarc--ci5',\n",
       " 'ddf--ihme--global_burden_disease_maternal_mortality',\n",
       " 'ddf--ihme--global_burden_disease_disability_life_lost',\n",
       " 'ddf--ihme--global_burden_disease_cancer_incidence',\n",
       " 'ddf--ihme--global_burden_disease_etiology',\n",
       " 'ddf--ihme--global_burden_disease_impairment',\n",
       " 'ddf--ihme--global_burden_disease_ylds_by_risk',\n",
       " 'ddf--ihme--global_burden_disease_ylls_by_risk',\n",
       " 'ddf--ihme--global_burden_disease_dalys_by_risk',\n",
       " 'ddf--ihme--global_burden_disease_deaths_by_risk',\n",
       " 'ddf--gapminder--legal_slavery',\n",
       " 'ddf--who--gho',\n",
       " 'ddf--gapminder--atlas_of_economic_complexity',\n",
       " 'ddf--harvard--country_complexity_rankings',\n",
       " 'ddf--mit--economic_complexity_rankings',\n",
       " 'ddf--transparency_international--corruption_perception_index',\n",
       " 'ddf--unfao--aquastat',\n",
       " 'ddf--gapminder--static_assets',\n",
       " 'ddf--gapminder--fertility_rate_historic',\n",
       " 'ddf--sodertorn--stockholm_lan_basomrade',\n",
       " 'ddf--energy_flows_usa',\n",
       " 'ddf--gdl--area_db',\n",
       " 'ddf--imperial--metabolic',\n",
       " 'ddf--gapminder--hist_u5mr',\n",
       " 'ddf--gapminder--hist_maternal_mort',\n",
       " 'ddf--gapminder--hist_marriage_age',\n",
       " 'ddf--gapminder--hist_imr',\n",
       " 'ddf--gapminder--hist_hiv',\n",
       " 'ddf--gapminder--hist_gdppc',\n",
       " 'ddf--gadm--geo_boundaries']"
      ]
     },
     "execution_count": 64,
     "metadata": {},
     "output_type": "execute_result"
    }
   ],
   "source": [
    "repos"
   ]
  },
  {
   "cell_type": "markdown",
   "id": "72fcb29c-5bac-4ae1-b70a-d634e9f6effa",
   "metadata": {},
   "source": [
    "## For each repo"
   ]
  },
  {
   "cell_type": "code",
   "execution_count": 65,
   "id": "827fe703-ddc7-4cbd-97be-b8cdfacb2b3e",
   "metadata": {},
   "outputs": [],
   "source": [
    "import yaml"
   ]
  },
  {
   "cell_type": "code",
   "execution_count": 66,
   "id": "2cefa44f-4a76-45bb-a264-9630f174753e",
   "metadata": {},
   "outputs": [],
   "source": [
    "import os"
   ]
  },
  {
   "cell_type": "code",
   "execution_count": 67,
   "id": "cc8e6fc5-e8cb-4ff5-9181-ae3546bdbe1c",
   "metadata": {},
   "outputs": [],
   "source": [
    "from pathlib import Path"
   ]
  },
  {
   "cell_type": "code",
   "execution_count": 68,
   "id": "c14051da-1ac1-4593-b836-9eecece4cb9a",
   "metadata": {},
   "outputs": [],
   "source": [
    "from etl import paths"
   ]
  },
  {
   "cell_type": "code",
   "execution_count": 69,
   "id": "2c892d8f-d99f-43b6-a115-118d36e3ce1c",
   "metadata": {},
   "outputs": [],
   "source": [
    "with open(paths.DAG_FILE) as istream:\n",
    "    dag = yaml.safe_load(istream)"
   ]
  },
  {
   "cell_type": "code",
   "execution_count": 70,
   "id": "449e1e5f-7f41-4c0e-b710-54674a0bbfd9",
   "metadata": {},
   "outputs": [
    {
     "data": {
      "text/plain": [
       "{'data://garden/owid/latest/covid': ['etag://raw.githubusercontent.com/owid/covid-19-data/master/public/data/owid-covid-data.csv'],\n",
       " 'data://garden/owid/latest/key_indicators': ['data://meadow/hyde/2017/baseline',\n",
       "  'data://meadow/gapminder/2019-12-10/population',\n",
       "  'data://reference'],\n",
       " 'data://garden/who/2021-07-01/ghe': ['data://meadow/who/2021-07-01/ghe',\n",
       "  'data://reference'],\n",
       " 'data://meadow/gapminder/2019-12-10/population': ['walden://gapminder/2019-12-10/population'],\n",
       " 'data://meadow/hyde/2017/baseline': ['walden://hyde/2017/baseline',\n",
       "  'data://meadow/hyde/2017/general_files'],\n",
       " 'data://meadow/hyde/2017/general_files': ['walden://hyde/2017/general_files'],\n",
       " 'data://meadow/who/2021-07-01/ghe': ['walden://who/2021-07-01/ghe'],\n",
       " 'data://meadow/who/2021-07-01/gho': ['walden://who/2021-07-01/gho'],\n",
       " 'data://meadow/wpp/2019/standard_projections': ['walden://wpp/2019/standard_projections'],\n",
       " 'grapher://who/2021-07-01/ghe': ['data://garden/who/2021-07-01/ghe']}"
      ]
     },
     "execution_count": 70,
     "metadata": {},
     "output_type": "execute_result"
    }
   ],
   "source": [
    "dag[\"steps\"]"
   ]
  },
  {
   "cell_type": "code",
   "execution_count": 71,
   "id": "cb567e87-b502-401d-88a2-dd0407a5f7f7",
   "metadata": {},
   "outputs": [],
   "source": [
    "import sh"
   ]
  },
  {
   "cell_type": "code",
   "execution_count": 72,
   "id": "20acb4e4-fa8b-40d4-b02b-092dc9ba0ffd",
   "metadata": {},
   "outputs": [],
   "source": [
    "for repo in repos:\n",
    "    assert repo.startswith(\"ddf--\")\n",
    "    short_repo = repo[5:].replace(\"-\", \"_\")\n",
    "\n",
    "    # modify the DAG\n",
    "    github_step = f\"github://open-numbers/{repo}\"\n",
    "    meadow_step = f\"data://meadow/open_numbers/latest/{short_repo}\"\n",
    "    dag[\"steps\"][meadow_step] = [github_step]\n",
    "\n",
    "    # symlink the matching python modules\n",
    "    module_path = paths.STEP_DIR / \"data/meadow/open_numbers/latest\"\n",
    "    module_path.mkdir(parents=True, exist_ok=True)\n",
    "    module_file = module_path / f\"{short_repo}.py\"\n",
    "\n",
    "    base_file = paths.BASE_DIR / \"etl/open_numbers.py\"\n",
    "    sh.rm(\"-f\", module_file.as_posix())\n",
    "    sh.ln(\n",
    "        \"-s\", \"../../../../open_numbers.py\", module_file.name, _cwd=module_file.parent\n",
    "    )"
   ]
  },
  {
   "cell_type": "code",
   "execution_count": 73,
   "id": "2e004df8-229e-4871-af31-ddfc67fc34ec",
   "metadata": {},
   "outputs": [
    {
     "data": {
      "text/plain": [
       "{'steps': {'data://garden/owid/latest/covid': ['etag://raw.githubusercontent.com/owid/covid-19-data/master/public/data/owid-covid-data.csv'],\n",
       "  'data://garden/owid/latest/key_indicators': ['data://meadow/hyde/2017/baseline',\n",
       "   'data://meadow/gapminder/2019-12-10/population',\n",
       "   'data://reference'],\n",
       "  'data://garden/who/2021-07-01/ghe': ['data://meadow/who/2021-07-01/ghe',\n",
       "   'data://reference'],\n",
       "  'data://meadow/gapminder/2019-12-10/population': ['walden://gapminder/2019-12-10/population'],\n",
       "  'data://meadow/hyde/2017/baseline': ['walden://hyde/2017/baseline',\n",
       "   'data://meadow/hyde/2017/general_files'],\n",
       "  'data://meadow/hyde/2017/general_files': ['walden://hyde/2017/general_files'],\n",
       "  'data://meadow/who/2021-07-01/ghe': ['walden://who/2021-07-01/ghe'],\n",
       "  'data://meadow/who/2021-07-01/gho': ['walden://who/2021-07-01/gho'],\n",
       "  'data://meadow/wpp/2019/standard_projections': ['walden://wpp/2019/standard_projections'],\n",
       "  'grapher://who/2021-07-01/ghe': ['data://garden/who/2021-07-01/ghe'],\n",
       "  'data://meadow/open_numbers/latest/worldbank__povcalnet': ['github://open-numbers/ddf--worldbank--povcalnet'],\n",
       "  'data://meadow/open_numbers/latest/oxford__covid_government_response': ['github://open-numbers/ddf--oxford--covid_government_response'],\n",
       "  'data://meadow/open_numbers/latest/gapminder__systema_globalis': ['github://open-numbers/ddf--gapminder--systema_globalis'],\n",
       "  'data://meadow/open_numbers/latest/open_numbers__world_development_indicators': ['github://open-numbers/ddf--open_numbers--world_development_indicators'],\n",
       "  'data://meadow/open_numbers/latest/open_numbers__covid_19_geographic_distribution': ['github://open-numbers/ddf--open_numbers--covid_19_geographic_distribution'],\n",
       "  'data://meadow/open_numbers/latest/world_bank__world_development_indicators': ['github://open-numbers/ddf--world_bank--world_development_indicators'],\n",
       "  'data://meadow/open_numbers/latest/clio_infra__indicators': ['github://open-numbers/ddf--clio_infra--indicators'],\n",
       "  'data://meadow/open_numbers/latest/ilo__ilostat': ['github://open-numbers/ddf--ilo--ilostat'],\n",
       "  'data://meadow/open_numbers/latest/oecd__dac': ['github://open-numbers/ddf--oecd--dac'],\n",
       "  'data://meadow/open_numbers/latest/gapminder__fasttrack': ['github://open-numbers/ddf--gapminder--fasttrack'],\n",
       "  'data://meadow/open_numbers/latest/open_numbers__covid_government_response': ['github://open-numbers/ddf--open_numbers--covid_government_response'],\n",
       "  'data://meadow/open_numbers/latest/unstats__sdg_indicators': ['github://open-numbers/ddf--unstats--sdg_indicators'],\n",
       "  'data://meadow/open_numbers/latest/who__tb_burden_estimates': ['github://open-numbers/ddf--who--tb_burden_estimates'],\n",
       "  'data://meadow/open_numbers/latest/global_carbon_project__global_carbon_budget': ['github://open-numbers/ddf--global_carbon_project--global_carbon_budget'],\n",
       "  'data://meadow/open_numbers/latest/gapminder__child_mortality': ['github://open-numbers/ddf--gapminder--child_mortality'],\n",
       "  'data://meadow/open_numbers/latest/gapminder__gini': ['github://open-numbers/ddf--gapminder--gini'],\n",
       "  'data://meadow/open_numbers/latest/gapminder__population_historic': ['github://open-numbers/ddf--gapminder--population_historic'],\n",
       "  'data://meadow/open_numbers/latest/gapminder__gdp_per_capita_cppp': ['github://open-numbers/ddf--gapminder--gdp_per_capita_cppp'],\n",
       "  'data://meadow/open_numbers/latest/gapminder__life_expectancy': ['github://open-numbers/ddf--gapminder--life_expectancy'],\n",
       "  'data://meadow/open_numbers/latest/unpop__world_population_prospects': ['github://open-numbers/ddf--unpop--world_population_prospects'],\n",
       "  'data://meadow/open_numbers/latest/cait__historical_emissions': ['github://open-numbers/ddf--cait--historical_emissions'],\n",
       "  'data://meadow/open_numbers/latest/gapminder__co2_emission': ['github://open-numbers/ddf--gapminder--co2_emission'],\n",
       "  'data://meadow/open_numbers/latest/gapminder__population': ['github://open-numbers/ddf--gapminder--population'],\n",
       "  'data://meadow/open_numbers/latest/unfao__faostat': ['github://open-numbers/ddf--unfao--faostat'],\n",
       "  'data://meadow/open_numbers/latest/semio__dag_test': ['github://open-numbers/ddf--semio--dag_test'],\n",
       "  'data://meadow/open_numbers/latest/gapminder__population_by_income_group': ['github://open-numbers/ddf--gapminder--population_by_income_group'],\n",
       "  'data://meadow/open_numbers/latest/open_numbers': ['github://open-numbers/ddf--open_numbers'],\n",
       "  'data://meadow/open_numbers/latest/gapminder__gapminder_world': ['github://open-numbers/ddf--gapminder--gapminder_world'],\n",
       "  'data://meadow/open_numbers/latest/ecdc__covid_19_geographic_distribution': ['github://open-numbers/ddf--ecdc--covid_19_geographic_distribution'],\n",
       "  'data://meadow/open_numbers/latest/gapminder__ontology': ['github://open-numbers/ddf--gapminder--ontology'],\n",
       "  'data://meadow/open_numbers/latest/ihme__lex': ['github://open-numbers/ddf--ihme--lex'],\n",
       "  'data://meadow/open_numbers/latest/ihme__death_cause_compact': ['github://open-numbers/ddf--ihme--death_cause_compact'],\n",
       "  'data://meadow/open_numbers/latest/gapminder__bp_energy': ['github://open-numbers/ddf--gapminder--bp_energy'],\n",
       "  'data://meadow/open_numbers/latest/bp__energy': ['github://open-numbers/ddf--bp--energy'],\n",
       "  'data://meadow/open_numbers/latest/gapminder__fertility_rate': ['github://open-numbers/ddf--gapminder--fertility_rate'],\n",
       "  'data://meadow/open_numbers/latest/undp__hdi': ['github://open-numbers/ddf--undp--hdi'],\n",
       "  'data://meadow/open_numbers/latest/gapminder__ilostat': ['github://open-numbers/ddf--gapminder--ilostat'],\n",
       "  'data://meadow/open_numbers/latest/open_numbers__yearly_data_as_daily': ['github://open-numbers/ddf--open_numbers--yearly_data_as_daily'],\n",
       "  'data://meadow/open_numbers/latest/gapminder__unpop_wpp': ['github://open-numbers/ddf--gapminder--unpop_wpp'],\n",
       "  'data://meadow/open_numbers/latest/iucn__red_list': ['github://open-numbers/ddf--iucn--red_list'],\n",
       "  'data://meadow/open_numbers/latest/gapminder__suicide_homicide_traffic_death_rates': ['github://open-numbers/ddf--gapminder--suicide_homicide_traffic_death_rates'],\n",
       "  'data://meadow/open_numbers/latest/gapminder__unfao_faostat': ['github://open-numbers/ddf--gapminder--unfao_faostat'],\n",
       "  'data://meadow/open_numbers/latest/gapminder__ihme_lex': ['github://open-numbers/ddf--gapminder--ihme_lex'],\n",
       "  'data://meadow/open_numbers/latest/gapminder__ihme_edu_attainment': ['github://open-numbers/ddf--gapminder--ihme_edu_attainment'],\n",
       "  'data://meadow/open_numbers/latest/gapminder__gbd_indicators': ['github://open-numbers/ddf--gapminder--gbd_indicators'],\n",
       "  'data://meadow/open_numbers/latest/gapminder__fao_fra': ['github://open-numbers/ddf--gapminder--fao_fra'],\n",
       "  'data://meadow/open_numbers/latest/gapminder__life_expectancy_historic': ['github://open-numbers/ddf--gapminder--life_expectancy_historic'],\n",
       "  'data://meadow/open_numbers/latest/gapminder__hist_lex': ['github://open-numbers/ddf--gapminder--hist_lex'],\n",
       "  'data://meadow/open_numbers/latest/gapminder__misconception_surveys': ['github://open-numbers/ddf--gapminder--misconception_surveys'],\n",
       "  'data://meadow/open_numbers/latest/unhcr__population_statistics': ['github://open-numbers/ddf--unhcr--population_statistics'],\n",
       "  'data://meadow/open_numbers/latest/unpop__international_migrant_stock': ['github://open-numbers/ddf--unpop--international_migrant_stock'],\n",
       "  'data://meadow/open_numbers/latest/cred__em_dat': ['github://open-numbers/ddf--cred--em_dat'],\n",
       "  'data://meadow/open_numbers/latest/ihme__edu_attainment': ['github://open-numbers/ddf--ihme--edu_attainment'],\n",
       "  'data://meadow/open_numbers/latest/unpop__family_planning_indicators': ['github://open-numbers/ddf--unpop--family_planning_indicators'],\n",
       "  'data://meadow/open_numbers/latest/unicef__immunization': ['github://open-numbers/ddf--unicef--immunization'],\n",
       "  'data://meadow/open_numbers/latest/gapminder__wpp_annual_indicators': ['github://open-numbers/ddf--gapminder--wpp_annual_indicators'],\n",
       "  'data://meadow/open_numbers/latest/imf__weo': ['github://open-numbers/ddf--imf--weo'],\n",
       "  'data://meadow/open_numbers/latest/wb__edu': ['github://open-numbers/ddf--wb--edu'],\n",
       "  'data://meadow/open_numbers/latest/unaids__aidsinfo': ['github://open-numbers/ddf--unaids--aidsinfo'],\n",
       "  'data://meadow/open_numbers/latest/uis__stats': ['github://open-numbers/ddf--uis--stats'],\n",
       "  'data://meadow/open_numbers/latest/pwt__penn_world_table': ['github://open-numbers/ddf--pwt--penn_world_table'],\n",
       "  'data://meadow/open_numbers/latest/global_data_lab__area_db': ['github://open-numbers/ddf--global_data_lab--area_db'],\n",
       "  'data://meadow/open_numbers/latest/gapminder__dont_panic_poverty': ['github://open-numbers/ddf--gapminder--dont_panic_poverty'],\n",
       "  'data://meadow/open_numbers/latest/cdiac__co2': ['github://open-numbers/ddf--cdiac--co2'],\n",
       "  'data://meadow/open_numbers/latest/unfao__fra': ['github://open-numbers/ddf--unfao--fra'],\n",
       "  'data://meadow/open_numbers/latest/sodertornsmodellen': ['github://open-numbers/ddf--sodertornsmodellen'],\n",
       "  'data://meadow/open_numbers/latest/igme__cme': ['github://open-numbers/ddf--igme--cme'],\n",
       "  'data://meadow/open_numbers/latest/who__child_causes_of_death': ['github://open-numbers/ddf--who--child_causes_of_death'],\n",
       "  'data://meadow/open_numbers/latest/who__global_health_expenditure': ['github://open-numbers/ddf--who--global_health_expenditure'],\n",
       "  'data://meadow/open_numbers/latest/who__violence_injury_prevention': ['github://open-numbers/ddf--who--violence_injury_prevention'],\n",
       "  'data://meadow/open_numbers/latest/gapminder__geo_entity_domain': ['github://open-numbers/ddf--gapminder--geo_entity_domain'],\n",
       "  'data://meadow/open_numbers/latest/ihme__global_burden_disease_death_rate': ['github://open-numbers/ddf--ihme--global_burden_disease_death_rate'],\n",
       "  'data://meadow/open_numbers/latest/ihme__global_burden_disease_death_number': ['github://open-numbers/ddf--ihme--global_burden_disease_death_number'],\n",
       "  'data://meadow/open_numbers/latest/iarc__ci5': ['github://open-numbers/ddf--iarc--ci5'],\n",
       "  'data://meadow/open_numbers/latest/ihme__global_burden_disease_maternal_mortality': ['github://open-numbers/ddf--ihme--global_burden_disease_maternal_mortality'],\n",
       "  'data://meadow/open_numbers/latest/ihme__global_burden_disease_disability_life_lost': ['github://open-numbers/ddf--ihme--global_burden_disease_disability_life_lost'],\n",
       "  'data://meadow/open_numbers/latest/ihme__global_burden_disease_cancer_incidence': ['github://open-numbers/ddf--ihme--global_burden_disease_cancer_incidence'],\n",
       "  'data://meadow/open_numbers/latest/ihme__global_burden_disease_etiology': ['github://open-numbers/ddf--ihme--global_burden_disease_etiology'],\n",
       "  'data://meadow/open_numbers/latest/ihme__global_burden_disease_impairment': ['github://open-numbers/ddf--ihme--global_burden_disease_impairment'],\n",
       "  'data://meadow/open_numbers/latest/ihme__global_burden_disease_ylds_by_risk': ['github://open-numbers/ddf--ihme--global_burden_disease_ylds_by_risk'],\n",
       "  'data://meadow/open_numbers/latest/ihme__global_burden_disease_ylls_by_risk': ['github://open-numbers/ddf--ihme--global_burden_disease_ylls_by_risk'],\n",
       "  'data://meadow/open_numbers/latest/ihme__global_burden_disease_dalys_by_risk': ['github://open-numbers/ddf--ihme--global_burden_disease_dalys_by_risk'],\n",
       "  'data://meadow/open_numbers/latest/ihme__global_burden_disease_deaths_by_risk': ['github://open-numbers/ddf--ihme--global_burden_disease_deaths_by_risk'],\n",
       "  'data://meadow/open_numbers/latest/gapminder__legal_slavery': ['github://open-numbers/ddf--gapminder--legal_slavery'],\n",
       "  'data://meadow/open_numbers/latest/who__gho': ['github://open-numbers/ddf--who--gho'],\n",
       "  'data://meadow/open_numbers/latest/gapminder__atlas_of_economic_complexity': ['github://open-numbers/ddf--gapminder--atlas_of_economic_complexity'],\n",
       "  'data://meadow/open_numbers/latest/harvard__country_complexity_rankings': ['github://open-numbers/ddf--harvard--country_complexity_rankings'],\n",
       "  'data://meadow/open_numbers/latest/mit__economic_complexity_rankings': ['github://open-numbers/ddf--mit--economic_complexity_rankings'],\n",
       "  'data://meadow/open_numbers/latest/transparency_international__corruption_perception_index': ['github://open-numbers/ddf--transparency_international--corruption_perception_index'],\n",
       "  'data://meadow/open_numbers/latest/unfao__aquastat': ['github://open-numbers/ddf--unfao--aquastat'],\n",
       "  'data://meadow/open_numbers/latest/gapminder__static_assets': ['github://open-numbers/ddf--gapminder--static_assets'],\n",
       "  'data://meadow/open_numbers/latest/gapminder__fertility_rate_historic': ['github://open-numbers/ddf--gapminder--fertility_rate_historic'],\n",
       "  'data://meadow/open_numbers/latest/sodertorn__stockholm_lan_basomrade': ['github://open-numbers/ddf--sodertorn--stockholm_lan_basomrade'],\n",
       "  'data://meadow/open_numbers/latest/energy_flows_usa': ['github://open-numbers/ddf--energy_flows_usa'],\n",
       "  'data://meadow/open_numbers/latest/gdl__area_db': ['github://open-numbers/ddf--gdl--area_db'],\n",
       "  'data://meadow/open_numbers/latest/imperial__metabolic': ['github://open-numbers/ddf--imperial--metabolic'],\n",
       "  'data://meadow/open_numbers/latest/gapminder__hist_u5mr': ['github://open-numbers/ddf--gapminder--hist_u5mr'],\n",
       "  'data://meadow/open_numbers/latest/gapminder__hist_maternal_mort': ['github://open-numbers/ddf--gapminder--hist_maternal_mort'],\n",
       "  'data://meadow/open_numbers/latest/gapminder__hist_marriage_age': ['github://open-numbers/ddf--gapminder--hist_marriage_age'],\n",
       "  'data://meadow/open_numbers/latest/gapminder__hist_imr': ['github://open-numbers/ddf--gapminder--hist_imr'],\n",
       "  'data://meadow/open_numbers/latest/gapminder__hist_hiv': ['github://open-numbers/ddf--gapminder--hist_hiv'],\n",
       "  'data://meadow/open_numbers/latest/gapminder__hist_gdppc': ['github://open-numbers/ddf--gapminder--hist_gdppc'],\n",
       "  'data://meadow/open_numbers/latest/gadm__geo_boundaries': ['github://open-numbers/ddf--gadm--geo_boundaries']}}"
      ]
     },
     "execution_count": 73,
     "metadata": {},
     "output_type": "execute_result"
    }
   ],
   "source": [
    "dag"
   ]
  },
  {
   "cell_type": "markdown",
   "id": "458bdf21-b250-46e9-9336-4fc442478968",
   "metadata": {},
   "source": [
    "## Save the DAG"
   ]
  },
  {
   "cell_type": "code",
   "execution_count": 75,
   "id": "15c3af3f-4c0d-4827-bbac-48a563a6a3e1",
   "metadata": {},
   "outputs": [],
   "source": [
    "with open(paths.DAG_FILE.as_posix(), \"w\") as ostream:\n",
    "    yaml.safe_dump(dag, ostream)"
   ]
  },
  {
   "cell_type": "code",
   "execution_count": null,
   "id": "6bbd20b0-6c5f-473c-89d9-af2027ac3fa4",
   "metadata": {},
   "outputs": [],
   "source": []
  }
 ],
 "metadata": {
  "kernelspec": {
   "display_name": "Python 3 (ipykernel)",
   "language": "python",
   "name": "python3"
  },
  "language_info": {
   "codemirror_mode": {
    "name": "ipython",
    "version": 3
   },
   "file_extension": ".py",
   "mimetype": "text/x-python",
   "name": "python",
   "nbconvert_exporter": "python",
   "pygments_lexer": "ipython3",
   "version": "3.9.7"
  }
 },
 "nbformat": 4,
 "nbformat_minor": 5
}
