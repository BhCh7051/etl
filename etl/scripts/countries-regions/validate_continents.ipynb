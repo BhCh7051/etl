{
 "cells": [
  {
   "cell_type": "markdown",
   "metadata": {},
   "source": [
    "# Validate continents against grapher\n",
    "\n",
    "Make sure continents in our `countries_regions.csv` file are consistent with continent definitions in grapher."
   ]
  },
  {
   "cell_type": "code",
   "execution_count": null,
   "metadata": {},
   "outputs": [],
   "source": [
    "from init import *"
   ]
  },
  {
   "cell_type": "markdown",
   "metadata": {},
   "source": [
    "## Load all data"
   ]
  },
  {
   "cell_type": "code",
   "execution_count": null,
   "metadata": {},
   "outputs": [],
   "source": [
    "# continents from `country_name_tool_countrydata` table used as an input for `countries-regions` pipeline\n",
    "q = \"\"\"\n",
    "select\n",
    "    cd.owid_name,\n",
    "    cd.iso_alpha3,\n",
    "    ct.continent_name\n",
    "from country_name_tool_countrydata as cd\n",
    "join country_name_tool_continent as ct on cd.continent = ct.id\n",
    "\"\"\"\n",
    "cf = pd.read_sql(q, engine)"
   ]
  },
  {
   "cell_type": "code",
   "execution_count": null,
   "metadata": {},
   "outputs": [],
   "source": [
    "# continents from grapher\n",
    "q = \"\"\"\n",
    "select\n",
    "  dv.value as continent,\n",
    "  e.code as country_code,\n",
    "  e.name as country_name\n",
    "from data_values as dv\n",
    "join entities as e on dv.entityId = e.id\n",
    "where dv.variableId = 123\n",
    "\"\"\"\n",
    "gf = pd.read_sql(q, engine)"
   ]
  },
  {
   "cell_type": "code",
   "execution_count": null,
   "metadata": {},
   "outputs": [],
   "source": [
    "# continents from countries_regions.csv\n",
    "import pandas as pd\n",
    "from owid import catalog\n",
    "\n",
    "from etl.paths import DATA_DIR\n",
    "\n",
    "reference_dataset = catalog.Dataset(DATA_DIR / \"reference\")\n",
    "countries_regions = reference_dataset[\"countries_regions\"]"
   ]
  },
  {
   "cell_type": "markdown",
   "metadata": {},
   "source": [
    "## Difference between `country_name_tool_countrydata` and grapher"
   ]
  },
  {
   "cell_type": "code",
   "execution_count": null,
   "metadata": {},
   "outputs": [],
   "source": [
    "cf[\"owid_continent\"] = cf.iso_alpha3.map(gf.set_index(\"country_code\").continent)\n",
    "diffs = cf[cf.continent_name != cf.owid_continent].dropna(subset=[\"owid_continent\"])\n",
    "\n",
    "# there should be no differences!\n",
    "if len(diffs) != 0:\n",
    "    print(diffs)\n",
    "    raise Exception()"
   ]
  },
  {
   "cell_type": "markdown",
   "metadata": {},
   "source": [
    "## Difference between `countries_regions` and grapher\n",
    "\n",
    "Some of those differences are due to countries unassigned to continents in `countries_regions.csv`. Latest output\n",
    "\n",
    "```\n",
    "Africa\n",
    "countries_regions.csv - grapher: set()\n",
    "grapher - countries_regions.csv: {'OWID_SML', 'OWID_ERE'}\n",
    "\n",
    "Antarctica\n",
    "countries_regions.csv - grapher: {'SGS'}\n",
    "grapher - countries_regions.csv: {'ATA'}\n",
    "\n",
    "Asia\n",
    "countries_regions.csv - grapher: set()\n",
    "grapher - countries_regions.csv: {'OWID_CYN', 'OWID_SOS', 'OWID_NAG', 'OWID_AKD', 'OWID_ABK', 'OWID_KRU'}\n",
    "\n",
    "Europe\n",
    "countries_regions.csv - grapher: {'OWID_CYN'}\n",
    "grapher - countries_regions.csv: {'OWID_YGS', 'OWID_USS', 'OWID_SRM', 'OWID_TRS', 'OWID_SEK'}\n",
    "\n",
    "North America\n",
    "countries_regions.csv - grapher: set()\n",
    "grapher - countries_regions.csv: set()\n",
    "\n",
    "Oceania\n",
    "countries_regions.csv - grapher: {'OWID_MNS', 'OWID_PYA'}\n",
    "grapher - countries_regions.csv: set()\n",
    "\n",
    "South America\n",
    "countries_regions.csv - grapher: {'OWID_NLC'}\n",
    "grapher - countries_regions.csv: set()\n",
    "```"
   ]
  },
  {
   "cell_type": "code",
   "execution_count": null,
   "metadata": {},
   "outputs": [],
   "source": [
    "import json\n",
    "\n",
    "for continent, df in gf.groupby(\"continent\"):\n",
    "    cr_countries = json.loads(\n",
    "        countries_regions[countries_regions.name == continent].iloc[0].members\n",
    "    )\n",
    "\n",
    "    print(continent)\n",
    "    print(\"countries_regions.csv - grapher:\", set(cr_countries) - set(df.country_code))\n",
    "    print(\"grapher - countries_regions.csv:\", set(df.country_code) - set(cr_countries))\n",
    "    print()"
   ]
  }
 ],
 "metadata": {
  "interpreter": {
   "hash": "844e7496ece5f279b92e860ee31795b4810a8e6a6d9b1dd318e3a60c64167b55"
  },
  "kernelspec": {
   "display_name": "Python 3.9.10 ('.venv': poetry)",
   "language": "python",
   "name": "python3"
  },
  "language_info": {
   "codemirror_mode": {
    "name": "ipython",
    "version": 3
   },
   "file_extension": ".py",
   "mimetype": "text/x-python",
   "name": "python",
   "nbconvert_exporter": "python",
   "pygments_lexer": "ipython3",
   "version": "3.9.10"
  },
  "orig_nbformat": 4
 },
 "nbformat": 4,
 "nbformat_minor": 2
}
