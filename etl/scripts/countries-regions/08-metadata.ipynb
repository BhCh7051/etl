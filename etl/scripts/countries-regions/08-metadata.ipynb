{
 "cells": [
  {
   "cell_type": "code",
   "execution_count": 1,
   "source": [
    "from owid.catalog import Dataset\n",
    "from owid.catalog.meta import *\n",
    "from owid.catalog.variables import Variable\n",
    "from owid.catalog.tables import Table"
   ],
   "outputs": [],
   "metadata": {}
  },
  {
   "cell_type": "code",
   "execution_count": 2,
   "source": [
    "import pandas as pd"
   ],
   "outputs": [],
   "metadata": {}
  },
  {
   "cell_type": "code",
   "execution_count": 30,
   "source": [
    "target_dataset_path = \"../../../data/reference\""
   ],
   "outputs": [],
   "metadata": {}
  },
  {
   "cell_type": "code",
   "execution_count": 3,
   "source": [
    "df = pd.read_feather(\"intermediate/04-countries-with-continents.feather\")"
   ],
   "outputs": [],
   "metadata": {}
  },
  {
   "cell_type": "code",
   "execution_count": 4,
   "source": [
    "df"
   ],
   "outputs": [
    {
     "output_type": "execute_result",
     "data": {
      "text/html": [
       "<div>\n",
       "<style scoped>\n",
       "    .dataframe tbody tr th:only-of-type {\n",
       "        vertical-align: middle;\n",
       "    }\n",
       "\n",
       "    .dataframe tbody tr th {\n",
       "        vertical-align: top;\n",
       "    }\n",
       "\n",
       "    .dataframe thead th {\n",
       "        text-align: right;\n",
       "    }\n",
       "</style>\n",
       "<table border=\"1\" class=\"dataframe\">\n",
       "  <thead>\n",
       "    <tr style=\"text-align: right;\">\n",
       "      <th></th>\n",
       "      <th>code</th>\n",
       "      <th>name</th>\n",
       "      <th>iso_alpha2</th>\n",
       "      <th>iso_alpha3</th>\n",
       "      <th>imf_code</th>\n",
       "      <th>cow_letter</th>\n",
       "      <th>cow_code</th>\n",
       "      <th>unctad_code</th>\n",
       "      <th>marc_code</th>\n",
       "      <th>ncd_code</th>\n",
       "      <th>kansas_code</th>\n",
       "      <th>penn_code</th>\n",
       "      <th>wikidata_uri</th>\n",
       "      <th>wikidata_label</th>\n",
       "      <th>legacy_entity_id</th>\n",
       "      <th>legacy_country_id</th>\n",
       "      <th>members</th>\n",
       "    </tr>\n",
       "  </thead>\n",
       "  <tbody>\n",
       "    <tr>\n",
       "      <th>0</th>\n",
       "      <td>AFG</td>\n",
       "      <td>Afghanistan</td>\n",
       "      <td>AF</td>\n",
       "      <td>AFG</td>\n",
       "      <td>512</td>\n",
       "      <td>AFG</td>\n",
       "      <td>700</td>\n",
       "      <td>AFG</td>\n",
       "      <td>AF</td>\n",
       "      <td>AFGN</td>\n",
       "      <td>AFG</td>\n",
       "      <td>AFG</td>\n",
       "      <td>http://www.wikidata.org/entity/Q889</td>\n",
       "      <td>Afghanistan</td>\n",
       "      <td>15</td>\n",
       "      <td>562</td>\n",
       "      <td>None</td>\n",
       "    </tr>\n",
       "    <tr>\n",
       "      <th>1</th>\n",
       "      <td>ALA</td>\n",
       "      <td>Aland Islands</td>\n",
       "      <td>AX</td>\n",
       "      <td>ALA</td>\n",
       "      <td>&lt;NA&gt;</td>\n",
       "      <td>&lt;NA&gt;</td>\n",
       "      <td>&lt;NA&gt;</td>\n",
       "      <td>&lt;NA&gt;</td>\n",
       "      <td>&lt;NA&gt;</td>\n",
       "      <td>&lt;NA&gt;</td>\n",
       "      <td>&lt;NA&gt;</td>\n",
       "      <td>&lt;NA&gt;</td>\n",
       "      <td>http://www.wikidata.org/entity/Q5689</td>\n",
       "      <td>Åland</td>\n",
       "      <td>296</td>\n",
       "      <td>791</td>\n",
       "      <td>None</td>\n",
       "    </tr>\n",
       "    <tr>\n",
       "      <th>2</th>\n",
       "      <td>ALB</td>\n",
       "      <td>Albania</td>\n",
       "      <td>AL</td>\n",
       "      <td>ALB</td>\n",
       "      <td>914</td>\n",
       "      <td>ALB</td>\n",
       "      <td>339</td>\n",
       "      <td>ALB</td>\n",
       "      <td>AA</td>\n",
       "      <td>ALBN</td>\n",
       "      <td>ALB</td>\n",
       "      <td>ALB</td>\n",
       "      <td>http://www.wikidata.org/entity/Q222</td>\n",
       "      <td>Albania</td>\n",
       "      <td>16</td>\n",
       "      <td>565</td>\n",
       "      <td>None</td>\n",
       "    </tr>\n",
       "    <tr>\n",
       "      <th>3</th>\n",
       "      <td>DZA</td>\n",
       "      <td>Algeria</td>\n",
       "      <td>DZ</td>\n",
       "      <td>DZA</td>\n",
       "      <td>612</td>\n",
       "      <td>ALG</td>\n",
       "      <td>615</td>\n",
       "      <td>ALG</td>\n",
       "      <td>AE</td>\n",
       "      <td>ALGR</td>\n",
       "      <td>DZA</td>\n",
       "      <td>DZA</td>\n",
       "      <td>http://www.wikidata.org/entity/Q262</td>\n",
       "      <td>Algeria</td>\n",
       "      <td>17</td>\n",
       "      <td>619</td>\n",
       "      <td>None</td>\n",
       "    </tr>\n",
       "    <tr>\n",
       "      <th>4</th>\n",
       "      <td>ASM</td>\n",
       "      <td>American Samoa</td>\n",
       "      <td>AS</td>\n",
       "      <td>ASM</td>\n",
       "      <td>859</td>\n",
       "      <td>&lt;NA&gt;</td>\n",
       "      <td>&lt;NA&gt;</td>\n",
       "      <td>&lt;NA&gt;</td>\n",
       "      <td>AS</td>\n",
       "      <td>&lt;NA&gt;</td>\n",
       "      <td>ASM</td>\n",
       "      <td>ASM</td>\n",
       "      <td>http://www.wikidata.org/entity/Q16641</td>\n",
       "      <td>American Samoa</td>\n",
       "      <td>246</td>\n",
       "      <td>571</td>\n",
       "      <td>None</td>\n",
       "    </tr>\n",
       "    <tr>\n",
       "      <th>...</th>\n",
       "      <td>...</td>\n",
       "      <td>...</td>\n",
       "      <td>...</td>\n",
       "      <td>...</td>\n",
       "      <td>...</td>\n",
       "      <td>...</td>\n",
       "      <td>...</td>\n",
       "      <td>...</td>\n",
       "      <td>...</td>\n",
       "      <td>...</td>\n",
       "      <td>...</td>\n",
       "      <td>...</td>\n",
       "      <td>...</td>\n",
       "      <td>...</td>\n",
       "      <td>...</td>\n",
       "      <td>...</td>\n",
       "      <td>...</td>\n",
       "    </tr>\n",
       "    <tr>\n",
       "      <th>291</th>\n",
       "      <td>OWID_ASI</td>\n",
       "      <td>Asia</td>\n",
       "      <td>&lt;NA&gt;</td>\n",
       "      <td>&lt;NA&gt;</td>\n",
       "      <td>&lt;NA&gt;</td>\n",
       "      <td>&lt;NA&gt;</td>\n",
       "      <td>&lt;NA&gt;</td>\n",
       "      <td>&lt;NA&gt;</td>\n",
       "      <td>&lt;NA&gt;</td>\n",
       "      <td>&lt;NA&gt;</td>\n",
       "      <td>&lt;NA&gt;</td>\n",
       "      <td>&lt;NA&gt;</td>\n",
       "      <td>&lt;NA&gt;</td>\n",
       "      <td>&lt;NA&gt;</td>\n",
       "      <td>275</td>\n",
       "      <td>&lt;NA&gt;</td>\n",
       "      <td>[\"AFG\", \"ARM\", \"AZE\", \"BHR\", \"BGD\", \"BTN\", \"IO...</td>\n",
       "    </tr>\n",
       "    <tr>\n",
       "      <th>292</th>\n",
       "      <td>OWID_EUR</td>\n",
       "      <td>Europe</td>\n",
       "      <td>&lt;NA&gt;</td>\n",
       "      <td>&lt;NA&gt;</td>\n",
       "      <td>&lt;NA&gt;</td>\n",
       "      <td>&lt;NA&gt;</td>\n",
       "      <td>&lt;NA&gt;</td>\n",
       "      <td>&lt;NA&gt;</td>\n",
       "      <td>&lt;NA&gt;</td>\n",
       "      <td>&lt;NA&gt;</td>\n",
       "      <td>&lt;NA&gt;</td>\n",
       "      <td>&lt;NA&gt;</td>\n",
       "      <td>&lt;NA&gt;</td>\n",
       "      <td>&lt;NA&gt;</td>\n",
       "      <td>276</td>\n",
       "      <td>&lt;NA&gt;</td>\n",
       "      <td>[\"ALA\", \"ALB\", \"AND\", \"AUT\", \"OWID_AUH\", \"OWID...</td>\n",
       "    </tr>\n",
       "    <tr>\n",
       "      <th>293</th>\n",
       "      <td>OWID_LAM</td>\n",
       "      <td>Latin America</td>\n",
       "      <td>&lt;NA&gt;</td>\n",
       "      <td>&lt;NA&gt;</td>\n",
       "      <td>&lt;NA&gt;</td>\n",
       "      <td>&lt;NA&gt;</td>\n",
       "      <td>&lt;NA&gt;</td>\n",
       "      <td>&lt;NA&gt;</td>\n",
       "      <td>&lt;NA&gt;</td>\n",
       "      <td>&lt;NA&gt;</td>\n",
       "      <td>&lt;NA&gt;</td>\n",
       "      <td>&lt;NA&gt;</td>\n",
       "      <td>&lt;NA&gt;</td>\n",
       "      <td>&lt;NA&gt;</td>\n",
       "      <td>5403</td>\n",
       "      <td>&lt;NA&gt;</td>\n",
       "      <td>[\"ARG\", \"BOL\", \"BRA\", \"OWID_NLC\", \"CHL\", \"COL\"...</td>\n",
       "    </tr>\n",
       "    <tr>\n",
       "      <th>294</th>\n",
       "      <td>OWID_NAM</td>\n",
       "      <td>North America</td>\n",
       "      <td>&lt;NA&gt;</td>\n",
       "      <td>&lt;NA&gt;</td>\n",
       "      <td>&lt;NA&gt;</td>\n",
       "      <td>&lt;NA&gt;</td>\n",
       "      <td>&lt;NA&gt;</td>\n",
       "      <td>&lt;NA&gt;</td>\n",
       "      <td>&lt;NA&gt;</td>\n",
       "      <td>&lt;NA&gt;</td>\n",
       "      <td>&lt;NA&gt;</td>\n",
       "      <td>&lt;NA&gt;</td>\n",
       "      <td>&lt;NA&gt;</td>\n",
       "      <td>&lt;NA&gt;</td>\n",
       "      <td>294</td>\n",
       "      <td>&lt;NA&gt;</td>\n",
       "      <td>[\"AIA\", \"ATG\", \"ABW\", \"BHS\", \"BRB\", \"BLZ\", \"BM...</td>\n",
       "    </tr>\n",
       "    <tr>\n",
       "      <th>295</th>\n",
       "      <td>OWID_OCE</td>\n",
       "      <td>Oceania</td>\n",
       "      <td>&lt;NA&gt;</td>\n",
       "      <td>&lt;NA&gt;</td>\n",
       "      <td>&lt;NA&gt;</td>\n",
       "      <td>&lt;NA&gt;</td>\n",
       "      <td>&lt;NA&gt;</td>\n",
       "      <td>&lt;NA&gt;</td>\n",
       "      <td>&lt;NA&gt;</td>\n",
       "      <td>&lt;NA&gt;</td>\n",
       "      <td>&lt;NA&gt;</td>\n",
       "      <td>&lt;NA&gt;</td>\n",
       "      <td>&lt;NA&gt;</td>\n",
       "      <td>&lt;NA&gt;</td>\n",
       "      <td>277</td>\n",
       "      <td>&lt;NA&gt;</td>\n",
       "      <td>[\"ASM\", \"AUS\", \"COK\", \"FJI\", \"PYF\", \"GUM\", \"KI...</td>\n",
       "    </tr>\n",
       "  </tbody>\n",
       "</table>\n",
       "<p>296 rows × 17 columns</p>\n",
       "</div>"
      ],
      "text/plain": [
       "         code            name iso_alpha2 iso_alpha3  imf_code cow_letter  \\\n",
       "0         AFG     Afghanistan         AF        AFG       512        AFG   \n",
       "1         ALA   Aland Islands         AX        ALA      <NA>       <NA>   \n",
       "2         ALB         Albania         AL        ALB       914        ALB   \n",
       "3         DZA         Algeria         DZ        DZA       612        ALG   \n",
       "4         ASM  American Samoa         AS        ASM       859       <NA>   \n",
       "..        ...             ...        ...        ...       ...        ...   \n",
       "291  OWID_ASI            Asia       <NA>       <NA>      <NA>       <NA>   \n",
       "292  OWID_EUR          Europe       <NA>       <NA>      <NA>       <NA>   \n",
       "293  OWID_LAM   Latin America       <NA>       <NA>      <NA>       <NA>   \n",
       "294  OWID_NAM   North America       <NA>       <NA>      <NA>       <NA>   \n",
       "295  OWID_OCE         Oceania       <NA>       <NA>      <NA>       <NA>   \n",
       "\n",
       "     cow_code unctad_code marc_code ncd_code kansas_code penn_code  \\\n",
       "0         700         AFG        AF     AFGN         AFG       AFG   \n",
       "1        <NA>        <NA>      <NA>     <NA>        <NA>      <NA>   \n",
       "2         339         ALB        AA     ALBN         ALB       ALB   \n",
       "3         615         ALG        AE     ALGR         DZA       DZA   \n",
       "4        <NA>        <NA>        AS     <NA>         ASM       ASM   \n",
       "..        ...         ...       ...      ...         ...       ...   \n",
       "291      <NA>        <NA>      <NA>     <NA>        <NA>      <NA>   \n",
       "292      <NA>        <NA>      <NA>     <NA>        <NA>      <NA>   \n",
       "293      <NA>        <NA>      <NA>     <NA>        <NA>      <NA>   \n",
       "294      <NA>        <NA>      <NA>     <NA>        <NA>      <NA>   \n",
       "295      <NA>        <NA>      <NA>     <NA>        <NA>      <NA>   \n",
       "\n",
       "                              wikidata_uri  wikidata_label  legacy_entity_id  \\\n",
       "0      http://www.wikidata.org/entity/Q889     Afghanistan                15   \n",
       "1     http://www.wikidata.org/entity/Q5689           Åland               296   \n",
       "2      http://www.wikidata.org/entity/Q222         Albania                16   \n",
       "3      http://www.wikidata.org/entity/Q262         Algeria                17   \n",
       "4    http://www.wikidata.org/entity/Q16641  American Samoa               246   \n",
       "..                                     ...             ...               ...   \n",
       "291                                   <NA>            <NA>               275   \n",
       "292                                   <NA>            <NA>               276   \n",
       "293                                   <NA>            <NA>              5403   \n",
       "294                                   <NA>            <NA>               294   \n",
       "295                                   <NA>            <NA>               277   \n",
       "\n",
       "     legacy_country_id                                            members  \n",
       "0                  562                                               None  \n",
       "1                  791                                               None  \n",
       "2                  565                                               None  \n",
       "3                  619                                               None  \n",
       "4                  571                                               None  \n",
       "..                 ...                                                ...  \n",
       "291               <NA>  [\"AFG\", \"ARM\", \"AZE\", \"BHR\", \"BGD\", \"BTN\", \"IO...  \n",
       "292               <NA>  [\"ALA\", \"ALB\", \"AND\", \"AUT\", \"OWID_AUH\", \"OWID...  \n",
       "293               <NA>  [\"ARG\", \"BOL\", \"BRA\", \"OWID_NLC\", \"CHL\", \"COL\"...  \n",
       "294               <NA>  [\"AIA\", \"ATG\", \"ABW\", \"BHS\", \"BRB\", \"BLZ\", \"BM...  \n",
       "295               <NA>  [\"ASM\", \"AUS\", \"COK\", \"FJI\", \"PYF\", \"GUM\", \"KI...  \n",
       "\n",
       "[296 rows x 17 columns]"
      ]
     },
     "metadata": {},
     "execution_count": 4
    }
   ],
   "metadata": {}
  },
  {
   "cell_type": "code",
   "execution_count": 5,
   "source": [
    "countries_regions = Table(df)"
   ],
   "outputs": [],
   "metadata": {}
  },
  {
   "cell_type": "code",
   "execution_count": 6,
   "source": [
    "isinstance(countries_regions, Table)"
   ],
   "outputs": [
    {
     "output_type": "execute_result",
     "data": {
      "text/plain": [
       "True"
      ]
     },
     "metadata": {},
     "execution_count": 6
    }
   ],
   "metadata": {}
  },
  {
   "cell_type": "code",
   "execution_count": 7,
   "source": [
    "isinstance(countries_regions.name, Variable)"
   ],
   "outputs": [
    {
     "output_type": "execute_result",
     "data": {
      "text/plain": [
       "True"
      ]
     },
     "metadata": {},
     "execution_count": 7
    }
   ],
   "metadata": {}
  },
  {
   "cell_type": "code",
   "execution_count": 8,
   "source": [
    "countries_regions.head()"
   ],
   "outputs": [
    {
     "output_type": "execute_result",
     "data": {
      "text/html": [
       "<div>\n",
       "<style scoped>\n",
       "    .dataframe tbody tr th:only-of-type {\n",
       "        vertical-align: middle;\n",
       "    }\n",
       "\n",
       "    .dataframe tbody tr th {\n",
       "        vertical-align: top;\n",
       "    }\n",
       "\n",
       "    .dataframe thead th {\n",
       "        text-align: right;\n",
       "    }\n",
       "</style>\n",
       "<table border=\"1\" class=\"dataframe\">\n",
       "  <thead>\n",
       "    <tr style=\"text-align: right;\">\n",
       "      <th></th>\n",
       "      <th>code</th>\n",
       "      <th>name</th>\n",
       "      <th>iso_alpha2</th>\n",
       "      <th>iso_alpha3</th>\n",
       "      <th>imf_code</th>\n",
       "      <th>cow_letter</th>\n",
       "      <th>cow_code</th>\n",
       "      <th>unctad_code</th>\n",
       "      <th>marc_code</th>\n",
       "      <th>ncd_code</th>\n",
       "      <th>kansas_code</th>\n",
       "      <th>penn_code</th>\n",
       "      <th>wikidata_uri</th>\n",
       "      <th>wikidata_label</th>\n",
       "      <th>legacy_entity_id</th>\n",
       "      <th>legacy_country_id</th>\n",
       "      <th>members</th>\n",
       "    </tr>\n",
       "  </thead>\n",
       "  <tbody>\n",
       "    <tr>\n",
       "      <th>0</th>\n",
       "      <td>AFG</td>\n",
       "      <td>Afghanistan</td>\n",
       "      <td>AF</td>\n",
       "      <td>AFG</td>\n",
       "      <td>512</td>\n",
       "      <td>AFG</td>\n",
       "      <td>700</td>\n",
       "      <td>AFG</td>\n",
       "      <td>AF</td>\n",
       "      <td>AFGN</td>\n",
       "      <td>AFG</td>\n",
       "      <td>AFG</td>\n",
       "      <td>http://www.wikidata.org/entity/Q889</td>\n",
       "      <td>Afghanistan</td>\n",
       "      <td>15</td>\n",
       "      <td>562</td>\n",
       "      <td>None</td>\n",
       "    </tr>\n",
       "    <tr>\n",
       "      <th>1</th>\n",
       "      <td>ALA</td>\n",
       "      <td>Aland Islands</td>\n",
       "      <td>AX</td>\n",
       "      <td>ALA</td>\n",
       "      <td>&lt;NA&gt;</td>\n",
       "      <td>&lt;NA&gt;</td>\n",
       "      <td>&lt;NA&gt;</td>\n",
       "      <td>&lt;NA&gt;</td>\n",
       "      <td>&lt;NA&gt;</td>\n",
       "      <td>&lt;NA&gt;</td>\n",
       "      <td>&lt;NA&gt;</td>\n",
       "      <td>&lt;NA&gt;</td>\n",
       "      <td>http://www.wikidata.org/entity/Q5689</td>\n",
       "      <td>Åland</td>\n",
       "      <td>296</td>\n",
       "      <td>791</td>\n",
       "      <td>None</td>\n",
       "    </tr>\n",
       "    <tr>\n",
       "      <th>2</th>\n",
       "      <td>ALB</td>\n",
       "      <td>Albania</td>\n",
       "      <td>AL</td>\n",
       "      <td>ALB</td>\n",
       "      <td>914</td>\n",
       "      <td>ALB</td>\n",
       "      <td>339</td>\n",
       "      <td>ALB</td>\n",
       "      <td>AA</td>\n",
       "      <td>ALBN</td>\n",
       "      <td>ALB</td>\n",
       "      <td>ALB</td>\n",
       "      <td>http://www.wikidata.org/entity/Q222</td>\n",
       "      <td>Albania</td>\n",
       "      <td>16</td>\n",
       "      <td>565</td>\n",
       "      <td>None</td>\n",
       "    </tr>\n",
       "    <tr>\n",
       "      <th>3</th>\n",
       "      <td>DZA</td>\n",
       "      <td>Algeria</td>\n",
       "      <td>DZ</td>\n",
       "      <td>DZA</td>\n",
       "      <td>612</td>\n",
       "      <td>ALG</td>\n",
       "      <td>615</td>\n",
       "      <td>ALG</td>\n",
       "      <td>AE</td>\n",
       "      <td>ALGR</td>\n",
       "      <td>DZA</td>\n",
       "      <td>DZA</td>\n",
       "      <td>http://www.wikidata.org/entity/Q262</td>\n",
       "      <td>Algeria</td>\n",
       "      <td>17</td>\n",
       "      <td>619</td>\n",
       "      <td>None</td>\n",
       "    </tr>\n",
       "    <tr>\n",
       "      <th>4</th>\n",
       "      <td>ASM</td>\n",
       "      <td>American Samoa</td>\n",
       "      <td>AS</td>\n",
       "      <td>ASM</td>\n",
       "      <td>859</td>\n",
       "      <td>&lt;NA&gt;</td>\n",
       "      <td>&lt;NA&gt;</td>\n",
       "      <td>&lt;NA&gt;</td>\n",
       "      <td>AS</td>\n",
       "      <td>&lt;NA&gt;</td>\n",
       "      <td>ASM</td>\n",
       "      <td>ASM</td>\n",
       "      <td>http://www.wikidata.org/entity/Q16641</td>\n",
       "      <td>American Samoa</td>\n",
       "      <td>246</td>\n",
       "      <td>571</td>\n",
       "      <td>None</td>\n",
       "    </tr>\n",
       "  </tbody>\n",
       "</table>\n",
       "</div>"
      ],
      "text/plain": [
       "  code            name iso_alpha2 iso_alpha3  imf_code cow_letter  cow_code  \\\n",
       "0  AFG     Afghanistan         AF        AFG       512        AFG       700   \n",
       "1  ALA   Aland Islands         AX        ALA      <NA>       <NA>      <NA>   \n",
       "2  ALB         Albania         AL        ALB       914        ALB       339   \n",
       "3  DZA         Algeria         DZ        DZA       612        ALG       615   \n",
       "4  ASM  American Samoa         AS        ASM       859       <NA>      <NA>   \n",
       "\n",
       "  unctad_code marc_code ncd_code kansas_code penn_code  \\\n",
       "0         AFG        AF     AFGN         AFG       AFG   \n",
       "1        <NA>      <NA>     <NA>        <NA>      <NA>   \n",
       "2         ALB        AA     ALBN         ALB       ALB   \n",
       "3         ALG        AE     ALGR         DZA       DZA   \n",
       "4        <NA>        AS     <NA>         ASM       ASM   \n",
       "\n",
       "                            wikidata_uri  wikidata_label  legacy_entity_id  \\\n",
       "0    http://www.wikidata.org/entity/Q889     Afghanistan                15   \n",
       "1   http://www.wikidata.org/entity/Q5689           Åland               296   \n",
       "2    http://www.wikidata.org/entity/Q222         Albania                16   \n",
       "3    http://www.wikidata.org/entity/Q262         Algeria                17   \n",
       "4  http://www.wikidata.org/entity/Q16641  American Samoa               246   \n",
       "\n",
       "   legacy_country_id members  \n",
       "0                562    None  \n",
       "1                791    None  \n",
       "2                565    None  \n",
       "3                619    None  \n",
       "4                571    None  "
      ]
     },
     "metadata": {},
     "execution_count": 8
    }
   ],
   "metadata": {
    "collapsed": true,
    "jupyter": {
     "outputs_hidden": true
    },
    "tags": []
   }
  },
  {
   "cell_type": "code",
   "execution_count": 9,
   "source": [
    "countries_regions.columns"
   ],
   "outputs": [
    {
     "output_type": "execute_result",
     "data": {
      "text/plain": [
       "Index(['code', 'name', 'iso_alpha2', 'iso_alpha3', 'imf_code', 'cow_letter',\n",
       "       'cow_code', 'unctad_code', 'marc_code', 'ncd_code', 'kansas_code',\n",
       "       'penn_code', 'wikidata_uri', 'wikidata_label', 'legacy_entity_id',\n",
       "       'legacy_country_id', 'members'],\n",
       "      dtype='object')"
      ]
     },
     "metadata": {},
     "execution_count": 9
    }
   ],
   "metadata": {}
  },
  {
   "cell_type": "code",
   "execution_count": 10,
   "source": [
    "def add_variable_metadata(\n",
    "    table: Table, column_name: str, title: str, description: str\n",
    ") -> None:\n",
    "    table[column_name].metadata.name = column_name\n",
    "    table[column_name].metadata.title = title\n",
    "    table[column_name].metadata.description = description"
   ],
   "outputs": [],
   "metadata": {}
  },
  {
   "cell_type": "code",
   "execution_count": 11,
   "source": [
    "add_variable_metadata(\n",
    "    countries_regions,\n",
    "    \"code\",\n",
    "    \"OWID geo code\",\n",
    "    \"\"\"The primary identifier for geographic entities at Our World In Data. Based on ISO alpha 3 country codes but extended with custom identifiers where necessary.\"\"\",\n",
    ")"
   ],
   "outputs": [],
   "metadata": {
    "collapsed": true,
    "jupyter": {
     "outputs_hidden": true
    },
    "tags": []
   }
  },
  {
   "cell_type": "code",
   "execution_count": 12,
   "source": [
    "add_variable_metadata(\n",
    "    countries_regions, \"name\", \"Name\", \"\"\"The preferred name for a country/region\"\"\"\n",
    ")"
   ],
   "outputs": [],
   "metadata": {}
  },
  {
   "cell_type": "code",
   "execution_count": 13,
   "source": [
    "add_variable_metadata(\n",
    "    countries_regions,\n",
    "    \"iso_alpha2\",\n",
    "    \"ISO 3166-1 alpha-2 code\",\n",
    "    \"\"\"International 2 letter ISO country code\"\"\",\n",
    ")"
   ],
   "outputs": [],
   "metadata": {}
  },
  {
   "cell_type": "code",
   "execution_count": 14,
   "source": [
    "add_variable_metadata(\n",
    "    countries_regions,\n",
    "    \"iso_alpha3\",\n",
    "    \"ISO 3166-1 alpha-3 code\",\n",
    "    \"\"\"International 3 letter ISO country code\"\"\",\n",
    ")"
   ],
   "outputs": [],
   "metadata": {}
  },
  {
   "cell_type": "code",
   "execution_count": 15,
   "source": [
    "add_variable_metadata(countries_regions, \"imf_code\", \"IMF code\", \"\"\"IMF country code\"\"\")"
   ],
   "outputs": [],
   "metadata": {}
  },
  {
   "cell_type": "code",
   "execution_count": 16,
   "source": [
    "add_variable_metadata(\n",
    "    countries_regions,\n",
    "    \"cow_letter\",\n",
    "    \"Correlates of War country code\",\n",
    "    \"\"\"Correlates of War project country code (StateAbb)\"\"\",\n",
    ")"
   ],
   "outputs": [],
   "metadata": {}
  },
  {
   "cell_type": "code",
   "execution_count": 17,
   "source": [
    "add_variable_metadata(\n",
    "    countries_regions,\n",
    "    \"cow_code\",\n",
    "    \"Correlates of War country id\",\n",
    "    \"\"\"Correlates of War project country identifier (CCode)\"\"\",\n",
    ")"
   ],
   "outputs": [],
   "metadata": {}
  },
  {
   "cell_type": "code",
   "execution_count": 18,
   "source": [
    "add_variable_metadata(\n",
    "    countries_regions,\n",
    "    \"unctad_code\",\n",
    "    \"UN CTAD code\",\n",
    "    \"\"\"United Nations Conference on Trade and Development country code\"\"\",\n",
    ")"
   ],
   "outputs": [],
   "metadata": {}
  },
  {
   "cell_type": "code",
   "execution_count": 19,
   "source": [
    "add_variable_metadata(\n",
    "    countries_regions,\n",
    "    \"marc_code\",\n",
    "    \"MARC code\",\n",
    "    \"\"\"Library of Congress MARC project country code\"\"\",\n",
    ")"
   ],
   "outputs": [],
   "metadata": {}
  },
  {
   "cell_type": "code",
   "execution_count": 20,
   "source": [
    "add_variable_metadata(countries_regions, \"kansas_code\", \"kansas_code\", \"\"\"\"\"\")"
   ],
   "outputs": [],
   "metadata": {}
  },
  {
   "cell_type": "code",
   "execution_count": 21,
   "source": [
    "add_variable_metadata(\n",
    "    countries_regions,\n",
    "    \"penn_code\",\n",
    "    \"PENN world table country code\",\n",
    "    \"\"\"Country code for the PENN World Talbe project by the University of Groningen\"\"\",\n",
    ")"
   ],
   "outputs": [],
   "metadata": {}
  },
  {
   "cell_type": "code",
   "execution_count": 22,
   "source": [
    "add_variable_metadata(\n",
    "    countries_regions,\n",
    "    \"wikidata_uri\",\n",
    "    \"Wikidata id\",\n",
    "    \"\"\"The Wikidata identifier for this country/region\"\"\",\n",
    ")"
   ],
   "outputs": [],
   "metadata": {}
  },
  {
   "cell_type": "code",
   "execution_count": 23,
   "source": [
    "add_variable_metadata(\n",
    "    countries_regions,\n",
    "    \"wikidata_label\",\n",
    "    \"Wikidata label\",\n",
    "    \"\"\"The Wikidata label (english language)\"\"\",\n",
    ")"
   ],
   "outputs": [],
   "metadata": {}
  },
  {
   "cell_type": "code",
   "execution_count": 25,
   "source": [
    "add_variable_metadata(\n",
    "    countries_regions,\n",
    "    \"legacy_country_id\",\n",
    "    \"Legacy OWID country table id\",\n",
    "    \"\"\"Used for matching legacy data that contained ids from the Our World In Data mysql country_name_tool_countrydata table\"\"\",\n",
    ")"
   ],
   "outputs": [],
   "metadata": {}
  },
  {
   "cell_type": "code",
   "execution_count": 26,
   "source": [
    "add_variable_metadata(\n",
    "    countries_regions,\n",
    "    \"legacy_entity_id\",\n",
    "    \"Legacy OWID entity table id\",\n",
    "    \"\"\"Used for matching legacy data that contained ids from the Our World In Data mysql entity table\"\"\",\n",
    ")"
   ],
   "outputs": [],
   "metadata": {}
  },
  {
   "cell_type": "code",
   "execution_count": 27,
   "source": [
    "add_variable_metadata(\n",
    "    countries_regions,\n",
    "    \"members\",\n",
    "    \"List of members of each region/country\",\n",
    "    \"\"\"An optional json encoded array of strings referencing other rows in this table by 'code'. Rows that have entries here are understood to 'contain' other entries, e.g. continents list the contained countries or a country could list the contained subnational regions. \"\"\",\n",
    ")"
   ],
   "outputs": [],
   "metadata": {}
  },
  {
   "cell_type": "code",
   "execution_count": 28,
   "source": [
    "countries_regions.set_index(\"code\", inplace=True)"
   ],
   "outputs": [],
   "metadata": {
    "tags": []
   }
  },
  {
   "cell_type": "code",
   "execution_count": 29,
   "source": [
    "countries_regions.metadata.short_name = \"countries_regions\"\n",
    "countries_regions.metadata.title = \"Countries and regions\"\n",
    "countries_regions.metadata.description = \"Our World In Data countries and geo-regions harmonisation dataset. Contains various identifiers for all current sovereign nations, overseas territories, some historic countries as well as common groupings like continents like world\""
   ],
   "outputs": [],
   "metadata": {}
  },
  {
   "cell_type": "code",
   "execution_count": 32,
   "source": [
    "ds = Dataset.create_empty(target_dataset_path)"
   ],
   "outputs": [],
   "metadata": {}
  },
  {
   "cell_type": "code",
   "execution_count": 33,
   "source": [
    "ds.add(countries_regions, format=\"csv\")"
   ],
   "outputs": [],
   "metadata": {}
  },
  {
   "cell_type": "code",
   "execution_count": 34,
   "source": [
    "countries_regions.penn_code.metadata"
   ],
   "outputs": [
    {
     "output_type": "execute_result",
     "data": {
      "text/plain": [
       "VariableMeta(title='PENN world table country code', description='Country code for the PENN World Talbe project by the University of Groningen', sources=[], licenses=[])"
      ]
     },
     "metadata": {},
     "execution_count": 34
    }
   ],
   "metadata": {}
  },
  {
   "cell_type": "code",
   "execution_count": 35,
   "source": [
    "ds.metadata.short_name = \"owid_reference\"\n",
    "ds.metadata.description = \"\"\"Our World In Data reference datasets. These datasets define the vocabulary for important dimensions that we harmonized across different datasets. \n",
    "Every table represents the vocabulary for one dimensions and can include additional columns like third party identifiers, hierarchical grouping etc.\"\"\""
   ],
   "outputs": [],
   "metadata": {}
  },
  {
   "cell_type": "code",
   "execution_count": 36,
   "source": [
    "ds.save()"
   ],
   "outputs": [],
   "metadata": {}
  },
  {
   "cell_type": "code",
   "execution_count": 50,
   "source": [
    "readme_text = \"\"\"# Countries and regions\n",
    "\n",
    "This dataset is used for harmonizing countries and world regions across datasets. The columns are mostly \n",
    "identifiers from various sources that can be helpful in linking data. The main \n",
    "\"\"\""
   ],
   "outputs": [],
   "metadata": {}
  },
  {
   "cell_type": "code",
   "execution_count": null,
   "source": [],
   "outputs": [],
   "metadata": {}
  }
 ],
 "metadata": {
  "kernelspec": {
   "name": "python3",
   "display_name": "Python 3.9.5 64-bit ('.venv': poetry)"
  },
  "language_info": {
   "codemirror_mode": {
    "name": "ipython",
    "version": 3
   },
   "file_extension": ".py",
   "mimetype": "text/x-python",
   "name": "python",
   "nbconvert_exporter": "python",
   "pygments_lexer": "ipython3",
   "version": "3.9.5"
  },
  "interpreter": {
   "hash": "bfee9b694fe04c946c13f91f59877f323f209df7eaba52b3079ace55470be701"
  }
 },
 "nbformat": 4,
 "nbformat_minor": 5
}
