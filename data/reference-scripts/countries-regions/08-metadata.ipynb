{
 "cells": [
  {
   "cell_type": "code",
   "execution_count": 1,
   "id": "950c654b-c617-4df5-853e-6294b238cca1",
   "metadata": {},
   "outputs": [],
   "source": [
    "from owid.catalog.datasets import Dataset\n",
    "from owid.catalog.meta import *\n",
    "from owid.catalog.variables import Variable\n",
    "from owid.catalog.tables import Table\n"
   ]
  },
  {
   "cell_type": "code",
   "execution_count": 2,
   "id": "12367c71-19d6-4af7-b073-0f9e00a7f711",
   "metadata": {},
   "outputs": [],
   "source": [
    "df = pd.read_feather(\"entities/04-countries-with-continents.feather\")"
   ]
  },
  {
   "cell_type": "code",
   "execution_count": 3,
   "id": "1168d495-ee11-4fa0-a14a-3fba45072bb4",
   "metadata": {},
   "outputs": [
    {
     "data": {
      "text/html": [
       "<div>\n",
       "<style scoped>\n",
       "    .dataframe tbody tr th:only-of-type {\n",
       "        vertical-align: middle;\n",
       "    }\n",
       "\n",
       "    .dataframe tbody tr th {\n",
       "        vertical-align: top;\n",
       "    }\n",
       "\n",
       "    .dataframe thead th {\n",
       "        text-align: right;\n",
       "    }\n",
       "</style>\n",
       "<table border=\"1\" class=\"dataframe\">\n",
       "  <thead>\n",
       "    <tr style=\"text-align: right;\">\n",
       "      <th></th>\n",
       "      <th>code</th>\n",
       "      <th>name</th>\n",
       "      <th>iso_alpha2</th>\n",
       "      <th>iso_alpha3</th>\n",
       "      <th>imf_code</th>\n",
       "      <th>cow_letter</th>\n",
       "      <th>cow_code</th>\n",
       "      <th>unctad_code</th>\n",
       "      <th>marc_code</th>\n",
       "      <th>ncd_code</th>\n",
       "      <th>kansas_code</th>\n",
       "      <th>penn_code</th>\n",
       "      <th>wikidata_uri</th>\n",
       "      <th>wikidata_label</th>\n",
       "      <th>legacy_entity_id</th>\n",
       "      <th>legacy_country_id</th>\n",
       "      <th>members</th>\n",
       "    </tr>\n",
       "  </thead>\n",
       "  <tbody>\n",
       "    <tr>\n",
       "      <th>0</th>\n",
       "      <td>AFG</td>\n",
       "      <td>Afghanistan</td>\n",
       "      <td>AF</td>\n",
       "      <td>AFG</td>\n",
       "      <td>512</td>\n",
       "      <td>AFG</td>\n",
       "      <td>700</td>\n",
       "      <td>AFG</td>\n",
       "      <td>AF</td>\n",
       "      <td>AFGN</td>\n",
       "      <td>AFG</td>\n",
       "      <td>AFG</td>\n",
       "      <td>http://www.wikidata.org/entity/Q889</td>\n",
       "      <td>Afghanistan</td>\n",
       "      <td>15</td>\n",
       "      <td>562</td>\n",
       "      <td>None</td>\n",
       "    </tr>\n",
       "    <tr>\n",
       "      <th>1</th>\n",
       "      <td>ALA</td>\n",
       "      <td>Aland Islands</td>\n",
       "      <td>AX</td>\n",
       "      <td>ALA</td>\n",
       "      <td>&lt;NA&gt;</td>\n",
       "      <td>&lt;NA&gt;</td>\n",
       "      <td>&lt;NA&gt;</td>\n",
       "      <td>&lt;NA&gt;</td>\n",
       "      <td>&lt;NA&gt;</td>\n",
       "      <td>&lt;NA&gt;</td>\n",
       "      <td>&lt;NA&gt;</td>\n",
       "      <td>&lt;NA&gt;</td>\n",
       "      <td>http://www.wikidata.org/entity/Q5689</td>\n",
       "      <td>Åland</td>\n",
       "      <td>296</td>\n",
       "      <td>791</td>\n",
       "      <td>None</td>\n",
       "    </tr>\n",
       "    <tr>\n",
       "      <th>2</th>\n",
       "      <td>ALB</td>\n",
       "      <td>Albania</td>\n",
       "      <td>AL</td>\n",
       "      <td>ALB</td>\n",
       "      <td>914</td>\n",
       "      <td>ALB</td>\n",
       "      <td>339</td>\n",
       "      <td>ALB</td>\n",
       "      <td>AA</td>\n",
       "      <td>ALBN</td>\n",
       "      <td>ALB</td>\n",
       "      <td>ALB</td>\n",
       "      <td>http://www.wikidata.org/entity/Q222</td>\n",
       "      <td>Albania</td>\n",
       "      <td>16</td>\n",
       "      <td>565</td>\n",
       "      <td>None</td>\n",
       "    </tr>\n",
       "    <tr>\n",
       "      <th>3</th>\n",
       "      <td>DZA</td>\n",
       "      <td>Algeria</td>\n",
       "      <td>DZ</td>\n",
       "      <td>DZA</td>\n",
       "      <td>612</td>\n",
       "      <td>ALG</td>\n",
       "      <td>615</td>\n",
       "      <td>ALG</td>\n",
       "      <td>AE</td>\n",
       "      <td>ALGR</td>\n",
       "      <td>DZA</td>\n",
       "      <td>DZA</td>\n",
       "      <td>http://www.wikidata.org/entity/Q262</td>\n",
       "      <td>Algeria</td>\n",
       "      <td>17</td>\n",
       "      <td>619</td>\n",
       "      <td>None</td>\n",
       "    </tr>\n",
       "    <tr>\n",
       "      <th>4</th>\n",
       "      <td>ASM</td>\n",
       "      <td>American Samoa</td>\n",
       "      <td>AS</td>\n",
       "      <td>ASM</td>\n",
       "      <td>859</td>\n",
       "      <td>&lt;NA&gt;</td>\n",
       "      <td>&lt;NA&gt;</td>\n",
       "      <td>&lt;NA&gt;</td>\n",
       "      <td>AS</td>\n",
       "      <td>&lt;NA&gt;</td>\n",
       "      <td>ASM</td>\n",
       "      <td>ASM</td>\n",
       "      <td>http://www.wikidata.org/entity/Q16641</td>\n",
       "      <td>American Samoa</td>\n",
       "      <td>246</td>\n",
       "      <td>571</td>\n",
       "      <td>None</td>\n",
       "    </tr>\n",
       "    <tr>\n",
       "      <th>...</th>\n",
       "      <td>...</td>\n",
       "      <td>...</td>\n",
       "      <td>...</td>\n",
       "      <td>...</td>\n",
       "      <td>...</td>\n",
       "      <td>...</td>\n",
       "      <td>...</td>\n",
       "      <td>...</td>\n",
       "      <td>...</td>\n",
       "      <td>...</td>\n",
       "      <td>...</td>\n",
       "      <td>...</td>\n",
       "      <td>...</td>\n",
       "      <td>...</td>\n",
       "      <td>...</td>\n",
       "      <td>...</td>\n",
       "      <td>...</td>\n",
       "    </tr>\n",
       "    <tr>\n",
       "      <th>291</th>\n",
       "      <td>OWID_ASI</td>\n",
       "      <td>Asia</td>\n",
       "      <td>&lt;NA&gt;</td>\n",
       "      <td>&lt;NA&gt;</td>\n",
       "      <td>&lt;NA&gt;</td>\n",
       "      <td>&lt;NA&gt;</td>\n",
       "      <td>&lt;NA&gt;</td>\n",
       "      <td>&lt;NA&gt;</td>\n",
       "      <td>&lt;NA&gt;</td>\n",
       "      <td>&lt;NA&gt;</td>\n",
       "      <td>&lt;NA&gt;</td>\n",
       "      <td>&lt;NA&gt;</td>\n",
       "      <td>&lt;NA&gt;</td>\n",
       "      <td>&lt;NA&gt;</td>\n",
       "      <td>275</td>\n",
       "      <td>&lt;NA&gt;</td>\n",
       "      <td>[\"AFG\", \"ARM\", \"AZE\", \"BHR\", \"BGD\", \"BTN\", \"IO...</td>\n",
       "    </tr>\n",
       "    <tr>\n",
       "      <th>292</th>\n",
       "      <td>OWID_EUR</td>\n",
       "      <td>Europe</td>\n",
       "      <td>&lt;NA&gt;</td>\n",
       "      <td>&lt;NA&gt;</td>\n",
       "      <td>&lt;NA&gt;</td>\n",
       "      <td>&lt;NA&gt;</td>\n",
       "      <td>&lt;NA&gt;</td>\n",
       "      <td>&lt;NA&gt;</td>\n",
       "      <td>&lt;NA&gt;</td>\n",
       "      <td>&lt;NA&gt;</td>\n",
       "      <td>&lt;NA&gt;</td>\n",
       "      <td>&lt;NA&gt;</td>\n",
       "      <td>&lt;NA&gt;</td>\n",
       "      <td>&lt;NA&gt;</td>\n",
       "      <td>276</td>\n",
       "      <td>&lt;NA&gt;</td>\n",
       "      <td>[\"ALA\", \"ALB\", \"AND\", \"AUT\", \"OWID_AUH\", \"OWID...</td>\n",
       "    </tr>\n",
       "    <tr>\n",
       "      <th>293</th>\n",
       "      <td>OWID_LAM</td>\n",
       "      <td>Latin America</td>\n",
       "      <td>&lt;NA&gt;</td>\n",
       "      <td>&lt;NA&gt;</td>\n",
       "      <td>&lt;NA&gt;</td>\n",
       "      <td>&lt;NA&gt;</td>\n",
       "      <td>&lt;NA&gt;</td>\n",
       "      <td>&lt;NA&gt;</td>\n",
       "      <td>&lt;NA&gt;</td>\n",
       "      <td>&lt;NA&gt;</td>\n",
       "      <td>&lt;NA&gt;</td>\n",
       "      <td>&lt;NA&gt;</td>\n",
       "      <td>&lt;NA&gt;</td>\n",
       "      <td>&lt;NA&gt;</td>\n",
       "      <td>5403</td>\n",
       "      <td>&lt;NA&gt;</td>\n",
       "      <td>[\"ARG\", \"BOL\", \"BRA\", \"OWID_NLC\", \"CHL\", \"COL\"...</td>\n",
       "    </tr>\n",
       "    <tr>\n",
       "      <th>294</th>\n",
       "      <td>OWID_NAM</td>\n",
       "      <td>North America</td>\n",
       "      <td>&lt;NA&gt;</td>\n",
       "      <td>&lt;NA&gt;</td>\n",
       "      <td>&lt;NA&gt;</td>\n",
       "      <td>&lt;NA&gt;</td>\n",
       "      <td>&lt;NA&gt;</td>\n",
       "      <td>&lt;NA&gt;</td>\n",
       "      <td>&lt;NA&gt;</td>\n",
       "      <td>&lt;NA&gt;</td>\n",
       "      <td>&lt;NA&gt;</td>\n",
       "      <td>&lt;NA&gt;</td>\n",
       "      <td>&lt;NA&gt;</td>\n",
       "      <td>&lt;NA&gt;</td>\n",
       "      <td>294</td>\n",
       "      <td>&lt;NA&gt;</td>\n",
       "      <td>[\"AIA\", \"ATG\", \"ABW\", \"BHS\", \"BRB\", \"BLZ\", \"BM...</td>\n",
       "    </tr>\n",
       "    <tr>\n",
       "      <th>295</th>\n",
       "      <td>OWID_OCE</td>\n",
       "      <td>Oceania</td>\n",
       "      <td>&lt;NA&gt;</td>\n",
       "      <td>&lt;NA&gt;</td>\n",
       "      <td>&lt;NA&gt;</td>\n",
       "      <td>&lt;NA&gt;</td>\n",
       "      <td>&lt;NA&gt;</td>\n",
       "      <td>&lt;NA&gt;</td>\n",
       "      <td>&lt;NA&gt;</td>\n",
       "      <td>&lt;NA&gt;</td>\n",
       "      <td>&lt;NA&gt;</td>\n",
       "      <td>&lt;NA&gt;</td>\n",
       "      <td>&lt;NA&gt;</td>\n",
       "      <td>&lt;NA&gt;</td>\n",
       "      <td>277</td>\n",
       "      <td>&lt;NA&gt;</td>\n",
       "      <td>[\"ASM\", \"AUS\", \"COK\", \"FJI\", \"PYF\", \"GUM\", \"KI...</td>\n",
       "    </tr>\n",
       "  </tbody>\n",
       "</table>\n",
       "<p>296 rows × 17 columns</p>\n",
       "</div>"
      ],
      "text/plain": [
       "         code            name iso_alpha2 iso_alpha3  imf_code cow_letter  \\\n",
       "0         AFG     Afghanistan         AF        AFG       512        AFG   \n",
       "1         ALA   Aland Islands         AX        ALA      <NA>       <NA>   \n",
       "2         ALB         Albania         AL        ALB       914        ALB   \n",
       "3         DZA         Algeria         DZ        DZA       612        ALG   \n",
       "4         ASM  American Samoa         AS        ASM       859       <NA>   \n",
       "..        ...             ...        ...        ...       ...        ...   \n",
       "291  OWID_ASI            Asia       <NA>       <NA>      <NA>       <NA>   \n",
       "292  OWID_EUR          Europe       <NA>       <NA>      <NA>       <NA>   \n",
       "293  OWID_LAM   Latin America       <NA>       <NA>      <NA>       <NA>   \n",
       "294  OWID_NAM   North America       <NA>       <NA>      <NA>       <NA>   \n",
       "295  OWID_OCE         Oceania       <NA>       <NA>      <NA>       <NA>   \n",
       "\n",
       "     cow_code unctad_code marc_code ncd_code kansas_code penn_code  \\\n",
       "0         700         AFG        AF     AFGN         AFG       AFG   \n",
       "1        <NA>        <NA>      <NA>     <NA>        <NA>      <NA>   \n",
       "2         339         ALB        AA     ALBN         ALB       ALB   \n",
       "3         615         ALG        AE     ALGR         DZA       DZA   \n",
       "4        <NA>        <NA>        AS     <NA>         ASM       ASM   \n",
       "..        ...         ...       ...      ...         ...       ...   \n",
       "291      <NA>        <NA>      <NA>     <NA>        <NA>      <NA>   \n",
       "292      <NA>        <NA>      <NA>     <NA>        <NA>      <NA>   \n",
       "293      <NA>        <NA>      <NA>     <NA>        <NA>      <NA>   \n",
       "294      <NA>        <NA>      <NA>     <NA>        <NA>      <NA>   \n",
       "295      <NA>        <NA>      <NA>     <NA>        <NA>      <NA>   \n",
       "\n",
       "                              wikidata_uri  wikidata_label  legacy_entity_id  \\\n",
       "0      http://www.wikidata.org/entity/Q889     Afghanistan                15   \n",
       "1     http://www.wikidata.org/entity/Q5689           Åland               296   \n",
       "2      http://www.wikidata.org/entity/Q222         Albania                16   \n",
       "3      http://www.wikidata.org/entity/Q262         Algeria                17   \n",
       "4    http://www.wikidata.org/entity/Q16641  American Samoa               246   \n",
       "..                                     ...             ...               ...   \n",
       "291                                   <NA>            <NA>               275   \n",
       "292                                   <NA>            <NA>               276   \n",
       "293                                   <NA>            <NA>              5403   \n",
       "294                                   <NA>            <NA>               294   \n",
       "295                                   <NA>            <NA>               277   \n",
       "\n",
       "     legacy_country_id                                            members  \n",
       "0                  562                                               None  \n",
       "1                  791                                               None  \n",
       "2                  565                                               None  \n",
       "3                  619                                               None  \n",
       "4                  571                                               None  \n",
       "..                 ...                                                ...  \n",
       "291               <NA>  [\"AFG\", \"ARM\", \"AZE\", \"BHR\", \"BGD\", \"BTN\", \"IO...  \n",
       "292               <NA>  [\"ALA\", \"ALB\", \"AND\", \"AUT\", \"OWID_AUH\", \"OWID...  \n",
       "293               <NA>  [\"ARG\", \"BOL\", \"BRA\", \"OWID_NLC\", \"CHL\", \"COL\"...  \n",
       "294               <NA>  [\"AIA\", \"ATG\", \"ABW\", \"BHS\", \"BRB\", \"BLZ\", \"BM...  \n",
       "295               <NA>  [\"ASM\", \"AUS\", \"COK\", \"FJI\", \"PYF\", \"GUM\", \"KI...  \n",
       "\n",
       "[296 rows x 17 columns]"
      ]
     },
     "execution_count": 3,
     "metadata": {},
     "output_type": "execute_result"
    }
   ],
   "source": [
    "df"
   ]
  },
  {
   "cell_type": "code",
   "execution_count": 5,
   "id": "ae8184a9-8467-4700-84ea-6d1bd719e313",
   "metadata": {},
   "outputs": [],
   "source": [
    "countries_regions = Table(df)"
   ]
  },
  {
   "cell_type": "code",
   "execution_count": 6,
   "id": "8f0b417a-04e2-45c0-b0e5-ff8bf479d548",
   "metadata": {},
   "outputs": [
    {
     "data": {
      "text/plain": [
       "True"
      ]
     },
     "execution_count": 6,
     "metadata": {},
     "output_type": "execute_result"
    }
   ],
   "source": [
    "isinstance(countries_regions, Table)"
   ]
  },
  {
   "cell_type": "code",
   "execution_count": 7,
   "id": "e5e45f35-c5a6-46a1-9539-063e3cd80470",
   "metadata": {},
   "outputs": [
    {
     "data": {
      "text/plain": [
       "True"
      ]
     },
     "execution_count": 7,
     "metadata": {},
     "output_type": "execute_result"
    }
   ],
   "source": [
    "isinstance(countries_regions.name, Variable)"
   ]
  },
  {
   "cell_type": "code",
   "execution_count": 8,
   "id": "c3a05dd8-39bd-4f97-a790-60ef9e32198d",
   "metadata": {
    "collapsed": true,
    "jupyter": {
     "outputs_hidden": true
    },
    "tags": []
   },
   "outputs": [
    {
     "data": {
      "text/html": [
       "<div>\n",
       "<style scoped>\n",
       "    .dataframe tbody tr th:only-of-type {\n",
       "        vertical-align: middle;\n",
       "    }\n",
       "\n",
       "    .dataframe tbody tr th {\n",
       "        vertical-align: top;\n",
       "    }\n",
       "\n",
       "    .dataframe thead th {\n",
       "        text-align: right;\n",
       "    }\n",
       "</style>\n",
       "<table border=\"1\" class=\"dataframe\">\n",
       "  <thead>\n",
       "    <tr style=\"text-align: right;\">\n",
       "      <th></th>\n",
       "      <th>code</th>\n",
       "      <th>name</th>\n",
       "      <th>iso_alpha2</th>\n",
       "      <th>iso_alpha3</th>\n",
       "      <th>imf_code</th>\n",
       "      <th>cow_letter</th>\n",
       "      <th>cow_code</th>\n",
       "      <th>unctad_code</th>\n",
       "      <th>marc_code</th>\n",
       "      <th>ncd_code</th>\n",
       "      <th>kansas_code</th>\n",
       "      <th>penn_code</th>\n",
       "      <th>wikidata_uri</th>\n",
       "      <th>wikidata_label</th>\n",
       "      <th>legacy_entity_id</th>\n",
       "      <th>legacy_country_id</th>\n",
       "      <th>members</th>\n",
       "    </tr>\n",
       "  </thead>\n",
       "  <tbody>\n",
       "    <tr>\n",
       "      <th>0</th>\n",
       "      <td>AFG</td>\n",
       "      <td>Afghanistan</td>\n",
       "      <td>AF</td>\n",
       "      <td>AFG</td>\n",
       "      <td>512</td>\n",
       "      <td>AFG</td>\n",
       "      <td>700</td>\n",
       "      <td>AFG</td>\n",
       "      <td>AF</td>\n",
       "      <td>AFGN</td>\n",
       "      <td>AFG</td>\n",
       "      <td>AFG</td>\n",
       "      <td>http://www.wikidata.org/entity/Q889</td>\n",
       "      <td>Afghanistan</td>\n",
       "      <td>15</td>\n",
       "      <td>562</td>\n",
       "      <td>None</td>\n",
       "    </tr>\n",
       "    <tr>\n",
       "      <th>1</th>\n",
       "      <td>ALA</td>\n",
       "      <td>Aland Islands</td>\n",
       "      <td>AX</td>\n",
       "      <td>ALA</td>\n",
       "      <td>&lt;NA&gt;</td>\n",
       "      <td>&lt;NA&gt;</td>\n",
       "      <td>&lt;NA&gt;</td>\n",
       "      <td>&lt;NA&gt;</td>\n",
       "      <td>&lt;NA&gt;</td>\n",
       "      <td>&lt;NA&gt;</td>\n",
       "      <td>&lt;NA&gt;</td>\n",
       "      <td>&lt;NA&gt;</td>\n",
       "      <td>http://www.wikidata.org/entity/Q5689</td>\n",
       "      <td>Åland</td>\n",
       "      <td>296</td>\n",
       "      <td>791</td>\n",
       "      <td>None</td>\n",
       "    </tr>\n",
       "    <tr>\n",
       "      <th>2</th>\n",
       "      <td>ALB</td>\n",
       "      <td>Albania</td>\n",
       "      <td>AL</td>\n",
       "      <td>ALB</td>\n",
       "      <td>914</td>\n",
       "      <td>ALB</td>\n",
       "      <td>339</td>\n",
       "      <td>ALB</td>\n",
       "      <td>AA</td>\n",
       "      <td>ALBN</td>\n",
       "      <td>ALB</td>\n",
       "      <td>ALB</td>\n",
       "      <td>http://www.wikidata.org/entity/Q222</td>\n",
       "      <td>Albania</td>\n",
       "      <td>16</td>\n",
       "      <td>565</td>\n",
       "      <td>None</td>\n",
       "    </tr>\n",
       "    <tr>\n",
       "      <th>3</th>\n",
       "      <td>DZA</td>\n",
       "      <td>Algeria</td>\n",
       "      <td>DZ</td>\n",
       "      <td>DZA</td>\n",
       "      <td>612</td>\n",
       "      <td>ALG</td>\n",
       "      <td>615</td>\n",
       "      <td>ALG</td>\n",
       "      <td>AE</td>\n",
       "      <td>ALGR</td>\n",
       "      <td>DZA</td>\n",
       "      <td>DZA</td>\n",
       "      <td>http://www.wikidata.org/entity/Q262</td>\n",
       "      <td>Algeria</td>\n",
       "      <td>17</td>\n",
       "      <td>619</td>\n",
       "      <td>None</td>\n",
       "    </tr>\n",
       "    <tr>\n",
       "      <th>4</th>\n",
       "      <td>ASM</td>\n",
       "      <td>American Samoa</td>\n",
       "      <td>AS</td>\n",
       "      <td>ASM</td>\n",
       "      <td>859</td>\n",
       "      <td>&lt;NA&gt;</td>\n",
       "      <td>&lt;NA&gt;</td>\n",
       "      <td>&lt;NA&gt;</td>\n",
       "      <td>AS</td>\n",
       "      <td>&lt;NA&gt;</td>\n",
       "      <td>ASM</td>\n",
       "      <td>ASM</td>\n",
       "      <td>http://www.wikidata.org/entity/Q16641</td>\n",
       "      <td>American Samoa</td>\n",
       "      <td>246</td>\n",
       "      <td>571</td>\n",
       "      <td>None</td>\n",
       "    </tr>\n",
       "  </tbody>\n",
       "</table>\n",
       "</div>"
      ],
      "text/plain": [
       "  code            name iso_alpha2 iso_alpha3  imf_code cow_letter  cow_code  \\\n",
       "0  AFG     Afghanistan         AF        AFG       512        AFG       700   \n",
       "1  ALA   Aland Islands         AX        ALA      <NA>       <NA>      <NA>   \n",
       "2  ALB         Albania         AL        ALB       914        ALB       339   \n",
       "3  DZA         Algeria         DZ        DZA       612        ALG       615   \n",
       "4  ASM  American Samoa         AS        ASM       859       <NA>      <NA>   \n",
       "\n",
       "  unctad_code marc_code ncd_code kansas_code penn_code  \\\n",
       "0         AFG        AF     AFGN         AFG       AFG   \n",
       "1        <NA>      <NA>     <NA>        <NA>      <NA>   \n",
       "2         ALB        AA     ALBN         ALB       ALB   \n",
       "3         ALG        AE     ALGR         DZA       DZA   \n",
       "4        <NA>        AS     <NA>         ASM       ASM   \n",
       "\n",
       "                            wikidata_uri  wikidata_label  legacy_entity_id  \\\n",
       "0    http://www.wikidata.org/entity/Q889     Afghanistan                15   \n",
       "1   http://www.wikidata.org/entity/Q5689           Åland               296   \n",
       "2    http://www.wikidata.org/entity/Q222         Albania                16   \n",
       "3    http://www.wikidata.org/entity/Q262         Algeria                17   \n",
       "4  http://www.wikidata.org/entity/Q16641  American Samoa               246   \n",
       "\n",
       "   legacy_country_id members  \n",
       "0                562    None  \n",
       "1                791    None  \n",
       "2                565    None  \n",
       "3                619    None  \n",
       "4                571    None  "
      ]
     },
     "execution_count": 8,
     "metadata": {},
     "output_type": "execute_result"
    }
   ],
   "source": [
    "countries_regions.head()"
   ]
  },
  {
   "cell_type": "code",
   "execution_count": 9,
   "id": "23be96bd-05e6-447d-a80a-74babc28e81c",
   "metadata": {},
   "outputs": [
    {
     "data": {
      "text/plain": [
       "Index(['code', 'name', 'iso_alpha2', 'iso_alpha3', 'imf_code', 'cow_letter',\n",
       "       'cow_code', 'unctad_code', 'marc_code', 'ncd_code', 'kansas_code',\n",
       "       'penn_code', 'wikidata_uri', 'wikidata_label', 'legacy_entity_id',\n",
       "       'legacy_country_id', 'members'],\n",
       "      dtype='object')"
      ]
     },
     "execution_count": 9,
     "metadata": {},
     "output_type": "execute_result"
    }
   ],
   "source": [
    "countries_regions.columns"
   ]
  },
  {
   "cell_type": "code",
   "execution_count": 25,
   "id": "04904fd8-9a1b-487e-b357-6412ffaf86ee",
   "metadata": {
    "tags": []
   },
   "outputs": [],
   "source": [
    "countries_regions.set_index(\"code\", inplace=True)"
   ]
  },
  {
   "cell_type": "code",
   "execution_count": 38,
   "id": "3e4ce01c-77a6-46df-bc78-b64bb0640cf8",
   "metadata": {},
   "outputs": [],
   "source": [
    "def add_variable_metadata(table: Table, column_name: str, title: str, description: str) -> None:\n",
    "    table[column_name].metadata.name = column_name\n",
    "    table[column_name].metadata.title = title\n",
    "    table[column_name].metadata.description = description"
   ]
  },
  {
   "cell_type": "code",
   "execution_count": 39,
   "id": "85dbe820-91ff-4741-89c0-1f81e6bf0d82",
   "metadata": {
    "collapsed": true,
    "jupyter": {
     "outputs_hidden": true
    },
    "tags": []
   },
   "outputs": [
    {
     "ename": "KeyError",
     "evalue": "'code'",
     "output_type": "error",
     "traceback": [
      "\u001b[1;31m---------------------------------------------------------------------------\u001b[0m",
      "\u001b[1;31mKeyError\u001b[0m                                  Traceback (most recent call last)",
      "\u001b[1;32m~\\Miniconda3\\lib\\site-packages\\pandas\\core\\indexes\\base.py\u001b[0m in \u001b[0;36mget_loc\u001b[1;34m(self, key, method, tolerance)\u001b[0m\n\u001b[0;32m   3360\u001b[0m             \u001b[1;32mtry\u001b[0m\u001b[1;33m:\u001b[0m\u001b[1;33m\u001b[0m\u001b[1;33m\u001b[0m\u001b[0m\n\u001b[1;32m-> 3361\u001b[1;33m                 \u001b[1;32mreturn\u001b[0m \u001b[0mself\u001b[0m\u001b[1;33m.\u001b[0m\u001b[0m_engine\u001b[0m\u001b[1;33m.\u001b[0m\u001b[0mget_loc\u001b[0m\u001b[1;33m(\u001b[0m\u001b[0mcasted_key\u001b[0m\u001b[1;33m)\u001b[0m\u001b[1;33m\u001b[0m\u001b[1;33m\u001b[0m\u001b[0m\n\u001b[0m\u001b[0;32m   3362\u001b[0m             \u001b[1;32mexcept\u001b[0m \u001b[0mKeyError\u001b[0m \u001b[1;32mas\u001b[0m \u001b[0merr\u001b[0m\u001b[1;33m:\u001b[0m\u001b[1;33m\u001b[0m\u001b[1;33m\u001b[0m\u001b[0m\n",
      "\u001b[1;32m~\\Miniconda3\\lib\\site-packages\\pandas\\_libs\\index.pyx\u001b[0m in \u001b[0;36mpandas._libs.index.IndexEngine.get_loc\u001b[1;34m()\u001b[0m\n",
      "\u001b[1;32m~\\Miniconda3\\lib\\site-packages\\pandas\\_libs\\index.pyx\u001b[0m in \u001b[0;36mpandas._libs.index.IndexEngine.get_loc\u001b[1;34m()\u001b[0m\n",
      "\u001b[1;32mpandas\\_libs\\hashtable_class_helper.pxi\u001b[0m in \u001b[0;36mpandas._libs.hashtable.PyObjectHashTable.get_item\u001b[1;34m()\u001b[0m\n",
      "\u001b[1;32mpandas\\_libs\\hashtable_class_helper.pxi\u001b[0m in \u001b[0;36mpandas._libs.hashtable.PyObjectHashTable.get_item\u001b[1;34m()\u001b[0m\n",
      "\u001b[1;31mKeyError\u001b[0m: 'code'",
      "\nThe above exception was the direct cause of the following exception:\n",
      "\u001b[1;31mKeyError\u001b[0m                                  Traceback (most recent call last)",
      "\u001b[1;32m<ipython-input-39-395dc4931c07>\u001b[0m in \u001b[0;36m<module>\u001b[1;34m\u001b[0m\n\u001b[1;32m----> 1\u001b[1;33m add_variable_metadata(countries_regions, \"code\", \"OWID geo code\",\n\u001b[0m\u001b[0;32m      2\u001b[0m                       \"\"\"The primary identifier for geographic entities at Our World In Data. Based on ISO alpha 3 country codes but extended with custom identifiers where necessary.\"\"\")\n",
      "\u001b[1;32m<ipython-input-38-3d5295420248>\u001b[0m in \u001b[0;36madd_variable_metadata\u001b[1;34m(table, column_name, title, description)\u001b[0m\n\u001b[0;32m      1\u001b[0m \u001b[1;32mdef\u001b[0m \u001b[0madd_variable_metadata\u001b[0m\u001b[1;33m(\u001b[0m\u001b[0mtable\u001b[0m\u001b[1;33m:\u001b[0m \u001b[0mTable\u001b[0m\u001b[1;33m,\u001b[0m \u001b[0mcolumn_name\u001b[0m\u001b[1;33m:\u001b[0m \u001b[0mstr\u001b[0m\u001b[1;33m,\u001b[0m \u001b[0mtitle\u001b[0m\u001b[1;33m:\u001b[0m \u001b[0mstr\u001b[0m\u001b[1;33m,\u001b[0m \u001b[0mdescription\u001b[0m\u001b[1;33m:\u001b[0m \u001b[0mstr\u001b[0m\u001b[1;33m)\u001b[0m \u001b[1;33m->\u001b[0m \u001b[1;32mNone\u001b[0m\u001b[1;33m:\u001b[0m\u001b[1;33m\u001b[0m\u001b[1;33m\u001b[0m\u001b[0m\n\u001b[1;32m----> 2\u001b[1;33m     \u001b[0mtable\u001b[0m\u001b[1;33m[\u001b[0m\u001b[0mcolumn_name\u001b[0m\u001b[1;33m]\u001b[0m\u001b[1;33m.\u001b[0m\u001b[0mmetadata\u001b[0m\u001b[1;33m.\u001b[0m\u001b[0mname\u001b[0m \u001b[1;33m=\u001b[0m \u001b[0mcolumn_name\u001b[0m\u001b[1;33m\u001b[0m\u001b[1;33m\u001b[0m\u001b[0m\n\u001b[0m\u001b[0;32m      3\u001b[0m     \u001b[0mtable\u001b[0m\u001b[1;33m[\u001b[0m\u001b[0mcolumn_name\u001b[0m\u001b[1;33m]\u001b[0m\u001b[1;33m.\u001b[0m\u001b[0mmetadata\u001b[0m\u001b[1;33m.\u001b[0m\u001b[0mtitle\u001b[0m \u001b[1;33m=\u001b[0m \u001b[0mtitle\u001b[0m\u001b[1;33m\u001b[0m\u001b[1;33m\u001b[0m\u001b[0m\n\u001b[0;32m      4\u001b[0m     \u001b[0mtable\u001b[0m\u001b[1;33m[\u001b[0m\u001b[0mcolumn_name\u001b[0m\u001b[1;33m]\u001b[0m\u001b[1;33m.\u001b[0m\u001b[0mmetadata\u001b[0m\u001b[1;33m.\u001b[0m\u001b[0mdescription\u001b[0m \u001b[1;33m=\u001b[0m \u001b[0mdescription\u001b[0m\u001b[1;33m\u001b[0m\u001b[1;33m\u001b[0m\u001b[0m\n",
      "\u001b[1;32m~\\Miniconda3\\lib\\site-packages\\pandas\\core\\frame.py\u001b[0m in \u001b[0;36m__getitem__\u001b[1;34m(self, key)\u001b[0m\n\u001b[0;32m   3453\u001b[0m             \u001b[1;32mif\u001b[0m \u001b[0mself\u001b[0m\u001b[1;33m.\u001b[0m\u001b[0mcolumns\u001b[0m\u001b[1;33m.\u001b[0m\u001b[0mnlevels\u001b[0m \u001b[1;33m>\u001b[0m \u001b[1;36m1\u001b[0m\u001b[1;33m:\u001b[0m\u001b[1;33m\u001b[0m\u001b[1;33m\u001b[0m\u001b[0m\n\u001b[0;32m   3454\u001b[0m                 \u001b[1;32mreturn\u001b[0m \u001b[0mself\u001b[0m\u001b[1;33m.\u001b[0m\u001b[0m_getitem_multilevel\u001b[0m\u001b[1;33m(\u001b[0m\u001b[0mkey\u001b[0m\u001b[1;33m)\u001b[0m\u001b[1;33m\u001b[0m\u001b[1;33m\u001b[0m\u001b[0m\n\u001b[1;32m-> 3455\u001b[1;33m             \u001b[0mindexer\u001b[0m \u001b[1;33m=\u001b[0m \u001b[0mself\u001b[0m\u001b[1;33m.\u001b[0m\u001b[0mcolumns\u001b[0m\u001b[1;33m.\u001b[0m\u001b[0mget_loc\u001b[0m\u001b[1;33m(\u001b[0m\u001b[0mkey\u001b[0m\u001b[1;33m)\u001b[0m\u001b[1;33m\u001b[0m\u001b[1;33m\u001b[0m\u001b[0m\n\u001b[0m\u001b[0;32m   3456\u001b[0m             \u001b[1;32mif\u001b[0m \u001b[0mis_integer\u001b[0m\u001b[1;33m(\u001b[0m\u001b[0mindexer\u001b[0m\u001b[1;33m)\u001b[0m\u001b[1;33m:\u001b[0m\u001b[1;33m\u001b[0m\u001b[1;33m\u001b[0m\u001b[0m\n\u001b[0;32m   3457\u001b[0m                 \u001b[0mindexer\u001b[0m \u001b[1;33m=\u001b[0m \u001b[1;33m[\u001b[0m\u001b[0mindexer\u001b[0m\u001b[1;33m]\u001b[0m\u001b[1;33m\u001b[0m\u001b[1;33m\u001b[0m\u001b[0m\n",
      "\u001b[1;32m~\\Miniconda3\\lib\\site-packages\\pandas\\core\\indexes\\base.py\u001b[0m in \u001b[0;36mget_loc\u001b[1;34m(self, key, method, tolerance)\u001b[0m\n\u001b[0;32m   3361\u001b[0m                 \u001b[1;32mreturn\u001b[0m \u001b[0mself\u001b[0m\u001b[1;33m.\u001b[0m\u001b[0m_engine\u001b[0m\u001b[1;33m.\u001b[0m\u001b[0mget_loc\u001b[0m\u001b[1;33m(\u001b[0m\u001b[0mcasted_key\u001b[0m\u001b[1;33m)\u001b[0m\u001b[1;33m\u001b[0m\u001b[1;33m\u001b[0m\u001b[0m\n\u001b[0;32m   3362\u001b[0m             \u001b[1;32mexcept\u001b[0m \u001b[0mKeyError\u001b[0m \u001b[1;32mas\u001b[0m \u001b[0merr\u001b[0m\u001b[1;33m:\u001b[0m\u001b[1;33m\u001b[0m\u001b[1;33m\u001b[0m\u001b[0m\n\u001b[1;32m-> 3363\u001b[1;33m                 \u001b[1;32mraise\u001b[0m \u001b[0mKeyError\u001b[0m\u001b[1;33m(\u001b[0m\u001b[0mkey\u001b[0m\u001b[1;33m)\u001b[0m \u001b[1;32mfrom\u001b[0m \u001b[0merr\u001b[0m\u001b[1;33m\u001b[0m\u001b[1;33m\u001b[0m\u001b[0m\n\u001b[0m\u001b[0;32m   3364\u001b[0m \u001b[1;33m\u001b[0m\u001b[0m\n\u001b[0;32m   3365\u001b[0m         \u001b[1;32mif\u001b[0m \u001b[0mis_scalar\u001b[0m\u001b[1;33m(\u001b[0m\u001b[0mkey\u001b[0m\u001b[1;33m)\u001b[0m \u001b[1;32mand\u001b[0m \u001b[0misna\u001b[0m\u001b[1;33m(\u001b[0m\u001b[0mkey\u001b[0m\u001b[1;33m)\u001b[0m \u001b[1;32mand\u001b[0m \u001b[1;32mnot\u001b[0m \u001b[0mself\u001b[0m\u001b[1;33m.\u001b[0m\u001b[0mhasnans\u001b[0m\u001b[1;33m:\u001b[0m\u001b[1;33m\u001b[0m\u001b[1;33m\u001b[0m\u001b[0m\n",
      "\u001b[1;31mKeyError\u001b[0m: 'code'"
     ]
    }
   ],
   "source": [
    "add_variable_metadata(countries_regions, \"code\", \"OWID geo code\",\n",
    "                      \"\"\"The primary identifier for geographic entities at Our World In Data. Based on ISO alpha 3 country codes but extended with custom identifiers where necessary.\"\"\")"
   ]
  },
  {
   "cell_type": "code",
   "execution_count": 40,
   "id": "34c44473-196c-48e1-8785-93f0e204d1bb",
   "metadata": {},
   "outputs": [],
   "source": [
    "add_variable_metadata(countries_regions, \"name\", \"Name\", \"\"\"The preferred name for a country/region\"\"\")"
   ]
  },
  {
   "cell_type": "code",
   "execution_count": 41,
   "id": "97842f0c-b8c6-406f-a81e-95d5e4ef3061",
   "metadata": {},
   "outputs": [],
   "source": [
    "add_variable_metadata(countries_regions, \"iso_alpha2\", \"ISO 3166-1 alpha-2 code\", \"\"\"International 2 letter ISO country code\"\"\")"
   ]
  },
  {
   "cell_type": "code",
   "execution_count": 42,
   "id": "40ee9293-545c-4020-9528-35cdf1e0467c",
   "metadata": {},
   "outputs": [],
   "source": [
    "add_variable_metadata(countries_regions, \"iso_alpha3\", \"ISO 3166-1 alpha-3 code\", \"\"\"International 3 letter ISO country code\"\"\")"
   ]
  },
  {
   "cell_type": "code",
   "execution_count": 43,
   "id": "b605f33c-5310-4a65-b819-34c386534e5e",
   "metadata": {},
   "outputs": [],
   "source": [
    "add_variable_metadata(countries_regions, \"imf_code\", \"IMF code\", \"\"\"IMF country code\"\"\")"
   ]
  },
  {
   "cell_type": "code",
   "execution_count": 44,
   "id": "ec51e7c3-b150-40c6-a561-b90c1f22aace",
   "metadata": {},
   "outputs": [],
   "source": [
    "add_variable_metadata(countries_regions, \"cow_letter\", \"Correlates of War country code\", \"\"\"Correlates of War project country code (StateAbb)\"\"\")"
   ]
  },
  {
   "cell_type": "code",
   "execution_count": 45,
   "id": "133bf757-5f59-4fdc-88fc-69d6087167ee",
   "metadata": {},
   "outputs": [],
   "source": [
    "add_variable_metadata(countries_regions, \"cow_code\", \"Correlates of War country id\", \"\"\"Correlates of War project country identifier (CCode)\"\"\")"
   ]
  },
  {
   "cell_type": "code",
   "execution_count": 46,
   "id": "e0267652-7374-4d83-9516-dd02d3a4fb77",
   "metadata": {},
   "outputs": [],
   "source": [
    "add_variable_metadata(countries_regions, \"unctad_code\", \"UN CTAD code\", \"\"\"United Nations Conference on Trade and Development country code\"\"\")"
   ]
  },
  {
   "cell_type": "code",
   "execution_count": 47,
   "id": "3ac7c673-c012-4bff-a354-6d0c58ba0a99",
   "metadata": {},
   "outputs": [],
   "source": [
    "add_variable_metadata(countries_regions, \"marc_code\", \"MARC code\", \"\"\"Library of Congress MARC project country code\"\"\")"
   ]
  },
  {
   "cell_type": "code",
   "execution_count": 48,
   "id": "43fdac8d-a353-4e71-91ba-6f2623994853",
   "metadata": {},
   "outputs": [],
   "source": [
    "add_variable_metadata(countries_regions, \"kansas_code\", \"kansas_code\", \"\"\"\"\"\")"
   ]
  },
  {
   "cell_type": "code",
   "execution_count": 49,
   "id": "a7c867c3-7762-4b78-852b-57dc5eb86bf9",
   "metadata": {},
   "outputs": [],
   "source": [
    "add_variable_metadata(countries_regions, \"penn_code\", \"PENN world table country code\", \"\"\"Country code for the PENN World Talbe project by the University of Groningen\"\"\")"
   ]
  },
  {
   "cell_type": "code",
   "execution_count": 50,
   "id": "06c78275-7f1b-4e46-995f-28845325fada",
   "metadata": {},
   "outputs": [],
   "source": [
    "add_variable_metadata(countries_regions, \"wikidata_uri\", \"Wikidata id\", \"\"\"The Wikidata identifier for this country/region\"\"\")"
   ]
  },
  {
   "cell_type": "code",
   "execution_count": 51,
   "id": "7d577a16-c554-4b8f-b9c0-ca265d3f5cec",
   "metadata": {},
   "outputs": [],
   "source": [
    "add_variable_metadata(countries_regions, \"wikidata_label\", \"Wikidata label\", \"\"\"The Wikidata label (english language)\"\"\")"
   ]
  },
  {
   "cell_type": "code",
   "execution_count": 52,
   "id": "c916794f-ea83-4766-b318-de1a396ed799",
   "metadata": {},
   "outputs": [],
   "source": [
    "add_variable_metadata(countries_regions, \"legacy_country_id\", \"Legacy OWID country table id\", \"\"\"Used for matching legacy data that contained ids from the Our World In Data mysql country_name_tool_countrydata table\"\"\")"
   ]
  },
  {
   "cell_type": "code",
   "execution_count": 53,
   "id": "11bf30ca-8f0b-433a-a399-a6536b365a9d",
   "metadata": {},
   "outputs": [],
   "source": [
    "add_variable_metadata(countries_regions, \"legacy_entity_id\", \"Legacy OWID entity table id\", \"\"\"Used for matching legacy data that contained ids from the Our World In Data mysql entity table\"\"\")"
   ]
  },
  {
   "cell_type": "code",
   "execution_count": 54,
   "id": "246ec521-a4be-4c91-84f9-fdc3d3edf94a",
   "metadata": {},
   "outputs": [],
   "source": [
    "add_variable_metadata(countries_regions, \"members\", \"List of members of each region/country\", \"\"\"An optional json encoded array of strings referencing other rows in this table by 'code'. Rows that have entries here are understood to 'contain' other entries, e.g. continents list the contained countries or a country could list the contained subnational regions. \"\"\")"
   ]
  },
  {
   "cell_type": "code",
   "execution_count": 55,
   "id": "7ed61029-577f-4869-ac73-a4bac49b6f36",
   "metadata": {},
   "outputs": [],
   "source": [
    "countries_regions.metadata.name = \"countries-regions\"\n",
    "countries_regions.metadata.title = \"Countries and regions\"\n",
    "countries_regions.metadata.description = \"Our World In Data countries and geo-regions harmonisation dataset. Contains various identifiers for all current sovereign nations, overseas territories, some historic countries as well as common groupings like continents like world\",\n"
   ]
  },
  {
   "cell_type": "code",
   "execution_count": 56,
   "id": "60566543-70cf-48f7-8c5f-e0c06936e49f",
   "metadata": {},
   "outputs": [],
   "source": [
    "ds = Dataset.create_empty(\"../reference\")"
   ]
  },
  {
   "cell_type": "code",
   "execution_count": 57,
   "id": "fbc70c54-f800-4097-911c-01d075ce1036",
   "metadata": {},
   "outputs": [],
   "source": [
    "ds.add(countries_regions)"
   ]
  },
  {
   "cell_type": "code",
   "execution_count": 58,
   "id": "af2fd999-74f7-43d1-9f4a-ad3e446bc9bc",
   "metadata": {},
   "outputs": [
    {
     "data": {
      "text/plain": [
       "VariableMeta(title='PENN world table country code', description='Country code for the PENN World Talbe project by the University of Groningen', sources=[], licenses=[])"
      ]
     },
     "execution_count": 58,
     "metadata": {},
     "output_type": "execute_result"
    }
   ],
   "source": [
    "countries_regions.penn_code.metadata"
   ]
  },
  {
   "cell_type": "code",
   "execution_count": 28,
   "id": "266fa4a7-92b5-4401-aaca-ec964b8f008e",
   "metadata": {},
   "outputs": [],
   "source": [
    "ds.metadata.name = \"owid-reference\"\n",
    "ds.metadata.description = \"\"\"Our World In Data reference datasets. These datasets define the vocabulary for important dimensions that we harmonized across different datasets. \n",
    "Every table represents the vocabulary for one dimensions and can include additional columns like third party identifiers, hierarchical grouping etc.\"\"\""
   ]
  },
  {
   "cell_type": "code",
   "execution_count": 29,
   "id": "3fb75877-7fa6-4ddc-a99c-1ac891171972",
   "metadata": {},
   "outputs": [],
   "source": [
    "ds.save()"
   ]
  },
  {
   "cell_type": "code",
   "execution_count": 30,
   "id": "f6e1f39b-adb2-4f11-ae10-068bfe39c376",
   "metadata": {},
   "outputs": [],
   "source": [
    "readme_text = \"\"\"# Countries and regions\n",
    "\n",
    "This dataset is used for harmonizing countries and world regions across datasets. The columns are mostly \n",
    "identifiers from various sources that can be helpful in linking data. The main \n",
    "\"\"\""
   ]
  },
  {
   "cell_type": "code",
   "execution_count": null,
   "id": "4dfe8c42-9261-4e42-a98b-77d6f49f1bab",
   "metadata": {},
   "outputs": [],
   "source": []
  }
 ],
 "metadata": {
  "kernelspec": {
   "display_name": "Python 3",
   "language": "python",
   "name": "python3"
  },
  "language_info": {
   "codemirror_mode": {
    "name": "ipython",
    "version": 3
   },
   "file_extension": ".py",
   "mimetype": "text/x-python",
   "name": "python",
   "nbconvert_exporter": "python",
   "pygments_lexer": "ipython3",
   "version": "3.9.1"
  }
 },
 "nbformat": 4,
 "nbformat_minor": 5
}
