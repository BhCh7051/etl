{
 "cells": [
  {
   "cell_type": "code",
   "execution_count": 8,
   "id": "950c654b-c617-4df5-853e-6294b238cca1",
   "metadata": {},
   "outputs": [],
   "source": [
    "from etl.datasets import Dataset\n",
    "from etl.meta import *\n",
    "from etl.variables import Variable\n",
    "from etl.tables import Table"
   ]
  },
  {
   "cell_type": "code",
   "execution_count": null,
   "id": "8020968d-de2b-4229-978b-9a50a7a92a45",
   "metadata": {},
   "outputs": [],
   "source": []
  },
  {
   "cell_type": "code",
   "execution_count": 1,
   "id": "12367c71-19d6-4af7-b073-0f9e00a7f711",
   "metadata": {},
   "outputs": [],
   "source": [
    "df = pd.read_feather(\"entities/04-countries-with-continents.feather\")"
   ]
  },
  {
   "cell_type": "code",
   "execution_count": 2,
   "id": "23be96bd-05e6-447d-a80a-74babc28e81c",
   "metadata": {},
   "outputs": [
    {
     "data": {
      "text/plain": [
       "Index(['code', 'name', 'iso_alpha2', 'iso_alpha3', 'imf_code', 'cow_letter',\n",
       "       'cow_code', 'unctad_code', 'marc_code', 'ncd_code', 'kansas_code',\n",
       "       'penn_code', 'wikidata_uri', 'wikidata_label', 'legacy_entity_id',\n",
       "       'legacy_country_id', 'members'],\n",
       "      dtype='object')"
      ]
     },
     "execution_count": 2,
     "metadata": {},
     "output_type": "execute_result"
    }
   ],
   "source": [
    "df.columns"
   ]
  },
  {
   "cell_type": "code",
   "execution_count": 3,
   "id": "722e386c-9ebe-41a8-adfe-2eb694124452",
   "metadata": {},
   "outputs": [],
   "source": [
    "variable_metadata = dict()"
   ]
  },
  {
   "cell_type": "code",
   "execution_count": 4,
   "id": "3e4ce01c-77a6-46df-bc78-b64bb0640cf8",
   "metadata": {},
   "outputs": [],
   "source": [
    "def add_variable_metadata(metadata_dict: dict, column_name: str, title: str, description: str) -> None:\n",
    "    variable_metadata[column_name] = {\n",
    "        \"slug\": column_name,\n",
    "        \"title\": title,\n",
    "        \"description\": description\n",
    "    }"
   ]
  },
  {
   "cell_type": "code",
   "execution_count": 5,
   "id": "85dbe820-91ff-4741-89c0-1f81e6bf0d82",
   "metadata": {},
   "outputs": [],
   "source": [
    "add_variable_metadata(variable_metadata, \"code\", \"OWID geo code\",\n",
    "                      \"\"\"The primary identifier for geographic entities at Our World In Data. Based on ISO alpha 3 country codes but extended with custom identifiers where necessary.\"\"\")"
   ]
  },
  {
   "cell_type": "code",
   "execution_count": 7,
   "id": "34c44473-196c-48e1-8785-93f0e204d1bb",
   "metadata": {},
   "outputs": [],
   "source": [
    "add_variable_metadata(variable_metadata, \"name\", \"Name\", \"\"\"The preferred name for a country/region\"\"\")"
   ]
  },
  {
   "cell_type": "code",
   "execution_count": 8,
   "id": "97842f0c-b8c6-406f-a81e-95d5e4ef3061",
   "metadata": {},
   "outputs": [],
   "source": [
    "add_variable_metadata(variable_metadata, \"iso_alpha2\", \"ISO 3166-1 alpha-2 code\", \"\"\"International 2 letter ISO country code\"\"\")"
   ]
  },
  {
   "cell_type": "code",
   "execution_count": 9,
   "id": "40ee9293-545c-4020-9528-35cdf1e0467c",
   "metadata": {},
   "outputs": [],
   "source": [
    "add_variable_metadata(variable_metadata, \"iso_alpha3\", \"ISO 3166-1 alpha-3 code\", \"\"\"International 3 letter ISO country code\"\"\")"
   ]
  },
  {
   "cell_type": "code",
   "execution_count": 10,
   "id": "b605f33c-5310-4a65-b819-34c386534e5e",
   "metadata": {},
   "outputs": [],
   "source": [
    "add_variable_metadata(variable_metadata, \"imf_code\", \"IMF code\", \"\"\"IMF country code\"\"\")"
   ]
  },
  {
   "cell_type": "code",
   "execution_count": 11,
   "id": "ec51e7c3-b150-40c6-a561-b90c1f22aace",
   "metadata": {},
   "outputs": [],
   "source": [
    "add_variable_metadata(variable_metadata, \"cow_letter\", \"Correlates of War country code\", \"\"\"Correlates of War project country code (StateAbb)\"\"\")"
   ]
  },
  {
   "cell_type": "code",
   "execution_count": 12,
   "id": "133bf757-5f59-4fdc-88fc-69d6087167ee",
   "metadata": {},
   "outputs": [],
   "source": [
    "add_variable_metadata(variable_metadata, \"cow_code\", \"Correlates of War country id\", \"\"\"Correlates of War project country identifier (CCode)\"\"\")"
   ]
  },
  {
   "cell_type": "code",
   "execution_count": 13,
   "id": "e0267652-7374-4d83-9516-dd02d3a4fb77",
   "metadata": {},
   "outputs": [],
   "source": [
    "add_variable_metadata(variable_metadata, \"unctad_code\", \"UN CTAD code\", \"\"\"United Nations Conference on Trade and Development country code\"\"\")"
   ]
  },
  {
   "cell_type": "code",
   "execution_count": 14,
   "id": "3ac7c673-c012-4bff-a354-6d0c58ba0a99",
   "metadata": {},
   "outputs": [],
   "source": [
    "add_variable_metadata(variable_metadata, \"marc_code\", \"MARC code\", \"\"\"Library of Congress MARC project country code\"\"\")"
   ]
  },
  {
   "cell_type": "code",
   "execution_count": 15,
   "id": "43fdac8d-a353-4e71-91ba-6f2623994853",
   "metadata": {},
   "outputs": [],
   "source": [
    "add_variable_metadata(variable_metadata, \"kansas_code\", \"kansas_code\", \"\"\"\"\"\")"
   ]
  },
  {
   "cell_type": "code",
   "execution_count": 16,
   "id": "a7c867c3-7762-4b78-852b-57dc5eb86bf9",
   "metadata": {},
   "outputs": [],
   "source": [
    "add_variable_metadata(variable_metadata, \"penn_code\", \"PENN world table country code\", \"\"\"Country code for the PENN World Talbe project by the University of Groningen\"\"\")"
   ]
  },
  {
   "cell_type": "code",
   "execution_count": 17,
   "id": "06c78275-7f1b-4e46-995f-28845325fada",
   "metadata": {},
   "outputs": [],
   "source": [
    "add_variable_metadata(variable_metadata, \"wikidata_uri\", \"Wikidata id\", \"\"\"The Wikidata identifier for this country/region\"\"\")"
   ]
  },
  {
   "cell_type": "code",
   "execution_count": 18,
   "id": "7d577a16-c554-4b8f-b9c0-ca265d3f5cec",
   "metadata": {},
   "outputs": [],
   "source": [
    "add_variable_metadata(variable_metadata, \"wikidata_label\", \"Wikidata label\", \"\"\"The Wikidata label (english language)\"\"\")"
   ]
  },
  {
   "cell_type": "code",
   "execution_count": 19,
   "id": "c916794f-ea83-4766-b318-de1a396ed799",
   "metadata": {},
   "outputs": [],
   "source": [
    "add_variable_metadata(variable_metadata, \"legacy_country_id\", \"Legacy OWID country table id\", \"\"\"Used for matching legacy data that contained ids from the Our World In Data mysql country_name_tool_countrydata table\"\"\")"
   ]
  },
  {
   "cell_type": "code",
   "execution_count": 20,
   "id": "11bf30ca-8f0b-433a-a399-a6536b365a9d",
   "metadata": {},
   "outputs": [],
   "source": [
    "add_variable_metadata(variable_metadata, \"legacy_entity_id\", \"Legacy OWID entity table id\", \"\"\"Used for matching legacy data that contained ids from the Our World In Data mysql entity table\"\"\")"
   ]
  },
  {
   "cell_type": "code",
   "execution_count": 23,
   "id": "246ec521-a4be-4c91-84f9-fdc3d3edf94a",
   "metadata": {},
   "outputs": [],
   "source": [
    "add_variable_metadata(variable_metadata, \"members\", \"List of members of each region/country\", \"\"\"An optional json encoded array of strings referencing other rows in this table by 'code'. Rows that have entries here are understood to 'contain' other entries, e.g. continents list the contained countries or a country could list the contained subnational regions. \"\"\")"
   ]
  },
  {
   "cell_type": "code",
   "execution_count": 24,
   "id": "7ed61029-577f-4869-ac73-a4bac49b6f36",
   "metadata": {},
   "outputs": [],
   "source": [
    "datatable_metadata = {\n",
    "    \"slug\": \"countries-regions\",\n",
    "    \"title\": \"Countries and regions\",\n",
    "    \"description\": \"Our World In Data countries and geo-regions harmonisation dataset. Contains various identifiers for all current sovereign nations, overseas territories, some historic countries as well as common groupings like continents like world\",\n",
    "    \"license\": \"CC-BY-4.0\"\n",
    "}"
   ]
  },
  {
   "cell_type": "markdown",
   "id": "a71fbcc3-4195-4869-aa43-ff93866012d5",
   "metadata": {},
   "source": [
    "Metadata todo:\n",
    "* Identify primary key column\n",
    "* Add data types?"
   ]
  },
  {
   "cell_type": "code",
   "execution_count": null,
   "id": "f6e1f39b-adb2-4f11-ae10-068bfe39c376",
   "metadata": {},
   "outputs": [],
   "source": [
    "readme_text = \"\"\"# Countries and regions\n",
    "\n",
    "This dataset is used for harmonizing countries and world regions across datasets. The columns are mostly \n",
    "identifiers from various sources that can be helpful in linking data. The main \n",
    "\"\"\""
   ]
  },
  {
   "cell_type": "code",
   "execution_count": null,
   "id": "4dfe8c42-9261-4e42-a98b-77d6f49f1bab",
   "metadata": {},
   "outputs": [],
   "source": []
  }
 ],
 "metadata": {
  "kernelspec": {
   "display_name": "Python 3",
   "language": "python",
   "name": "python3"
  },
  "language_info": {
   "codemirror_mode": {
    "name": "ipython",
    "version": 3
   },
   "file_extension": ".py",
   "mimetype": "text/x-python",
   "name": "python",
   "nbconvert_exporter": "python",
   "pygments_lexer": "ipython3",
   "version": "3.9.1"
  }
 },
 "nbformat": 4,
 "nbformat_minor": 5
}
